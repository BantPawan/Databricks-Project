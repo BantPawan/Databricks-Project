{
 "cells": [
  {
   "cell_type": "code",
   "execution_count": 0,
   "metadata": {
    "application/vnd.databricks.v1+cell": {
     "cellMetadata": {
      "byteLimit": 2048000,
      "rowLimit": 10000
     },
     "inputWidgets": {},
     "nuid": "dbf46c16-c857-40b6-8540-472001bc2df9",
     "showTitle": false,
     "tableResultSettingsMap": {},
     "title": ""
    }
   },
   "outputs": [
    {
     "output_type": "stream",
     "name": "stdout",
     "output_type": "stream",
     "text": [
      "root\n |-- tpep_pickup_datetime: timestamp_ntz (nullable = true)\n |-- tpep_dropoff_datetime: timestamp_ntz (nullable = true)\n |-- PULocationID: long (nullable = true)\n |-- DOLocationID: long (nullable = true)\n |-- passenger_count: double (nullable = true)\n |-- trip_distance: double (nullable = true)\n |-- payment_type: long (nullable = true)\n |-- fare_amount: double (nullable = true)\n |-- tolls_amount: double (nullable = true)\n |-- improvement_surcharge: double (nullable = true)\n |-- total_amount: double (nullable = true)\n |-- month: string (nullable = false)\n |-- trip_duration: double (nullable = true)\n |-- pickup_day_of_week: integer (nullable = true)\n |-- pickup_hour: integer (nullable = true)\n\n"
     ]
    },
    {
     "output_type": "display_data",
     "data": {
      "text/html": [
       "<style scoped>\n",
       "  .table-result-container {\n",
       "    max-height: 300px;\n",
       "    overflow: auto;\n",
       "  }\n",
       "  table, th, td {\n",
       "    border: 1px solid black;\n",
       "    border-collapse: collapse;\n",
       "  }\n",
       "  th, td {\n",
       "    padding: 5px;\n",
       "  }\n",
       "  th {\n",
       "    text-align: left;\n",
       "  }\n",
       "</style><div class='table-result-container'><table class='table-result'><thead style='background-color: white'><tr><th>tpep_pickup_datetime</th><th>tpep_dropoff_datetime</th><th>PULocationID</th><th>DOLocationID</th><th>passenger_count</th><th>trip_distance</th><th>payment_type</th><th>fare_amount</th><th>tolls_amount</th><th>improvement_surcharge</th><th>total_amount</th><th>month</th><th>trip_duration</th><th>pickup_day_of_week</th><th>pickup_hour</th></tr></thead><tbody><tr><td>2023-01-01T00:32:10Z</td><td>2023-01-01T00:40:36Z</td><td>161</td><td>141</td><td>1</td><td>0.97</td><td>2</td><td>9.3</td><td>0.0</td><td>1.0</td><td>14.3</td><td>01.parq</td><td>8.433333</td><td>1</td><td>0</td></tr><tr><td>2023-01-01T00:55:08Z</td><td>2023-01-01T01:01:27Z</td><td>43</td><td>237</td><td>1</td><td>1.1</td><td>1</td><td>7.9</td><td>0.0</td><td>1.0</td><td>16.9</td><td>01.parq</td><td>6.3166666</td><td>1</td><td>0</td></tr><tr><td>2023-01-01T00:25:04Z</td><td>2023-01-01T00:37:49Z</td><td>48</td><td>238</td><td>1</td><td>2.51</td><td>1</td><td>14.9</td><td>0.0</td><td>1.0</td><td>34.9</td><td>01.parq</td><td>12.75</td><td>1</td><td>0</td></tr><tr><td>2023-01-01T00:03:48Z</td><td>2023-01-01T00:13:25Z</td><td>138</td><td>7</td><td>0</td><td>1.9</td><td>1</td><td>12.1</td><td>0.0</td><td>1.0</td><td>20.85</td><td>01.parq</td><td>9.616667</td><td>1</td><td>0</td></tr><tr><td>2023-01-01T00:10:29Z</td><td>2023-01-01T00:21:19Z</td><td>107</td><td>79</td><td>1</td><td>1.43</td><td>1</td><td>11.4</td><td>0.0</td><td>1.0</td><td>19.68</td><td>01.parq</td><td>10.833333</td><td>1</td><td>0</td></tr></tbody></table></div>"
      ]
     },
     "metadata": {
      "application/vnd.databricks.v1+output": {
       "addedWidgets": {},
       "aggData": [],
       "aggError": "",
       "aggOverflow": false,
       "aggSchema": [],
       "aggSeriesLimitReached": false,
       "aggType": "",
       "arguments": {},
       "columnCustomDisplayInfos": {},
       "data": [
        [
         "2023-01-01T00:32:10Z",
         "2023-01-01T00:40:36Z",
         161,
         141,
         1,
         0.97,
         "2",
         9.3,
         0.0,
         1.0,
         14.3,
         "01.parq",
         8.433333,
         1,
         0
        ],
        [
         "2023-01-01T00:55:08Z",
         "2023-01-01T01:01:27Z",
         43,
         237,
         1,
         1.1,
         "1",
         7.9,
         0.0,
         1.0,
         16.9,
         "01.parq",
         6.3166666,
         1,
         0
        ],
        [
         "2023-01-01T00:25:04Z",
         "2023-01-01T00:37:49Z",
         48,
         238,
         1,
         2.51,
         "1",
         14.9,
         0.0,
         1.0,
         34.9,
         "01.parq",
         12.75,
         1,
         0
        ],
        [
         "2023-01-01T00:03:48Z",
         "2023-01-01T00:13:25Z",
         138,
         7,
         0,
         1.9,
         "1",
         12.1,
         0.0,
         1.0,
         20.85,
         "01.parq",
         9.616667,
         1,
         0
        ],
        [
         "2023-01-01T00:10:29Z",
         "2023-01-01T00:21:19Z",
         107,
         79,
         1,
         1.43,
         "1",
         11.4,
         0.0,
         1.0,
         19.68,
         "01.parq",
         10.833333,
         1,
         0
        ]
       ],
       "datasetInfos": [],
       "dbfsResultPath": null,
       "isJsonSchema": true,
       "metadata": {},
       "overflow": false,
       "plotOptions": {
        "customPlotOptions": {},
        "displayType": "table",
        "pivotAggregation": null,
        "pivotColumns": null,
        "xColumns": null,
        "yColumns": null
       },
       "removedWidgets": [],
       "schema": [
        {
         "metadata": "{}",
         "name": "tpep_pickup_datetime",
         "type": "\"timestamp\""
        },
        {
         "metadata": "{}",
         "name": "tpep_dropoff_datetime",
         "type": "\"timestamp\""
        },
        {
         "metadata": "{}",
         "name": "PULocationID",
         "type": "\"integer\""
        },
        {
         "metadata": "{}",
         "name": "DOLocationID",
         "type": "\"integer\""
        },
        {
         "metadata": "{}",
         "name": "passenger_count",
         "type": "\"integer\""
        },
        {
         "metadata": "{}",
         "name": "trip_distance",
         "type": "\"float\""
        },
        {
         "metadata": "{}",
         "name": "payment_type",
         "type": "\"string\""
        },
        {
         "metadata": "{}",
         "name": "fare_amount",
         "type": "\"float\""
        },
        {
         "metadata": "{}",
         "name": "tolls_amount",
         "type": "\"float\""
        },
        {
         "metadata": "{}",
         "name": "improvement_surcharge",
         "type": "\"float\""
        },
        {
         "metadata": "{}",
         "name": "total_amount",
         "type": "\"float\""
        },
        {
         "metadata": "{}",
         "name": "month",
         "type": "\"string\""
        },
        {
         "metadata": "{}",
         "name": "trip_duration",
         "type": "\"float\""
        },
        {
         "metadata": "{}",
         "name": "pickup_day_of_week",
         "type": "\"integer\""
        },
        {
         "metadata": "{}",
         "name": "pickup_hour",
         "type": "\"integer\""
        }
       ],
       "type": "table"
      }
     },
     "output_type": "display_data"
    }
   ],
   "source": [
    "from pyspark.sql import SparkSession\n",
    "from pyspark.sql.functions import lit, unix_timestamp, dayofweek, hour\n",
    "from pyspark.sql.types import StructType, StructField, TimestampType, IntegerType, FloatType, StringType\n",
    "\n",
    "# Create a Spark session\n",
    "spark = SparkSession.builder \\\n",
    "    .appName(\"NYC Taxi Trip Data Analysis\") \\\n",
    "    .getOrCreate()\n",
    "    \n",
    "# Define paths\n",
    "folder_path = \"dbfs:/FileStore/tables/\"  # Folder where files are stored\n",
    "delta_path = \"dbfs:/FileStore/tables/nyc_taxi_data_delta/\"  # Destination Delta path\n",
    "\n",
    "# Generate a list of parquet files for each month of 2023 with the updated filename format\n",
    "months = [f\"yellow_tripdata_2023_{str(i).zfill(2)}.parquet\" for i in range(1, 13)]\n",
    "\n",
    "# Load the first month's data with all necessary columns\n",
    "trip_data = spark.read.parquet(folder_path + months[0]) \\\n",
    "                      .select(\"tpep_pickup_datetime\", \"tpep_dropoff_datetime\", \n",
    "                              \"PULocationID\", \"DOLocationID\", \n",
    "                              \"passenger_count\", \"trip_distance\", \n",
    "                              \"payment_type\", \"fare_amount\", \n",
    "                              \"tolls_amount\", \"improvement_surcharge\", \n",
    "                              \"total_amount\") \\\n",
    "                      .withColumn(\"month\", lit(months[0][21:28])) \\\n",
    "                      .withColumn(\"trip_duration\", \n",
    "                                  (unix_timestamp(\"tpep_dropoff_datetime\") - unix_timestamp(\"tpep_pickup_datetime\")) / 60) \\\n",
    "                      .withColumn(\"pickup_day_of_week\", dayofweek(\"tpep_pickup_datetime\")) \\\n",
    "                      .withColumn(\"pickup_hour\", hour(\"tpep_pickup_datetime\"))\n",
    "\n",
    "# Union the rest of the months\n",
    "for month in months[1:]:\n",
    "    temp_df = spark.read.parquet(folder_path + month) \\\n",
    "                        .select(\"tpep_pickup_datetime\", \"tpep_dropoff_datetime\", \n",
    "                                \"PULocationID\", \"DOLocationID\", \n",
    "                                \"passenger_count\", \"trip_distance\", \n",
    "                                \"payment_type\", \"fare_amount\", \n",
    "                                \"tolls_amount\", \"improvement_surcharge\", \n",
    "                                \"total_amount\") \\\n",
    "                        .withColumn(\"month\", lit(month[21:28])) \\\n",
    "                        .withColumn(\"trip_duration\", \n",
    "                                    (unix_timestamp(\"tpep_dropoff_datetime\") - unix_timestamp(\"tpep_pickup_datetime\")) / 60) \\\n",
    "                        .withColumn(\"pickup_day_of_week\", dayofweek(\"tpep_pickup_datetime\")) \\\n",
    "                        .withColumn(\"pickup_hour\", hour(\"tpep_pickup_datetime\"))\n",
    "    \n",
    "    # Union the new month's data with the existing data\n",
    "    trip_data = trip_data.union(temp_df)\n",
    "\n",
    "# Check the schema and data types\n",
    "trip_data.printSchema()\n",
    "\n",
    "# Convert data types if necessary\n",
    "nyc_taxi_df = trip_data \\\n",
    "    .withColumn(\"tpep_pickup_datetime\", trip_data[\"tpep_pickup_datetime\"].cast(TimestampType())) \\\n",
    "    .withColumn(\"tpep_dropoff_datetime\", trip_data[\"tpep_dropoff_datetime\"].cast(TimestampType())) \\\n",
    "    .withColumn(\"PULocationID\", trip_data[\"PULocationID\"].cast(IntegerType())) \\\n",
    "    .withColumn(\"DOLocationID\", trip_data[\"DOLocationID\"].cast(IntegerType())) \\\n",
    "    .withColumn(\"passenger_count\", trip_data[\"passenger_count\"].cast(IntegerType())) \\\n",
    "    .withColumn(\"trip_distance\", trip_data[\"trip_distance\"].cast(FloatType())) \\\n",
    "    .withColumn(\"payment_type\", trip_data[\"payment_type\"].cast(StringType())) \\\n",
    "    .withColumn(\"fare_amount\", trip_data[\"fare_amount\"].cast(FloatType())) \\\n",
    "    .withColumn(\"tolls_amount\", trip_data[\"tolls_amount\"].cast(FloatType())) \\\n",
    "    .withColumn(\"improvement_surcharge\", trip_data[\"improvement_surcharge\"].cast(FloatType())) \\\n",
    "    .withColumn(\"total_amount\", trip_data[\"total_amount\"].cast(FloatType())) \\\n",
    "    .withColumn(\"month\", trip_data[\"month\"].cast(StringType())) \\\n",
    "    .withColumn(\"trip_duration\", trip_data[\"trip_duration\"].cast(FloatType())) \\\n",
    "    .withColumn(\"pickup_day_of_week\", trip_data[\"pickup_day_of_week\"].cast(IntegerType())) \\\n",
    "    .withColumn(\"pickup_hour\", trip_data[\"pickup_hour\"].cast(IntegerType()))\n",
    "\n",
    "# Check the first few rows to verify\n",
    "display(nyc_taxi_df.limit(5))"
   ]
  },
  {
   "cell_type": "code",
   "execution_count": 0,
   "metadata": {
    "application/vnd.databricks.v1+cell": {
     "cellMetadata": {
      "byteLimit": 2048000,
      "rowLimit": 10000
     },
     "inputWidgets": {},
     "nuid": "3a589b9d-7527-4eee-8690-b09706850177",
     "showTitle": false,
     "tableResultSettingsMap": {},
     "title": ""
    }
   },
   "outputs": [],
   "source": [
    "\n",
    "# Write the combined DataFrame in Delta Lake format\n",
    "nyc_taxi_df.write.format(\"delta\").mode(\"overwrite\").save(delta_path)"
   ]
  },
  {
   "cell_type": "code",
   "execution_count": 0,
   "metadata": {
    "application/vnd.databricks.v1+cell": {
     "cellMetadata": {
      "byteLimit": 2048000,
      "rowLimit": 10000
     },
     "inputWidgets": {},
     "nuid": "960c11d8-4a37-4fe9-8802-eafd01788870",
     "showTitle": false,
     "tableResultSettingsMap": {},
     "title": ""
    }
   },
   "outputs": [
    {
     "output_type": "stream",
     "name": "stdout",
     "output_type": "stream",
     "text": [
      "+--------------------+---------------------+------------+------------+---------------+-------------+------------+-----------+------------+---------------------+------------+-------+-------------+------------------+-----------+\n|tpep_pickup_datetime|tpep_dropoff_datetime|PULocationID|DOLocationID|passenger_count|trip_distance|payment_type|fare_amount|tolls_amount|improvement_surcharge|total_amount|  month|trip_duration|pickup_day_of_week|pickup_hour|\n+--------------------+---------------------+------------+------------+---------------+-------------+------------+-----------+------------+---------------------+------------+-------+-------------+------------------+-----------+\n| 2023-05-01 00:33:13|  2023-05-01 00:53:01|         138|          43|              0|          7.8|           1|       33.8|         0.0|                  1.0|       51.65|05.parq|         19.8|                 2|          0|\n| 2023-05-01 00:42:49|  2023-05-01 01:11:18|         138|         262|              2|          8.1|           1|       35.9|         0.0|                  1.0|       57.15|05.parq|    28.483334|                 2|          0|\n| 2023-05-01 00:56:34|  2023-05-01 01:13:39|         138|         141|              2|          9.1|           1|       35.2|        6.55|                  1.0|        64.2|05.parq|    17.083334|                 2|          0|\n| 2023-05-01 00:00:52|  2023-05-01 00:20:12|         138|         140|              1|         8.21|           1|       33.1|         0.0|                  1.0|       47.09|05.parq|    19.333334|                 2|          0|\n| 2023-05-01 00:05:50|  2023-05-01 00:19:41|         138|         263|              0|          7.9|           1|       31.0|        6.55|                  1.0|       59.15|05.parq|        13.85|                 2|          0|\n| 2023-05-01 00:42:54|  2023-05-01 01:04:49|         138|         246|              0|         10.4|           1|       42.2|        6.55|                  1.0|        69.0|05.parq|    21.916666|                 2|          0|\n| 2023-05-01 00:50:34|  2023-05-01 01:12:09|         138|         116|              1|         9.05|           1|       38.0|        6.55|                  1.0|       64.56|05.parq|    21.583334|                 2|          0|\n| 2023-05-01 00:13:58|  2023-05-01 00:18:10|         161|          48|              1|          0.7|           1|        6.5|         0.0|                  1.0|       14.35|05.parq|          4.2|                 2|          0|\n| 2023-04-30 23:48:31|  2023-04-30 23:57:35|         249|         231|              1|         2.38|           2|       12.1|         0.0|                  1.0|        17.1|05.parq|     9.066667|                 1|         23|\n| 2023-05-01 00:28:47|  2023-05-01 00:39:33|         114|         230|              1|         2.92|           2|       14.9|         0.0|                  1.0|        19.9|05.parq|    10.766666|                 2|          0|\n| 2023-05-01 00:18:49|  2023-05-01 00:43:41|         138|          13|              1|        14.29|           1|       54.1|         0.0|                  1.0|       78.67|05.parq|    24.866667|                 2|          0|\n| 2023-05-01 00:52:48|  2023-05-01 01:17:35|         132|         129|              1|         11.3|           1|       45.0|         0.0|                  1.0|        53.5|05.parq|    24.783333|                 2|          0|\n| 2023-05-01 00:55:22|  2023-05-01 00:58:20|         230|         100|              1|         1.19|           1|        7.2|         0.0|                  1.0|       14.64|05.parq|    2.9666667|                 2|          0|\n| 2023-05-01 00:28:12|  2023-05-01 00:36:09|         170|         140|              1|          2.3|           1|       12.1|         0.0|                  1.0|        19.1|05.parq|         7.95|                 2|          0|\n| 2023-05-01 00:04:27|  2023-05-01 00:26:38|         138|         181|              2|        12.81|           1|       49.9|         0.0|                  1.0|       76.89|05.parq|    22.183332|                 2|          0|\n| 2023-05-01 00:07:05|  2023-05-01 00:08:45|         107|         170|              1|          0.6|           3|        4.4|         0.0|                  1.0|         9.4|05.parq|    1.6666666|                 2|          0|\n| 2023-05-01 00:30:56|  2023-05-01 00:36:33|         162|         236|              1|          1.9|           1|       10.0|         0.0|                  1.0|       17.25|05.parq|     5.616667|                 2|          0|\n| 2023-05-01 00:47:34|  2023-05-01 01:17:55|         132|          37|              1|        17.45|           1|       67.4|         0.0|                  1.0|       83.88|05.parq|        30.35|                 2|          0|\n| 2023-05-01 00:53:26|  2023-05-01 00:57:47|         186|         100|              1|          0.6|           2|        5.8|         0.0|                  1.0|        10.8|05.parq|         4.35|                 2|          0|\n| 2023-05-01 00:34:15|  2023-05-01 00:51:43|          70|         238|              1|         8.73|           1|       35.2|        6.55|                  1.0|       69.55|05.parq|    17.466667|                 2|          0|\n+--------------------+---------------------+------------+------------+---------------+-------------+------------+-----------+------------+---------------------+------------+-------+-------------+------------------+-----------+\nonly showing top 20 rows\n\n"
     ]
    }
   ],
   "source": [
    "loaded_df = spark.read.format(\"delta\").load(delta_path)\n",
    "loaded_df.show()"
   ]
  },
  {
   "cell_type": "code",
   "execution_count": 0,
   "metadata": {
    "application/vnd.databricks.v1+cell": {
     "cellMetadata": {
      "byteLimit": 2048000,
      "rowLimit": 10000
     },
     "inputWidgets": {},
     "nuid": "7b19e143-d47b-4b39-831f-b56d19a4399b",
     "showTitle": false,
     "tableResultSettingsMap": {},
     "title": ""
    }
   },
   "outputs": [
    {
     "output_type": "stream",
     "name": "stdout",
     "output_type": "stream",
     "text": [
      "Total records: 38310226\n+-------+-----------------+------------------+------------------+------------------+------------------+------------------+------------------+---------------------+-----------------+--------+------------------+------------------+-----------------+\n|summary|     PULocationID|      DOLocationID|   passenger_count|     trip_distance|      payment_type|       fare_amount|      tolls_amount|improvement_surcharge|     total_amount|   month|     trip_duration|pickup_day_of_week|      pickup_hour|\n+-------+-----------------+------------------+------------------+------------------+------------------+------------------+------------------+---------------------+-----------------+--------+------------------+------------------+-----------------+\n|  count|         38310226|          38310226|          37000870|          38310226|          38310226|          38310226|          38310226|             38310226|         38310226|38310226|          38310226|          38310226|         38310226|\n|   mean| 165.175477403866|163.94996043615092|1.3704258575541601| 4.088946214785578|1.1845846589367548|19.522250646691788|0.5897361478186709|    0.979448727352385| 28.4619415483369|    NULL|16.716849149583666| 4.118269310131452|14.26218936949106|\n| stddev|63.99765082928038| 69.85543107793288|0.8925924372139293|241.25089911329755|0.5562739535077473| 75.72728864335443|2.2009994814336356|   0.1991462132611972|77.12820911307617|    NULL| 4564.075342994467|1.9572719041914726|5.812968433766197|\n|    min|                1|                 1|                 0|               0.0|                 0|           -1087.3|             -91.3|                 -1.0|         -1094.05| 01.parq|      -2.8248298E7|                 1|                0|\n|    max|              265|               265|                 9|         345729.44|                 5|         386983.62|            665.56|                  1.0|        386987.62| 12.parq|         10029.184|                 7|               23|\n+-------+-----------------+------------------+------------------+------------------+------------------+------------------+------------------+---------------------+-----------------+--------+------------------+------------------+-----------------+\n\n"
     ]
    }
   ],
   "source": [
    "# Display count of rows\n",
    "print(f\"Total records: {nyc_taxi_df.count()}\")\n",
    "\n",
    "# Describe dataset to get an overview of each column\n",
    "nyc_taxi_df.describe().show()\n"
   ]
  },
  {
   "cell_type": "code",
   "execution_count": 0,
   "metadata": {
    "application/vnd.databricks.v1+cell": {
     "cellMetadata": {
      "byteLimit": 2048000,
      "rowLimit": 10000
     },
     "inputWidgets": {},
     "nuid": "5ac9ef96-5225-40f7-afca-3c50bdfbd8f5",
     "showTitle": false,
     "tableResultSettingsMap": {},
     "title": ""
    }
   },
   "outputs": [],
   "source": []
  }
 ],
 "metadata": {
  "application/vnd.databricks.v1+notebook": {
   "dashboards": [],
   "environmentMetadata": null,
   "language": "python",
   "notebookMetadata": {
    "pythonIndentUnit": 4
   },
   "notebookName": "01_Data_Ingention_trip_data",
   "widgets": {}
  },
  "language_info": {
   "name": "python"
  }
 },
 "nbformat": 4,
 "nbformat_minor": 0
}
