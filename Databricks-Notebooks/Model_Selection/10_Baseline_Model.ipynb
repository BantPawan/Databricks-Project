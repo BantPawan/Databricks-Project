{
 "cells": [
  {
   "cell_type": "code",
   "execution_count": 0,
   "metadata": {
    "application/vnd.databricks.v1+cell": {
     "cellMetadata": {
      "byteLimit": 2048000,
      "rowLimit": 10000
     },
     "inputWidgets": {},
     "nuid": "32c93e1c-04b8-40bb-8b3e-02a4848e1107",
     "showTitle": false,
     "tableResultSettingsMap": {},
     "title": ""
    }
   },
   "outputs": [],
   "source": [
    "from pyspark.sql import SparkSession\n",
    "from pyspark.ml import Pipeline\n",
    "from pyspark.ml.feature import StringIndexer, OneHotEncoder, VectorAssembler, MinMaxScaler, StandardScaler\n",
    "\n",
    "# Initialize Spark session\n",
    "spark = SparkSession.builder \\\n",
    "    .appName(\"NYC Taxi Fare Prediction\") \\\n",
    "    .getOrCreate()"
   ]
  },
  {
   "cell_type": "code",
   "execution_count": 0,
   "metadata": {
    "application/vnd.databricks.v1+cell": {
     "cellMetadata": {
      "byteLimit": 2048000,
      "rowLimit": 10000
     },
     "inputWidgets": {},
     "nuid": "b1125a21-3eb6-4f1d-9b2a-e886bf85a6d1",
     "showTitle": false,
     "tableResultSettingsMap": {},
     "title": ""
    }
   },
   "outputs": [
    {
     "output_type": "display_data",
     "data": {
      "text/html": [
       "<style scoped>\n",
       "  .table-result-container {\n",
       "    max-height: 300px;\n",
       "    overflow: auto;\n",
       "  }\n",
       "  table, th, td {\n",
       "    border: 1px solid black;\n",
       "    border-collapse: collapse;\n",
       "  }\n",
       "  th, td {\n",
       "    padding: 5px;\n",
       "  }\n",
       "  th {\n",
       "    text-align: left;\n",
       "  }\n",
       "</style><div class='table-result-container'><table class='table-result'><thead style='background-color: white'><tr><th>path</th><th>name</th><th>size</th><th>modificationTime</th></tr></thead><tbody><tr><td>dbfs:/dbfs/FileStore/tables/Data_Processing_Pulic_Holiday/</td><td>Data_Processing_Pulic_Holiday/</td><td>0</td><td>1732631952441</td></tr><tr><td>dbfs:/dbfs/FileStore/tables/Eda_univariate_taxi_data/</td><td>Eda_univariate_taxi_data/</td><td>0</td><td>1732631952441</td></tr><tr><td>dbfs:/dbfs/FileStore/tables/cleaned_nyc_taxi_fare/</td><td>cleaned_nyc_taxi_fare/</td><td>0</td><td>1732631952441</td></tr><tr><td>dbfs:/dbfs/FileStore/tables/data_processed_lat_long/</td><td>data_processed_lat_long/</td><td>0</td><td>1732631952441</td></tr><tr><td>dbfs:/dbfs/FileStore/tables/data_processed_taxi_zones/</td><td>data_processed_taxi_zones/</td><td>0</td><td>1732631952441</td></tr><tr><td>dbfs:/dbfs/FileStore/tables/data_processed_trip_data/</td><td>data_processed_trip_data/</td><td>0</td><td>1732631952441</td></tr><tr><td>dbfs:/dbfs/FileStore/tables/taxi_final_df_cleaned/</td><td>taxi_final_df_cleaned/</td><td>0</td><td>1732631952441</td></tr></tbody></table></div>"
      ]
     },
     "metadata": {
      "application/vnd.databricks.v1+output": {
       "addedWidgets": {},
       "aggData": [],
       "aggError": "",
       "aggOverflow": false,
       "aggSchema": [],
       "aggSeriesLimitReached": false,
       "aggType": "",
       "arguments": {},
       "columnCustomDisplayInfos": {},
       "data": [
        [
         "dbfs:/dbfs/FileStore/tables/Data_Processing_Pulic_Holiday/",
         "Data_Processing_Pulic_Holiday/",
         0,
         1732631952441
        ],
        [
         "dbfs:/dbfs/FileStore/tables/Eda_univariate_taxi_data/",
         "Eda_univariate_taxi_data/",
         0,
         1732631952441
        ],
        [
         "dbfs:/dbfs/FileStore/tables/cleaned_nyc_taxi_fare/",
         "cleaned_nyc_taxi_fare/",
         0,
         1732631952441
        ],
        [
         "dbfs:/dbfs/FileStore/tables/data_processed_lat_long/",
         "data_processed_lat_long/",
         0,
         1732631952441
        ],
        [
         "dbfs:/dbfs/FileStore/tables/data_processed_taxi_zones/",
         "data_processed_taxi_zones/",
         0,
         1732631952441
        ],
        [
         "dbfs:/dbfs/FileStore/tables/data_processed_trip_data/",
         "data_processed_trip_data/",
         0,
         1732631952441
        ],
        [
         "dbfs:/dbfs/FileStore/tables/taxi_final_df_cleaned/",
         "taxi_final_df_cleaned/",
         0,
         1732631952441
        ]
       ],
       "datasetInfos": [],
       "dbfsResultPath": null,
       "isJsonSchema": true,
       "metadata": {},
       "overflow": false,
       "plotOptions": {
        "customPlotOptions": {},
        "displayType": "table",
        "pivotAggregation": null,
        "pivotColumns": null,
        "xColumns": null,
        "yColumns": null
       },
       "removedWidgets": [],
       "schema": [
        {
         "metadata": "{}",
         "name": "path",
         "type": "\"string\""
        },
        {
         "metadata": "{}",
         "name": "name",
         "type": "\"string\""
        },
        {
         "metadata": "{}",
         "name": "size",
         "type": "\"long\""
        },
        {
         "metadata": "{}",
         "name": "modificationTime",
         "type": "\"long\""
        }
       ],
       "type": "table"
      }
     },
     "output_type": "display_data"
    }
   ],
   "source": [
    "display(dbutils.fs.ls(\"/dbfs/FileStore/tables/\"))"
   ]
  },
  {
   "cell_type": "code",
   "execution_count": 0,
   "metadata": {
    "application/vnd.databricks.v1+cell": {
     "cellMetadata": {
      "byteLimit": 2048000,
      "rowLimit": 10000
     },
     "inputWidgets": {},
     "nuid": "0bb7cc96-f2ae-4c37-a5e4-61893fd15bbd",
     "showTitle": false,
     "tableResultSettingsMap": {},
     "title": ""
    }
   },
   "outputs": [],
   "source": [
    "taxi_df_cleaned = spark.read.format(\"delta\").load(\"/dbfs/FileStore/tables/taxi_final_df_cleaned/\")"
   ]
  },
  {
   "cell_type": "code",
   "execution_count": 0,
   "metadata": {
    "application/vnd.databricks.v1+cell": {
     "cellMetadata": {
      "byteLimit": 2048000,
      "rowLimit": 10000
     },
     "inputWidgets": {},
     "nuid": "55ac0117-d254-4038-8c83-8e4bd0d64020",
     "showTitle": false,
     "tableResultSettingsMap": {},
     "title": ""
    }
   },
   "outputs": [],
   "source": [
    "taxi_df_cleaned = taxi_df_cleaned.withColumnRenamed(\"total_amount\", \"label\")"
   ]
  },
  {
   "cell_type": "code",
   "execution_count": 0,
   "metadata": {
    "application/vnd.databricks.v1+cell": {
     "cellMetadata": {
      "byteLimit": 2048000,
      "rowLimit": 10000
     },
     "inputWidgets": {},
     "nuid": "3b98e3c1-72fb-4067-90d2-e189d41f78c5",
     "showTitle": false,
     "tableResultSettingsMap": {},
     "title": ""
    }
   },
   "outputs": [],
   "source": [
    "# Define categorical and numerical columns\n",
    "categorical_cols = [\n",
    "    'payment_type', 'pickup_day_of_week', 'pickup_month', \n",
    "    'pickup_borough', 'dropoff_borough', 'is_holiday',\n",
    "    'distance_bin', 'time_of_day_bin', 'near_airport'\n",
    "]\n",
    "standard_scaler_cols = ['trip_duration', 'label']\n",
    "minmax_scaler_cols = ['pickup_hour', 'pickup_month', 'passenger_count']"
   ]
  },
  {
   "cell_type": "code",
   "execution_count": 0,
   "metadata": {
    "application/vnd.databricks.v1+cell": {
     "cellMetadata": {
      "byteLimit": 2048000,
      "rowLimit": 10000
     },
     "inputWidgets": {},
     "nuid": "5b5fabb7-453c-4805-b3c6-5d52a10311dc",
     "showTitle": false,
     "tableResultSettingsMap": {},
     "title": ""
    }
   },
   "outputs": [],
   "source": [
    "# StringIndexer and OneHotEncoder for categorical variables\n",
    "indexers = [StringIndexer(inputCol=col, outputCol=col + \"_index\") for col in categorical_cols]\n",
    "one_hot_encoders = [OneHotEncoder(inputCol=col + \"_index\", outputCol=col + \"_ohe\") for col in categorical_cols]"
   ]
  },
  {
   "cell_type": "code",
   "execution_count": 0,
   "metadata": {
    "application/vnd.databricks.v1+cell": {
     "cellMetadata": {
      "byteLimit": 2048000,
      "rowLimit": 10000
     },
     "inputWidgets": {},
     "nuid": "4d42b550-205c-411e-bfd0-28ce10ea92c3",
     "showTitle": false,
     "tableResultSettingsMap": {},
     "title": ""
    }
   },
   "outputs": [],
   "source": [
    "# StandardScaler for selected numerical columns\n",
    "standard_assembler = VectorAssembler(inputCols=standard_scaler_cols, outputCol=\"standard_features\")\n",
    "standard_scaler = StandardScaler(inputCol=\"standard_features\", outputCol=\"standard_scaled_features\")"
   ]
  },
  {
   "cell_type": "code",
   "execution_count": 0,
   "metadata": {
    "application/vnd.databricks.v1+cell": {
     "cellMetadata": {
      "byteLimit": 2048000,
      "rowLimit": 10000
     },
     "inputWidgets": {},
     "nuid": "bdb5d132-e433-427a-8749-a0525a8c9365",
     "showTitle": false,
     "tableResultSettingsMap": {},
     "title": ""
    }
   },
   "outputs": [],
   "source": [
    "# MinMaxScaler for other numerical columns\n",
    "minmax_assembler = VectorAssembler(inputCols=minmax_scaler_cols, outputCol=\"minmax_features\")\n",
    "minmax_scaler = MinMaxScaler(inputCol=\"minmax_features\", outputCol=\"minmax_scaled_features\")"
   ]
  },
  {
   "cell_type": "code",
   "execution_count": 0,
   "metadata": {
    "application/vnd.databricks.v1+cell": {
     "cellMetadata": {
      "byteLimit": 2048000,
      "rowLimit": 10000
     },
     "inputWidgets": {},
     "nuid": "ae8b8eea-0833-47ce-b191-94cf9ea7f2e5",
     "showTitle": false,
     "tableResultSettingsMap": {},
     "title": ""
    }
   },
   "outputs": [],
   "source": [
    "# Assemble all features into a single vector column\n",
    "assembler = VectorAssembler(\n",
    "    inputCols=[col + \"_ohe\" for col in categorical_cols] + [\"standard_scaled_features\", \"minmax_scaled_features\"],\n",
    "    outputCol=\"features\"\n",
    ")"
   ]
  },
  {
   "cell_type": "code",
   "execution_count": 0,
   "metadata": {
    "application/vnd.databricks.v1+cell": {
     "cellMetadata": {
      "byteLimit": 2048000,
      "rowLimit": 10000
     },
     "inputWidgets": {},
     "nuid": "5743d9b9-0e5e-4c4b-a251-64e72ff8dbae",
     "showTitle": false,
     "tableResultSettingsMap": {},
     "title": ""
    }
   },
   "outputs": [],
   "source": [
    "# Create the preprocessing pipeline\n",
    "preprocessing_pipeline = Pipeline(stages=indexers + one_hot_encoders + [standard_assembler, standard_scaler, minmax_assembler, minmax_scaler, assembler])"
   ]
  },
  {
   "cell_type": "code",
   "execution_count": 0,
   "metadata": {
    "application/vnd.databricks.v1+cell": {
     "cellMetadata": {
      "byteLimit": 2048000,
      "rowLimit": 10000
     },
     "inputWidgets": {},
     "nuid": "b29969fe-88e0-4f3c-9c79-cda906eabcf4",
     "showTitle": false,
     "tableResultSettingsMap": {},
     "title": ""
    }
   },
   "outputs": [],
   "source": [
    "# Fit and transform the data using the preprocessing pipeline\n",
    "preprocessed_model = preprocessing_pipeline.fit(taxi_df_cleaned)\n",
    "preprocessed_df = preprocessed_model.transform(taxi_df_cleaned).select(\"features\", \"label\")"
   ]
  },
  {
   "cell_type": "code",
   "execution_count": 0,
   "metadata": {
    "application/vnd.databricks.v1+cell": {
     "cellMetadata": {
      "byteLimit": 2048000,
      "rowLimit": 10000
     },
     "inputWidgets": {},
     "nuid": "ae4b0429-a6c9-4ae4-9392-d3b0db187a08",
     "showTitle": false,
     "tableResultSettingsMap": {},
     "title": ""
    }
   },
   "outputs": [],
   "source": [
    "# Step 2: Model Training and Evaluation"
   ]
  },
  {
   "cell_type": "code",
   "execution_count": 0,
   "metadata": {
    "application/vnd.databricks.v1+cell": {
     "cellMetadata": {
      "byteLimit": 2048000,
      "rowLimit": 10000
     },
     "inputWidgets": {},
     "nuid": "2aa4771d-d2eb-47d5-b787-5b9105ce8103",
     "showTitle": false,
     "tableResultSettingsMap": {},
     "title": ""
    }
   },
   "outputs": [],
   "source": [
    "from pyspark.ml.regression import LinearRegression, DecisionTreeRegressor\n",
    "from pyspark.ml.evaluation import RegressionEvaluator\n",
    "\n",
    "# Split data into training and test sets\n",
    "train_df, test_df = preprocessed_df.randomSplit([0.8, 0.2], seed=42)"
   ]
  },
  {
   "cell_type": "code",
   "execution_count": 0,
   "metadata": {
    "application/vnd.databricks.v1+cell": {
     "cellMetadata": {
      "byteLimit": 2048000,
      "rowLimit": 10000
     },
     "inputWidgets": {},
     "nuid": "5033a705-e74f-425d-9a11-fd8573aa4046",
     "showTitle": false,
     "tableResultSettingsMap": {},
     "title": ""
    }
   },
   "outputs": [],
   "source": [
    "# Define the model (example: Linear Regression)\n",
    "lr = LinearRegression(featuresCol=\"features\", labelCol=\"label\")"
   ]
  },
  {
   "cell_type": "code",
   "execution_count": 0,
   "metadata": {
    "application/vnd.databricks.v1+cell": {
     "cellMetadata": {
      "byteLimit": 2048000,
      "rowLimit": 10000
     },
     "inputWidgets": {},
     "nuid": "4a5afb32-d528-4814-ad59-c215b3df55ef",
     "showTitle": false,
     "tableResultSettingsMap": {},
     "title": ""
    }
   },
   "outputs": [],
   "source": [
    "# Fit the model\n",
    "lr_model = lr.fit(train_df)"
   ]
  },
  {
   "cell_type": "code",
   "execution_count": 0,
   "metadata": {
    "application/vnd.databricks.v1+cell": {
     "cellMetadata": {
      "byteLimit": 2048000,
      "rowLimit": 10000
     },
     "inputWidgets": {},
     "nuid": "d3413613-f183-43e6-a5b3-401f535ffe6b",
     "showTitle": false,
     "tableResultSettingsMap": {},
     "title": ""
    }
   },
   "outputs": [],
   "source": [
    "# Make predictions\n",
    "lr_predictions = lr_model.transform(test_df)"
   ]
  },
  {
   "cell_type": "code",
   "execution_count": 0,
   "metadata": {
    "application/vnd.databricks.v1+cell": {
     "cellMetadata": {
      "byteLimit": 2048000,
      "rowLimit": 10000
     },
     "inputWidgets": {},
     "nuid": "6d29c1ae-1f7f-44a7-9bef-e87b948689ee",
     "showTitle": false,
     "tableResultSettingsMap": {},
     "title": ""
    }
   },
   "outputs": [
    {
     "output_type": "stream",
     "name": "stdout",
     "output_type": "stream",
     "text": [
      "Linear Regression - RMSE: 0.00026265852552517045, R2: 0.9999999999967644\n"
     ]
    }
   ],
   "source": [
    "# Evaluate the model\n",
    "evaluator = RegressionEvaluator(labelCol=\"label\", predictionCol=\"prediction\", metricName=\"rmse\")\n",
    "rmse = evaluator.evaluate(lr_predictions)\n",
    "r2 = evaluator.evaluate(lr_predictions, {evaluator.metricName: \"r2\"})\n",
    "\n",
    "print(f\"Linear Regression - RMSE: {rmse}, R2: {r2}\")"
   ]
  },
  {
   "cell_type": "code",
   "execution_count": 0,
   "metadata": {
    "application/vnd.databricks.v1+cell": {
     "cellMetadata": {
      "byteLimit": 2048000,
      "rowLimit": 10000
     },
     "inputWidgets": {},
     "nuid": "efeb81a7-46f4-4ef8-b591-62d05433e038",
     "showTitle": false,
     "tableResultSettingsMap": {},
     "title": ""
    }
   },
   "outputs": [],
   "source": [
    "# ---- Try a different model, e.g., Decision Tree Regressor ----\n",
    "\n",
    "# Define the Decision Tree Regressor\n",
    "dt = DecisionTreeRegressor(featuresCol=\"features\", labelCol=\"label\")"
   ]
  },
  {
   "cell_type": "code",
   "execution_count": 0,
   "metadata": {
    "application/vnd.databricks.v1+cell": {
     "cellMetadata": {
      "byteLimit": 2048000,
      "rowLimit": 10000
     },
     "inputWidgets": {},
     "nuid": "48b4efc7-c134-403f-a25e-0ec6e5abeb56",
     "showTitle": false,
     "tableResultSettingsMap": {},
     "title": ""
    }
   },
   "outputs": [],
   "source": [
    "# Fit the Decision Tree model\n",
    "dt_model = dt.fit(train_df)"
   ]
  },
  {
   "cell_type": "code",
   "execution_count": 0,
   "metadata": {
    "application/vnd.databricks.v1+cell": {
     "cellMetadata": {
      "byteLimit": 2048000,
      "rowLimit": 10000
     },
     "inputWidgets": {},
     "nuid": "e0a4ba9d-c11b-4ce2-a309-f7dfb3a6a17c",
     "showTitle": false,
     "tableResultSettingsMap": {},
     "title": ""
    }
   },
   "outputs": [],
   "source": [
    "# Make predictions\n",
    "dt_predictions = dt_model.transform(test_df)"
   ]
  },
  {
   "cell_type": "code",
   "execution_count": 0,
   "metadata": {
    "application/vnd.databricks.v1+cell": {
     "cellMetadata": {
      "byteLimit": 2048000,
      "rowLimit": 10000
     },
     "inputWidgets": {},
     "nuid": "de07c5a5-f8e0-424d-b387-be5f760c3787",
     "showTitle": false,
     "tableResultSettingsMap": {},
     "title": ""
    }
   },
   "outputs": [
    {
     "output_type": "stream",
     "name": "stdout",
     "output_type": "stream",
     "text": [
      "Decision Tree Regressor - RMSE: 144.4872225230561, R2: 0.020888291283870153\n"
     ]
    }
   ],
   "source": [
    "# Evaluate the Decision Tree model\n",
    "rmse_dt = evaluator.evaluate(dt_predictions)\n",
    "r2_dt = evaluator.evaluate(dt_predictions, {evaluator.metricName: \"r2\"})\n",
    "\n",
    "print(f\"Decision Tree Regressor - RMSE: {rmse_dt}, R2: {r2_dt}\")"
   ]
  }
 ],
 "metadata": {
  "application/vnd.databricks.v1+notebook": {
   "dashboards": [],
   "environmentMetadata": null,
   "language": "python",
   "notebookMetadata": {
    "pythonIndentUnit": 4
   },
   "notebookName": "10_Baseline_Model",
   "widgets": {}
  },
  "language_info": {
   "name": "python"
  }
 },
 "nbformat": 4,
 "nbformat_minor": 0
}
