{
 "cells": [
  {
   "cell_type": "code",
   "execution_count": 0,
   "metadata": {
    "application/vnd.databricks.v1+cell": {
     "cellMetadata": {
      "byteLimit": 2048000,
      "rowLimit": 10000
     },
     "inputWidgets": {},
     "nuid": "115ee9cc-9b3f-4d09-baca-ff327ffcf2f6",
     "showTitle": false,
     "tableResultSettingsMap": {},
     "title": ""
    }
   },
   "outputs": [
    {
     "output_type": "display_data",
     "data": {
      "text/html": [
       "<style scoped>\n",
       "  .table-result-container {\n",
       "    max-height: 300px;\n",
       "    overflow: auto;\n",
       "  }\n",
       "  table, th, td {\n",
       "    border: 1px solid black;\n",
       "    border-collapse: collapse;\n",
       "  }\n",
       "  th, td {\n",
       "    padding: 5px;\n",
       "  }\n",
       "  th {\n",
       "    text-align: left;\n",
       "  }\n",
       "</style><div class='table-result-container'><table class='table-result'><thead style='background-color: white'><tr><th>path</th><th>name</th><th>size</th><th>modificationTime</th></tr></thead><tbody><tr><td>dbfs:/dbfs/FileStore/tables/Data_Processing_Pulic_Holiday/</td><td>Data_Processing_Pulic_Holiday/</td><td>0</td><td>1732620173544</td></tr><tr><td>dbfs:/dbfs/FileStore/tables/cleaned_nyc_taxi_fare/</td><td>cleaned_nyc_taxi_fare/</td><td>0</td><td>1732620173544</td></tr><tr><td>dbfs:/dbfs/FileStore/tables/data_processed_lat_long/</td><td>data_processed_lat_long/</td><td>0</td><td>1732620173544</td></tr><tr><td>dbfs:/dbfs/FileStore/tables/data_processed_taxi_zones/</td><td>data_processed_taxi_zones/</td><td>0</td><td>1732620173544</td></tr><tr><td>dbfs:/dbfs/FileStore/tables/data_processed_trip_data/</td><td>data_processed_trip_data/</td><td>0</td><td>1732620173545</td></tr></tbody></table></div>"
      ]
     },
     "metadata": {
      "application/vnd.databricks.v1+output": {
       "addedWidgets": {},
       "aggData": [],
       "aggError": "",
       "aggOverflow": false,
       "aggSchema": [],
       "aggSeriesLimitReached": false,
       "aggType": "",
       "arguments": {},
       "columnCustomDisplayInfos": {},
       "data": [
        [
         "dbfs:/dbfs/FileStore/tables/Data_Processing_Pulic_Holiday/",
         "Data_Processing_Pulic_Holiday/",
         0,
         1732620173544
        ],
        [
         "dbfs:/dbfs/FileStore/tables/cleaned_nyc_taxi_fare/",
         "cleaned_nyc_taxi_fare/",
         0,
         1732620173544
        ],
        [
         "dbfs:/dbfs/FileStore/tables/data_processed_lat_long/",
         "data_processed_lat_long/",
         0,
         1732620173544
        ],
        [
         "dbfs:/dbfs/FileStore/tables/data_processed_taxi_zones/",
         "data_processed_taxi_zones/",
         0,
         1732620173544
        ],
        [
         "dbfs:/dbfs/FileStore/tables/data_processed_trip_data/",
         "data_processed_trip_data/",
         0,
         1732620173545
        ]
       ],
       "datasetInfos": [],
       "dbfsResultPath": null,
       "isJsonSchema": true,
       "metadata": {},
       "overflow": false,
       "plotOptions": {
        "customPlotOptions": {},
        "displayType": "table",
        "pivotAggregation": null,
        "pivotColumns": null,
        "xColumns": null,
        "yColumns": null
       },
       "removedWidgets": [],
       "schema": [
        {
         "metadata": "{}",
         "name": "path",
         "type": "\"string\""
        },
        {
         "metadata": "{}",
         "name": "name",
         "type": "\"string\""
        },
        {
         "metadata": "{}",
         "name": "size",
         "type": "\"long\""
        },
        {
         "metadata": "{}",
         "name": "modificationTime",
         "type": "\"long\""
        }
       ],
       "type": "table"
      }
     },
     "output_type": "display_data"
    }
   ],
   "source": [
    "display(dbutils.fs.ls(\"/dbfs/FileStore/tables/\"))"
   ]
  },
  {
   "cell_type": "code",
   "execution_count": 0,
   "metadata": {
    "application/vnd.databricks.v1+cell": {
     "cellMetadata": {
      "byteLimit": 2048000,
      "rowLimit": 10000
     },
     "inputWidgets": {},
     "nuid": "1613bb6a-ed80-4c1e-962a-0966edb4089d",
     "showTitle": false,
     "tableResultSettingsMap": {},
     "title": ""
    }
   },
   "outputs": [],
   "source": [
    "# Import necessary libraries\n",
    "from pyspark.sql import SparkSession\n",
    "\n",
    "# Create a Spark session\n",
    "spark = SparkSession.builder \\\n",
    "    .appName(\"NYC Taxi Fare Prediction\") \\\n",
    "    .getOrCreate()"
   ]
  },
  {
   "cell_type": "code",
   "execution_count": 0,
   "metadata": {
    "application/vnd.databricks.v1+cell": {
     "cellMetadata": {
      "byteLimit": 2048000,
      "rowLimit": 10000
     },
     "inputWidgets": {},
     "nuid": "b219cab8-43f2-4a2a-b057-1d3e9230618b",
     "showTitle": false,
     "tableResultSettingsMap": {},
     "title": ""
    }
   },
   "outputs": [],
   "source": [
    "# Load Delta table with PySpark\n",
    "taxi_df = spark.read.format(\"delta\").load(\"dbfs:/dbfs/FileStore/tables/cleaned_nyc_taxi_fare/\")"
   ]
  },
  {
   "cell_type": "code",
   "execution_count": 0,
   "metadata": {
    "application/vnd.databricks.v1+cell": {
     "cellMetadata": {
      "byteLimit": 2048000,
      "rowLimit": 10000
     },
     "inputWidgets": {},
     "nuid": "a7f4916b-2f17-41c5-acc8-5226be4818e9",
     "showTitle": false,
     "tableResultSettingsMap": {},
     "title": ""
    }
   },
   "outputs": [
    {
     "output_type": "display_data",
     "data": {
      "text/html": [
       "<style scoped>\n",
       "  .table-result-container {\n",
       "    max-height: 300px;\n",
       "    overflow: auto;\n",
       "  }\n",
       "  table, th, td {\n",
       "    border: 1px solid black;\n",
       "    border-collapse: collapse;\n",
       "  }\n",
       "  th, td {\n",
       "    padding: 5px;\n",
       "  }\n",
       "  th {\n",
       "    text-align: left;\n",
       "  }\n",
       "</style><div class='table-result-container'><table class='table-result'><thead style='background-color: white'><tr><th>DOLocationID</th><th>PULocationID</th><th>pickup_datetime</th><th>dropoff_datetime</th><th>passenger_count</th><th>trip_distance</th><th>payment_type</th><th>fare_amount</th><th>tolls_amount</th><th>improvement_surcharge</th><th>total_amount</th><th>trip_duration</th><th>pickup_day_of_week</th><th>pickup_hour</th><th>Month_Num</th><th>pickup_month</th><th>dropoff_hour</th><th>dropoff_day_of_week</th><th>dropoff_month</th><th>dropoff_week_of_year</th><th>pickup_date</th><th>pickup_time</th><th>dropoff_date</th><th>dropoff_time</th><th>pickup_latitude</th><th>pickup_longitude</th><th>dropoff_latitude</th><th>dropoff_longitude</th><th>distance_km</th><th>pickup_borough</th><th>pickup_zone</th><th>pickup_service_zone</th><th>LocationID</th><th>dropoff_borough</th><th>dropoff_zone</th><th>dropoff_service_zone</th><th>holidayName</th><th>normalizeHolidayName</th><th>is_holiday</th><th>temp</th></tr></thead><tbody><tr><td>198</td><td>132</td><td>2023-10-09T02:08:03Z</td><td>2023-10-09T02:32:05Z</td><td>3</td><td>14.2</td><td>1</td><td>54.1</td><td>0.0</td><td>1.0</td><td>63.35</td><td>24.033333</td><td>2</td><td>2</td><td>10</td><td>10</td><td>2</td><td>2</td><td>10</td><td>41</td><td>2023-10-09</td><td>02:08:03</td><td>2023-10-09</td><td>02:32:05</td><td>40.64698489239528</td><td>-73.78653298335001</td><td>40.70652679441958</td><td>-73.90170926444722</td><td>11.754718428725159</td><td>Queens</td><td>JFK Airport</td><td>Airports</td><td>198</td><td>Queens</td><td>Ridgewood</td><td>Boro Zone</td><td>Columbus Day</td><td>Columbus Day</td><td>1</td><td>26.5</td></tr><tr><td>216</td><td>132</td><td>2023-10-09T07:31:13Z</td><td>2023-10-09T07:41:36Z</td><td>2</td><td>3.75</td><td>1</td><td>17.0</td><td>0.0</td><td>1.0</td><td>23.95</td><td>10.383333</td><td>2</td><td>7</td><td>10</td><td>10</td><td>7</td><td>2</td><td>10</td><td>41</td><td>2023-10-09</td><td>07:31:13</td><td>2023-10-09</td><td>07:41:36</td><td>40.64698489239528</td><td>-73.78653298335001</td><td>40.676154037213855</td><td>-73.81945963682767</td><td>4.270088763464719</td><td>Queens</td><td>JFK Airport</td><td>Airports</td><td>216</td><td>Queens</td><td>South Ozone Park</td><td>Boro Zone</td><td>Columbus Day</td><td>Columbus Day</td><td>1</td><td>26.5</td></tr><tr><td>132</td><td>132</td><td>2023-10-09T07:04:21Z</td><td>2023-10-09T07:33:49Z</td><td>1</td><td>14.88</td><td>1</td><td>70.0</td><td>6.94</td><td>1.0</td><td>98.88</td><td>29.466667</td><td>2</td><td>7</td><td>10</td><td>10</td><td>7</td><td>2</td><td>10</td><td>41</td><td>2023-10-09</td><td>07:04:21</td><td>2023-10-09</td><td>07:33:49</td><td>40.64698489239528</td><td>-73.78653298335001</td><td>40.64698489239528</td><td>-73.78653298335001</td><td>0.0</td><td>Queens</td><td>JFK Airport</td><td>Airports</td><td>132</td><td>Queens</td><td>JFK Airport</td><td>Airports</td><td>Columbus Day</td><td>Columbus Day</td><td>1</td><td>26.5</td></tr><tr><td>232</td><td>132</td><td>2023-10-09T07:15:55Z</td><td>2023-10-09T08:09:17Z</td><td>1</td><td>17.12</td><td>1</td><td>70.0</td><td>0.0</td><td>1.0</td><td>94.25</td><td>53.366665</td><td>2</td><td>7</td><td>10</td><td>10</td><td>8</td><td>2</td><td>10</td><td>41</td><td>2023-10-09</td><td>07:15:55</td><td>2023-10-09</td><td>08:09:17</td><td>40.64698489239528</td><td>-73.78653298335001</td><td>40.71473250693941</td><td>-73.9830245583349</td><td>18.201235453317874</td><td>Queens</td><td>JFK Airport</td><td>Airports</td><td>232</td><td>Manhattan</td><td>Two Bridges/Seward Park</td><td>Yellow Zone</td><td>Columbus Day</td><td>Columbus Day</td><td>1</td><td>26.5</td></tr><tr><td>229</td><td>132</td><td>2023-10-09T09:12:56Z</td><td>2023-10-09T09:49:21Z</td><td>1</td><td>20.6</td><td>1</td><td>70.0</td><td>6.94</td><td>1.0</td><td>99.19</td><td>36.416668</td><td>2</td><td>9</td><td>10</td><td>10</td><td>9</td><td>2</td><td>10</td><td>41</td><td>2023-10-09</td><td>09:12:56</td><td>2023-10-09</td><td>09:49:21</td><td>40.64698489239528</td><td>-73.78653298335001</td><td>40.75672894163307</td><td>-73.96514579918423</td><td>19.380882456819247</td><td>Queens</td><td>JFK Airport</td><td>Airports</td><td>229</td><td>Manhattan</td><td>Sutton Place/Turtle Bay North</td><td>Yellow Zone</td><td>Columbus Day</td><td>Columbus Day</td><td>1</td><td>26.5</td></tr></tbody></table></div>"
      ]
     },
     "metadata": {
      "application/vnd.databricks.v1+output": {
       "addedWidgets": {},
       "aggData": [],
       "aggError": "",
       "aggOverflow": false,
       "aggSchema": [],
       "aggSeriesLimitReached": false,
       "aggType": "",
       "arguments": {},
       "columnCustomDisplayInfos": {},
       "data": [
        [
         198,
         132,
         "2023-10-09T02:08:03Z",
         "2023-10-09T02:32:05Z",
         3,
         14.2,
         "1",
         54.1,
         0.0,
         1.0,
         63.35,
         24.033333,
         2,
         2,
         10,
         10,
         2,
         2,
         10,
         41,
         "2023-10-09",
         "02:08:03",
         "2023-10-09",
         "02:32:05",
         40.64698489239528,
         -73.78653298335001,
         40.70652679441958,
         -73.90170926444722,
         11.754718428725159,
         "Queens",
         "JFK Airport",
         "Airports",
         198,
         "Queens",
         "Ridgewood",
         "Boro Zone",
         "Columbus Day",
         "Columbus Day",
         1,
         26.5
        ],
        [
         216,
         132,
         "2023-10-09T07:31:13Z",
         "2023-10-09T07:41:36Z",
         2,
         3.75,
         "1",
         17.0,
         0.0,
         1.0,
         23.95,
         10.383333,
         2,
         7,
         10,
         10,
         7,
         2,
         10,
         41,
         "2023-10-09",
         "07:31:13",
         "2023-10-09",
         "07:41:36",
         40.64698489239528,
         -73.78653298335001,
         40.676154037213855,
         -73.81945963682767,
         4.270088763464719,
         "Queens",
         "JFK Airport",
         "Airports",
         216,
         "Queens",
         "South Ozone Park",
         "Boro Zone",
         "Columbus Day",
         "Columbus Day",
         1,
         26.5
        ],
        [
         132,
         132,
         "2023-10-09T07:04:21Z",
         "2023-10-09T07:33:49Z",
         1,
         14.88,
         "1",
         70.0,
         6.94,
         1.0,
         98.88,
         29.466667,
         2,
         7,
         10,
         10,
         7,
         2,
         10,
         41,
         "2023-10-09",
         "07:04:21",
         "2023-10-09",
         "07:33:49",
         40.64698489239528,
         -73.78653298335001,
         40.64698489239528,
         -73.78653298335001,
         0.0,
         "Queens",
         "JFK Airport",
         "Airports",
         132,
         "Queens",
         "JFK Airport",
         "Airports",
         "Columbus Day",
         "Columbus Day",
         1,
         26.5
        ],
        [
         232,
         132,
         "2023-10-09T07:15:55Z",
         "2023-10-09T08:09:17Z",
         1,
         17.12,
         "1",
         70.0,
         0.0,
         1.0,
         94.25,
         53.366665,
         2,
         7,
         10,
         10,
         8,
         2,
         10,
         41,
         "2023-10-09",
         "07:15:55",
         "2023-10-09",
         "08:09:17",
         40.64698489239528,
         -73.78653298335001,
         40.71473250693941,
         -73.9830245583349,
         18.201235453317874,
         "Queens",
         "JFK Airport",
         "Airports",
         232,
         "Manhattan",
         "Two Bridges/Seward Park",
         "Yellow Zone",
         "Columbus Day",
         "Columbus Day",
         1,
         26.5
        ],
        [
         229,
         132,
         "2023-10-09T09:12:56Z",
         "2023-10-09T09:49:21Z",
         1,
         20.6,
         "1",
         70.0,
         6.94,
         1.0,
         99.19,
         36.416668,
         2,
         9,
         10,
         10,
         9,
         2,
         10,
         41,
         "2023-10-09",
         "09:12:56",
         "2023-10-09",
         "09:49:21",
         40.64698489239528,
         -73.78653298335001,
         40.75672894163307,
         -73.96514579918423,
         19.380882456819247,
         "Queens",
         "JFK Airport",
         "Airports",
         229,
         "Manhattan",
         "Sutton Place/Turtle Bay North",
         "Yellow Zone",
         "Columbus Day",
         "Columbus Day",
         1,
         26.5
        ]
       ],
       "datasetInfos": [],
       "dbfsResultPath": null,
       "isJsonSchema": true,
       "metadata": {},
       "overflow": false,
       "plotOptions": {
        "customPlotOptions": {},
        "displayType": "table",
        "pivotAggregation": null,
        "pivotColumns": null,
        "xColumns": null,
        "yColumns": null
       },
       "removedWidgets": [],
       "schema": [
        {
         "metadata": "{}",
         "name": "DOLocationID",
         "type": "\"integer\""
        },
        {
         "metadata": "{}",
         "name": "PULocationID",
         "type": "\"integer\""
        },
        {
         "metadata": "{}",
         "name": "pickup_datetime",
         "type": "\"timestamp\""
        },
        {
         "metadata": "{}",
         "name": "dropoff_datetime",
         "type": "\"timestamp\""
        },
        {
         "metadata": "{}",
         "name": "passenger_count",
         "type": "\"integer\""
        },
        {
         "metadata": "{}",
         "name": "trip_distance",
         "type": "\"float\""
        },
        {
         "metadata": "{}",
         "name": "payment_type",
         "type": "\"string\""
        },
        {
         "metadata": "{}",
         "name": "fare_amount",
         "type": "\"float\""
        },
        {
         "metadata": "{}",
         "name": "tolls_amount",
         "type": "\"float\""
        },
        {
         "metadata": "{}",
         "name": "improvement_surcharge",
         "type": "\"float\""
        },
        {
         "metadata": "{}",
         "name": "total_amount",
         "type": "\"float\""
        },
        {
         "metadata": "{}",
         "name": "trip_duration",
         "type": "\"float\""
        },
        {
         "metadata": "{}",
         "name": "pickup_day_of_week",
         "type": "\"integer\""
        },
        {
         "metadata": "{}",
         "name": "pickup_hour",
         "type": "\"integer\""
        },
        {
         "metadata": "{}",
         "name": "Month_Num",
         "type": "\"integer\""
        },
        {
         "metadata": "{}",
         "name": "pickup_month",
         "type": "\"integer\""
        },
        {
         "metadata": "{}",
         "name": "dropoff_hour",
         "type": "\"integer\""
        },
        {
         "metadata": "{}",
         "name": "dropoff_day_of_week",
         "type": "\"integer\""
        },
        {
         "metadata": "{}",
         "name": "dropoff_month",
         "type": "\"integer\""
        },
        {
         "metadata": "{}",
         "name": "dropoff_week_of_year",
         "type": "\"integer\""
        },
        {
         "metadata": "{}",
         "name": "pickup_date",
         "type": "\"date\""
        },
        {
         "metadata": "{}",
         "name": "pickup_time",
         "type": "\"string\""
        },
        {
         "metadata": "{}",
         "name": "dropoff_date",
         "type": "\"string\""
        },
        {
         "metadata": "{}",
         "name": "dropoff_time",
         "type": "\"string\""
        },
        {
         "metadata": "{}",
         "name": "pickup_latitude",
         "type": "\"double\""
        },
        {
         "metadata": "{}",
         "name": "pickup_longitude",
         "type": "\"double\""
        },
        {
         "metadata": "{}",
         "name": "dropoff_latitude",
         "type": "\"double\""
        },
        {
         "metadata": "{}",
         "name": "dropoff_longitude",
         "type": "\"double\""
        },
        {
         "metadata": "{}",
         "name": "distance_km",
         "type": "\"double\""
        },
        {
         "metadata": "{}",
         "name": "pickup_borough",
         "type": "\"string\""
        },
        {
         "metadata": "{}",
         "name": "pickup_zone",
         "type": "\"string\""
        },
        {
         "metadata": "{}",
         "name": "pickup_service_zone",
         "type": "\"string\""
        },
        {
         "metadata": "{}",
         "name": "LocationID",
         "type": "\"integer\""
        },
        {
         "metadata": "{}",
         "name": "dropoff_borough",
         "type": "\"string\""
        },
        {
         "metadata": "{}",
         "name": "dropoff_zone",
         "type": "\"string\""
        },
        {
         "metadata": "{}",
         "name": "dropoff_service_zone",
         "type": "\"string\""
        },
        {
         "metadata": "{}",
         "name": "holidayName",
         "type": "\"string\""
        },
        {
         "metadata": "{}",
         "name": "normalizeHolidayName",
         "type": "\"string\""
        },
        {
         "metadata": "{}",
         "name": "is_holiday",
         "type": "\"integer\""
        },
        {
         "metadata": "{}",
         "name": "temp",
         "type": "\"double\""
        }
       ],
       "type": "table"
      }
     },
     "output_type": "display_data"
    }
   ],
   "source": [
    "display(taxi_df.limit(5))"
   ]
  },
  {
   "cell_type": "code",
   "execution_count": 0,
   "metadata": {
    "application/vnd.databricks.v1+cell": {
     "cellMetadata": {
      "byteLimit": 2048000,
      "rowLimit": 10000
     },
     "inputWidgets": {},
     "nuid": "7248dea1-e147-42b1-91c1-b9791b2f9c7f",
     "showTitle": false,
     "tableResultSettingsMap": {},
     "title": ""
    }
   },
   "outputs": [
    {
     "output_type": "stream",
     "name": "stdout",
     "output_type": "stream",
     "text": [
      "root\n |-- DOLocationID: integer (nullable = true)\n |-- PULocationID: integer (nullable = true)\n |-- pickup_datetime: timestamp (nullable = true)\n |-- dropoff_datetime: timestamp (nullable = true)\n |-- passenger_count: integer (nullable = true)\n |-- trip_distance: float (nullable = true)\n |-- payment_type: string (nullable = true)\n |-- fare_amount: float (nullable = true)\n |-- tolls_amount: float (nullable = true)\n |-- improvement_surcharge: float (nullable = true)\n |-- total_amount: float (nullable = true)\n |-- trip_duration: float (nullable = true)\n |-- pickup_day_of_week: integer (nullable = true)\n |-- pickup_hour: integer (nullable = true)\n |-- Month_Num: integer (nullable = true)\n |-- pickup_month: integer (nullable = true)\n |-- dropoff_hour: integer (nullable = true)\n |-- dropoff_day_of_week: integer (nullable = true)\n |-- dropoff_month: integer (nullable = true)\n |-- dropoff_week_of_year: integer (nullable = true)\n |-- pickup_date: date (nullable = true)\n |-- pickup_time: string (nullable = true)\n |-- dropoff_date: string (nullable = true)\n |-- dropoff_time: string (nullable = true)\n |-- pickup_latitude: double (nullable = true)\n |-- pickup_longitude: double (nullable = true)\n |-- dropoff_latitude: double (nullable = true)\n |-- dropoff_longitude: double (nullable = true)\n |-- distance_km: double (nullable = true)\n |-- pickup_borough: string (nullable = true)\n |-- pickup_zone: string (nullable = true)\n |-- pickup_service_zone: string (nullable = true)\n |-- LocationID: integer (nullable = true)\n |-- dropoff_borough: string (nullable = true)\n |-- dropoff_zone: string (nullable = true)\n |-- dropoff_service_zone: string (nullable = true)\n |-- holidayName: string (nullable = true)\n |-- normalizeHolidayName: string (nullable = true)\n |-- is_holiday: integer (nullable = true)\n |-- temp: double (nullable = true)\n\n"
     ]
    }
   ],
   "source": [
    "taxi_df.printSchema()"
   ]
  },
  {
   "cell_type": "code",
   "execution_count": 0,
   "metadata": {
    "application/vnd.databricks.v1+cell": {
     "cellMetadata": {
      "byteLimit": 2048000,
      "rowLimit": 10000
     },
     "inputWidgets": {},
     "nuid": "251b208f-bc6e-4915-99af-956bcef391cf",
     "showTitle": false,
     "tableResultSettingsMap": {},
     "title": ""
    }
   },
   "outputs": [],
   "source": [
    "from pyspark.sql import functions as F\n",
    "\n",
    "# Define the columns and the rounding precision\n",
    "columns = {\n",
    "    'trip_distance': 2,\n",
    "    'fare_amount': 2,\n",
    "    'tolls_amount': 2,\n",
    "    'improvement_surcharge': 2,\n",
    "    'total_amount': 2,\n",
    "    'trip_duration': 2,\n",
    "    'distance_km': 2,\n",
    "    'pickup_latitude': 5,\n",
    "    'pickup_longitude': 5,\n",
    "    'dropoff_latitude': 5,\n",
    "    'dropoff_longitude': 5,\n",
    "    'temp': 1\n",
    "}\n",
    "\n",
    "# Apply rounding\n",
    "for column, precision in columns.items():\n",
    "    taxi_df = taxi_df.withColumn(column, F.format_number(F.col(column), precision).cast(\"double\"))\n",
    "\n",
    "# Show to verify\n",
    "taxi_df.show()"
   ]
  },
  {
   "cell_type": "code",
   "execution_count": 0,
   "metadata": {
    "application/vnd.databricks.v1+cell": {
     "cellMetadata": {
      "byteLimit": 2048000,
      "rowLimit": 10000
     },
     "inputWidgets": {},
     "nuid": "3c7ec8a2-0f89-4223-be44-84821dcfff7f",
     "showTitle": false,
     "tableResultSettingsMap": {},
     "title": ""
    }
   },
   "outputs": [
    {
     "output_type": "display_data",
     "data": {
      "text/html": [
       "<style scoped>\n",
       "  .table-result-container {\n",
       "    max-height: 300px;\n",
       "    overflow: auto;\n",
       "  }\n",
       "  table, th, td {\n",
       "    border: 1px solid black;\n",
       "    border-collapse: collapse;\n",
       "  }\n",
       "  th, td {\n",
       "    padding: 5px;\n",
       "  }\n",
       "  th {\n",
       "    text-align: left;\n",
       "  }\n",
       "</style><div class='table-result-container'><table class='table-result'><thead style='background-color: white'><tr><th>DOLocationID</th><th>PULocationID</th><th>pickup_datetime</th><th>dropoff_datetime</th><th>passenger_count</th><th>trip_distance</th><th>payment_type</th><th>fare_amount</th><th>tolls_amount</th><th>improvement_surcharge</th><th>total_amount</th><th>trip_duration</th><th>pickup_day_of_week</th><th>pickup_hour</th><th>Month_Num</th><th>pickup_month</th><th>dropoff_hour</th><th>dropoff_day_of_week</th><th>dropoff_month</th><th>dropoff_week_of_year</th><th>pickup_date</th><th>pickup_time</th><th>dropoff_date</th><th>dropoff_time</th><th>pickup_latitude</th><th>pickup_longitude</th><th>dropoff_latitude</th><th>dropoff_longitude</th><th>distance_km</th><th>pickup_borough</th><th>pickup_zone</th><th>pickup_service_zone</th><th>LocationID</th><th>dropoff_borough</th><th>dropoff_zone</th><th>dropoff_service_zone</th><th>holidayName</th><th>normalizeHolidayName</th><th>is_holiday</th><th>temp</th></tr></thead><tbody><tr><td>198</td><td>132</td><td>2023-10-09T02:08:03Z</td><td>2023-10-09T02:32:05Z</td><td>3</td><td>14.2</td><td>1</td><td>54.1</td><td>0.0</td><td>1.0</td><td>63.35</td><td>24.03</td><td>2</td><td>2</td><td>10</td><td>10</td><td>2</td><td>2</td><td>10</td><td>41</td><td>2023-10-09</td><td>02:08:03</td><td>2023-10-09</td><td>02:32:05</td><td>40.64698</td><td>-73.78653</td><td>40.70653</td><td>-73.90171</td><td>11.75</td><td>Queens</td><td>JFK Airport</td><td>Airports</td><td>198</td><td>Queens</td><td>Ridgewood</td><td>Boro Zone</td><td>Columbus Day</td><td>Columbus Day</td><td>1</td><td>26.5</td></tr><tr><td>216</td><td>132</td><td>2023-10-09T07:31:13Z</td><td>2023-10-09T07:41:36Z</td><td>2</td><td>3.75</td><td>1</td><td>17.0</td><td>0.0</td><td>1.0</td><td>23.95</td><td>10.38</td><td>2</td><td>7</td><td>10</td><td>10</td><td>7</td><td>2</td><td>10</td><td>41</td><td>2023-10-09</td><td>07:31:13</td><td>2023-10-09</td><td>07:41:36</td><td>40.64698</td><td>-73.78653</td><td>40.67615</td><td>-73.81946</td><td>4.27</td><td>Queens</td><td>JFK Airport</td><td>Airports</td><td>216</td><td>Queens</td><td>South Ozone Park</td><td>Boro Zone</td><td>Columbus Day</td><td>Columbus Day</td><td>1</td><td>26.5</td></tr><tr><td>132</td><td>132</td><td>2023-10-09T07:04:21Z</td><td>2023-10-09T07:33:49Z</td><td>1</td><td>14.88</td><td>1</td><td>70.0</td><td>6.94</td><td>1.0</td><td>98.88</td><td>29.47</td><td>2</td><td>7</td><td>10</td><td>10</td><td>7</td><td>2</td><td>10</td><td>41</td><td>2023-10-09</td><td>07:04:21</td><td>2023-10-09</td><td>07:33:49</td><td>40.64698</td><td>-73.78653</td><td>40.64698</td><td>-73.78653</td><td>0.0</td><td>Queens</td><td>JFK Airport</td><td>Airports</td><td>132</td><td>Queens</td><td>JFK Airport</td><td>Airports</td><td>Columbus Day</td><td>Columbus Day</td><td>1</td><td>26.5</td></tr><tr><td>232</td><td>132</td><td>2023-10-09T07:15:55Z</td><td>2023-10-09T08:09:17Z</td><td>1</td><td>17.12</td><td>1</td><td>70.0</td><td>0.0</td><td>1.0</td><td>94.25</td><td>53.37</td><td>2</td><td>7</td><td>10</td><td>10</td><td>8</td><td>2</td><td>10</td><td>41</td><td>2023-10-09</td><td>07:15:55</td><td>2023-10-09</td><td>08:09:17</td><td>40.64698</td><td>-73.78653</td><td>40.71473</td><td>-73.98302</td><td>18.2</td><td>Queens</td><td>JFK Airport</td><td>Airports</td><td>232</td><td>Manhattan</td><td>Two Bridges/Seward Park</td><td>Yellow Zone</td><td>Columbus Day</td><td>Columbus Day</td><td>1</td><td>26.5</td></tr><tr><td>229</td><td>132</td><td>2023-10-09T09:12:56Z</td><td>2023-10-09T09:49:21Z</td><td>1</td><td>20.6</td><td>1</td><td>70.0</td><td>6.94</td><td>1.0</td><td>99.19</td><td>36.42</td><td>2</td><td>9</td><td>10</td><td>10</td><td>9</td><td>2</td><td>10</td><td>41</td><td>2023-10-09</td><td>09:12:56</td><td>2023-10-09</td><td>09:49:21</td><td>40.64698</td><td>-73.78653</td><td>40.75673</td><td>-73.96515</td><td>19.38</td><td>Queens</td><td>JFK Airport</td><td>Airports</td><td>229</td><td>Manhattan</td><td>Sutton Place/Turtle Bay North</td><td>Yellow Zone</td><td>Columbus Day</td><td>Columbus Day</td><td>1</td><td>26.5</td></tr></tbody></table></div>"
      ]
     },
     "metadata": {
      "application/vnd.databricks.v1+output": {
       "addedWidgets": {},
       "aggData": [],
       "aggError": "",
       "aggOverflow": false,
       "aggSchema": [],
       "aggSeriesLimitReached": false,
       "aggType": "",
       "arguments": {},
       "columnCustomDisplayInfos": {},
       "data": [
        [
         198,
         132,
         "2023-10-09T02:08:03Z",
         "2023-10-09T02:32:05Z",
         3,
         14.2,
         "1",
         54.1,
         0.0,
         1.0,
         63.35,
         24.03,
         2,
         2,
         10,
         10,
         2,
         2,
         10,
         41,
         "2023-10-09",
         "02:08:03",
         "2023-10-09",
         "02:32:05",
         40.64698,
         -73.78653,
         40.70653,
         -73.90171,
         11.75,
         "Queens",
         "JFK Airport",
         "Airports",
         198,
         "Queens",
         "Ridgewood",
         "Boro Zone",
         "Columbus Day",
         "Columbus Day",
         1,
         26.5
        ],
        [
         216,
         132,
         "2023-10-09T07:31:13Z",
         "2023-10-09T07:41:36Z",
         2,
         3.75,
         "1",
         17.0,
         0.0,
         1.0,
         23.95,
         10.38,
         2,
         7,
         10,
         10,
         7,
         2,
         10,
         41,
         "2023-10-09",
         "07:31:13",
         "2023-10-09",
         "07:41:36",
         40.64698,
         -73.78653,
         40.67615,
         -73.81946,
         4.27,
         "Queens",
         "JFK Airport",
         "Airports",
         216,
         "Queens",
         "South Ozone Park",
         "Boro Zone",
         "Columbus Day",
         "Columbus Day",
         1,
         26.5
        ],
        [
         132,
         132,
         "2023-10-09T07:04:21Z",
         "2023-10-09T07:33:49Z",
         1,
         14.88,
         "1",
         70.0,
         6.94,
         1.0,
         98.88,
         29.47,
         2,
         7,
         10,
         10,
         7,
         2,
         10,
         41,
         "2023-10-09",
         "07:04:21",
         "2023-10-09",
         "07:33:49",
         40.64698,
         -73.78653,
         40.64698,
         -73.78653,
         0.0,
         "Queens",
         "JFK Airport",
         "Airports",
         132,
         "Queens",
         "JFK Airport",
         "Airports",
         "Columbus Day",
         "Columbus Day",
         1,
         26.5
        ],
        [
         232,
         132,
         "2023-10-09T07:15:55Z",
         "2023-10-09T08:09:17Z",
         1,
         17.12,
         "1",
         70.0,
         0.0,
         1.0,
         94.25,
         53.37,
         2,
         7,
         10,
         10,
         8,
         2,
         10,
         41,
         "2023-10-09",
         "07:15:55",
         "2023-10-09",
         "08:09:17",
         40.64698,
         -73.78653,
         40.71473,
         -73.98302,
         18.2,
         "Queens",
         "JFK Airport",
         "Airports",
         232,
         "Manhattan",
         "Two Bridges/Seward Park",
         "Yellow Zone",
         "Columbus Day",
         "Columbus Day",
         1,
         26.5
        ],
        [
         229,
         132,
         "2023-10-09T09:12:56Z",
         "2023-10-09T09:49:21Z",
         1,
         20.6,
         "1",
         70.0,
         6.94,
         1.0,
         99.19,
         36.42,
         2,
         9,
         10,
         10,
         9,
         2,
         10,
         41,
         "2023-10-09",
         "09:12:56",
         "2023-10-09",
         "09:49:21",
         40.64698,
         -73.78653,
         40.75673,
         -73.96515,
         19.38,
         "Queens",
         "JFK Airport",
         "Airports",
         229,
         "Manhattan",
         "Sutton Place/Turtle Bay North",
         "Yellow Zone",
         "Columbus Day",
         "Columbus Day",
         1,
         26.5
        ]
       ],
       "datasetInfos": [],
       "dbfsResultPath": null,
       "isJsonSchema": true,
       "metadata": {},
       "overflow": false,
       "plotOptions": {
        "customPlotOptions": {},
        "displayType": "table",
        "pivotAggregation": null,
        "pivotColumns": null,
        "xColumns": null,
        "yColumns": null
       },
       "removedWidgets": [],
       "schema": [
        {
         "metadata": "{}",
         "name": "DOLocationID",
         "type": "\"integer\""
        },
        {
         "metadata": "{}",
         "name": "PULocationID",
         "type": "\"integer\""
        },
        {
         "metadata": "{}",
         "name": "pickup_datetime",
         "type": "\"timestamp\""
        },
        {
         "metadata": "{}",
         "name": "dropoff_datetime",
         "type": "\"timestamp\""
        },
        {
         "metadata": "{}",
         "name": "passenger_count",
         "type": "\"integer\""
        },
        {
         "metadata": "{}",
         "name": "trip_distance",
         "type": "\"double\""
        },
        {
         "metadata": "{}",
         "name": "payment_type",
         "type": "\"string\""
        },
        {
         "metadata": "{}",
         "name": "fare_amount",
         "type": "\"double\""
        },
        {
         "metadata": "{}",
         "name": "tolls_amount",
         "type": "\"double\""
        },
        {
         "metadata": "{}",
         "name": "improvement_surcharge",
         "type": "\"double\""
        },
        {
         "metadata": "{}",
         "name": "total_amount",
         "type": "\"double\""
        },
        {
         "metadata": "{}",
         "name": "trip_duration",
         "type": "\"double\""
        },
        {
         "metadata": "{}",
         "name": "pickup_day_of_week",
         "type": "\"integer\""
        },
        {
         "metadata": "{}",
         "name": "pickup_hour",
         "type": "\"integer\""
        },
        {
         "metadata": "{}",
         "name": "Month_Num",
         "type": "\"integer\""
        },
        {
         "metadata": "{}",
         "name": "pickup_month",
         "type": "\"integer\""
        },
        {
         "metadata": "{}",
         "name": "dropoff_hour",
         "type": "\"integer\""
        },
        {
         "metadata": "{}",
         "name": "dropoff_day_of_week",
         "type": "\"integer\""
        },
        {
         "metadata": "{}",
         "name": "dropoff_month",
         "type": "\"integer\""
        },
        {
         "metadata": "{}",
         "name": "dropoff_week_of_year",
         "type": "\"integer\""
        },
        {
         "metadata": "{}",
         "name": "pickup_date",
         "type": "\"date\""
        },
        {
         "metadata": "{}",
         "name": "pickup_time",
         "type": "\"string\""
        },
        {
         "metadata": "{}",
         "name": "dropoff_date",
         "type": "\"string\""
        },
        {
         "metadata": "{}",
         "name": "dropoff_time",
         "type": "\"string\""
        },
        {
         "metadata": "{}",
         "name": "pickup_latitude",
         "type": "\"double\""
        },
        {
         "metadata": "{}",
         "name": "pickup_longitude",
         "type": "\"double\""
        },
        {
         "metadata": "{}",
         "name": "dropoff_latitude",
         "type": "\"double\""
        },
        {
         "metadata": "{}",
         "name": "dropoff_longitude",
         "type": "\"double\""
        },
        {
         "metadata": "{}",
         "name": "distance_km",
         "type": "\"double\""
        },
        {
         "metadata": "{}",
         "name": "pickup_borough",
         "type": "\"string\""
        },
        {
         "metadata": "{}",
         "name": "pickup_zone",
         "type": "\"string\""
        },
        {
         "metadata": "{}",
         "name": "pickup_service_zone",
         "type": "\"string\""
        },
        {
         "metadata": "{}",
         "name": "LocationID",
         "type": "\"integer\""
        },
        {
         "metadata": "{}",
         "name": "dropoff_borough",
         "type": "\"string\""
        },
        {
         "metadata": "{}",
         "name": "dropoff_zone",
         "type": "\"string\""
        },
        {
         "metadata": "{}",
         "name": "dropoff_service_zone",
         "type": "\"string\""
        },
        {
         "metadata": "{}",
         "name": "holidayName",
         "type": "\"string\""
        },
        {
         "metadata": "{}",
         "name": "normalizeHolidayName",
         "type": "\"string\""
        },
        {
         "metadata": "{}",
         "name": "is_holiday",
         "type": "\"integer\""
        },
        {
         "metadata": "{}",
         "name": "temp",
         "type": "\"double\""
        }
       ],
       "type": "table"
      }
     },
     "output_type": "display_data"
    }
   ],
   "source": [
    "display(taxi_df.limit(5))"
   ]
  },
  {
   "cell_type": "markdown",
   "metadata": {
    "application/vnd.databricks.v1+cell": {
     "cellMetadata": {
      "byteLimit": 2048000,
      "rowLimit": 10000
     },
     "inputWidgets": {},
     "nuid": "b3775a7d-b6a7-40b1-b472-b0a4c769243b",
     "showTitle": false,
     "tableResultSettingsMap": {},
     "title": ""
    }
   },
   "source": [
    "# Fare Amount"
   ]
  },
  {
   "cell_type": "code",
   "execution_count": 0,
   "metadata": {
    "application/vnd.databricks.v1+cell": {
     "cellMetadata": {
      "byteLimit": 2048000,
      "rowLimit": 10000
     },
     "inputWidgets": {},
     "nuid": "91764892-4c25-4dfc-ad3d-1d9bbb23e32c",
     "showTitle": false,
     "tableResultSettingsMap": {},
     "title": ""
    }
   },
   "outputs": [],
   "source": []
  },
  {
   "cell_type": "markdown",
   "metadata": {
    "application/vnd.databricks.v1+cell": {
     "cellMetadata": {
      "byteLimit": 2048000,
      "rowLimit": 10000
     },
     "inputWidgets": {},
     "nuid": "ed27f090-eb4f-4d7a-ace7-697d491f678c",
     "showTitle": false,
     "tableResultSettingsMap": {},
     "title": ""
    }
   },
   "source": [
    "# 1.\tFare Amount Distribution"
   ]
  },
  {
   "cell_type": "code",
   "execution_count": 0,
   "metadata": {
    "application/vnd.databricks.v1+cell": {
     "cellMetadata": {
      "byteLimit": 2048000,
      "rowLimit": 10000
     },
     "inputWidgets": {},
     "nuid": "c0c33334-d72d-4891-931b-04b73742ac62",
     "showTitle": false,
     "tableResultSettingsMap": {},
     "title": ""
    }
   },
   "outputs": [
    {
     "output_type": "stream",
     "name": "stdout",
     "output_type": "stream",
     "text": [
      "+-------+------------------+\n|summary|       fare_amount|\n+-------+------------------+\n|  count|          36395600|\n|   mean| 19.01973833485358|\n| stddev|17.479247950729835|\n|    min|            -900.0|\n|    max|             999.0|\n+-------+------------------+\n\n"
     ]
    }
   ],
   "source": [
    "# Basic descriptive stats for fare_amount\n",
    "taxi_df.select(\"fare_amount\").describe().show()"
   ]
  },
  {
   "cell_type": "code",
   "execution_count": 0,
   "metadata": {
    "application/vnd.databricks.v1+cell": {
     "cellMetadata": {
      "byteLimit": 2048000,
      "rowLimit": 10000
     },
     "inputWidgets": {},
     "nuid": "0cb991ec-5055-4b89-b31a-ce30cf19f8fe",
     "showTitle": false,
     "tableResultSettingsMap": {},
     "title": ""
    }
   },
   "outputs": [],
   "source": [
    "from pyspark.sql.functions import col, hour, dayofweek, month, year, mean\n",
    "import matplotlib.pyplot as plt\n",
    "import seaborn as sns\n",
    "\n",
    "# sns.histplot(fare_data, kde=True)\n",
    "\n",
    "# Convert fare amount to Pandas for plotting\n",
    "fare_df = taxi_df.select(\"fare_amount\").toPandas()\n",
    "\n",
    "plt.figure(figsize=(10, 6))\n",
    "plt.hist(fare_df['fare_amount'], bins=50, color='skyblue')\n",
    "plt.xlabel(\"Fare Amount\")\n",
    "plt.ylabel(\"Frequency\")\n",
    "plt.title(\"Distribution of Fare Amounts\")\n",
    "plt.show()"
   ]
  },
  {
   "cell_type": "code",
   "execution_count": 0,
   "metadata": {
    "application/vnd.databricks.v1+cell": {
     "cellMetadata": {
      "byteLimit": 2048000,
      "rowLimit": 10000
     },
     "inputWidgets": {},
     "nuid": "e0170f1b-64ef-4de3-b8d3-43bcce918189",
     "showTitle": false,
     "tableResultSettingsMap": {},
     "title": ""
    }
   },
   "outputs": [
    {
     "output_type": "stream",
     "name": "stdout",
     "output_type": "stream",
     "text": [
      "Rows: 36395607, Columns: 40\n"
     ]
    }
   ],
   "source": [
    "# Get row and column count\n",
    "row_count = taxi_df.count()\n",
    "column_count = len(taxi_df.columns)\n",
    "print(f\"Rows: {row_count}, Columns: {column_count}\")"
   ]
  },
  {
   "cell_type": "code",
   "execution_count": 0,
   "metadata": {
    "application/vnd.databricks.v1+cell": {
     "cellMetadata": {
      "byteLimit": 2048000,
      "rowLimit": 10000
     },
     "inputWidgets": {},
     "nuid": "71383a1a-c99b-43e0-9b61-51e458235308",
     "showTitle": false,
     "tableResultSettingsMap": {},
     "title": ""
    }
   },
   "outputs": [
    {
     "output_type": "stream",
     "name": "stdout",
     "output_type": "stream",
     "text": [
      "Number of duplicate rows: 0\n"
     ]
    }
   ],
   "source": [
    "# Check for Duplicates\n",
    "# Count the number of duplicate rows\n",
    "duplicates_count = taxi_df.count() - taxi_df.distinct().count()\n",
    "print(f\"Number of duplicate rows: {duplicates_count}\")"
   ]
  },
  {
   "cell_type": "code",
   "execution_count": 0,
   "metadata": {
    "application/vnd.databricks.v1+cell": {
     "cellMetadata": {
      "byteLimit": 2048000,
      "rowLimit": 10000
     },
     "inputWidgets": {},
     "nuid": "a4a7adda-7cc1-4ca1-8d6f-dc02f367836d",
     "showTitle": false,
     "tableResultSettingsMap": {},
     "title": ""
    }
   },
   "outputs": [],
   "source": [
    "taxi_df = taxi_df.dropDuplicates()"
   ]
  },
  {
   "cell_type": "code",
   "execution_count": 0,
   "metadata": {
    "application/vnd.databricks.v1+cell": {
     "cellMetadata": {
      "byteLimit": 2048000,
      "rowLimit": 10000
     },
     "inputWidgets": {},
     "nuid": "8a1b5819-4c06-4a00-8708-49d938c40da5",
     "showTitle": false,
     "tableResultSettingsMap": {},
     "title": ""
    }
   },
   "outputs": [
    {
     "output_type": "stream",
     "name": "stdout",
     "output_type": "stream",
     "text": [
      "+-------+------------------+\n|summary|       fare_amount|\n+-------+------------------+\n|  count|          36395600|\n|   mean|19.019738334853354|\n| stddev|17.479247950729853|\n|    min|            -900.0|\n|    max|             999.0|\n+-------+------------------+\n\n"
     ]
    }
   ],
   "source": [
    "# Summary Statistics for 'fare_amount'\n",
    "taxi_df.describe(\"fare_amount\").show()"
   ]
  },
  {
   "cell_type": "code",
   "execution_count": 0,
   "metadata": {
    "application/vnd.databricks.v1+cell": {
     "cellMetadata": {
      "byteLimit": 2048000,
      "rowLimit": 10000
     },
     "inputWidgets": {},
     "nuid": "3b4e75d7-6b24-49b3-b110-099f623ee403",
     "showTitle": false,
     "tableResultSettingsMap": {},
     "title": ""
    }
   },
   "outputs": [],
   "source": [
    "import matplotlib.pyplot as plt\n",
    "import seaborn as sns\n",
    "\n",
    "# Convert the 'fare_amount' column to a Pandas DataFrame or Series\n",
    "fare_amount = taxi_df.select(\"fare_amount\").toPandas()[\"fare_amount\"]\n",
    "\n",
    "# Assuming 'fare_amount' column has been converted to Pandas Series for plotting\n",
    "plt.figure(figsize=(14, 6))\n",
    "plt.subplot(1, 2, 1)\n",
    "sns.histplot(fare_amount, bins=50, kde=True)\n",
    "plt.title(\"Distribution of Fare Amounts\")\n",
    "\n",
    "plt.subplot(1, 2, 2)\n",
    "sns.boxplot(x=fare_amount)\n",
    "plt.title(\"Box Plot of Fare Amounts\")\n",
    "plt.show()"
   ]
  },
  {
   "cell_type": "code",
   "execution_count": 0,
   "metadata": {
    "application/vnd.databricks.v1+cell": {
     "cellMetadata": {
      "byteLimit": 2048000,
      "rowLimit": 10000
     },
     "inputWidgets": {},
     "nuid": "399d2008-17bc-472f-b205-b8069f1f4833",
     "showTitle": false,
     "tableResultSettingsMap": {},
     "title": ""
    }
   },
   "outputs": [],
   "source": [
    "from pyspark.sql.functions import col\n",
    "\n",
    "# Filter out rows where fare_amount is less than or equal to zero\n",
    "taxi_df = taxi_df.filter(col(\"fare_amount\") > 0)"
   ]
  },
  {
   "cell_type": "code",
   "execution_count": 0,
   "metadata": {
    "application/vnd.databricks.v1+cell": {
     "cellMetadata": {
      "byteLimit": 2048000,
      "rowLimit": 10000
     },
     "inputWidgets": {},
     "nuid": "2279885a-3a14-4a9e-a1f0-da90a2c5499b",
     "showTitle": false,
     "tableResultSettingsMap": {},
     "title": ""
    }
   },
   "outputs": [],
   "source": [
    "from pyspark.sql import functions as F\n",
    "\n",
    "# Calculate Q1 and Q3\n",
    "q1, q3 = taxi_df.approxQuantile(\"fare_amount\", [0.25, 0.75], 0.05)\n",
    "iqr = q3 - q1\n",
    "\n",
    "# Define lower and upper bounds\n",
    "lower_bound = q1 - 1.5 * iqr\n",
    "upper_bound = q3 + 1.5 * iqr"
   ]
  },
  {
   "cell_type": "code",
   "execution_count": 0,
   "metadata": {
    "application/vnd.databricks.v1+cell": {
     "cellMetadata": {
      "byteLimit": 2048000,
      "rowLimit": 10000
     },
     "inputWidgets": {},
     "nuid": "f31c5c4b-b9db-4760-811f-6234e57e1693",
     "showTitle": false,
     "tableResultSettingsMap": {},
     "title": ""
    }
   },
   "outputs": [
    {
     "output_type": "stream",
     "name": "stdout",
     "output_type": "stream",
     "text": [
      "+-------+------------------+\n|summary|       fare_amount|\n+-------+------------------+\n|  count|           3462029|\n|   mean|63.296190361189225|\n| stddev|15.380235804776735|\n|    min|             42.59|\n|    max|             999.0|\n+-------+------------------+\n\n"
     ]
    }
   ],
   "source": [
    "# Filter for outliers based on updated bounds\n",
    "outliers = taxi_df.filter((col(\"fare_amount\") < lower_bound) | (col(\"fare_amount\") > upper_bound))\n",
    "outliers.select(\"fare_amount\").describe().show()"
   ]
  },
  {
   "cell_type": "code",
   "execution_count": 0,
   "metadata": {
    "application/vnd.databricks.v1+cell": {
     "cellMetadata": {
      "byteLimit": 2048000,
      "rowLimit": 10000
     },
     "inputWidgets": {},
     "nuid": "9bc84047-4328-4435-a3a2-701f16e75e2b",
     "showTitle": false,
     "tableResultSettingsMap": {},
     "title": ""
    }
   },
   "outputs": [],
   "source": [
    "from pyspark.sql.functions import when\n",
    "\n",
    "# Cap fare_amount values at the upper bound\n",
    "taxi_df = taxi_df.withColumn(\"fare_amount\", when(col(\"fare_amount\") > upper_bound, upper_bound).otherwise(col(\"fare_amount\")))"
   ]
  },
  {
   "cell_type": "code",
   "execution_count": 0,
   "metadata": {
    "application/vnd.databricks.v1+cell": {
     "cellMetadata": {
      "byteLimit": 2048000,
      "rowLimit": 10000
     },
     "inputWidgets": {},
     "nuid": "a593b2bc-a5e4-4bdd-9c1f-417c13d7f92e",
     "showTitle": false,
     "tableResultSettingsMap": {},
     "title": ""
    }
   },
   "outputs": [
    {
     "output_type": "stream",
     "name": "stdout",
     "output_type": "stream",
     "text": [
      "+-------+------------------+\n|summary|       fare_amount|\n+-------+------------------+\n|  count|          36019170|\n|   mean|17.427675134114097|\n| stddev|11.268637530283332|\n|    min|              0.01|\n|    max|42.550000000000004|\n+-------+------------------+\n\n"
     ]
    }
   ],
   "source": [
    "# Summary Statistics for 'fare_amount'\n",
    "taxi_df.describe(\"fare_amount\").show()"
   ]
  },
  {
   "cell_type": "code",
   "execution_count": 0,
   "metadata": {
    "application/vnd.databricks.v1+cell": {
     "cellMetadata": {
      "byteLimit": 2048000,
      "rowLimit": 10000
     },
     "inputWidgets": {},
     "nuid": "679cca6c-ec3a-4864-a313-e33032b25405",
     "showTitle": false,
     "tableResultSettingsMap": {},
     "title": ""
    }
   },
   "outputs": [
    {
     "output_type": "stream",
     "name": "stdout",
     "output_type": "stream",
     "text": [
      "+------------------+-------------------+\n|          skewness|           kurtosis|\n+------------------+-------------------+\n|1.1446969329269765|0.16730835347353823|\n+------------------+-------------------+\n\n"
     ]
    }
   ],
   "source": [
    "from pyspark.sql import functions as F\n",
    "\n",
    "# Calculate skewness and kurtosis for the fare_amount column\n",
    "fare_stats = taxi_df.select(\n",
    "    F.skewness(\"fare_amount\").alias(\"skewness\"),\n",
    "    F.kurtosis(\"fare_amount\").alias(\"kurtosis\")\n",
    ")\n",
    "\n",
    "# Display the results\n",
    "fare_stats.show()"
   ]
  },
  {
   "cell_type": "markdown",
   "metadata": {
    "application/vnd.databricks.v1+cell": {
     "cellMetadata": {
      "byteLimit": 2048000,
      "rowLimit": 10000
     },
     "inputWidgets": {},
     "nuid": "f4ef6c17-2e7c-4aaf-a119-839aa92a5121",
     "showTitle": false,
     "tableResultSettingsMap": {},
     "title": ""
    }
   },
   "source": [
    "A positive skewness (like 0.8633) suggests that the tail on the right side of the distribution (higher fare amounts) is longer or fatter than the left side. This means that there are more low fares and a few extremely high fares pulling the mean to the right."
   ]
  },
  {
   "cell_type": "markdown",
   "metadata": {
    "application/vnd.databricks.v1+cell": {
     "cellMetadata": {
      "byteLimit": 2048000,
      "rowLimit": 10000
     },
     "inputWidgets": {},
     "nuid": "1febd78a-0873-420b-80f4-377ddff78089",
     "showTitle": false,
     "tableResultSettingsMap": {},
     "title": ""
    }
   },
   "source": [
    "A negative kurtosis (like -0.4961) indicates that the distribution has lighter tails and a flatter peak than a normal distribution. In this case, it suggests that there are fewer extreme outliers compared to a normal distribution."
   ]
  },
  {
   "cell_type": "code",
   "execution_count": 0,
   "metadata": {
    "application/vnd.databricks.v1+cell": {
     "cellMetadata": {
      "byteLimit": 2048000,
      "rowLimit": 10000
     },
     "inputWidgets": {},
     "nuid": "404405ef-914b-4996-9fac-454d5986e57d",
     "showTitle": false,
     "tableResultSettingsMap": {},
     "title": ""
    }
   },
   "outputs": [],
   "source": [
    "import matplotlib.pyplot as plt\n",
    "import seaborn as sns\n",
    "\n",
    "# Convert the 'fare_amount' column to a Pandas DataFrame or Series\n",
    "fare_amount = taxi_df.select(\"fare_amount\").toPandas()[\"fare_amount\"]\n",
    "\n",
    "# Assuming 'fare_amount' column has been converted to Pandas Series for plotting\n",
    "plt.figure(figsize=(14, 6))\n",
    "plt.subplot(1, 2, 1)\n",
    "sns.histplot(fare_amount, bins=50, kde=True)\n",
    "plt.title(\"Distribution of Fare Amounts\")\n",
    "\n",
    "plt.subplot(1, 2, 2)\n",
    "sns.boxplot(x=fare_amount)\n",
    "plt.title(\"Box Plot of Fare Amounts\")\n",
    "plt.show()"
   ]
  },
  {
   "cell_type": "markdown",
   "metadata": {
    "application/vnd.databricks.v1+cell": {
     "cellMetadata": {
      "byteLimit": 2048000,
      "rowLimit": 10000
     },
     "inputWidgets": {},
     "nuid": "f0daf70e-e295-4935-a4c5-b298019ea9c1",
     "showTitle": false,
     "tableResultSettingsMap": {},
     "title": ""
    }
   },
   "source": [
    "# Total Amount"
   ]
  },
  {
   "cell_type": "code",
   "execution_count": 0,
   "metadata": {
    "application/vnd.databricks.v1+cell": {
     "cellMetadata": {
      "byteLimit": 2048000,
      "rowLimit": 10000
     },
     "inputWidgets": {},
     "nuid": "97fe779c-1f7c-4fa5-aebc-bf19f0bbaa7d",
     "showTitle": false,
     "tableResultSettingsMap": {},
     "title": ""
    }
   },
   "outputs": [
    {
     "output_type": "stream",
     "name": "stdout",
     "output_type": "stream",
     "text": [
      "+-------+------------------+\n|summary|      total_amount|\n+-------+------------------+\n|  count|          36019167|\n|   mean| 28.51376624647264|\n| stddev|21.557119489078847|\n|    min|              0.01|\n|    max|             951.0|\n+-------+------------------+\n\n"
     ]
    }
   ],
   "source": [
    "# Basic descriptive stats for total_amount\n",
    "taxi_df.select(\"total_amount\").describe().show()"
   ]
  },
  {
   "cell_type": "code",
   "execution_count": 0,
   "metadata": {
    "application/vnd.databricks.v1+cell": {
     "cellMetadata": {
      "byteLimit": 2048000,
      "rowLimit": 10000
     },
     "inputWidgets": {},
     "nuid": "db9790dd-2730-49fa-9170-3e1f9f32cd24",
     "showTitle": false,
     "tableResultSettingsMap": {},
     "title": ""
    }
   },
   "outputs": [],
   "source": [
    "from pyspark.sql.functions import col, hour, dayofweek, month, year, mean\n",
    "import matplotlib.pyplot as plt\n",
    "import seaborn as sns\n",
    "\n",
    "# sns.histplot(fare_data, kde=True)\n",
    "\n",
    "# Convert fare amount to Pandas for plotting\n",
    "amount_df = taxi_df.select(\"total_amount\").toPandas()\n",
    "\n",
    "plt.figure(figsize=(10, 6))\n",
    "plt.hist(amount_df['total_amount'], bins=50, color='skyblue')\n",
    "plt.xlabel(\"Total Amount\")\n",
    "plt.ylabel(\"Frequency\")\n",
    "plt.title(\"Distribution of Total Amount\")\n",
    "plt.show()"
   ]
  },
  {
   "cell_type": "code",
   "execution_count": 0,
   "metadata": {
    "application/vnd.databricks.v1+cell": {
     "cellMetadata": {
      "byteLimit": 2048000,
      "rowLimit": 10000
     },
     "inputWidgets": {},
     "nuid": "ce69fec2-af40-4ed4-b386-148cb82a59aa",
     "showTitle": false,
     "tableResultSettingsMap": {},
     "title": ""
    }
   },
   "outputs": [],
   "source": [
    "import matplotlib.pyplot as plt\n",
    "import seaborn as sns\n",
    "\n",
    "# Convert the 'Total Amount' column to a Pandas DataFrame or Series\n",
    "amount_df = taxi_df.select(\"total_amount\").toPandas()[\"total_amount\"]\n",
    "\n",
    "# Assuming Total Amount column has been converted to Pandas Series for plotting\n",
    "plt.figure(figsize=(14, 6))\n",
    "plt.subplot(1, 2, 1)\n",
    "sns.histplot(amount_df, bins=50, kde=True)\n",
    "plt.title(\"Distribution of total_amount\")\n",
    "\n",
    "plt.subplot(1, 2, 2)\n",
    "sns.boxplot(x=amount_df)\n",
    "plt.title(\"Box Plot of Total Amount\")\n",
    "plt.show()\n"
   ]
  },
  {
   "cell_type": "code",
   "execution_count": 0,
   "metadata": {
    "application/vnd.databricks.v1+cell": {
     "cellMetadata": {
      "byteLimit": 2048000,
      "rowLimit": 10000
     },
     "inputWidgets": {},
     "nuid": "54ef2696-1fa4-4b2f-b4a9-36a2213117ba",
     "showTitle": false,
     "tableResultSettingsMap": {},
     "title": ""
    }
   },
   "outputs": [],
   "source": [
    "from pyspark.sql.functions import col\n",
    "\n",
    "# Filter out rows where total_amount is less than or equal to zero\n",
    "taxi_df = taxi_df.filter(col(\"total_amount\") > 0)"
   ]
  },
  {
   "cell_type": "code",
   "execution_count": 0,
   "metadata": {
    "application/vnd.databricks.v1+cell": {
     "cellMetadata": {
      "byteLimit": 2048000,
      "rowLimit": 10000
     },
     "inputWidgets": {},
     "nuid": "c1d7129d-d567-4ac0-82bf-74241891e73c",
     "showTitle": false,
     "tableResultSettingsMap": {},
     "title": ""
    }
   },
   "outputs": [],
   "source": [
    "from pyspark.sql import functions as F\n",
    "\n",
    "# Calculate Q1 and Q3\n",
    "q1, q3 = taxi_df.approxQuantile(\"total_amount\", [0.25, 0.75], 0.05)\n",
    "iqr = q3 - q1\n",
    "\n",
    "# Define lower and upper bounds\n",
    "lower_bound = q1 - 1.5 * iqr\n",
    "upper_bound = q3 + 1.5 * iqr"
   ]
  },
  {
   "cell_type": "code",
   "execution_count": 0,
   "metadata": {
    "application/vnd.databricks.v1+cell": {
     "cellMetadata": {
      "byteLimit": 2048000,
      "rowLimit": 10000
     },
     "inputWidgets": {},
     "nuid": "20e01966-8053-4b5a-9c0b-49e35e2c9f03",
     "showTitle": false,
     "tableResultSettingsMap": {},
     "title": ""
    }
   },
   "outputs": [],
   "source": [
    "from pyspark.sql.functions import when\n",
    "\n",
    "# Cap total amount values at the upper bound\n",
    "taxi_df = taxi_df.withColumn(\"total_amount\", when(col(\"total_amount\") > upper_bound, upper_bound).otherwise(col(\"total_amount\")))"
   ]
  },
  {
   "cell_type": "code",
   "execution_count": 0,
   "metadata": {
    "application/vnd.databricks.v1+cell": {
     "cellMetadata": {
      "byteLimit": 2048000,
      "rowLimit": 10000
     },
     "inputWidgets": {},
     "nuid": "c4ee630a-e39f-4bba-b4ea-d2acbf31ccb9",
     "showTitle": false,
     "tableResultSettingsMap": {},
     "title": ""
    }
   },
   "outputs": [],
   "source": [
    "import matplotlib.pyplot as plt\n",
    "import seaborn as sns\n",
    "\n",
    "# Convert the 'total_amount' column to a Pandas DataFrame or Series\n",
    "total_amount = taxi_df.select(\"total_amount\").toPandas()[\"total_amount\"]\n",
    "\n",
    "# Assuming 'total_amount' column has been converted to Pandas Series for plotting\n",
    "plt.figure(figsize=(14, 6))\n",
    "plt.subplot(1, 2, 1)\n",
    "sns.histplot(total_amount, bins=50, kde=True)\n",
    "plt.title(\"Distribution of total_amount\")\n",
    "\n",
    "plt.subplot(1, 2, 2)\n",
    "sns.boxplot(x=fare_amount)\n",
    "plt.title(\"Box Plot of total_amount\")\n",
    "plt.show()"
   ]
  },
  {
   "cell_type": "code",
   "execution_count": 0,
   "metadata": {
    "application/vnd.databricks.v1+cell": {
     "cellMetadata": {
      "byteLimit": 2048000,
      "rowLimit": 10000
     },
     "inputWidgets": {},
     "nuid": "fb0a17f1-8c3f-4618-b8a2-a74bc8e6ae1c",
     "showTitle": false,
     "tableResultSettingsMap": {},
     "title": ""
    }
   },
   "outputs": [
    {
     "output_type": "stream",
     "name": "stdout",
     "output_type": "stream",
     "text": [
      "+-------+------------------+\n|summary|      total_amount|\n+-------+------------------+\n|  count|          36019167|\n|   mean| 25.17980459990595|\n| stddev|12.620968537033155|\n|    min|              0.01|\n|    max|            51.675|\n+-------+------------------+\n\n"
     ]
    }
   ],
   "source": [
    "# Summary Statistics for 'total_amount'\n",
    "taxi_df.describe(\"total_amount\").show()"
   ]
  },
  {
   "cell_type": "code",
   "execution_count": 0,
   "metadata": {
    "application/vnd.databricks.v1+cell": {
     "cellMetadata": {
      "byteLimit": 2048000,
      "rowLimit": 10000
     },
     "inputWidgets": {},
     "nuid": "7d7987a5-9bed-4d30-a437-fb7daff08dc8",
     "showTitle": false,
     "tableResultSettingsMap": {},
     "title": ""
    }
   },
   "outputs": [
    {
     "output_type": "stream",
     "name": "stdout",
     "output_type": "stream",
     "text": [
      "+------------------+-------------------+\n|          skewness|           kurtosis|\n+------------------+-------------------+\n|1.0196290571307127|-0.1069624073534845|\n+------------------+-------------------+\n\n"
     ]
    }
   ],
   "source": [
    "from pyspark.sql import functions as F\n",
    "\n",
    "# Calculate skewness and kurtosis for the total_amount column\n",
    "total_amount_stats = taxi_df.select(\n",
    "    F.skewness(\"total_amount\").alias(\"skewness\"),\n",
    "    F.kurtosis(\"total_amount\").alias(\"kurtosis\")\n",
    ")\n",
    "\n",
    "# Display the results\n",
    "total_amount_stats.show()"
   ]
  },
  {
   "cell_type": "code",
   "execution_count": 0,
   "metadata": {
    "application/vnd.databricks.v1+cell": {
     "cellMetadata": {
      "byteLimit": 2048000,
      "rowLimit": 10000
     },
     "inputWidgets": {},
     "nuid": "f8efa47a-d679-4547-98bf-957aec212749",
     "showTitle": false,
     "tableResultSettingsMap": {},
     "title": ""
    }
   },
   "outputs": [],
   "source": []
  },
  {
   "cell_type": "markdown",
   "metadata": {
    "application/vnd.databricks.v1+cell": {
     "cellMetadata": {
      "byteLimit": 2048000,
      "rowLimit": 10000
     },
     "inputWidgets": {},
     "nuid": "b21eecf2-fc21-4bf9-a8d2-3d1dbd28dda8",
     "showTitle": false,
     "tableResultSettingsMap": {},
     "title": ""
    }
   },
   "source": [
    "# Passenger Count"
   ]
  },
  {
   "cell_type": "code",
   "execution_count": 0,
   "metadata": {
    "application/vnd.databricks.v1+cell": {
     "cellMetadata": {
      "byteLimit": 2048000,
      "rowLimit": 10000
     },
     "inputWidgets": {},
     "nuid": "5d4a9c8c-370f-4e52-9916-e4ec8cf42cc8",
     "showTitle": false,
     "tableResultSettingsMap": {},
     "title": ""
    }
   },
   "outputs": [
    {
     "output_type": "stream",
     "name": "stdout",
     "output_type": "stream",
     "text": [
      "+---------------+--------+\n|passenger_count|   count|\n+---------------+--------+\n|              1|27096950|\n|              2| 5451149|\n|              3| 1353777|\n|              4|  758553|\n|              0|  569086|\n|              5|  476294|\n|              6|  313095|\n|              8|     167|\n|              7|      59|\n|              9|      37|\n+---------------+--------+\n\n"
     ]
    }
   ],
   "source": [
    "# Distribution of passenger_count\n",
    "passenger_dist = taxi_df.groupBy(\"passenger_count\").count().orderBy(\"count\", ascending=False)\n",
    "passenger_dist.show()"
   ]
  },
  {
   "cell_type": "code",
   "execution_count": 0,
   "metadata": {
    "application/vnd.databricks.v1+cell": {
     "cellMetadata": {
      "byteLimit": 2048000,
      "rowLimit": 10000
     },
     "inputWidgets": {},
     "nuid": "51e51a9d-42b3-41ed-a7f3-e70684a652c2",
     "showTitle": false,
     "tableResultSettingsMap": {},
     "title": ""
    }
   },
   "outputs": [],
   "source": [
    "# Bar plot for passenger count\n",
    "passenger_count_data = taxi_df.groupBy(\"passenger_count\").count().orderBy(\"passenger_count\").collect()\n",
    "x = [row['passenger_count'] for row in passenger_count_data]\n",
    "y = [row['count'] for row in passenger_count_data]\n",
    "\n",
    "plt.bar(x, y, color=\"purple\")\n",
    "plt.title(\"Passenger Count Distribution\")\n",
    "plt.xlabel(\"Passenger Count\")\n",
    "plt.ylabel(\"Frequency\")\n",
    "plt.show()"
   ]
  },
  {
   "cell_type": "markdown",
   "metadata": {
    "application/vnd.databricks.v1+cell": {
     "cellMetadata": {
      "byteLimit": 2048000,
      "rowLimit": 10000
     },
     "inputWidgets": {},
     "nuid": "1fbc595f-0051-4e93-ab2b-ab8fa87cf6e5",
     "showTitle": false,
     "tableResultSettingsMap": {},
     "title": ""
    }
   },
   "source": [
    "Most Common Values: The vast majority of records have 1-2 passengers, which seems reasonable for taxi rides in a city. Rows with values from 1 to 6 appear commonly and represent realistic group sizes for taxi usage.\n",
    "\n",
    "Zero Passengers: There are 569,086 records with a passenger_count of 0, which seems unrealistic for taxi rides. These could be errors or placeholder values. It might be best to remove these rows, as they likely don’t contribute meaningful information for fare prediction\n",
    "\n",
    "Outliers (Values of 7 to 9): Rows with passenger counts from 7 to 9 are very rare (a total of 263 occurrences in 36 million rows). These could be data entry errors, or they could represent unusual cases (e.g., shared rides). Given the low frequency, removing them should have a minimal impact, but you could keep them if you want a model that handles unusual cases."
   ]
  },
  {
   "cell_type": "code",
   "execution_count": 0,
   "metadata": {
    "application/vnd.databricks.v1+cell": {
     "cellMetadata": {
      "byteLimit": 2048000,
      "rowLimit": 10000
     },
     "inputWidgets": {},
     "nuid": "2f9cbe90-2dc7-400a-8e61-1771c7061c90",
     "showTitle": false,
     "tableResultSettingsMap": {},
     "title": ""
    }
   },
   "outputs": [
    {
     "output_type": "stream",
     "name": "stdout",
     "output_type": "stream",
     "text": [
      "+---------------+--------+\n|passenger_count|   count|\n+---------------+--------+\n|              1|27096950|\n|              2| 5451149|\n|              3| 1353777|\n|              4|  758553|\n|              5|  476294|\n|              6|  313095|\n+---------------+--------+\n\n"
     ]
    }
   ],
   "source": [
    "# Filter out rows with passenger_count of 0 or greater than 6\n",
    "taxi_df = taxi_df.filter((taxi_df[\"passenger_count\"] > 0) & (taxi_df[\"passenger_count\"] <= 6))\n",
    "\n",
    "# Verify the distribution after filtering\n",
    "taxi_df.groupBy(\"passenger_count\").count().orderBy(\"passenger_count\").show()"
   ]
  },
  {
   "cell_type": "code",
   "execution_count": 0,
   "metadata": {
    "application/vnd.databricks.v1+cell": {
     "cellMetadata": {
      "byteLimit": 2048000,
      "rowLimit": 10000
     },
     "inputWidgets": {},
     "nuid": "dca25f86-b167-4047-8b68-dfccfdf590d1",
     "showTitle": false,
     "tableResultSettingsMap": {},
     "title": ""
    }
   },
   "outputs": [],
   "source": [
    "import matplotlib.pyplot as plt\n",
    "import seaborn as sns\n",
    "\n",
    "# Convert the 'trip_distance' column to a Pandas DataFrame or Series\n",
    "passenger_count_df = taxi_df.select(\"passenger_count\").toPandas()[\"passenger_count\"]\n",
    "\n",
    "# Assuming Trip Distance column has been converted to Pandas Series for plotting\n",
    "plt.figure(figsize=(14, 6))\n",
    "sns.boxplot(x=passenger_count_df)\n",
    "plt.title(\"Box Plot of Passenger Count\")\n",
    "plt.show()\n"
   ]
  },
  {
   "cell_type": "markdown",
   "metadata": {
    "application/vnd.databricks.v1+cell": {
     "cellMetadata": {
      "byteLimit": 2048000,
      "rowLimit": 10000
     },
     "inputWidgets": {},
     "nuid": "9a9ed1a1-1b66-40f0-869c-e495bc44818c",
     "showTitle": false,
     "tableResultSettingsMap": {},
     "title": ""
    }
   },
   "source": [
    "# Payment Type"
   ]
  },
  {
   "cell_type": "code",
   "execution_count": 0,
   "metadata": {
    "application/vnd.databricks.v1+cell": {
     "cellMetadata": {
      "byteLimit": 2048000,
      "rowLimit": 10000
     },
     "inputWidgets": {},
     "nuid": "9d82def9-b071-4f75-979b-64914fcbc91d",
     "showTitle": false,
     "tableResultSettingsMap": {},
     "title": ""
    }
   },
   "outputs": [],
   "source": [
    "payment_mapping = {\n",
    "    1: \"Credit Card\",\n",
    "    2: \"Cash\",\n",
    "    3: \"No Charge\",\n",
    "    4: \"Dispute\",\n",
    "    5: \"Unknown\",\n",
    "    6: \"Voided Trip\"\n",
    "}"
   ]
  },
  {
   "cell_type": "code",
   "execution_count": 0,
   "metadata": {
    "application/vnd.databricks.v1+cell": {
     "cellMetadata": {
      "byteLimit": 2048000,
      "rowLimit": 10000
     },
     "inputWidgets": {},
     "nuid": "63f79cf1-913f-4e50-8e12-9ec854b33818",
     "showTitle": false,
     "tableResultSettingsMap": {},
     "title": ""
    }
   },
   "outputs": [],
   "source": [
    "# Flatten the dictionary items into a list of alternating keys and values\n",
    "payment_type_expr = F.create_map([F.lit(x) for kv in payment_mapping.items() for x in kv])\n",
    "\n",
    "# Use the map to create the new column\n",
    "taxi_df = taxi_df.withColumn(\"payment_type_label\", payment_type_expr[F.col(\"payment_type\")])"
   ]
  },
  {
   "cell_type": "code",
   "execution_count": 0,
   "metadata": {
    "application/vnd.databricks.v1+cell": {
     "cellMetadata": {
      "byteLimit": 2048000,
      "rowLimit": 10000
     },
     "inputWidgets": {},
     "nuid": "e5f41b58-f33e-494f-9ea9-3d67d63ab428",
     "showTitle": false,
     "tableResultSettingsMap": {},
     "title": ""
    }
   },
   "outputs": [],
   "source": [
    "payment_counts = taxi_df.groupBy(\"payment_type_label\").count()"
   ]
  },
  {
   "cell_type": "code",
   "execution_count": 0,
   "metadata": {
    "application/vnd.databricks.v1+cell": {
     "cellMetadata": {
      "byteLimit": 2048000,
      "rowLimit": 10000
     },
     "inputWidgets": {},
     "nuid": "82c1e0d9-098c-4b8a-ab25-4debfb096d31",
     "showTitle": false,
     "tableResultSettingsMap": {},
     "title": ""
    }
   },
   "outputs": [],
   "source": [
    "total_count = taxi_df.count()\n",
    "payment_percentage = payment_counts.withColumn(\"percentage\", (F.col(\"count\") / total_count) * 100)"
   ]
  },
  {
   "cell_type": "code",
   "execution_count": 0,
   "metadata": {
    "application/vnd.databricks.v1+cell": {
     "cellMetadata": {
      "byteLimit": 2048000,
      "rowLimit": 10000
     },
     "inputWidgets": {},
     "nuid": "d85ae099-9272-4229-9fc6-80627273fcbf",
     "showTitle": false,
     "tableResultSettingsMap": {},
     "title": ""
    }
   },
   "outputs": [
    {
     "output_type": "stream",
     "name": "stdout",
     "output_type": "stream",
     "text": [
      "+------------------+--------+-------------------+\n|payment_type_label|   count|         percentage|\n+------------------+--------+-------------------+\n|       Credit Card|28946703|  81.65543473312049|\n|         No Charge|  158006|0.44571737998767724|\n|              Cash| 6082246|  17.15734055390637|\n|           Dispute|  262863| 0.7415073329854612|\n+------------------+--------+-------------------+\n\n"
     ]
    }
   ],
   "source": [
    "# Show the frequency and percentage distribution\n",
    "payment_percentage.show()"
   ]
  },
  {
   "cell_type": "code",
   "execution_count": 0,
   "metadata": {
    "application/vnd.databricks.v1+cell": {
     "cellMetadata": {
      "byteLimit": 2048000,
      "rowLimit": 10000
     },
     "inputWidgets": {},
     "nuid": "07ba0fdf-02f9-47d0-be35-a684c16b0981",
     "showTitle": false,
     "tableResultSettingsMap": {},
     "title": ""
    }
   },
   "outputs": [],
   "source": [
    "import pandas as pd\n",
    "import matplotlib.pyplot as plt\n",
    "\n",
    "# Convert to Pandas DataFrame for visualization\n",
    "payment_percentage_pd = payment_percentage.toPandas()\n",
    "\n",
    "# Bar Plot\n",
    "plt.figure(figsize=(10, 5))\n",
    "plt.bar(payment_percentage_pd['payment_type_label'], payment_percentage_pd['count'], color='blue')\n",
    "plt.title('Frequency Distribution of Payment Types')\n",
    "plt.xlabel('Payment Type')\n",
    "plt.ylabel('Count')\n",
    "plt.xticks(rotation=45)\n",
    "plt.show()"
   ]
  },
  {
   "cell_type": "code",
   "execution_count": 0,
   "metadata": {
    "application/vnd.databricks.v1+cell": {
     "cellMetadata": {
      "byteLimit": 2048000,
      "rowLimit": 10000
     },
     "inputWidgets": {},
     "nuid": "f9a796f3-e23d-4176-9bc1-a43e7531495d",
     "showTitle": false,
     "tableResultSettingsMap": {},
     "title": ""
    }
   },
   "outputs": [],
   "source": [
    "# Pie Chart\n",
    "plt.figure(figsize=(8, 8))\n",
    "plt.pie(payment_percentage_pd['percentage'], labels=payment_percentage_pd['payment_type_label'], autopct='%1.1f%%', startangle=140)\n",
    "plt.title('Percentage Distribution of Payment Types')\n",
    "plt.axis('equal')  # Equal aspect ratio ensures the pie chart is circular.\n",
    "plt.show()"
   ]
  },
  {
   "cell_type": "markdown",
   "metadata": {
    "application/vnd.databricks.v1+cell": {
     "cellMetadata": {
      "byteLimit": 2048000,
      "rowLimit": 10000
     },
     "inputWidgets": {},
     "nuid": "08d42914-eb58-463f-acc7-4e03a3614074",
     "showTitle": false,
     "tableResultSettingsMap": {},
     "title": ""
    }
   },
   "source": [
    "# Distribution of Trip Distance"
   ]
  },
  {
   "cell_type": "code",
   "execution_count": 0,
   "metadata": {
    "application/vnd.databricks.v1+cell": {
     "cellMetadata": {
      "byteLimit": 2048000,
      "rowLimit": 10000
     },
     "inputWidgets": {},
     "nuid": "fe50adf9-4b43-44d9-b34e-e46a62f7d127",
     "showTitle": false,
     "tableResultSettingsMap": {},
     "title": ""
    }
   },
   "outputs": [
    {
     "output_type": "stream",
     "name": "stdout",
     "output_type": "stream",
     "text": [
      "+-------+------------------+\n|summary|     trip_distance|\n+-------+------------------+\n|  count|          35449519|\n|   mean|3.4072736318368664|\n| stddev| 4.397237518729402|\n|    min|               0.0|\n|    max|             837.5|\n+-------+------------------+\n\n"
     ]
    }
   ],
   "source": [
    "# Summary Statistics for 'fare_amount'\n",
    "taxi_df.describe(\"trip_distance\").show()"
   ]
  },
  {
   "cell_type": "code",
   "execution_count": 0,
   "metadata": {
    "application/vnd.databricks.v1+cell": {
     "cellMetadata": {
      "byteLimit": 2048000,
      "rowLimit": 10000
     },
     "inputWidgets": {},
     "nuid": "6d0adcaa-1d41-4ea7-a6df-d5ef1d0423bf",
     "showTitle": false,
     "tableResultSettingsMap": {},
     "title": ""
    }
   },
   "outputs": [],
   "source": [
    "import matplotlib.pyplot as plt\n",
    "import seaborn as sns\n",
    "\n",
    "# Convert the 'trip_distance' column to a Pandas DataFrame or Series\n",
    "trip_distance_df = taxi_df.select(\"trip_distance\").toPandas()[\"trip_distance\"]\n",
    "\n",
    "# Assuming Trip Distance column has been converted to Pandas Series for plotting\n",
    "plt.figure(figsize=(14, 6))\n",
    "plt.subplot(1, 2, 1)\n",
    "sns.histplot(trip_distance_df, bins=50, kde=True)\n",
    "plt.title(\"Distribution of Trip Distance\")\n",
    "\n",
    "plt.subplot(1, 2, 2)\n",
    "sns.boxplot(x=trip_distance_df)\n",
    "plt.title(\"Box Plot of Trip Distance\")\n",
    "plt.show()\n"
   ]
  },
  {
   "cell_type": "markdown",
   "metadata": {
    "application/vnd.databricks.v1+cell": {
     "cellMetadata": {
      "byteLimit": 2048000,
      "rowLimit": 10000
     },
     "inputWidgets": {},
     "nuid": "76374c27-7a1a-46bc-874d-3db9dcd0a710",
     "showTitle": false,
     "tableResultSettingsMap": {},
     "title": ""
    }
   },
   "source": [
    "Zero values for trip_distance might indicate canceled trips, errors in data entry, or other anomalies. It’s essential to investigate these zero distances to determine if they are valid entries or should be excluded from analysis."
   ]
  },
  {
   "cell_type": "code",
   "execution_count": 0,
   "metadata": {
    "application/vnd.databricks.v1+cell": {
     "cellMetadata": {
      "byteLimit": 2048000,
      "rowLimit": 10000
     },
     "inputWidgets": {},
     "nuid": "c93b8d1f-106c-4699-b8d5-a13da12a14d0",
     "showTitle": false,
     "tableResultSettingsMap": {},
     "title": ""
    }
   },
   "outputs": [],
   "source": [
    "taxi_df = taxi_df.filter(taxi_df[\"trip_distance\"] > 0)"
   ]
  },
  {
   "cell_type": "code",
   "execution_count": 0,
   "metadata": {
    "application/vnd.databricks.v1+cell": {
     "cellMetadata": {
      "byteLimit": 2048000,
      "rowLimit": 10000
     },
     "inputWidgets": {},
     "nuid": "123b3a43-1808-4267-b64f-b03e50bb82eb",
     "showTitle": false,
     "tableResultSettingsMap": {},
     "title": ""
    }
   },
   "outputs": [],
   "source": [
    "from pyspark.sql import functions as F\n",
    "\n",
    "# Calculate Q1 and Q3\n",
    "q1, q3 = taxi_df.approxQuantile(\"trip_distance\", [0.25, 0.75], 0.05)\n",
    "iqr = q3 - q1\n",
    "\n",
    "# Define lower and upper bounds\n",
    "lower_bound = q1 - 1.5 * iqr\n",
    "upper_bound = q3 + 1.5 * iqr"
   ]
  },
  {
   "cell_type": "code",
   "execution_count": 0,
   "metadata": {
    "application/vnd.databricks.v1+cell": {
     "cellMetadata": {
      "byteLimit": 2048000,
      "rowLimit": 10000
     },
     "inputWidgets": {},
     "nuid": "d7920b86-f8e7-4d59-95b2-aedcf30ffe0d",
     "showTitle": false,
     "tableResultSettingsMap": {},
     "title": ""
    }
   },
   "outputs": [
    {
     "output_type": "stream",
     "name": "stdout",
     "output_type": "stream",
     "text": [
      "+-------+------------------+\n|summary|     trip_distance|\n+-------+------------------+\n|  count|           4549323|\n|   mean|13.369781097098638|\n| stddev| 4.919646726149456|\n|    min|              7.01|\n|    max|             837.5|\n+-------+------------------+\n\n"
     ]
    }
   ],
   "source": [
    "# Filter for outliers based on updated bounds\n",
    "outliers = taxi_df.filter((col(\"fare_amount\") < lower_bound) | (col(\"trip_distance\") > upper_bound))\n",
    "outliers.select(\"trip_distance\").describe().show()"
   ]
  },
  {
   "cell_type": "code",
   "execution_count": 0,
   "metadata": {
    "application/vnd.databricks.v1+cell": {
     "cellMetadata": {
      "byteLimit": 2048000,
      "rowLimit": 10000
     },
     "inputWidgets": {},
     "nuid": "1d9f5610-d9a8-4ca3-8389-607927210e3a",
     "showTitle": false,
     "tableResultSettingsMap": {},
     "title": ""
    }
   },
   "outputs": [],
   "source": [
    "from pyspark.sql.functions import when\n",
    "\n",
    "# Cap trip_distance values at the upper bound\n",
    "taxi_df = taxi_df.withColumn(\"trip_distance\", when(col(\"trip_distance\") > upper_bound, upper_bound).otherwise(col(\"trip_distance\")))\n"
   ]
  },
  {
   "cell_type": "code",
   "execution_count": 0,
   "metadata": {
    "application/vnd.databricks.v1+cell": {
     "cellMetadata": {
      "byteLimit": 2048000,
      "rowLimit": 10000
     },
     "inputWidgets": {},
     "nuid": "3cae5aef-709f-4370-aedc-27d8db1e0f56",
     "showTitle": false,
     "tableResultSettingsMap": {},
     "title": ""
    }
   },
   "outputs": [
    {
     "output_type": "stream",
     "name": "stdout",
     "output_type": "stream",
     "text": [
      "+------------------+--------------------+\n|          skewness|            kurtosis|\n+------------------+--------------------+\n|1.1270119683794957|-0.06933936469401525|\n+------------------+--------------------+\n\n"
     ]
    }
   ],
   "source": [
    "from pyspark.sql import functions as F\n",
    "\n",
    "# Calculate skewness and kurtosis for the trip_distance column\n",
    "trip_distance_stats = taxi_df.select(\n",
    "    F.skewness(\"trip_distance\").alias(\"skewness\"),\n",
    "    F.kurtosis(\"trip_distance\").alias(\"kurtosis\")\n",
    ")\n",
    "\n",
    "# Display the results\n",
    "trip_distance_stats.show()"
   ]
  },
  {
   "cell_type": "code",
   "execution_count": 0,
   "metadata": {
    "application/vnd.databricks.v1+cell": {
     "cellMetadata": {
      "byteLimit": 2048000,
      "rowLimit": 10000
     },
     "inputWidgets": {},
     "nuid": "a795f473-bdc8-4ae3-b5f2-5f257a9c7600",
     "showTitle": false,
     "tableResultSettingsMap": {},
     "title": ""
    }
   },
   "outputs": [],
   "source": [
    "import matplotlib.pyplot as plt\n",
    "import seaborn as sns\n",
    "\n",
    "# Convert the 'trip_distance' column to a Pandas DataFrame or Series\n",
    "trip_distance_df = taxi_df.select(\"trip_distance\").toPandas()[\"trip_distance\"]\n",
    "\n",
    "# Assuming Trip Distance column has been converted to Pandas Series for plotting\n",
    "plt.figure(figsize=(14, 6))\n",
    "plt.subplot(1, 2, 1)\n",
    "sns.histplot(trip_distance_df, bins=50, kde=True)\n",
    "plt.title(\"Distribution of Trip Distance\")\n",
    "\n",
    "plt.subplot(1, 2, 2)\n",
    "sns.boxplot(x=trip_distance_df)\n",
    "plt.title(\"Box Plot of Trip Distance\")\n",
    "plt.show()"
   ]
  },
  {
   "cell_type": "code",
   "execution_count": 0,
   "metadata": {
    "application/vnd.databricks.v1+cell": {
     "cellMetadata": {
      "byteLimit": 2048000,
      "rowLimit": 10000
     },
     "inputWidgets": {},
     "nuid": "b8586aac-e7c3-4b6e-bae2-8dcf9299ec57",
     "showTitle": false,
     "tableResultSettingsMap": {},
     "title": ""
    }
   },
   "outputs": [
    {
     "output_type": "stream",
     "name": "stdout",
     "output_type": "stream",
     "text": [
      "+-------+------------------+\n|summary|     trip_distance|\n+-------+------------------+\n|  count|          35089527|\n|   mean|2.6170420112761126|\n| stddev|2.1125514372669647|\n|    min|              0.01|\n|    max| 7.004999999999999|\n+-------+------------------+\n\n"
     ]
    }
   ],
   "source": [
    "# Summary Statistics for 'trip_distance'\n",
    "taxi_df.describe(\"trip_distance\").show()"
   ]
  },
  {
   "cell_type": "code",
   "execution_count": 0,
   "metadata": {
    "application/vnd.databricks.v1+cell": {
     "cellMetadata": {
      "byteLimit": 2048000,
      "rowLimit": 10000
     },
     "inputWidgets": {},
     "nuid": "84b93332-955b-44f7-823b-fd91ccc92db0",
     "showTitle": false,
     "tableResultSettingsMap": {},
     "title": ""
    }
   },
   "outputs": [
    {
     "output_type": "stream",
     "name": "stdout",
     "output_type": "stream",
     "text": [
      "+-----------------+--------+\n|distance_category|   count|\n+-----------------+--------+\n| Very Low (<1 km)| 7923228|\n|     Low (1-5 km)|21141051|\n|Average (5-10 km)| 6025248|\n+-----------------+--------+\n\n"
     ]
    }
   ],
   "source": [
    "# Frequency distribution for trip distance bins\n",
    "frequency_bins = taxi_df.select(\n",
    "    when(col(\"trip_distance\") > 20, \"Very High (>20 km)\").when((col(\"trip_distance\") >= 10) & (col(\"trip_distance\") <= 20), \"High (10-20 km)\").when((col(\"trip_distance\") >= 5) & (col(\"trip_distance\") < 10), \"Average (5-10 km)\").when((col(\"trip_distance\") > 1) & (col(\"trip_distance\") < 5), \"Low (1-5 km)\").otherwise(\"Very Low (<1 km)\").alias(\"distance_category\")\n",
    ").groupBy(\"distance_category\").count()\n",
    "\n",
    "frequency_bins.show()"
   ]
  },
  {
   "cell_type": "code",
   "execution_count": 0,
   "metadata": {
    "application/vnd.databricks.v1+cell": {
     "cellMetadata": {
      "byteLimit": 2048000,
      "rowLimit": 10000
     },
     "inputWidgets": {},
     "nuid": "f65ad506-c842-44fe-ad5f-c730ff31935a",
     "showTitle": false,
     "tableResultSettingsMap": {},
     "title": ""
    }
   },
   "outputs": [
    {
     "output_type": "stream",
     "name": "stdout",
     "output_type": "stream",
     "text": [
      "+-----------------+--------+\n|trip_distance_bin|   count|\n+-----------------+--------+\n|           0-2 km|19252240|\n|           2-5 km| 9812039|\n|          5-10 km| 6025248|\n+-----------------+--------+\n\n+---------------+--------+\n|fare_amount_bin|   count|\n+---------------+--------+\n|         $10-20|15566278|\n|         $20-50| 9819975|\n|          $0-10| 9703274|\n+---------------+--------+\n\n"
     ]
    }
   ],
   "source": [
    "from pyspark.sql import functions as F\n",
    "\n",
    "# Define bin boundaries for trip_distance and fare_amount\n",
    "trip_distance_bins = [2, 5, 10, 20]  # Example: 0-2 km, 2-5 km, 5-10 km, 10-20 km, 20+ km\n",
    "fare_amount_bins = [10, 20, 50, 100]  # Example: $0-10, $10-20, $20-50, $50-100, $100+\n",
    "\n",
    "# Function to create bins and calculate frequency for a given column\n",
    "def create_frequency_bins(df, column_name, bins, bin_labels):\n",
    "    # Start bin column using the first condition\n",
    "    bin_col = F.when(F.col(column_name) < bins[0], bin_labels[0])\n",
    "    \n",
    "    # Iterate through bins to set conditions for each range\n",
    "    for i in range(1, len(bins)):\n",
    "        bin_col = bin_col.when((F.col(column_name) >= bins[i-1]) & (F.col(column_name) < bins[i]), bin_labels[i])\n",
    "    \n",
    "    # Add final bin for the last range (values greater than the last bin value)\n",
    "    bin_col = bin_col.when(F.col(column_name) >= bins[-1], bin_labels[-1])\n",
    "\n",
    "    # Add bin column to DataFrame\n",
    "    df = df.withColumn(f\"{column_name}_bin\", bin_col)\n",
    "\n",
    "    # Calculate frequency for each bin\n",
    "    frequency_df = df.groupBy(f\"{column_name}_bin\").count().orderBy(F.col(\"count\").desc())\n",
    "\n",
    "    return frequency_df\n",
    "\n",
    "# Define bin labels (must match the length of bins + 1)\n",
    "trip_distance_labels = [\"0-2 km\", \"2-5 km\", \"5-10 km\", \"10-20 km\", \"20+ km\"]\n",
    "fare_amount_labels = [\"$0-10\", \"$10-20\", \"$20-50\", \"$50-100\", \"$100+\"]\n",
    "\n",
    "# Create frequency distributions\n",
    "trip_distance_freq = create_frequency_bins(taxi_df, \"trip_distance\", trip_distance_bins, trip_distance_labels)\n",
    "fare_amount_freq = create_frequency_bins(taxi_df, \"fare_amount\", fare_amount_bins, fare_amount_labels)\n",
    "\n",
    "# Show the frequency tables\n",
    "trip_distance_freq.show()\n",
    "fare_amount_freq.show()"
   ]
  },
  {
   "cell_type": "code",
   "execution_count": 0,
   "metadata": {
    "application/vnd.databricks.v1+cell": {
     "cellMetadata": {
      "byteLimit": 2048000,
      "rowLimit": 10000
     },
     "inputWidgets": {},
     "nuid": "19542460-297d-44ce-af56-07b3a13cfba1",
     "showTitle": false,
     "tableResultSettingsMap": {},
     "title": ""
    }
   },
   "outputs": [
    {
     "output_type": "stream",
     "name": "stdout",
     "output_type": "stream",
     "text": [
      "Extracted files: ['taxi_zones.dbf', 'taxi_zones.shp.xml', 'taxi_zones.shp', 'taxi_zones.prj', 'taxi_zones.shx', 'taxi_zones.sbx', 'taxi_zones.sbn']\n"
     ]
    }
   ],
   "source": [
    "import zipfile\n",
    "import os\n",
    "\n",
    "# Define paths\n",
    "dbfs_zip_path = \"/FileStore/tables/taxi_zones/taxi_zones.zip\"\n",
    "local_zip_path = \"/tmp/taxi_zones.zip\"\n",
    "local_extract_path = \"/tmp/taxi_zones/\"\n",
    "\n",
    "# Copy the zip file from DBFS to a local path\n",
    "dbutils.fs.cp(dbfs_zip_path, \"file:\" + local_zip_path)\n",
    "\n",
    "# Unzip the file locally and list the contents\n",
    "with zipfile.ZipFile(local_zip_path, 'r') as zip_ref:\n",
    "    zip_ref.extractall(local_extract_path)\n",
    "\n",
    "# Verify extracted files\n",
    "extracted_files = os.listdir(local_extract_path)\n",
    "print(\"Extracted files:\", extracted_files)"
   ]
  },
  {
   "cell_type": "code",
   "execution_count": 0,
   "metadata": {
    "application/vnd.databricks.v1+cell": {
     "cellMetadata": {
      "byteLimit": 2048000,
      "rowLimit": 10000
     },
     "inputWidgets": {},
     "nuid": "75e1b307-a32c-4e78-8fdd-fcc5bfcbc200",
     "showTitle": false,
     "tableResultSettingsMap": {},
     "title": ""
    }
   },
   "outputs": [
    {
     "output_type": "display_data",
     "data": {
      "application/vnd.databricks.v1+h3_hint": "",
      "text/plain": []
     },
     "metadata": {},
     "output_type": "display_data"
    }
   ],
   "source": [
    "# Check for the .shp file in the extracted directory\n",
    "if \"taxi_zones.shp\" in extracted_files:\n",
    "    import geopandas as gpd\n",
    "    # Load the shapefile\n",
    "    zones = gpd.read_file(os.path.join(local_extract_path, \"taxi_zones.shp\"))\n",
    "    \n",
    "    # Convert to WGS 84 coordinate system if necessary\n",
    "    zone_gdf = zones.to_crs(epsg=4326)\n",
    "else:\n",
    "    print(\"Error: 'taxi_zones.shp' not found in extracted files.\")"
   ]
  },
  {
   "cell_type": "code",
   "execution_count": 0,
   "metadata": {
    "application/vnd.databricks.v1+cell": {
     "cellMetadata": {
      "byteLimit": 2048000,
      "rowLimit": 10000
     },
     "inputWidgets": {},
     "nuid": "4a8b9e85-9b5b-4182-9ae3-a6c6a8f0694c",
     "showTitle": false,
     "tableResultSettingsMap": {},
     "title": ""
    }
   },
   "outputs": [
    {
     "output_type": "stream",
     "name": "stdout",
     "output_type": "stream",
     "text": [
      "+--------------+------------+\n|pickup_borough|pickup_count|\n+--------------+------------+\n|        Queens|     3412817|\n|           EWR|         857|\n|      Brooklyn|      181687|\n| Staten Island|        1713|\n|     Manhattan|    31444933|\n|         Bronx|       47520|\n+--------------+------------+\n\n"
     ]
    }
   ],
   "source": [
    "from pyspark.sql import functions as F\n",
    "\n",
    "# Count pickups by borough\n",
    "pickup_borough_agg = (\n",
    "    taxi_df.groupBy(\"pickup_borough\")\n",
    "    .agg(F.count(\"PULocationID\").alias(\"pickup_count\"))\n",
    ")\n",
    "\n",
    "pickup_borough_agg.show()"
   ]
  },
  {
   "cell_type": "code",
   "execution_count": 0,
   "metadata": {
    "application/vnd.databricks.v1+cell": {
     "cellMetadata": {
      "byteLimit": 2048000,
      "rowLimit": 10000
     },
     "inputWidgets": {},
     "nuid": "c0a9437d-771e-4fce-b606-0804b656e3fb",
     "showTitle": false,
     "tableResultSettingsMap": {},
     "title": ""
    }
   },
   "outputs": [
    {
     "output_type": "stream",
     "name": "stdout",
     "output_type": "stream",
     "text": [
      "+---------------+-------------+\n|dropoff_borough|dropoff_count|\n+---------------+-------------+\n|         Queens|      1816689|\n|            EWR|       102619|\n|       Brooklyn|      1360259|\n|  Staten Island|         9796|\n|      Manhattan|     31597604|\n|          Bronx|       202560|\n+---------------+-------------+\n\n"
     ]
    }
   ],
   "source": [
    "# Count dropoffs by borough\n",
    "dropoff_borough_agg = (\n",
    "    taxi_df.groupBy(\"dropoff_borough\")\n",
    "    .agg(F.count(\"DOLocationID\").alias(\"dropoff_count\"))\n",
    ")\n",
    "\n",
    "dropoff_borough_agg.show()\n"
   ]
  },
  {
   "cell_type": "code",
   "execution_count": 0,
   "metadata": {
    "application/vnd.databricks.v1+cell": {
     "cellMetadata": {
      "byteLimit": 2048000,
      "rowLimit": 10000
     },
     "inputWidgets": {},
     "nuid": "463d7f55-e95b-46fc-ab05-7b10d14f96b7",
     "showTitle": false,
     "tableResultSettingsMap": {},
     "title": ""
    }
   },
   "outputs": [],
   "source": [
    "# Convert to Pandas DataFrames\n",
    "pickup_borough_agg_pd = pickup_borough_agg.toPandas()\n",
    "dropoff_borough_agg_pd = dropoff_borough_agg.toPandas()\n",
    "\n",
    "# If you have a GeoDataFrame called zone_gdf, ensure it is in Pandas\n",
    "zone_gdf_pd = zone_gdf.copy()  # Assuming zone_gdf is a GeoDataFrame"
   ]
  },
  {
   "cell_type": "code",
   "execution_count": 0,
   "metadata": {
    "application/vnd.databricks.v1+cell": {
     "cellMetadata": {
      "byteLimit": 2048000,
      "rowLimit": 10000
     },
     "inputWidgets": {},
     "nuid": "fa83da79-50b2-4e5e-bf8b-03a143377e4b",
     "showTitle": false,
     "tableResultSettingsMap": {},
     "title": ""
    }
   },
   "outputs": [],
   "source": [
    "# Convert to Pandas DataFrame and rename columns for consistency\n",
    "pickup_borough_agg_pd = pickup_borough_agg.toPandas().rename(columns={\"pickup_borough\": \"borough\"})\n",
    "dropoff_borough_agg_pd = dropoff_borough_agg.toPandas().rename(columns={\"dropoff_borough\": \"borough\"})"
   ]
  },
  {
   "cell_type": "code",
   "execution_count": 0,
   "metadata": {
    "application/vnd.databricks.v1+cell": {
     "cellMetadata": {
      "byteLimit": 2048000,
      "rowLimit": 10000
     },
     "inputWidgets": {},
     "nuid": "807c9672-d496-4a91-a1fd-c2b4eabb2a35",
     "showTitle": false,
     "tableResultSettingsMap": {},
     "title": ""
    }
   },
   "outputs": [],
   "source": [
    "# Merge pickup and dropoff counts with the original zone data for plotting\n",
    "pickup_borough_merged = zone_gdf.merge(pickup_borough_agg_pd, on='borough', how='left')\n",
    "dropoff_borough_merged = zone_gdf.merge(dropoff_borough_agg_pd, on='borough', how='left')"
   ]
  },
  {
   "cell_type": "code",
   "execution_count": 0,
   "metadata": {
    "application/vnd.databricks.v1+cell": {
     "cellMetadata": {
      "byteLimit": 2048000,
      "rowLimit": 10000
     },
     "inputWidgets": {},
     "nuid": "f6ba52fb-03c8-412f-a9c0-e23c0a33351f",
     "showTitle": false,
     "tableResultSettingsMap": {},
     "title": ""
    }
   },
   "outputs": [],
   "source": [
    "# Plot pickup and dropoff counts\n",
    "fig, ax = plt.subplots(1, 2, figsize=(16, 8))\n",
    "\n",
    "# Plotting Pickup Counts\n",
    "pickup_borough_merged.plot(column=\"pickup_count\", cmap=\"Oranges\", legend=True, ax=ax[0])\n",
    "ax[0].set_title(\"NYC Pickup Counts by Borough\")\n",
    "\n",
    "# Plotting Dropoff Counts\n",
    "dropoff_borough_merged.plot(column=\"dropoff_count\", cmap=\"Blues\", legend=True, ax=ax[1])\n",
    "ax[1].set_title(\"NYC Dropoff Counts by Borough\")\n",
    "\n",
    "plt.show()\n"
   ]
  },
  {
   "cell_type": "code",
   "execution_count": 0,
   "metadata": {
    "application/vnd.databricks.v1+cell": {
     "cellMetadata": {
      "byteLimit": 2048000,
      "rowLimit": 10000
     },
     "inputWidgets": {},
     "nuid": "caf39290-aa80-4967-9e37-544ead6bc57f",
     "showTitle": false,
     "tableResultSettingsMap": {},
     "title": ""
    }
   },
   "outputs": [
    {
     "output_type": "stream",
     "name": "stdout",
     "output_type": "stream",
     "text": [
      "Shape: (35089527, 41)\n"
     ]
    }
   ],
   "source": [
    "# Check the Shape and Schema\n",
    "# Get the number of rows and columns\n",
    "num_rows = taxi_df.count()\n",
    "num_cols = len(taxi_df.columns)\n",
    "print(f\"Shape: ({num_rows}, {num_cols})\")"
   ]
  },
  {
   "cell_type": "code",
   "execution_count": 0,
   "metadata": {
    "application/vnd.databricks.v1+cell": {
     "cellMetadata": {
      "byteLimit": 2048000,
      "rowLimit": 10000
     },
     "inputWidgets": {},
     "nuid": "3221b20a-e769-4b3c-a62b-361e5f16a112",
     "showTitle": false,
     "tableResultSettingsMap": {},
     "title": ""
    }
   },
   "outputs": [],
   "source": [
    "# Define a more descriptive Delta Lake storage path\n",
    "delta_path = \"/dbfs/FileStore/tables/Eda_univariate_taxi_data/\" \n",
    "# Write the DataFrame to Delta format\n",
    "taxi_df.write.format(\"delta\").mode(\"overwrite\").save(delta_path)\n"
   ]
  },
  {
   "cell_type": "code",
   "execution_count": 0,
   "metadata": {
    "application/vnd.databricks.v1+cell": {
     "cellMetadata": {
      "byteLimit": 2048000,
      "rowLimit": 10000
     },
     "inputWidgets": {},
     "nuid": "ddb39289-a971-453a-9430-97a335e46509",
     "showTitle": false,
     "tableResultSettingsMap": {},
     "title": ""
    }
   },
   "outputs": [],
   "source": []
  },
  {
   "cell_type": "code",
   "execution_count": 0,
   "metadata": {
    "application/vnd.databricks.v1+cell": {
     "cellMetadata": {
      "byteLimit": 2048000,
      "rowLimit": 10000
     },
     "inputWidgets": {},
     "nuid": "e084d606-5815-4340-946a-0ef6f3c881b8",
     "showTitle": false,
     "tableResultSettingsMap": {},
     "title": ""
    }
   },
   "outputs": [],
   "source": []
  },
  {
   "cell_type": "code",
   "execution_count": 0,
   "metadata": {
    "application/vnd.databricks.v1+cell": {
     "cellMetadata": {
      "byteLimit": 2048000,
      "rowLimit": 10000
     },
     "inputWidgets": {},
     "nuid": "71e59ccd-64b2-403d-b6a8-7b0998844889",
     "showTitle": false,
     "tableResultSettingsMap": {},
     "title": ""
    }
   },
   "outputs": [],
   "source": []
  },
  {
   "cell_type": "code",
   "execution_count": 0,
   "metadata": {
    "application/vnd.databricks.v1+cell": {
     "cellMetadata": {
      "byteLimit": 2048000,
      "rowLimit": 10000
     },
     "inputWidgets": {},
     "nuid": "9f049a8c-1f31-43d0-8219-36ad7a2154b5",
     "showTitle": false,
     "tableResultSettingsMap": {},
     "title": ""
    }
   },
   "outputs": [],
   "source": []
  },
  {
   "cell_type": "code",
   "execution_count": 0,
   "metadata": {
    "application/vnd.databricks.v1+cell": {
     "cellMetadata": {
      "byteLimit": 2048000,
      "rowLimit": 10000
     },
     "inputWidgets": {},
     "nuid": "6c05f78e-7ea6-4dee-abac-5216c58c9081",
     "showTitle": false,
     "tableResultSettingsMap": {},
     "title": ""
    }
   },
   "outputs": [],
   "source": []
  },
  {
   "cell_type": "code",
   "execution_count": 0,
   "metadata": {
    "application/vnd.databricks.v1+cell": {
     "cellMetadata": {
      "byteLimit": 2048000,
      "rowLimit": 10000
     },
     "inputWidgets": {},
     "nuid": "0cd13487-37c4-4363-859a-2bdbebebc305",
     "showTitle": false,
     "tableResultSettingsMap": {},
     "title": ""
    }
   },
   "outputs": [],
   "source": []
  },
  {
   "cell_type": "markdown",
   "metadata": {
    "application/vnd.databricks.v1+cell": {
     "cellMetadata": {
      "byteLimit": 2048000,
      "rowLimit": 10000
     },
     "inputWidgets": {},
     "nuid": "29d36444-9c9d-454b-bdad-386ccda88a34",
     "showTitle": false,
     "tableResultSettingsMap": {},
     "title": ""
    }
   },
   "source": []
  }
 ],
 "metadata": {
  "application/vnd.databricks.v1+notebook": {
   "dashboards": [],
   "environmentMetadata": null,
   "language": "python",
   "notebookMetadata": {
    "pythonIndentUnit": 4
   },
   "notebookName": "07_Eda_univariate",
   "widgets": {}
  },
  "language_info": {
   "name": "python"
  }
 },
 "nbformat": 4,
 "nbformat_minor": 0
}
