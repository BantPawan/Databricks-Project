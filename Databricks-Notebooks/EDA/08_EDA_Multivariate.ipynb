{
 "cells": [
  {
   "cell_type": "code",
   "execution_count": 0,
   "metadata": {
    "application/vnd.databricks.v1+cell": {
     "cellMetadata": {
      "byteLimit": 2048000,
      "rowLimit": 10000
     },
     "inputWidgets": {},
     "nuid": "31c3a5a7-cb4c-4ffc-97d1-92881df82f3c",
     "showTitle": false,
     "tableResultSettingsMap": {},
     "title": ""
    }
   },
   "outputs": [
    {
     "output_type": "display_data",
     "data": {
      "text/html": [
       "<style scoped>\n",
       "  .table-result-container {\n",
       "    max-height: 300px;\n",
       "    overflow: auto;\n",
       "  }\n",
       "  table, th, td {\n",
       "    border: 1px solid black;\n",
       "    border-collapse: collapse;\n",
       "  }\n",
       "  th, td {\n",
       "    padding: 5px;\n",
       "  }\n",
       "  th {\n",
       "    text-align: left;\n",
       "  }\n",
       "</style><div class='table-result-container'><table class='table-result'><thead style='background-color: white'><tr><th>path</th><th>name</th><th>size</th><th>modificationTime</th></tr></thead><tbody><tr><td>dbfs:/dbfs/FileStore/tables/Data_Processing_Pulic_Holiday/</td><td>Data_Processing_Pulic_Holiday/</td><td>0</td><td>1732625555348</td></tr><tr><td>dbfs:/dbfs/FileStore/tables/Eda_univariate_taxi_data/</td><td>Eda_univariate_taxi_data/</td><td>0</td><td>1732625555349</td></tr><tr><td>dbfs:/dbfs/FileStore/tables/cleaned_nyc_taxi_fare/</td><td>cleaned_nyc_taxi_fare/</td><td>0</td><td>1732625555349</td></tr><tr><td>dbfs:/dbfs/FileStore/tables/data_processed_lat_long/</td><td>data_processed_lat_long/</td><td>0</td><td>1732625555349</td></tr><tr><td>dbfs:/dbfs/FileStore/tables/data_processed_taxi_zones/</td><td>data_processed_taxi_zones/</td><td>0</td><td>1732625555349</td></tr><tr><td>dbfs:/dbfs/FileStore/tables/data_processed_trip_data/</td><td>data_processed_trip_data/</td><td>0</td><td>1732625555349</td></tr></tbody></table></div>"
      ]
     },
     "metadata": {
      "application/vnd.databricks.v1+output": {
       "addedWidgets": {},
       "aggData": [],
       "aggError": "",
       "aggOverflow": false,
       "aggSchema": [],
       "aggSeriesLimitReached": false,
       "aggType": "",
       "arguments": {},
       "columnCustomDisplayInfos": {},
       "data": [
        [
         "dbfs:/dbfs/FileStore/tables/Data_Processing_Pulic_Holiday/",
         "Data_Processing_Pulic_Holiday/",
         0,
         1732625555348
        ],
        [
         "dbfs:/dbfs/FileStore/tables/Eda_univariate_taxi_data/",
         "Eda_univariate_taxi_data/",
         0,
         1732625555349
        ],
        [
         "dbfs:/dbfs/FileStore/tables/cleaned_nyc_taxi_fare/",
         "cleaned_nyc_taxi_fare/",
         0,
         1732625555349
        ],
        [
         "dbfs:/dbfs/FileStore/tables/data_processed_lat_long/",
         "data_processed_lat_long/",
         0,
         1732625555349
        ],
        [
         "dbfs:/dbfs/FileStore/tables/data_processed_taxi_zones/",
         "data_processed_taxi_zones/",
         0,
         1732625555349
        ],
        [
         "dbfs:/dbfs/FileStore/tables/data_processed_trip_data/",
         "data_processed_trip_data/",
         0,
         1732625555349
        ]
       ],
       "datasetInfos": [],
       "dbfsResultPath": null,
       "isJsonSchema": true,
       "metadata": {},
       "overflow": false,
       "plotOptions": {
        "customPlotOptions": {},
        "displayType": "table",
        "pivotAggregation": null,
        "pivotColumns": null,
        "xColumns": null,
        "yColumns": null
       },
       "removedWidgets": [],
       "schema": [
        {
         "metadata": "{}",
         "name": "path",
         "type": "\"string\""
        },
        {
         "metadata": "{}",
         "name": "name",
         "type": "\"string\""
        },
        {
         "metadata": "{}",
         "name": "size",
         "type": "\"long\""
        },
        {
         "metadata": "{}",
         "name": "modificationTime",
         "type": "\"long\""
        }
       ],
       "type": "table"
      }
     },
     "output_type": "display_data"
    }
   ],
   "source": [
    "display(dbutils.fs.ls(\"/dbfs/FileStore/tables/\"))"
   ]
  },
  {
   "cell_type": "code",
   "execution_count": 0,
   "metadata": {
    "application/vnd.databricks.v1+cell": {
     "cellMetadata": {
      "byteLimit": 2048000,
      "rowLimit": 10000
     },
     "inputWidgets": {},
     "nuid": "19ed4143-5e00-4326-869d-6ef9649dc814",
     "showTitle": false,
     "tableResultSettingsMap": {},
     "title": ""
    }
   },
   "outputs": [],
   "source": [
    "from pyspark.sql import SparkSession\n",
    "\n",
    "# Initialize Spark session\n",
    "spark = SparkSession.builder \\\n",
    "    .appName(\"NYC Taxi Fare Analysis\") \\\n",
    "    .getOrCreate()"
   ]
  },
  {
   "cell_type": "code",
   "execution_count": 0,
   "metadata": {
    "application/vnd.databricks.v1+cell": {
     "cellMetadata": {
      "byteLimit": 2048000,
      "rowLimit": 10000
     },
     "inputWidgets": {},
     "nuid": "21208d15-4695-43e9-b3ba-a80105ee40c6",
     "showTitle": false,
     "tableResultSettingsMap": {},
     "title": ""
    }
   },
   "outputs": [
    {
     "output_type": "display_data",
     "data": {
      "text/html": [
       "<style scoped>\n",
       "  .table-result-container {\n",
       "    max-height: 300px;\n",
       "    overflow: auto;\n",
       "  }\n",
       "  table, th, td {\n",
       "    border: 1px solid black;\n",
       "    border-collapse: collapse;\n",
       "  }\n",
       "  th, td {\n",
       "    padding: 5px;\n",
       "  }\n",
       "  th {\n",
       "    text-align: left;\n",
       "  }\n",
       "</style><div class='table-result-container'><table class='table-result'><thead style='background-color: white'><tr><th>DOLocationID</th><th>PULocationID</th><th>pickup_datetime</th><th>dropoff_datetime</th><th>passenger_count</th><th>trip_distance</th><th>payment_type</th><th>fare_amount</th><th>tolls_amount</th><th>improvement_surcharge</th><th>total_amount</th><th>trip_duration</th><th>pickup_day_of_week</th><th>pickup_hour</th><th>Month_Num</th><th>pickup_month</th><th>dropoff_hour</th><th>dropoff_day_of_week</th><th>dropoff_month</th><th>dropoff_week_of_year</th><th>pickup_date</th><th>pickup_time</th><th>dropoff_date</th><th>dropoff_time</th><th>pickup_latitude</th><th>pickup_longitude</th><th>dropoff_latitude</th><th>dropoff_longitude</th><th>distance_km</th><th>pickup_borough</th><th>pickup_zone</th><th>pickup_service_zone</th><th>LocationID</th><th>dropoff_borough</th><th>dropoff_zone</th><th>dropoff_service_zone</th><th>holidayName</th><th>normalizeHolidayName</th><th>is_holiday</th><th>temp</th><th>payment_type_label</th></tr></thead><tbody><tr><td>163</td><td>50</td><td>2023-10-09T11:04:08Z</td><td>2023-10-09T11:15:45Z</td><td>2</td><td>1.25</td><td>2</td><td>12.1</td><td>0.0</td><td>1.0</td><td>16.1</td><td>11.62</td><td>2</td><td>11</td><td>10</td><td>10</td><td>11</td><td>2</td><td>10</td><td>41</td><td>2023-10-09</td><td>11:04:08</td><td>2023-10-09</td><td>11:15:45</td><td>40.76624</td><td>-73.99514</td><td>40.76442</td><td>-73.97757</td><td>1.49</td><td>Manhattan</td><td>Clinton West</td><td>Yellow Zone</td><td>163</td><td>Manhattan</td><td>Midtown North</td><td>Yellow Zone</td><td>Columbus Day</td><td>Columbus Day</td><td>1</td><td>26.5</td><td>Cash</td></tr><tr><td>10</td><td>10</td><td>2023-07-17T15:09:40Z</td><td>2023-07-17T15:12:37Z</td><td>1</td><td>0.67</td><td>4</td><td>42.550000000000004</td><td>0.0</td><td>1.0</td><td>51.675</td><td>2.95</td><td>2</td><td>15</td><td>7</td><td>7</td><td>15</td><td>2</td><td>7</td><td>29</td><td>2023-07-17</td><td>15:09:40</td><td>2023-07-17</td><td>15:12:37</td><td>40.67895</td><td>-73.79099</td><td>40.67895</td><td>-73.79099</td><td>0.0</td><td>Queens</td><td>Baisley Park</td><td>Boro Zone</td><td>10</td><td>Queens</td><td>Baisley Park</td><td>Boro Zone</td><td>No Holiday</td><td>No Holiday</td><td>0</td><td>25.0</td><td>Dispute</td></tr><tr><td>238</td><td>10</td><td>2023-01-12T06:23:33Z</td><td>2023-01-12T07:07:51Z</td><td>1</td><td>7.004999999999999</td><td>1</td><td>42.550000000000004</td><td>6.55</td><td>1.0</td><td>51.675</td><td>44.3</td><td>5</td><td>6</td><td>1</td><td>1</td><td>7</td><td>5</td><td>1</td><td>2</td><td>2023-01-12</td><td>06:23:33</td><td>2023-01-12</td><td>07:07:51</td><td>40.67895</td><td>-73.79099</td><td>40.7917</td><td>-73.97305</td><td>19.81</td><td>Queens</td><td>Baisley Park</td><td>Boro Zone</td><td>238</td><td>Manhattan</td><td>Upper West Side North</td><td>Yellow Zone</td><td>No Holiday</td><td>No Holiday</td><td>0</td><td>18.0</td><td>Credit Card</td></tr><tr><td>68</td><td>10</td><td>2023-03-29T16:03:33Z</td><td>2023-03-29T16:56:57Z</td><td>1</td><td>7.004999999999999</td><td>1</td><td>42.550000000000004</td><td>6.55</td><td>1.0</td><td>51.675</td><td>53.4</td><td>4</td><td>16</td><td>3</td><td>3</td><td>16</td><td>4</td><td>3</td><td>13</td><td>2023-03-29</td><td>16:03:33</td><td>2023-03-29</td><td>16:56:57</td><td>40.67895</td><td>-73.79099</td><td>40.74843</td><td>-73.99992</td><td>19.23</td><td>Queens</td><td>Baisley Park</td><td>Boro Zone</td><td>68</td><td>Manhattan</td><td>East Chelsea</td><td>Yellow Zone</td><td>No Holiday</td><td>No Holiday</td><td>0</td><td>27.3</td><td>Credit Card</td></tr><tr><td>162</td><td>10</td><td>2023-07-16T12:59:19Z</td><td>2023-07-16T13:34:36Z</td><td>4</td><td>7.004999999999999</td><td>1</td><td>42.550000000000004</td><td>6.55</td><td>1.0</td><td>51.675</td><td>35.28</td><td>1</td><td>12</td><td>7</td><td>7</td><td>13</td><td>1</td><td>7</td><td>28</td><td>2023-07-16</td><td>12:59:19</td><td>2023-07-16</td><td>13:34:36</td><td>40.67895</td><td>-73.79099</td><td>40.75669</td><td>-73.97236</td><td>17.56</td><td>Queens</td><td>Baisley Park</td><td>Boro Zone</td><td>162</td><td>Manhattan</td><td>Midtown East</td><td>Yellow Zone</td><td>No Holiday</td><td>No Holiday</td><td>0</td><td>24.4</td><td>Credit Card</td></tr></tbody></table></div>"
      ]
     },
     "metadata": {
      "application/vnd.databricks.v1+output": {
       "addedWidgets": {},
       "aggData": [],
       "aggError": "",
       "aggOverflow": false,
       "aggSchema": [],
       "aggSeriesLimitReached": false,
       "aggType": "",
       "arguments": {},
       "columnCustomDisplayInfos": {},
       "data": [
        [
         163,
         50,
         "2023-10-09T11:04:08Z",
         "2023-10-09T11:15:45Z",
         2,
         1.25,
         "2",
         12.1,
         0.0,
         1.0,
         16.1,
         11.62,
         2,
         11,
         10,
         10,
         11,
         2,
         10,
         41,
         "2023-10-09",
         "11:04:08",
         "2023-10-09",
         "11:15:45",
         40.76624,
         -73.99514,
         40.76442,
         -73.97757,
         1.49,
         "Manhattan",
         "Clinton West",
         "Yellow Zone",
         163,
         "Manhattan",
         "Midtown North",
         "Yellow Zone",
         "Columbus Day",
         "Columbus Day",
         1,
         26.5,
         "Cash"
        ],
        [
         10,
         10,
         "2023-07-17T15:09:40Z",
         "2023-07-17T15:12:37Z",
         1,
         0.67,
         "4",
         42.550000000000004,
         0.0,
         1.0,
         51.675,
         2.95,
         2,
         15,
         7,
         7,
         15,
         2,
         7,
         29,
         "2023-07-17",
         "15:09:40",
         "2023-07-17",
         "15:12:37",
         40.67895,
         -73.79099,
         40.67895,
         -73.79099,
         0.0,
         "Queens",
         "Baisley Park",
         "Boro Zone",
         10,
         "Queens",
         "Baisley Park",
         "Boro Zone",
         "No Holiday",
         "No Holiday",
         0,
         25.0,
         "Dispute"
        ],
        [
         238,
         10,
         "2023-01-12T06:23:33Z",
         "2023-01-12T07:07:51Z",
         1,
         7.004999999999999,
         "1",
         42.550000000000004,
         6.55,
         1.0,
         51.675,
         44.3,
         5,
         6,
         1,
         1,
         7,
         5,
         1,
         2,
         "2023-01-12",
         "06:23:33",
         "2023-01-12",
         "07:07:51",
         40.67895,
         -73.79099,
         40.7917,
         -73.97305,
         19.81,
         "Queens",
         "Baisley Park",
         "Boro Zone",
         238,
         "Manhattan",
         "Upper West Side North",
         "Yellow Zone",
         "No Holiday",
         "No Holiday",
         0,
         18.0,
         "Credit Card"
        ],
        [
         68,
         10,
         "2023-03-29T16:03:33Z",
         "2023-03-29T16:56:57Z",
         1,
         7.004999999999999,
         "1",
         42.550000000000004,
         6.55,
         1.0,
         51.675,
         53.4,
         4,
         16,
         3,
         3,
         16,
         4,
         3,
         13,
         "2023-03-29",
         "16:03:33",
         "2023-03-29",
         "16:56:57",
         40.67895,
         -73.79099,
         40.74843,
         -73.99992,
         19.23,
         "Queens",
         "Baisley Park",
         "Boro Zone",
         68,
         "Manhattan",
         "East Chelsea",
         "Yellow Zone",
         "No Holiday",
         "No Holiday",
         0,
         27.3,
         "Credit Card"
        ],
        [
         162,
         10,
         "2023-07-16T12:59:19Z",
         "2023-07-16T13:34:36Z",
         4,
         7.004999999999999,
         "1",
         42.550000000000004,
         6.55,
         1.0,
         51.675,
         35.28,
         1,
         12,
         7,
         7,
         13,
         1,
         7,
         28,
         "2023-07-16",
         "12:59:19",
         "2023-07-16",
         "13:34:36",
         40.67895,
         -73.79099,
         40.75669,
         -73.97236,
         17.56,
         "Queens",
         "Baisley Park",
         "Boro Zone",
         162,
         "Manhattan",
         "Midtown East",
         "Yellow Zone",
         "No Holiday",
         "No Holiday",
         0,
         24.4,
         "Credit Card"
        ]
       ],
       "datasetInfos": [],
       "dbfsResultPath": null,
       "isJsonSchema": true,
       "metadata": {},
       "overflow": false,
       "plotOptions": {
        "customPlotOptions": {},
        "displayType": "table",
        "pivotAggregation": null,
        "pivotColumns": null,
        "xColumns": null,
        "yColumns": null
       },
       "removedWidgets": [],
       "schema": [
        {
         "metadata": "{}",
         "name": "DOLocationID",
         "type": "\"integer\""
        },
        {
         "metadata": "{}",
         "name": "PULocationID",
         "type": "\"integer\""
        },
        {
         "metadata": "{}",
         "name": "pickup_datetime",
         "type": "\"timestamp\""
        },
        {
         "metadata": "{}",
         "name": "dropoff_datetime",
         "type": "\"timestamp\""
        },
        {
         "metadata": "{}",
         "name": "passenger_count",
         "type": "\"integer\""
        },
        {
         "metadata": "{}",
         "name": "trip_distance",
         "type": "\"double\""
        },
        {
         "metadata": "{}",
         "name": "payment_type",
         "type": "\"string\""
        },
        {
         "metadata": "{}",
         "name": "fare_amount",
         "type": "\"double\""
        },
        {
         "metadata": "{}",
         "name": "tolls_amount",
         "type": "\"double\""
        },
        {
         "metadata": "{}",
         "name": "improvement_surcharge",
         "type": "\"double\""
        },
        {
         "metadata": "{}",
         "name": "total_amount",
         "type": "\"double\""
        },
        {
         "metadata": "{}",
         "name": "trip_duration",
         "type": "\"double\""
        },
        {
         "metadata": "{}",
         "name": "pickup_day_of_week",
         "type": "\"integer\""
        },
        {
         "metadata": "{}",
         "name": "pickup_hour",
         "type": "\"integer\""
        },
        {
         "metadata": "{}",
         "name": "Month_Num",
         "type": "\"integer\""
        },
        {
         "metadata": "{}",
         "name": "pickup_month",
         "type": "\"integer\""
        },
        {
         "metadata": "{}",
         "name": "dropoff_hour",
         "type": "\"integer\""
        },
        {
         "metadata": "{}",
         "name": "dropoff_day_of_week",
         "type": "\"integer\""
        },
        {
         "metadata": "{}",
         "name": "dropoff_month",
         "type": "\"integer\""
        },
        {
         "metadata": "{}",
         "name": "dropoff_week_of_year",
         "type": "\"integer\""
        },
        {
         "metadata": "{}",
         "name": "pickup_date",
         "type": "\"date\""
        },
        {
         "metadata": "{}",
         "name": "pickup_time",
         "type": "\"string\""
        },
        {
         "metadata": "{}",
         "name": "dropoff_date",
         "type": "\"string\""
        },
        {
         "metadata": "{}",
         "name": "dropoff_time",
         "type": "\"string\""
        },
        {
         "metadata": "{}",
         "name": "pickup_latitude",
         "type": "\"double\""
        },
        {
         "metadata": "{}",
         "name": "pickup_longitude",
         "type": "\"double\""
        },
        {
         "metadata": "{}",
         "name": "dropoff_latitude",
         "type": "\"double\""
        },
        {
         "metadata": "{}",
         "name": "dropoff_longitude",
         "type": "\"double\""
        },
        {
         "metadata": "{}",
         "name": "distance_km",
         "type": "\"double\""
        },
        {
         "metadata": "{}",
         "name": "pickup_borough",
         "type": "\"string\""
        },
        {
         "metadata": "{}",
         "name": "pickup_zone",
         "type": "\"string\""
        },
        {
         "metadata": "{}",
         "name": "pickup_service_zone",
         "type": "\"string\""
        },
        {
         "metadata": "{}",
         "name": "LocationID",
         "type": "\"integer\""
        },
        {
         "metadata": "{}",
         "name": "dropoff_borough",
         "type": "\"string\""
        },
        {
         "metadata": "{}",
         "name": "dropoff_zone",
         "type": "\"string\""
        },
        {
         "metadata": "{}",
         "name": "dropoff_service_zone",
         "type": "\"string\""
        },
        {
         "metadata": "{}",
         "name": "holidayName",
         "type": "\"string\""
        },
        {
         "metadata": "{}",
         "name": "normalizeHolidayName",
         "type": "\"string\""
        },
        {
         "metadata": "{}",
         "name": "is_holiday",
         "type": "\"integer\""
        },
        {
         "metadata": "{}",
         "name": "temp",
         "type": "\"double\""
        },
        {
         "metadata": "{}",
         "name": "payment_type_label",
         "type": "\"string\""
        }
       ],
       "type": "table"
      }
     },
     "output_type": "display_data"
    }
   ],
   "source": [
    "# Load the Delta table\n",
    "taxi_df = spark.read.format(\"delta\").load(\"/dbfs/FileStore/tables/Eda_univariate_taxi_data/\")\n",
    "\n",
    "# Show the first few rows to verify\n",
    "display(taxi_df.limit(5))"
   ]
  },
  {
   "cell_type": "code",
   "execution_count": 0,
   "metadata": {
    "application/vnd.databricks.v1+cell": {
     "cellMetadata": {
      "byteLimit": 2048000,
      "rowLimit": 10000
     },
     "inputWidgets": {},
     "nuid": "7ce65bc7-59ab-4ac1-a2a6-86c3e3292497",
     "showTitle": false,
     "tableResultSettingsMap": {},
     "title": ""
    }
   },
   "outputs": [
    {
     "output_type": "stream",
     "name": "stdout",
     "output_type": "stream",
     "text": [
      "+-------+------------------+\n|summary|     trip_duration|\n+-------+------------------+\n|  count|          35062796|\n|   mean|16.378365347703202|\n| stddev|14.850211599459241|\n|    min|           -476.25|\n|    max|            999.87|\n+-------+------------------+\n\n"
     ]
    }
   ],
   "source": [
    "from pyspark.sql.functions import col\n",
    "# Summary Statistics for 'trip_duration'\n",
    "taxi_df.describe(\"trip_duration\").show()"
   ]
  },
  {
   "cell_type": "code",
   "execution_count": 0,
   "metadata": {
    "application/vnd.databricks.v1+cell": {
     "cellMetadata": {
      "byteLimit": 2048000,
      "rowLimit": 10000
     },
     "inputWidgets": {},
     "nuid": "c64dbbca-4ba3-4793-829e-2496ef6683aa",
     "showTitle": false,
     "tableResultSettingsMap": {},
     "title": ""
    }
   },
   "outputs": [],
   "source": [
    "import matplotlib.pyplot as plt\n",
    "import seaborn as sns\n",
    "\n",
    "# Convert the 'trip_duration' column to a Pandas DataFrame or Series\n",
    "trip_duration_df = taxi_df.select(\"trip_duration\").toPandas()[\"trip_duration\"]\n",
    "\n",
    "# Assuming 'trip_duration' column has been converted to Pandas Series for plotting\n",
    "plt.figure(figsize=(14, 6))\n",
    "plt.subplot(1, 2, 1)\n",
    "sns.histplot(trip_duration_df, bins=50, kde=True)\n",
    "plt.title(\"Distribution of Trip Duration\")\n",
    "\n",
    "plt.subplot(1, 2, 2)\n",
    "sns.boxplot(x=trip_duration_df)\n",
    "plt.title(\"Box Plot of Trip Duration\")\n",
    "plt.show()"
   ]
  },
  {
   "cell_type": "code",
   "execution_count": 0,
   "metadata": {
    "application/vnd.databricks.v1+cell": {
     "cellMetadata": {
      "byteLimit": 2048000,
      "rowLimit": 10000
     },
     "inputWidgets": {},
     "nuid": "c9ed43de-b4af-4fb8-ba5f-8f953c4fe9ad",
     "showTitle": false,
     "tableResultSettingsMap": {},
     "title": ""
    }
   },
   "outputs": [],
   "source": [
    "from pyspark.sql.functions import col\n",
    "\n",
    "# Filter out rows where trip_duration is less than or equal to zero\n",
    "taxi_df = taxi_df.filter(col(\"trip_duration\") > 0)\n",
    "\n",
    "from pyspark.sql import functions as F\n",
    "\n",
    "# Calculate Q1 and Q3\n",
    "q1, q3 = taxi_df.approxQuantile(\"trip_duration\", [0.25, 0.75], 0.05)\n",
    "iqr = q3 - q1\n",
    "\n",
    "# Define lower and upper bounds\n",
    "lower_bound = q1 - 1.5 * iqr\n",
    "upper_bound = q3 + 1.5 * iqr"
   ]
  },
  {
   "cell_type": "code",
   "execution_count": 0,
   "metadata": {
    "application/vnd.databricks.v1+cell": {
     "cellMetadata": {
      "byteLimit": 2048000,
      "rowLimit": 10000
     },
     "inputWidgets": {},
     "nuid": "975397af-b052-4b27-902c-ccf5ddd41ddc",
     "showTitle": false,
     "tableResultSettingsMap": {},
     "title": ""
    }
   },
   "outputs": [
    {
     "output_type": "stream",
     "name": "stdout",
     "output_type": "stream",
     "text": [
      "+-------+------------------+\n|summary|     trip_duration|\n+-------+------------------+\n|  count|           1900880|\n|   mean|57.221228457346214|\n| stddev| 31.67904550480439|\n|    min|             41.32|\n|    max|            999.87|\n+-------+------------------+\n\n"
     ]
    }
   ],
   "source": [
    "# Filter for outliers based on updated bounds\n",
    "outliers = taxi_df.filter((col(\"trip_duration\") < lower_bound) | (col(\"trip_duration\") > upper_bound))\n",
    "outliers.select(\"trip_duration\").describe().show()"
   ]
  },
  {
   "cell_type": "code",
   "execution_count": 0,
   "metadata": {
    "application/vnd.databricks.v1+cell": {
     "cellMetadata": {
      "byteLimit": 2048000,
      "rowLimit": 10000
     },
     "inputWidgets": {},
     "nuid": "258fc6b1-f969-400b-b870-da15d73f8648",
     "showTitle": false,
     "tableResultSettingsMap": {},
     "title": ""
    }
   },
   "outputs": [],
   "source": [
    "from pyspark.sql.functions import when\n",
    "\n",
    "# Cap trip_duration values at the upper bound\n",
    "taxi_df = taxi_df.withColumn(\"trip_duration\", when(col(\"trip_duration\") > upper_bound, upper_bound).otherwise(col(\"trip_duration\")))\n"
   ]
  },
  {
   "cell_type": "code",
   "execution_count": 0,
   "metadata": {
    "application/vnd.databricks.v1+cell": {
     "cellMetadata": {
      "byteLimit": 2048000,
      "rowLimit": 10000
     },
     "inputWidgets": {},
     "nuid": "84e52eff-9cb9-48f2-a919-577e30db03b4",
     "showTitle": false,
     "tableResultSettingsMap": {},
     "title": ""
    }
   },
   "outputs": [
    {
     "output_type": "stream",
     "name": "stdout",
     "output_type": "stream",
     "text": [
      "+-------+------------------+\n|summary|     trip_duration|\n+-------+------------------+\n|  count|          35061515|\n|   mean|15.516971539578186|\n| stddev|10.418547501679267|\n|    min|              0.02|\n|    max|            41.305|\n+-------+------------------+\n\n"
     ]
    }
   ],
   "source": [
    "# Summary Statistics for 'trip_duration'\n",
    "taxi_df.describe(\"trip_duration\").show()"
   ]
  },
  {
   "cell_type": "code",
   "execution_count": 0,
   "metadata": {
    "application/vnd.databricks.v1+cell": {
     "cellMetadata": {
      "byteLimit": 2048000,
      "rowLimit": 10000
     },
     "inputWidgets": {},
     "nuid": "e49f247d-cdba-484d-96b1-c878ecae6409",
     "showTitle": false,
     "tableResultSettingsMap": {},
     "title": ""
    }
   },
   "outputs": [
    {
     "output_type": "stream",
     "name": "stdout",
     "output_type": "stream",
     "text": [
      "+------------------+------------------+\n|          skewness|          kurtosis|\n+------------------+------------------+\n|1.0610866267929013|0.3311170716022307|\n+------------------+------------------+\n\n"
     ]
    }
   ],
   "source": [
    "from pyspark.sql import functions as F\n",
    "\n",
    "# Calculate skewness and kurtosis for the trip_duration column\n",
    "fare_stats = taxi_df.select(\n",
    "    F.skewness(\"trip_duration\").alias(\"skewness\"),\n",
    "    F.kurtosis(\"trip_duration\").alias(\"kurtosis\")\n",
    ")\n",
    "\n",
    "# Display the results\n",
    "fare_stats.show()\n"
   ]
  },
  {
   "cell_type": "code",
   "execution_count": 0,
   "metadata": {
    "application/vnd.databricks.v1+cell": {
     "cellMetadata": {
      "byteLimit": 2048000,
      "rowLimit": 10000
     },
     "inputWidgets": {},
     "nuid": "338b2f74-c533-497a-96e8-5da2b1e0050a",
     "showTitle": false,
     "tableResultSettingsMap": {},
     "title": ""
    }
   },
   "outputs": [],
   "source": [
    "import matplotlib.pyplot as plt\n",
    "import seaborn as sns\n",
    "\n",
    "# Convert the 'trip_duration' column to a Pandas DataFrame or Series\n",
    "trip_duration_df = taxi_df.select(\"trip_duration\").toPandas()[\"trip_duration\"]\n",
    "\n",
    "# Assuming 'trip_duration' column has been converted to Pandas Series for plotting\n",
    "plt.figure(figsize=(14, 6))\n",
    "plt.subplot(1, 2, 1)\n",
    "sns.histplot(trip_duration_df, bins=50, kde=True)\n",
    "plt.title(\"Distribution of Trip Duration\")\n",
    "\n",
    "plt.subplot(1, 2, 2)\n",
    "sns.boxplot(x=trip_duration_df )\n",
    "plt.title(\"Box Plot of Trip Duration\")\n",
    "plt.show()"
   ]
  },
  {
   "cell_type": "markdown",
   "metadata": {
    "application/vnd.databricks.v1+cell": {
     "cellMetadata": {
      "byteLimit": 2048000,
      "rowLimit": 10000
     },
     "inputWidgets": {},
     "nuid": "fdf207c2-90af-4f80-b13e-8257c22ceda3",
     "showTitle": false,
     "tableResultSettingsMap": {},
     "title": ""
    }
   },
   "source": [
    "### Geographic Data Analysis (Latitude and Longitude)"
   ]
  },
  {
   "cell_type": "code",
   "execution_count": 0,
   "metadata": {
    "application/vnd.databricks.v1+cell": {
     "cellMetadata": {
      "byteLimit": 2048000,
      "rowLimit": 10000
     },
     "inputWidgets": {},
     "nuid": "3eac9c0a-c0d1-4cd7-a89b-5bbcabd1b346",
     "showTitle": false,
     "tableResultSettingsMap": {},
     "title": ""
    }
   },
   "outputs": [],
   "source": [
    "from pyspark.sql.functions import col\n",
    "import matplotlib.pyplot as plt\n",
    "\n",
    "# Define city border coordinates\n",
    "city_long_border = (-74.03, -73.75)\n",
    "city_lat_border = (40.63, 40.85)"
   ]
  },
  {
   "cell_type": "code",
   "execution_count": 0,
   "metadata": {
    "application/vnd.databricks.v1+cell": {
     "cellMetadata": {
      "byteLimit": 2048000,
      "rowLimit": 10000
     },
     "inputWidgets": {},
     "nuid": "5376e698-d594-4c7f-a9c7-6093ce7f2fc0",
     "showTitle": false,
     "tableResultSettingsMap": {},
     "title": ""
    }
   },
   "outputs": [],
   "source": [
    "# Filter data for valid latitude and longitude values\n",
    "taxi_df_filtered = taxi_df.filter(\n",
    "    (col(\"pickup_longitude\") >= city_long_border[0]) & \n",
    "    (col(\"pickup_longitude\") <= city_long_border[1]) &\n",
    "    (col(\"pickup_latitude\") >= city_lat_border[0]) & \n",
    "    (col(\"pickup_latitude\") <= city_lat_border[1]) &\n",
    "    (col(\"dropoff_longitude\") >= city_long_border[0]) & \n",
    "    (col(\"dropoff_longitude\") <= city_long_border[1]) &\n",
    "    (col(\"dropoff_latitude\") >= city_lat_border[0]) & \n",
    "    (col(\"dropoff_latitude\") <= city_lat_border[1])\n",
    ")"
   ]
  },
  {
   "cell_type": "code",
   "execution_count": 0,
   "metadata": {
    "application/vnd.databricks.v1+cell": {
     "cellMetadata": {
      "byteLimit": 2048000,
      "rowLimit": 10000
     },
     "inputWidgets": {},
     "nuid": "8fd8ad94-5b0c-42c5-8a1c-56647419c034",
     "showTitle": false,
     "tableResultSettingsMap": {},
     "title": ""
    }
   },
   "outputs": [],
   "source": [
    "# Convert filtered DataFrame to Pandas for plotting\n",
    "taxi_df_filtered_pd = taxi_df_filtered.select(\n",
    "    \"pickup_longitude\", \"pickup_latitude\", \n",
    "    \"dropoff_longitude\", \"dropoff_latitude\"\n",
    ").toPandas()"
   ]
  },
  {
   "cell_type": "code",
   "execution_count": 0,
   "metadata": {
    "application/vnd.databricks.v1+cell": {
     "cellMetadata": {
      "byteLimit": 2048000,
      "rowLimit": 10000
     },
     "inputWidgets": {},
     "nuid": "94838a03-0301-4bf8-8e24-84adff7b8249",
     "showTitle": false,
     "tableResultSettingsMap": {},
     "title": ""
    }
   },
   "outputs": [],
   "source": [
    "# Plot dropoffs\n",
    "plt.figure(figsize=(10, 6))\n",
    "plt.scatter(taxi_df_filtered_pd['dropoff_longitude'], taxi_df_filtered_pd['dropoff_latitude'],\n",
    "            color='green', s=0.02, alpha=0.6)\n",
    "plt.title(\"Dropoffs\")\n",
    "plt.xlim(city_long_border)\n",
    "plt.ylim(city_lat_border)\n",
    "plt.xlabel(\"Longitude\")\n",
    "plt.ylabel(\"Latitude\")\n",
    "plt.show()"
   ]
  },
  {
   "cell_type": "markdown",
   "metadata": {
    "application/vnd.databricks.v1+cell": {
     "cellMetadata": {
      "byteLimit": 2048000,
      "rowLimit": 10000
     },
     "inputWidgets": {},
     "nuid": "1571c6ec-901b-411f-abe3-71c5c45c3d80",
     "showTitle": false,
     "tableResultSettingsMap": {},
     "title": ""
    }
   },
   "source": [
    "#### Summary Statistics"
   ]
  },
  {
   "cell_type": "code",
   "execution_count": 0,
   "metadata": {
    "application/vnd.databricks.v1+cell": {
     "cellMetadata": {
      "byteLimit": 2048000,
      "rowLimit": 10000
     },
     "inputWidgets": {},
     "nuid": "5dd7d3a5-4240-4b69-994c-02c2906066c6",
     "showTitle": false,
     "tableResultSettingsMap": {},
     "title": ""
    }
   },
   "outputs": [
    {
     "output_type": "display_data",
     "data": {
      "text/html": [
       "<style scoped>\n",
       "  .table-result-container {\n",
       "    max-height: 300px;\n",
       "    overflow: auto;\n",
       "  }\n",
       "  table, th, td {\n",
       "    border: 1px solid black;\n",
       "    border-collapse: collapse;\n",
       "  }\n",
       "  th, td {\n",
       "    padding: 5px;\n",
       "  }\n",
       "  th {\n",
       "    text-align: left;\n",
       "  }\n",
       "</style><div class='table-result-container'><table class='table-result'><thead style='background-color: white'><tr><th>summary</th><th>fare_amount</th><th>trip_distance</th><th>tolls_amount</th><th>total_amount</th><th>trip_duration</th><th>distance_km</th><th>temp</th></tr></thead><tbody><tr><td>count</td><td>35061515</td><td>35061515</td><td>35061515</td><td>35061515</td><td>35061515</td><td>35061515</td><td>35061515</td></tr><tr><td>mean</td><td>17.432896390693585</td><td>2.6167978263487774</td><td>0.575403015242253</td><td>25.206987892038093</td><td>15.516971539578186</td><td>3.961897404605748</td><td>24.683449403068014</td></tr><tr><td>stddev</td><td>11.215482668541451</td><td>2.1125163679377073</td><td>2.0819540206218856</td><td>12.562150494545998</td><td>10.418547501679267</td><td>4.647141762422746</td><td>4.244249209397398</td></tr><tr><td>min</td><td>0.01</td><td>0.01</td><td>0.0</td><td>0.01</td><td>0.02</td><td>0.0</td><td>12.7</td></tr><tr><td>max</td><td>42.550000000000004</td><td>7.004999999999999</td><td>665.56</td><td>51.675</td><td>41.305</td><td>50.45</td><td>34.2</td></tr></tbody></table></div>"
      ]
     },
     "metadata": {
      "application/vnd.databricks.v1+output": {
       "addedWidgets": {},
       "aggData": [],
       "aggError": "",
       "aggOverflow": false,
       "aggSchema": [],
       "aggSeriesLimitReached": false,
       "aggType": "",
       "arguments": {},
       "columnCustomDisplayInfos": {},
       "data": [
        [
         "count",
         "35061515",
         "35061515",
         "35061515",
         "35061515",
         "35061515",
         "35061515",
         "35061515"
        ],
        [
         "mean",
         "17.432896390693585",
         "2.6167978263487774",
         "0.575403015242253",
         "25.206987892038093",
         "15.516971539578186",
         "3.961897404605748",
         "24.683449403068014"
        ],
        [
         "stddev",
         "11.215482668541451",
         "2.1125163679377073",
         "2.0819540206218856",
         "12.562150494545998",
         "10.418547501679267",
         "4.647141762422746",
         "4.244249209397398"
        ],
        [
         "min",
         "0.01",
         "0.01",
         "0.0",
         "0.01",
         "0.02",
         "0.0",
         "12.7"
        ],
        [
         "max",
         "42.550000000000004",
         "7.004999999999999",
         "665.56",
         "51.675",
         "41.305",
         "50.45",
         "34.2"
        ]
       ],
       "datasetInfos": [],
       "dbfsResultPath": null,
       "isJsonSchema": true,
       "metadata": {},
       "overflow": false,
       "plotOptions": {
        "customPlotOptions": {},
        "displayType": "table",
        "pivotAggregation": null,
        "pivotColumns": null,
        "xColumns": null,
        "yColumns": null
       },
       "removedWidgets": [],
       "schema": [
        {
         "metadata": "{}",
         "name": "summary",
         "type": "\"string\""
        },
        {
         "metadata": "{}",
         "name": "fare_amount",
         "type": "\"string\""
        },
        {
         "metadata": "{}",
         "name": "trip_distance",
         "type": "\"string\""
        },
        {
         "metadata": "{}",
         "name": "tolls_amount",
         "type": "\"string\""
        },
        {
         "metadata": "{}",
         "name": "total_amount",
         "type": "\"string\""
        },
        {
         "metadata": "{}",
         "name": "trip_duration",
         "type": "\"string\""
        },
        {
         "metadata": "{}",
         "name": "distance_km",
         "type": "\"string\""
        },
        {
         "metadata": "{}",
         "name": "temp",
         "type": "\"string\""
        }
       ],
       "type": "table"
      }
     },
     "output_type": "display_data"
    }
   ],
   "source": [
    "# Display summary statistics for numerical columns\n",
    "numeric_cols = [\"fare_amount\", \"trip_distance\", \"tolls_amount\", \"total_amount\", \"trip_duration\", \"distance_km\", \"temp\"]\n",
    "display(taxi_df.select(numeric_cols).describe())"
   ]
  },
  {
   "cell_type": "code",
   "execution_count": 0,
   "metadata": {
    "application/vnd.databricks.v1+cell": {
     "cellMetadata": {
      "byteLimit": 2048000,
      "rowLimit": 10000
     },
     "inputWidgets": {},
     "nuid": "9f25c9f4-805e-456d-8d1e-e1df4128a678",
     "showTitle": false,
     "tableResultSettingsMap": {},
     "title": ""
    }
   },
   "outputs": [],
   "source": [
    "from pyspark.ml.feature import VectorAssembler\n",
    "from pyspark.ml.stat import Correlation\n",
    "import pandas as pd\n",
    "import seaborn as sns\n",
    "import matplotlib.pyplot as plt\n",
    "\n",
    "# Select numerical columns and assemble them into a feature vector\n",
    "numeric_cols = [\"fare_amount\", \"trip_distance\", \"tolls_amount\", \"total_amount\", \"trip_duration\", \"distance_km\", \"temp\"]\n",
    "assembler = VectorAssembler(inputCols=numeric_cols, outputCol=\"features\")\n",
    "taxi_df_vector = assembler.transform(taxi_df).select(\"features\")\n",
    "\n",
    "# Calculate correlation matrix\n",
    "correlation_matrix = Correlation.corr(taxi_df_vector, \"features\").head()[0]\n",
    "correlation_values = correlation_matrix.toArray().tolist()\n",
    "\n",
    "# Convert to a DataFrame for seaborn heatmap\n",
    "corr_df = pd.DataFrame(correlation_values, index=numeric_cols, columns=numeric_cols)\n",
    "\n",
    "# Plot heatmap\n",
    "plt.figure(figsize=(10, 8))\n",
    "sns.heatmap(corr_df, annot=True, cmap=\"coolwarm\", fmt=\".2f\")\n",
    "plt.title(\"Correlation Matrix of Numerical Features\")\n",
    "plt.show()\n"
   ]
  },
  {
   "cell_type": "markdown",
   "metadata": {
    "application/vnd.databricks.v1+cell": {
     "cellMetadata": {
      "byteLimit": 2048000,
      "rowLimit": 10000
     },
     "inputWidgets": {},
     "nuid": "bbca0573-09ba-4d9b-af20-48afc83c32cf",
     "showTitle": false,
     "tableResultSettingsMap": {},
     "title": ""
    }
   },
   "source": [
    "# Numerical Features"
   ]
  },
  {
   "cell_type": "markdown",
   "metadata": {
    "application/vnd.databricks.v1+cell": {
     "cellMetadata": {
      "byteLimit": 2048000,
      "rowLimit": 10000
     },
     "inputWidgets": {},
     "nuid": "818b8cba-fd48-4f5e-a6c3-250aa2ee793f",
     "showTitle": false,
     "tableResultSettingsMap": {},
     "title": ""
    }
   },
   "source": [
    "## Fare Amount"
   ]
  },
  {
   "cell_type": "code",
   "execution_count": 0,
   "metadata": {
    "application/vnd.databricks.v1+cell": {
     "cellMetadata": {
      "byteLimit": 2048000,
      "rowLimit": 10000
     },
     "inputWidgets": {},
     "nuid": "87073a51-3215-41d7-906e-f50e3b02e5d9",
     "showTitle": false,
     "tableResultSettingsMap": {},
     "title": ""
    }
   },
   "outputs": [],
   "source": [
    "from pyspark.sql.functions import hour\n",
    "\n",
    "# Extract hour from timestamp and compute average fare\n",
    "hourly_fare_df = taxi_df.withColumn(\"hour\", hour(\"pickup_datetime\")) \\\n",
    "                        .groupBy(\"hour\") \\\n",
    "                        .avg(\"fare_amount\") \\\n",
    "                        .orderBy(\"hour\")\n",
    "\n",
    "# Convert to Pandas for visualization\n",
    "hourly_fare_pd = hourly_fare_df.toPandas()\n",
    "\n",
    "plt.figure(figsize=(10, 6))\n",
    "plt.plot(hourly_fare_pd[\"hour\"], hourly_fare_pd[\"avg(fare_amount)\"], marker='o')\n",
    "plt.xlabel(\"Hour of Day\")\n",
    "plt.ylabel(\"Average Fare Amount\")\n",
    "plt.title(\"Average Fare Amount by Hour of Day\")\n",
    "plt.grid(True)\n",
    "plt.show()"
   ]
  },
  {
   "cell_type": "markdown",
   "metadata": {
    "application/vnd.databricks.v1+cell": {
     "cellMetadata": {
      "byteLimit": 2048000,
      "rowLimit": 10000
     },
     "inputWidgets": {},
     "nuid": "540c62bc-0338-4c30-843d-5d736d7b15a7",
     "showTitle": false,
     "tableResultSettingsMap": {},
     "title": ""
    }
   },
   "source": [
    "#### Average trip distance by day of the week"
   ]
  },
  {
   "cell_type": "code",
   "execution_count": 0,
   "metadata": {
    "application/vnd.databricks.v1+cell": {
     "cellMetadata": {
      "byteLimit": 2048000,
      "rowLimit": 10000
     },
     "inputWidgets": {},
     "nuid": "4b2d2495-4fc0-4890-a878-8ced23585db3",
     "showTitle": false,
     "tableResultSettingsMap": {},
     "title": ""
    }
   },
   "outputs": [],
   "source": [
    "avg_distance_by_day = taxi_df.groupBy(\"pickup_day_of_week\").agg(F.mean(\"trip_distance\").alias(\"avg_distance\")).orderBy(\"pickup_day_of_week\")\n",
    "\n",
    "# Convert to pandas for plotting\n",
    "daily_distance_df = avg_distance_by_day.toPandas()\n",
    "\n",
    "# Plot\n",
    "plt.figure(figsize=(10, 6))\n",
    "plt.bar(daily_distance_df[\"pickup_day_of_week\"], daily_distance_df[\"avg_distance\"], color=\"forestgreen\")\n",
    "plt.title(\"Average Trip Distance by Day of Week\")\n",
    "plt.xlabel(\"Day of Week\")\n",
    "plt.ylabel(\"Average Trip Distance (miles)\")\n",
    "plt.show()\n"
   ]
  },
  {
   "cell_type": "markdown",
   "metadata": {
    "application/vnd.databricks.v1+cell": {
     "cellMetadata": {
      "byteLimit": 2048000,
      "rowLimit": 10000
     },
     "inputWidgets": {},
     "nuid": "f976a6ac-8197-47f8-b08f-c63c45c617b6",
     "showTitle": false,
     "tableResultSettingsMap": {},
     "title": ""
    }
   },
   "source": [
    "#### Average trips by weekdays"
   ]
  },
  {
   "cell_type": "code",
   "execution_count": 0,
   "metadata": {
    "application/vnd.databricks.v1+cell": {
     "cellMetadata": {
      "byteLimit": 2048000,
      "rowLimit": 10000
     },
     "inputWidgets": {},
     "nuid": "88f2cc12-6270-4bac-b8db-1f19a8ccfcf6",
     "showTitle": false,
     "tableResultSettingsMap": {},
     "title": ""
    }
   },
   "outputs": [],
   "source": [
    "avg_trip_by_weekday = taxi_df.groupBy(\"pickup_day_of_week\").count().orderBy(\"pickup_day_of_week\")\n",
    "\n",
    "# Convert to Pandas for visualization\n",
    "avg_trip_by_weekday_pd = avg_trip_by_weekday.toPandas()\n",
    "\n",
    "# Plot\n",
    "plt.bar(avg_trip_by_weekday_pd[\"pickup_day_of_week\"], avg_trip_by_weekday_pd[\"count\"])\n",
    "plt.xlabel(\"Weekday\")\n",
    "plt.ylabel(\"Average Trip Count\")\n",
    "plt.title(\"Average Trip by Weekdays\")\n",
    "plt.show()"
   ]
  },
  {
   "cell_type": "code",
   "execution_count": 0,
   "metadata": {
    "application/vnd.databricks.v1+cell": {
     "cellMetadata": {
      "byteLimit": 2048000,
      "rowLimit": 10000
     },
     "inputWidgets": {},
     "nuid": "df3e4abd-c8a2-4fa8-8372-e25a955dc5b6",
     "showTitle": false,
     "tableResultSettingsMap": {},
     "title": ""
    }
   },
   "outputs": [],
   "source": [
    "# Trip proportion by weekday\n",
    "trip_by_weekday = taxi_df.groupBy(\"pickup_day_of_week\").count()\n",
    "trip_by_weekday_pd = trip_by_weekday.toPandas()\n",
    "\n",
    "# Plot as donut chart\n",
    "plt.pie(trip_by_weekday_pd[\"count\"], labels=trip_by_weekday_pd[\"pickup_day_of_week\"], autopct=\"%1.1f%%\", startangle=90)\n",
    "plt.gca().add_artist(plt.Circle((0,0),0.7, color=\"white\"))  # For donut chart\n",
    "plt.title(\"Trip Proportion by Weekdays\")\n",
    "plt.show()"
   ]
  },
  {
   "cell_type": "markdown",
   "metadata": {
    "application/vnd.databricks.v1+cell": {
     "cellMetadata": {
      "byteLimit": 2048000,
      "rowLimit": 10000
     },
     "inputWidgets": {},
     "nuid": "c81a5343-8de3-4be1-897f-5b868018dc84",
     "showTitle": false,
     "tableResultSettingsMap": {},
     "title": ""
    }
   },
   "source": [
    "#### Proportion of trips for each weekday."
   ]
  },
  {
   "cell_type": "markdown",
   "metadata": {
    "application/vnd.databricks.v1+cell": {
     "cellMetadata": {
      "byteLimit": 2048000,
      "rowLimit": 10000
     },
     "inputWidgets": {},
     "nuid": "378853d9-2542-4df3-9738-617469d76c26",
     "showTitle": false,
     "tableResultSettingsMap": {},
     "title": ""
    }
   },
   "source": [
    "#### Fare by Payment Type"
   ]
  },
  {
   "cell_type": "code",
   "execution_count": 0,
   "metadata": {
    "application/vnd.databricks.v1+cell": {
     "cellMetadata": {
      "byteLimit": 2048000,
      "rowLimit": 10000
     },
     "inputWidgets": {},
     "nuid": "56901022-7afb-41db-bb98-96153c4ff0cd",
     "showTitle": false,
     "tableResultSettingsMap": {},
     "title": ""
    }
   },
   "outputs": [],
   "source": [
    "# Group by payment type and calculate average fare\n",
    "payment_fare_df = taxi_df.groupBy(\"payment_type\").avg(\"fare_amount\")\n",
    "\n",
    "# Convert to Pandas for plotting\n",
    "payment_fare_pd = payment_fare_df.toPandas()\n",
    "\n",
    "plt.figure(figsize=(10, 6))\n",
    "sns.barplot(x=\"payment_type\", y=\"avg(fare_amount)\", data=payment_fare_pd, palette=\"viridis\")\n",
    "plt.xlabel(\"Payment Type\")\n",
    "plt.ylabel(\"Average Fare Amount\")\n",
    "plt.title(\"Average Fare Amount by Payment Type\")\n",
    "plt.show()"
   ]
  },
  {
   "cell_type": "markdown",
   "metadata": {
    "application/vnd.databricks.v1+cell": {
     "cellMetadata": {
      "byteLimit": 2048000,
      "rowLimit": 10000
     },
     "inputWidgets": {},
     "nuid": "b37ec7c6-e0fb-499d-81ca-b0e97532c2af",
     "showTitle": false,
     "tableResultSettingsMap": {},
     "title": ""
    }
   },
   "source": [
    "#### Total Amount vs. Trip Duration"
   ]
  },
  {
   "cell_type": "code",
   "execution_count": 0,
   "metadata": {
    "application/vnd.databricks.v1+cell": {
     "cellMetadata": {
      "byteLimit": 2048000,
      "rowLimit": 10000
     },
     "inputWidgets": {},
     "nuid": "1b889025-eb59-43c4-898e-ece2ddaf4d9f",
     "showTitle": false,
     "tableResultSettingsMap": {},
     "title": ""
    }
   },
   "outputs": [],
   "source": [
    "# Sample and plot data for Total Amount vs Trip Duration\n",
    "sample_df = taxi_df.select(\"trip_duration\", \"total_amount\").sample(fraction=0.01).toPandas()\n",
    "\n",
    "plt.figure(figsize=(8, 6))\n",
    "plt.scatter(sample_df[\"trip_duration\"], sample_df[\"total_amount\"], alpha=0.5, color=\"orange\")\n",
    "plt.title(\"Trip Duration vs. Total Amount\")\n",
    "plt.xlabel(\"Trip Duration (seconds)\")\n",
    "plt.ylabel(\"Total Amount\")\n",
    "plt.show()"
   ]
  },
  {
   "cell_type": "markdown",
   "metadata": {
    "application/vnd.databricks.v1+cell": {
     "cellMetadata": {
      "byteLimit": 2048000,
      "rowLimit": 10000
     },
     "inputWidgets": {},
     "nuid": "925cc8b8-43ad-413b-b046-0cb5c63ec372",
     "showTitle": false,
     "tableResultSettingsMap": {},
     "title": ""
    }
   },
   "source": [
    "### Trip Distance vs. Fare Amount"
   ]
  },
  {
   "cell_type": "code",
   "execution_count": 0,
   "metadata": {
    "application/vnd.databricks.v1+cell": {
     "cellMetadata": {
      "byteLimit": 2048000,
      "rowLimit": 10000
     },
     "inputWidgets": {},
     "nuid": "6f3917a2-9dab-44a2-97b7-24552750fbce",
     "showTitle": false,
     "tableResultSettingsMap": {},
     "title": ""
    }
   },
   "outputs": [],
   "source": [
    "# Sample data\n",
    "sample_df = taxi_df.select(\"trip_distance\", \"fare_amount\").sample(fraction=0.01).toPandas()"
   ]
  },
  {
   "cell_type": "code",
   "execution_count": 0,
   "metadata": {
    "application/vnd.databricks.v1+cell": {
     "cellMetadata": {
      "byteLimit": 2048000,
      "rowLimit": 10000
     },
     "inputWidgets": {},
     "nuid": "3c745d9a-9a28-46d0-a4cc-f915d75b9e1e",
     "showTitle": false,
     "tableResultSettingsMap": {},
     "title": ""
    }
   },
   "outputs": [],
   "source": [
    "# Scatter plot\n",
    "plt.figure(figsize=(8, 6))\n",
    "plt.scatter(sample_df[\"trip_distance\"], sample_df[\"fare_amount\"], alpha=0.5, color=\"teal\")\n",
    "plt.title(\"Trip Distance vs. Fare Amount\")\n",
    "plt.xlabel(\"Trip Distance (miles)\")\n",
    "plt.ylabel(\"Fare Amount\")\n",
    "plt.show()"
   ]
  },
  {
   "cell_type": "markdown",
   "metadata": {
    "application/vnd.databricks.v1+cell": {
     "cellMetadata": {
      "byteLimit": 2048000,
      "rowLimit": 10000
     },
     "inputWidgets": {},
     "nuid": "605c6fc2-a903-4766-b930-e73eb9628eca",
     "showTitle": false,
     "tableResultSettingsMap": {},
     "title": ""
    }
   },
   "source": [
    "#### Monthly trip distribution"
   ]
  },
  {
   "cell_type": "code",
   "execution_count": 0,
   "metadata": {
    "application/vnd.databricks.v1+cell": {
     "cellMetadata": {
      "byteLimit": 2048000,
      "rowLimit": 10000
     },
     "inputWidgets": {},
     "nuid": "96a14c66-f5fd-4584-a624-57e17683c7bb",
     "showTitle": false,
     "tableResultSettingsMap": {},
     "title": ""
    }
   },
   "outputs": [],
   "source": [
    "monthly_trip_distribution = taxi_df.groupBy(\"Month_Num\").count().orderBy(\"Month_Num\")\n",
    "\n",
    "# Convert to Pandas for visualization\n",
    "monthly_trip_distribution_pd = monthly_trip_distribution.toPandas()\n",
    "\n",
    "# Plot in matplotlib or seaborn\n",
    "import matplotlib.pyplot as plt\n",
    "\n",
    "plt.plot(monthly_trip_distribution_pd[\"Month_Num\"], monthly_trip_distribution_pd[\"count\"])\n",
    "plt.xlabel(\"Month\")\n",
    "plt.ylabel(\"Total Trip Count\")\n",
    "plt.title(\"Total Trip Distribution by Month\")\n",
    "plt.show()\n"
   ]
  },
  {
   "cell_type": "markdown",
   "metadata": {
    "application/vnd.databricks.v1+cell": {
     "cellMetadata": {
      "byteLimit": 2048000,
      "rowLimit": 10000
     },
     "inputWidgets": {},
     "nuid": "1eb78ec3-ab98-44f3-86e3-8daf026043eb",
     "showTitle": false,
     "tableResultSettingsMap": {},
     "title": ""
    }
   },
   "source": [
    "#### Total Trips by Day"
   ]
  },
  {
   "cell_type": "code",
   "execution_count": 0,
   "metadata": {
    "application/vnd.databricks.v1+cell": {
     "cellMetadata": {
      "byteLimit": 2048000,
      "rowLimit": 10000
     },
     "inputWidgets": {},
     "nuid": "4d0fa72b-23ce-4a45-b033-c804ae755d16",
     "showTitle": false,
     "tableResultSettingsMap": {},
     "title": ""
    }
   },
   "outputs": [],
   "source": [
    "# Daily trip distribution\n",
    "daily_trip_distribution = taxi_df.groupBy(\"pickup_date\").count().orderBy(\"pickup_date\")\n",
    "\n",
    "# Convert to Pandas for visualization\n",
    "daily_trip_distribution_pd = daily_trip_distribution.toPandas()\n",
    "\n",
    "# Plot\n",
    "plt.plot(daily_trip_distribution_pd[\"pickup_date\"], daily_trip_distribution_pd[\"count\"])\n",
    "plt.xlabel(\"Date\")\n",
    "plt.ylabel(\"Total Trip Count\")\n",
    "plt.title(\"Total Trip by Day\")\n",
    "plt.xticks(rotation=45)\n",
    "plt.show()"
   ]
  },
  {
   "cell_type": "markdown",
   "metadata": {
    "application/vnd.databricks.v1+cell": {
     "cellMetadata": {
      "byteLimit": 2048000,
      "rowLimit": 10000
     },
     "inputWidgets": {},
     "nuid": "a65df389-63ec-490f-adb1-cbfab695551e",
     "showTitle": false,
     "tableResultSettingsMap": {},
     "title": ""
    }
   },
   "source": [
    "#### Total Trip by Hour"
   ]
  },
  {
   "cell_type": "code",
   "execution_count": 0,
   "metadata": {
    "application/vnd.databricks.v1+cell": {
     "cellMetadata": {
      "byteLimit": 2048000,
      "rowLimit": 10000
     },
     "inputWidgets": {},
     "nuid": "339f2c90-3873-428f-b533-36902cf62a64",
     "showTitle": false,
     "tableResultSettingsMap": {},
     "title": ""
    }
   },
   "outputs": [],
   "source": [
    "import seaborn as sns\n",
    "\n",
    "# Total trip by hour and weekday\n",
    "hourly_trip = taxi_df.groupBy(\"pickup_hour\", \"pickup_day_of_week\").count().orderBy(\"pickup_hour\", \"pickup_day_of_week\")\n",
    "hourly_trip_pd = hourly_trip.toPandas()\n",
    "\n",
    "# Pivot the data\n",
    "hourly_trip_pivot = hourly_trip_pd.pivot(\"pickup_hour\", \"pickup_day_of_week\", \"count\")\n",
    "\n",
    "# Plot heatmap\n",
    "sns.heatmap(hourly_trip_pivot, cmap=\"YlGnBu\")\n",
    "plt.xlabel(\"Day of Week\")\n",
    "plt.ylabel(\"Hour of Day\")\n",
    "plt.title(\"Total Trip by Hour\")\n",
    "plt.show()"
   ]
  },
  {
   "cell_type": "markdown",
   "metadata": {
    "application/vnd.databricks.v1+cell": {
     "cellMetadata": {
      "byteLimit": 2048000,
      "rowLimit": 10000
     },
     "inputWidgets": {},
     "nuid": "f99ea9cd-a267-431c-82bf-e771da1419ba",
     "showTitle": false,
     "tableResultSettingsMap": {},
     "title": ""
    }
   },
   "source": [
    "#### Scatter Plot of Fare vs. Trip Distance"
   ]
  },
  {
   "cell_type": "code",
   "execution_count": 0,
   "metadata": {
    "application/vnd.databricks.v1+cell": {
     "cellMetadata": {
      "byteLimit": 2048000,
      "rowLimit": 10000
     },
     "inputWidgets": {},
     "nuid": "38da4c68-6d55-421f-951e-c97d08623143",
     "showTitle": false,
     "tableResultSettingsMap": {},
     "title": ""
    }
   },
   "outputs": [],
   "source": [
    "import seaborn as sns\n",
    "\n",
    "# Sample data to reduce memory load\n",
    "sample_df = taxi_df.select(\"fare_amount\", \"trip_distance\").sample(fraction=0.01).toPandas()\n",
    "\n",
    "plt.figure(figsize=(10, 6))\n",
    "sns.scatterplot(x=\"trip_distance\", y=\"fare_amount\", data=sample_df, alpha=0.5)\n",
    "plt.xlabel(\"Trip Distance (miles)\")\n",
    "plt.ylabel(\"Fare Amount\")\n",
    "plt.title(\"Fare Amount vs. Trip Distance\")\n",
    "plt.show()"
   ]
  },
  {
   "cell_type": "markdown",
   "metadata": {
    "application/vnd.databricks.v1+cell": {
     "cellMetadata": {
      "byteLimit": 2048000,
      "rowLimit": 10000
     },
     "inputWidgets": {},
     "nuid": "201f6f8c-39d0-4c27-b743-6650f1eb72af",
     "showTitle": false,
     "tableResultSettingsMap": {},
     "title": ""
    }
   },
   "source": [
    "#### Duration in minutes"
   ]
  },
  {
   "cell_type": "code",
   "execution_count": 0,
   "metadata": {
    "application/vnd.databricks.v1+cell": {
     "cellMetadata": {
      "byteLimit": 2048000,
      "rowLimit": 10000
     },
     "inputWidgets": {},
     "nuid": "fd2627bb-f81a-4930-8e0a-ebee11474b95",
     "showTitle": false,
     "tableResultSettingsMap": {},
     "title": ""
    }
   },
   "outputs": [],
   "source": [
    "from pyspark.sql.functions import unix_timestamp\n",
    "\n",
    "taxi_df = taxi_df.withColumn(\"trip_duration\", \n",
    "                             (unix_timestamp(\"dropoff_datetime\") - unix_timestamp(\"pickup_datetime\")) / 60)\n",
    "\n",
    "# Convert to Pandas for histogram\n",
    "duration_pd = taxi_df.select(\"trip_duration\").sample(fraction=0.1).toPandas()\n",
    "\n",
    "plt.figure(figsize=(10, 6))\n",
    "plt.hist(duration_pd['trip_duration'], bins=50, color='purple')\n",
    "plt.xlabel(\"Trip Duration (minutes)\")\n",
    "plt.ylabel(\"Frequency\")\n",
    "plt.title(\"Distribution of Trip Durations\")\n",
    "plt.show()"
   ]
  },
  {
   "cell_type": "markdown",
   "metadata": {
    "application/vnd.databricks.v1+cell": {
     "cellMetadata": {
      "byteLimit": 2048000,
      "rowLimit": 10000
     },
     "inputWidgets": {},
     "nuid": "05a43970-031e-4bed-ab56-f4bc5d59d442",
     "showTitle": false,
     "tableResultSettingsMap": {},
     "title": ""
    }
   },
   "source": [
    "### Pickup and Dropoff Hour"
   ]
  },
  {
   "cell_type": "markdown",
   "metadata": {
    "application/vnd.databricks.v1+cell": {
     "cellMetadata": {
      "byteLimit": 2048000,
      "rowLimit": 10000
     },
     "inputWidgets": {},
     "nuid": "a3bdd2ca-2d67-4f20-aa65-afaaf92b788b",
     "showTitle": false,
     "tableResultSettingsMap": {},
     "title": ""
    }
   },
   "source": [
    "#### Analyze hourly pickup distribution"
   ]
  },
  {
   "cell_type": "code",
   "execution_count": 0,
   "metadata": {
    "application/vnd.databricks.v1+cell": {
     "cellMetadata": {
      "byteLimit": 2048000,
      "rowLimit": 10000
     },
     "inputWidgets": {},
     "nuid": "2cfa3671-9397-4cad-9c3d-353b7959cc99",
     "showTitle": false,
     "tableResultSettingsMap": {},
     "title": ""
    }
   },
   "outputs": [],
   "source": [
    "pickup_hour_data = taxi_df.groupBy(\"pickup_hour\").count().orderBy(\"pickup_hour\").collect()\n",
    "x = [row['pickup_hour'] for row in pickup_hour_data]\n",
    "y = [row['count'] for row in pickup_hour_data]\n",
    "\n",
    "plt.plot(x, y, marker=\"o\", color=\"blue\")\n",
    "plt.title(\"Pickup Hour Distribution\")\n",
    "plt.xlabel(\"Hour of Day\")\n",
    "plt.ylabel(\"Frequency\")\n",
    "plt.show()\n"
   ]
  },
  {
   "cell_type": "markdown",
   "metadata": {
    "application/vnd.databricks.v1+cell": {
     "cellMetadata": {
      "byteLimit": 2048000,
      "rowLimit": 10000
     },
     "inputWidgets": {},
     "nuid": "059d4745-5a50-4d0c-adeb-7e30cb4aebd5",
     "showTitle": false,
     "tableResultSettingsMap": {},
     "title": ""
    }
   },
   "source": [
    "# Analyze hourly dropoff distribution"
   ]
  },
  {
   "cell_type": "code",
   "execution_count": 0,
   "metadata": {
    "application/vnd.databricks.v1+cell": {
     "cellMetadata": {
      "byteLimit": 2048000,
      "rowLimit": 10000
     },
     "inputWidgets": {},
     "nuid": "3b05f075-d194-4ab9-bd78-bb89388ebc63",
     "showTitle": false,
     "tableResultSettingsMap": {},
     "title": ""
    }
   },
   "outputs": [],
   "source": [
    "pickup_hour_data = taxi_df.groupBy(\"dropoff_hour\").count().orderBy(\"dropoff_hour\").collect()\n",
    "x = [row['dropoff_hour'] for row in pickup_hour_data]\n",
    "y = [row['count'] for row in pickup_hour_data]\n",
    "\n",
    "plt.plot(x, y, marker=\"o\", color=\"blue\")\n",
    "plt.title(\"Dropoff Hour Distribution\")\n",
    "plt.xlabel(\"Hour of Day\")\n",
    "plt.ylabel(\"Frequency\")\n",
    "plt.show()\n"
   ]
  },
  {
   "cell_type": "markdown",
   "metadata": {
    "application/vnd.databricks.v1+cell": {
     "cellMetadata": {
      "byteLimit": 2048000,
      "rowLimit": 10000
     },
     "inputWidgets": {},
     "nuid": "9d45a573-4f75-4f52-9200-aa3930c76d11",
     "showTitle": false,
     "tableResultSettingsMap": {},
     "title": ""
    }
   },
   "source": [
    "## Zone-Based Insights"
   ]
  },
  {
   "cell_type": "markdown",
   "metadata": {
    "application/vnd.databricks.v1+cell": {
     "cellMetadata": {
      "byteLimit": 2048000,
      "rowLimit": 10000
     },
     "inputWidgets": {},
     "nuid": "a1db7932-a7a9-4b97-8351-38c6cef765d0",
     "showTitle": false,
     "tableResultSettingsMap": {},
     "title": ""
    }
   },
   "source": [
    "#### Distribution of Total and Median Fare Amount based on Borough"
   ]
  },
  {
   "cell_type": "code",
   "execution_count": 0,
   "metadata": {
    "application/vnd.databricks.v1+cell": {
     "cellMetadata": {
      "byteLimit": 2048000,
      "rowLimit": 10000
     },
     "inputWidgets": {},
     "nuid": "1be430ac-b947-43e9-96c1-f065513dc52b",
     "showTitle": false,
     "tableResultSettingsMap": {},
     "title": ""
    }
   },
   "outputs": [],
   "source": [
    "# Calculate median fare amount by borough\n",
    "borough_fare = taxi_df.groupBy(\"pickup_borough\").agg(F.avg(\"fare_amount\").alias(\"avg_fare\"), F.expr(\"percentile_approx(fare_amount, 0.5)\").alias(\"median_fare\"))\n",
    "\n",
    "# Convert to Pandas for visualization\n",
    "borough_fare_pd = borough_fare.toPandas()\n",
    "\n",
    "import squarify\n",
    "\n",
    "# Plot as a tree map\n",
    "squarify.plot(sizes=borough_fare_pd[\"avg_fare\"], label=borough_fare_pd[\"pickup_borough\"], alpha=0.7)\n",
    "plt.title(\"Distribution of Average Fare Amount by Borough\")\n",
    "plt.axis(\"off\")\n",
    "plt.show()\n"
   ]
  },
  {
   "cell_type": "markdown",
   "metadata": {
    "application/vnd.databricks.v1+cell": {
     "cellMetadata": {
      "byteLimit": 2048000,
      "rowLimit": 10000
     },
     "inputWidgets": {},
     "nuid": "ba3190e5-d314-4773-8c11-9bd6a1112766",
     "showTitle": false,
     "tableResultSettingsMap": {},
     "title": ""
    }
   },
   "source": [
    "#### Median Fare Amount based on Time and Borough"
   ]
  },
  {
   "cell_type": "code",
   "execution_count": 0,
   "metadata": {
    "application/vnd.databricks.v1+cell": {
     "cellMetadata": {
      "byteLimit": 2048000,
      "rowLimit": 10000
     },
     "inputWidgets": {},
     "nuid": "a9ff8e10-e6f8-4d6e-aeea-e8238d48459a",
     "showTitle": false,
     "tableResultSettingsMap": {},
     "title": ""
    }
   },
   "outputs": [],
   "source": [
    "# Calculate median fare amount by hour and borough\n",
    "time_borough_fare = taxi_df.groupBy(\"pickup_hour\", \"pickup_borough\").agg(F.expr(\"percentile_approx(fare_amount, 0.5)\").alias(\"median_fare\"))\n",
    "\n",
    "# Convert to Pandas for visualization\n",
    "time_borough_fare_pd = time_borough_fare.toPandas()\n",
    "\n",
    "# Plot\n",
    "sns.barplot(x=\"pickup_hour\", y=\"median_fare\", hue=\"pickup_borough\", data=time_borough_fare_pd)\n",
    "plt.title(\"Median Fare Amount by Hour and Borough\")\n",
    "plt.show()\n"
   ]
  },
  {
   "cell_type": "markdown",
   "metadata": {
    "application/vnd.databricks.v1+cell": {
     "cellMetadata": {
      "byteLimit": 2048000,
      "rowLimit": 10000
     },
     "inputWidgets": {},
     "nuid": "9163f032-4e15-4d0b-86b3-894abdaf5021",
     "showTitle": false,
     "tableResultSettingsMap": {},
     "title": ""
    }
   },
   "source": [
    "#### Total Trip by Pickup Borough and Pickup Zone"
   ]
  },
  {
   "cell_type": "code",
   "execution_count": 0,
   "metadata": {
    "application/vnd.databricks.v1+cell": {
     "cellMetadata": {
      "byteLimit": 2048000,
      "rowLimit": 10000
     },
     "inputWidgets": {},
     "nuid": "6f1da9ff-6a42-4bac-bf61-591fdcf6a2b1",
     "showTitle": false,
     "tableResultSettingsMap": {},
     "title": ""
    }
   },
   "outputs": [
    {
     "output_type": "display_data",
     "data": {
      "text/plain": [
       "\u001B[0;31m---------------------------------------------------------------------------\u001B[0m\n",
       "\u001B[0;31mValueError\u001B[0m                                Traceback (most recent call last)\n",
       "File \u001B[0;32m<command-3885246210596891>, line 18\u001B[0m\n",
       "\u001B[1;32m     15\u001B[0m top_trips_pivot \u001B[38;5;241m=\u001B[39m top_trips_pd\u001B[38;5;241m.\u001B[39mpivot(index\u001B[38;5;241m=\u001B[39m\u001B[38;5;124m\"\u001B[39m\u001B[38;5;124mpickup_zone\u001B[39m\u001B[38;5;124m\"\u001B[39m, columns\u001B[38;5;241m=\u001B[39m\u001B[38;5;124m\"\u001B[39m\u001B[38;5;124mdropoff_zone\u001B[39m\u001B[38;5;124m\"\u001B[39m, values\u001B[38;5;241m=\u001B[39m\u001B[38;5;124m\"\u001B[39m\u001B[38;5;124mcount\u001B[39m\u001B[38;5;124m\"\u001B[39m)\n",
       "\u001B[1;32m     17\u001B[0m plt\u001B[38;5;241m.\u001B[39mfigure(figsize\u001B[38;5;241m=\u001B[39m(\u001B[38;5;241m12\u001B[39m, \u001B[38;5;241m8\u001B[39m))\n",
       "\u001B[0;32m---> 18\u001B[0m sns\u001B[38;5;241m.\u001B[39mheatmap(\n",
       "\u001B[1;32m     19\u001B[0m     top_trips_pivot,\n",
       "\u001B[1;32m     20\u001B[0m     annot\u001B[38;5;241m=\u001B[39m\u001B[38;5;28;01mTrue\u001B[39;00m,\n",
       "\u001B[1;32m     21\u001B[0m     fmt\u001B[38;5;241m=\u001B[39m\u001B[38;5;124m\"\u001B[39m\u001B[38;5;124md\u001B[39m\u001B[38;5;124m\"\u001B[39m,\n",
       "\u001B[1;32m     22\u001B[0m     cmap\u001B[38;5;241m=\u001B[39m\u001B[38;5;124m\"\u001B[39m\u001B[38;5;124mYlGnBu\u001B[39m\u001B[38;5;124m\"\u001B[39m,\n",
       "\u001B[1;32m     23\u001B[0m     linewidths\u001B[38;5;241m=\u001B[39m\u001B[38;5;241m0.5\u001B[39m,\n",
       "\u001B[1;32m     24\u001B[0m     linecolor\u001B[38;5;241m=\u001B[39m\u001B[38;5;124m\"\u001B[39m\u001B[38;5;124mgray\u001B[39m\u001B[38;5;124m\"\u001B[39m,\n",
       "\u001B[1;32m     25\u001B[0m     cbar_kws\u001B[38;5;241m=\u001B[39m{\u001B[38;5;124m\"\u001B[39m\u001B[38;5;124mlabel\u001B[39m\u001B[38;5;124m\"\u001B[39m: \u001B[38;5;124m\"\u001B[39m\u001B[38;5;124mTrip Count\u001B[39m\u001B[38;5;124m\"\u001B[39m},\n",
       "\u001B[1;32m     26\u001B[0m )\n",
       "\u001B[1;32m     27\u001B[0m plt\u001B[38;5;241m.\u001B[39mtitle(\u001B[38;5;124m\"\u001B[39m\u001B[38;5;124mTop 10 Trips by Pickup and Dropoff Zone\u001B[39m\u001B[38;5;124m\"\u001B[39m)\n",
       "\u001B[1;32m     28\u001B[0m plt\u001B[38;5;241m.\u001B[39mxlabel(\u001B[38;5;124m\"\u001B[39m\u001B[38;5;124mDropoff Zone\u001B[39m\u001B[38;5;124m\"\u001B[39m)\n",
       "\n",
       "File \u001B[0;32m/databricks/python/lib/python3.11/site-packages/seaborn/matrix.py:459\u001B[0m, in \u001B[0;36mheatmap\u001B[0;34m(data, vmin, vmax, cmap, center, robust, annot, fmt, annot_kws, linewidths, linecolor, cbar, cbar_kws, cbar_ax, square, xticklabels, yticklabels, mask, ax, **kwargs)\u001B[0m\n",
       "\u001B[1;32m    457\u001B[0m \u001B[38;5;28;01mif\u001B[39;00m square:\n",
       "\u001B[1;32m    458\u001B[0m     ax\u001B[38;5;241m.\u001B[39mset_aspect(\u001B[38;5;124m\"\u001B[39m\u001B[38;5;124mequal\u001B[39m\u001B[38;5;124m\"\u001B[39m)\n",
       "\u001B[0;32m--> 459\u001B[0m plotter\u001B[38;5;241m.\u001B[39mplot(ax, cbar_ax, kwargs)\n",
       "\u001B[1;32m    460\u001B[0m \u001B[38;5;28;01mreturn\u001B[39;00m ax\n",
       "\n",
       "File \u001B[0;32m/databricks/python/lib/python3.11/site-packages/seaborn/matrix.py:352\u001B[0m, in \u001B[0;36m_HeatMapper.plot\u001B[0;34m(self, ax, cax, kws)\u001B[0m\n",
       "\u001B[1;32m    350\u001B[0m \u001B[38;5;66;03m# Annotate the cells with the formatted values\u001B[39;00m\n",
       "\u001B[1;32m    351\u001B[0m \u001B[38;5;28;01mif\u001B[39;00m \u001B[38;5;28mself\u001B[39m\u001B[38;5;241m.\u001B[39mannot:\n",
       "\u001B[0;32m--> 352\u001B[0m     \u001B[38;5;28mself\u001B[39m\u001B[38;5;241m.\u001B[39m_annotate_heatmap(ax, mesh)\n",
       "\n",
       "File \u001B[0;32m/databricks/python/lib/python3.11/site-packages/seaborn/matrix.py:260\u001B[0m, in \u001B[0;36m_HeatMapper._annotate_heatmap\u001B[0;34m(self, ax, mesh)\u001B[0m\n",
       "\u001B[1;32m    258\u001B[0m lum \u001B[38;5;241m=\u001B[39m relative_luminance(color)\n",
       "\u001B[1;32m    259\u001B[0m text_color \u001B[38;5;241m=\u001B[39m \u001B[38;5;124m\"\u001B[39m\u001B[38;5;124m.15\u001B[39m\u001B[38;5;124m\"\u001B[39m \u001B[38;5;28;01mif\u001B[39;00m lum \u001B[38;5;241m>\u001B[39m \u001B[38;5;241m.408\u001B[39m \u001B[38;5;28;01melse\u001B[39;00m \u001B[38;5;124m\"\u001B[39m\u001B[38;5;124mw\u001B[39m\u001B[38;5;124m\"\u001B[39m\n",
       "\u001B[0;32m--> 260\u001B[0m annotation \u001B[38;5;241m=\u001B[39m (\u001B[38;5;124m\"\u001B[39m\u001B[38;5;124m{\u001B[39m\u001B[38;5;124m:\u001B[39m\u001B[38;5;124m\"\u001B[39m \u001B[38;5;241m+\u001B[39m \u001B[38;5;28mself\u001B[39m\u001B[38;5;241m.\u001B[39mfmt \u001B[38;5;241m+\u001B[39m \u001B[38;5;124m\"\u001B[39m\u001B[38;5;124m}\u001B[39m\u001B[38;5;124m\"\u001B[39m)\u001B[38;5;241m.\u001B[39mformat(val)\n",
       "\u001B[1;32m    261\u001B[0m text_kwargs \u001B[38;5;241m=\u001B[39m \u001B[38;5;28mdict\u001B[39m(color\u001B[38;5;241m=\u001B[39mtext_color, ha\u001B[38;5;241m=\u001B[39m\u001B[38;5;124m\"\u001B[39m\u001B[38;5;124mcenter\u001B[39m\u001B[38;5;124m\"\u001B[39m, va\u001B[38;5;241m=\u001B[39m\u001B[38;5;124m\"\u001B[39m\u001B[38;5;124mcenter\u001B[39m\u001B[38;5;124m\"\u001B[39m)\n",
       "\u001B[1;32m    262\u001B[0m text_kwargs\u001B[38;5;241m.\u001B[39mupdate(\u001B[38;5;28mself\u001B[39m\u001B[38;5;241m.\u001B[39mannot_kws)\n",
       "\n",
       "\u001B[0;31mValueError\u001B[0m: Unknown format code 'd' for object of type 'float'"
      ]
     },
     "metadata": {
      "application/vnd.databricks.v1+output": {
       "addedWidgets": {},
       "arguments": {},
       "datasetInfos": [],
       "jupyterProps": {
        "ename": "ValueError",
        "evalue": "Unknown format code 'd' for object of type 'float'"
       },
       "metadata": {
        "errorSummary": "<span class='ansi-red-fg'>ValueError</span>: Unknown format code 'd' for object of type 'float'"
       },
       "removedWidgets": [],
       "sqlProps": null,
       "stackFrames": [
        "\u001B[0;31m---------------------------------------------------------------------------\u001B[0m",
        "\u001B[0;31mValueError\u001B[0m                                Traceback (most recent call last)",
        "File \u001B[0;32m<command-3885246210596891>, line 18\u001B[0m\n\u001B[1;32m     15\u001B[0m top_trips_pivot \u001B[38;5;241m=\u001B[39m top_trips_pd\u001B[38;5;241m.\u001B[39mpivot(index\u001B[38;5;241m=\u001B[39m\u001B[38;5;124m\"\u001B[39m\u001B[38;5;124mpickup_zone\u001B[39m\u001B[38;5;124m\"\u001B[39m, columns\u001B[38;5;241m=\u001B[39m\u001B[38;5;124m\"\u001B[39m\u001B[38;5;124mdropoff_zone\u001B[39m\u001B[38;5;124m\"\u001B[39m, values\u001B[38;5;241m=\u001B[39m\u001B[38;5;124m\"\u001B[39m\u001B[38;5;124mcount\u001B[39m\u001B[38;5;124m\"\u001B[39m)\n\u001B[1;32m     17\u001B[0m plt\u001B[38;5;241m.\u001B[39mfigure(figsize\u001B[38;5;241m=\u001B[39m(\u001B[38;5;241m12\u001B[39m, \u001B[38;5;241m8\u001B[39m))\n\u001B[0;32m---> 18\u001B[0m sns\u001B[38;5;241m.\u001B[39mheatmap(\n\u001B[1;32m     19\u001B[0m     top_trips_pivot,\n\u001B[1;32m     20\u001B[0m     annot\u001B[38;5;241m=\u001B[39m\u001B[38;5;28;01mTrue\u001B[39;00m,\n\u001B[1;32m     21\u001B[0m     fmt\u001B[38;5;241m=\u001B[39m\u001B[38;5;124m\"\u001B[39m\u001B[38;5;124md\u001B[39m\u001B[38;5;124m\"\u001B[39m,\n\u001B[1;32m     22\u001B[0m     cmap\u001B[38;5;241m=\u001B[39m\u001B[38;5;124m\"\u001B[39m\u001B[38;5;124mYlGnBu\u001B[39m\u001B[38;5;124m\"\u001B[39m,\n\u001B[1;32m     23\u001B[0m     linewidths\u001B[38;5;241m=\u001B[39m\u001B[38;5;241m0.5\u001B[39m,\n\u001B[1;32m     24\u001B[0m     linecolor\u001B[38;5;241m=\u001B[39m\u001B[38;5;124m\"\u001B[39m\u001B[38;5;124mgray\u001B[39m\u001B[38;5;124m\"\u001B[39m,\n\u001B[1;32m     25\u001B[0m     cbar_kws\u001B[38;5;241m=\u001B[39m{\u001B[38;5;124m\"\u001B[39m\u001B[38;5;124mlabel\u001B[39m\u001B[38;5;124m\"\u001B[39m: \u001B[38;5;124m\"\u001B[39m\u001B[38;5;124mTrip Count\u001B[39m\u001B[38;5;124m\"\u001B[39m},\n\u001B[1;32m     26\u001B[0m )\n\u001B[1;32m     27\u001B[0m plt\u001B[38;5;241m.\u001B[39mtitle(\u001B[38;5;124m\"\u001B[39m\u001B[38;5;124mTop 10 Trips by Pickup and Dropoff Zone\u001B[39m\u001B[38;5;124m\"\u001B[39m)\n\u001B[1;32m     28\u001B[0m plt\u001B[38;5;241m.\u001B[39mxlabel(\u001B[38;5;124m\"\u001B[39m\u001B[38;5;124mDropoff Zone\u001B[39m\u001B[38;5;124m\"\u001B[39m)\n",
        "File \u001B[0;32m/databricks/python/lib/python3.11/site-packages/seaborn/matrix.py:459\u001B[0m, in \u001B[0;36mheatmap\u001B[0;34m(data, vmin, vmax, cmap, center, robust, annot, fmt, annot_kws, linewidths, linecolor, cbar, cbar_kws, cbar_ax, square, xticklabels, yticklabels, mask, ax, **kwargs)\u001B[0m\n\u001B[1;32m    457\u001B[0m \u001B[38;5;28;01mif\u001B[39;00m square:\n\u001B[1;32m    458\u001B[0m     ax\u001B[38;5;241m.\u001B[39mset_aspect(\u001B[38;5;124m\"\u001B[39m\u001B[38;5;124mequal\u001B[39m\u001B[38;5;124m\"\u001B[39m)\n\u001B[0;32m--> 459\u001B[0m plotter\u001B[38;5;241m.\u001B[39mplot(ax, cbar_ax, kwargs)\n\u001B[1;32m    460\u001B[0m \u001B[38;5;28;01mreturn\u001B[39;00m ax\n",
        "File \u001B[0;32m/databricks/python/lib/python3.11/site-packages/seaborn/matrix.py:352\u001B[0m, in \u001B[0;36m_HeatMapper.plot\u001B[0;34m(self, ax, cax, kws)\u001B[0m\n\u001B[1;32m    350\u001B[0m \u001B[38;5;66;03m# Annotate the cells with the formatted values\u001B[39;00m\n\u001B[1;32m    351\u001B[0m \u001B[38;5;28;01mif\u001B[39;00m \u001B[38;5;28mself\u001B[39m\u001B[38;5;241m.\u001B[39mannot:\n\u001B[0;32m--> 352\u001B[0m     \u001B[38;5;28mself\u001B[39m\u001B[38;5;241m.\u001B[39m_annotate_heatmap(ax, mesh)\n",
        "File \u001B[0;32m/databricks/python/lib/python3.11/site-packages/seaborn/matrix.py:260\u001B[0m, in \u001B[0;36m_HeatMapper._annotate_heatmap\u001B[0;34m(self, ax, mesh)\u001B[0m\n\u001B[1;32m    258\u001B[0m lum \u001B[38;5;241m=\u001B[39m relative_luminance(color)\n\u001B[1;32m    259\u001B[0m text_color \u001B[38;5;241m=\u001B[39m \u001B[38;5;124m\"\u001B[39m\u001B[38;5;124m.15\u001B[39m\u001B[38;5;124m\"\u001B[39m \u001B[38;5;28;01mif\u001B[39;00m lum \u001B[38;5;241m>\u001B[39m \u001B[38;5;241m.408\u001B[39m \u001B[38;5;28;01melse\u001B[39;00m \u001B[38;5;124m\"\u001B[39m\u001B[38;5;124mw\u001B[39m\u001B[38;5;124m\"\u001B[39m\n\u001B[0;32m--> 260\u001B[0m annotation \u001B[38;5;241m=\u001B[39m (\u001B[38;5;124m\"\u001B[39m\u001B[38;5;124m{\u001B[39m\u001B[38;5;124m:\u001B[39m\u001B[38;5;124m\"\u001B[39m \u001B[38;5;241m+\u001B[39m \u001B[38;5;28mself\u001B[39m\u001B[38;5;241m.\u001B[39mfmt \u001B[38;5;241m+\u001B[39m \u001B[38;5;124m\"\u001B[39m\u001B[38;5;124m}\u001B[39m\u001B[38;5;124m\"\u001B[39m)\u001B[38;5;241m.\u001B[39mformat(val)\n\u001B[1;32m    261\u001B[0m text_kwargs \u001B[38;5;241m=\u001B[39m \u001B[38;5;28mdict\u001B[39m(color\u001B[38;5;241m=\u001B[39mtext_color, ha\u001B[38;5;241m=\u001B[39m\u001B[38;5;124m\"\u001B[39m\u001B[38;5;124mcenter\u001B[39m\u001B[38;5;124m\"\u001B[39m, va\u001B[38;5;241m=\u001B[39m\u001B[38;5;124m\"\u001B[39m\u001B[38;5;124mcenter\u001B[39m\u001B[38;5;124m\"\u001B[39m)\n\u001B[1;32m    262\u001B[0m text_kwargs\u001B[38;5;241m.\u001B[39mupdate(\u001B[38;5;28mself\u001B[39m\u001B[38;5;241m.\u001B[39mannot_kws)\n",
        "\u001B[0;31mValueError\u001B[0m: Unknown format code 'd' for object of type 'float'"
       ],
       "type": "baseError"
      }
     },
     "output_type": "display_data"
    }
   ],
   "source": [
    "import pandas as pd\n",
    "import seaborn as sns\n",
    "import matplotlib.pyplot as plt\n",
    "from pyspark.sql.functions import col, desc\n",
    "\n",
    "top_trips_df = (\n",
    "    taxi_df.groupBy(\"pickup_zone\", \"dropoff_zone\")\n",
    "    .count()\n",
    "    .orderBy(desc(\"count\"))\n",
    "    .limit(10)\n",
    ")\n",
    "\n",
    "top_trips_pd = top_trips_df.toPandas()\n",
    "\n",
    "top_trips_pivot = top_trips_pd.pivot(index=\"pickup_zone\", columns=\"dropoff_zone\", values=\"count\")\n",
    "\n",
    "plt.figure(figsize=(12, 8))\n",
    "sns.heatmap(\n",
    "    top_trips_pivot,\n",
    "    annot=True,\n",
    "    fmt=\"d\",\n",
    "    cmap=\"YlGnBu\",\n",
    "    linewidths=0.5,\n",
    "    linecolor=\"gray\",\n",
    "    cbar_kws={\"label\": \"Trip Count\"},\n",
    ")\n",
    "plt.title(\"Top 10 Trips by Pickup and Dropoff Zone\")\n",
    "plt.xlabel(\"Dropoff Zone\")\n",
    "plt.ylabel(\"Pickup Zone\")\n",
    "plt.xticks(rotation=45)\n",
    "plt.yticks(rotation=0)\n",
    "plt.tight_layout()\n",
    "plt.show()"
   ]
  },
  {
   "cell_type": "markdown",
   "metadata": {
    "application/vnd.databricks.v1+cell": {
     "cellMetadata": {
      "byteLimit": 2048000,
      "rowLimit": 10000
     },
     "inputWidgets": {},
     "nuid": "2101ef53-885d-4974-88b0-99114bb35e1f",
     "showTitle": false,
     "tableResultSettingsMap": {},
     "title": ""
    }
   },
   "source": [
    "#### Top Pickup and Drop-off Zones"
   ]
  },
  {
   "cell_type": "code",
   "execution_count": 0,
   "metadata": {
    "application/vnd.databricks.v1+cell": {
     "cellMetadata": {
      "byteLimit": 2048000,
      "rowLimit": 10000
     },
     "inputWidgets": {},
     "nuid": "0ec8e68c-721a-40e8-b6f8-090adfc98473",
     "showTitle": false,
     "tableResultSettingsMap": {},
     "title": ""
    }
   },
   "outputs": [],
   "source": [
    "\n",
    "# Count the number of trips per pickup and dropoff zones\n",
    "pickup_zones_df = taxi_df.groupBy(\"pickup_zone\").count().orderBy(\"count\", ascending=False).limit(10)\n",
    "dropoff_zones_df = taxi_df.groupBy(\"dropoff_zone\").count().orderBy(\"count\", ascending=False).limit(10)\n",
    "\n",
    "# Convert to Pandas for plotting\n",
    "pickup_zones_pd = pickup_zones_df.toPandas()\n",
    "dropoff_zones_pd = dropoff_zones_df.toPandas()\n",
    "\n",
    "plt.figure(figsize=(10, 6))\n",
    "sns.barplot(x=\"pickup_zone\", y=\"count\", data=pickup_zones_pd, color=\"skyblue\")\n",
    "plt.xlabel(\"Pickup Zone\")\n",
    "plt.ylabel(\"Number of Trips\")\n",
    "plt.title(\"Top 10 Pickup Zones\")\n",
    "plt.xticks(rotation=45)\n",
    "plt.show()"
   ]
  },
  {
   "cell_type": "code",
   "execution_count": 0,
   "metadata": {
    "application/vnd.databricks.v1+cell": {
     "cellMetadata": {
      "byteLimit": 2048000,
      "rowLimit": 10000
     },
     "inputWidgets": {},
     "nuid": "877d92f5-e031-4238-8918-bc87f740b140",
     "showTitle": false,
     "tableResultSettingsMap": {},
     "title": ""
    }
   },
   "outputs": [],
   "source": [
    "\n",
    "plt.figure(figsize=(10, 6))\n",
    "sns.barplot(x=\"dropoff_zone\", y=\"count\", data=dropoff_zones_pd, color=\"salmon\")\n",
    "plt.xlabel(\"Dropoff Zone\")\n",
    "plt.ylabel(\"Number of Trips\")\n",
    "plt.title(\"Top 10 Dropoff Zones\")\n",
    "plt.xticks(rotation=45)\n",
    "plt.show()"
   ]
  },
  {
   "cell_type": "markdown",
   "metadata": {
    "application/vnd.databricks.v1+cell": {
     "cellMetadata": {
      "byteLimit": 2048000,
      "rowLimit": 10000
     },
     "inputWidgets": {},
     "nuid": "cb9383ee-152f-4607-8242-cc62fa030c3b",
     "showTitle": false,
     "tableResultSettingsMap": {},
     "title": ""
    }
   },
   "source": [
    "### Passenger Count Analysis"
   ]
  },
  {
   "cell_type": "markdown",
   "metadata": {
    "application/vnd.databricks.v1+cell": {
     "cellMetadata": {
      "byteLimit": 2048000,
      "rowLimit": 10000
     },
     "inputWidgets": {},
     "nuid": "0974069e-0dac-4632-a9b6-16d722d9a146",
     "showTitle": false,
     "tableResultSettingsMap": {},
     "title": ""
    }
   },
   "source": [
    "#### Effect of Passenger Number on Fare"
   ]
  },
  {
   "cell_type": "code",
   "execution_count": 0,
   "metadata": {
    "application/vnd.databricks.v1+cell": {
     "cellMetadata": {
      "byteLimit": 2048000,
      "rowLimit": 10000
     },
     "inputWidgets": {},
     "nuid": "bbc98aff-43ee-40cd-9785-cf6a53370db2",
     "showTitle": false,
     "tableResultSettingsMap": {},
     "title": ""
    }
   },
   "outputs": [],
   "source": [
    "# Convert the necessary columns from PySpark DataFrame to Pandas DataFrame\n",
    "taxi_pd = taxi_df.select(\"passenger_count\", \"fare_amount\").toPandas()\n",
    "\n",
    "fig, ax = plt.subplots(figsize=(8, 5))\n",
    "sns.boxplot(data=taxi_pd, x='passenger_count', y='fare_amount', ax=ax)\n",
    "ax.set_title(\"Effect of Passenger Count on Fare Amount\")\n",
    "ax.set_xlabel(\"Passenger Count\")\n",
    "ax.set_ylabel(\"Fare Amount\")\n",
    "plt.show()"
   ]
  },
  {
   "cell_type": "markdown",
   "metadata": {
    "application/vnd.databricks.v1+cell": {
     "cellMetadata": {
      "byteLimit": 2048000,
      "rowLimit": 10000
     },
     "inputWidgets": {},
     "nuid": "84a0dc4a-a02e-484c-9bae-91b0dfd52a2f",
     "showTitle": false,
     "tableResultSettingsMap": {},
     "title": ""
    }
   },
   "source": [
    "#### Passenger Count"
   ]
  },
  {
   "cell_type": "code",
   "execution_count": 0,
   "metadata": {
    "application/vnd.databricks.v1+cell": {
     "cellMetadata": {
      "byteLimit": 2048000,
      "rowLimit": 10000
     },
     "inputWidgets": {},
     "nuid": "5272bba1-4091-4eed-be30-5239e2ebb5e5",
     "showTitle": false,
     "tableResultSettingsMap": {},
     "title": ""
    }
   },
   "outputs": [],
   "source": [
    "# Count unique values in 'passenger_count'\n",
    "taxi_df.groupBy(\"passenger_count\").count().orderBy(\"count\", ascending=False).show()\n",
    "\n",
    "# Bar plot for passenger count\n",
    "passenger_count_data = taxi_df.groupBy(\"passenger_count\").count().orderBy(\"passenger_count\").collect()\n",
    "x = [row['passenger_count'] for row in passenger_count_data]\n",
    "y = [row['count'] for row in passenger_count_data]\n",
    "\n",
    "plt.bar(x, y, color=\"purple\")\n",
    "plt.title(\"Passenger Count Distribution\")\n",
    "plt.xlabel(\"Passenger Count\")\n",
    "plt.ylabel(\"Frequency\")\n",
    "plt.show()\n"
   ]
  },
  {
   "cell_type": "markdown",
   "metadata": {
    "application/vnd.databricks.v1+cell": {
     "cellMetadata": {
      "byteLimit": 2048000,
      "rowLimit": 10000
     },
     "inputWidgets": {},
     "nuid": "94efe778-11d8-4524-8746-2b2640d97f6c",
     "showTitle": false,
     "tableResultSettingsMap": {},
     "title": ""
    }
   },
   "source": [
    "#### Payment Type vs Passenger Count"
   ]
  },
  {
   "cell_type": "code",
   "execution_count": 0,
   "metadata": {
    "application/vnd.databricks.v1+cell": {
     "cellMetadata": {
      "byteLimit": 2048000,
      "rowLimit": 10000
     },
     "inputWidgets": {},
     "nuid": "6d997eae-c308-4c1e-a197-f685ea8cfd22",
     "showTitle": false,
     "tableResultSettingsMap": {},
     "title": ""
    }
   },
   "outputs": [],
   "source": [
    "# Group by payment type and passenger count to see their interaction\n",
    "payment_passenger_df = taxi_df.groupBy(\"payment_type\", \"passenger_count\").count().orderBy(\"payment_type\", \"passenger_count\").toPandas()\n",
    "\n",
    "# Pivot for a heatmap\n",
    "pivot_df = payment_passenger_df.pivot(index=\"passenger_count\", columns=\"payment_type\", values=\"count\").fillna(0)\n",
    "\n",
    "# Heatmap\n",
    "plt.figure(figsize=(10, 6))\n",
    "sns.heatmap(pivot_df, annot=True, cmap=\"YlGnBu\", fmt=\".0f\")\n",
    "plt.title(\"Payment Type vs. Passenger Count\")\n",
    "plt.xlabel(\"Payment Type\")\n",
    "plt.ylabel(\"Passenger Count\")\n",
    "plt.show()\n"
   ]
  },
  {
   "cell_type": "markdown",
   "metadata": {
    "application/vnd.databricks.v1+cell": {
     "cellMetadata": {
      "byteLimit": 2048000,
      "rowLimit": 10000
     },
     "inputWidgets": {},
     "nuid": "1a646678-ebed-433b-9102-0ee17da4aebd",
     "showTitle": false,
     "tableResultSettingsMap": {},
     "title": ""
    }
   },
   "source": [
    "## Payment Type Analysis"
   ]
  },
  {
   "cell_type": "markdown",
   "metadata": {
    "application/vnd.databricks.v1+cell": {
     "cellMetadata": {
      "byteLimit": 2048000,
      "rowLimit": 10000
     },
     "inputWidgets": {},
     "nuid": "f670d817-700a-40c8-93db-1e15322d5103",
     "showTitle": false,
     "tableResultSettingsMap": {},
     "title": ""
    }
   },
   "source": [
    "**1 = Credit Card**\n",
    "\n",
    "**2 = Cash**\n",
    "\n",
    "**3 = No Charge**\n",
    "\n",
    "**4 = Dispute**\n",
    "\n",
    "**5 = Unknown**\n",
    "\n",
    "**6 = Voided Trip**\n",
    "\n",
    "\n",
    "4 = Dispute\n",
    "5 = Unknown\n",
    "6 = Voided Trip\n",
    "\n",
    "\n",
    "**4 = Dispute**: \n",
    "    This indicates that the fare was disputed, possibly due to a disagreement over the amount charged or a service issue. In these cases, the passenger or driver raised a concern about the payment.\n",
    "\n",
    "**5 = Unknown**: \n",
    "    This is used when the payment status is unclear or unrecorded.\n",
    "    It might mean that the payment method was not identified or there was an error in recording it.\n",
    "\n",
    "**6 = Voided Trip**: \n",
    "    This indicates that the trip was voided, canceled, or invalid for some reason,\n",
    "    so the fare amount associated with this trip isn’t charged or is set to zero."
   ]
  },
  {
   "cell_type": "markdown",
   "metadata": {
    "application/vnd.databricks.v1+cell": {
     "cellMetadata": {
      "byteLimit": 2048000,
      "rowLimit": 10000
     },
     "inputWidgets": {},
     "nuid": "0dacb8c6-005c-49ce-83b8-1ab2099d3a9d",
     "showTitle": false,
     "tableResultSettingsMap": {},
     "title": ""
    }
   },
   "source": [
    "#### Payment Type"
   ]
  },
  {
   "cell_type": "code",
   "execution_count": 0,
   "metadata": {
    "application/vnd.databricks.v1+cell": {
     "cellMetadata": {
      "byteLimit": 2048000,
      "rowLimit": 10000
     },
     "inputWidgets": {},
     "nuid": "d8e506a9-5c45-4948-9993-e92c24b31e63",
     "showTitle": false,
     "tableResultSettingsMap": {},
     "title": ""
    }
   },
   "outputs": [],
   "source": [
    "# Count unique values in 'payment_type'\n",
    "taxi_df.groupBy(\"payment_type\").count().orderBy(\"count\", ascending=False).show()\n",
    "\n",
    "# Bar plot for payment type\n",
    "payment_type_data = taxi_df.groupBy(\"payment_type\").count().orderBy(\"payment_type\").collect()\n",
    "x = [row['payment_type'] for row in payment_type_data]\n",
    "y = [row['count'] for row in payment_type_data]\n",
    "\n",
    "plt.bar(x, y, color=\"green\")\n",
    "plt.title(\"Payment Type Distribution\")\n",
    "plt.xlabel(\"Payment Type\")\n",
    "plt.ylabel(\"Frequency\")\n",
    "plt.show()"
   ]
  },
  {
   "cell_type": "markdown",
   "metadata": {
    "application/vnd.databricks.v1+cell": {
     "cellMetadata": {
      "byteLimit": 2048000,
      "rowLimit": 10000
     },
     "inputWidgets": {},
     "nuid": "d0cfcc0a-c048-4409-9c9b-1a53c4c50c15",
     "showTitle": false,
     "tableResultSettingsMap": {},
     "title": ""
    }
   },
   "source": [
    "#### Count and Percentage of Trips by Payment Method"
   ]
  },
  {
   "cell_type": "code",
   "execution_count": 0,
   "metadata": {
    "application/vnd.databricks.v1+cell": {
     "cellMetadata": {
      "byteLimit": 2048000,
      "rowLimit": 10000
     },
     "inputWidgets": {},
     "nuid": "0bc389f9-b754-41f3-8b1e-c4dde8ce12f7",
     "showTitle": false,
     "tableResultSettingsMap": {},
     "title": ""
    }
   },
   "outputs": [
    {
     "output_type": "stream",
     "name": "stdout",
     "output_type": "stream",
     "text": [
      "+------------+----------+------------------+\n|payment_type|trip_count|        percentage|\n+------------+----------+------------------+\n|           1|  28715277| 81.89970399168432|\n|           2|   5985718|17.072046088139658|\n|           4|    238382|0.6798964619754736|\n|           3|    122138| 0.348353458200537|\n+------------+----------+------------------+\n\n"
     ]
    }
   ],
   "source": [
    "from pyspark.sql import functions as F\n",
    "from pyspark.sql.window import Window\n",
    "\n",
    "# Define a window to calculate the total trip count across all rows\n",
    "window_spec = Window.partitionBy()\n",
    "\n",
    "# Count of trips by payment method\n",
    "payment_counts = taxi_df.groupBy(\"payment_type\").agg(\n",
    "    F.count(\"*\").alias(\"trip_count\")\n",
    ").withColumn(\n",
    "    \"percentage\", (F.col(\"trip_count\") / F.sum(\"trip_count\").over(window_spec)) * 100\n",
    ").orderBy(\"trip_count\", ascending=False)\n",
    "\n",
    "payment_counts.show()"
   ]
  },
  {
   "cell_type": "markdown",
   "metadata": {
    "application/vnd.databricks.v1+cell": {
     "cellMetadata": {
      "byteLimit": 2048000,
      "rowLimit": 10000
     },
     "inputWidgets": {},
     "nuid": "266abd7b-7ab3-4df0-b5d7-c722e9ba03fb",
     "showTitle": false,
     "tableResultSettingsMap": {},
     "title": ""
    }
   },
   "source": [
    "#### Average Fare Amount by Payment Method"
   ]
  },
  {
   "cell_type": "code",
   "execution_count": 0,
   "metadata": {
    "application/vnd.databricks.v1+cell": {
     "cellMetadata": {
      "byteLimit": 2048000,
      "rowLimit": 10000
     },
     "inputWidgets": {},
     "nuid": "ba07b0fe-4022-48cf-ab9e-1b3e670b4a6b",
     "showTitle": false,
     "tableResultSettingsMap": {},
     "title": ""
    }
   },
   "outputs": [
    {
     "output_type": "stream",
     "name": "stdout",
     "output_type": "stream",
     "text": [
      "+------------+------------------+-----------+--------------------+\n|payment_type|      average_fare|median_fare|          total_fare|\n+------------+------------------+-----------+--------------------+\n|           3| 15.16511740817736|       10.7|  1852237.1099999666|\n|           1|17.487610434951442|       13.5| 5.021615777077212E8|\n|           4|16.833006686745755|       12.1|   4012685.799999826|\n|           2|17.240581276980983|       12.8|1.0319725768008806E8|\n+------------+------------------+-----------+--------------------+\n\n"
     ]
    }
   ],
   "source": [
    "# Average fare amount by payment method\n",
    "average_fare = taxi_df.groupBy(\"payment_type\").agg(\n",
    "    F.avg(\"fare_amount\").alias(\"average_fare\"),\n",
    "    F.median(\"fare_amount\").alias(\"median_fare\"),\n",
    "    F.sum(\"fare_amount\").alias(\"total_fare\")\n",
    ")\n",
    "\n",
    "average_fare.show()"
   ]
  },
  {
   "cell_type": "markdown",
   "metadata": {
    "application/vnd.databricks.v1+cell": {
     "cellMetadata": {
      "byteLimit": 2048000,
      "rowLimit": 10000
     },
     "inputWidgets": {},
     "nuid": "9f63c367-bb1f-4c37-b52a-8537d054d7dc",
     "showTitle": false,
     "tableResultSettingsMap": {},
     "title": ""
    }
   },
   "source": [
    "#### Effect of Date and Time on Fare"
   ]
  },
  {
   "cell_type": "code",
   "execution_count": 0,
   "metadata": {
    "application/vnd.databricks.v1+cell": {
     "cellMetadata": {
      "byteLimit": 2048000,
      "rowLimit": 10000
     },
     "inputWidgets": {},
     "nuid": "3a8a8695-7cc0-45ce-96dd-90039e5f3c98",
     "showTitle": false,
     "tableResultSettingsMap": {},
     "title": ""
    }
   },
   "outputs": [],
   "source": [
    "# Group by hour and calculate the average fare\n",
    "avg_fare_by_hour = (\n",
    "    taxi_df.groupBy(\"pickup_hour\")\n",
    "    .agg(F.avg(\"fare_amount\").alias(\"average_fare\"))\n",
    "    .orderBy(\"pickup_hour\")\n",
    ")\n",
    "\n",
    "# Convert to Pandas DataFrame for visualization\n",
    "avg_fare_by_hour_pd = avg_fare_by_hour.toPandas()"
   ]
  },
  {
   "cell_type": "code",
   "execution_count": 0,
   "metadata": {
    "application/vnd.databricks.v1+cell": {
     "cellMetadata": {
      "byteLimit": 2048000,
      "rowLimit": 10000
     },
     "inputWidgets": {},
     "nuid": "d953d562-427b-4e4a-9338-d799d0f4d52d",
     "showTitle": false,
     "tableResultSettingsMap": {},
     "title": ""
    }
   },
   "outputs": [],
   "source": [
    "# Group by day of the week and calculate the average fare\n",
    "avg_fare_by_day = (\n",
    "    taxi_df.groupBy(\"pickup_day_of_week\")\n",
    "    .agg(F.avg(\"fare_amount\").alias(\"average_fare\"))\n",
    "    .orderBy(\"pickup_day_of_week\")\n",
    ")\n",
    "\n",
    "# Convert to Pandas DataFrame for visualization\n",
    "avg_fare_by_day_pd = avg_fare_by_day.toPandas()\n"
   ]
  },
  {
   "cell_type": "code",
   "execution_count": 0,
   "metadata": {
    "application/vnd.databricks.v1+cell": {
     "cellMetadata": {
      "byteLimit": 2048000,
      "rowLimit": 10000
     },
     "inputWidgets": {},
     "nuid": "211163df-7ba9-4e2d-8e25-0204c688583c",
     "showTitle": false,
     "tableResultSettingsMap": {},
     "title": ""
    }
   },
   "outputs": [],
   "source": [
    "# Group by month and calculate the average fare\n",
    "avg_fare_by_month = (\n",
    "    taxi_df.groupBy(\"pickup_month\")\n",
    "    .agg(F.avg(\"fare_amount\").alias(\"average_fare\"))\n",
    "    .orderBy(\"pickup_month\")\n",
    ")\n",
    "\n",
    "# Convert to Pandas DataFrame for visualization\n",
    "avg_fare_by_month_pd = avg_fare_by_month.toPandas()"
   ]
  },
  {
   "cell_type": "code",
   "execution_count": 0,
   "metadata": {
    "application/vnd.databricks.v1+cell": {
     "cellMetadata": {
      "byteLimit": 2048000,
      "rowLimit": 10000
     },
     "inputWidgets": {},
     "nuid": "9e31b0f1-ad6d-4274-8652-047378b220b3",
     "showTitle": false,
     "tableResultSettingsMap": {},
     "title": ""
    }
   },
   "outputs": [],
   "source": [
    "# Set up subplots\n",
    "fig, ax = plt.subplots(3, 1, figsize=(12, 18))\n",
    "\n",
    "# Plot Average Fare by Hour\n",
    "sns.lineplot(data=avg_fare_by_hour_pd, x=\"pickup_hour\", y=\"average_fare\", marker=\"o\", ax=ax[0], color=\"b\")\n",
    "ax[0].set_title(\"Average Fare by Hour of Day\")\n",
    "ax[0].set_xlabel(\"Hour of Day\")\n",
    "ax[0].set_ylabel(\"Average Fare\")\n",
    "\n",
    "# Plot Average Fare by Day of Week\n",
    "sns.lineplot(data=avg_fare_by_day_pd, x=\"pickup_day_of_week\", y=\"average_fare\", marker=\"o\", ax=ax[1], color=\"g\")\n",
    "ax[1].set_title(\"Average Fare by Day of the Week\")\n",
    "ax[1].set_xlabel(\"Day of the Week\")\n",
    "ax[1].set_ylabel(\"Average Fare\")\n",
    "ax[1].set_xticks(range(1, 8))\n",
    "ax[1].set_xticklabels([\"Sun\", \"Mon\", \"Tue\", \"Wed\", \"Thu\", \"Fri\", \"Sat\"])\n",
    "\n",
    "# Plot Average Fare by Month\n",
    "sns.lineplot(data=avg_fare_by_month_pd, x=\"pickup_month\", y=\"average_fare\", marker=\"o\", ax=ax[2], color=\"r\")\n",
    "ax[2].set_title(\"Average Fare by Month\")\n",
    "ax[2].set_xlabel(\"Month\")\n",
    "ax[2].set_ylabel(\"Average Fare\")\n",
    "\n",
    "plt.tight_layout()\n",
    "plt.show()\n"
   ]
  },
  {
   "cell_type": "markdown",
   "metadata": {
    "application/vnd.databricks.v1+cell": {
     "cellMetadata": {
      "byteLimit": 2048000,
      "rowLimit": 10000
     },
     "inputWidgets": {},
     "nuid": "bb0cd153-2dc8-441e-9387-f633feb3c342",
     "showTitle": false,
     "tableResultSettingsMap": {},
     "title": ""
    }
   },
   "source": [
    "#### Pickup and Drop-off Density Across NYC Boroughs"
   ]
  },
  {
   "cell_type": "code",
   "execution_count": 0,
   "metadata": {
    "application/vnd.databricks.v1+cell": {
     "cellMetadata": {
      "byteLimit": 2048000,
      "rowLimit": 10000
     },
     "inputWidgets": {},
     "nuid": "30ef4aa6-3bdb-47f4-9cfc-64dd2eccae97",
     "showTitle": false,
     "tableResultSettingsMap": {},
     "title": ""
    }
   },
   "outputs": [],
   "source": [
    "pickup_counts = (taxi_df\n",
    "                 .groupBy('pickup_borough')\n",
    "                 .agg(F.count('*').alias('pickup_count'))\n",
    "                 .orderBy('pickup_borough'))\n",
    "\n",
    "dropoff_counts = (taxi_df\n",
    "                  .groupBy('dropoff_borough')\n",
    "                  .agg(F.count('*').alias('dropoff_count'))\n",
    "                  .orderBy('dropoff_borough'))\n",
    "\n",
    "pickup_counts_pd = pickup_counts.toPandas()\n",
    "dropoff_counts_pd = dropoff_counts.toPandas()\n",
    "\n",
    "density_df = (pickup_counts_pd\n",
    "              .merge(dropoff_counts_pd, left_on='pickup_borough', right_on='dropoff_borough', how='outer')\n",
    "              .fillna(0))  # Fill NaN values with 0\n",
    "\n",
    "# Set the figure size\n",
    "plt.figure(figsize=(14, 6))\n",
    "\n",
    "# Bar plot for pickups\n",
    "sns.barplot(data=density_df, x='pickup_borough', y='pickup_count', color='blue', alpha=0.6, label='Pickups')\n",
    "\n",
    "# Bar plot for drop-offs (using the same x-axis)\n",
    "sns.barplot(data=density_df, x='dropoff_borough', y='dropoff_count', color='orange', alpha=0.6, label='Drop-offs')\n",
    "\n",
    "plt.title('Pickup and Drop-off Density Across NYC Boroughs')\n",
    "plt.xlabel('Borough')\n",
    "plt.ylabel('Count')\n",
    "plt.legend()\n",
    "\n",
    "plt.show()\n"
   ]
  },
  {
   "cell_type": "code",
   "execution_count": 0,
   "metadata": {
    "application/vnd.databricks.v1+cell": {
     "cellMetadata": {
      "byteLimit": 2048000,
      "rowLimit": 10000
     },
     "inputWidgets": {},
     "nuid": "68f98348-b0a7-49d3-8d37-fb3e5c40f40e",
     "showTitle": false,
     "tableResultSettingsMap": {},
     "title": ""
    }
   },
   "outputs": [],
   "source": [
    "from pyspark.sql import functions as F\n",
    "from pyspark.ml.feature import VectorAssembler\n",
    "from pyspark.ml.clustering import KMeans\n",
    "import matplotlib.pyplot as plt\n",
    "import seaborn as sns\n",
    "\n",
    "# Sample data to reduce load\n",
    "sampled_df = taxi_df.sample(fraction=0.1, seed=42)  # Use 10% of the data\n",
    "\n",
    "# Select relevant columns and drop rows with null values\n",
    "filtered_df = sampled_df.select(\"pickup_latitude\", \"pickup_longitude\", \"pickup_borough\").dropna()\n",
    "\n",
    "# Ensure numeric columns are properly cast\n",
    "filtered_df = filtered_df.withColumn(\"pickup_latitude\", filtered_df[\"pickup_latitude\"].cast(\"double\"))\n",
    "filtered_df = filtered_df.withColumn(\"pickup_longitude\", filtered_df[\"pickup_longitude\"].cast(\"double\"))\n",
    "\n",
    "# Assemble the features into a vector\n",
    "vector_assembler = VectorAssembler(inputCols=[\"pickup_latitude\", \"pickup_longitude\"], outputCol=\"features\")\n",
    "vector_df = vector_assembler.transform(filtered_df)\n",
    "\n",
    "# Persist data to optimize performance\n",
    "vector_df.cache()\n",
    "\n",
    "# Apply KMeans clustering with fewer clusters\n",
    "kmeans = KMeans(k=10, seed=42)  # Use 10 clusters for simplicity\n",
    "model = kmeans.fit(vector_df)\n",
    "\n",
    "# Make predictions\n",
    "predictions = model.transform(vector_df)\n",
    "\n",
    "# Limit rows for Pandas conversion\n",
    "predicted_pd = predictions.select(\"pickup_latitude\", \"pickup_longitude\", \"pickup_borough\", \"prediction\").limit(5000).toPandas()\n",
    "\n",
    "# Plotting\n",
    "plt.figure(figsize=(12, 8))\n",
    "sns.scatterplot(data=predicted_pd, \n",
    "                x='pickup_longitude', \n",
    "                y='pickup_latitude', \n",
    "                hue='prediction', \n",
    "                palette='tab10', \n",
    "                s=10, \n",
    "                alpha=0.7)\n",
    "\n",
    "# Overlay borough information\n",
    "for borough in predicted_pd['pickup_borough'].unique():\n",
    "    subset = predicted_pd[predicted_pd['pickup_borough'] == borough]\n",
    "    plt.scatter(subset['pickup_longitude'], subset['pickup_latitude'], label=borough, alpha=0.3)\n",
    "\n",
    "plt.title(\"Clustering NYC Taxi Pickups into Major Zones\")\n",
    "plt.xlabel(\"Longitude\")\n",
    "plt.ylabel(\"Latitude\")\n",
    "plt.legend(title='Boroughs')\n",
    "plt.show()\n"
   ]
  },
  {
   "cell_type": "markdown",
   "metadata": {
    "application/vnd.databricks.v1+cell": {
     "cellMetadata": {
      "byteLimit": 2048000,
      "rowLimit": 10000
     },
     "inputWidgets": {},
     "nuid": "e532697a-58c0-4254-bfae-9b8b3bd00918",
     "showTitle": false,
     "tableResultSettingsMap": {},
     "title": ""
    }
   },
   "source": [
    "## Weather Impact Analysis"
   ]
  },
  {
   "cell_type": "markdown",
   "metadata": {
    "application/vnd.databricks.v1+cell": {
     "cellMetadata": {
      "byteLimit": 2048000,
      "rowLimit": 10000
     },
     "inputWidgets": {},
     "nuid": "3d060e01-5c4c-4bcf-96c9-05afe857d2ac",
     "showTitle": false,
     "tableResultSettingsMap": {},
     "title": ""
    }
   },
   "source": [
    "#### Average Fare by Temperature Range"
   ]
  },
  {
   "cell_type": "code",
   "execution_count": 0,
   "metadata": {
    "application/vnd.databricks.v1+cell": {
     "cellMetadata": {
      "byteLimit": 2048000,
      "rowLimit": 10000
     },
     "inputWidgets": {},
     "nuid": "bb578644-d2ff-425b-95c2-240b30dadd89",
     "showTitle": false,
     "tableResultSettingsMap": {},
     "title": ""
    }
   },
   "outputs": [],
   "source": [
    "# Create temperature ranges and calculate average fare amount\n",
    "temp_ranges = taxi_df.withColumn(\"temp_range\", F.floor(F.col(\"temp\") / 5) * 5)\n",
    "avg_fare_by_temp = temp_ranges.groupBy(\"temp_range\").agg(F.mean(\"fare_amount\").alias(\"avg_fare\")).orderBy(\"temp_range\")\n",
    "\n",
    "# Plot average fare amount by temperature range\n",
    "temp_fare_df = avg_fare_by_temp.toPandas()\n",
    "\n",
    "plt.figure(figsize=(10, 6))\n",
    "plt.plot(temp_fare_df[\"temp_range\"], temp_fare_df[\"avg_fare\"], marker=\"o\", color=\"firebrick\")\n",
    "plt.title(\"Average Fare Amount by Temperature Range\")\n",
    "plt.xlabel(\"Temperature Range\")\n",
    "plt.ylabel(\"Average Fare Amount\")\n",
    "plt.show()\n"
   ]
  },
  {
   "cell_type": "markdown",
   "metadata": {
    "application/vnd.databricks.v1+cell": {
     "cellMetadata": {
      "byteLimit": 2048000,
      "rowLimit": 10000
     },
     "inputWidgets": {},
     "nuid": "3be534d6-b2a8-4442-b597-19eebda2aecd",
     "showTitle": false,
     "tableResultSettingsMap": {},
     "title": ""
    }
   },
   "source": [
    "#### Holiday Analysis"
   ]
  },
  {
   "cell_type": "code",
   "execution_count": 0,
   "metadata": {
    "application/vnd.databricks.v1+cell": {
     "cellMetadata": {
      "byteLimit": 2048000,
      "rowLimit": 10000
     },
     "inputWidgets": {},
     "nuid": "d68e31d4-08af-4ef4-8190-977829481721",
     "showTitle": false,
     "tableResultSettingsMap": {},
     "title": ""
    }
   },
   "outputs": [],
   "source": [
    "# Analyze trips based on holidays\n",
    "holiday_data = taxi_df.groupBy(\"holidayName\").count().orderBy(\"count\", ascending=False).show()\n",
    "\n",
    "# Bar plot for holidays\n",
    "holiday_counts = taxi_df.groupBy(\"holidayName\").count().orderBy(\"holidayName\").collect()\n",
    "x = [row['holidayName'] for row in holiday_counts]\n",
    "y = [row['count'] for row in holiday_counts]\n",
    "\n",
    "plt.barh(x, y, color=\"darkcyan\")\n",
    "plt.title(\"Holiday Trip Count\")\n",
    "plt.xlabel(\"Frequency\")\n",
    "plt.ylabel(\"Holiday Name\")\n",
    "plt.show()"
   ]
  },
  {
   "cell_type": "markdown",
   "metadata": {
    "application/vnd.databricks.v1+cell": {
     "cellMetadata": {
      "byteLimit": 2048000,
      "rowLimit": 10000
     },
     "inputWidgets": {},
     "nuid": "fcf40dbe-8d07-4cac-a5c4-39512938f7d8",
     "showTitle": false,
     "tableResultSettingsMap": {},
     "title": ""
    }
   },
   "source": [
    "#### Temperature Analysis"
   ]
  },
  {
   "cell_type": "code",
   "execution_count": 0,
   "metadata": {
    "application/vnd.databricks.v1+cell": {
     "cellMetadata": {
      "byteLimit": 2048000,
      "rowLimit": 10000
     },
     "inputWidgets": {},
     "nuid": "b97afac0-1927-4cf5-ab3b-22318dc480a8",
     "showTitle": false,
     "tableResultSettingsMap": {},
     "title": ""
    }
   },
   "outputs": [],
   "source": [
    "import matplotlib.pyplot as plt\n",
    "\n",
    "temp_summary = taxi_df.select(\"temp\").summary(\"count\", \"mean\", \"stddev\", \"min\", \"max\").show()\n",
    "\n",
    "temp_data = taxi_df.select(\"temp\").toPandas()\n",
    "\n",
    "plt.hist(temp_data['temp'], bins=30, color=\"plum\", edgecolor=\"black\")\n",
    "plt.title(\"Temperature Distribution\")\n",
    "plt.xlabel(\"Temperature\")\n",
    "plt.ylabel(\"Frequency\")\n",
    "plt.show()"
   ]
  },
  {
   "cell_type": "code",
   "execution_count": 0,
   "metadata": {
    "application/vnd.databricks.v1+cell": {
     "cellMetadata": {
      "byteLimit": 2048000,
      "rowLimit": 10000
     },
     "inputWidgets": {},
     "nuid": "f3c89f05-82fe-49fa-890d-a8f0a7987fb1",
     "showTitle": false,
     "tableResultSettingsMap": {},
     "title": ""
    }
   },
   "outputs": [],
   "source": []
  }
 ],
 "metadata": {
  "application/vnd.databricks.v1+notebook": {
   "dashboards": [],
   "environmentMetadata": null,
   "language": "python",
   "notebookMetadata": {
    "pythonIndentUnit": 4
   },
   "notebookName": "08_EDA_Multivariate",
   "widgets": {}
  },
  "language_info": {
   "name": "python"
  }
 },
 "nbformat": 4,
 "nbformat_minor": 0
}
