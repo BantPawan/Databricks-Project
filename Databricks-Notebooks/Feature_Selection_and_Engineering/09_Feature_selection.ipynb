{
 "cells": [
  {
   "cell_type": "code",
   "execution_count": 0,
   "metadata": {
    "application/vnd.databricks.v1+cell": {
     "cellMetadata": {
      "byteLimit": 2048000,
      "rowLimit": 10000
     },
     "inputWidgets": {},
     "nuid": "bf70e6bc-0f14-406f-aa59-c4743fd21f8a",
     "showTitle": true,
     "tableResultSettingsMap": {},
     "title": "v"
    }
   },
   "outputs": [
    {
     "output_type": "display_data",
     "data": {
      "text/html": [
       "<style scoped>\n",
       "  .table-result-container {\n",
       "    max-height: 300px;\n",
       "    overflow: auto;\n",
       "  }\n",
       "  table, th, td {\n",
       "    border: 1px solid black;\n",
       "    border-collapse: collapse;\n",
       "  }\n",
       "  th, td {\n",
       "    padding: 5px;\n",
       "  }\n",
       "  th {\n",
       "    text-align: left;\n",
       "  }\n",
       "</style><div class='table-result-container'><table class='table-result'><thead style='background-color: white'><tr><th>path</th><th>name</th><th>size</th><th>modificationTime</th></tr></thead><tbody><tr><td>dbfs:/dbfs/FileStore/tables/Data_Processing_Pulic_Holiday/</td><td>Data_Processing_Pulic_Holiday/</td><td>0</td><td>1732626342968</td></tr><tr><td>dbfs:/dbfs/FileStore/tables/Eda_univariate_taxi_data/</td><td>Eda_univariate_taxi_data/</td><td>0</td><td>1732626342968</td></tr><tr><td>dbfs:/dbfs/FileStore/tables/cleaned_nyc_taxi_fare/</td><td>cleaned_nyc_taxi_fare/</td><td>0</td><td>1732626342968</td></tr><tr><td>dbfs:/dbfs/FileStore/tables/data_processed_lat_long/</td><td>data_processed_lat_long/</td><td>0</td><td>1732626342968</td></tr><tr><td>dbfs:/dbfs/FileStore/tables/data_processed_taxi_zones/</td><td>data_processed_taxi_zones/</td><td>0</td><td>1732626342968</td></tr><tr><td>dbfs:/dbfs/FileStore/tables/data_processed_trip_data/</td><td>data_processed_trip_data/</td><td>0</td><td>1732626342968</td></tr></tbody></table></div>"
      ]
     },
     "metadata": {
      "application/vnd.databricks.v1+output": {
       "addedWidgets": {},
       "aggData": [],
       "aggError": "",
       "aggOverflow": false,
       "aggSchema": [],
       "aggSeriesLimitReached": false,
       "aggType": "",
       "arguments": {},
       "columnCustomDisplayInfos": {},
       "data": [
        [
         "dbfs:/dbfs/FileStore/tables/Data_Processing_Pulic_Holiday/",
         "Data_Processing_Pulic_Holiday/",
         0,
         1732626342968
        ],
        [
         "dbfs:/dbfs/FileStore/tables/Eda_univariate_taxi_data/",
         "Eda_univariate_taxi_data/",
         0,
         1732626342968
        ],
        [
         "dbfs:/dbfs/FileStore/tables/cleaned_nyc_taxi_fare/",
         "cleaned_nyc_taxi_fare/",
         0,
         1732626342968
        ],
        [
         "dbfs:/dbfs/FileStore/tables/data_processed_lat_long/",
         "data_processed_lat_long/",
         0,
         1732626342968
        ],
        [
         "dbfs:/dbfs/FileStore/tables/data_processed_taxi_zones/",
         "data_processed_taxi_zones/",
         0,
         1732626342968
        ],
        [
         "dbfs:/dbfs/FileStore/tables/data_processed_trip_data/",
         "data_processed_trip_data/",
         0,
         1732626342968
        ]
       ],
       "datasetInfos": [],
       "dbfsResultPath": null,
       "isJsonSchema": true,
       "metadata": {},
       "overflow": false,
       "plotOptions": {
        "customPlotOptions": {},
        "displayType": "table",
        "pivotAggregation": null,
        "pivotColumns": null,
        "xColumns": null,
        "yColumns": null
       },
       "removedWidgets": [],
       "schema": [
        {
         "metadata": "{}",
         "name": "path",
         "type": "\"string\""
        },
        {
         "metadata": "{}",
         "name": "name",
         "type": "\"string\""
        },
        {
         "metadata": "{}",
         "name": "size",
         "type": "\"long\""
        },
        {
         "metadata": "{}",
         "name": "modificationTime",
         "type": "\"long\""
        }
       ],
       "type": "table"
      }
     },
     "output_type": "display_data"
    }
   ],
   "source": [
    "display(dbutils.fs.ls(\"/dbfs/FileStore/tables/\"))"
   ]
  },
  {
   "cell_type": "code",
   "execution_count": 0,
   "metadata": {
    "application/vnd.databricks.v1+cell": {
     "cellMetadata": {
      "byteLimit": 2048000,
      "rowLimit": 10000
     },
     "inputWidgets": {},
     "nuid": "158159ce-c5dd-43d3-b17a-c196ea2e150b",
     "showTitle": false,
     "tableResultSettingsMap": {},
     "title": ""
    }
   },
   "outputs": [],
   "source": [
    "from pyspark.sql import SparkSession\n",
    "\n",
    "spark = SparkSession.builder \\\n",
    "    .appName(\"OptimizedRF\") \\\n",
    "    .config(\"spark.driver.memory\", \"16g\") \\\n",
    "    .config(\"spark.executor.memory\", \"16g\") \\\n",
    "    .config(\"spark.executor.cores\", \"4\") \\\n",
    "    .config(\"spark.sql.shuffle.partitions\", \"200\") \\\n",
    "    .config(\"spark.driver.maxResultSize\", \"4g\") \\\n",
    "    .getOrCreate()"
   ]
  },
  {
   "cell_type": "code",
   "execution_count": 0,
   "metadata": {
    "application/vnd.databricks.v1+cell": {
     "cellMetadata": {
      "byteLimit": 2048000,
      "rowLimit": 10000
     },
     "inputWidgets": {},
     "nuid": "dd94cb45-1721-4f3b-b97d-4e4e22f38980",
     "showTitle": false,
     "tableResultSettingsMap": {},
     "title": ""
    }
   },
   "outputs": [],
   "source": [
    "# Load Delta table with PySpark\n",
    "taxi_df = spark.read.format(\"delta\").load(\"dbfs:/dbfs/FileStore/tables/cleaned_nyc_taxi_fare/\")"
   ]
  },
  {
   "cell_type": "code",
   "execution_count": 0,
   "metadata": {
    "application/vnd.databricks.v1+cell": {
     "cellMetadata": {
      "byteLimit": 2048000,
      "rowLimit": 10000
     },
     "inputWidgets": {},
     "nuid": "e31b49a4-8e3f-46ee-9471-651ca13f4f48",
     "showTitle": false,
     "tableResultSettingsMap": {},
     "title": ""
    }
   },
   "outputs": [
    {
     "output_type": "stream",
     "name": "stdout",
     "output_type": "stream",
     "text": [
      "+-------+------------------+\n|summary|     trip_distance|\n+-------+------------------+\n|  count|          36395607|\n|   mean|3.4915285498000985|\n| stddev| 54.90094331972668|\n|    min|               0.0|\n|    max|          161726.1|\n+-------+------------------+\n\n"
     ]
    }
   ],
   "source": [
    "from pyspark.sql.functions import col\n",
    "# Summary Statistics for 'trip_distance'\n",
    "taxi_df.describe(\"trip_distance\").show()"
   ]
  },
  {
   "cell_type": "code",
   "execution_count": 0,
   "metadata": {
    "application/vnd.databricks.v1+cell": {
     "cellMetadata": {
      "byteLimit": 2048000,
      "rowLimit": 10000
     },
     "inputWidgets": {},
     "nuid": "5ff65ee8-da2f-46f2-bd31-c3636e23a9f1",
     "showTitle": false,
     "tableResultSettingsMap": {},
     "title": ""
    }
   },
   "outputs": [],
   "source": [
    "import matplotlib.pyplot as plt\n",
    "import seaborn as sns\n",
    "\n",
    "# Convert the 'trip_distance' column to a Pandas DataFrame or Series\n",
    "trip_distance_df = taxi_df.select(\"trip_distance\").toPandas()[\"trip_distance\"]\n",
    "\n",
    "# Assuming 'trip_distance' column has been converted to Pandas Series for plotting\n",
    "plt.figure(figsize=(14, 6))\n",
    "plt.subplot(1, 2, 1)\n",
    "sns.histplot(trip_distance_df, bins=50, kde=True)\n",
    "plt.title(\"Distribution of Trip Distance\")\n",
    "\n",
    "plt.subplot(1, 2, 2)\n",
    "sns.boxplot(x=trip_distance_df)\n",
    "plt.title(\"Box Plot of Trip Distance\")\n",
    "plt.show()"
   ]
  },
  {
   "cell_type": "code",
   "execution_count": 0,
   "metadata": {
    "application/vnd.databricks.v1+cell": {
     "cellMetadata": {
      "byteLimit": 2048000,
      "rowLimit": 10000
     },
     "inputWidgets": {},
     "nuid": "2262361d-aa9d-43a9-83b9-77d643119774",
     "showTitle": false,
     "tableResultSettingsMap": {},
     "title": ""
    }
   },
   "outputs": [],
   "source": [
    "from pyspark.sql.functions import col\n",
    "\n",
    "# Filter out rows where trip_duration is less than or equal to zero\n",
    "taxi_df = taxi_df.filter(col(\"trip_distance\") > 0)"
   ]
  },
  {
   "cell_type": "code",
   "execution_count": 0,
   "metadata": {
    "application/vnd.databricks.v1+cell": {
     "cellMetadata": {
      "byteLimit": 2048000,
      "rowLimit": 10000
     },
     "inputWidgets": {},
     "nuid": "7e7f44bc-ecc9-496d-9d68-ebfcc75ad20d",
     "showTitle": false,
     "tableResultSettingsMap": {},
     "title": ""
    }
   },
   "outputs": [],
   "source": [
    "from pyspark.sql import functions as F\n",
    "\n",
    "# Calculate Q1 and Q3\n",
    "q1, q3 = taxi_df.approxQuantile(\"trip_distance\", [0.25, 0.75], 0.05)\n",
    "iqr = q3 - q1\n",
    "\n",
    "# Define lower and upper bounds\n",
    "lower_bound = q1 - 1.5 * iqr\n",
    "upper_bound = q3 + 1.5 * iqr"
   ]
  },
  {
   "cell_type": "code",
   "execution_count": 0,
   "metadata": {
    "application/vnd.databricks.v1+cell": {
     "cellMetadata": {
      "byteLimit": 2048000,
      "rowLimit": 10000
     },
     "inputWidgets": {},
     "nuid": "9102a0d1-38df-44d2-b858-8c8e0810731e",
     "showTitle": false,
     "tableResultSettingsMap": {},
     "title": ""
    }
   },
   "outputs": [
    {
     "output_type": "stream",
     "name": "stdout",
     "output_type": "stream",
     "text": [
      "+-------+------------------+\n|summary|     trip_distance|\n+-------+------------------+\n|  count|           5117008|\n|   mean|13.453778076241504|\n| stddev|145.99119718177963|\n|    min|              6.21|\n|    max|          161726.1|\n+-------+------------------+\n\n"
     ]
    }
   ],
   "source": [
    "# Filter for outliers based on updated bounds\n",
    "outliers = taxi_df.filter((col(\"trip_distance\") < lower_bound) | (col(\"trip_distance\") > upper_bound))\n",
    "outliers.select(\"trip_distance\").describe().show()"
   ]
  },
  {
   "cell_type": "code",
   "execution_count": 0,
   "metadata": {
    "application/vnd.databricks.v1+cell": {
     "cellMetadata": {
      "byteLimit": 2048000,
      "rowLimit": 10000
     },
     "inputWidgets": {},
     "nuid": "508b6ead-bb04-4c57-b516-da7bb3aeb747",
     "showTitle": false,
     "tableResultSettingsMap": {},
     "title": ""
    }
   },
   "outputs": [],
   "source": [
    "from pyspark.sql.functions import when\n",
    "\n",
    "# Cap trip_distance values at the upper bound\n",
    "taxi_df = taxi_df.withColumn(\"trip_distance\", when(col(\"trip_distance\") > upper_bound, upper_bound).otherwise(col(\"trip_distance\")))"
   ]
  },
  {
   "cell_type": "code",
   "execution_count": 0,
   "metadata": {
    "application/vnd.databricks.v1+cell": {
     "cellMetadata": {
      "byteLimit": 2048000,
      "rowLimit": 10000
     },
     "inputWidgets": {},
     "nuid": "bfac29e1-06a1-41b2-a095-2fc38c20b6f7",
     "showTitle": false,
     "tableResultSettingsMap": {},
     "title": ""
    }
   },
   "outputs": [
    {
     "output_type": "stream",
     "name": "stdout",
     "output_type": "stream",
     "text": [
      "+-------+--------------------+\n|summary|       trip_distance|\n+-------+--------------------+\n|  count|            35979605|\n|   mean|   2.500268124273792|\n| stddev|  1.8919592804162233|\n|    min|0.009999999776482582|\n|    max|   6.199999809265137|\n+-------+--------------------+\n\n"
     ]
    }
   ],
   "source": [
    "# Summary Statistics for 'trip_duration'\n",
    "taxi_df.describe(\"trip_distance\").show()"
   ]
  },
  {
   "cell_type": "code",
   "execution_count": 0,
   "metadata": {
    "application/vnd.databricks.v1+cell": {
     "cellMetadata": {
      "byteLimit": 2048000,
      "rowLimit": 10000
     },
     "inputWidgets": {},
     "nuid": "29ec13eb-80cf-434e-ae55-ac3e115af170",
     "showTitle": false,
     "tableResultSettingsMap": {},
     "title": ""
    }
   },
   "outputs": [
    {
     "output_type": "stream",
     "name": "stdout",
     "output_type": "stream",
     "text": [
      "+------------------+-------------------+\n|          skewness|           kurtosis|\n+------------------+-------------------+\n|0.9742337813233402|-0.4076524384780611|\n+------------------+-------------------+\n\n"
     ]
    }
   ],
   "source": [
    "import matplotlib.pyplot as plt\n",
    "import seaborn as sns\n",
    "from pyspark.sql import functions as F\n",
    "\n",
    "# Calculate skewness and kurtosis for the trip_distance column\n",
    "trip_distance_stats = taxi_df.select(\n",
    "    F.skewness(\"trip_distance\").alias(\"skewness\"),\n",
    "    F.kurtosis(\"trip_distance\").alias(\"kurtosis\")\n",
    ")\n",
    "\n",
    "# Display the results\n",
    "trip_distance_stats.show()"
   ]
  },
  {
   "cell_type": "code",
   "execution_count": 0,
   "metadata": {
    "application/vnd.databricks.v1+cell": {
     "cellMetadata": {
      "byteLimit": 2048000,
      "rowLimit": 10000
     },
     "inputWidgets": {},
     "nuid": "0948ad81-bc3a-474a-87fe-b19c14ee6f36",
     "showTitle": false,
     "tableResultSettingsMap": {},
     "title": ""
    }
   },
   "outputs": [],
   "source": [
    "import matplotlib.pyplot as plt\n",
    "import seaborn as sns\n",
    "\n",
    "# Convert the 'trip_distance' column to a Pandas DataFrame or Series\n",
    "trip_distance_df = taxi_df.select(\"trip_distance\").toPandas()[\"trip_distance\"]\n",
    "\n",
    "# Assuming 'trip_distance' column has been converted to Pandas Series for plotting\n",
    "plt.figure(figsize=(14, 6))\n",
    "plt.subplot(1, 2, 1)\n",
    "sns.histplot(trip_distance_df, bins=50, kde=True)\n",
    "plt.title(\"Distribution of Trip Distance\")\n",
    "\n",
    "plt.subplot(1, 2, 2)\n",
    "sns.boxplot(x=trip_distance_df)\n",
    "plt.title(\"Box Plot of Trip Distance\")\n",
    "plt.show()"
   ]
  },
  {
   "cell_type": "code",
   "execution_count": 0,
   "metadata": {
    "application/vnd.databricks.v1+cell": {
     "cellMetadata": {
      "byteLimit": 2048000,
      "rowLimit": 10000
     },
     "inputWidgets": {},
     "nuid": "20a68404-fc45-4147-98c9-dc30b424c2d6",
     "showTitle": false,
     "tableResultSettingsMap": {},
     "title": ""
    }
   },
   "outputs": [],
   "source": []
  },
  {
   "cell_type": "code",
   "execution_count": 0,
   "metadata": {
    "application/vnd.databricks.v1+cell": {
     "cellMetadata": {
      "byteLimit": 2048000,
      "rowLimit": 10000
     },
     "inputWidgets": {},
     "nuid": "4ce5cc80-5fef-4029-819e-f23edfbe1e21",
     "showTitle": false,
     "tableResultSettingsMap": {},
     "title": ""
    }
   },
   "outputs": [
    {
     "output_type": "stream",
     "name": "stdout",
     "output_type": "stream",
     "text": [
      "+-------+------------------+\n|summary|     trip_duration|\n+-------+------------------+\n|  count|          35979605|\n|   mean|17.375825997669924|\n| stddev| 41.14495583559163|\n|    min|           -1177.0|\n|    max|         7053.6167|\n+-------+------------------+\n\n"
     ]
    }
   ],
   "source": [
    "from pyspark.sql.functions import col\n",
    "# Summary Statistics for 'trip_duration'\n",
    "taxi_df.describe(\"trip_duration\").show()"
   ]
  },
  {
   "cell_type": "code",
   "execution_count": 0,
   "metadata": {
    "application/vnd.databricks.v1+cell": {
     "cellMetadata": {
      "byteLimit": 2048000,
      "rowLimit": 10000
     },
     "inputWidgets": {},
     "nuid": "3e3c24e1-4a81-4731-b298-f8bd7410a938",
     "showTitle": false,
     "tableResultSettingsMap": {},
     "title": ""
    }
   },
   "outputs": [],
   "source": [
    "import matplotlib.pyplot as plt\n",
    "import seaborn as sns\n",
    "\n",
    "# Convert the 'trip_duration' column to a Pandas DataFrame or Series\n",
    "trip_duration_df = taxi_df.select(\"trip_duration\").toPandas()[\"trip_duration\"]\n",
    "\n",
    "# Assuming 'trip_duration' column has been converted to Pandas Series for plotting\n",
    "plt.figure(figsize=(14, 6))\n",
    "plt.subplot(1, 2, 1)\n",
    "sns.histplot(trip_duration_df, bins=50, kde=True)\n",
    "plt.title(\"Distribution of Trip Duration\")\n",
    "\n",
    "plt.subplot(1, 2, 2)\n",
    "sns.boxplot(x=trip_duration_df)\n",
    "plt.title(\"Box Plot of Trip Duration\")\n",
    "plt.show()"
   ]
  },
  {
   "cell_type": "code",
   "execution_count": 0,
   "metadata": {
    "application/vnd.databricks.v1+cell": {
     "cellMetadata": {
      "byteLimit": 2048000,
      "rowLimit": 10000
     },
     "inputWidgets": {},
     "nuid": "e6e175ee-89f7-4bdb-864c-d75699ac9f33",
     "showTitle": false,
     "tableResultSettingsMap": {},
     "title": ""
    }
   },
   "outputs": [],
   "source": [
    "from pyspark.sql.functions import col\n",
    "\n",
    "# Filter out rows where trip_duration is less than or equal to zero\n",
    "taxi_df = taxi_df.filter(col(\"trip_duration\") > 0)"
   ]
  },
  {
   "cell_type": "code",
   "execution_count": 0,
   "metadata": {
    "application/vnd.databricks.v1+cell": {
     "cellMetadata": {
      "byteLimit": 2048000,
      "rowLimit": 10000
     },
     "inputWidgets": {},
     "nuid": "61c1b1a5-0460-4c38-a1d4-9b8b4b1d4329",
     "showTitle": false,
     "tableResultSettingsMap": {},
     "title": ""
    }
   },
   "outputs": [],
   "source": [
    "from pyspark.sql import functions as F\n",
    "\n",
    "# Calculate Q1 and Q3\n",
    "q1, q3 = taxi_df.approxQuantile(\"trip_duration\", [0.25, 0.75], 0.05)\n",
    "iqr = q3 - q1\n",
    "\n",
    "# Define lower and upper bounds\n",
    "lower_bound = q1 - 1.5 * iqr\n",
    "upper_bound = q3 + 1.5 * iqr"
   ]
  },
  {
   "cell_type": "code",
   "execution_count": 0,
   "metadata": {
    "application/vnd.databricks.v1+cell": {
     "cellMetadata": {
      "byteLimit": 2048000,
      "rowLimit": 10000
     },
     "inputWidgets": {},
     "nuid": "5720cf8f-2ad7-4422-8836-6e4671f8cedf",
     "showTitle": false,
     "tableResultSettingsMap": {},
     "title": ""
    }
   },
   "outputs": [
    {
     "output_type": "stream",
     "name": "stdout",
     "output_type": "stream",
     "text": [
      "+-------+------------------+\n|summary|     trip_duration|\n+-------+------------------+\n|  count|           2495853|\n|   mean| 68.02173419564333|\n| stddev|144.11624241816043|\n|    min|         37.633335|\n|    max|         7053.6167|\n+-------+------------------+\n\n"
     ]
    }
   ],
   "source": [
    "# Filter for outliers based on updated bounds\n",
    "outliers = taxi_df.filter((col(\"trip_duration\") < lower_bound) | (col(\"trip_duration\") > upper_bound))\n",
    "outliers.select(\"trip_duration\").describe().show()"
   ]
  },
  {
   "cell_type": "code",
   "execution_count": 0,
   "metadata": {
    "application/vnd.databricks.v1+cell": {
     "cellMetadata": {
      "byteLimit": 2048000,
      "rowLimit": 10000
     },
     "inputWidgets": {},
     "nuid": "8207d61f-33bd-4db0-a327-b7e9c1bca1b1",
     "showTitle": false,
     "tableResultSettingsMap": {},
     "title": ""
    }
   },
   "outputs": [],
   "source": [
    "from pyspark.sql.functions import when\n",
    "\n",
    "# Cap trip_duration values at the upper bound\n",
    "taxi_df = taxi_df.withColumn(\"trip_duration\", when(col(\"trip_duration\") > upper_bound, upper_bound).otherwise(col(\"trip_duration\")))"
   ]
  },
  {
   "cell_type": "code",
   "execution_count": 0,
   "metadata": {
    "application/vnd.databricks.v1+cell": {
     "cellMetadata": {
      "byteLimit": 2048000,
      "rowLimit": 10000
     },
     "inputWidgets": {},
     "nuid": "17e03aeb-b3cf-4b72-b1c1-e1edff35c1ab",
     "showTitle": false,
     "tableResultSettingsMap": {},
     "title": ""
    }
   },
   "outputs": [
    {
     "output_type": "stream",
     "name": "stdout",
     "output_type": "stream",
     "text": [
      "+-------+-------------------+\n|summary|      trip_duration|\n+-------+-------------------+\n|  count|           35978259|\n|   mean| 15.268764828400286|\n| stddev|  9.904807674270454|\n|    min|0.01666666753590107|\n|    max|  37.62500190734863|\n+-------+-------------------+\n\n"
     ]
    }
   ],
   "source": [
    "# Summary Statistics for 'trip_duration'\n",
    "taxi_df.describe(\"trip_duration\").show()"
   ]
  },
  {
   "cell_type": "code",
   "execution_count": 0,
   "metadata": {
    "application/vnd.databricks.v1+cell": {
     "cellMetadata": {
      "byteLimit": 2048000,
      "rowLimit": 10000
     },
     "inputWidgets": {},
     "nuid": "2c748835-01ec-47e2-8dbe-b8dff4359d39",
     "showTitle": false,
     "tableResultSettingsMap": {},
     "title": ""
    }
   },
   "outputs": [
    {
     "output_type": "stream",
     "name": "stdout",
     "output_type": "stream",
     "text": [
      "+------------------+-------------------+\n|          skewness|           kurtosis|\n+------------------+-------------------+\n|0.9097695585248387|-0.1044367628372842|\n+------------------+-------------------+\n\n"
     ]
    }
   ],
   "source": [
    "import matplotlib.pyplot as plt\n",
    "import seaborn as sns\n",
    "from pyspark.sql import functions as F\n",
    "\n",
    "# Calculate skewness and kurtosis for the trip_duration column\n",
    "fare_stats = taxi_df.select(\n",
    "    F.skewness(\"trip_duration\").alias(\"skewness\"),\n",
    "    F.kurtosis(\"trip_duration\").alias(\"kurtosis\")\n",
    ")\n",
    "\n",
    "# Display the results\n",
    "fare_stats.show()"
   ]
  },
  {
   "cell_type": "code",
   "execution_count": 0,
   "metadata": {
    "application/vnd.databricks.v1+cell": {
     "cellMetadata": {
      "byteLimit": 2048000,
      "rowLimit": 10000
     },
     "inputWidgets": {},
     "nuid": "d0b6c4b2-680d-4b2e-8333-ac9da730cef8",
     "showTitle": false,
     "tableResultSettingsMap": {},
     "title": ""
    }
   },
   "outputs": [],
   "source": [
    "import matplotlib.pyplot as plt\n",
    "import seaborn as sns\n",
    "\n",
    "# Convert the 'trip_duration' column to a Pandas DataFrame or Series\n",
    "trip_duration_df = taxi_df.select(\"trip_duration\").toPandas()[\"trip_duration\"]\n",
    "\n",
    "# Assuming 'trip_duration' column has been converted to Pandas Series for plotting\n",
    "plt.figure(figsize=(14, 6))\n",
    "plt.subplot(1, 2, 1)\n",
    "sns.histplot(trip_duration_df, bins=50, kde=True)\n",
    "plt.title(\"Distribution of Trip Duration\")\n",
    "\n",
    "plt.subplot(1, 2, 2)\n",
    "sns.boxplot(x=trip_duration_df )\n",
    "plt.title(\"Box Plot of Trip Duration\")\n",
    "plt.show()"
   ]
  },
  {
   "cell_type": "code",
   "execution_count": 0,
   "metadata": {
    "application/vnd.databricks.v1+cell": {
     "cellMetadata": {
      "byteLimit": 2048000,
      "rowLimit": 10000
     },
     "inputWidgets": {},
     "nuid": "208571fd-92b8-4735-b798-25cd69397fc5",
     "showTitle": false,
     "tableResultSettingsMap": {},
     "title": ""
    }
   },
   "outputs": [],
   "source": [
    "from pyspark.sql.functions import col\n",
    "import matplotlib.pyplot as plt\n",
    "\n",
    "# Define city border coordinates\n",
    "city_long_border = (-74.1,73.8)\n",
    "city_lat_border = (40.5, 40.9)\n",
    "\n",
    "# Filter data for valid latitude and longitude values\n",
    "taxi_df = taxi_df.filter(\n",
    "    (col(\"pickup_longitude\") >= city_long_border[0]) & \n",
    "    (col(\"pickup_longitude\") <= city_long_border[1]) &\n",
    "    (col(\"pickup_latitude\") >= city_lat_border[0]) & \n",
    "    (col(\"pickup_latitude\") <= city_lat_border[1]) &\n",
    "    (col(\"dropoff_longitude\") >= city_long_border[0]) & \n",
    "    (col(\"dropoff_longitude\") <= city_long_border[1]) &\n",
    "    (col(\"dropoff_latitude\") >= city_lat_border[0]) & \n",
    "    (col(\"dropoff_latitude\") <= city_lat_border[1]))"
   ]
  },
  {
   "cell_type": "code",
   "execution_count": 0,
   "metadata": {
    "application/vnd.databricks.v1+cell": {
     "cellMetadata": {
      "byteLimit": 2048000,
      "rowLimit": 10000
     },
     "inputWidgets": {},
     "nuid": "9c27957b-ab11-4261-8b0a-295f28deec88",
     "showTitle": false,
     "tableResultSettingsMap": {},
     "title": ""
    }
   },
   "outputs": [],
   "source": [
    "# import folium\n",
    "# from folium.plugins import MarkerCluster\n",
    "\n",
    "# # Initialize the map centered on New York City\n",
    "# m = folium.Map(location=[40.7128, -74.0060], zoom_start=12)\n",
    "\n",
    "# # Add a MarkerCluster layer\n",
    "# marker_cluster = MarkerCluster().add_to(m)\n",
    "\n",
    "# # Take a 1% random sample of the data and select only the required columns\n",
    "# sampled_taxi_df = taxi_df.sample(fraction=0.01).select(\"pickup_latitude\", \"pickup_longitude\", \"dropoff_latitude\", \"dropoff_longitude\").collect()\n",
    "\n",
    "# # Add markers for each pickup and dropoff location in the sampled data\n",
    "# for row in sampled_taxi_df:\n",
    "#     # Add a marker for the pickup location\n",
    "#     folium.Marker([row['pickup_latitude'], row['pickup_longitude']], \n",
    "#                   popup=\"Pickup Location\").add_to(marker_cluster)\n",
    "    \n",
    "#     # Add a marker for the dropoff location\n",
    "#     folium.Marker([row['dropoff_latitude'], row['dropoff_longitude']], \n",
    "#                   popup=\"Dropoff Location\").add_to(marker_cluster)\n",
    "\n",
    "# # Display the map\n",
    "# m\n"
   ]
  },
  {
   "cell_type": "code",
   "execution_count": 0,
   "metadata": {
    "application/vnd.databricks.v1+cell": {
     "cellMetadata": {
      "byteLimit": 2048000,
      "rowLimit": 10000
     },
     "inputWidgets": {},
     "nuid": "bc985ffb-7e7d-42b1-b846-ce999b381aa9",
     "showTitle": false,
     "tableResultSettingsMap": {},
     "title": ""
    }
   },
   "outputs": [],
   "source": [
    "display(taxi_df)"
   ]
  },
  {
   "cell_type": "code",
   "execution_count": 0,
   "metadata": {
    "application/vnd.databricks.v1+cell": {
     "cellMetadata": {
      "byteLimit": 2048000,
      "rowLimit": 10000
     },
     "inputWidgets": {},
     "nuid": "8ea89c30-c933-4713-a1ee-9d26bcd87131",
     "showTitle": false,
     "tableResultSettingsMap": {},
     "title": ""
    }
   },
   "outputs": [
    {
     "output_type": "stream",
     "name": "stdout",
     "output_type": "stream",
     "text": [
      "Value counts for pickup_service_zone:\n"
     ]
    },
    {
     "output_type": "display_data",
     "data": {
      "text/html": [
       "<style scoped>\n",
       "  .table-result-container {\n",
       "    max-height: 300px;\n",
       "    overflow: auto;\n",
       "  }\n",
       "  table, th, td {\n",
       "    border: 1px solid black;\n",
       "    border-collapse: collapse;\n",
       "  }\n",
       "  th, td {\n",
       "    padding: 5px;\n",
       "  }\n",
       "  th {\n",
       "    text-align: left;\n",
       "  }\n",
       "</style><div class='table-result-container'><table class='table-result'><thead style='background-color: white'><tr><th>pickup_service_zone</th><th>count</th></tr></thead><tbody><tr><td>Yellow Zone</td><td>31545375</td></tr><tr><td>Airports</td><td>3129124</td></tr><tr><td>Boro Zone</td><td>1190267</td></tr></tbody></table></div>"
      ]
     },
     "metadata": {
      "application/vnd.databricks.v1+output": {
       "addedWidgets": {},
       "aggData": [],
       "aggError": "",
       "aggOverflow": false,
       "aggSchema": [],
       "aggSeriesLimitReached": false,
       "aggType": "",
       "arguments": {},
       "columnCustomDisplayInfos": {},
       "data": [
        [
         "Yellow Zone",
         31545375
        ],
        [
         "Airports",
         3129124
        ],
        [
         "Boro Zone",
         1190267
        ]
       ],
       "datasetInfos": [],
       "dbfsResultPath": null,
       "isJsonSchema": true,
       "metadata": {},
       "overflow": false,
       "plotOptions": {
        "customPlotOptions": {},
        "displayType": "table",
        "pivotAggregation": null,
        "pivotColumns": null,
        "xColumns": null,
        "yColumns": null
       },
       "removedWidgets": [],
       "schema": [
        {
         "metadata": "{}",
         "name": "pickup_service_zone",
         "type": "\"string\""
        },
        {
         "metadata": "{}",
         "name": "count",
         "type": "\"long\""
        }
       ],
       "type": "table"
      }
     },
     "output_type": "display_data"
    }
   ],
   "source": [
    "# Function to display value counts for a specific column using display()\n",
    "def display_value_counts(dataframe, column):\n",
    "    print(f\"Value counts for {column}:\")\n",
    "    value_counts = dataframe.groupBy(column).count().orderBy(\"count\", ascending=False)\n",
    "    display(value_counts)\n",
    "\n",
    "# Example usage for a specific column\n",
    "display_value_counts(taxi_df, 'pickup_service_zone')"
   ]
  },
  {
   "cell_type": "code",
   "execution_count": 0,
   "metadata": {
    "application/vnd.databricks.v1+cell": {
     "cellMetadata": {
      "byteLimit": 2048000,
      "rowLimit": 10000
     },
     "inputWidgets": {},
     "nuid": "ddba9c11-0a49-4afd-9ddf-cb7e8c0b9c2e",
     "showTitle": false,
     "tableResultSettingsMap": {},
     "title": ""
    }
   },
   "outputs": [],
   "source": []
  },
  {
   "cell_type": "code",
   "execution_count": 0,
   "metadata": {
    "application/vnd.databricks.v1+cell": {
     "cellMetadata": {
      "byteLimit": 2048000,
      "rowLimit": 10000
     },
     "inputWidgets": {},
     "nuid": "a18e6109-9ce1-413a-96b8-7fb46e2197b6",
     "showTitle": false,
     "tableResultSettingsMap": {},
     "title": ""
    }
   },
   "outputs": [
    {
     "output_type": "stream",
     "name": "stdout",
     "output_type": "stream",
     "text": [
      "Value counts for pickup_zone:\n"
     ]
    },
    {
     "output_type": "display_data",
     "data": {
      "text/html": [
       "<style scoped>\n",
       "  .table-result-container {\n",
       "    max-height: 300px;\n",
       "    overflow: auto;\n",
       "  }\n",
       "  table, th, td {\n",
       "    border: 1px solid black;\n",
       "    border-collapse: collapse;\n",
       "  }\n",
       "  th, td {\n",
       "    padding: 5px;\n",
       "  }\n",
       "  th {\n",
       "    text-align: left;\n",
       "  }\n",
       "</style><div class='table-result-container'><table class='table-result'><thead style='background-color: white'><tr><th>pickup_zone</th><th>count</th></tr></thead><tbody><tr><td>JFK Airport</td><td>1864633</td></tr><tr><td>Upper East Side South</td><td>1740117</td></tr><tr><td>Midtown Center</td><td>1705992</td></tr><tr><td>Upper East Side North</td><td>1534583</td></tr><tr><td>Midtown East</td><td>1312557</td></tr><tr><td>Penn Station/Madison Sq West</td><td>1269132</td></tr><tr><td>LaGuardia Airport</td><td>1264491</td></tr><tr><td>Times Sq/Theatre District</td><td>1210820</td></tr><tr><td>Lincoln Square East</td><td>1206132</td></tr><tr><td>Murray Hill</td><td>1086165</td></tr><tr><td>Midtown North</td><td>1068273</td></tr><tr><td>Upper West Side South</td><td>1002622</td></tr><tr><td>Union Sq</td><td>988554</td></tr><tr><td>Clinton East</td><td>968166</td></tr><tr><td>East Chelsea</td><td>952093</td></tr><tr><td>Lenox Hill West</td><td>868467</td></tr><tr><td>East Village</td><td>853020</td></tr><tr><td>Midtown South</td><td>846923</td></tr><tr><td>West Village</td><td>814076</td></tr><tr><td>Gramercy</td><td>767815</td></tr><tr><td>Lenox Hill East</td><td>715077</td></tr><tr><td>Sutton Place/Turtle Bay North</td><td>696241</td></tr><tr><td>Yorkville West</td><td>689385</td></tr><tr><td>Upper West Side North</td><td>688185</td></tr><tr><td>Central Park</td><td>612996</td></tr><tr><td>West Chelsea/Hudson Yards</td><td>609369</td></tr><tr><td>Garment District</td><td>608549</td></tr><tr><td>Flatiron</td><td>591542</td></tr><tr><td>Greenwich Village North</td><td>498247</td></tr><tr><td>Greenwich Village South</td><td>486050</td></tr><tr><td>TriBeCa/Civic Center</td><td>483191</td></tr><tr><td>Yorkville East</td><td>470094</td></tr><tr><td>UN/Turtle Bay South</td><td>452595</td></tr><tr><td>Kips Bay</td><td>390453</td></tr><tr><td>Lincoln Square West</td><td>378802</td></tr><tr><td>Lower East Side</td><td>371261</td></tr><tr><td>Little Italy/NoLiTa</td><td>323160</td></tr><tr><td>Meatpacking/West Village West</td><td>314671</td></tr><tr><td>Manhattan Valley</td><td>282660</td></tr><tr><td>SoHo</td><td>271839</td></tr><tr><td>Clinton West</td><td>225662</td></tr><tr><td>Battery Park City</td><td>206863</td></tr><tr><td>East Harlem South</td><td>202713</td></tr><tr><td>World Trade Center</td><td>186435</td></tr><tr><td>Financial District North</td><td>184883</td></tr><tr><td>Hudson Sq</td><td>179071</td></tr><tr><td>East Elmhurst</td><td>165288</td></tr><tr><td>Morningside Heights</td><td>155741</td></tr><tr><td>Financial District South</td><td>98063</td></tr><tr><td>Bloomingdale</td><td>88126</td></tr><tr><td>Central Harlem</td><td>75792</td></tr><tr><td>East Harlem North</td><td>70146</td></tr><tr><td>Seaport</td><td>65545</td></tr><tr><td>Chinatown</td><td>47338</td></tr><tr><td>Stuy Town/Peter Cooper Village</td><td>41868</td></tr><tr><td>Two Bridges/Seward Park</td><td>37606</td></tr><tr><td>Alphabet City</td><td>36456</td></tr><tr><td>Central Harlem North</td><td>25340</td></tr><tr><td>Sunnyside</td><td>22134</td></tr><tr><td>Hamilton Heights</td><td>20878</td></tr><tr><td>Downtown Brooklyn/MetroTech</td><td>20348</td></tr><tr><td>Manhattanville</td><td>19772</td></tr><tr><td>Washington Heights South</td><td>18101</td></tr><tr><td>Battery Park</td><td>16291</td></tr><tr><td>Long Island City/Queens Plaza</td><td>15663</td></tr><tr><td>Astoria</td><td>14838</td></tr><tr><td>Long Island City/Hunters Point</td><td>14601</td></tr><tr><td>Brooklyn Heights</td><td>13400</td></tr><tr><td>Fort Greene</td><td>11591</td></tr><tr><td>Boerum Hill</td><td>11137</td></tr><tr><td>Baisley Park</td><td>10373</td></tr><tr><td>Williamsburg (North Side)</td><td>9506</td></tr><tr><td>DUMBO/Vinegar Hill</td><td>8727</td></tr><tr><td>Park Slope</td><td>8714</td></tr><tr><td>Williamsburg (South Side)</td><td>8007</td></tr><tr><td>Flushing Meadows-Corona Park</td><td>7693</td></tr><tr><td>Jackson Heights</td><td>6519</td></tr><tr><td>Woodside</td><td>6351</td></tr><tr><td>Cobble Hill</td><td>6040</td></tr><tr><td>South Ozone Park</td><td>5866</td></tr><tr><td>Jamaica</td><td>5697</td></tr><tr><td>Steinway</td><td>5671</td></tr><tr><td>Queensbridge/Ravenswood</td><td>5526</td></tr><tr><td>South Jamaica</td><td>5187</td></tr><tr><td>Crown Heights North</td><td>5154</td></tr><tr><td>Old Astoria</td><td>5145</td></tr><tr><td>East Williamsburg</td><td>4941</td></tr><tr><td>East New York</td><td>4428</td></tr><tr><td>Forest Hills</td><td>4351</td></tr><tr><td>Elmhurst</td><td>4309</td></tr><tr><td>Corona</td><td>4246</td></tr><tr><td>Greenpoint</td><td>3957</td></tr><tr><td>Richmond Hill</td><td>3939</td></tr><tr><td>Prospect-Lefferts Gardens</td><td>3553</td></tr><tr><td>Carroll Gardens</td><td>3453</td></tr><tr><td>Red Hook</td><td>3406</td></tr><tr><td>Washington Heights North</td><td>3385</td></tr><tr><td>Kew Gardens</td><td>3301</td></tr><tr><td>Clinton Hill</td><td>3249</td></tr><tr><td>Canarsie</td><td>3246</td></tr><tr><td>West Concourse</td><td>3112</td></tr><tr><td>Flatbush/Ditmas Park</td><td>3108</td></tr><tr><td>Mott Haven/Port Morris</td><td>3085</td></tr><tr><td>Co-Op City</td><td>3063</td></tr><tr><td>Briarwood/Jamaica Hills</td><td>3061</td></tr><tr><td>Springfield Gardens South</td><td>3011</td></tr><tr><td>Saint Albans</td><td>2831</td></tr><tr><td>Brownsville</td><td>2723</td></tr><tr><td>Bedford</td><td>2704</td></tr><tr><td>Springfield Gardens North</td><td>2536</td></tr><tr><td>Prospect Heights</td><td>2447</td></tr><tr><td>Stuyvesant Heights</td><td>2442</td></tr><tr><td>Maspeth</td><td>2434</td></tr><tr><td>Soundview/Castle Hill</td><td>2279</td></tr><tr><td>East Concourse/Concourse Village</td><td>2228</td></tr><tr><td>Flatlands</td><td>2183</td></tr><tr><td>East Flatbush/Remsen Village</td><td>2118</td></tr><tr><td>Rego Park</td><td>2113</td></tr><tr><td>Bay Ridge</td><td>2090</td></tr><tr><td>Bushwick South</td><td>2083</td></tr><tr><td>Van Nest/Morris Park</td><td>2017</td></tr><tr><td>Melrose South</td><td>1981</td></tr><tr><td>Ocean Hill</td><td>1977</td></tr><tr><td>Queens Village</td><td>1941</td></tr><tr><td>Williamsbridge/Olinville</td><td>1915</td></tr><tr><td>University Heights/Morris Heights</td><td>1830</td></tr><tr><td>East Flatbush/Farragut</td><td>1750</td></tr><tr><td>Coney Island</td><td>1735</td></tr><tr><td>Flushing</td><td>1651</td></tr><tr><td>Far Rockaway</td><td>1611</td></tr><tr><td>Crown Heights South</td><td>1608</td></tr><tr><td>Hillcrest/Pomonok</td><td>1541</td></tr><tr><td>Morrisania/Melrose</td><td>1529</td></tr><tr><td>Highbridge</td><td>1525</td></tr><tr><td>Inwood</td><td>1512</td></tr><tr><td>Starrett City</td><td>1511</td></tr><tr><td>Hammels/Arverne</td><td>1501</td></tr><tr><td>Jamaica Estates</td><td>1453</td></tr><tr><td>Parkchester</td><td>1450</td></tr><tr><td>Elmhurst/Maspeth</td><td>1396</td></tr><tr><td>East Tremont</td><td>1367</td></tr><tr><td>Mount Hope</td><td>1360</td></tr><tr><td>Bushwick North</td><td>1356</td></tr><tr><td>Rosedale</td><td>1311</td></tr><tr><td>Randalls Island</td><td>1294</td></tr><tr><td>Spuyten Duyvil/Kingsbridge</td><td>1276</td></tr><tr><td>Midwood</td><td>1263</td></tr><tr><td>Sunset Park West</td><td>1262</td></tr><tr><td>Norwood</td><td>1259</td></tr><tr><td>Kew Gardens Hills</td><td>1250</td></tr><tr><td>Bedford Park</td><td>1214</td></tr><tr><td>Roosevelt Island</td><td>1208</td></tr><tr><td>Laurelton</td><td>1164</td></tr><tr><td>Van Cortlandt Village</td><td>1152</td></tr><tr><td>Claremont/Bathgate</td><td>1133</td></tr><tr><td>Howard Beach</td><td>1121</td></tr><tr><td>Sheepshead Bay</td><td>1098</td></tr><tr><td>Kingsbridge Heights</td><td>1087</td></tr><tr><td>Cambria Heights</td><td>1084</td></tr><tr><td>Marine Park/Mill Basin</td><td>1069</td></tr><tr><td>East New York/Pennsylvania Avenue</td><td>1012</td></tr><tr><td>Gowanus</td><td>989</td></tr><tr><td>Woodhaven</td><td>981</td></tr><tr><td>Erasmus</td><td>981</td></tr><tr><td>Bronxdale</td><td>956</td></tr><tr><td>Borough Park</td><td>930</td></tr><tr><td>South Williamsburg</td><td>905</td></tr><tr><td>Brighton Beach</td><td>902</td></tr><tr><td>Schuylerville/Edgewater Park</td><td>902</td></tr><tr><td>Pelham Parkway</td><td>885</td></tr><tr><td>Woodlawn/Wakefield</td><td>877</td></tr><tr><td>Eastchester</td><td>876</td></tr><tr><td>Ridgewood</td><td>874</td></tr><tr><td>Bensonhurst West</td><td>868</td></tr><tr><td>Westchester Village/Unionport</td><td>862</td></tr><tr><td>Gravesend</td><td>845</td></tr><tr><td>Cypress Hills</td><td>841</td></tr><tr><td>West Farms/Bronx River</td><td>822</td></tr><tr><td>Kensington</td><td>797</td></tr><tr><td>Soundview/Bruckner</td><td>749</td></tr><tr><td>Middle Village</td><td>740</td></tr><tr><td>Homecrest</td><td>737</td></tr><tr><td>Bensonhurst East</td><td>705</td></tr><tr><td>Hollis</td><td>699</td></tr><tr><td>Bellerose</td><td>673</td></tr><tr><td>Madison</td><td>658</td></tr><tr><td>Hunts Point</td><td>649</td></tr><tr><td>Glendale</td><td>649</td></tr><tr><td>Riverdale/North Riverdale/Fieldston</td><td>637</td></tr><tr><td>Allerton/Pelham Gardens</td><td>634</td></tr><tr><td>Belmont</td><td>627</td></tr><tr><td>Fordham South</td><td>614</td></tr><tr><td>Longwood</td><td>614</td></tr><tr><td>Crotona Park East</td><td>609</td></tr><tr><td>Ozone Park</td><td>590</td></tr><tr><td>North Corona</td><td>584</td></tr><tr><td>Prospect Park</td><td>559</td></tr><tr><td>Windsor Terrace</td><td>528</td></tr><tr><td>Murray Hill-Queens</td><td>509</td></tr><tr><td>Queensboro Hill</td><td>505</td></tr><tr><td>Saint Michaels Cemetery/Woodside</td><td>497</td></tr><tr><td>Fresh Meadows</td><td>482</td></tr><tr><td>Dyker Heights</td><td>479</td></tr><tr><td>Sunset Park East</td><td>470</td></tr><tr><td>Brooklyn Navy Yard</td><td>470</td></tr><tr><td>Bath Beach</td><td>463</td></tr><tr><td>Oakland Gardens</td><td>463</td></tr><tr><td>Auburndale</td><td>455</td></tr><tr><td>College Point</td><td>444</td></tr><tr><td>Rockaway Park</td><td>442</td></tr><tr><td>Columbia Street</td><td>437</td></tr><tr><td>Bayside</td><td>437</td></tr><tr><td>Glen Oaks</td><td>402</td></tr><tr><td>Marine Park/Floyd Bennett Field</td><td>398</td></tr><tr><td>Manhattan Beach</td><td>364</td></tr><tr><td>Arrochar/Fort Wadsworth</td><td>362</td></tr><tr><td>Whitestone</td><td>354</td></tr><tr><td>Pelham Bay</td><td>342</td></tr><tr><td>Bay Terrace/Fort Totten</td><td>280</td></tr><tr><td>Marble Hill</td><td>277</td></tr><tr><td>Ocean Parkway South</td><td>243</td></tr><tr><td>East Flushing</td><td>235</td></tr><tr><td>Douglaston</td><td>232</td></tr><tr><td>Astoria Park</td><td>155</td></tr><tr><td>Bronx Park</td><td>153</td></tr><tr><td>Inwood Hill Park</td><td>141</td></tr><tr><td>South Beach/Dongan Hills</td><td>138</td></tr><tr><td>Highbridge Park</td><td>126</td></tr><tr><td>Van Cortlandt Park</td><td>95</td></tr><tr><td>Willets Point</td><td>90</td></tr><tr><td>Forest Park/Highland Park</td><td>87</td></tr><tr><td>City Island</td><td>85</td></tr><tr><td>Country Club</td><td>43</td></tr><tr><td>Crotona Park</td><td>38</td></tr><tr><td>Pelham Bay Park</td><td>38</td></tr><tr><td>Jamaica Bay</td><td>30</td></tr><tr><td>Broad Channel</td><td>25</td></tr><tr><td>Stapleton</td><td>24</td></tr><tr><td>Rikers Island</td><td>20</td></tr><tr><td>Green-Wood Cemetery</td><td>16</td></tr><tr><td>Breezy Point/Fort Tilden/Riis Beach</td><td>12</td></tr><tr><td>Grymes Hill/Clifton</td><td>7</td></tr></tbody></table></div>"
      ]
     },
     "metadata": {
      "application/vnd.databricks.v1+output": {
       "addedWidgets": {},
       "aggData": [],
       "aggError": "",
       "aggOverflow": false,
       "aggSchema": [],
       "aggSeriesLimitReached": false,
       "aggType": "",
       "arguments": {},
       "columnCustomDisplayInfos": {},
       "data": [
        [
         "JFK Airport",
         1864633
        ],
        [
         "Upper East Side South",
         1740117
        ],
        [
         "Midtown Center",
         1705992
        ],
        [
         "Upper East Side North",
         1534583
        ],
        [
         "Midtown East",
         1312557
        ],
        [
         "Penn Station/Madison Sq West",
         1269132
        ],
        [
         "LaGuardia Airport",
         1264491
        ],
        [
         "Times Sq/Theatre District",
         1210820
        ],
        [
         "Lincoln Square East",
         1206132
        ],
        [
         "Murray Hill",
         1086165
        ],
        [
         "Midtown North",
         1068273
        ],
        [
         "Upper West Side South",
         1002622
        ],
        [
         "Union Sq",
         988554
        ],
        [
         "Clinton East",
         968166
        ],
        [
         "East Chelsea",
         952093
        ],
        [
         "Lenox Hill West",
         868467
        ],
        [
         "East Village",
         853020
        ],
        [
         "Midtown South",
         846923
        ],
        [
         "West Village",
         814076
        ],
        [
         "Gramercy",
         767815
        ],
        [
         "Lenox Hill East",
         715077
        ],
        [
         "Sutton Place/Turtle Bay North",
         696241
        ],
        [
         "Yorkville West",
         689385
        ],
        [
         "Upper West Side North",
         688185
        ],
        [
         "Central Park",
         612996
        ],
        [
         "West Chelsea/Hudson Yards",
         609369
        ],
        [
         "Garment District",
         608549
        ],
        [
         "Flatiron",
         591542
        ],
        [
         "Greenwich Village North",
         498247
        ],
        [
         "Greenwich Village South",
         486050
        ],
        [
         "TriBeCa/Civic Center",
         483191
        ],
        [
         "Yorkville East",
         470094
        ],
        [
         "UN/Turtle Bay South",
         452595
        ],
        [
         "Kips Bay",
         390453
        ],
        [
         "Lincoln Square West",
         378802
        ],
        [
         "Lower East Side",
         371261
        ],
        [
         "Little Italy/NoLiTa",
         323160
        ],
        [
         "Meatpacking/West Village West",
         314671
        ],
        [
         "Manhattan Valley",
         282660
        ],
        [
         "SoHo",
         271839
        ],
        [
         "Clinton West",
         225662
        ],
        [
         "Battery Park City",
         206863
        ],
        [
         "East Harlem South",
         202713
        ],
        [
         "World Trade Center",
         186435
        ],
        [
         "Financial District North",
         184883
        ],
        [
         "Hudson Sq",
         179071
        ],
        [
         "East Elmhurst",
         165288
        ],
        [
         "Morningside Heights",
         155741
        ],
        [
         "Financial District South",
         98063
        ],
        [
         "Bloomingdale",
         88126
        ],
        [
         "Central Harlem",
         75792
        ],
        [
         "East Harlem North",
         70146
        ],
        [
         "Seaport",
         65545
        ],
        [
         "Chinatown",
         47338
        ],
        [
         "Stuy Town/Peter Cooper Village",
         41868
        ],
        [
         "Two Bridges/Seward Park",
         37606
        ],
        [
         "Alphabet City",
         36456
        ],
        [
         "Central Harlem North",
         25340
        ],
        [
         "Sunnyside",
         22134
        ],
        [
         "Hamilton Heights",
         20878
        ],
        [
         "Downtown Brooklyn/MetroTech",
         20348
        ],
        [
         "Manhattanville",
         19772
        ],
        [
         "Washington Heights South",
         18101
        ],
        [
         "Battery Park",
         16291
        ],
        [
         "Long Island City/Queens Plaza",
         15663
        ],
        [
         "Astoria",
         14838
        ],
        [
         "Long Island City/Hunters Point",
         14601
        ],
        [
         "Brooklyn Heights",
         13400
        ],
        [
         "Fort Greene",
         11591
        ],
        [
         "Boerum Hill",
         11137
        ],
        [
         "Baisley Park",
         10373
        ],
        [
         "Williamsburg (North Side)",
         9506
        ],
        [
         "DUMBO/Vinegar Hill",
         8727
        ],
        [
         "Park Slope",
         8714
        ],
        [
         "Williamsburg (South Side)",
         8007
        ],
        [
         "Flushing Meadows-Corona Park",
         7693
        ],
        [
         "Jackson Heights",
         6519
        ],
        [
         "Woodside",
         6351
        ],
        [
         "Cobble Hill",
         6040
        ],
        [
         "South Ozone Park",
         5866
        ],
        [
         "Jamaica",
         5697
        ],
        [
         "Steinway",
         5671
        ],
        [
         "Queensbridge/Ravenswood",
         5526
        ],
        [
         "South Jamaica",
         5187
        ],
        [
         "Crown Heights North",
         5154
        ],
        [
         "Old Astoria",
         5145
        ],
        [
         "East Williamsburg",
         4941
        ],
        [
         "East New York",
         4428
        ],
        [
         "Forest Hills",
         4351
        ],
        [
         "Elmhurst",
         4309
        ],
        [
         "Corona",
         4246
        ],
        [
         "Greenpoint",
         3957
        ],
        [
         "Richmond Hill",
         3939
        ],
        [
         "Prospect-Lefferts Gardens",
         3553
        ],
        [
         "Carroll Gardens",
         3453
        ],
        [
         "Red Hook",
         3406
        ],
        [
         "Washington Heights North",
         3385
        ],
        [
         "Kew Gardens",
         3301
        ],
        [
         "Clinton Hill",
         3249
        ],
        [
         "Canarsie",
         3246
        ],
        [
         "West Concourse",
         3112
        ],
        [
         "Flatbush/Ditmas Park",
         3108
        ],
        [
         "Mott Haven/Port Morris",
         3085
        ],
        [
         "Co-Op City",
         3063
        ],
        [
         "Briarwood/Jamaica Hills",
         3061
        ],
        [
         "Springfield Gardens South",
         3011
        ],
        [
         "Saint Albans",
         2831
        ],
        [
         "Brownsville",
         2723
        ],
        [
         "Bedford",
         2704
        ],
        [
         "Springfield Gardens North",
         2536
        ],
        [
         "Prospect Heights",
         2447
        ],
        [
         "Stuyvesant Heights",
         2442
        ],
        [
         "Maspeth",
         2434
        ],
        [
         "Soundview/Castle Hill",
         2279
        ],
        [
         "East Concourse/Concourse Village",
         2228
        ],
        [
         "Flatlands",
         2183
        ],
        [
         "East Flatbush/Remsen Village",
         2118
        ],
        [
         "Rego Park",
         2113
        ],
        [
         "Bay Ridge",
         2090
        ],
        [
         "Bushwick South",
         2083
        ],
        [
         "Van Nest/Morris Park",
         2017
        ],
        [
         "Melrose South",
         1981
        ],
        [
         "Ocean Hill",
         1977
        ],
        [
         "Queens Village",
         1941
        ],
        [
         "Williamsbridge/Olinville",
         1915
        ],
        [
         "University Heights/Morris Heights",
         1830
        ],
        [
         "East Flatbush/Farragut",
         1750
        ],
        [
         "Coney Island",
         1735
        ],
        [
         "Flushing",
         1651
        ],
        [
         "Far Rockaway",
         1611
        ],
        [
         "Crown Heights South",
         1608
        ],
        [
         "Hillcrest/Pomonok",
         1541
        ],
        [
         "Morrisania/Melrose",
         1529
        ],
        [
         "Highbridge",
         1525
        ],
        [
         "Inwood",
         1512
        ],
        [
         "Starrett City",
         1511
        ],
        [
         "Hammels/Arverne",
         1501
        ],
        [
         "Jamaica Estates",
         1453
        ],
        [
         "Parkchester",
         1450
        ],
        [
         "Elmhurst/Maspeth",
         1396
        ],
        [
         "East Tremont",
         1367
        ],
        [
         "Mount Hope",
         1360
        ],
        [
         "Bushwick North",
         1356
        ],
        [
         "Rosedale",
         1311
        ],
        [
         "Randalls Island",
         1294
        ],
        [
         "Spuyten Duyvil/Kingsbridge",
         1276
        ],
        [
         "Midwood",
         1263
        ],
        [
         "Sunset Park West",
         1262
        ],
        [
         "Norwood",
         1259
        ],
        [
         "Kew Gardens Hills",
         1250
        ],
        [
         "Bedford Park",
         1214
        ],
        [
         "Roosevelt Island",
         1208
        ],
        [
         "Laurelton",
         1164
        ],
        [
         "Van Cortlandt Village",
         1152
        ],
        [
         "Claremont/Bathgate",
         1133
        ],
        [
         "Howard Beach",
         1121
        ],
        [
         "Sheepshead Bay",
         1098
        ],
        [
         "Kingsbridge Heights",
         1087
        ],
        [
         "Cambria Heights",
         1084
        ],
        [
         "Marine Park/Mill Basin",
         1069
        ],
        [
         "East New York/Pennsylvania Avenue",
         1012
        ],
        [
         "Gowanus",
         989
        ],
        [
         "Woodhaven",
         981
        ],
        [
         "Erasmus",
         981
        ],
        [
         "Bronxdale",
         956
        ],
        [
         "Borough Park",
         930
        ],
        [
         "South Williamsburg",
         905
        ],
        [
         "Brighton Beach",
         902
        ],
        [
         "Schuylerville/Edgewater Park",
         902
        ],
        [
         "Pelham Parkway",
         885
        ],
        [
         "Woodlawn/Wakefield",
         877
        ],
        [
         "Eastchester",
         876
        ],
        [
         "Ridgewood",
         874
        ],
        [
         "Bensonhurst West",
         868
        ],
        [
         "Westchester Village/Unionport",
         862
        ],
        [
         "Gravesend",
         845
        ],
        [
         "Cypress Hills",
         841
        ],
        [
         "West Farms/Bronx River",
         822
        ],
        [
         "Kensington",
         797
        ],
        [
         "Soundview/Bruckner",
         749
        ],
        [
         "Middle Village",
         740
        ],
        [
         "Homecrest",
         737
        ],
        [
         "Bensonhurst East",
         705
        ],
        [
         "Hollis",
         699
        ],
        [
         "Bellerose",
         673
        ],
        [
         "Madison",
         658
        ],
        [
         "Hunts Point",
         649
        ],
        [
         "Glendale",
         649
        ],
        [
         "Riverdale/North Riverdale/Fieldston",
         637
        ],
        [
         "Allerton/Pelham Gardens",
         634
        ],
        [
         "Belmont",
         627
        ],
        [
         "Fordham South",
         614
        ],
        [
         "Longwood",
         614
        ],
        [
         "Crotona Park East",
         609
        ],
        [
         "Ozone Park",
         590
        ],
        [
         "North Corona",
         584
        ],
        [
         "Prospect Park",
         559
        ],
        [
         "Windsor Terrace",
         528
        ],
        [
         "Murray Hill-Queens",
         509
        ],
        [
         "Queensboro Hill",
         505
        ],
        [
         "Saint Michaels Cemetery/Woodside",
         497
        ],
        [
         "Fresh Meadows",
         482
        ],
        [
         "Dyker Heights",
         479
        ],
        [
         "Sunset Park East",
         470
        ],
        [
         "Brooklyn Navy Yard",
         470
        ],
        [
         "Bath Beach",
         463
        ],
        [
         "Oakland Gardens",
         463
        ],
        [
         "Auburndale",
         455
        ],
        [
         "College Point",
         444
        ],
        [
         "Rockaway Park",
         442
        ],
        [
         "Columbia Street",
         437
        ],
        [
         "Bayside",
         437
        ],
        [
         "Glen Oaks",
         402
        ],
        [
         "Marine Park/Floyd Bennett Field",
         398
        ],
        [
         "Manhattan Beach",
         364
        ],
        [
         "Arrochar/Fort Wadsworth",
         362
        ],
        [
         "Whitestone",
         354
        ],
        [
         "Pelham Bay",
         342
        ],
        [
         "Bay Terrace/Fort Totten",
         280
        ],
        [
         "Marble Hill",
         277
        ],
        [
         "Ocean Parkway South",
         243
        ],
        [
         "East Flushing",
         235
        ],
        [
         "Douglaston",
         232
        ],
        [
         "Astoria Park",
         155
        ],
        [
         "Bronx Park",
         153
        ],
        [
         "Inwood Hill Park",
         141
        ],
        [
         "South Beach/Dongan Hills",
         138
        ],
        [
         "Highbridge Park",
         126
        ],
        [
         "Van Cortlandt Park",
         95
        ],
        [
         "Willets Point",
         90
        ],
        [
         "Forest Park/Highland Park",
         87
        ],
        [
         "City Island",
         85
        ],
        [
         "Country Club",
         43
        ],
        [
         "Crotona Park",
         38
        ],
        [
         "Pelham Bay Park",
         38
        ],
        [
         "Jamaica Bay",
         30
        ],
        [
         "Broad Channel",
         25
        ],
        [
         "Stapleton",
         24
        ],
        [
         "Rikers Island",
         20
        ],
        [
         "Green-Wood Cemetery",
         16
        ],
        [
         "Breezy Point/Fort Tilden/Riis Beach",
         12
        ],
        [
         "Grymes Hill/Clifton",
         7
        ]
       ],
       "datasetInfos": [],
       "dbfsResultPath": null,
       "isJsonSchema": true,
       "metadata": {},
       "overflow": false,
       "plotOptions": {
        "customPlotOptions": {},
        "displayType": "table",
        "pivotAggregation": null,
        "pivotColumns": null,
        "xColumns": null,
        "yColumns": null
       },
       "removedWidgets": [],
       "schema": [
        {
         "metadata": "{}",
         "name": "pickup_zone",
         "type": "\"string\""
        },
        {
         "metadata": "{}",
         "name": "count",
         "type": "\"long\""
        }
       ],
       "type": "table"
      }
     },
     "output_type": "display_data"
    }
   ],
   "source": [
    "# Example usage for a specific column\n",
    "display_value_counts(taxi_df, 'pickup_zone')"
   ]
  },
  {
   "cell_type": "markdown",
   "metadata": {
    "application/vnd.databricks.v1+cell": {
     "cellMetadata": {
      "byteLimit": 2048000,
      "rowLimit": 10000
     },
     "inputWidgets": {},
     "nuid": "bb4298e3-ab5c-4c99-a17e-52d626a5abfe",
     "showTitle": false,
     "tableResultSettingsMap": {},
     "title": ""
    }
   },
   "source": [
    "| Column               | Type            | Purpose                                                    |\n",
    "|----------------------|-----------------|------------------------------------------------------------|\n",
    "| `DOLocationID`       | Categorical     | Destination location                                       |\n",
    "| `PULocationID`       | Categorical     | Pickup location                                            |\n",
    "| `passenger_count`    | Numerical       | Number of passengers                                       |\n",
    "| `trip_distance`      | Numerical       | Trip distance                                              |\n",
    "| `total_amount`       | Numerical       | Target variable (taxi fare)                                |\n",
    "| `trip_duration`      | Numerical       | Trip duration                                              |\n",
    "| `pickup_hour`        | Categorical     | Hour of pickup                                             |\n",
    "| `pickup_day_of_week` | Categorical     | Day of the week (pickup)                                   |\n",
    "| `pickup_month`       | Categorical     | Month of pickup                                            |\n",
    "| `distance_km`        | Numerical       | Calculated trip distance in km                             |\n",
    "| `pickup_borough`     | Categorical     | Pickup borough                                             |\n",
    "| `dropoff_borough`    | Categorical     | Drop-off borough                                           |\n",
    "| `is_holiday`         | Categorical     | Indicator for holidays                                     |\n",
    "| `temp`               | Numerical       | Temperature (optional)                                     |"
   ]
  },
  {
   "cell_type": "markdown",
   "metadata": {
    "application/vnd.databricks.v1+cell": {
     "cellMetadata": {
      "byteLimit": 2048000,
      "rowLimit": 10000
     },
     "inputWidgets": {},
     "nuid": "88d2fd10-223d-4aa9-9a1d-d7b15cd2475d",
     "showTitle": false,
     "tableResultSettingsMap": {},
     "title": ""
    }
   },
   "source": [
    "####  Bins for Distance"
   ]
  },
  {
   "cell_type": "code",
   "execution_count": 0,
   "metadata": {
    "application/vnd.databricks.v1+cell": {
     "cellMetadata": {
      "byteLimit": 2048000,
      "rowLimit": 10000
     },
     "inputWidgets": {},
     "nuid": "bc92ec01-638e-4b2c-8b9b-25397d2e4e41",
     "showTitle": false,
     "tableResultSettingsMap": {},
     "title": ""
    }
   },
   "outputs": [],
   "source": [
    "# Binning trip_distance into categories: Short, Medium, Long\n",
    "taxi_df = taxi_df.withColumn(\n",
    "    \"distance_bin\", \n",
    "    when(col(\"trip_distance\") <= 2, \"Short\")\n",
    "    .when((col(\"trip_distance\") > 2) & (col(\"trip_distance\") <= 5), \"Medium\")\n",
    "    .otherwise(\"Long\")\n",
    ")"
   ]
  },
  {
   "cell_type": "code",
   "execution_count": 0,
   "metadata": {
    "application/vnd.databricks.v1+cell": {
     "cellMetadata": {
      "byteLimit": 2048000,
      "rowLimit": 10000
     },
     "inputWidgets": {},
     "nuid": "336b8409-7b27-4e6b-b8bb-022ca77d58d9",
     "showTitle": false,
     "tableResultSettingsMap": {},
     "title": ""
    }
   },
   "outputs": [],
   "source": [
    "from pyspark.sql import functions as F\n",
    "import pandas as pd\n",
    "import matplotlib.pyplot as plt\n",
    "\n",
    "distance_distribution = (\n",
    "    taxi_df.groupBy(\"distance_bin\")\n",
    "    .agg(F.count(\"*\").alias(\"count\"))\n",
    ")\n",
    "\n",
    "total_count = distance_distribution.agg(F.sum(\"count\")).collect()[0][0]\n",
    "distance_distribution = distance_distribution.withColumn(\"percentage\", (F.col(\"count\") / total_count) * 100)\n",
    "\n",
    "distance_distribution_pd = distance_distribution.toPandas()\n",
    "\n",
    "plt.figure(figsize=(8, 6))\n",
    "plt.pie(distance_distribution_pd[\"percentage\"], labels=distance_distribution_pd[\"distance_bin\"], autopct='%1.1f%%')\n",
    "plt.title(\"Distribution of Trip Distances\")\n",
    "plt.show()\n"
   ]
  },
  {
   "cell_type": "markdown",
   "metadata": {
    "application/vnd.databricks.v1+cell": {
     "cellMetadata": {
      "byteLimit": 2048000,
      "rowLimit": 10000
     },
     "inputWidgets": {},
     "nuid": "cf0ad024-b472-4281-9f4b-d1c40e93849e",
     "showTitle": false,
     "tableResultSettingsMap": {},
     "title": ""
    }
   },
   "source": [
    "####  Bins for  Temperature"
   ]
  },
  {
   "cell_type": "code",
   "execution_count": 0,
   "metadata": {
    "application/vnd.databricks.v1+cell": {
     "cellMetadata": {
      "byteLimit": 2048000,
      "rowLimit": 10000
     },
     "inputWidgets": {},
     "nuid": "01ee5bab-cae2-4b54-a3f1-fd2e756259f4",
     "showTitle": false,
     "tableResultSettingsMap": {},
     "title": ""
    }
   },
   "outputs": [],
   "source": [
    "\n",
    "# Binning temperature into ranges: Cold, Cool, Warm, Hot\n",
    "taxi_df = taxi_df.withColumn(\n",
    "    \"temp_bin\", \n",
    "    when(col(\"temp\") <= 10, \"Cold\")\n",
    "    .when((col(\"temp\") > 10) & (col(\"temp\") <= 20), \"Cool\")\n",
    "    .when((col(\"temp\") > 20) & (col(\"temp\") <= 30), \"Warm\")\n",
    "    .otherwise(\"Hot\")\n",
    ")"
   ]
  },
  {
   "cell_type": "code",
   "execution_count": 0,
   "metadata": {
    "application/vnd.databricks.v1+cell": {
     "cellMetadata": {
      "byteLimit": 2048000,
      "rowLimit": 10000
     },
     "inputWidgets": {},
     "nuid": "bb997fed-bccc-445b-8180-03a7cae77876",
     "showTitle": false,
     "tableResultSettingsMap": {},
     "title": ""
    }
   },
   "outputs": [],
   "source": [
    "temp_distribution = (\n",
    "    taxi_df.groupBy(\"temp_bin\")\n",
    "    .agg(F.count(\"*\").alias(\"count\"))\n",
    ")\n",
    "\n",
    "total_count = temp_distribution.agg(F.sum(\"count\")).collect()[0][0]\n",
    "temp_distribution = temp_distribution.withColumn(\"percentage\", (F.col(\"count\") / total_count) * 100)\n",
    "\n",
    "temp_distribution_pd = temp_distribution.toPandas()\n",
    "\n",
    "plt.figure(figsize=(8, 6))\n",
    "plt.pie(temp_distribution_pd[\"percentage\"], labels=temp_distribution_pd[\"temp_bin\"], autopct='%1.1f%%')\n",
    "plt.title(\"Distribution of Temperature Bins\")\n",
    "plt.show()\n"
   ]
  },
  {
   "cell_type": "markdown",
   "metadata": {
    "application/vnd.databricks.v1+cell": {
     "cellMetadata": {
      "byteLimit": 2048000,
      "rowLimit": 10000
     },
     "inputWidgets": {},
     "nuid": "9c29cc82-d12e-4098-b5f2-678e89285408",
     "showTitle": false,
     "tableResultSettingsMap": {},
     "title": ""
    }
   },
   "source": [
    "#### Binning Time of Day"
   ]
  },
  {
   "cell_type": "code",
   "execution_count": 0,
   "metadata": {
    "application/vnd.databricks.v1+cell": {
     "cellMetadata": {
      "byteLimit": 2048000,
      "rowLimit": 10000
     },
     "inputWidgets": {},
     "nuid": "3967f12e-2288-43eb-a5ec-237098387a76",
     "showTitle": false,
     "tableResultSettingsMap": {},
     "title": ""
    }
   },
   "outputs": [],
   "source": [
    "# Binning pickup_hour into time of day categories\n",
    "taxi_df = taxi_df.withColumn(\n",
    "    \"time_of_day_bin\",\n",
    "    when((col(\"pickup_hour\") >= 0) & (col(\"pickup_hour\") < 6), \"Late Night\")\n",
    "    .when((col(\"pickup_hour\") >= 6) & (col(\"pickup_hour\") < 12), \"Morning\")\n",
    "    .when((col(\"pickup_hour\") >= 12) & (col(\"pickup_hour\") < 18), \"Afternoon\")\n",
    "    .otherwise(\"Evening\")\n",
    ")"
   ]
  },
  {
   "cell_type": "code",
   "execution_count": 0,
   "metadata": {
    "application/vnd.databricks.v1+cell": {
     "cellMetadata": {
      "byteLimit": 2048000,
      "rowLimit": 10000
     },
     "inputWidgets": {},
     "nuid": "c8f5550c-b51e-485f-ac82-125265f2f113",
     "showTitle": false,
     "tableResultSettingsMap": {},
     "title": ""
    }
   },
   "outputs": [],
   "source": [
    "time_of_day_distribution = (\n",
    "    taxi_df.groupBy(\"time_of_day_bin\")\n",
    "    .agg(F.count(\"*\").alias(\"count\"))\n",
    ")\n",
    "\n",
    "total_count = time_of_day_distribution.agg(F.sum(\"count\")).collect()[0][0]\n",
    "time_of_day_distribution = time_of_day_distribution.withColumn(\"percentage\", (F.col(\"count\") / total_count) * 100)\n",
    "\n",
    "time_of_day_distribution_pd = time_of_day_distribution.toPandas()\n",
    "\n",
    "plt.figure(figsize=(8, 6))\n",
    "plt.pie(time_of_day_distribution_pd[\"percentage\"], labels=time_of_day_distribution_pd[\"time_of_day_bin\"], autopct='%1.1f%%')\n",
    "plt.title(\"Distribution of Trips by Time of Day\")\n",
    "plt.show()"
   ]
  },
  {
   "cell_type": "markdown",
   "metadata": {
    "application/vnd.databricks.v1+cell": {
     "cellMetadata": {
      "byteLimit": 2048000,
      "rowLimit": 10000
     },
     "inputWidgets": {},
     "nuid": "4129a42b-52fc-4483-ac5d-12d827b55a4c",
     "showTitle": false,
     "tableResultSettingsMap": {},
     "title": ""
    }
   },
   "source": [
    "#### Binning Time of Day"
   ]
  },
  {
   "cell_type": "code",
   "execution_count": 0,
   "metadata": {
    "application/vnd.databricks.v1+cell": {
     "cellMetadata": {
      "byteLimit": 2048000,
      "rowLimit": 10000
     },
     "inputWidgets": {},
     "nuid": "6d594461-a120-4640-8485-6fb16f052b0c",
     "showTitle": false,
     "tableResultSettingsMap": {},
     "title": ""
    }
   },
   "outputs": [],
   "source": [
    "# Binning pickup_hour into time of day categories\n",
    "taxi_df = taxi_df.withColumn(\n",
    "    \"time_of_day_bin\",\n",
    "    when((col(\"pickup_hour\") >= 0) & (col(\"pickup_hour\") < 6), \"Late Night\")\n",
    "    .when((col(\"pickup_hour\") >= 6) & (col(\"pickup_hour\") < 12), \"Morning\")\n",
    "    .when((col(\"pickup_hour\") >= 12) & (col(\"pickup_hour\") < 18), \"Afternoon\")\n",
    "    .otherwise(\"Evening\")\n",
    ")"
   ]
  },
  {
   "cell_type": "code",
   "execution_count": 0,
   "metadata": {
    "application/vnd.databricks.v1+cell": {
     "cellMetadata": {
      "byteLimit": 2048000,
      "rowLimit": 10000
     },
     "inputWidgets": {},
     "nuid": "9c203836-24f8-4911-8865-9f475d91b017",
     "showTitle": false,
     "tableResultSettingsMap": {},
     "title": ""
    }
   },
   "outputs": [],
   "source": [
    "time_of_day_distribution = (\n",
    "    taxi_df.groupBy(\"time_of_day_bin\")\n",
    "    .agg(F.count(\"*\").alias(\"count\"))\n",
    ")\n",
    "\n",
    "total_count = time_of_day_distribution.agg(F.sum(\"count\")).collect()[0][0]\n",
    "time_of_day_distribution = time_of_day_distribution.withColumn(\"percentage\", (F.col(\"count\") / total_count) * 100)\n",
    "\n",
    "time_of_day_distribution_pd = time_of_day_distribution.toPandas()\n",
    "\n",
    "plt.figure(figsize=(8, 6))\n",
    "plt.pie(time_of_day_distribution_pd[\"percentage\"], labels=time_of_day_distribution_pd[\"time_of_day_bin\"], autopct='%1.1f%%')\n",
    "plt.title(\"Distribution of Trips by Time of Day\")\n",
    "plt.show()"
   ]
  },
  {
   "cell_type": "markdown",
   "metadata": {
    "application/vnd.databricks.v1+cell": {
     "cellMetadata": {
      "byteLimit": 2048000,
      "rowLimit": 10000
     },
     "inputWidgets": {},
     "nuid": "53869e6f-4a15-4441-baab-fe9110f3a06c",
     "showTitle": false,
     "tableResultSettingsMap": {},
     "title": ""
    }
   },
   "source": [
    "#### Binning Date into Season"
   ]
  },
  {
   "cell_type": "code",
   "execution_count": 0,
   "metadata": {
    "application/vnd.databricks.v1+cell": {
     "cellMetadata": {
      "byteLimit": 2048000,
      "rowLimit": 10000
     },
     "inputWidgets": {},
     "nuid": "a592036e-b3e7-4fa5-a1b0-0fd10ddc96cd",
     "showTitle": false,
     "tableResultSettingsMap": {},
     "title": ""
    }
   },
   "outputs": [],
   "source": [
    "from pyspark.sql.functions import month, when\n",
    "\n",
    "# Create season column based on the pickup month\n",
    "taxi_df = taxi_df.withColumn(\n",
    "    \"season\",\n",
    "    when(month(\"pickup_datetime\").isin([12, 1, 2]), \"Winter\")\n",
    "    .when(month(\"pickup_datetime\").isin([3, 4, 5]), \"Spring\")\n",
    "    .when(month(\"pickup_datetime\").isin([6, 7, 8]), \"Summer\")\n",
    "    .otherwise(\"Fall\")\n",
    ")\n"
   ]
  },
  {
   "cell_type": "code",
   "execution_count": 0,
   "metadata": {
    "application/vnd.databricks.v1+cell": {
     "cellMetadata": {
      "byteLimit": 2048000,
      "rowLimit": 10000
     },
     "inputWidgets": {},
     "nuid": "2ead9945-9870-486c-9dab-9fe847f196f0",
     "showTitle": false,
     "tableResultSettingsMap": {},
     "title": ""
    }
   },
   "outputs": [],
   "source": [
    "season_distribution = (\n",
    "    taxi_df.groupBy(\"season\")\n",
    "    .agg(F.count(\"*\").alias(\"count\"))\n",
    ")\n",
    "\n",
    "total_count = season_distribution.agg(F.sum(\"count\")).collect()[0][0]\n",
    "season_distribution = season_distribution.withColumn(\"percentage\", (F.col(\"count\") / total_count) * 100)\n",
    "\n",
    "season_distribution_pd = season_distribution.toPandas()\n",
    "\n",
    "plt.figure(figsize=(8, 6))\n",
    "plt.pie(season_distribution_pd[\"percentage\"], labels=season_distribution_pd[\"season\"], autopct='%1.1f%%')\n",
    "plt.title(\"Distribution of Trips by Season\")\n",
    "plt.show()"
   ]
  },
  {
   "cell_type": "markdown",
   "metadata": {
    "application/vnd.databricks.v1+cell": {
     "cellMetadata": {
      "byteLimit": 2048000,
      "rowLimit": 10000
     },
     "inputWidgets": {},
     "nuid": "e5fc2478-8fa4-43dc-8256-3faab44df25c",
     "showTitle": false,
     "tableResultSettingsMap": {},
     "title": ""
    }
   },
   "source": [
    "#### near_airport"
   ]
  },
  {
   "cell_type": "code",
   "execution_count": 0,
   "metadata": {
    "application/vnd.databricks.v1+cell": {
     "cellMetadata": {
      "byteLimit": 2048000,
      "rowLimit": 10000
     },
     "inputWidgets": {},
     "nuid": "373d2c21-eb14-4a28-a34a-47ad05d52957",
     "showTitle": false,
     "tableResultSettingsMap": {},
     "title": ""
    }
   },
   "outputs": [],
   "source": [
    "from pyspark.sql.functions import col, when\n",
    "\n",
    "# Define near_airport based on pickup or dropoff being in an airport zone\n",
    "taxi_df = taxi_df.withColumn(\n",
    "    \"near_airport\",\n",
    "    when(\n",
    "        (col(\"pickup_service_zone\") == \"Airports\") | \n",
    "        (col(\"dropoff_service_zone\") == \"Airports\"),\n",
    "        1\n",
    "    ).otherwise(0)\n",
    ")"
   ]
  },
  {
   "cell_type": "code",
   "execution_count": 0,
   "metadata": {
    "application/vnd.databricks.v1+cell": {
     "cellMetadata": {
      "byteLimit": 2048000,
      "rowLimit": 10000
     },
     "inputWidgets": {},
     "nuid": "f668ab5f-d693-4538-818a-60b98170457d",
     "showTitle": false,
     "tableResultSettingsMap": {},
     "title": ""
    }
   },
   "outputs": [],
   "source": [
    "airport_distribution = (\n",
    "    taxi_df.groupBy(\"near_airport\")\n",
    "    .agg(F.count(\"*\").alias(\"count\"))\n",
    ")\n",
    "\n",
    "total_count = airport_distribution.agg(F.sum(\"count\")).collect()[0][0]\n",
    "airport_distribution = airport_distribution.withColumn(\"percentage\", (F.col(\"count\") / total_count) * 100)\n",
    "\n",
    "airport_distribution_pd = airport_distribution.toPandas()\n",
    "\n",
    "airport_distribution_pd[\"near_airport\"] = airport_distribution_pd[\"near_airport\"].map({1: \"Near Airport\", 0: \"Not Near Airport\"})\n",
    "\n",
    "plt.figure(figsize=(8, 6))\n",
    "plt.pie(airport_distribution_pd[\"percentage\"], labels=airport_distribution_pd[\"near_airport\"], autopct='%1.1f%%')\n",
    "plt.title(\"Distribution of Trips Near Airport\")\n",
    "plt.show()"
   ]
  },
  {
   "cell_type": "code",
   "execution_count": 0,
   "metadata": {
    "application/vnd.databricks.v1+cell": {
     "cellMetadata": {
      "byteLimit": 2048000,
      "rowLimit": 10000
     },
     "inputWidgets": {},
     "nuid": "e413423e-aaa9-43a5-9837-5f1ba90d089c",
     "showTitle": false,
     "tableResultSettingsMap": {},
     "title": ""
    }
   },
   "outputs": [],
   "source": [
    "display(taxi_df.limit(20))"
   ]
  },
  {
   "cell_type": "code",
   "execution_count": 0,
   "metadata": {
    "application/vnd.databricks.v1+cell": {
     "cellMetadata": {
      "byteLimit": 2048000,
      "rowLimit": 10000
     },
     "inputWidgets": {},
     "nuid": "9523a0c9-766b-4963-83a5-a279342fc357",
     "showTitle": false,
     "tableResultSettingsMap": {},
     "title": ""
    }
   },
   "outputs": [
    {
     "output_type": "stream",
     "name": "stdout",
     "output_type": "stream",
     "text": [
      "Shape: (35864766, 45)\n"
     ]
    }
   ],
   "source": [
    "# Get the number of rows and columns\n",
    "num_rows = taxi_df.count()\n",
    "num_cols = len(taxi_df.columns)\n",
    "print(f\"Shape: ({num_rows}, {num_cols})\")"
   ]
  },
  {
   "cell_type": "code",
   "execution_count": 0,
   "metadata": {
    "application/vnd.databricks.v1+cell": {
     "cellMetadata": {
      "byteLimit": 2048000,
      "rowLimit": 10000
     },
     "inputWidgets": {},
     "nuid": "f43bae4c-8df5-400a-815f-8965632617e1",
     "showTitle": false,
     "tableResultSettingsMap": {},
     "title": ""
    }
   },
   "outputs": [
    {
     "output_type": "execute_result",
     "data": {
      "text/plain": [
       "['DOLocationID',\n",
       " 'PULocationID',\n",
       " 'pickup_datetime',\n",
       " 'dropoff_datetime',\n",
       " 'passenger_count',\n",
       " 'trip_distance',\n",
       " 'payment_type',\n",
       " 'fare_amount',\n",
       " 'tolls_amount',\n",
       " 'improvement_surcharge',\n",
       " 'total_amount',\n",
       " 'trip_duration',\n",
       " 'pickup_day_of_week',\n",
       " 'pickup_hour',\n",
       " 'Month_Num',\n",
       " 'pickup_month',\n",
       " 'dropoff_hour',\n",
       " 'dropoff_day_of_week',\n",
       " 'dropoff_month',\n",
       " 'dropoff_week_of_year',\n",
       " 'pickup_date',\n",
       " 'pickup_time',\n",
       " 'dropoff_date',\n",
       " 'dropoff_time',\n",
       " 'pickup_latitude',\n",
       " 'pickup_longitude',\n",
       " 'dropoff_latitude',\n",
       " 'dropoff_longitude',\n",
       " 'distance_km',\n",
       " 'pickup_borough',\n",
       " 'pickup_zone',\n",
       " 'pickup_service_zone',\n",
       " 'LocationID',\n",
       " 'dropoff_borough',\n",
       " 'dropoff_zone',\n",
       " 'dropoff_service_zone',\n",
       " 'holidayName',\n",
       " 'normalizeHolidayName',\n",
       " 'is_holiday',\n",
       " 'temp',\n",
       " 'distance_bin',\n",
       " 'temp_bin',\n",
       " 'time_of_day_bin',\n",
       " 'season',\n",
       " 'near_airport']"
      ]
     },
     "execution_count": 41,
     "metadata": {},
     "output_type": "execute_result"
    }
   ],
   "source": [
    "# Display column names of the DataFrame\n",
    "taxi_df.columns"
   ]
  },
  {
   "cell_type": "code",
   "execution_count": 0,
   "metadata": {
    "application/vnd.databricks.v1+cell": {
     "cellMetadata": {
      "byteLimit": 2048000,
      "rowLimit": 10000
     },
     "inputWidgets": {},
     "nuid": "9e40884c-80ca-4562-aa8c-58d0e4e4acbc",
     "showTitle": false,
     "tableResultSettingsMap": {},
     "title": ""
    }
   },
   "outputs": [],
   "source": [
    "# Select only the columns needed for price prediction\n",
    "taxi_df_cleaned = taxi_df.select(\n",
    "    'DOLocationID',\n",
    "    'PULocationID',\n",
    "    'passenger_count',\n",
    "    'payment_type',\n",
    "    'total_amount',\n",
    "    'trip_duration',\n",
    "    'pickup_day_of_week',\n",
    "    'pickup_hour',\n",
    "    'pickup_month',\n",
    "    'pickup_borough',\n",
    "    'dropoff_borough',\n",
    "    'temp',\n",
    "    'distance_km',\n",
    "    'is_holiday',\n",
    "    'distance_bin',\n",
    "    'temp_bin',\n",
    "    'time_of_day_bin',\n",
    "    'season',\n",
    "    'near_airport'\n",
    ")\n"
   ]
  },
  {
   "cell_type": "code",
   "execution_count": 0,
   "metadata": {
    "application/vnd.databricks.v1+cell": {
     "cellMetadata": {
      "byteLimit": 2048000,
      "rowLimit": 10000
     },
     "inputWidgets": {},
     "nuid": "34b1be56-9868-442e-bf8e-8467c367781c",
     "showTitle": false,
     "tableResultSettingsMap": {},
     "title": ""
    }
   },
   "outputs": [
    {
     "output_type": "display_data",
     "data": {
      "text/html": [
       "<style scoped>\n",
       "  .table-result-container {\n",
       "    max-height: 300px;\n",
       "    overflow: auto;\n",
       "  }\n",
       "  table, th, td {\n",
       "    border: 1px solid black;\n",
       "    border-collapse: collapse;\n",
       "  }\n",
       "  th, td {\n",
       "    padding: 5px;\n",
       "  }\n",
       "  th {\n",
       "    text-align: left;\n",
       "  }\n",
       "</style><div class='table-result-container'><table class='table-result'><thead style='background-color: white'><tr><th>DOLocationID</th><th>PULocationID</th><th>passenger_count</th><th>payment_type</th><th>total_amount</th><th>trip_duration</th><th>pickup_day_of_week</th><th>pickup_hour</th><th>pickup_month</th><th>pickup_borough</th><th>dropoff_borough</th><th>temp</th><th>distance_km</th><th>is_holiday</th><th>distance_bin</th><th>temp_bin</th><th>time_of_day_bin</th><th>season</th><th>near_airport</th></tr></thead><tbody><tr><td>132</td><td>63</td><td>1</td><td>1</td><td>103.2</td><td>10.666666984558105</td><td>6</td><td>18</td><td>11</td><td>Brooklyn</td><td>Queens</td><td>25.1</td><td>8.748496195162065</td><td>1</td><td>Long</td><td>Warm</td><td>Evening</td><td>Fall</td><td>1</td></tr><tr><td>37</td><td>63</td><td>1</td><td>2</td><td>19.9</td><td>15.183333396911621</td><td>2</td><td>12</td><td>1</td><td>Brooklyn</td><td>Brooklyn</td><td>14.5</td><td>3.9170631517232</td><td>1</td><td>Medium</td><td>Cool</td><td>Afternoon</td><td>Winter</td><td>0</td></tr><tr><td>100</td><td>63</td><td>1</td><td>1</td><td>66.35</td><td>26.46666717529297</td><td>2</td><td>2</td><td>5</td><td>Brooklyn</td><td>Manhattan</td><td>28.3</td><td>12.12122772136462</td><td>1</td><td>Long</td><td>Warm</td><td>Late Night</td><td>Spring</td><td>0</td></tr><tr><td>225</td><td>63</td><td>1</td><td>1</td><td>23.0</td><td>16.350000381469727</td><td>2</td><td>23</td><td>1</td><td>Brooklyn</td><td>Brooklyn</td><td>14.5</td><td>4.554718927286833</td><td>1</td><td>Medium</td><td>Cool</td><td>Evening</td><td>Winter</td><td>0</td></tr><tr><td>96</td><td>63</td><td>1</td><td>1</td><td>36.0</td><td>9.333333015441895</td><td>2</td><td>10</td><td>1</td><td>Brooklyn</td><td>Queens</td><td>15.3</td><td>1.5660724941116027</td><td>1</td><td>Medium</td><td>Cool</td><td>Morning</td><td>Winter</td><td>0</td></tr><tr><td>68</td><td>10</td><td>4</td><td>1</td><td>87.0</td><td>26.450000762939453</td><td>2</td><td>5</td><td>10</td><td>Queens</td><td>Manhattan</td><td>26.5</td><td>19.2293942470498</td><td>1</td><td>Long</td><td>Warm</td><td>Late Night</td><td>Fall</td><td>0</td></tr><tr><td>170</td><td>10</td><td>2</td><td>2</td><td>88.5</td><td>35.71666717529297</td><td>2</td><td>19</td><td>10</td><td>Queens</td><td>Manhattan</td><td>26.5</td><td>17.557568294766163</td><td>1</td><td>Long</td><td>Warm</td><td>Evening</td><td>Fall</td><td>0</td></tr><tr><td>215</td><td>10</td><td>1</td><td>4</td><td>71.5</td><td>0.7666666507720947</td><td>2</td><td>17</td><td>10</td><td>Queens</td><td>Queens</td><td>26.5</td><td>1.7206584626666377</td><td>1</td><td>Short</td><td>Warm</td><td>Afternoon</td><td>Fall</td><td>0</td></tr><tr><td>166</td><td>10</td><td>1</td><td>2</td><td>78.05</td><td>27.016666412353516</td><td>2</td><td>0</td><td>5</td><td>Queens</td><td>Manhattan</td><td>28.3</td><td>20.43445253984307</td><td>1</td><td>Long</td><td>Warm</td><td>Late Night</td><td>Spring</td><td>0</td></tr><tr><td>161</td><td>10</td><td>2</td><td>2</td><td>92.44</td><td>30.483333587646484</td><td>2</td><td>12</td><td>12</td><td>Queens</td><td>Manhattan</td><td>21.0</td><td>18.025506385625672</td><td>1</td><td>Long</td><td>Warm</td><td>Afternoon</td><td>Winter</td><td>0</td></tr></tbody></table></div>"
      ]
     },
     "metadata": {
      "application/vnd.databricks.v1+output": {
       "addedWidgets": {},
       "aggData": [],
       "aggError": "",
       "aggOverflow": false,
       "aggSchema": [],
       "aggSeriesLimitReached": false,
       "aggType": "",
       "arguments": {},
       "columnCustomDisplayInfos": {},
       "data": [
        [
         132,
         63,
         1,
         "1",
         103.2,
         10.666666984558105,
         6,
         18,
         11,
         "Brooklyn",
         "Queens",
         25.1,
         8.748496195162065,
         1,
         "Long",
         "Warm",
         "Evening",
         "Fall",
         1
        ],
        [
         37,
         63,
         1,
         "2",
         19.9,
         15.183333396911621,
         2,
         12,
         1,
         "Brooklyn",
         "Brooklyn",
         14.5,
         3.9170631517232,
         1,
         "Medium",
         "Cool",
         "Afternoon",
         "Winter",
         0
        ],
        [
         100,
         63,
         1,
         "1",
         66.35,
         26.46666717529297,
         2,
         2,
         5,
         "Brooklyn",
         "Manhattan",
         28.3,
         12.12122772136462,
         1,
         "Long",
         "Warm",
         "Late Night",
         "Spring",
         0
        ],
        [
         225,
         63,
         1,
         "1",
         23.0,
         16.350000381469727,
         2,
         23,
         1,
         "Brooklyn",
         "Brooklyn",
         14.5,
         4.554718927286833,
         1,
         "Medium",
         "Cool",
         "Evening",
         "Winter",
         0
        ],
        [
         96,
         63,
         1,
         "1",
         36.0,
         9.333333015441895,
         2,
         10,
         1,
         "Brooklyn",
         "Queens",
         15.3,
         1.5660724941116027,
         1,
         "Medium",
         "Cool",
         "Morning",
         "Winter",
         0
        ],
        [
         68,
         10,
         4,
         "1",
         87.0,
         26.450000762939453,
         2,
         5,
         10,
         "Queens",
         "Manhattan",
         26.5,
         19.2293942470498,
         1,
         "Long",
         "Warm",
         "Late Night",
         "Fall",
         0
        ],
        [
         170,
         10,
         2,
         "2",
         88.5,
         35.71666717529297,
         2,
         19,
         10,
         "Queens",
         "Manhattan",
         26.5,
         17.557568294766163,
         1,
         "Long",
         "Warm",
         "Evening",
         "Fall",
         0
        ],
        [
         215,
         10,
         1,
         "4",
         71.5,
         0.7666666507720947,
         2,
         17,
         10,
         "Queens",
         "Queens",
         26.5,
         1.7206584626666377,
         1,
         "Short",
         "Warm",
         "Afternoon",
         "Fall",
         0
        ],
        [
         166,
         10,
         1,
         "2",
         78.05,
         27.016666412353516,
         2,
         0,
         5,
         "Queens",
         "Manhattan",
         28.3,
         20.43445253984307,
         1,
         "Long",
         "Warm",
         "Late Night",
         "Spring",
         0
        ],
        [
         161,
         10,
         2,
         "2",
         92.44,
         30.483333587646484,
         2,
         12,
         12,
         "Queens",
         "Manhattan",
         21.0,
         18.025506385625672,
         1,
         "Long",
         "Warm",
         "Afternoon",
         "Winter",
         0
        ]
       ],
       "datasetInfos": [],
       "dbfsResultPath": null,
       "isJsonSchema": true,
       "metadata": {},
       "overflow": false,
       "plotOptions": {
        "customPlotOptions": {},
        "displayType": "table",
        "pivotAggregation": null,
        "pivotColumns": null,
        "xColumns": null,
        "yColumns": null
       },
       "removedWidgets": [],
       "schema": [
        {
         "metadata": "{}",
         "name": "DOLocationID",
         "type": "\"integer\""
        },
        {
         "metadata": "{}",
         "name": "PULocationID",
         "type": "\"integer\""
        },
        {
         "metadata": "{}",
         "name": "passenger_count",
         "type": "\"integer\""
        },
        {
         "metadata": "{}",
         "name": "payment_type",
         "type": "\"string\""
        },
        {
         "metadata": "{}",
         "name": "total_amount",
         "type": "\"float\""
        },
        {
         "metadata": "{}",
         "name": "trip_duration",
         "type": "\"double\""
        },
        {
         "metadata": "{}",
         "name": "pickup_day_of_week",
         "type": "\"integer\""
        },
        {
         "metadata": "{}",
         "name": "pickup_hour",
         "type": "\"integer\""
        },
        {
         "metadata": "{}",
         "name": "pickup_month",
         "type": "\"integer\""
        },
        {
         "metadata": "{}",
         "name": "pickup_borough",
         "type": "\"string\""
        },
        {
         "metadata": "{}",
         "name": "dropoff_borough",
         "type": "\"string\""
        },
        {
         "metadata": "{}",
         "name": "temp",
         "type": "\"double\""
        },
        {
         "metadata": "{}",
         "name": "distance_km",
         "type": "\"double\""
        },
        {
         "metadata": "{}",
         "name": "is_holiday",
         "type": "\"integer\""
        },
        {
         "metadata": "{}",
         "name": "distance_bin",
         "type": "\"string\""
        },
        {
         "metadata": "{}",
         "name": "temp_bin",
         "type": "\"string\""
        },
        {
         "metadata": "{}",
         "name": "time_of_day_bin",
         "type": "\"string\""
        },
        {
         "metadata": "{}",
         "name": "season",
         "type": "\"string\""
        },
        {
         "metadata": "{}",
         "name": "near_airport",
         "type": "\"integer\""
        }
       ],
       "type": "table"
      }
     },
     "output_type": "display_data"
    }
   ],
   "source": [
    "display(taxi_df_cleaned.limit(10))"
   ]
  },
  {
   "cell_type": "code",
   "execution_count": 0,
   "metadata": {
    "application/vnd.databricks.v1+cell": {
     "cellMetadata": {
      "byteLimit": 2048000,
      "rowLimit": 10000
     },
     "inputWidgets": {},
     "nuid": "2809ff55-b58b-4ac8-9a72-3ac4cbd9a6ba",
     "showTitle": false,
     "tableResultSettingsMap": {},
     "title": ""
    }
   },
   "outputs": [
    {
     "output_type": "stream",
     "name": "stdout",
     "output_type": "stream",
     "text": [
      "Shape: (35864766, 19)\n"
     ]
    }
   ],
   "source": [
    "# Get the number of rows and columns\n",
    "num_rows = taxi_df_cleaned.count()\n",
    "num_cols = len(taxi_df_cleaned.columns)\n",
    "print(f\"Shape: ({num_rows}, {num_cols})\")"
   ]
  },
  {
   "cell_type": "markdown",
   "metadata": {
    "application/vnd.databricks.v1+cell": {
     "cellMetadata": {
      "byteLimit": 2048000,
      "rowLimit": 10000
     },
     "inputWidgets": {},
     "nuid": "aaa2754b-0b8e-4b75-8554-76e28165032f",
     "showTitle": false,
     "tableResultSettingsMap": {},
     "title": ""
    }
   },
   "source": [
    "| Column Name         | Type        | Description                               | Preprocessing Steps                           |\n",
    "|---------------------|-------------|-------------------------------------------|-----------------------------------------------|\n",
    "| `DOLocationID`      | Categorical | Dropoff Location ID                       | Encode (One-Hot or Label Encoding)           |\n",
    "| `PULocationID`      | Categorical | Pickup Location ID                        | Encode (One-Hot or Label Encoding)           |\n",
    "| `passenger_count`   | Numerical   | Number of passengers                      | Scale (Min-Max or Standard Scaling)          |\n",
    "| `payment_type`      | Categorical | Type of payment (e.g., cash, card)      | Encode (One-Hot or Label Encoding)           |\n",
    "| `total_amount`      | Numerical   | Total fare amount                         | Scale (Min-Max or Standard Scaling)          |\n",
    "| `trip_duration`     | Numerical   | Duration of the trip (in seconds)        | Scale (Min-Max or Standard Scaling)          |\n",
    "| `pickup_day_of_week`| Categorical | Day of the week (0-6, where 0 = Sunday) | Encode (One-Hot Encoding)                    |\n",
    "| `pickup_hour`       | Numerical   | Hour of pickup (0-23)                    | Scale (Min-Max or Standard Scaling)          |\n",
    "| `pickup_month`      | Numerical   | Month of pickup (1-12)                   | Encode (One-Hot Encoding)                     |\n",
    "| `pickup_borough`    | Categorical | Borough where pickup occurs               | Encode (One-Hot Encoding)                     |\n",
    "| `dropoff_borough`   | Categorical | Borough where dropoff occurs              | Encode (One-Hot Encoding)                     |\n",
    "| `temp`              | Numerical   | Temperature (in °C)                      | Scale (Min-Max or Standard Scaling)          |\n",
    "| `distance_km`     | Numerical   | Distance of the trip (in km)             | Scale (Min-Max or Standard Scaling)          |\n",
    "| `is_holiday`        | Categorical | Whether the trip occurs on a holiday     | Encode (Binary Encoding)                      |\n",
    "| `distance_bin`      | Categorical | Binned distance categories (Short, Medium, Long) | Encode (One-Hot Encoding)         |\n",
    "| `temp_bin`          | Categorical | Binned temperature categories             | Encode (One-Hot Encoding)                     |\n",
    "| `time_of_day_bin`   | Categorical | Binned time of day (e.g., Morning, Afternoon, Night) | Encode (One-Hot Encoding)    |\n",
    "| `season`            | Categorical | Season during the trip                    | Encode (One-Hot Encoding)                     |\n",
    "| `near_airport`      | Categorical | Proximity to airport (0 or 1)            | Encode (Binary Encoding)                      |"
   ]
  },
  {
   "cell_type": "code",
   "execution_count": 0,
   "metadata": {
    "application/vnd.databricks.v1+cell": {
     "cellMetadata": {
      "byteLimit": 2048000,
      "rowLimit": 10000
     },
     "inputWidgets": {},
     "nuid": "20ad89ef-ebac-44c3-8bcd-d380bacfef77",
     "showTitle": false,
     "tableResultSettingsMap": {},
     "title": ""
    }
   },
   "outputs": [
    {
     "output_type": "stream",
     "name": "stdout",
     "output_type": "stream",
     "text": [
      "root\n |-- DOLocationID: integer (nullable = true)\n |-- PULocationID: integer (nullable = true)\n |-- passenger_count: integer (nullable = true)\n |-- payment_type: string (nullable = true)\n |-- total_amount: float (nullable = true)\n |-- trip_duration: double (nullable = true)\n |-- pickup_day_of_week: integer (nullable = true)\n |-- pickup_hour: integer (nullable = true)\n |-- pickup_month: integer (nullable = true)\n |-- pickup_borough: string (nullable = true)\n |-- dropoff_borough: string (nullable = true)\n |-- temp: double (nullable = true)\n |-- distance_km: double (nullable = true)\n |-- is_holiday: integer (nullable = true)\n |-- distance_bin: string (nullable = false)\n |-- temp_bin: string (nullable = false)\n |-- time_of_day_bin: string (nullable = false)\n |-- season: string (nullable = false)\n |-- near_airport: integer (nullable = false)\n\n"
     ]
    }
   ],
   "source": [
    "taxi_df_cleaned.printSchema()"
   ]
  },
  {
   "cell_type": "code",
   "execution_count": 0,
   "metadata": {
    "application/vnd.databricks.v1+cell": {
     "cellMetadata": {
      "byteLimit": 2048000,
      "rowLimit": 10000
     },
     "inputWidgets": {},
     "nuid": "8d992344-c97a-490b-8111-32b71c89dd99",
     "showTitle": false,
     "tableResultSettingsMap": {},
     "title": ""
    }
   },
   "outputs": [],
   "source": [
    "from pyspark.ml import Pipeline\n",
    "from pyspark.ml.feature import StringIndexer, OneHotEncoder, VectorAssembler, MinMaxScaler\n",
    "from pyspark.ml.regression import LinearRegression\n",
    "\n",
    "# Define categorical and numerical columns\n",
    "categorical_cols = [\n",
    "    'payment_type', 'pickup_day_of_week',\n",
    "    'pickup_month', 'pickup_borough', 'dropoff_borough', 'is_holiday',\n",
    "    'distance_bin', 'temp_bin', 'time_of_day_bin', 'season', 'near_airport'\n",
    "]\n",
    "\n",
    "numerical_cols = ['passenger_count', 'trip_duration', 'pickup_hour', 'temp', 'distance_km']"
   ]
  },
  {
   "cell_type": "markdown",
   "metadata": {
    "application/vnd.databricks.v1+cell": {
     "cellMetadata": {
      "byteLimit": 2048000,
      "rowLimit": 10000
     },
     "inputWidgets": {},
     "nuid": "0916e6a1-8025-402e-ab91-93a6ecb2eeac",
     "showTitle": false,
     "tableResultSettingsMap": {},
     "title": ""
    }
   },
   "source": [
    "the column needs to be transformed into a vector format before it can be used in your pipeline."
   ]
  },
  {
   "cell_type": "code",
   "execution_count": 0,
   "metadata": {
    "application/vnd.databricks.v1+cell": {
     "cellMetadata": {
      "byteLimit": 2048000,
      "rowLimit": 10000
     },
     "inputWidgets": {},
     "nuid": "6bdb76ce-3cef-40f6-9730-d5961b3bfc3e",
     "showTitle": false,
     "tableResultSettingsMap": {},
     "title": ""
    }
   },
   "outputs": [],
   "source": [
    "# Apply StringIndexer for ordinal encoding on categorical columns\n",
    "indexers = [StringIndexer(inputCol=col, outputCol=col + \"_index\") for col in categorical_cols]"
   ]
  },
  {
   "cell_type": "code",
   "execution_count": 0,
   "metadata": {
    "application/vnd.databricks.v1+cell": {
     "cellMetadata": {
      "byteLimit": 2048000,
      "rowLimit": 10000
     },
     "inputWidgets": {},
     "nuid": "c29a5b67-f195-4e48-855e-c00e1a403a21",
     "showTitle": false,
     "tableResultSettingsMap": {},
     "title": ""
    }
   },
   "outputs": [],
   "source": [
    "\n",
    "# Assemble all features into a single vector, using ordinal indices for categorical features\n",
    "assembler = VectorAssembler(inputCols=[col + \"_index\" for col in categorical_cols] + numerical_cols, outputCol=\"features\")"
   ]
  },
  {
   "cell_type": "code",
   "execution_count": 0,
   "metadata": {
    "application/vnd.databricks.v1+cell": {
     "cellMetadata": {
      "byteLimit": 2048000,
      "rowLimit": 10000
     },
     "inputWidgets": {},
     "nuid": "826d5edc-6c02-4159-8b7c-fa60f5ef8429",
     "showTitle": false,
     "tableResultSettingsMap": {},
     "title": ""
    }
   },
   "outputs": [],
   "source": [
    "# Scale the features\n",
    "scaler = MinMaxScaler(inputCol=\"features\", outputCol=\"scaled_features\")"
   ]
  },
  {
   "cell_type": "code",
   "execution_count": 0,
   "metadata": {
    "application/vnd.databricks.v1+cell": {
     "cellMetadata": {
      "byteLimit": 2048000,
      "rowLimit": 10000
     },
     "inputWidgets": {},
     "nuid": "337fa9e7-967d-40c0-8146-22c8406c0b3a",
     "showTitle": false,
     "tableResultSettingsMap": {},
     "title": ""
    }
   },
   "outputs": [],
   "source": [
    "# Create the pipeline without one-hot encoding\n",
    "pipeline = Pipeline(stages=indexers + [assembler, scaler])"
   ]
  },
  {
   "cell_type": "code",
   "execution_count": 0,
   "metadata": {
    "application/vnd.databricks.v1+cell": {
     "cellMetadata": {
      "byteLimit": 2048000,
      "rowLimit": 10000
     },
     "inputWidgets": {},
     "nuid": "457d5a9c-c439-499a-b5f5-6dfe0fc3efc1",
     "showTitle": false,
     "tableResultSettingsMap": {},
     "title": ""
    }
   },
   "outputs": [],
   "source": [
    "# Fit the pipeline to the DataFrame\n",
    "pipeline_model = pipeline.fit(taxi_df_cleaned)"
   ]
  },
  {
   "cell_type": "code",
   "execution_count": 0,
   "metadata": {
    "application/vnd.databricks.v1+cell": {
     "cellMetadata": {
      "byteLimit": 2048000,
      "rowLimit": 10000
     },
     "inputWidgets": {},
     "nuid": "52e86c75-24af-457b-be00-d575c5172b19",
     "showTitle": false,
     "tableResultSettingsMap": {},
     "title": ""
    }
   },
   "outputs": [],
   "source": [
    "# Transform the DataFrame using the fitted pipeline\n",
    "preprocessed_df = pipeline_model.transform(taxi_df_cleaned)"
   ]
  },
  {
   "cell_type": "code",
   "execution_count": 0,
   "metadata": {
    "application/vnd.databricks.v1+cell": {
     "cellMetadata": {
      "byteLimit": 2048000,
      "rowLimit": 10000
     },
     "inputWidgets": {},
     "nuid": "28594fb0-7ece-49de-908d-99da1d2d25d1",
     "showTitle": false,
     "tableResultSettingsMap": {},
     "title": ""
    }
   },
   "outputs": [
    {
     "output_type": "stream",
     "name": "stdout",
     "output_type": "stream",
     "text": [
      "root\n |-- DOLocationID: integer (nullable = true)\n |-- PULocationID: integer (nullable = true)\n |-- passenger_count: integer (nullable = true)\n |-- payment_type: string (nullable = true)\n |-- total_amount: float (nullable = true)\n |-- trip_duration: double (nullable = true)\n |-- pickup_day_of_week: integer (nullable = true)\n |-- pickup_hour: integer (nullable = true)\n |-- pickup_month: integer (nullable = true)\n |-- pickup_borough: string (nullable = true)\n |-- dropoff_borough: string (nullable = true)\n |-- temp: double (nullable = true)\n |-- distance_km: double (nullable = true)\n |-- is_holiday: integer (nullable = true)\n |-- distance_bin: string (nullable = false)\n |-- temp_bin: string (nullable = false)\n |-- time_of_day_bin: string (nullable = false)\n |-- season: string (nullable = false)\n |-- near_airport: integer (nullable = false)\n |-- payment_type_index: double (nullable = false)\n |-- pickup_day_of_week_index: double (nullable = false)\n |-- pickup_month_index: double (nullable = false)\n |-- pickup_borough_index: double (nullable = false)\n |-- dropoff_borough_index: double (nullable = false)\n |-- is_holiday_index: double (nullable = false)\n |-- distance_bin_index: double (nullable = false)\n |-- temp_bin_index: double (nullable = false)\n |-- time_of_day_bin_index: double (nullable = false)\n |-- season_index: double (nullable = false)\n |-- near_airport_index: double (nullable = false)\n |-- features: vector (nullable = true)\n |-- scaled_features: vector (nullable = true)\n\n"
     ]
    }
   ],
   "source": [
    "preprocessed_df.printSchema()"
   ]
  },
  {
   "cell_type": "code",
   "execution_count": 0,
   "metadata": {
    "application/vnd.databricks.v1+cell": {
     "cellMetadata": {
      "byteLimit": 2048000,
      "rowLimit": 10000
     },
     "inputWidgets": {},
     "nuid": "f4a6ae99-1dd9-4281-a516-35e2a05892d2",
     "showTitle": false,
     "tableResultSettingsMap": {},
     "title": ""
    }
   },
   "outputs": [
    {
     "output_type": "stream",
     "name": "stdout",
     "output_type": "stream",
     "text": [
      "Correlation Matrix:\n [[ 1.00000000e+00  1.60558507e-02  1.15605511e-02  3.81384993e-02\n   5.40724278e-02  8.38274689e-03 -2.00983934e-02 -5.16075839e-03\n  -1.03002713e-02  1.16758837e-02  2.87780254e-02  2.51935908e-02\n  -2.95889730e-02 -2.29000522e-02 -3.08431346e-04 -1.00297917e-02]\n [ 1.60558507e-02  1.00000000e+00  1.44823078e-03  3.03968912e-02\n   1.93907442e-02  1.37150455e-01  3.15790439e-02 -6.31825516e-02\n   3.38253446e-02  1.59582076e-03  3.30033468e-02  3.27644228e-02\n  -4.43414475e-02 -6.57599034e-02 -1.02827679e-02  3.44100554e-02]\n [ 1.15605511e-02  1.44823078e-03  1.00000000e+00  7.19463762e-03\n   7.32651023e-03 -1.27105632e-02  5.77702505e-03 -2.38864255e-01\n   4.03386659e-03  5.69972958e-01  4.71068472e-03  5.78305064e-03\n  -2.14377217e-02 -9.57019062e-03 -2.47864685e-01  5.63747608e-03]\n [ 3.81384993e-02  3.03968912e-02  7.19463762e-03  1.00000000e+00\n   3.68764936e-01  1.39492970e-02  5.00057956e-01 -5.58991408e-03\n   2.63683745e-03  4.78308914e-03  7.15415313e-01  1.06762434e-02\n   4.41960805e-01  5.14045007e-03  9.19409452e-03  6.05974345e-01]\n [ 5.40724278e-02  1.93907442e-02  7.32651023e-03  3.68764936e-01\n   1.00000000e+00  9.01760413e-03  4.32171437e-01 -3.76945278e-03\n   5.36990027e-02  5.41838846e-03  3.72053830e-01 -4.20992885e-03\n   3.55629596e-01 -2.35957134e-02  6.34437326e-03  4.09494134e-01]\n [ 8.38274689e-03  1.37150455e-01 -1.27105632e-02  1.39492970e-02\n   9.01760413e-03  1.00000000e+00  1.53512852e-02 -4.54545374e-02\n  -3.97005915e-04 -5.78167531e-03  1.63051576e-02  1.43517902e-02\n  -1.12580533e-02 -5.67852784e-03 -5.92244328e-02  1.65482242e-02]\n [-2.00983934e-02  3.15790439e-02  5.77702505e-03  5.00057956e-01\n   4.32171437e-01  1.53512852e-02  1.00000000e+00 -4.00052094e-03\n   4.16657950e-02  3.47974128e-03  6.04061324e-01  2.85030224e-02\n   7.77514135e-01 -6.60568828e-03  1.46691789e-02  7.83081131e-01]\n [-5.16075839e-03 -6.31825516e-02 -2.38864255e-01 -5.58991408e-03\n  -3.76945278e-03 -4.54545374e-02 -4.00052094e-03  1.00000000e+00\n  -9.19194001e-03 -9.65311529e-02 -5.23238163e-03 -7.73115343e-03\n  -1.85579185e-03  1.19257490e-02  2.67908201e-01 -5.29287630e-03]\n [-1.03002713e-02  3.38253446e-02  4.03386659e-03  2.63683745e-03\n   5.36990027e-02 -3.97005915e-04  4.16657950e-02 -9.19194001e-03\n   1.00000000e+00  4.01711926e-03 -1.50349995e-02 -1.27684130e-02\n  -9.69126051e-02 -5.92485169e-01  3.14743224e-03  1.47031146e-02]\n [ 1.16758837e-02  1.59582076e-03  5.69972958e-01  4.78308914e-03\n   5.41838846e-03 -5.78167531e-03  3.47974128e-03 -9.65311529e-02\n   4.01711926e-03  1.00000000e+00  3.53768507e-03  9.58439341e-03\n  -1.30002625e-02 -8.66833378e-03 -2.66830413e-01  3.67647111e-03]\n [ 2.87780254e-02  3.30033468e-02  4.71068472e-03  7.15415313e-01\n   3.72053830e-01  1.63051576e-02  6.04061324e-01 -5.23238163e-03\n  -1.50349995e-02  3.53768507e-03  1.00000000e+00  3.04110068e-02\n   5.36916381e-01  1.41784813e-03  1.27310762e-02  7.59268612e-01]\n [ 2.51935908e-02  3.27644228e-02  5.78305064e-03  1.06762434e-02\n  -4.20992885e-03  1.43517902e-02  2.85030224e-02 -7.73115343e-03\n  -1.27684130e-02  9.58439341e-03  3.04110068e-02  1.00000000e+00\n   3.65040553e-02  2.06910114e-02 -9.77347523e-04  3.61499927e-02]\n [-2.95889730e-02 -4.43414475e-02 -2.14377217e-02  4.41960805e-01\n   3.55629596e-01 -1.12580533e-02  7.77514135e-01 -1.85579185e-03\n  -9.69126051e-02 -1.30002625e-02  5.36916381e-01  3.65040553e-02\n   1.00000000e+00  3.00862309e-02  2.34141644e-02  7.55118764e-01]\n [-2.29000522e-02 -6.57599034e-02 -9.57019062e-03  5.14045007e-03\n  -2.35957134e-02 -5.67852784e-03 -6.60568828e-03  1.19257490e-02\n  -5.92485169e-01 -8.66833378e-03  1.41784813e-03  2.06910114e-02\n   3.00862309e-02  1.00000000e+00  5.52065270e-03 -2.15099112e-03]\n [-3.08431346e-04 -1.02827679e-02 -2.47864685e-01  9.19409452e-03\n   6.34437326e-03 -5.92244328e-02  1.46691789e-02  2.67908201e-01\n   3.14743224e-03 -2.66830413e-01  1.27310762e-02 -9.77347523e-04\n   2.34141644e-02  5.52065270e-03  1.00000000e+00  1.39791040e-02]\n [-1.00297917e-02  3.44100554e-02  5.63747608e-03  6.05974345e-01\n   4.09494134e-01  1.65482242e-02  7.83081131e-01 -5.29287630e-03\n   1.47031146e-02  3.67647111e-03  7.59268612e-01  3.61499927e-02\n   7.55118764e-01 -2.15099112e-03  1.39791040e-02  1.00000000e+00]]\n"
     ]
    }
   ],
   "source": [
    "from pyspark.ml.stat import Correlation\n",
    "from pyspark.sql.functions import col\n",
    "\n",
    "# Compute the correlation matrix using Pearson correlation (default)\n",
    "correlation_matrix = Correlation.corr(preprocessed_df, \"scaled_features\").head()[0]\n",
    "\n",
    "# Convert correlation matrix to a readable format\n",
    "correlation_array = correlation_matrix.toArray()\n",
    "\n",
    "# Display the correlation matrix\n",
    "print(\"Correlation Matrix:\\n\", correlation_array)\n"
   ]
  },
  {
   "cell_type": "code",
   "execution_count": 0,
   "metadata": {
    "application/vnd.databricks.v1+cell": {
     "cellMetadata": {
      "byteLimit": 2048000,
      "rowLimit": 10000
     },
     "inputWidgets": {},
     "nuid": "30387587-3070-40af-b937-c389f2241c00",
     "showTitle": false,
     "tableResultSettingsMap": {},
     "title": ""
    }
   },
   "outputs": [],
   "source": [
    "from pyspark.ml.feature import VectorAssembler\n",
    "from pyspark.ml.regression import RandomForestRegressor, GBTRegressor\n",
    "from pyspark.ml.regression import LinearRegression\n",
    "from pyspark.ml import Pipeline\n",
    "from pyspark.sql.types import NumericType\n",
    "from pyspark.sql import functions as F\n",
    "from pyspark.sql.functions import col"
   ]
  },
  {
   "cell_type": "code",
   "execution_count": 0,
   "metadata": {
    "application/vnd.databricks.v1+cell": {
     "cellMetadata": {
      "byteLimit": 2048000,
      "rowLimit": 10000
     },
     "inputWidgets": {},
     "nuid": "be1709dd-afbb-4fd8-b7bd-aa65c05ced65",
     "showTitle": false,
     "tableResultSettingsMap": {},
     "title": ""
    }
   },
   "outputs": [],
   "source": [
    "from pyspark.sql.types import NumericType\n",
    "\n",
    "# Define the target column\n",
    "target_column = \"total_amount\"\n",
    "\n",
    "# Automatically identify numerical and indexed categorical features\n",
    "numerical_features = [\n",
    "    col for col in preprocessed_df.columns \n",
    "    if isinstance(preprocessed_df.schema[col].dataType, NumericType) and col != target_column\n",
    "]\n",
    "\n",
    "# Identify ordinally encoded categorical features (those ending in '_index')\n",
    "indexed_features = [col for col in preprocessed_df.columns if col.endswith('_index')]"
   ]
  },
  {
   "cell_type": "code",
   "execution_count": 0,
   "metadata": {
    "application/vnd.databricks.v1+cell": {
     "cellMetadata": {
      "byteLimit": 2048000,
      "rowLimit": 10000
     },
     "inputWidgets": {},
     "nuid": "43b28be3-0db3-45be-bfd2-fea3c11e41a4",
     "showTitle": false,
     "tableResultSettingsMap": {},
     "title": ""
    }
   },
   "outputs": [],
   "source": [
    "\n",
    "# Combine all feature columns (numerical + indexed)\n",
    "all_features = numerical_features + indexed_features"
   ]
  },
  {
   "cell_type": "code",
   "execution_count": 0,
   "metadata": {
    "application/vnd.databricks.v1+cell": {
     "cellMetadata": {
      "byteLimit": 2048000,
      "rowLimit": 10000
     },
     "inputWidgets": {},
     "nuid": "1ad2b836-e71c-4d48-9034-f77562b132db",
     "showTitle": false,
     "tableResultSettingsMap": {},
     "title": ""
    }
   },
   "outputs": [],
   "source": [
    "# Sample data to optimize runtime\n",
    "sample_fraction = 0.05\n",
    "sampled_df = preprocessed_df.sample(fraction=sample_fraction, seed=42).cache()"
   ]
  },
  {
   "cell_type": "code",
   "execution_count": 0,
   "metadata": {
    "application/vnd.databricks.v1+cell": {
     "cellMetadata": {
      "byteLimit": 2048000,
      "rowLimit": 10000
     },
     "inputWidgets": {},
     "nuid": "fe49a388-78e0-4b92-8ec3-7c801b7f8d85",
     "showTitle": false,
     "tableResultSettingsMap": {},
     "title": ""
    }
   },
   "outputs": [],
   "source": [
    "from pyspark.sql import functions as F\n",
    "from pyspark.sql.types import FloatType, StructType, StructField, StringType\n",
    "\n",
    "# Updated helper function to extract feature importances and normalize them\n",
    "def get_feature_importance(model, features, importance_col):\n",
    "    importances = model.stages[-1].featureImportances.toArray()\n",
    "    \n",
    "    # Specify schema with types\n",
    "    schema = StructType([\n",
    "        StructField(\"feature\", StringType(), True),\n",
    "        StructField(importance_col, FloatType(), True)\n",
    "    ])\n",
    "    \n",
    "    importance_df = spark.createDataFrame([(feature, float(importance)) for feature, importance in zip(features, importances)], schema)\n",
    "    total_importance = importance_df.select(F.sum(importance_col)).collect()[0][0]\n",
    "    return importance_df.withColumn(importance_col, F.col(importance_col) / total_importance)"
   ]
  },
  {
   "cell_type": "code",
   "execution_count": 0,
   "metadata": {
    "application/vnd.databricks.v1+cell": {
     "cellMetadata": {
      "byteLimit": 2048000,
      "rowLimit": 10000
     },
     "inputWidgets": {},
     "nuid": "e05ffb96-4ca8-4305-bcd0-ec5cab3fd49c",
     "showTitle": false,
     "tableResultSettingsMap": {},
     "title": ""
    }
   },
   "outputs": [],
   "source": []
  },
  {
   "cell_type": "markdown",
   "metadata": {
    "application/vnd.databricks.v1+cell": {
     "cellMetadata": {
      "byteLimit": 2048000,
      "rowLimit": 10000
     },
     "inputWidgets": {},
     "nuid": "3dd6bd0f-438e-406f-9fb1-94aa99d497c7",
     "showTitle": false,
     "tableResultSettingsMap": {},
     "title": ""
    }
   },
   "source": [
    "#### Technique 1: Correlation Analysis"
   ]
  },
  {
   "cell_type": "code",
   "execution_count": 0,
   "metadata": {
    "application/vnd.databricks.v1+cell": {
     "cellMetadata": {
      "byteLimit": 2048000,
      "rowLimit": 10000
     },
     "inputWidgets": {},
     "nuid": "4ac5d96e-60dd-4647-b666-fcb8644469e7",
     "showTitle": false,
     "tableResultSettingsMap": {},
     "title": ""
    }
   },
   "outputs": [],
   "source": [
    "# Define categorical and numerical columns\n",
    "categorical_cols = [\n",
    "    'payment_type', 'pickup_day_of_week',\n",
    "    'pickup_month', 'pickup_borough', 'dropoff_borough', 'is_holiday',\n",
    "    'distance_bin', 'temp_bin', 'time_of_day_bin', 'season', 'near_airport'\n",
    "]\n",
    "\n",
    "numerical_cols = ['passenger_count', 'trip_duration', 'pickup_hour', 'temp', 'distance_km']\n",
    "\n",
    "# Define the target column\n",
    "target_column = 'total_amount'\n",
    "\n",
    "# Collect all feature columns (numerical and categorical index columns)\n",
    "all_feature_cols = numerical_cols + [col + \"_index\" for col in categorical_cols]"
   ]
  },
  {
   "cell_type": "code",
   "execution_count": 0,
   "metadata": {
    "application/vnd.databricks.v1+cell": {
     "cellMetadata": {
      "byteLimit": 2048000,
      "rowLimit": 10000
     },
     "inputWidgets": {},
     "nuid": "d8ed69ac-147f-45b3-b017-e6f7c43f0e68",
     "showTitle": false,
     "tableResultSettingsMap": {},
     "title": ""
    }
   },
   "outputs": [],
   "source": [
    "# Prepare a dictionary to hold correlations\n",
    "correlations = {}\n",
    "\n",
    "# Calculate correlations for numerical features\n",
    "for col in numerical_cols:\n",
    "    if col in preprocessed_df.columns:  # Check if the column exists\n",
    "        correlation = preprocessed_df.stat.corr(col, target_column)\n",
    "        correlations[col] = correlation"
   ]
  },
  {
   "cell_type": "code",
   "execution_count": 0,
   "metadata": {
    "application/vnd.databricks.v1+cell": {
     "cellMetadata": {
      "byteLimit": 2048000,
      "rowLimit": 10000
     },
     "inputWidgets": {},
     "nuid": "39a6fed1-4aea-45af-a028-6aec797e7d86",
     "showTitle": false,
     "tableResultSettingsMap": {},
     "title": ""
    }
   },
   "outputs": [],
   "source": [
    "# Calculate correlations for ordinally encoded categorical features\n",
    "for col in categorical_cols:\n",
    "    indexed_col = col + \"_index\"\n",
    "    if indexed_col in preprocessed_df.columns:  # Check if the indexed column exists\n",
    "        correlation = preprocessed_df.stat.corr(indexed_col, target_column)\n",
    "        correlations[indexed_col] = correlation"
   ]
  },
  {
   "cell_type": "code",
   "execution_count": 0,
   "metadata": {
    "application/vnd.databricks.v1+cell": {
     "cellMetadata": {
      "byteLimit": 2048000,
      "rowLimit": 10000
     },
     "inputWidgets": {},
     "nuid": "e19dac00-e060-4266-8f86-a35a52d3efb3",
     "showTitle": false,
     "tableResultSettingsMap": {},
     "title": ""
    }
   },
   "outputs": [],
   "source": [
    "# Calculate mean target for each category in categorical features\n",
    "for col in categorical_cols:\n",
    "    if col in preprocessed_df.columns:  # Check if the column exists\n",
    "        mean_target = preprocessed_df.groupBy(col).agg({target_column: 'mean'}).collect()\n",
    "        for row in mean_target:\n",
    "            category = row[col]\n",
    "            mean_value = row[f'avg({target_column})']  # Access the mean value\n",
    "            correlations[f'Mean {target_column} for {col} = {category}'] = mean_value"
   ]
  },
  {
   "cell_type": "code",
   "execution_count": 0,
   "metadata": {
    "application/vnd.databricks.v1+cell": {
     "cellMetadata": {
      "byteLimit": 2048000,
      "rowLimit": 10000
     },
     "inputWidgets": {},
     "nuid": "5fde73fa-14e6-491c-bf6e-cbd70de01819",
     "showTitle": false,
     "tableResultSettingsMap": {},
     "title": ""
    }
   },
   "outputs": [],
   "source": [
    "# Convert correlations dictionary to a Spark DataFrame\n",
    "correlation_importance_df = (\n",
    "    spark.createDataFrame([(k, abs(v)) for k, v in correlations.items()], [\"feature\", \"correlation_importance\"])\n",
    ")"
   ]
  },
  {
   "cell_type": "code",
   "execution_count": 0,
   "metadata": {
    "application/vnd.databricks.v1+cell": {
     "cellMetadata": {
      "byteLimit": 2048000,
      "rowLimit": 10000
     },
     "inputWidgets": {},
     "nuid": "b121d948-69b2-4886-bbcc-59d53e1b1fcb",
     "showTitle": false,
     "tableResultSettingsMap": {},
     "title": ""
    }
   },
   "outputs": [
    {
     "output_type": "display_data",
     "data": {
      "text/html": [
       "<style scoped>\n",
       "  .table-result-container {\n",
       "    max-height: 300px;\n",
       "    overflow: auto;\n",
       "  }\n",
       "  table, th, td {\n",
       "    border: 1px solid black;\n",
       "    border-collapse: collapse;\n",
       "  }\n",
       "  th, td {\n",
       "    padding: 5px;\n",
       "  }\n",
       "  th {\n",
       "    text-align: left;\n",
       "  }\n",
       "</style><div class='table-result-container'><table class='table-result'><thead style='background-color: white'><tr><th>feature</th><th>correlation_importance</th></tr></thead><tbody><tr><td>passenger_count</td><td>0.010426276972742288</td></tr><tr><td>trip_duration</td><td>0.21494003154171867</td></tr><tr><td>pickup_hour</td><td>0.007205851717134307</td></tr><tr><td>temp</td><td>0.004902213235490408</td></tr><tr><td>distance_km</td><td>0.2330978747789861</td></tr><tr><td>payment_type_index</td><td>0.04127479448970816</td></tr><tr><td>pickup_day_of_week_index</td><td>1.8335748570472602E-4</td></tr><tr><td>pickup_month_index</td><td>0.0015721197051095383</td></tr><tr><td>pickup_borough_index</td><td>0.15350004281287538</td></tr><tr><td>dropoff_borough_index</td><td>0.0986033715384023</td></tr><tr><td>is_holiday_index</td><td>0.001184070745014442</td></tr><tr><td>distance_bin_index</td><td>0.20553894136110773</td></tr><tr><td>temp_bin_index</td><td>3.0748120099022E-4</td></tr><tr><td>time_of_day_bin_index</td><td>0.00914225227083168</td></tr><tr><td>season_index</td><td>0.001173127899559348</td></tr><tr><td>near_airport_index</td><td>0.20110699947054886</td></tr><tr><td>Mean total_amount for payment_type = 3</td><td>11.536344582083396</td></tr><tr><td>Mean total_amount for payment_type = 1</td><td>28.96180245684697</td></tr><tr><td>Mean total_amount for payment_type = 4</td><td>2.0569087010630795</td></tr><tr><td>Mean total_amount for payment_type = 2</td><td>23.874019432100045</td></tr><tr><td>Mean total_amount for payment_type = 5</td><td>0.0</td></tr><tr><td>Mean total_amount for pickup_day_of_week = 1</td><td>28.055570855846028</td></tr><tr><td>Mean total_amount for pickup_day_of_week = 6</td><td>27.62114961732566</td></tr><tr><td>Mean total_amount for pickup_day_of_week = 3</td><td>27.78175488956863</td></tr><tr><td>Mean total_amount for pickup_day_of_week = 5</td><td>28.04276541686746</td></tr><tr><td>Mean total_amount for pickup_day_of_week = 4</td><td>27.766129474903178</td></tr><tr><td>Mean total_amount for pickup_day_of_week = 7</td><td>25.865609455411782</td></tr><tr><td>Mean total_amount for pickup_day_of_week = 2</td><td>28.718274642979853</td></tr><tr><td>Mean total_amount for pickup_month = 12</td><td>27.78318471301057</td></tr><tr><td>Mean total_amount for pickup_month = 1</td><td>26.23430267585779</td></tr><tr><td>Mean total_amount for pickup_month = 6</td><td>28.161807598032016</td></tr><tr><td>Mean total_amount for pickup_month = 3</td><td>27.112660409525382</td></tr><tr><td>Mean total_amount for pickup_month = 5</td><td>28.147956129975903</td></tr><tr><td>Mean total_amount for pickup_month = 9</td><td>28.930758382039983</td></tr><tr><td>Mean total_amount for pickup_month = 4</td><td>27.500344842461903</td></tr><tr><td>Mean total_amount for pickup_month = 8</td><td>27.7606777403514</td></tr><tr><td>Mean total_amount for pickup_month = 7</td><td>27.63937143605822</td></tr><tr><td>Mean total_amount for pickup_month = 10</td><td>28.43304875805713</td></tr><tr><td>Mean total_amount for pickup_month = 11</td><td>28.01021992207419</td></tr><tr><td>Mean total_amount for pickup_month = 2</td><td>26.20460633749677</td></tr><tr><td>Mean total_amount for pickup_borough = Queens</td><td>69.61489207027498</td></tr><tr><td>Mean total_amount for pickup_borough = Brooklyn</td><td>31.076760319551507</td></tr><tr><td>Mean total_amount for pickup_borough = Manhattan</td><td>23.08585658514617</td></tr><tr><td>Mean total_amount for pickup_borough = Bronx</td><td>32.888768442190454</td></tr><tr><td>Mean total_amount for pickup_borough = Staten Island</td><td>34.808719432960125</td></tr><tr><td>Mean total_amount for dropoff_borough = Queens</td><td>55.28137001401156</td></tr><tr><td>Mean total_amount for dropoff_borough = Brooklyn</td><td>51.64580021771339</td></tr><tr><td>Mean total_amount for dropoff_borough = Staten Island</td><td>83.62045392510795</td></tr><tr><td>Mean total_amount for dropoff_borough = Manhattan</td><td>24.860442639923487</td></tr><tr><td>Mean total_amount for dropoff_borough = Bronx</td><td>54.41402832972466</td></tr><tr><td>Mean total_amount for is_holiday = 1</td><td>28.254220506142293</td></tr><tr><td>Mean total_amount for is_holiday = 0</td><td>27.65429051591444</td></tr><tr><td>Mean total_amount for distance_bin = Medium</td><td>27.202415389620644</td></tr><tr><td>Mean total_amount for distance_bin = Long</td><td>64.55960446672536</td></tr><tr><td>Mean total_amount for distance_bin = Short</td><td>16.85779505697106</td></tr><tr><td>Mean total_amount for temp_bin = Cool</td><td>26.802840059650617</td></tr><tr><td>Mean total_amount for temp_bin = Hot</td><td>28.091548157723327</td></tr><tr><td>Mean total_amount for temp_bin = Warm</td><td>27.77979098685353</td></tr><tr><td>Mean total_amount for time_of_day_bin = Evening</td><td>27.774441493633468</td></tr><tr><td>Mean total_amount for time_of_day_bin = Morning</td><td>26.386403728908103</td></tr><tr><td>Mean total_amount for time_of_day_bin = Afternoon</td><td>28.478000775325402</td></tr><tr><td>Mean total_amount for time_of_day_bin = Late Night</td><td>26.991916686575824</td></tr><tr><td>Mean total_amount for season = Spring</td><td>27.59311162641411</td></tr><tr><td>Mean total_amount for season = Summer</td><td>27.86855671437902</td></tr><tr><td>Mean total_amount for season = Fall</td><td>28.43162616416047</td></tr><tr><td>Mean total_amount for season = Winter</td><td>26.775353221568224</td></tr><tr><td>Mean total_amount for near_airport = 1</td><td>73.16279156801696</td></tr><tr><td>Mean total_amount for near_airport = 0</td><td>22.1798442567263</td></tr></tbody></table></div>"
      ]
     },
     "metadata": {
      "application/vnd.databricks.v1+output": {
       "addedWidgets": {},
       "aggData": [],
       "aggError": "",
       "aggOverflow": false,
       "aggSchema": [],
       "aggSeriesLimitReached": false,
       "aggType": "",
       "arguments": {},
       "columnCustomDisplayInfos": {},
       "data": [
        [
         "passenger_count",
         0.010426276972742288
        ],
        [
         "trip_duration",
         0.21494003154171867
        ],
        [
         "pickup_hour",
         0.007205851717134307
        ],
        [
         "temp",
         0.004902213235490408
        ],
        [
         "distance_km",
         0.2330978747789861
        ],
        [
         "payment_type_index",
         0.04127479448970816
        ],
        [
         "pickup_day_of_week_index",
         1.8335748570472602E-4
        ],
        [
         "pickup_month_index",
         0.0015721197051095383
        ],
        [
         "pickup_borough_index",
         0.15350004281287538
        ],
        [
         "dropoff_borough_index",
         0.0986033715384023
        ],
        [
         "is_holiday_index",
         0.001184070745014442
        ],
        [
         "distance_bin_index",
         0.20553894136110773
        ],
        [
         "temp_bin_index",
         3.0748120099022E-4
        ],
        [
         "time_of_day_bin_index",
         0.00914225227083168
        ],
        [
         "season_index",
         0.001173127899559348
        ],
        [
         "near_airport_index",
         0.20110699947054886
        ],
        [
         "Mean total_amount for payment_type = 3",
         11.536344582083396
        ],
        [
         "Mean total_amount for payment_type = 1",
         28.96180245684697
        ],
        [
         "Mean total_amount for payment_type = 4",
         2.0569087010630795
        ],
        [
         "Mean total_amount for payment_type = 2",
         23.874019432100045
        ],
        [
         "Mean total_amount for payment_type = 5",
         0.0
        ],
        [
         "Mean total_amount for pickup_day_of_week = 1",
         28.055570855846028
        ],
        [
         "Mean total_amount for pickup_day_of_week = 6",
         27.62114961732566
        ],
        [
         "Mean total_amount for pickup_day_of_week = 3",
         27.78175488956863
        ],
        [
         "Mean total_amount for pickup_day_of_week = 5",
         28.04276541686746
        ],
        [
         "Mean total_amount for pickup_day_of_week = 4",
         27.766129474903178
        ],
        [
         "Mean total_amount for pickup_day_of_week = 7",
         25.865609455411782
        ],
        [
         "Mean total_amount for pickup_day_of_week = 2",
         28.718274642979853
        ],
        [
         "Mean total_amount for pickup_month = 12",
         27.78318471301057
        ],
        [
         "Mean total_amount for pickup_month = 1",
         26.23430267585779
        ],
        [
         "Mean total_amount for pickup_month = 6",
         28.161807598032016
        ],
        [
         "Mean total_amount for pickup_month = 3",
         27.112660409525382
        ],
        [
         "Mean total_amount for pickup_month = 5",
         28.147956129975903
        ],
        [
         "Mean total_amount for pickup_month = 9",
         28.930758382039983
        ],
        [
         "Mean total_amount for pickup_month = 4",
         27.500344842461903
        ],
        [
         "Mean total_amount for pickup_month = 8",
         27.7606777403514
        ],
        [
         "Mean total_amount for pickup_month = 7",
         27.63937143605822
        ],
        [
         "Mean total_amount for pickup_month = 10",
         28.43304875805713
        ],
        [
         "Mean total_amount for pickup_month = 11",
         28.01021992207419
        ],
        [
         "Mean total_amount for pickup_month = 2",
         26.20460633749677
        ],
        [
         "Mean total_amount for pickup_borough = Queens",
         69.61489207027498
        ],
        [
         "Mean total_amount for pickup_borough = Brooklyn",
         31.076760319551507
        ],
        [
         "Mean total_amount for pickup_borough = Manhattan",
         23.08585658514617
        ],
        [
         "Mean total_amount for pickup_borough = Bronx",
         32.888768442190454
        ],
        [
         "Mean total_amount for pickup_borough = Staten Island",
         34.808719432960125
        ],
        [
         "Mean total_amount for dropoff_borough = Queens",
         55.28137001401156
        ],
        [
         "Mean total_amount for dropoff_borough = Brooklyn",
         51.64580021771339
        ],
        [
         "Mean total_amount for dropoff_borough = Staten Island",
         83.62045392510795
        ],
        [
         "Mean total_amount for dropoff_borough = Manhattan",
         24.860442639923487
        ],
        [
         "Mean total_amount for dropoff_borough = Bronx",
         54.41402832972466
        ],
        [
         "Mean total_amount for is_holiday = 1",
         28.254220506142293
        ],
        [
         "Mean total_amount for is_holiday = 0",
         27.65429051591444
        ],
        [
         "Mean total_amount for distance_bin = Medium",
         27.202415389620644
        ],
        [
         "Mean total_amount for distance_bin = Long",
         64.55960446672536
        ],
        [
         "Mean total_amount for distance_bin = Short",
         16.85779505697106
        ],
        [
         "Mean total_amount for temp_bin = Cool",
         26.802840059650617
        ],
        [
         "Mean total_amount for temp_bin = Hot",
         28.091548157723327
        ],
        [
         "Mean total_amount for temp_bin = Warm",
         27.77979098685353
        ],
        [
         "Mean total_amount for time_of_day_bin = Evening",
         27.774441493633468
        ],
        [
         "Mean total_amount for time_of_day_bin = Morning",
         26.386403728908103
        ],
        [
         "Mean total_amount for time_of_day_bin = Afternoon",
         28.478000775325402
        ],
        [
         "Mean total_amount for time_of_day_bin = Late Night",
         26.991916686575824
        ],
        [
         "Mean total_amount for season = Spring",
         27.59311162641411
        ],
        [
         "Mean total_amount for season = Summer",
         27.86855671437902
        ],
        [
         "Mean total_amount for season = Fall",
         28.43162616416047
        ],
        [
         "Mean total_amount for season = Winter",
         26.775353221568224
        ],
        [
         "Mean total_amount for near_airport = 1",
         73.16279156801696
        ],
        [
         "Mean total_amount for near_airport = 0",
         22.1798442567263
        ]
       ],
       "datasetInfos": [],
       "dbfsResultPath": null,
       "isJsonSchema": true,
       "metadata": {},
       "overflow": false,
       "plotOptions": {
        "customPlotOptions": {},
        "displayType": "table",
        "pivotAggregation": null,
        "pivotColumns": null,
        "xColumns": null,
        "yColumns": null
       },
       "removedWidgets": [],
       "schema": [
        {
         "metadata": "{}",
         "name": "feature",
         "type": "\"string\""
        },
        {
         "metadata": "{}",
         "name": "correlation_importance",
         "type": "\"double\""
        }
       ],
       "type": "table"
      }
     },
     "output_type": "display_data"
    }
   ],
   "source": [
    "# Display correlations\n",
    "display(correlation_importance_df)"
   ]
  },
  {
   "cell_type": "markdown",
   "metadata": {
    "application/vnd.databricks.v1+cell": {
     "cellMetadata": {
      "byteLimit": 2048000,
      "rowLimit": 10000
     },
     "inputWidgets": {},
     "nuid": "94f63000-571b-41d2-a6ac-b5bf6978909d",
     "showTitle": false,
     "tableResultSettingsMap": {},
     "title": ""
    }
   },
   "source": [
    "#### Technique 2: Random Forest Feature Importance"
   ]
  },
  {
   "cell_type": "code",
   "execution_count": 0,
   "metadata": {
    "application/vnd.databricks.v1+cell": {
     "cellMetadata": {
      "byteLimit": 2048000,
      "rowLimit": 10000
     },
     "inputWidgets": {},
     "nuid": "f97777b5-6ecd-41d5-a236-ccbcc70e906e",
     "showTitle": false,
     "tableResultSettingsMap": {},
     "title": ""
    }
   },
   "outputs": [],
   "source": [
    "# 2. Random Forest Feature Importance\n",
    "assembler_rf = VectorAssembler(inputCols=all_features, outputCol=\"rf_features\")"
   ]
  },
  {
   "cell_type": "code",
   "execution_count": 0,
   "metadata": {
    "application/vnd.databricks.v1+cell": {
     "cellMetadata": {
      "byteLimit": 2048000,
      "rowLimit": 10000
     },
     "inputWidgets": {},
     "nuid": "985a52ac-32be-4f07-b51a-bcccc5f2a573",
     "showTitle": false,
     "tableResultSettingsMap": {},
     "title": ""
    }
   },
   "outputs": [],
   "source": [
    "rf = RandomForestRegressor(labelCol=target_column, featuresCol=\"rf_features\", numTrees=50)"
   ]
  },
  {
   "cell_type": "code",
   "execution_count": 0,
   "metadata": {
    "application/vnd.databricks.v1+cell": {
     "cellMetadata": {
      "byteLimit": 2048000,
      "rowLimit": 10000
     },
     "inputWidgets": {},
     "nuid": "9793145d-e764-4db3-b38b-23103e4425ef",
     "showTitle": false,
     "tableResultSettingsMap": {},
     "title": ""
    }
   },
   "outputs": [],
   "source": [
    "pipeline_rf = Pipeline(stages=[assembler_rf, rf])"
   ]
  },
  {
   "cell_type": "code",
   "execution_count": 0,
   "metadata": {
    "application/vnd.databricks.v1+cell": {
     "cellMetadata": {
      "byteLimit": 2048000,
      "rowLimit": 10000
     },
     "inputWidgets": {},
     "nuid": "582eabfd-3fe9-4e54-9282-237232a5365e",
     "showTitle": false,
     "tableResultSettingsMap": {},
     "title": ""
    }
   },
   "outputs": [],
   "source": [
    "rf_model = pipeline_rf.fit(sampled_df)"
   ]
  },
  {
   "cell_type": "code",
   "execution_count": 0,
   "metadata": {
    "application/vnd.databricks.v1+cell": {
     "cellMetadata": {
      "byteLimit": 2048000,
      "rowLimit": 10000
     },
     "inputWidgets": {},
     "nuid": "8d86d8bf-3853-4a87-945a-35a4d6a45d8c",
     "showTitle": false,
     "tableResultSettingsMap": {},
     "title": ""
    }
   },
   "outputs": [],
   "source": [
    "rf_importance_df = get_feature_importance(rf_model, all_features, \"rf_importance\")"
   ]
  },
  {
   "cell_type": "code",
   "execution_count": 0,
   "metadata": {
    "application/vnd.databricks.v1+cell": {
     "cellMetadata": {
      "byteLimit": 2048000,
      "rowLimit": 10000
     },
     "inputWidgets": {},
     "nuid": "e7868e59-97ea-4904-8cb8-5f29058d4ece",
     "showTitle": false,
     "tableResultSettingsMap": {},
     "title": ""
    }
   },
   "outputs": [],
   "source": [
    "import pandas as pd\n",
    "import matplotlib.pyplot as plt\n",
    "import seaborn as sns\n",
    "\n",
    "# Convert specific numerical feature columns from both dataframes to pandas for visualization\n",
    "feature = numerical_features[0]  # Replace this with the desired feature name\n",
    "original_feature_data = preprocessed_df.select(feature).toPandas()\n",
    "sampled_feature_data = sampled_df.select(feature).toPandas()\n",
    "\n",
    "# Add a column to differentiate original vs. sampled data\n",
    "original_feature_data['Source'] = 'Original'\n",
    "sampled_feature_data['Source'] = 'Sampled'\n",
    "\n",
    "# Concatenate both DataFrames for easy plotting\n",
    "combined_data = pd.concat([original_feature_data, sampled_feature_data], ignore_index=True)\n",
    "\n",
    "# Plot distributions side by side on the same plot\n",
    "plt.figure(figsize=(10, 6))\n",
    "sns.histplot(data=combined_data, x=feature, hue='Source', kde=True, stat=\"density\", common_norm=False, bins=30)\n",
    "\n",
    "plt.title(f\"Comparison of {feature} Distribution: Original vs Sampled Data\")\n",
    "plt.xlabel(f\"{feature}\")\n",
    "plt.ylabel(\"Density\")\n",
    "plt.legend(title=\"Data Source\")\n",
    "plt.show()\n"
   ]
  },
  {
   "cell_type": "code",
   "execution_count": 0,
   "metadata": {
    "application/vnd.databricks.v1+cell": {
     "cellMetadata": {
      "byteLimit": 2048000,
      "rowLimit": 10000
     },
     "inputWidgets": {},
     "nuid": "3ef1a384-31e9-4ff8-8721-1c13f8a0739e",
     "showTitle": false,
     "tableResultSettingsMap": {},
     "title": ""
    }
   },
   "outputs": [
    {
     "output_type": "display_data",
     "data": {
      "text/html": [
       "<style scoped>\n",
       "  .table-result-container {\n",
       "    max-height: 300px;\n",
       "    overflow: auto;\n",
       "  }\n",
       "  table, th, td {\n",
       "    border: 1px solid black;\n",
       "    border-collapse: collapse;\n",
       "  }\n",
       "  th, td {\n",
       "    padding: 5px;\n",
       "  }\n",
       "  th {\n",
       "    text-align: left;\n",
       "  }\n",
       "</style><div class='table-result-container'><table class='table-result'><thead style='background-color: white'><tr><th>feature</th><th>rf_importance</th></tr></thead><tbody><tr><td>DOLocationID</td><td>3.6420701464883755E-4</td></tr><tr><td>PULocationID</td><td>0.0015173256076086476</td></tr><tr><td>passenger_count</td><td>1.719316933292378E-5</td></tr><tr><td>trip_duration</td><td>0.0997924634553572</td></tr><tr><td>pickup_day_of_week</td><td>3.311540624901743E-7</td></tr><tr><td>pickup_hour</td><td>2.0590009372261524E-4</td></tr><tr><td>pickup_month</td><td>6.352929496780461E-6</td></tr><tr><td>temp</td><td>1.0165824972696574E-5</td></tr><tr><td>distance_km</td><td>0.25341620504910994</td></tr><tr><td>is_holiday</td><td>0.0</td></tr><tr><td>near_airport</td><td>0.035223256051054405</td></tr><tr><td>payment_type_index</td><td>0.016936257123098063</td></tr><tr><td>pickup_day_of_week_index</td><td>6.753416385282349E-6</td></tr><tr><td>pickup_month_index</td><td>4.34048879377391E-5</td></tr><tr><td>pickup_borough_index</td><td>0.02432803571884963</td></tr><tr><td>dropoff_borough_index</td><td>0.00320779874650398</td></tr><tr><td>is_holiday_index</td><td>3.307227630586969E-7</td></tr><tr><td>distance_bin_index</td><td>0.15402145357759847</td></tr><tr><td>temp_bin_index</td><td>0.0</td></tr><tr><td>time_of_day_bin_index</td><td>6.819390401956774E-5</td></tr><tr><td>season_index</td><td>0.0</td></tr><tr><td>near_airport_index</td><td>0.05723400665376156</td></tr><tr><td>payment_type_index</td><td>0.012871724280960183</td></tr><tr><td>pickup_day_of_week_index</td><td>2.647316012726383E-5</td></tr><tr><td>pickup_month_index</td><td>3.6127606253302614E-5</td></tr><tr><td>pickup_borough_index</td><td>0.0017680597582991813</td></tr><tr><td>dropoff_borough_index</td><td>0.007152334635563483</td></tr><tr><td>is_holiday_index</td><td>1.058662269644855E-6</td></tr><tr><td>distance_bin_index</td><td>0.1745447032461952</td></tr><tr><td>temp_bin_index</td><td>1.7693934831383875E-6</td></tr><tr><td>time_of_day_bin_index</td><td>6.717708896450777E-5</td></tr><tr><td>season_index</td><td>1.2828544369265092E-5</td></tr><tr><td>near_airport_index</td><td>0.15711810852323096</td></tr></tbody></table></div>"
      ]
     },
     "metadata": {
      "application/vnd.databricks.v1+output": {
       "addedWidgets": {},
       "aggData": [],
       "aggError": "",
       "aggOverflow": false,
       "aggSchema": [],
       "aggSeriesLimitReached": false,
       "aggType": "",
       "arguments": {},
       "columnCustomDisplayInfos": {},
       "data": [
        [
         "DOLocationID",
         3.6420701464883755E-4
        ],
        [
         "PULocationID",
         0.0015173256076086476
        ],
        [
         "passenger_count",
         1.719316933292378E-5
        ],
        [
         "trip_duration",
         0.0997924634553572
        ],
        [
         "pickup_day_of_week",
         3.311540624901743E-7
        ],
        [
         "pickup_hour",
         2.0590009372261524E-4
        ],
        [
         "pickup_month",
         6.352929496780461E-6
        ],
        [
         "temp",
         1.0165824972696574E-5
        ],
        [
         "distance_km",
         0.25341620504910994
        ],
        [
         "is_holiday",
         0.0
        ],
        [
         "near_airport",
         0.035223256051054405
        ],
        [
         "payment_type_index",
         0.016936257123098063
        ],
        [
         "pickup_day_of_week_index",
         6.753416385282349E-6
        ],
        [
         "pickup_month_index",
         4.34048879377391E-5
        ],
        [
         "pickup_borough_index",
         0.02432803571884963
        ],
        [
         "dropoff_borough_index",
         0.00320779874650398
        ],
        [
         "is_holiday_index",
         3.307227630586969E-7
        ],
        [
         "distance_bin_index",
         0.15402145357759847
        ],
        [
         "temp_bin_index",
         0.0
        ],
        [
         "time_of_day_bin_index",
         6.819390401956774E-5
        ],
        [
         "season_index",
         0.0
        ],
        [
         "near_airport_index",
         0.05723400665376156
        ],
        [
         "payment_type_index",
         0.012871724280960183
        ],
        [
         "pickup_day_of_week_index",
         2.647316012726383E-5
        ],
        [
         "pickup_month_index",
         3.6127606253302614E-5
        ],
        [
         "pickup_borough_index",
         0.0017680597582991813
        ],
        [
         "dropoff_borough_index",
         0.007152334635563483
        ],
        [
         "is_holiday_index",
         1.058662269644855E-6
        ],
        [
         "distance_bin_index",
         0.1745447032461952
        ],
        [
         "temp_bin_index",
         1.7693934831383875E-6
        ],
        [
         "time_of_day_bin_index",
         6.717708896450777E-5
        ],
        [
         "season_index",
         1.2828544369265092E-5
        ],
        [
         "near_airport_index",
         0.15711810852323096
        ]
       ],
       "datasetInfos": [],
       "dbfsResultPath": null,
       "isJsonSchema": true,
       "metadata": {},
       "overflow": false,
       "plotOptions": {
        "customPlotOptions": {},
        "displayType": "table",
        "pivotAggregation": null,
        "pivotColumns": null,
        "xColumns": null,
        "yColumns": null
       },
       "removedWidgets": [],
       "schema": [
        {
         "metadata": "{}",
         "name": "feature",
         "type": "\"string\""
        },
        {
         "metadata": "{}",
         "name": "rf_importance",
         "type": "\"double\""
        }
       ],
       "type": "table"
      }
     },
     "output_type": "display_data"
    }
   ],
   "source": [
    "display(rf_importance_df)"
   ]
  },
  {
   "cell_type": "markdown",
   "metadata": {
    "application/vnd.databricks.v1+cell": {
     "cellMetadata": {
      "byteLimit": 2048000,
      "rowLimit": 10000
     },
     "inputWidgets": {},
     "nuid": "a7844b51-2f0d-4c7f-b62b-11bdd7ed4178",
     "showTitle": false,
     "tableResultSettingsMap": {},
     "title": ""
    }
   },
   "source": [
    "#### Technique 3: Gradient Boosting Feature Importance"
   ]
  },
  {
   "cell_type": "code",
   "execution_count": 0,
   "metadata": {
    "application/vnd.databricks.v1+cell": {
     "cellMetadata": {
      "byteLimit": 2048000,
      "rowLimit": 10000
     },
     "inputWidgets": {},
     "nuid": "c66b70fe-7130-474c-8ac2-46d34ca3b929",
     "showTitle": false,
     "tableResultSettingsMap": {},
     "title": ""
    }
   },
   "outputs": [],
   "source": [
    "# 3. Gradient Boosting Feature Importance\n",
    "assembler_gbt = VectorAssembler(inputCols=all_features, outputCol=\"gbt_features\")"
   ]
  },
  {
   "cell_type": "code",
   "execution_count": 0,
   "metadata": {
    "application/vnd.databricks.v1+cell": {
     "cellMetadata": {
      "byteLimit": 2048000,
      "rowLimit": 10000
     },
     "inputWidgets": {},
     "nuid": "91a3f726-d723-47ec-9814-f5e238cae559",
     "showTitle": false,
     "tableResultSettingsMap": {},
     "title": ""
    }
   },
   "outputs": [],
   "source": [
    "gbt = GBTRegressor(labelCol=target_column, featuresCol=\"gbt_features\", maxIter=50)"
   ]
  },
  {
   "cell_type": "code",
   "execution_count": 0,
   "metadata": {
    "application/vnd.databricks.v1+cell": {
     "cellMetadata": {
      "byteLimit": 2048000,
      "rowLimit": 10000
     },
     "inputWidgets": {},
     "nuid": "90a7d280-813a-42c9-a4a7-95b9ec70d88b",
     "showTitle": false,
     "tableResultSettingsMap": {},
     "title": ""
    }
   },
   "outputs": [],
   "source": [
    "pipeline_gbt = Pipeline(stages=[assembler_gbt, gbt])"
   ]
  },
  {
   "cell_type": "code",
   "execution_count": 0,
   "metadata": {
    "application/vnd.databricks.v1+cell": {
     "cellMetadata": {
      "byteLimit": 2048000,
      "rowLimit": 10000
     },
     "inputWidgets": {},
     "nuid": "4b66985b-bd1f-4604-b5bb-3c3f11a2ebd6",
     "showTitle": false,
     "tableResultSettingsMap": {},
     "title": ""
    }
   },
   "outputs": [],
   "source": [
    "gbt_model = pipeline_gbt.fit(sampled_df)"
   ]
  },
  {
   "cell_type": "code",
   "execution_count": 0,
   "metadata": {
    "application/vnd.databricks.v1+cell": {
     "cellMetadata": {
      "byteLimit": 2048000,
      "rowLimit": 10000
     },
     "inputWidgets": {},
     "nuid": "4504e822-7b3c-46fd-ba77-95c43329c880",
     "showTitle": false,
     "tableResultSettingsMap": {},
     "title": ""
    }
   },
   "outputs": [],
   "source": [
    "gbt_importance_df = get_feature_importance(gbt_model, all_features, \"gbt_importance\")"
   ]
  },
  {
   "cell_type": "code",
   "execution_count": 0,
   "metadata": {
    "application/vnd.databricks.v1+cell": {
     "cellMetadata": {
      "byteLimit": 2048000,
      "rowLimit": 10000
     },
     "inputWidgets": {},
     "nuid": "489d80d0-fa3f-45d4-a90d-f80e2547e7c7",
     "showTitle": false,
     "tableResultSettingsMap": {},
     "title": ""
    }
   },
   "outputs": [
    {
     "output_type": "display_data",
     "data": {
      "text/html": [
       "<style scoped>\n",
       "  .table-result-container {\n",
       "    max-height: 300px;\n",
       "    overflow: auto;\n",
       "  }\n",
       "  table, th, td {\n",
       "    border: 1px solid black;\n",
       "    border-collapse: collapse;\n",
       "  }\n",
       "  th, td {\n",
       "    padding: 5px;\n",
       "  }\n",
       "  th {\n",
       "    text-align: left;\n",
       "  }\n",
       "</style><div class='table-result-container'><table class='table-result'><thead style='background-color: white'><tr><th>feature</th><th>gbt_importance</th></tr></thead><tbody><tr><td>DOLocationID</td><td>0.0039745500037976925</td></tr><tr><td>PULocationID</td><td>0.013081622526567895</td></tr><tr><td>passenger_count</td><td>0.002663561419910795</td></tr><tr><td>trip_duration</td><td>0.17466749540076043</td></tr><tr><td>pickup_day_of_week</td><td>3.745181009596559E-5</td></tr><tr><td>pickup_hour</td><td>0.014672788102965056</td></tr><tr><td>pickup_month</td><td>3.005431549091441E-4</td></tr><tr><td>temp</td><td>3.1704886875700834E-4</td></tr><tr><td>distance_km</td><td>0.553901681533922</td></tr><tr><td>is_holiday</td><td>5.083236549158062E-5</td></tr><tr><td>near_airport</td><td>0.026554642684823843</td></tr><tr><td>payment_type_index</td><td>0.0858283355141057</td></tr><tr><td>pickup_day_of_week_index</td><td>0.0052516270367055935</td></tr><tr><td>pickup_month_index</td><td>0.0023474502765866282</td></tr><tr><td>pickup_borough_index</td><td>0.032891512461680664</td></tr><tr><td>dropoff_borough_index</td><td>0.029435396681803432</td></tr><tr><td>is_holiday_index</td><td>3.5535597132266056E-4</td></tr><tr><td>distance_bin_index</td><td>0.05036652916612393</td></tr><tr><td>temp_bin_index</td><td>0.0</td></tr><tr><td>time_of_day_bin_index</td><td>0.0017532402706965384</td></tr><tr><td>season_index</td><td>0.0</td></tr><tr><td>near_airport_index</td><td>0.0015483347489733984</td></tr><tr><td>payment_type_index</td><td>0.0</td></tr><tr><td>pickup_day_of_week_index</td><td>0.0</td></tr><tr><td>pickup_month_index</td><td>0.0</td></tr><tr><td>pickup_borough_index</td><td>0.0</td></tr><tr><td>dropoff_borough_index</td><td>0.0</td></tr><tr><td>is_holiday_index</td><td>0.0</td></tr><tr><td>distance_bin_index</td><td>0.0</td></tr><tr><td>temp_bin_index</td><td>0.0</td></tr><tr><td>time_of_day_bin_index</td><td>0.0</td></tr><tr><td>season_index</td><td>0.0</td></tr><tr><td>near_airport_index</td><td>0.0</td></tr></tbody></table></div>"
      ]
     },
     "metadata": {
      "application/vnd.databricks.v1+output": {
       "addedWidgets": {},
       "aggData": [],
       "aggError": "",
       "aggOverflow": false,
       "aggSchema": [],
       "aggSeriesLimitReached": false,
       "aggType": "",
       "arguments": {},
       "columnCustomDisplayInfos": {},
       "data": [
        [
         "DOLocationID",
         0.0039745500037976925
        ],
        [
         "PULocationID",
         0.013081622526567895
        ],
        [
         "passenger_count",
         0.002663561419910795
        ],
        [
         "trip_duration",
         0.17466749540076043
        ],
        [
         "pickup_day_of_week",
         3.745181009596559E-5
        ],
        [
         "pickup_hour",
         0.014672788102965056
        ],
        [
         "pickup_month",
         3.005431549091441E-4
        ],
        [
         "temp",
         3.1704886875700834E-4
        ],
        [
         "distance_km",
         0.553901681533922
        ],
        [
         "is_holiday",
         5.083236549158062E-5
        ],
        [
         "near_airport",
         0.026554642684823843
        ],
        [
         "payment_type_index",
         0.0858283355141057
        ],
        [
         "pickup_day_of_week_index",
         0.0052516270367055935
        ],
        [
         "pickup_month_index",
         0.0023474502765866282
        ],
        [
         "pickup_borough_index",
         0.032891512461680664
        ],
        [
         "dropoff_borough_index",
         0.029435396681803432
        ],
        [
         "is_holiday_index",
         3.5535597132266056E-4
        ],
        [
         "distance_bin_index",
         0.05036652916612393
        ],
        [
         "temp_bin_index",
         0.0
        ],
        [
         "time_of_day_bin_index",
         0.0017532402706965384
        ],
        [
         "season_index",
         0.0
        ],
        [
         "near_airport_index",
         0.0015483347489733984
        ],
        [
         "payment_type_index",
         0.0
        ],
        [
         "pickup_day_of_week_index",
         0.0
        ],
        [
         "pickup_month_index",
         0.0
        ],
        [
         "pickup_borough_index",
         0.0
        ],
        [
         "dropoff_borough_index",
         0.0
        ],
        [
         "is_holiday_index",
         0.0
        ],
        [
         "distance_bin_index",
         0.0
        ],
        [
         "temp_bin_index",
         0.0
        ],
        [
         "time_of_day_bin_index",
         0.0
        ],
        [
         "season_index",
         0.0
        ],
        [
         "near_airport_index",
         0.0
        ]
       ],
       "datasetInfos": [],
       "dbfsResultPath": null,
       "isJsonSchema": true,
       "metadata": {},
       "overflow": false,
       "plotOptions": {
        "customPlotOptions": {},
        "displayType": "table",
        "pivotAggregation": null,
        "pivotColumns": null,
        "xColumns": null,
        "yColumns": null
       },
       "removedWidgets": [],
       "schema": [
        {
         "metadata": "{}",
         "name": "feature",
         "type": "\"string\""
        },
        {
         "metadata": "{}",
         "name": "gbt_importance",
         "type": "\"double\""
        }
       ],
       "type": "table"
      }
     },
     "output_type": "display_data"
    }
   ],
   "source": [
    "display(gbt_importance_df)"
   ]
  },
  {
   "cell_type": "markdown",
   "metadata": {
    "application/vnd.databricks.v1+cell": {
     "cellMetadata": {
      "byteLimit": 2048000,
      "rowLimit": 10000
     },
     "inputWidgets": {},
     "nuid": "9fc54abe-95e7-4293-acbc-3e0b8f1c2a54",
     "showTitle": false,
     "tableResultSettingsMap": {},
     "title": ""
    }
   },
   "source": [
    "#### Technique 4: Lasso Regression"
   ]
  },
  {
   "cell_type": "code",
   "execution_count": 0,
   "metadata": {
    "application/vnd.databricks.v1+cell": {
     "cellMetadata": {
      "byteLimit": 2048000,
      "rowLimit": 10000
     },
     "inputWidgets": {},
     "nuid": "20522a73-b137-4e25-8825-362a52275432",
     "showTitle": false,
     "tableResultSettingsMap": {},
     "title": ""
    }
   },
   "outputs": [],
   "source": [
    "# 4. Lasso Regression (Linear Regression with L1 regularization) Feature Importance\n",
    "assembler_lasso = VectorAssembler(inputCols=all_features, outputCol=\"lasso_features\")"
   ]
  },
  {
   "cell_type": "code",
   "execution_count": 0,
   "metadata": {
    "application/vnd.databricks.v1+cell": {
     "cellMetadata": {
      "byteLimit": 2048000,
      "rowLimit": 10000
     },
     "inputWidgets": {},
     "nuid": "98ec4cb0-dfb3-4fb4-b4d8-21e4d1366a13",
     "showTitle": false,
     "tableResultSettingsMap": {},
     "title": ""
    }
   },
   "outputs": [],
   "source": [
    "lasso = LinearRegression(labelCol=target_column, featuresCol=\"lasso_features\", regParam=0.1, elasticNetParam=1.0)"
   ]
  },
  {
   "cell_type": "code",
   "execution_count": 0,
   "metadata": {
    "application/vnd.databricks.v1+cell": {
     "cellMetadata": {
      "byteLimit": 2048000,
      "rowLimit": 10000
     },
     "inputWidgets": {},
     "nuid": "7c33fb30-39e9-46b0-b34f-af569ecdebc3",
     "showTitle": false,
     "tableResultSettingsMap": {},
     "title": ""
    }
   },
   "outputs": [],
   "source": [
    "pipeline_lasso = Pipeline(stages=[assembler_lasso, lasso])"
   ]
  },
  {
   "cell_type": "code",
   "execution_count": 0,
   "metadata": {
    "application/vnd.databricks.v1+cell": {
     "cellMetadata": {
      "byteLimit": 2048000,
      "rowLimit": 10000
     },
     "inputWidgets": {},
     "nuid": "ec868493-b1cc-4f0c-809d-da96c2204c46",
     "showTitle": false,
     "tableResultSettingsMap": {},
     "title": ""
    }
   },
   "outputs": [],
   "source": [
    "lasso_model = pipeline_lasso.fit(sampled_df)"
   ]
  },
  {
   "cell_type": "code",
   "execution_count": 0,
   "metadata": {
    "application/vnd.databricks.v1+cell": {
     "cellMetadata": {
      "byteLimit": 2048000,
      "rowLimit": 10000
     },
     "inputWidgets": {},
     "nuid": "18fcb7e5-5e60-44a2-be25-d24e71066c06",
     "showTitle": false,
     "tableResultSettingsMap": {},
     "title": ""
    }
   },
   "outputs": [],
   "source": [
    "lasso_coefficients = lasso_model.stages[-1].coefficients.toArray()"
   ]
  },
  {
   "cell_type": "code",
   "execution_count": 0,
   "metadata": {
    "application/vnd.databricks.v1+cell": {
     "cellMetadata": {
      "byteLimit": 2048000,
      "rowLimit": 10000
     },
     "inputWidgets": {},
     "nuid": "f66fe92a-9c2b-4ea5-b00a-5a2e194d6ee7",
     "showTitle": false,
     "tableResultSettingsMap": {},
     "title": ""
    }
   },
   "outputs": [],
   "source": [
    "from pyspark.sql.types import StructType, StructField, StringType, DoubleType\n",
    "from pyspark.sql import functions as F\n",
    "from pyspark.sql.functions import col\n",
    "\n",
    "# Define the schema explicitly\n",
    "schema = StructType([\n",
    "    StructField(\"feature\", StringType(), True),\n",
    "    StructField(\"lasso_importance\", DoubleType(), True)\n",
    "])\n",
    "\n",
    "# Convert the coefficients to native Python float before creating the DataFrame\n",
    "lasso_importance_data = [(feature, float(abs(coeff))) for feature, coeff in zip(all_features, lasso_coefficients)]"
   ]
  },
  {
   "cell_type": "code",
   "execution_count": 0,
   "metadata": {
    "application/vnd.databricks.v1+cell": {
     "cellMetadata": {
      "byteLimit": 2048000,
      "rowLimit": 10000
     },
     "inputWidgets": {},
     "nuid": "5ffb7af1-093b-48d5-9a35-c5f42f58fe6c",
     "showTitle": false,
     "tableResultSettingsMap": {},
     "title": ""
    }
   },
   "outputs": [],
   "source": [
    "# Create the lasso importance DataFrame with the explicit schema\n",
    "lasso_importance_df = spark.createDataFrame(lasso_importance_data, schema)"
   ]
  },
  {
   "cell_type": "code",
   "execution_count": 0,
   "metadata": {
    "application/vnd.databricks.v1+cell": {
     "cellMetadata": {
      "byteLimit": 2048000,
      "rowLimit": 10000
     },
     "inputWidgets": {},
     "nuid": "44137109-3a50-4cc9-8b67-46e9e805da50",
     "showTitle": false,
     "tableResultSettingsMap": {},
     "title": ""
    }
   },
   "outputs": [],
   "source": [
    "# Normalize Lasso importances\n",
    "total_lasso_importance = lasso_importance_df.select(F.sum(\"lasso_importance\")).collect()[0][0]\n",
    "\n",
    "lasso_importance_df = lasso_importance_df.withColumn(\"lasso_importance\", col(\"lasso_importance\") / total_lasso_importance)"
   ]
  },
  {
   "cell_type": "code",
   "execution_count": 0,
   "metadata": {
    "application/vnd.databricks.v1+cell": {
     "cellMetadata": {
      "byteLimit": 2048000,
      "rowLimit": 10000
     },
     "inputWidgets": {},
     "nuid": "4f99749f-e421-4de4-a858-ae39f03be7eb",
     "showTitle": false,
     "tableResultSettingsMap": {},
     "title": ""
    }
   },
   "outputs": [
    {
     "output_type": "display_data",
     "data": {
      "text/html": [
       "<style scoped>\n",
       "  .table-result-container {\n",
       "    max-height: 300px;\n",
       "    overflow: auto;\n",
       "  }\n",
       "  table, th, td {\n",
       "    border: 1px solid black;\n",
       "    border-collapse: collapse;\n",
       "  }\n",
       "  th, td {\n",
       "    padding: 5px;\n",
       "  }\n",
       "  th {\n",
       "    text-align: left;\n",
       "  }\n",
       "</style><div class='table-result-container'><table class='table-result'><thead style='background-color: white'><tr><th>feature</th><th>lasso_importance</th></tr></thead><tbody><tr><td>DOLocationID</td><td>1.627338799889582E-5</td></tr><tr><td>PULocationID</td><td>0.0</td></tr><tr><td>passenger_count</td><td>0.0015260583953919202</td></tr><tr><td>trip_duration</td><td>0.024749044204021017</td></tr><tr><td>pickup_day_of_week</td><td>0.0</td></tr><tr><td>pickup_hour</td><td>0.0012512864137911386</td></tr><tr><td>pickup_month</td><td>0.0</td></tr><tr><td>temp</td><td>0.0</td></tr><tr><td>distance_km</td><td>0.06320883294950433</td></tr><tr><td>is_holiday</td><td>0.0</td></tr><tr><td>near_airport</td><td>0.2027714810109767</td></tr><tr><td>payment_type_index</td><td>0.11302500727779598</td></tr><tr><td>pickup_day_of_week_index</td><td>3.2581952567984376E-4</td></tr><tr><td>pickup_month_index</td><td>0.0</td></tr><tr><td>pickup_borough_index</td><td>0.0</td></tr><tr><td>dropoff_borough_index</td><td>0.00876186448736801</td></tr><tr><td>is_holiday_index</td><td>0.0</td></tr><tr><td>distance_bin_index</td><td>0.028354339517336014</td></tr><tr><td>temp_bin_index</td><td>0.0</td></tr><tr><td>time_of_day_bin_index</td><td>0.0</td></tr><tr><td>season_index</td><td>0.0</td></tr><tr><td>near_airport_index</td><td>0.20277148101097608</td></tr><tr><td>payment_type_index</td><td>0.11302500727779527</td></tr><tr><td>pickup_day_of_week_index</td><td>3.2581952568012376E-4</td></tr><tr><td>pickup_month_index</td><td>0.0</td></tr><tr><td>pickup_borough_index</td><td>0.0</td></tr><tr><td>dropoff_borough_index</td><td>0.008761864487368005</td></tr><tr><td>is_holiday_index</td><td>0.0</td></tr><tr><td>distance_bin_index</td><td>0.028354339517336513</td></tr><tr><td>temp_bin_index</td><td>0.0</td></tr><tr><td>time_of_day_bin_index</td><td>0.0</td></tr><tr><td>season_index</td><td>0.0</td></tr><tr><td>near_airport_index</td><td>0.20277148101098016</td></tr></tbody></table></div>"
      ]
     },
     "metadata": {
      "application/vnd.databricks.v1+output": {
       "addedWidgets": {},
       "aggData": [],
       "aggError": "",
       "aggOverflow": false,
       "aggSchema": [],
       "aggSeriesLimitReached": false,
       "aggType": "",
       "arguments": {},
       "columnCustomDisplayInfos": {},
       "data": [
        [
         "DOLocationID",
         1.627338799889582E-5
        ],
        [
         "PULocationID",
         0.0
        ],
        [
         "passenger_count",
         0.0015260583953919202
        ],
        [
         "trip_duration",
         0.024749044204021017
        ],
        [
         "pickup_day_of_week",
         0.0
        ],
        [
         "pickup_hour",
         0.0012512864137911386
        ],
        [
         "pickup_month",
         0.0
        ],
        [
         "temp",
         0.0
        ],
        [
         "distance_km",
         0.06320883294950433
        ],
        [
         "is_holiday",
         0.0
        ],
        [
         "near_airport",
         0.2027714810109767
        ],
        [
         "payment_type_index",
         0.11302500727779598
        ],
        [
         "pickup_day_of_week_index",
         3.2581952567984376E-4
        ],
        [
         "pickup_month_index",
         0.0
        ],
        [
         "pickup_borough_index",
         0.0
        ],
        [
         "dropoff_borough_index",
         0.00876186448736801
        ],
        [
         "is_holiday_index",
         0.0
        ],
        [
         "distance_bin_index",
         0.028354339517336014
        ],
        [
         "temp_bin_index",
         0.0
        ],
        [
         "time_of_day_bin_index",
         0.0
        ],
        [
         "season_index",
         0.0
        ],
        [
         "near_airport_index",
         0.20277148101097608
        ],
        [
         "payment_type_index",
         0.11302500727779527
        ],
        [
         "pickup_day_of_week_index",
         3.2581952568012376E-4
        ],
        [
         "pickup_month_index",
         0.0
        ],
        [
         "pickup_borough_index",
         0.0
        ],
        [
         "dropoff_borough_index",
         0.008761864487368005
        ],
        [
         "is_holiday_index",
         0.0
        ],
        [
         "distance_bin_index",
         0.028354339517336513
        ],
        [
         "temp_bin_index",
         0.0
        ],
        [
         "time_of_day_bin_index",
         0.0
        ],
        [
         "season_index",
         0.0
        ],
        [
         "near_airport_index",
         0.20277148101098016
        ]
       ],
       "datasetInfos": [],
       "dbfsResultPath": null,
       "isJsonSchema": true,
       "metadata": {},
       "overflow": false,
       "plotOptions": {
        "customPlotOptions": {},
        "displayType": "table",
        "pivotAggregation": null,
        "pivotColumns": null,
        "xColumns": null,
        "yColumns": null
       },
       "removedWidgets": [],
       "schema": [
        {
         "metadata": "{}",
         "name": "feature",
         "type": "\"string\""
        },
        {
         "metadata": "{}",
         "name": "lasso_importance",
         "type": "\"double\""
        }
       ],
       "type": "table"
      }
     },
     "output_type": "display_data"
    }
   ],
   "source": [
    "# Show the final DataFrame with normalized importance values\n",
    "display(lasso_importance_df)"
   ]
  },
  {
   "cell_type": "markdown",
   "metadata": {
    "application/vnd.databricks.v1+cell": {
     "cellMetadata": {
      "byteLimit": 2048000,
      "rowLimit": 10000
     },
     "inputWidgets": {},
     "nuid": "5843a3e2-d623-4323-8cdd-9b01155c35ad",
     "showTitle": false,
     "tableResultSettingsMap": {},
     "title": ""
    }
   },
   "source": [
    "#### Technique 5: Recursive Feature Elimination (RFE)"
   ]
  },
  {
   "cell_type": "code",
   "execution_count": 0,
   "metadata": {
    "application/vnd.databricks.v1+cell": {
     "cellMetadata": {
      "byteLimit": 2048000,
      "rowLimit": 10000
     },
     "inputWidgets": {},
     "nuid": "39c404ca-d0a6-4a8d-8c90-294e8c3bdaa1",
     "showTitle": false,
     "tableResultSettingsMap": {},
     "title": ""
    }
   },
   "outputs": [],
   "source": [
    "from pyspark.ml.feature import VectorAssembler\n",
    "from pyspark.ml.regression import RandomForestRegressor\n",
    "from pyspark.sql.functions import col\n",
    "\n",
    "# List of all feature names\n",
    "rfe_features = all_features.copy()  \n",
    "numTrees = 30"
   ]
  },
  {
   "cell_type": "code",
   "execution_count": 0,
   "metadata": {
    "application/vnd.databricks.v1+cell": {
     "cellMetadata": {
      "byteLimit": 2048000,
      "rowLimit": 10000
     },
     "inputWidgets": {},
     "nuid": "4724c7f8-9ae3-4442-91cc-61b0aceabfba",
     "showTitle": false,
     "tableResultSettingsMap": {},
     "title": ""
    }
   },
   "outputs": [],
   "source": [
    "# Assemble the features into a single vector column\n",
    "assembler_rfe = VectorAssembler(inputCols=rfe_features, outputCol=\"rfe_features\")\n",
    "sampled_df_transformed = assembler_rfe.transform(sampled_df)"
   ]
  },
  {
   "cell_type": "code",
   "execution_count": 0,
   "metadata": {
    "application/vnd.databricks.v1+cell": {
     "cellMetadata": {
      "byteLimit": 2048000,
      "rowLimit": 10000
     },
     "inputWidgets": {},
     "nuid": "230cc031-8010-4955-80b8-004a8dc027c3",
     "showTitle": false,
     "tableResultSettingsMap": {},
     "title": ""
    }
   },
   "outputs": [],
   "source": [
    "# Define and fit the Random Forest model on the transformed data\n",
    "rf_rfe = RandomForestRegressor(labelCol=target_column, featuresCol=\"rfe_features\", numTrees=numTrees)\n",
    "rfe_model = rf_rfe.fit(sampled_df_transformed.select(\"rfe_features\", target_column))"
   ]
  },
  {
   "cell_type": "code",
   "execution_count": 0,
   "metadata": {
    "application/vnd.databricks.v1+cell": {
     "cellMetadata": {
      "byteLimit": 2048000,
      "rowLimit": 10000
     },
     "inputWidgets": {},
     "nuid": "412a5936-f03c-4c04-910f-01dc448f8273",
     "showTitle": false,
     "tableResultSettingsMap": {},
     "title": ""
    }
   },
   "outputs": [],
   "source": [
    "# Capture feature importances\n",
    "importances = rfe_model.featureImportances.toArray()"
   ]
  },
  {
   "cell_type": "code",
   "execution_count": 0,
   "metadata": {
    "application/vnd.databricks.v1+cell": {
     "cellMetadata": {
      "byteLimit": 2048000,
      "rowLimit": 10000
     },
     "inputWidgets": {},
     "nuid": "91120091-e2e3-453e-ab1b-e2e947a9c052",
     "showTitle": false,
     "tableResultSettingsMap": {},
     "title": ""
    }
   },
   "outputs": [],
   "source": [
    "# Convert all importance scores to Python's native float type\n",
    "fi_data = [(feature, float(importance)) for feature, importance in zip(rfe_features, importances)]"
   ]
  },
  {
   "cell_type": "code",
   "execution_count": 0,
   "metadata": {
    "application/vnd.databricks.v1+cell": {
     "cellMetadata": {
      "byteLimit": 2048000,
      "rowLimit": 10000
     },
     "inputWidgets": {},
     "nuid": "107228c4-9aae-48be-8fae-6fa1d1c13472",
     "showTitle": false,
     "tableResultSettingsMap": {},
     "title": ""
    }
   },
   "outputs": [],
   "source": [
    "# Now create the DataFrame with the specified schema\n",
    "from pyspark.sql.types import StructType, StructField, StringType, FloatType\n",
    "\n",
    "# Define schema with expected types\n",
    "schema = StructType([\n",
    "    StructField(\"feature\", StringType(), True),\n",
    "    StructField(\"rfe_score\", FloatType(), True)\n",
    "])\n",
    "\n",
    "# Create DataFrame with the specified schema\n",
    "rfe_importance_df = spark.createDataFrame(fi_data, schema=schema)"
   ]
  },
  {
   "cell_type": "code",
   "execution_count": 0,
   "metadata": {
    "application/vnd.databricks.v1+cell": {
     "cellMetadata": {
      "byteLimit": 2048000,
      "rowLimit": 10000
     },
     "inputWidgets": {},
     "nuid": "07b554fd-07a6-4f82-b313-ab729e6ac813",
     "showTitle": false,
     "tableResultSettingsMap": {},
     "title": ""
    }
   },
   "outputs": [],
   "source": [
    "# Sort the DataFrame by importance scores in descending order\n",
    "rfe_importance_df_sorted = rfe_importance_df.orderBy(col(\"rfe_score\").desc())"
   ]
  },
  {
   "cell_type": "code",
   "execution_count": 0,
   "metadata": {
    "application/vnd.databricks.v1+cell": {
     "cellMetadata": {
      "byteLimit": 2048000,
      "rowLimit": 10000
     },
     "inputWidgets": {},
     "nuid": "828b3894-12d7-44b2-9a1d-6c7e222cad83",
     "showTitle": false,
     "tableResultSettingsMap": {},
     "title": ""
    }
   },
   "outputs": [
    {
     "output_type": "display_data",
     "data": {
      "text/html": [
       "<style scoped>\n",
       "  .table-result-container {\n",
       "    max-height: 300px;\n",
       "    overflow: auto;\n",
       "  }\n",
       "  table, th, td {\n",
       "    border: 1px solid black;\n",
       "    border-collapse: collapse;\n",
       "  }\n",
       "  th, td {\n",
       "    padding: 5px;\n",
       "  }\n",
       "  th {\n",
       "    text-align: left;\n",
       "  }\n",
       "</style><div class='table-result-container'><table class='table-result'><thead style='background-color: white'><tr><th>feature</th><th>rfe_score</th></tr></thead><tbody><tr><td>DOLocationID</td><td>2.555016E-4</td></tr><tr><td>PULocationID</td><td>4.3272635E-4</td></tr><tr><td>passenger_count</td><td>1.7906184E-5</td></tr><tr><td>trip_duration</td><td>0.10261339</td></tr><tr><td>pickup_day_of_week</td><td>7.72838E-6</td></tr><tr><td>pickup_hour</td><td>2.3615516E-4</td></tr><tr><td>pickup_month</td><td>1.9048645E-6</td></tr><tr><td>temp</td><td>9.3054605E-6</td></tr><tr><td>distance_km</td><td>0.26247764</td></tr><tr><td>is_holiday</td><td>0.0</td></tr><tr><td>near_airport</td><td>0.032806113</td></tr><tr><td>payment_type_index</td><td>0.017061703</td></tr><tr><td>pickup_day_of_week_index</td><td>1.6115222E-5</td></tr><tr><td>pickup_month_index</td><td>2.1969565E-5</td></tr><tr><td>pickup_borough_index</td><td>0.020083973</td></tr><tr><td>dropoff_borough_index</td><td>0.0025731847</td></tr><tr><td>is_holiday_index</td><td>0.0</td></tr><tr><td>distance_bin_index</td><td>0.179085</td></tr><tr><td>temp_bin_index</td><td>0.0</td></tr><tr><td>time_of_day_bin_index</td><td>6.679086E-5</td></tr><tr><td>season_index</td><td>0.0</td></tr><tr><td>near_airport_index</td><td>0.055085696</td></tr><tr><td>payment_type_index</td><td>0.016027445</td></tr><tr><td>pickup_day_of_week_index</td><td>4.6001955E-5</td></tr><tr><td>pickup_month_index</td><td>5.9126058E-5</td></tr><tr><td>pickup_borough_index</td><td>0.019603215</td></tr><tr><td>dropoff_borough_index</td><td>0.008916924</td></tr><tr><td>is_holiday_index</td><td>0.0</td></tr><tr><td>distance_bin_index</td><td>0.17668933</td></tr><tr><td>temp_bin_index</td><td>6.2089214E-7</td></tr><tr><td>time_of_day_bin_index</td><td>1.8208043E-4</td></tr><tr><td>season_index</td><td>0.0</td></tr><tr><td>near_airport_index</td><td>0.10562248</td></tr></tbody></table></div>"
      ]
     },
     "metadata": {
      "application/vnd.databricks.v1+output": {
       "addedWidgets": {},
       "aggData": [],
       "aggError": "",
       "aggOverflow": false,
       "aggSchema": [],
       "aggSeriesLimitReached": false,
       "aggType": "",
       "arguments": {},
       "columnCustomDisplayInfos": {},
       "data": [
        [
         "DOLocationID",
         2.555016E-4
        ],
        [
         "PULocationID",
         4.3272635E-4
        ],
        [
         "passenger_count",
         1.7906184E-5
        ],
        [
         "trip_duration",
         0.10261339
        ],
        [
         "pickup_day_of_week",
         7.72838E-6
        ],
        [
         "pickup_hour",
         2.3615516E-4
        ],
        [
         "pickup_month",
         1.9048645E-6
        ],
        [
         "temp",
         9.3054605E-6
        ],
        [
         "distance_km",
         0.26247764
        ],
        [
         "is_holiday",
         0.0
        ],
        [
         "near_airport",
         0.032806113
        ],
        [
         "payment_type_index",
         0.017061703
        ],
        [
         "pickup_day_of_week_index",
         1.6115222E-5
        ],
        [
         "pickup_month_index",
         2.1969565E-5
        ],
        [
         "pickup_borough_index",
         0.020083973
        ],
        [
         "dropoff_borough_index",
         0.0025731847
        ],
        [
         "is_holiday_index",
         0.0
        ],
        [
         "distance_bin_index",
         0.179085
        ],
        [
         "temp_bin_index",
         0.0
        ],
        [
         "time_of_day_bin_index",
         6.679086E-5
        ],
        [
         "season_index",
         0.0
        ],
        [
         "near_airport_index",
         0.055085696
        ],
        [
         "payment_type_index",
         0.016027445
        ],
        [
         "pickup_day_of_week_index",
         4.6001955E-5
        ],
        [
         "pickup_month_index",
         5.9126058E-5
        ],
        [
         "pickup_borough_index",
         0.019603215
        ],
        [
         "dropoff_borough_index",
         0.008916924
        ],
        [
         "is_holiday_index",
         0.0
        ],
        [
         "distance_bin_index",
         0.17668933
        ],
        [
         "temp_bin_index",
         6.2089214E-7
        ],
        [
         "time_of_day_bin_index",
         1.8208043E-4
        ],
        [
         "season_index",
         0.0
        ],
        [
         "near_airport_index",
         0.10562248
        ]
       ],
       "datasetInfos": [],
       "dbfsResultPath": null,
       "isJsonSchema": true,
       "metadata": {},
       "overflow": false,
       "plotOptions": {
        "customPlotOptions": {},
        "displayType": "table",
        "pivotAggregation": null,
        "pivotColumns": null,
        "xColumns": null,
        "yColumns": null
       },
       "removedWidgets": [],
       "schema": [
        {
         "metadata": "{}",
         "name": "feature",
         "type": "\"string\""
        },
        {
         "metadata": "{}",
         "name": "rfe_score",
         "type": "\"float\""
        }
       ],
       "type": "table"
      }
     },
     "output_type": "display_data"
    }
   ],
   "source": [
    "display(rfe_importance_df)"
   ]
  },
  {
   "cell_type": "markdown",
   "metadata": {
    "application/vnd.databricks.v1+cell": {
     "cellMetadata": {
      "byteLimit": 2048000,
      "rowLimit": 10000
     },
     "inputWidgets": {},
     "nuid": "4db4cfe8-ad90-4ccf-8895-f952345cc55d",
     "showTitle": false,
     "tableResultSettingsMap": {},
     "title": ""
    }
   },
   "source": [
    "#### Technique 6: SHAP Values"
   ]
  },
  {
   "cell_type": "code",
   "execution_count": 0,
   "metadata": {
    "application/vnd.databricks.v1+cell": {
     "cellMetadata": {
      "byteLimit": 2048000,
      "rowLimit": 10000
     },
     "inputWidgets": {},
     "nuid": "d3bcd602-80df-4e5b-b176-2da81395a44b",
     "showTitle": true,
     "tableResultSettingsMap": {},
     "title": "5"
    }
   },
   "outputs": [],
   "source": [
    "import xgboost as xgb\n",
    "import shap\n",
    "import numpy as np\n",
    "import pandas as pd\n",
    "\n",
    "# Convert the Spark DataFrame to Pandas for model training\n",
    "sampled_pd_df = sampled_df.select(all_features + [target_column]).toPandas()"
   ]
  },
  {
   "cell_type": "code",
   "execution_count": 0,
   "metadata": {
    "application/vnd.databricks.v1+cell": {
     "cellMetadata": {
      "byteLimit": 2048000,
      "rowLimit": 10000
     },
     "inputWidgets": {},
     "nuid": "64976822-aa04-4ba4-a8b5-f1c731894a31",
     "showTitle": false,
     "tableResultSettingsMap": {},
     "title": ""
    }
   },
   "outputs": [],
   "source": [
    "# Define the features and target\n",
    "X = sampled_pd_df[all_features]\n",
    "y = sampled_pd_df[target_column]"
   ]
  },
  {
   "cell_type": "code",
   "execution_count": 0,
   "metadata": {
    "application/vnd.databricks.v1+cell": {
     "cellMetadata": {
      "byteLimit": 2048000,
      "rowLimit": 10000
     },
     "inputWidgets": {},
     "nuid": "c52209e2-f86f-4b29-8232-0e453cdcc30f",
     "showTitle": false,
     "tableResultSettingsMap": {},
     "title": ""
    }
   },
   "outputs": [],
   "source": [
    "# Ensure X and y are in the correct shape\n",
    "X = np.array(X)\n",
    "y = np.array(y).ravel()"
   ]
  },
  {
   "cell_type": "code",
   "execution_count": 0,
   "metadata": {
    "application/vnd.databricks.v1+cell": {
     "cellMetadata": {
      "byteLimit": 2048000,
      "rowLimit": 10000
     },
     "inputWidgets": {},
     "nuid": "366c26f7-cfcd-4c28-944a-be93dcb65318",
     "showTitle": false,
     "tableResultSettingsMap": {},
     "title": ""
    }
   },
   "outputs": [
    {
     "output_type": "execute_result",
     "data": {
      "text/html": [
       "<style>#sk-container-id-1 {color: black;}#sk-container-id-1 pre{padding: 0;}#sk-container-id-1 div.sk-toggleable {background-color: white;}#sk-container-id-1 label.sk-toggleable__label {cursor: pointer;display: block;width: 100%;margin-bottom: 0;padding: 0.3em;box-sizing: border-box;text-align: center;}#sk-container-id-1 label.sk-toggleable__label-arrow:before {content: \"▸\";float: left;margin-right: 0.25em;color: #696969;}#sk-container-id-1 label.sk-toggleable__label-arrow:hover:before {color: black;}#sk-container-id-1 div.sk-estimator:hover label.sk-toggleable__label-arrow:before {color: black;}#sk-container-id-1 div.sk-toggleable__content {max-height: 0;max-width: 0;overflow: hidden;text-align: left;background-color: #f0f8ff;}#sk-container-id-1 div.sk-toggleable__content pre {margin: 0.2em;color: black;border-radius: 0.25em;background-color: #f0f8ff;}#sk-container-id-1 input.sk-toggleable__control:checked~div.sk-toggleable__content {max-height: 200px;max-width: 100%;overflow: auto;}#sk-container-id-1 input.sk-toggleable__control:checked~label.sk-toggleable__label-arrow:before {content: \"▾\";}#sk-container-id-1 div.sk-estimator input.sk-toggleable__control:checked~label.sk-toggleable__label {background-color: #d4ebff;}#sk-container-id-1 div.sk-label input.sk-toggleable__control:checked~label.sk-toggleable__label {background-color: #d4ebff;}#sk-container-id-1 input.sk-hidden--visually {border: 0;clip: rect(1px 1px 1px 1px);clip: rect(1px, 1px, 1px, 1px);height: 1px;margin: -1px;overflow: hidden;padding: 0;position: absolute;width: 1px;}#sk-container-id-1 div.sk-estimator {font-family: monospace;background-color: #f0f8ff;border: 1px dotted black;border-radius: 0.25em;box-sizing: border-box;margin-bottom: 0.5em;}#sk-container-id-1 div.sk-estimator:hover {background-color: #d4ebff;}#sk-container-id-1 div.sk-parallel-item::after {content: \"\";width: 100%;border-bottom: 1px solid gray;flex-grow: 1;}#sk-container-id-1 div.sk-label:hover label.sk-toggleable__label {background-color: #d4ebff;}#sk-container-id-1 div.sk-serial::before {content: \"\";position: absolute;border-left: 1px solid gray;box-sizing: border-box;top: 0;bottom: 0;left: 50%;z-index: 0;}#sk-container-id-1 div.sk-serial {display: flex;flex-direction: column;align-items: center;background-color: white;padding-right: 0.2em;padding-left: 0.2em;position: relative;}#sk-container-id-1 div.sk-item {position: relative;z-index: 1;}#sk-container-id-1 div.sk-parallel {display: flex;align-items: stretch;justify-content: center;background-color: white;position: relative;}#sk-container-id-1 div.sk-item::before, #sk-container-id-1 div.sk-parallel-item::before {content: \"\";position: absolute;border-left: 1px solid gray;box-sizing: border-box;top: 0;bottom: 0;left: 50%;z-index: -1;}#sk-container-id-1 div.sk-parallel-item {display: flex;flex-direction: column;z-index: 1;position: relative;background-color: white;}#sk-container-id-1 div.sk-parallel-item:first-child::after {align-self: flex-end;width: 50%;}#sk-container-id-1 div.sk-parallel-item:last-child::after {align-self: flex-start;width: 50%;}#sk-container-id-1 div.sk-parallel-item:only-child::after {width: 0;}#sk-container-id-1 div.sk-dashed-wrapped {border: 1px dashed gray;margin: 0 0.4em 0.5em 0.4em;box-sizing: border-box;padding-bottom: 0.4em;background-color: white;}#sk-container-id-1 div.sk-label label {font-family: monospace;font-weight: bold;display: inline-block;line-height: 1.2em;}#sk-container-id-1 div.sk-label-container {text-align: center;}#sk-container-id-1 div.sk-container {/* jupyter's `normalize.less` sets `[hidden] { display: none; }` but bootstrap.min.css set `[hidden] { display: none !important; }` so we also need the `!important` here to be able to override the default hidden behavior on the sphinx rendered scikit-learn.org. See: https://github.com/scikit-learn/scikit-learn/issues/21755 */display: inline-block !important;position: relative;}#sk-container-id-1 div.sk-text-repr-fallback {display: none;}</style><div id=\"sk-container-id-1\" class=\"sk-top-container\"><div class=\"sk-text-repr-fallback\"><pre>XGBRegressor(base_score=None, booster=None, callbacks=None,\n",
       "             colsample_bylevel=None, colsample_bynode=None,\n",
       "             colsample_bytree=None, device=None, early_stopping_rounds=None,\n",
       "             enable_categorical=False, eval_metric=None, feature_types=None,\n",
       "             gamma=None, grow_policy=None, importance_type=None,\n",
       "             interaction_constraints=None, learning_rate=None, max_bin=None,\n",
       "             max_cat_threshold=None, max_cat_to_onehot=None,\n",
       "             max_delta_step=None, max_depth=None, max_leaves=None,\n",
       "             min_child_weight=None, missing=nan, monotone_constraints=None,\n",
       "             multi_strategy=None, n_estimators=50, n_jobs=None,\n",
       "             num_parallel_tree=None, random_state=None, ...)</pre><b>In a Jupyter environment, please rerun this cell to show the HTML representation or trust the notebook. <br />On GitHub, the HTML representation is unable to render, please try loading this page with nbviewer.org.</b></div><div class=\"sk-container\" hidden><div class=\"sk-item\"><div class=\"sk-estimator sk-toggleable\"><input class=\"sk-toggleable__control sk-hidden--visually\" id=\"sk-estimator-id-1\" type=\"checkbox\" checked><label for=\"sk-estimator-id-1\" class=\"sk-toggleable__label sk-toggleable__label-arrow\">XGBRegressor</label><div class=\"sk-toggleable__content\"><pre>XGBRegressor(base_score=None, booster=None, callbacks=None,\n",
       "             colsample_bylevel=None, colsample_bynode=None,\n",
       "             colsample_bytree=None, device=None, early_stopping_rounds=None,\n",
       "             enable_categorical=False, eval_metric=None, feature_types=None,\n",
       "             gamma=None, grow_policy=None, importance_type=None,\n",
       "             interaction_constraints=None, learning_rate=None, max_bin=None,\n",
       "             max_cat_threshold=None, max_cat_to_onehot=None,\n",
       "             max_delta_step=None, max_depth=None, max_leaves=None,\n",
       "             min_child_weight=None, missing=nan, monotone_constraints=None,\n",
       "             multi_strategy=None, n_estimators=50, n_jobs=None,\n",
       "             num_parallel_tree=None, random_state=None, ...)</pre></div></div></div></div></div>"
      ],
      "text/plain": [
       "XGBRegressor(base_score=None, booster=None, callbacks=None,\n",
       "             colsample_bylevel=None, colsample_bynode=None,\n",
       "             colsample_bytree=None, device=None, early_stopping_rounds=None,\n",
       "             enable_categorical=False, eval_metric=None, feature_types=None,\n",
       "             gamma=None, grow_policy=None, importance_type=None,\n",
       "             interaction_constraints=None, learning_rate=None, max_bin=None,\n",
       "             max_cat_threshold=None, max_cat_to_onehot=None,\n",
       "             max_delta_step=None, max_depth=None, max_leaves=None,\n",
       "             min_child_weight=None, missing=nan, monotone_constraints=None,\n",
       "             multi_strategy=None, n_estimators=50, n_jobs=None,\n",
       "             num_parallel_tree=None, random_state=None, ...)"
      ]
     },
     "execution_count": 101,
     "metadata": {},
     "output_type": "execute_result"
    }
   ],
   "source": [
    "# Train an XGBoost model\n",
    "xgb_model = xgb.XGBRegressor(objective='reg:squarederror', n_estimators=50)\n",
    "xgb_model.fit(X, y)"
   ]
  },
  {
   "cell_type": "code",
   "execution_count": 0,
   "metadata": {
    "application/vnd.databricks.v1+cell": {
     "cellMetadata": {
      "byteLimit": 2048000,
      "rowLimit": 10000
     },
     "inputWidgets": {},
     "nuid": "5d6d2591-193a-410d-9cae-bd35c86052e4",
     "showTitle": false,
     "tableResultSettingsMap": {},
     "title": ""
    }
   },
   "outputs": [],
   "source": [
    "# Use SHAP to explain the model with correct array format\n",
    "explainer = shap.Explainer(xgb_model, X)"
   ]
  },
  {
   "cell_type": "code",
   "execution_count": 0,
   "metadata": {
    "application/vnd.databricks.v1+cell": {
     "cellMetadata": {
      "byteLimit": 2048000,
      "rowLimit": 10000
     },
     "inputWidgets": {},
     "nuid": "953e05fa-9fa6-4ba8-a2a2-ae26dd05013b",
     "showTitle": false,
     "tableResultSettingsMap": {},
     "title": ""
    }
   },
   "outputs": [],
   "source": [
    "shap_values = explainer(X).values"
   ]
  },
  {
   "cell_type": "code",
   "execution_count": 0,
   "metadata": {
    "application/vnd.databricks.v1+cell": {
     "cellMetadata": {
      "byteLimit": 2048000,
      "rowLimit": 10000
     },
     "inputWidgets": {},
     "nuid": "bc83849a-7df2-4eb7-8064-e09e46e4a3a3",
     "showTitle": false,
     "tableResultSettingsMap": {},
     "title": ""
    }
   },
   "outputs": [],
   "source": [
    "from pyspark.sql.types import StructType, StructField, StringType, FloatType\n",
    "# Compute mean absolute SHAP values for each feature (importance scores) and convert to Python floats\n",
    "shap_importances = [(feature, float(np.abs(shap_values[:, i]).mean())) for i, feature in enumerate(all_features)]"
   ]
  },
  {
   "cell_type": "code",
   "execution_count": 0,
   "metadata": {
    "application/vnd.databricks.v1+cell": {
     "cellMetadata": {
      "byteLimit": 2048000,
      "rowLimit": 10000
     },
     "inputWidgets": {},
     "nuid": "830d8604-b648-4e86-a209-705f0efc62c6",
     "showTitle": false,
     "tableResultSettingsMap": {},
     "title": ""
    }
   },
   "outputs": [],
   "source": [
    "# Define schema and create a PySpark DataFrame for SHAP importances\n",
    "schema = StructType([\n",
    "    StructField(\"feature\", StringType(), True),\n",
    "    StructField(\"shap_importance\", FloatType(), True)\n",
    "])"
   ]
  },
  {
   "cell_type": "code",
   "execution_count": 0,
   "metadata": {
    "application/vnd.databricks.v1+cell": {
     "cellMetadata": {
      "byteLimit": 2048000,
      "rowLimit": 10000
     },
     "inputWidgets": {},
     "nuid": "9e0b7500-934a-4e53-9252-30355d29c865",
     "showTitle": false,
     "tableResultSettingsMap": {},
     "title": ""
    }
   },
   "outputs": [],
   "source": [
    "# Convert list to PySpark DataFrame with the specified schema\n",
    "shap_importance_df = spark.createDataFrame(shap_importances, schema=schema)"
   ]
  },
  {
   "cell_type": "code",
   "execution_count": 0,
   "metadata": {
    "application/vnd.databricks.v1+cell": {
     "cellMetadata": {
      "byteLimit": 2048000,
      "rowLimit": 10000
     },
     "inputWidgets": {},
     "nuid": "3f42e8b9-9f66-42af-98cb-d9173138715a",
     "showTitle": false,
     "tableResultSettingsMap": {},
     "title": ""
    }
   },
   "outputs": [
    {
     "output_type": "display_data",
     "data": {
      "text/html": [
       "<style scoped>\n",
       "  .table-result-container {\n",
       "    max-height: 300px;\n",
       "    overflow: auto;\n",
       "  }\n",
       "  table, th, td {\n",
       "    border: 1px solid black;\n",
       "    border-collapse: collapse;\n",
       "  }\n",
       "  th, td {\n",
       "    padding: 5px;\n",
       "  }\n",
       "  th {\n",
       "    text-align: left;\n",
       "  }\n",
       "</style><div class='table-result-container'><table class='table-result'><thead style='background-color: white'><tr><th>feature</th><th>shap_importance</th></tr></thead><tbody><tr><td>DOLocationID</td><td>0.1358158</td></tr><tr><td>PULocationID</td><td>0.3837969</td></tr><tr><td>passenger_count</td><td>0.2419425</td></tr><tr><td>trip_duration</td><td>5.517781</td></tr><tr><td>pickup_day_of_week</td><td>0.11919089</td></tr><tr><td>pickup_hour</td><td>0.77487856</td></tr><tr><td>pickup_month</td><td>0.088868536</td></tr><tr><td>temp</td><td>0.035204288</td></tr><tr><td>distance_km</td><td>2.2857487</td></tr><tr><td>is_holiday</td><td>0.01680682</td></tr><tr><td>near_airport</td><td>2.1523192</td></tr><tr><td>payment_type_index</td><td>2.203746</td></tr><tr><td>pickup_day_of_week_index</td><td>0.0</td></tr><tr><td>pickup_month_index</td><td>0.116470926</td></tr><tr><td>pickup_borough_index</td><td>0.0</td></tr><tr><td>dropoff_borough_index</td><td>0.018802535</td></tr><tr><td>is_holiday_index</td><td>0.0</td></tr><tr><td>distance_bin_index</td><td>1.0679116</td></tr><tr><td>temp_bin_index</td><td>0.0</td></tr><tr><td>time_of_day_bin_index</td><td>0.2310226</td></tr><tr><td>season_index</td><td>0.0</td></tr><tr><td>near_airport_index</td><td>0.0</td></tr><tr><td>payment_type_index</td><td>0.0</td></tr><tr><td>pickup_day_of_week_index</td><td>4.328482</td></tr><tr><td>pickup_month_index</td><td>0.0</td></tr><tr><td>pickup_borough_index</td><td>0.0</td></tr><tr><td>dropoff_borough_index</td><td>0.0</td></tr><tr><td>is_holiday_index</td><td>0.033159304</td></tr><tr><td>distance_bin_index</td><td>0.0</td></tr><tr><td>temp_bin_index</td><td>0.0038087463</td></tr><tr><td>time_of_day_bin_index</td><td>0.0</td></tr><tr><td>season_index</td><td>0.0</td></tr><tr><td>near_airport_index</td><td>0.0</td></tr></tbody></table></div>"
      ]
     },
     "metadata": {
      "application/vnd.databricks.v1+output": {
       "addedWidgets": {},
       "aggData": [],
       "aggError": "",
       "aggOverflow": false,
       "aggSchema": [],
       "aggSeriesLimitReached": false,
       "aggType": "",
       "arguments": {},
       "columnCustomDisplayInfos": {},
       "data": [
        [
         "DOLocationID",
         0.1358158
        ],
        [
         "PULocationID",
         0.3837969
        ],
        [
         "passenger_count",
         0.2419425
        ],
        [
         "trip_duration",
         5.517781
        ],
        [
         "pickup_day_of_week",
         0.11919089
        ],
        [
         "pickup_hour",
         0.77487856
        ],
        [
         "pickup_month",
         0.088868536
        ],
        [
         "temp",
         0.035204288
        ],
        [
         "distance_km",
         2.2857487
        ],
        [
         "is_holiday",
         0.01680682
        ],
        [
         "near_airport",
         2.1523192
        ],
        [
         "payment_type_index",
         2.203746
        ],
        [
         "pickup_day_of_week_index",
         0.0
        ],
        [
         "pickup_month_index",
         0.116470926
        ],
        [
         "pickup_borough_index",
         0.0
        ],
        [
         "dropoff_borough_index",
         0.018802535
        ],
        [
         "is_holiday_index",
         0.0
        ],
        [
         "distance_bin_index",
         1.0679116
        ],
        [
         "temp_bin_index",
         0.0
        ],
        [
         "time_of_day_bin_index",
         0.2310226
        ],
        [
         "season_index",
         0.0
        ],
        [
         "near_airport_index",
         0.0
        ],
        [
         "payment_type_index",
         0.0
        ],
        [
         "pickup_day_of_week_index",
         4.328482
        ],
        [
         "pickup_month_index",
         0.0
        ],
        [
         "pickup_borough_index",
         0.0
        ],
        [
         "dropoff_borough_index",
         0.0
        ],
        [
         "is_holiday_index",
         0.033159304
        ],
        [
         "distance_bin_index",
         0.0
        ],
        [
         "temp_bin_index",
         0.0038087463
        ],
        [
         "time_of_day_bin_index",
         0.0
        ],
        [
         "season_index",
         0.0
        ],
        [
         "near_airport_index",
         0.0
        ]
       ],
       "datasetInfos": [],
       "dbfsResultPath": null,
       "isJsonSchema": true,
       "metadata": {},
       "overflow": false,
       "plotOptions": {
        "customPlotOptions": {},
        "displayType": "table",
        "pivotAggregation": null,
        "pivotColumns": null,
        "xColumns": null,
        "yColumns": null
       },
       "removedWidgets": [],
       "schema": [
        {
         "metadata": "{}",
         "name": "feature",
         "type": "\"string\""
        },
        {
         "metadata": "{}",
         "name": "shap_importance",
         "type": "\"float\""
        }
       ],
       "type": "table"
      }
     },
     "output_type": "display_data"
    }
   ],
   "source": [
    "# Show SHAP feature importances\n",
    "display(shap_importance_df)"
   ]
  },
  {
   "cell_type": "markdown",
   "metadata": {
    "application/vnd.databricks.v1+cell": {
     "cellMetadata": {
      "byteLimit": 2048000,
      "rowLimit": 10000
     },
     "inputWidgets": {},
     "nuid": "49f6f2ff-79a4-4821-9dbb-0c64136d6dd1",
     "showTitle": false,
     "tableResultSettingsMap": {},
     "title": ""
    }
   },
   "source": [
    "#### Technique 7: Statistical Tests"
   ]
  },
  {
   "cell_type": "markdown",
   "metadata": {
    "application/vnd.databricks.v1+cell": {
     "cellMetadata": {
      "byteLimit": 2048000,
      "rowLimit": 10000
     },
     "inputWidgets": {},
     "nuid": "657c39d6-1a4d-4482-856f-f6ff4196bcfb",
     "showTitle": false,
     "tableResultSettingsMap": {},
     "title": ""
    }
   },
   "source": [
    "#### Chi-Square Test for categorical features"
   ]
  },
  {
   "cell_type": "code",
   "execution_count": 0,
   "metadata": {
    "application/vnd.databricks.v1+cell": {
     "cellMetadata": {
      "byteLimit": 2048000,
      "rowLimit": 10000
     },
     "inputWidgets": {},
     "nuid": "9e699a49-9eff-4453-9ad0-2c062f9925da",
     "showTitle": false,
     "tableResultSettingsMap": {},
     "title": ""
    }
   },
   "outputs": [],
   "source": [
    "# df.printSchema()"
   ]
  },
  {
   "cell_type": "code",
   "execution_count": 0,
   "metadata": {
    "application/vnd.databricks.v1+cell": {
     "cellMetadata": {
      "byteLimit": 2048000,
      "rowLimit": 10000
     },
     "inputWidgets": {},
     "nuid": "cca06a24-411b-4a01-9ffd-775a718abdaf",
     "showTitle": false,
     "tableResultSettingsMap": {},
     "title": ""
    }
   },
   "outputs": [],
   "source": [
    "# from pyspark.ml.stat import ChiSquareTest\n",
    "# from pyspark.ml.feature import VectorAssembler\n",
    "\n",
    "# # Step 1: Select relevant categorical columns for the Chi-square test\n",
    "# categorical_columns = [\n",
    "#     \"pickup_day_of_week_index\",\n",
    "#     \"distance_bin_index\",\n",
    "#     \"temp_bin_index\",\n",
    "#     \"season_index\",\n",
    "#     \"near_airport_index\"\n",
    "# ]\n",
    "\n",
    "# # Step 2: Vectorize the categorical features (you might need to ensure 'payment_type_index' is numeric)\n",
    "# assembler = VectorAssembler(\n",
    "#     inputCols=categorical_columns,\n",
    "#     outputCol=\"features\"\n",
    "# )\n",
    "\n",
    "# # Apply vector assembler to the dataframe\n",
    "# df = assembler.transform(df)\n",
    "\n",
    "# # Step 3: Perform the Chi-square test for each feature individually against the label\n",
    "# for column in categorical_columns:\n",
    "#     # Perform the Chi-square test on the vectorized features and label (payment_type_index)\n",
    "#     chi_square_result = ChiSquareTest.test(df, \"features\", \"payment_type_index\")\n",
    "    \n",
    "#     # Step 4: Show the results for the current feature\n",
    "#     chi_square_result.select(\"pValues\", \"degreesOfFreedom\", \"statistics\").show(truncate=False)\n",
    "    \n",
    "#     # Step 5: Extract and print the chi-square statistics and p-values\n",
    "#     result = chi_square_result.collect()[0]\n",
    "#     p_values = result['pValues']\n",
    "#     statistics = result['statistics']\n",
    "    \n",
    "#     print(f\"Feature: {column}\")\n",
    "#     print(f\"Chi-Square Statistic: {statistics[0]}\")\n",
    "#     print(f\"P-Value: {p_values[0]}\\n\")\n"
   ]
  },
  {
   "cell_type": "code",
   "execution_count": 0,
   "metadata": {
    "application/vnd.databricks.v1+cell": {
     "cellMetadata": {
      "byteLimit": 2048000,
      "rowLimit": 10000
     },
     "inputWidgets": {},
     "nuid": "6af211b2-3044-499e-a711-0834778f6284",
     "showTitle": false,
     "tableResultSettingsMap": {},
     "title": ""
    }
   },
   "outputs": [],
   "source": []
  },
  {
   "cell_type": "markdown",
   "metadata": {
    "application/vnd.databricks.v1+cell": {
     "cellMetadata": {
      "byteLimit": 2048000,
      "rowLimit": 10000
     },
     "inputWidgets": {},
     "nuid": "c722498b-f318-4471-89c3-111849de8602",
     "showTitle": false,
     "tableResultSettingsMap": {},
     "title": ""
    }
   },
   "source": [
    "#### ANOVA F-Test for continuous features"
   ]
  },
  {
   "cell_type": "code",
   "execution_count": 0,
   "metadata": {
    "application/vnd.databricks.v1+cell": {
     "cellMetadata": {
      "byteLimit": 2048000,
      "rowLimit": 10000
     },
     "inputWidgets": {},
     "nuid": "5436896d-ea21-431f-b32e-a46a8ecad664",
     "showTitle": false,
     "tableResultSettingsMap": {},
     "title": ""
    }
   },
   "outputs": [],
   "source": [
    "# from pyspark.ml.stat import ANOVA\n",
    "# import pandas as pd\n",
    "\n",
    "# # Define categorical features\n",
    "# categorical_cols = ['pickup_day_of_week', 'payment_type']\n",
    "\n",
    "# # Calculate ANOVA F-Test for each categorical feature\n",
    "# anova_results = {}\n",
    "# for col in categorical_cols:\n",
    "#     groups = sampled_df.groupBy(col).agg(F.collect_list(target_col).alias(\"values\"))\n",
    "#     # Create a DataFrame for ANOVA\n",
    "#     anova_df = groups.toPandas()\n",
    "\n",
    "#     f_stat, p_val = ANOVA.test(anova_df['values'], sampled_df[target_col])\n",
    "#     anova_results[col] = (f_stat, p_val)\n",
    "\n",
    "# # Display ANOVA results\n",
    "# for feature, (f_stat, p_val) in anova_results.items():\n",
    "#     print(f\"Feature: {feature}, F-Statistic: {f_stat}, P-Value: {p_val}\")\n"
   ]
  },
  {
   "cell_type": "markdown",
   "metadata": {
    "application/vnd.databricks.v1+cell": {
     "cellMetadata": {
      "byteLimit": 2048000,
      "rowLimit": 10000
     },
     "inputWidgets": {},
     "nuid": "54c944dd-f230-4d97-9bfe-6eadf66f370c",
     "showTitle": false,
     "tableResultSettingsMap": {},
     "title": ""
    }
   },
   "source": [
    "#### Mutual Information for non-linear associations"
   ]
  },
  {
   "cell_type": "code",
   "execution_count": 0,
   "metadata": {
    "application/vnd.databricks.v1+cell": {
     "cellMetadata": {
      "byteLimit": 2048000,
      "rowLimit": 10000
     },
     "inputWidgets": {},
     "nuid": "8ba95e88-6a87-4769-be17-5f68eb2dd061",
     "showTitle": false,
     "tableResultSettingsMap": {},
     "title": ""
    }
   },
   "outputs": [],
   "source": [
    "#  "
   ]
  },
  {
   "cell_type": "markdown",
   "metadata": {
    "application/vnd.databricks.v1+cell": {
     "cellMetadata": {
      "byteLimit": 2048000,
      "rowLimit": 10000
     },
     "inputWidgets": {},
     "nuid": "31095b5d-a4ef-40fb-a7ff-9f7809ad354b",
     "showTitle": false,
     "tableResultSettingsMap": {},
     "title": ""
    }
   },
   "source": [
    "#### Technique 8: Feature Selection Based on Statistical Variance"
   ]
  },
  {
   "cell_type": "code",
   "execution_count": 0,
   "metadata": {
    "application/vnd.databricks.v1+cell": {
     "cellMetadata": {
      "byteLimit": 2048000,
      "rowLimit": 10000
     },
     "inputWidgets": {},
     "nuid": "044414d2-daa8-4dc1-b793-6ef6c1ff839f",
     "showTitle": false,
     "tableResultSettingsMap": {},
     "title": ""
    }
   },
   "outputs": [
    {
     "output_type": "display_data",
     "data": {
      "text/plain": [
       "\u001B[0;31m---------------------------------------------------------------------------\u001B[0m\n",
       "\u001B[0;31mNameError\u001B[0m                                 Traceback (most recent call last)\n",
       "File \u001B[0;32m<command-3885246210596822>, line 9\u001B[0m\n",
       "\u001B[1;32m      6\u001B[0m variance_threshold \u001B[38;5;241m=\u001B[39m \u001B[38;5;241m0.05\u001B[39m  \u001B[38;5;66;03m# Adjust as needed\u001B[39;00m\n",
       "\u001B[1;32m      8\u001B[0m \u001B[38;5;66;03m# Identify numerical columns\u001B[39;00m\n",
       "\u001B[0;32m----> 9\u001B[0m numerical_columns \u001B[38;5;241m=\u001B[39m [col \u001B[38;5;28;01mfor\u001B[39;00m col, dtype \u001B[38;5;129;01min\u001B[39;00m sampled_df\u001B[38;5;241m.\u001B[39mdtypes \u001B[38;5;28;01mif\u001B[39;00m \u001B[38;5;28misinstance\u001B[39m(sampled_df\u001B[38;5;241m.\u001B[39mschema[col]\u001B[38;5;241m.\u001B[39mdataType, NumericType) \u001B[38;5;129;01mand\u001B[39;00m col \u001B[38;5;241m!=\u001B[39m target_col]\n",
       "\u001B[1;32m     11\u001B[0m \u001B[38;5;66;03m# Calculate variance for each numerical column\u001B[39;00m\n",
       "\u001B[1;32m     12\u001B[0m variance_df \u001B[38;5;241m=\u001B[39m sampled_df\u001B[38;5;241m.\u001B[39mselect(\n",
       "\u001B[1;32m     13\u001B[0m     \u001B[38;5;241m*\u001B[39m[F\u001B[38;5;241m.\u001B[39mvariance(F\u001B[38;5;241m.\u001B[39mcol(c))\u001B[38;5;241m.\u001B[39malias(c) \u001B[38;5;28;01mfor\u001B[39;00m c \u001B[38;5;129;01min\u001B[39;00m numerical_columns]\n",
       "\u001B[1;32m     14\u001B[0m )\u001B[38;5;241m.\u001B[39mtoPandas()\n",
       "\n",
       "File \u001B[0;32m<command-3885246210596822>, line 9\u001B[0m, in \u001B[0;36m<listcomp>\u001B[0;34m(.0)\u001B[0m\n",
       "\u001B[1;32m      6\u001B[0m variance_threshold \u001B[38;5;241m=\u001B[39m \u001B[38;5;241m0.05\u001B[39m  \u001B[38;5;66;03m# Adjust as needed\u001B[39;00m\n",
       "\u001B[1;32m      8\u001B[0m \u001B[38;5;66;03m# Identify numerical columns\u001B[39;00m\n",
       "\u001B[0;32m----> 9\u001B[0m numerical_columns \u001B[38;5;241m=\u001B[39m [col \u001B[38;5;28;01mfor\u001B[39;00m col, dtype \u001B[38;5;129;01min\u001B[39;00m sampled_df\u001B[38;5;241m.\u001B[39mdtypes \u001B[38;5;28;01mif\u001B[39;00m \u001B[38;5;28misinstance\u001B[39m(sampled_df\u001B[38;5;241m.\u001B[39mschema[col]\u001B[38;5;241m.\u001B[39mdataType, NumericType) \u001B[38;5;129;01mand\u001B[39;00m col \u001B[38;5;241m!=\u001B[39m target_col]\n",
       "\u001B[1;32m     11\u001B[0m \u001B[38;5;66;03m# Calculate variance for each numerical column\u001B[39;00m\n",
       "\u001B[1;32m     12\u001B[0m variance_df \u001B[38;5;241m=\u001B[39m sampled_df\u001B[38;5;241m.\u001B[39mselect(\n",
       "\u001B[1;32m     13\u001B[0m     \u001B[38;5;241m*\u001B[39m[F\u001B[38;5;241m.\u001B[39mvariance(F\u001B[38;5;241m.\u001B[39mcol(c))\u001B[38;5;241m.\u001B[39malias(c) \u001B[38;5;28;01mfor\u001B[39;00m c \u001B[38;5;129;01min\u001B[39;00m numerical_columns]\n",
       "\u001B[1;32m     14\u001B[0m )\u001B[38;5;241m.\u001B[39mtoPandas()\n",
       "\n",
       "\u001B[0;31mNameError\u001B[0m: name 'target_col' is not defined"
      ]
     },
     "metadata": {
      "application/vnd.databricks.v1+output": {
       "addedWidgets": {},
       "arguments": {},
       "datasetInfos": [],
       "jupyterProps": {
        "ename": "NameError",
        "evalue": "name 'target_col' is not defined"
       },
       "metadata": {
        "errorSummary": "<span class='ansi-red-fg'>NameError</span>: name 'target_col' is not defined"
       },
       "removedWidgets": [],
       "sqlProps": null,
       "stackFrames": [
        "\u001B[0;31m---------------------------------------------------------------------------\u001B[0m",
        "\u001B[0;31mNameError\u001B[0m                                 Traceback (most recent call last)",
        "File \u001B[0;32m<command-3885246210596822>, line 9\u001B[0m\n\u001B[1;32m      6\u001B[0m variance_threshold \u001B[38;5;241m=\u001B[39m \u001B[38;5;241m0.05\u001B[39m  \u001B[38;5;66;03m# Adjust as needed\u001B[39;00m\n\u001B[1;32m      8\u001B[0m \u001B[38;5;66;03m# Identify numerical columns\u001B[39;00m\n\u001B[0;32m----> 9\u001B[0m numerical_columns \u001B[38;5;241m=\u001B[39m [col \u001B[38;5;28;01mfor\u001B[39;00m col, dtype \u001B[38;5;129;01min\u001B[39;00m sampled_df\u001B[38;5;241m.\u001B[39mdtypes \u001B[38;5;28;01mif\u001B[39;00m \u001B[38;5;28misinstance\u001B[39m(sampled_df\u001B[38;5;241m.\u001B[39mschema[col]\u001B[38;5;241m.\u001B[39mdataType, NumericType) \u001B[38;5;129;01mand\u001B[39;00m col \u001B[38;5;241m!=\u001B[39m target_col]\n\u001B[1;32m     11\u001B[0m \u001B[38;5;66;03m# Calculate variance for each numerical column\u001B[39;00m\n\u001B[1;32m     12\u001B[0m variance_df \u001B[38;5;241m=\u001B[39m sampled_df\u001B[38;5;241m.\u001B[39mselect(\n\u001B[1;32m     13\u001B[0m     \u001B[38;5;241m*\u001B[39m[F\u001B[38;5;241m.\u001B[39mvariance(F\u001B[38;5;241m.\u001B[39mcol(c))\u001B[38;5;241m.\u001B[39malias(c) \u001B[38;5;28;01mfor\u001B[39;00m c \u001B[38;5;129;01min\u001B[39;00m numerical_columns]\n\u001B[1;32m     14\u001B[0m )\u001B[38;5;241m.\u001B[39mtoPandas()\n",
        "File \u001B[0;32m<command-3885246210596822>, line 9\u001B[0m, in \u001B[0;36m<listcomp>\u001B[0;34m(.0)\u001B[0m\n\u001B[1;32m      6\u001B[0m variance_threshold \u001B[38;5;241m=\u001B[39m \u001B[38;5;241m0.05\u001B[39m  \u001B[38;5;66;03m# Adjust as needed\u001B[39;00m\n\u001B[1;32m      8\u001B[0m \u001B[38;5;66;03m# Identify numerical columns\u001B[39;00m\n\u001B[0;32m----> 9\u001B[0m numerical_columns \u001B[38;5;241m=\u001B[39m [col \u001B[38;5;28;01mfor\u001B[39;00m col, dtype \u001B[38;5;129;01min\u001B[39;00m sampled_df\u001B[38;5;241m.\u001B[39mdtypes \u001B[38;5;28;01mif\u001B[39;00m \u001B[38;5;28misinstance\u001B[39m(sampled_df\u001B[38;5;241m.\u001B[39mschema[col]\u001B[38;5;241m.\u001B[39mdataType, NumericType) \u001B[38;5;129;01mand\u001B[39;00m col \u001B[38;5;241m!=\u001B[39m target_col]\n\u001B[1;32m     11\u001B[0m \u001B[38;5;66;03m# Calculate variance for each numerical column\u001B[39;00m\n\u001B[1;32m     12\u001B[0m variance_df \u001B[38;5;241m=\u001B[39m sampled_df\u001B[38;5;241m.\u001B[39mselect(\n\u001B[1;32m     13\u001B[0m     \u001B[38;5;241m*\u001B[39m[F\u001B[38;5;241m.\u001B[39mvariance(F\u001B[38;5;241m.\u001B[39mcol(c))\u001B[38;5;241m.\u001B[39malias(c) \u001B[38;5;28;01mfor\u001B[39;00m c \u001B[38;5;129;01min\u001B[39;00m numerical_columns]\n\u001B[1;32m     14\u001B[0m )\u001B[38;5;241m.\u001B[39mtoPandas()\n",
        "\u001B[0;31mNameError\u001B[0m: name 'target_col' is not defined"
       ],
       "type": "baseError"
      }
     },
     "output_type": "display_data"
    }
   ],
   "source": [
    "from pyspark.sql import functions as F\n",
    "from pyspark.ml.feature import VectorAssembler\n",
    "from pyspark.sql.types import NumericType\n",
    "\n",
    "# Define the variance threshold\n",
    "variance_threshold = 0.05  # Adjust as needed\n",
    "\n",
    "# Identify numerical columns\n",
    "numerical_columns = [col for col, dtype in sampled_df.dtypes if isinstance(sampled_df.schema[col].dataType, NumericType) and col != target_col]\n",
    "\n",
    "# Calculate variance for each numerical column\n",
    "variance_df = sampled_df.select(\n",
    "    *[F.variance(F.col(c)).alias(c) for c in numerical_columns]\n",
    ").toPandas()\n",
    "\n",
    "# Filter columns based on the variance threshold\n",
    "selected_features = [col for col, var in variance_df.loc[0].items() if var > variance_threshold]\n",
    "\n",
    "# Display selected features\n",
    "print(\"Selected Features based on Variance:\")\n",
    "print(selected_features)\n"
   ]
  },
  {
   "cell_type": "markdown",
   "metadata": {
    "application/vnd.databricks.v1+cell": {
     "cellMetadata": {
      "byteLimit": 2048000,
      "rowLimit": 10000
     },
     "inputWidgets": {},
     "nuid": "09ad0e84-f373-4573-a028-845bba78ce8c",
     "showTitle": false,
     "tableResultSettingsMap": {},
     "title": ""
    }
   },
   "source": [
    "#### Merge Feature Importances"
   ]
  },
  {
   "cell_type": "code",
   "execution_count": 0,
   "metadata": {
    "application/vnd.databricks.v1+cell": {
     "cellMetadata": {
      "byteLimit": 2048000,
      "rowLimit": 10000
     },
     "inputWidgets": {},
     "nuid": "ab567d78-1ab8-445f-95f4-6a0a7207d04c",
     "showTitle": false,
     "tableResultSettingsMap": {},
     "title": ""
    }
   },
   "outputs": [],
   "source": [
    "final_importance_df = rf_importance_df \\\n",
    "    .join(gbt_importance_df, on=\"feature\", how=\"outer\") \\\n",
    "    .join(lasso_importance_df, on=\"feature\", how=\"outer\") \\\n",
    "    .join(rfe_importance_df, on=\"feature\", how=\"outer\") \\\n",
    "    .join(shap_importance_df, on=\"feature\", how=\"outer\") \\\n",
    "    .fillna(0)"
   ]
  },
  {
   "cell_type": "code",
   "execution_count": 0,
   "metadata": {
    "application/vnd.databricks.v1+cell": {
     "cellMetadata": {
      "byteLimit": 2048000,
      "rowLimit": 10000
     },
     "inputWidgets": {},
     "nuid": "f9ab76bd-c0e7-4ad5-b641-9e825dc02d37",
     "showTitle": false,
     "tableResultSettingsMap": {},
     "title": ""
    }
   },
   "outputs": [],
   "source": [
    "from pyspark.sql.functions import col\n",
    "# Calculate average importance across all methods\n",
    "final_importance_df = final_importance_df.withColumn(\n",
    "    \"average_importance\", \n",
    "    (col(\"rf_importance\") + col(\"gbt_importance\") + col(\"lasso_importance\") +\n",
    "     col(\"rfe_score\") + col(\"shap_importance\")) / 5\n",
    ")"
   ]
  },
  {
   "cell_type": "code",
   "execution_count": 0,
   "metadata": {
    "application/vnd.databricks.v1+cell": {
     "cellMetadata": {
      "byteLimit": 2048000,
      "rowLimit": 10000
     },
     "inputWidgets": {},
     "nuid": "61cbc9d7-5994-4aeb-addd-22c17f63b227",
     "showTitle": false,
     "tableResultSettingsMap": {},
     "title": ""
    }
   },
   "outputs": [],
   "source": [
    "# Show the final DataFrame with average feature importance\n",
    "display(final_importance_df.orderBy(\"average_importance\", ascending=False))"
   ]
  },
  {
   "cell_type": "code",
   "execution_count": 0,
   "metadata": {
    "application/vnd.databricks.v1+cell": {
     "cellMetadata": {
      "byteLimit": 2048000,
      "rowLimit": 10000
     },
     "inputWidgets": {},
     "nuid": "8c430df0-cf33-4c8a-8f73-66bff2ac4c38",
     "showTitle": false,
     "tableResultSettingsMap": {},
     "title": ""
    }
   },
   "outputs": [],
   "source": [
    "import matplotlib.pyplot as plt\n",
    "import seaborn as sns\n",
    "import pandas as pd\n",
    "\n",
    "# Collect the Spark DataFrame into Pandas for plotting\n",
    "final_importance_pd = final_importance_df.select(\"feature\", \"average_importance\").toPandas()\n",
    "\n",
    "# Sort values by average_importance in descending order to have the highest on top\n",
    "final_importance_pd = final_importance_pd.sort_values(by=\"average_importance\", ascending=False)\n",
    "\n",
    "# Create the horizontal bar plot\n",
    "plt.figure(figsize=(10, 6))\n",
    "sns.barplot(data=final_importance_pd, y='feature', x='average_importance', palette='viridis')\n",
    "\n",
    "# Set the plot labels and title\n",
    "plt.title('Average Feature Importance Across Methods', fontsize=16)\n",
    "plt.xlabel('Average Importance', fontsize=12)\n",
    "plt.ylabel('Feature', fontsize=12)\n",
    "\n",
    "# Show the plot\n",
    "plt.tight_layout()  # Adjust layout to avoid label overlap\n",
    "plt.show()"
   ]
  },
  {
   "cell_type": "code",
   "execution_count": 0,
   "metadata": {
    "application/vnd.databricks.v1+cell": {
     "cellMetadata": {
      "byteLimit": 2048000,
      "rowLimit": 10000
     },
     "inputWidgets": {},
     "nuid": "c10f733c-f7c3-4ab8-9a84-24e49f2ff54d",
     "showTitle": false,
     "tableResultSettingsMap": {},
     "title": ""
    }
   },
   "outputs": [],
   "source": [
    "display(final_importance_pd)"
   ]
  },
  {
   "cell_type": "code",
   "execution_count": 0,
   "metadata": {
    "application/vnd.databricks.v1+cell": {
     "cellMetadata": {
      "byteLimit": 2048000,
      "rowLimit": 10000
     },
     "inputWidgets": {},
     "nuid": "932466c3-63a4-44a0-bd1b-21d3f668b604",
     "showTitle": false,
     "tableResultSettingsMap": {},
     "title": ""
    }
   },
   "outputs": [],
   "source": [
    "# # Export reduced feature dataset if needed\n",
    "# selected_features = [row[\"feature\"] for row in final_fi_df.select(\"feature\").collect()]\n",
    "# reduced_data = transformed_data.select([\"total_amount\", \"features\"] + selected_features)\n"
   ]
  },
  {
   "cell_type": "code",
   "execution_count": 0,
   "metadata": {
    "application/vnd.databricks.v1+cell": {
     "cellMetadata": {
      "byteLimit": 2048000,
      "rowLimit": 10000
     },
     "inputWidgets": {},
     "nuid": "66f85db6-4632-4f8e-a3bb-3d48a62dd39f",
     "showTitle": false,
     "tableResultSettingsMap": {},
     "title": ""
    }
   },
   "outputs": [],
   "source": [
    "display(taxi_df_cleaned)"
   ]
  },
  {
   "cell_type": "code",
   "execution_count": 0,
   "metadata": {
    "application/vnd.databricks.v1+cell": {
     "cellMetadata": {
      "byteLimit": 2048000,
      "rowLimit": 10000
     },
     "inputWidgets": {},
     "nuid": "7f85b772-600a-4088-a793-08974405ce37",
     "showTitle": false,
     "tableResultSettingsMap": {},
     "title": ""
    }
   },
   "outputs": [],
   "source": [
    "# Select only the columns needed for price prediction\n",
    "taxi_final_df_cleaned = taxi_df_cleaned.select(\n",
    "    'passenger_count',\n",
    "    'payment_type',\n",
    "    'total_amount',\n",
    "    'trip_duration',\n",
    "    'pickup_day_of_week',\n",
    "    'pickup_hour',\n",
    "    'pickup_month',\n",
    "    'pickup_borough',\n",
    "    'dropoff_borough',\n",
    "    'is_holiday',\n",
    "    'distance_bin',\n",
    "    'time_of_day_bin',\n",
    "    'near_airport'\n",
    ")\n"
   ]
  },
  {
   "cell_type": "code",
   "execution_count": 0,
   "metadata": {
    "application/vnd.databricks.v1+cell": {
     "cellMetadata": {
      "byteLimit": 2048000,
      "rowLimit": 10000
     },
     "inputWidgets": {},
     "nuid": "58433ac9-bbc9-4d56-a645-791f1a627b8d",
     "showTitle": false,
     "tableResultSettingsMap": {},
     "title": ""
    }
   },
   "outputs": [],
   "source": [
    "display(taxi_final_df_cleaned)"
   ]
  },
  {
   "cell_type": "code",
   "execution_count": 0,
   "metadata": {
    "application/vnd.databricks.v1+cell": {
     "cellMetadata": {
      "byteLimit": 2048000,
      "rowLimit": 10000
     },
     "inputWidgets": {},
     "nuid": "9bf32be2-53b9-49f9-856c-8a04cc704c26",
     "showTitle": false,
     "tableResultSettingsMap": {},
     "title": ""
    }
   },
   "outputs": [
    {
     "output_type": "stream",
     "name": "stdout",
     "output_type": "stream",
     "text": [
      "Shape: (35864766, 13)\n"
     ]
    }
   ],
   "source": [
    "# Check the Shape and Schema\n",
    "# Get the number of rows and columns\n",
    "num_rows = taxi_final_df_cleaned.count()\n",
    "num_cols = len(taxi_final_df_cleaned.columns)\n",
    "print(f\"Shape: ({num_rows}, {num_cols})\")"
   ]
  },
  {
   "cell_type": "code",
   "execution_count": 0,
   "metadata": {
    "application/vnd.databricks.v1+cell": {
     "cellMetadata": {
      "byteLimit": 2048000,
      "rowLimit": 10000
     },
     "inputWidgets": {},
     "nuid": "b4edf84c-4040-426b-b300-d145a1c253ce",
     "showTitle": false,
     "tableResultSettingsMap": {},
     "title": ""
    }
   },
   "outputs": [],
   "source": [
    "# Define a more descriptive Delta Lake storage path\n",
    "delta_path = \"/dbfs/FileStore/tables/taxi_final_df_cleaned/\"\n",
    "# Write the DataFrame to Delta format\n",
    "taxi_final_df_cleaned.write.format(\"delta\").mode(\"overwrite\").option(\"overwriteSchema\", \"true\").save(delta_path)"
   ]
  }
 ],
 "metadata": {
  "application/vnd.databricks.v1+notebook": {
   "dashboards": [],
   "environmentMetadata": null,
   "language": "python",
   "notebookMetadata": {
    "pythonIndentUnit": 4
   },
   "notebookName": "09_Feature_selection",
   "widgets": {}
  },
  "language_info": {
   "name": "python"
  }
 },
 "nbformat": 4,
 "nbformat_minor": 0
}
