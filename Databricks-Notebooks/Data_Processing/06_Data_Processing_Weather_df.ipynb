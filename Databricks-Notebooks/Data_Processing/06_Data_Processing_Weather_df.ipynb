{
 "cells": [
  {
   "cell_type": "code",
   "execution_count": 0,
   "metadata": {
    "application/vnd.databricks.v1+cell": {
     "cellMetadata": {
      "byteLimit": 2048000,
      "rowLimit": 10000
     },
     "inputWidgets": {},
     "nuid": "4eb85fd7-397a-4c3b-a1b8-87cc01c07d70",
     "showTitle": false,
     "tableResultSettingsMap": {},
     "title": ""
    }
   },
   "outputs": [],
   "source": [
    "from pyspark.sql import SparkSession\n",
    "\n",
    "# Initialize Spark session\n",
    "spark = SparkSession.builder.appName(\"NYC Taxi Fare Prediction\").getOrCreate()"
   ]
  },
  {
   "cell_type": "code",
   "execution_count": 0,
   "metadata": {
    "application/vnd.databricks.v1+cell": {
     "cellMetadata": {
      "byteLimit": 2048000,
      "rowLimit": 10000
     },
     "inputWidgets": {},
     "nuid": "dabf9d91-ac45-4f9f-9a8f-c8650816b52d",
     "showTitle": false,
     "tableResultSettingsMap": {},
     "title": ""
    }
   },
   "outputs": [],
   "source": [
    "from pyspark.sql import functions as F\n",
    "import requests\n",
    "import pandas as pd\n",
    "\n",
    "# Replace with your API Key from Visual Crossing\n",
    "api_key = '6ZBRRE47XM5UHNVS7X7G53ZU5'\n",
    "url = f\"https://weather.visualcrossing.com/VisualCrossingWebServices/rest/services/timeline/NewYork/2023-01-01/2023-12-31?unitGroup=metric&key={api_key}&include=days\""
   ]
  },
  {
   "cell_type": "code",
   "execution_count": 0,
   "metadata": {
    "application/vnd.databricks.v1+cell": {
     "cellMetadata": {
      "byteLimit": 2048000,
      "rowLimit": 10000
     },
     "inputWidgets": {},
     "nuid": "216c7088-2b24-4be3-a7b4-7ebc4638d4da",
     "showTitle": false,
     "tableResultSettingsMap": {},
     "title": ""
    }
   },
   "outputs": [
    {
     "output_type": "execute_result",
     "data": {
      "text/plain": [
       "[FileInfo(path='dbfs:/dbfs/FileStore/tables/Data_Processing_Pulic_Holiday/_delta_log/', name='_delta_log/', size=0, modificationTime=1732620017548),\n",
       " FileInfo(path='dbfs:/dbfs/FileStore/tables/Data_Processing_Pulic_Holiday/part-00000-aac73e49-f7df-476d-a4c9-43498cba8396.c000.snappy.parquet', name='part-00000-aac73e49-f7df-476d-a4c9-43498cba8396.c000.snappy.parquet', size=100300018, modificationTime=1732619883000),\n",
       " FileInfo(path='dbfs:/dbfs/FileStore/tables/Data_Processing_Pulic_Holiday/part-00001-a39aa07f-4285-47a9-95dd-16374fa5d23c.c000.snappy.parquet', name='part-00001-a39aa07f-4285-47a9-95dd-16374fa5d23c.c000.snappy.parquet', size=121560585, modificationTime=1732619883000),\n",
       " FileInfo(path='dbfs:/dbfs/FileStore/tables/Data_Processing_Pulic_Holiday/part-00002-98f02068-ba39-4099-b7ee-476939fd075f.c000.snappy.parquet', name='part-00002-98f02068-ba39-4099-b7ee-476939fd075f.c000.snappy.parquet', size=127249283, modificationTime=1732619883000),\n",
       " FileInfo(path='dbfs:/dbfs/FileStore/tables/Data_Processing_Pulic_Holiday/part-00003-21aed816-b8ea-4454-a963-3a17a1275d8c.c000.snappy.parquet', name='part-00003-21aed816-b8ea-4454-a963-3a17a1275d8c.c000.snappy.parquet', size=111872414, modificationTime=1732619883000),\n",
       " FileInfo(path='dbfs:/dbfs/FileStore/tables/Data_Processing_Pulic_Holiday/part-00004-eb97f1ce-aa80-4f55-9040-f3d273386306.c000.snappy.parquet', name='part-00004-eb97f1ce-aa80-4f55-9040-f3d273386306.c000.snappy.parquet', size=101621122, modificationTime=1732619888000),\n",
       " FileInfo(path='dbfs:/dbfs/FileStore/tables/Data_Processing_Pulic_Holiday/part-00005-57b36981-d339-4206-b307-4dab9c63b615.c000.snappy.parquet', name='part-00005-57b36981-d339-4206-b307-4dab9c63b615.c000.snappy.parquet', size=88667425, modificationTime=1732619891000),\n",
       " FileInfo(path='dbfs:/dbfs/FileStore/tables/Data_Processing_Pulic_Holiday/part-00006-d124ff35-b6be-4534-a1c2-4e4f632e7ed8.c000.snappy.parquet', name='part-00006-d124ff35-b6be-4534-a1c2-4e4f632e7ed8.c000.snappy.parquet', size=112070012, modificationTime=1732619892000),\n",
       " FileInfo(path='dbfs:/dbfs/FileStore/tables/Data_Processing_Pulic_Holiday/part-00007-a68a1e5a-f9ca-4126-9f5f-262c2fac562f.c000.snappy.parquet', name='part-00007-a68a1e5a-f9ca-4126-9f5f-262c2fac562f.c000.snappy.parquet', size=116267327, modificationTime=1732619892000),\n",
       " FileInfo(path='dbfs:/dbfs/FileStore/tables/Data_Processing_Pulic_Holiday/part-00008-0defb72e-1c26-46fd-9d05-851a16140524.c000.snappy.parquet', name='part-00008-0defb72e-1c26-46fd-9d05-851a16140524.c000.snappy.parquet', size=133776691, modificationTime=1732619893000),\n",
       " FileInfo(path='dbfs:/dbfs/FileStore/tables/Data_Processing_Pulic_Holiday/part-00009-1d2f997c-2900-4fea-8912-f489d4e24533.c000.snappy.parquet', name='part-00009-1d2f997c-2900-4fea-8912-f489d4e24533.c000.snappy.parquet', size=111626968, modificationTime=1732619896000),\n",
       " FileInfo(path='dbfs:/dbfs/FileStore/tables/Data_Processing_Pulic_Holiday/part-00010-f2797c2b-898c-4412-a2bd-2bc6932fa1b4.c000.snappy.parquet', name='part-00010-f2797c2b-898c-4412-a2bd-2bc6932fa1b4.c000.snappy.parquet', size=124574007, modificationTime=1732619897000),\n",
       " FileInfo(path='dbfs:/dbfs/FileStore/tables/Data_Processing_Pulic_Holiday/part-00011-3373c37d-0d20-4f36-9684-b8af86b1949a.c000.snappy.parquet', name='part-00011-3373c37d-0d20-4f36-9684-b8af86b1949a.c000.snappy.parquet', size=111555746, modificationTime=1732619898000)]"
      ]
     },
     "execution_count": 3,
     "metadata": {},
     "output_type": "execute_result"
    }
   ],
   "source": [
    "# List all files in the specified DBFS directory\n",
    "dbutils.fs.ls(\"dbfs:/dbfs/FileStore/tables/Data_Processing_Pulic_Holiday/\")"
   ]
  },
  {
   "cell_type": "code",
   "execution_count": 0,
   "metadata": {
    "application/vnd.databricks.v1+cell": {
     "cellMetadata": {
      "byteLimit": 2048000,
      "rowLimit": 10000
     },
     "inputWidgets": {},
     "nuid": "22deceeb-fbbb-42a9-a541-d2325df868c5",
     "showTitle": false,
     "tableResultSettingsMap": {},
     "title": ""
    }
   },
   "outputs": [
    {
     "output_type": "display_data",
     "data": {
      "text/html": [
       "<style scoped>\n",
       "  .table-result-container {\n",
       "    max-height: 300px;\n",
       "    overflow: auto;\n",
       "  }\n",
       "  table, th, td {\n",
       "    border: 1px solid black;\n",
       "    border-collapse: collapse;\n",
       "  }\n",
       "  th, td {\n",
       "    padding: 5px;\n",
       "  }\n",
       "  th {\n",
       "    text-align: left;\n",
       "  }\n",
       "</style><div class='table-result-container'><table class='table-result'><thead style='background-color: white'><tr><th>DOLocationID</th><th>PULocationID</th><th>pickup_datetime</th><th>dropoff_datetime</th><th>passenger_count</th><th>trip_distance</th><th>payment_type</th><th>fare_amount</th><th>tolls_amount</th><th>improvement_surcharge</th><th>total_amount</th><th>trip_duration</th><th>pickup_day_of_week</th><th>pickup_hour</th><th>Month_Num</th><th>pickup_month</th><th>dropoff_hour</th><th>dropoff_day_of_week</th><th>dropoff_month</th><th>dropoff_week_of_year</th><th>pickup_date</th><th>pickup_time</th><th>dropoff_date</th><th>dropoff_time</th><th>pickup_latitude</th><th>pickup_longitude</th><th>dropoff_latitude</th><th>dropoff_longitude</th><th>distance_km</th><th>pickup_borough</th><th>pickup_zone</th><th>pickup_service_zone</th><th>LocationID</th><th>dropoff_borough</th><th>dropoff_zone</th><th>dropoff_service_zone</th><th>holidayName</th><th>normalizeHolidayName</th><th>is_holiday</th></tr></thead><tbody><tr><td>50</td><td>43</td><td>2023-10-09T09:35:28Z</td><td>2023-10-09T09:45:20Z</td><td>3</td><td>1.7</td><td>2</td><td>10.7</td><td>0.0</td><td>1.0</td><td>14.7</td><td>9.866667</td><td>2</td><td>9</td><td>10</td><td>10</td><td>9</td><td>2</td><td>10</td><td>41</td><td>2023-10-09</td><td>09:35:28</td><td>2023-10-09</td><td>09:45:20</td><td>40.782478099747884</td><td>-73.9655535654591</td><td>40.76623772504185</td><td>-73.99513522075515</td><td>3.0766876214201546</td><td>Manhattan</td><td>Central Park</td><td>Yellow Zone</td><td>50</td><td>Manhattan</td><td>Clinton West</td><td>Yellow Zone</td><td>Columbus Day</td><td>Columbus Day</td><td>1</td></tr><tr><td>236</td><td>43</td><td>2023-10-09T11:08:31Z</td><td>2023-10-09T11:31:08Z</td><td>1</td><td>1.63</td><td>1</td><td>19.8</td><td>0.0</td><td>1.0</td><td>30.94</td><td>22.616667</td><td>2</td><td>11</td><td>10</td><td>10</td><td>11</td><td>2</td><td>10</td><td>41</td><td>2023-10-09</td><td>11:08:31</td><td>2023-10-09</td><td>11:31:08</td><td>40.782478099747884</td><td>-73.9655535654591</td><td>40.780436437189955</td><td>-73.95701169835736</td><td>0.7541840936610109</td><td>Manhattan</td><td>Central Park</td><td>Yellow Zone</td><td>236</td><td>Manhattan</td><td>Upper East Side North</td><td>Yellow Zone</td><td>Columbus Day</td><td>Columbus Day</td><td>1</td></tr><tr><td>48</td><td>43</td><td>2023-10-09T12:11:13Z</td><td>2023-10-09T12:34:21Z</td><td>1</td><td>2.8</td><td>1</td><td>18.4</td><td>0.0</td><td>1.0</td><td>26.85</td><td>23.133333</td><td>2</td><td>12</td><td>10</td><td>10</td><td>12</td><td>2</td><td>10</td><td>41</td><td>2023-10-09</td><td>12:11:13</td><td>2023-10-09</td><td>12:34:21</td><td>40.782478099747884</td><td>-73.9655535654591</td><td>40.76225275531935</td><td>-73.98984464313298</td><td>3.040063819125508</td><td>Manhattan</td><td>Central Park</td><td>Yellow Zone</td><td>48</td><td>Manhattan</td><td>Clinton East</td><td>Yellow Zone</td><td>Columbus Day</td><td>Columbus Day</td><td>1</td></tr><tr><td>142</td><td>43</td><td>2023-10-09T13:26:51Z</td><td>2023-10-09T13:39:11Z</td><td>1</td><td>1.87</td><td>1</td><td>13.5</td><td>0.0</td><td>1.0</td><td>21.88</td><td>12.333333</td><td>2</td><td>13</td><td>10</td><td>10</td><td>13</td><td>2</td><td>10</td><td>41</td><td>2023-10-09</td><td>13:26:51</td><td>2023-10-09</td><td>13:39:11</td><td>40.782478099747884</td><td>-73.9655535654591</td><td>40.77363329302708</td><td>-73.98153220639182</td><td>1.6665688371988927</td><td>Manhattan</td><td>Central Park</td><td>Yellow Zone</td><td>142</td><td>Manhattan</td><td>Lincoln Square East</td><td>Yellow Zone</td><td>Columbus Day</td><td>Columbus Day</td><td>1</td></tr><tr><td>43</td><td>43</td><td>2023-10-09T16:57:14Z</td><td>2023-10-09T16:58:32Z</td><td>1</td><td>0.2</td><td>2</td><td>3.7</td><td>0.0</td><td>1.0</td><td>7.7</td><td>1.3</td><td>2</td><td>16</td><td>10</td><td>10</td><td>16</td><td>2</td><td>10</td><td>41</td><td>2023-10-09</td><td>16:57:14</td><td>2023-10-09</td><td>16:58:32</td><td>40.782478099747884</td><td>-73.9655535654591</td><td>40.782478099747884</td><td>-73.9655535654591</td><td>0.0</td><td>Manhattan</td><td>Central Park</td><td>Yellow Zone</td><td>43</td><td>Manhattan</td><td>Central Park</td><td>Yellow Zone</td><td>Columbus Day</td><td>Columbus Day</td><td>1</td></tr></tbody></table></div>"
      ]
     },
     "metadata": {
      "application/vnd.databricks.v1+output": {
       "addedWidgets": {},
       "aggData": [],
       "aggError": "",
       "aggOverflow": false,
       "aggSchema": [],
       "aggSeriesLimitReached": false,
       "aggType": "",
       "arguments": {},
       "columnCustomDisplayInfos": {},
       "data": [
        [
         50,
         43,
         "2023-10-09T09:35:28Z",
         "2023-10-09T09:45:20Z",
         3,
         1.7,
         "2",
         10.7,
         0.0,
         1.0,
         14.7,
         9.866667,
         2,
         9,
         10,
         10,
         9,
         2,
         10,
         41,
         "2023-10-09",
         "09:35:28",
         "2023-10-09",
         "09:45:20",
         40.782478099747884,
         -73.9655535654591,
         40.76623772504185,
         -73.99513522075515,
         3.0766876214201546,
         "Manhattan",
         "Central Park",
         "Yellow Zone",
         50,
         "Manhattan",
         "Clinton West",
         "Yellow Zone",
         "Columbus Day",
         "Columbus Day",
         1
        ],
        [
         236,
         43,
         "2023-10-09T11:08:31Z",
         "2023-10-09T11:31:08Z",
         1,
         1.63,
         "1",
         19.8,
         0.0,
         1.0,
         30.94,
         22.616667,
         2,
         11,
         10,
         10,
         11,
         2,
         10,
         41,
         "2023-10-09",
         "11:08:31",
         "2023-10-09",
         "11:31:08",
         40.782478099747884,
         -73.9655535654591,
         40.780436437189955,
         -73.95701169835736,
         0.7541840936610109,
         "Manhattan",
         "Central Park",
         "Yellow Zone",
         236,
         "Manhattan",
         "Upper East Side North",
         "Yellow Zone",
         "Columbus Day",
         "Columbus Day",
         1
        ],
        [
         48,
         43,
         "2023-10-09T12:11:13Z",
         "2023-10-09T12:34:21Z",
         1,
         2.8,
         "1",
         18.4,
         0.0,
         1.0,
         26.85,
         23.133333,
         2,
         12,
         10,
         10,
         12,
         2,
         10,
         41,
         "2023-10-09",
         "12:11:13",
         "2023-10-09",
         "12:34:21",
         40.782478099747884,
         -73.9655535654591,
         40.76225275531935,
         -73.98984464313298,
         3.040063819125508,
         "Manhattan",
         "Central Park",
         "Yellow Zone",
         48,
         "Manhattan",
         "Clinton East",
         "Yellow Zone",
         "Columbus Day",
         "Columbus Day",
         1
        ],
        [
         142,
         43,
         "2023-10-09T13:26:51Z",
         "2023-10-09T13:39:11Z",
         1,
         1.87,
         "1",
         13.5,
         0.0,
         1.0,
         21.88,
         12.333333,
         2,
         13,
         10,
         10,
         13,
         2,
         10,
         41,
         "2023-10-09",
         "13:26:51",
         "2023-10-09",
         "13:39:11",
         40.782478099747884,
         -73.9655535654591,
         40.77363329302708,
         -73.98153220639182,
         1.6665688371988927,
         "Manhattan",
         "Central Park",
         "Yellow Zone",
         142,
         "Manhattan",
         "Lincoln Square East",
         "Yellow Zone",
         "Columbus Day",
         "Columbus Day",
         1
        ],
        [
         43,
         43,
         "2023-10-09T16:57:14Z",
         "2023-10-09T16:58:32Z",
         1,
         0.2,
         "2",
         3.7,
         0.0,
         1.0,
         7.7,
         1.3,
         2,
         16,
         10,
         10,
         16,
         2,
         10,
         41,
         "2023-10-09",
         "16:57:14",
         "2023-10-09",
         "16:58:32",
         40.782478099747884,
         -73.9655535654591,
         40.782478099747884,
         -73.9655535654591,
         0.0,
         "Manhattan",
         "Central Park",
         "Yellow Zone",
         43,
         "Manhattan",
         "Central Park",
         "Yellow Zone",
         "Columbus Day",
         "Columbus Day",
         1
        ]
       ],
       "datasetInfos": [],
       "dbfsResultPath": null,
       "isJsonSchema": true,
       "metadata": {},
       "overflow": false,
       "plotOptions": {
        "customPlotOptions": {},
        "displayType": "table",
        "pivotAggregation": null,
        "pivotColumns": null,
        "xColumns": null,
        "yColumns": null
       },
       "removedWidgets": [],
       "schema": [
        {
         "metadata": "{}",
         "name": "DOLocationID",
         "type": "\"integer\""
        },
        {
         "metadata": "{}",
         "name": "PULocationID",
         "type": "\"integer\""
        },
        {
         "metadata": "{}",
         "name": "pickup_datetime",
         "type": "\"timestamp\""
        },
        {
         "metadata": "{}",
         "name": "dropoff_datetime",
         "type": "\"timestamp\""
        },
        {
         "metadata": "{}",
         "name": "passenger_count",
         "type": "\"integer\""
        },
        {
         "metadata": "{}",
         "name": "trip_distance",
         "type": "\"float\""
        },
        {
         "metadata": "{}",
         "name": "payment_type",
         "type": "\"string\""
        },
        {
         "metadata": "{}",
         "name": "fare_amount",
         "type": "\"float\""
        },
        {
         "metadata": "{}",
         "name": "tolls_amount",
         "type": "\"float\""
        },
        {
         "metadata": "{}",
         "name": "improvement_surcharge",
         "type": "\"float\""
        },
        {
         "metadata": "{}",
         "name": "total_amount",
         "type": "\"float\""
        },
        {
         "metadata": "{}",
         "name": "trip_duration",
         "type": "\"float\""
        },
        {
         "metadata": "{}",
         "name": "pickup_day_of_week",
         "type": "\"integer\""
        },
        {
         "metadata": "{}",
         "name": "pickup_hour",
         "type": "\"integer\""
        },
        {
         "metadata": "{}",
         "name": "Month_Num",
         "type": "\"integer\""
        },
        {
         "metadata": "{}",
         "name": "pickup_month",
         "type": "\"integer\""
        },
        {
         "metadata": "{}",
         "name": "dropoff_hour",
         "type": "\"integer\""
        },
        {
         "metadata": "{}",
         "name": "dropoff_day_of_week",
         "type": "\"integer\""
        },
        {
         "metadata": "{}",
         "name": "dropoff_month",
         "type": "\"integer\""
        },
        {
         "metadata": "{}",
         "name": "dropoff_week_of_year",
         "type": "\"integer\""
        },
        {
         "metadata": "{}",
         "name": "pickup_date",
         "type": "\"date\""
        },
        {
         "metadata": "{}",
         "name": "pickup_time",
         "type": "\"string\""
        },
        {
         "metadata": "{}",
         "name": "dropoff_date",
         "type": "\"string\""
        },
        {
         "metadata": "{}",
         "name": "dropoff_time",
         "type": "\"string\""
        },
        {
         "metadata": "{}",
         "name": "pickup_latitude",
         "type": "\"double\""
        },
        {
         "metadata": "{}",
         "name": "pickup_longitude",
         "type": "\"double\""
        },
        {
         "metadata": "{}",
         "name": "dropoff_latitude",
         "type": "\"double\""
        },
        {
         "metadata": "{}",
         "name": "dropoff_longitude",
         "type": "\"double\""
        },
        {
         "metadata": "{}",
         "name": "distance_km",
         "type": "\"double\""
        },
        {
         "metadata": "{}",
         "name": "pickup_borough",
         "type": "\"string\""
        },
        {
         "metadata": "{}",
         "name": "pickup_zone",
         "type": "\"string\""
        },
        {
         "metadata": "{}",
         "name": "pickup_service_zone",
         "type": "\"string\""
        },
        {
         "metadata": "{}",
         "name": "LocationID",
         "type": "\"integer\""
        },
        {
         "metadata": "{}",
         "name": "dropoff_borough",
         "type": "\"string\""
        },
        {
         "metadata": "{}",
         "name": "dropoff_zone",
         "type": "\"string\""
        },
        {
         "metadata": "{}",
         "name": "dropoff_service_zone",
         "type": "\"string\""
        },
        {
         "metadata": "{}",
         "name": "holidayName",
         "type": "\"string\""
        },
        {
         "metadata": "{}",
         "name": "normalizeHolidayName",
         "type": "\"string\""
        },
        {
         "metadata": "{}",
         "name": "is_holiday",
         "type": "\"integer\""
        }
       ],
       "type": "table"
      }
     },
     "output_type": "display_data"
    }
   ],
   "source": [
    "# Load the Delta table\n",
    "taxi_with_holidays_df = spark.read.format(\"delta\").load(\"dbfs:/dbfs/FileStore/tables/Data_Processing_Pulic_Holiday/\")\n",
    "\n",
    "# Show the first few rows to verify\n",
    "display(taxi_with_holidays_df.limit(5))"
   ]
  },
  {
   "cell_type": "code",
   "execution_count": 0,
   "metadata": {
    "application/vnd.databricks.v1+cell": {
     "cellMetadata": {
      "byteLimit": 2048000,
      "rowLimit": 10000
     },
     "inputWidgets": {},
     "nuid": "e348e858-fb84-4937-a4e6-4a7ce4abd19c",
     "showTitle": false,
     "tableResultSettingsMap": {},
     "title": ""
    }
   },
   "outputs": [],
   "source": [
    "# Fetch weather data\n",
    "response = requests.get(url)\n",
    "\n",
    "if response.status_code == 200:\n",
    "    weather_data = response.json()\n",
    "    # Convert the JSON response to Pandas DataFrame\n",
    "    weather_df = pd.json_normalize(weather_data['days'])\n",
    "    weather_df = pd.DataFrame(weather_df[['datetime', 'temp']])  # Select only date and temperature\n",
    "\n",
    "    # Convert to Spark DataFrame\n",
    "    weather_spark_df = spark.createDataFrame(weather_df)\n",
    "    # Rename and format the date column\n",
    "    weather_spark_df = weather_spark_df.withColumnRenamed('datetime', 'weather_date')\n",
    "    weather_spark_df = weather_spark_df.withColumn(\"weather_date\", F.to_date(\"weather_date\"))\n",
    "\n",
    "    # Join the weather data with taxi data on date columns\n",
    "    taxi_with_weather_df = taxi_with_holidays_df.join(\n",
    "        weather_spark_df,\n",
    "        taxi_with_holidays_df[\"pickup_date\"] == weather_spark_df[\"weather_date\"],\n",
    "        how=\"left\"\n",
    "    )\n",
    "\n",
    "    # Drop the duplicate date column from weather data if needed\n",
    "    taxi_with_weather_df = taxi_with_weather_df.drop(\"weather_date\")\n",
    "\n",
    "    # Show the updated DataFrame with weather info\n",
    "    taxi_with_weather_df.show()\n",
    "else:\n",
    "    print(\"Failed to fetch weather data. Status code:\", response.status_code)"
   ]
  },
  {
   "cell_type": "code",
   "execution_count": 0,
   "metadata": {
    "application/vnd.databricks.v1+cell": {
     "cellMetadata": {
      "byteLimit": 2048000,
      "rowLimit": 10000
     },
     "inputWidgets": {},
     "nuid": "08d4755c-0a34-43bb-a30b-da5c7aee9b33",
     "showTitle": false,
     "tableResultSettingsMap": {},
     "title": ""
    }
   },
   "outputs": [],
   "source": [
    "display(taxi_with_weather_df)"
   ]
  },
  {
   "cell_type": "code",
   "execution_count": 0,
   "metadata": {
    "application/vnd.databricks.v1+cell": {
     "cellMetadata": {
      "byteLimit": 2048000,
      "rowLimit": 10000
     },
     "inputWidgets": {},
     "nuid": "d7839486-4778-4623-b738-b87e4915046a",
     "showTitle": false,
     "tableResultSettingsMap": {},
     "title": ""
    }
   },
   "outputs": [
    {
     "output_type": "stream",
     "name": "stdout",
     "output_type": "stream",
     "text": [
      "Value counts for temp:\n"
     ]
    },
    {
     "output_type": "display_data",
     "data": {
      "text/html": [
       "<style scoped>\n",
       "  .table-result-container {\n",
       "    max-height: 300px;\n",
       "    overflow: auto;\n",
       "  }\n",
       "  table, th, td {\n",
       "    border: 1px solid black;\n",
       "    border-collapse: collapse;\n",
       "  }\n",
       "  th, td {\n",
       "    padding: 5px;\n",
       "  }\n",
       "  th {\n",
       "    text-align: left;\n",
       "  }\n",
       "</style><div class='table-result-container'><table class='table-result'><thead style='background-color: white'><tr><th>temp</th><th>count</th></tr></thead><tbody><tr><td>24.4</td><td>1289333</td></tr><tr><td>25.0</td><td>1009064</td></tr><tr><td>24.8</td><td>880655</td></tr><tr><td>25.6</td><td>762028</td></tr><tr><td>26.2</td><td>730434</td></tr><tr><td>23.8</td><td>678086</td></tr><tr><td>25.1</td><td>669150</td></tr><tr><td>26.3</td><td>667854</td></tr><tr><td>24.5</td><td>607596</td></tr><tr><td>26.5</td><td>589325</td></tr><tr><td>19.5</td><td>559428</td></tr><tr><td>23.6</td><td>542065</td></tr><tr><td>16.6</td><td>529231</td></tr><tr><td>24.3</td><td>525434</td></tr><tr><td>24.2</td><td>503241</td></tr><tr><td>25.4</td><td>477520</td></tr><tr><td>24.6</td><td>459826</td></tr><tr><td>26.1</td><td>458063</td></tr><tr><td>24.9</td><td>453669</td></tr><tr><td>25.7</td><td>453502</td></tr><tr><td>31.1</td><td>434652</td></tr><tr><td>17.7</td><td>418775</td></tr><tr><td>30.6</td><td>412061</td></tr><tr><td>22.9</td><td>408649</td></tr><tr><td>25.8</td><td>399719</td></tr><tr><td>24.7</td><td>388751</td></tr><tr><td>26.8</td><td>364541</td></tr><tr><td>18.7</td><td>357575</td></tr><tr><td>19.8</td><td>357139</td></tr><tr><td>21.5</td><td>356742</td></tr><tr><td>25.9</td><td>348320</td></tr><tr><td>23.3</td><td>337909</td></tr><tr><td>21.9</td><td>336862</td></tr><tr><td>19.6</td><td>330736</td></tr><tr><td>23.0</td><td>324682</td></tr><tr><td>27.3</td><td>322269</td></tr><tr><td>30.9</td><td>318021</td></tr><tr><td>21.6</td><td>313715</td></tr><tr><td>20.3</td><td>307816</td></tr><tr><td>25.3</td><td>306851</td></tr><tr><td>31.3</td><td>303757</td></tr><tr><td>26.7</td><td>303033</td></tr><tr><td>30.1</td><td>302412</td></tr><tr><td>24.0</td><td>300282</td></tr><tr><td>28.7</td><td>297060</td></tr><tr><td>24.1</td><td>291540</td></tr><tr><td>26.9</td><td>290312</td></tr><tr><td>26.0</td><td>290028</td></tr><tr><td>18.2</td><td>283181</td></tr><tr><td>26.4</td><td>279613</td></tr><tr><td>25.2</td><td>269774</td></tr><tr><td>21.8</td><td>266199</td></tr><tr><td>20.8</td><td>241295</td></tr><tr><td>31.0</td><td>236866</td></tr><tr><td>32.4</td><td>235625</td></tr><tr><td>30.8</td><td>230207</td></tr><tr><td>31.4</td><td>229557</td></tr><tr><td>23.5</td><td>229539</td></tr><tr><td>32.2</td><td>228978</td></tr><tr><td>29.4</td><td>226625</td></tr><tr><td>21.0</td><td>224426</td></tr><tr><td>30.5</td><td>219629</td></tr><tr><td>32.0</td><td>216613</td></tr><tr><td>29.3</td><td>216515</td></tr><tr><td>27.7</td><td>216038</td></tr><tr><td>32.6</td><td>214889</td></tr><tr><td>27.2</td><td>213229</td></tr><tr><td>22.3</td><td>212982</td></tr><tr><td>23.9</td><td>212463</td></tr><tr><td>16.2</td><td>211601</td></tr><tr><td>27.9</td><td>209413</td></tr><tr><td>25.5</td><td>207638</td></tr><tr><td>23.1</td><td>207575</td></tr><tr><td>20.0</td><td>205382</td></tr><tr><td>27.1</td><td>204832</td></tr><tr><td>19.0</td><td>202973</td></tr><tr><td>30.7</td><td>201892</td></tr><tr><td>23.2</td><td>199430</td></tr><tr><td>30.0</td><td>199273</td></tr><tr><td>27.8</td><td>199189</td></tr><tr><td>21.1</td><td>196625</td></tr><tr><td>22.6</td><td>192753</td></tr><tr><td>14.6</td><td>190741</td></tr><tr><td>21.2</td><td>190542</td></tr><tr><td>22.1</td><td>187330</td></tr><tr><td>16.7</td><td>177802</td></tr><tr><td>17.3</td><td>174211</td></tr><tr><td>28.3</td><td>173229</td></tr><tr><td>27.5</td><td>156972</td></tr><tr><td>21.7</td><td>156689</td></tr><tr><td>33.2</td><td>124181</td></tr><tr><td>20.7</td><td>123009</td></tr><tr><td>31.5</td><td>122119</td></tr><tr><td>34.2</td><td>120228</td></tr><tr><td>31.8</td><td>119789</td></tr><tr><td>20.4</td><td>118728</td></tr><tr><td>30.4</td><td>118216</td></tr><tr><td>27.4</td><td>116541</td></tr><tr><td>34.1</td><td>116363</td></tr><tr><td>28.9</td><td>116125</td></tr><tr><td>32.8</td><td>115841</td></tr><tr><td>31.2</td><td>114700</td></tr><tr><td>31.7</td><td>113205</td></tr><tr><td>29.6</td><td>111508</td></tr><tr><td>31.9</td><td>110164</td></tr><tr><td>19.3</td><td>108989</td></tr><tr><td>17.0</td><td>108100</td></tr><tr><td>22.7</td><td>106500</td></tr><tr><td>18.0</td><td>106125</td></tr><tr><td>17.2</td><td>106100</td></tr><tr><td>17.8</td><td>104401</td></tr><tr><td>33.0</td><td>104307</td></tr><tr><td>23.7</td><td>104097</td></tr><tr><td>20.5</td><td>103732</td></tr><tr><td>23.4</td><td>102104</td></tr><tr><td>18.1</td><td>102077</td></tr><tr><td>15.4</td><td>102066</td></tr><tr><td>29.8</td><td>101346</td></tr><tr><td>21.4</td><td>98952</td></tr><tr><td>18.6</td><td>98747</td></tr><tr><td>13.5</td><td>96946</td></tr><tr><td>15.0</td><td>96918</td></tr><tr><td>17.4</td><td>93957</td></tr><tr><td>28.2</td><td>93077</td></tr><tr><td>14.0</td><td>92649</td></tr><tr><td>19.2</td><td>92468</td></tr><tr><td>32.1</td><td>91924</td></tr><tr><td>12.7</td><td>91200</td></tr><tr><td>22.0</td><td>87730</td></tr><tr><td>29.5</td><td>87564</td></tr><tr><td>29.9</td><td>86147</td></tr><tr><td>26.6</td><td>82724</td></tr><tr><td>28.6</td><td>82588</td></tr><tr><td>18.5</td><td>80263</td></tr><tr><td>20.2</td><td>79956</td></tr><tr><td>19.4</td><td>79175</td></tr><tr><td>14.5</td><td>76652</td></tr><tr><td>22.5</td><td>76259</td></tr><tr><td>16.5</td><td>71391</td></tr><tr><td>15.3</td><td>62937</td></tr><tr><td>28.4</td><td>54674</td></tr></tbody></table></div>"
      ]
     },
     "metadata": {
      "application/vnd.databricks.v1+output": {
       "addedWidgets": {},
       "aggData": [],
       "aggError": "",
       "aggOverflow": false,
       "aggSchema": [],
       "aggSeriesLimitReached": false,
       "aggType": "",
       "arguments": {},
       "columnCustomDisplayInfos": {},
       "data": [
        [
         24.4,
         1289333
        ],
        [
         25.0,
         1009064
        ],
        [
         24.8,
         880655
        ],
        [
         25.6,
         762028
        ],
        [
         26.2,
         730434
        ],
        [
         23.8,
         678086
        ],
        [
         25.1,
         669150
        ],
        [
         26.3,
         667854
        ],
        [
         24.5,
         607596
        ],
        [
         26.5,
         589325
        ],
        [
         19.5,
         559428
        ],
        [
         23.6,
         542065
        ],
        [
         16.6,
         529231
        ],
        [
         24.3,
         525434
        ],
        [
         24.2,
         503241
        ],
        [
         25.4,
         477520
        ],
        [
         24.6,
         459826
        ],
        [
         26.1,
         458063
        ],
        [
         24.9,
         453669
        ],
        [
         25.7,
         453502
        ],
        [
         31.1,
         434652
        ],
        [
         17.7,
         418775
        ],
        [
         30.6,
         412061
        ],
        [
         22.9,
         408649
        ],
        [
         25.8,
         399719
        ],
        [
         24.7,
         388751
        ],
        [
         26.8,
         364541
        ],
        [
         18.7,
         357575
        ],
        [
         19.8,
         357139
        ],
        [
         21.5,
         356742
        ],
        [
         25.9,
         348320
        ],
        [
         23.3,
         337909
        ],
        [
         21.9,
         336862
        ],
        [
         19.6,
         330736
        ],
        [
         23.0,
         324682
        ],
        [
         27.3,
         322269
        ],
        [
         30.9,
         318021
        ],
        [
         21.6,
         313715
        ],
        [
         20.3,
         307816
        ],
        [
         25.3,
         306851
        ],
        [
         31.3,
         303757
        ],
        [
         26.7,
         303033
        ],
        [
         30.1,
         302412
        ],
        [
         24.0,
         300282
        ],
        [
         28.7,
         297060
        ],
        [
         24.1,
         291540
        ],
        [
         26.9,
         290312
        ],
        [
         26.0,
         290028
        ],
        [
         18.2,
         283181
        ],
        [
         26.4,
         279613
        ],
        [
         25.2,
         269774
        ],
        [
         21.8,
         266199
        ],
        [
         20.8,
         241295
        ],
        [
         31.0,
         236866
        ],
        [
         32.4,
         235625
        ],
        [
         30.8,
         230207
        ],
        [
         31.4,
         229557
        ],
        [
         23.5,
         229539
        ],
        [
         32.2,
         228978
        ],
        [
         29.4,
         226625
        ],
        [
         21.0,
         224426
        ],
        [
         30.5,
         219629
        ],
        [
         32.0,
         216613
        ],
        [
         29.3,
         216515
        ],
        [
         27.7,
         216038
        ],
        [
         32.6,
         214889
        ],
        [
         27.2,
         213229
        ],
        [
         22.3,
         212982
        ],
        [
         23.9,
         212463
        ],
        [
         16.2,
         211601
        ],
        [
         27.9,
         209413
        ],
        [
         25.5,
         207638
        ],
        [
         23.1,
         207575
        ],
        [
         20.0,
         205382
        ],
        [
         27.1,
         204832
        ],
        [
         19.0,
         202973
        ],
        [
         30.7,
         201892
        ],
        [
         23.2,
         199430
        ],
        [
         30.0,
         199273
        ],
        [
         27.8,
         199189
        ],
        [
         21.1,
         196625
        ],
        [
         22.6,
         192753
        ],
        [
         14.6,
         190741
        ],
        [
         21.2,
         190542
        ],
        [
         22.1,
         187330
        ],
        [
         16.7,
         177802
        ],
        [
         17.3,
         174211
        ],
        [
         28.3,
         173229
        ],
        [
         27.5,
         156972
        ],
        [
         21.7,
         156689
        ],
        [
         33.2,
         124181
        ],
        [
         20.7,
         123009
        ],
        [
         31.5,
         122119
        ],
        [
         34.2,
         120228
        ],
        [
         31.8,
         119789
        ],
        [
         20.4,
         118728
        ],
        [
         30.4,
         118216
        ],
        [
         27.4,
         116541
        ],
        [
         34.1,
         116363
        ],
        [
         28.9,
         116125
        ],
        [
         32.8,
         115841
        ],
        [
         31.2,
         114700
        ],
        [
         31.7,
         113205
        ],
        [
         29.6,
         111508
        ],
        [
         31.9,
         110164
        ],
        [
         19.3,
         108989
        ],
        [
         17.0,
         108100
        ],
        [
         22.7,
         106500
        ],
        [
         18.0,
         106125
        ],
        [
         17.2,
         106100
        ],
        [
         17.8,
         104401
        ],
        [
         33.0,
         104307
        ],
        [
         23.7,
         104097
        ],
        [
         20.5,
         103732
        ],
        [
         23.4,
         102104
        ],
        [
         18.1,
         102077
        ],
        [
         15.4,
         102066
        ],
        [
         29.8,
         101346
        ],
        [
         21.4,
         98952
        ],
        [
         18.6,
         98747
        ],
        [
         13.5,
         96946
        ],
        [
         15.0,
         96918
        ],
        [
         17.4,
         93957
        ],
        [
         28.2,
         93077
        ],
        [
         14.0,
         92649
        ],
        [
         19.2,
         92468
        ],
        [
         32.1,
         91924
        ],
        [
         12.7,
         91200
        ],
        [
         22.0,
         87730
        ],
        [
         29.5,
         87564
        ],
        [
         29.9,
         86147
        ],
        [
         26.6,
         82724
        ],
        [
         28.6,
         82588
        ],
        [
         18.5,
         80263
        ],
        [
         20.2,
         79956
        ],
        [
         19.4,
         79175
        ],
        [
         14.5,
         76652
        ],
        [
         22.5,
         76259
        ],
        [
         16.5,
         71391
        ],
        [
         15.3,
         62937
        ],
        [
         28.4,
         54674
        ]
       ],
       "datasetInfos": [],
       "dbfsResultPath": null,
       "isJsonSchema": true,
       "metadata": {},
       "overflow": false,
       "plotOptions": {
        "customPlotOptions": {},
        "displayType": "table",
        "pivotAggregation": null,
        "pivotColumns": null,
        "xColumns": null,
        "yColumns": null
       },
       "removedWidgets": [],
       "schema": [
        {
         "metadata": "{}",
         "name": "temp",
         "type": "\"double\""
        },
        {
         "metadata": "{}",
         "name": "count",
         "type": "\"long\""
        }
       ],
       "type": "table"
      }
     },
     "output_type": "display_data"
    }
   ],
   "source": [
    "# Function to display value counts for a specific column using display()\n",
    "def display_value_counts(dataframe, column):\n",
    "    print(f\"Value counts for {column}:\")\n",
    "    value_counts = dataframe.groupBy(column).count().orderBy(\"count\", ascending=False)\n",
    "    display(value_counts)\n",
    "\n",
    "# Example usage for a specific column\n",
    "display_value_counts(taxi_with_weather_df, 'temp')"
   ]
  },
  {
   "cell_type": "code",
   "execution_count": 0,
   "metadata": {
    "application/vnd.databricks.v1+cell": {
     "cellMetadata": {
      "byteLimit": 2048000,
      "rowLimit": 10000
     },
     "inputWidgets": {},
     "nuid": "f5c48ece-6d7c-4084-9c57-f9d448ee271d",
     "showTitle": false,
     "tableResultSettingsMap": {},
     "title": ""
    }
   },
   "outputs": [
    {
     "output_type": "stream",
     "name": "stdout",
     "output_type": "stream",
     "text": [
      "Shape: (36395607, 40)\n"
     ]
    }
   ],
   "source": [
    "num_rows = taxi_with_weather_df.count()\n",
    "num_cols = len(taxi_with_weather_df.columns)\n",
    "print(f\"Shape: ({num_rows}, {num_cols})\")\n"
   ]
  },
  {
   "cell_type": "code",
   "execution_count": 0,
   "metadata": {
    "application/vnd.databricks.v1+cell": {
     "cellMetadata": {
      "byteLimit": 2048000,
      "rowLimit": 10000
     },
     "inputWidgets": {},
     "nuid": "191df83c-8a91-438e-876c-c655e9c3226d",
     "showTitle": false,
     "tableResultSettingsMap": {},
     "title": ""
    }
   },
   "outputs": [
    {
     "output_type": "display_data",
     "data": {
      "text/html": [
       "<style scoped>\n",
       "  .table-result-container {\n",
       "    max-height: 300px;\n",
       "    overflow: auto;\n",
       "  }\n",
       "  table, th, td {\n",
       "    border: 1px solid black;\n",
       "    border-collapse: collapse;\n",
       "  }\n",
       "  th, td {\n",
       "    padding: 5px;\n",
       "  }\n",
       "  th {\n",
       "    text-align: left;\n",
       "  }\n",
       "</style><div class='table-result-container'><table class='table-result'><thead style='background-color: white'><tr><th>sum(dropoff_time)</th><th>sum(DOLocationID)</th><th>sum(improvement_surcharge)</th><th>sum(pickup_hour)</th><th>sum(PULocationID)</th><th>sum(trip_distance)</th><th>sum(dropoff_borough)</th><th>sum(pickup_service_zone)</th><th>sum(pickup_date)</th><th>sum(dropoff_longitude)</th><th>sum(LocationID)</th><th>sum(pickup_latitude)</th><th>sum(dropoff_day_of_week)</th><th>sum(tolls_amount)</th><th>sum(dropoff_date)</th><th>sum(pickup_time)</th><th>sum(Month_Num)</th><th>sum(pickup_zone)</th><th>sum(pickup_borough)</th><th>sum(payment_type)</th><th>sum(fare_amount)</th><th>sum(pickup_longitude)</th><th>sum(temp)</th><th>sum(passenger_count)</th><th>sum(dropoff_month)</th><th>sum(dropoff_hour)</th><th>sum(pickup_day_of_week)</th><th>sum(dropoff_zone)</th><th>sum(distance_km)</th><th>sum(dropoff_datetime)</th><th>sum(normalizeHolidayName)</th><th>sum(dropoff_week_of_year)</th><th>sum(trip_duration)</th><th>sum(total_amount)</th><th>sum(holidayName)</th><th>sum(pickup_datetime)</th><th>sum(dropoff_latitude)</th><th>sum(is_holiday)</th><th>sum(dropoff_service_zone)</th><th>sum(pickup_month)</th></tr></thead><tbody><tr><td>0</td><td>0</td><td>0</td><td>0</td><td>0</td><td>0</td><td>0</td><td>0</td><td>0</td><td>0</td><td>0</td><td>0</td><td>0</td><td>0</td><td>0</td><td>0</td><td>0</td><td>0</td><td>0</td><td>0</td><td>0</td><td>0</td><td>0</td><td>0</td><td>0</td><td>0</td><td>0</td><td>0</td><td>0</td><td>0</td><td>0</td><td>0</td><td>0</td><td>0</td><td>0</td><td>0</td><td>0</td><td>0</td><td>0</td><td>0</td></tr></tbody></table></div>"
      ]
     },
     "metadata": {
      "application/vnd.databricks.v1+output": {
       "addedWidgets": {},
       "aggData": [],
       "aggError": "",
       "aggOverflow": false,
       "aggSchema": [],
       "aggSeriesLimitReached": false,
       "aggType": "",
       "arguments": {},
       "columnCustomDisplayInfos": {},
       "data": [
        [
         0,
         0,
         0,
         0,
         0,
         0,
         0,
         0,
         0,
         0,
         0,
         0,
         0,
         0,
         0,
         0,
         0,
         0,
         0,
         0,
         0,
         0,
         0,
         0,
         0,
         0,
         0,
         0,
         0,
         0,
         0,
         0,
         0,
         0,
         0,
         0,
         0,
         0,
         0,
         0
        ]
       ],
       "datasetInfos": [],
       "dbfsResultPath": null,
       "isJsonSchema": true,
       "metadata": {},
       "overflow": false,
       "plotOptions": {
        "customPlotOptions": {},
        "displayType": "table",
        "pivotAggregation": null,
        "pivotColumns": null,
        "xColumns": null,
        "yColumns": null
       },
       "removedWidgets": [],
       "schema": [
        {
         "metadata": "{}",
         "name": "sum(dropoff_time)",
         "type": "\"long\""
        },
        {
         "metadata": "{}",
         "name": "sum(DOLocationID)",
         "type": "\"long\""
        },
        {
         "metadata": "{}",
         "name": "sum(improvement_surcharge)",
         "type": "\"long\""
        },
        {
         "metadata": "{}",
         "name": "sum(pickup_hour)",
         "type": "\"long\""
        },
        {
         "metadata": "{}",
         "name": "sum(PULocationID)",
         "type": "\"long\""
        },
        {
         "metadata": "{}",
         "name": "sum(trip_distance)",
         "type": "\"long\""
        },
        {
         "metadata": "{}",
         "name": "sum(dropoff_borough)",
         "type": "\"long\""
        },
        {
         "metadata": "{}",
         "name": "sum(pickup_service_zone)",
         "type": "\"long\""
        },
        {
         "metadata": "{}",
         "name": "sum(pickup_date)",
         "type": "\"long\""
        },
        {
         "metadata": "{}",
         "name": "sum(dropoff_longitude)",
         "type": "\"long\""
        },
        {
         "metadata": "{}",
         "name": "sum(LocationID)",
         "type": "\"long\""
        },
        {
         "metadata": "{}",
         "name": "sum(pickup_latitude)",
         "type": "\"long\""
        },
        {
         "metadata": "{}",
         "name": "sum(dropoff_day_of_week)",
         "type": "\"long\""
        },
        {
         "metadata": "{}",
         "name": "sum(tolls_amount)",
         "type": "\"long\""
        },
        {
         "metadata": "{}",
         "name": "sum(dropoff_date)",
         "type": "\"long\""
        },
        {
         "metadata": "{}",
         "name": "sum(pickup_time)",
         "type": "\"long\""
        },
        {
         "metadata": "{}",
         "name": "sum(Month_Num)",
         "type": "\"long\""
        },
        {
         "metadata": "{}",
         "name": "sum(pickup_zone)",
         "type": "\"long\""
        },
        {
         "metadata": "{}",
         "name": "sum(pickup_borough)",
         "type": "\"long\""
        },
        {
         "metadata": "{}",
         "name": "sum(payment_type)",
         "type": "\"long\""
        },
        {
         "metadata": "{}",
         "name": "sum(fare_amount)",
         "type": "\"long\""
        },
        {
         "metadata": "{}",
         "name": "sum(pickup_longitude)",
         "type": "\"long\""
        },
        {
         "metadata": "{}",
         "name": "sum(temp)",
         "type": "\"long\""
        },
        {
         "metadata": "{}",
         "name": "sum(passenger_count)",
         "type": "\"long\""
        },
        {
         "metadata": "{}",
         "name": "sum(dropoff_month)",
         "type": "\"long\""
        },
        {
         "metadata": "{}",
         "name": "sum(dropoff_hour)",
         "type": "\"long\""
        },
        {
         "metadata": "{}",
         "name": "sum(pickup_day_of_week)",
         "type": "\"long\""
        },
        {
         "metadata": "{}",
         "name": "sum(dropoff_zone)",
         "type": "\"long\""
        },
        {
         "metadata": "{}",
         "name": "sum(distance_km)",
         "type": "\"long\""
        },
        {
         "metadata": "{}",
         "name": "sum(dropoff_datetime)",
         "type": "\"long\""
        },
        {
         "metadata": "{}",
         "name": "sum(normalizeHolidayName)",
         "type": "\"long\""
        },
        {
         "metadata": "{}",
         "name": "sum(dropoff_week_of_year)",
         "type": "\"long\""
        },
        {
         "metadata": "{}",
         "name": "sum(trip_duration)",
         "type": "\"long\""
        },
        {
         "metadata": "{}",
         "name": "sum(total_amount)",
         "type": "\"long\""
        },
        {
         "metadata": "{}",
         "name": "sum(holidayName)",
         "type": "\"long\""
        },
        {
         "metadata": "{}",
         "name": "sum(pickup_datetime)",
         "type": "\"long\""
        },
        {
         "metadata": "{}",
         "name": "sum(dropoff_latitude)",
         "type": "\"long\""
        },
        {
         "metadata": "{}",
         "name": "sum(is_holiday)",
         "type": "\"long\""
        },
        {
         "metadata": "{}",
         "name": "sum(dropoff_service_zone)",
         "type": "\"long\""
        },
        {
         "metadata": "{}",
         "name": "sum(pickup_month)",
         "type": "\"long\""
        }
       ],
       "type": "table"
      }
     },
     "output_type": "display_data"
    }
   ],
   "source": [
    "# Check for Missing Values in each column\n",
    "# Check for missing values\n",
    "missing_values = taxi_with_weather_df.select([((taxi_with_weather_df[column].isNull()).cast(\"int\")).alias(column) for column in taxi_with_weather_df.columns]) \\\n",
    "                                .agg({column: 'sum' for column in taxi_with_weather_df.columns})\n",
    "\n",
    "display(missing_values.limit(5))"
   ]
  },
  {
   "cell_type": "code",
   "execution_count": 0,
   "metadata": {
    "application/vnd.databricks.v1+cell": {
     "cellMetadata": {
      "byteLimit": 2048000,
      "rowLimit": 10000
     },
     "inputWidgets": {},
     "nuid": "f194b8a2-a034-4535-9c1f-d6f0639ff303",
     "showTitle": false,
     "tableResultSettingsMap": {},
     "title": ""
    }
   },
   "outputs": [
    {
     "output_type": "stream",
     "name": "stdout",
     "output_type": "stream",
     "text": [
      "Number of duplicate rows: 0\n"
     ]
    }
   ],
   "source": [
    "# Check for Duplicates\n",
    "# Count the number of duplicate rows\n",
    "duplicates_count = taxi_with_weather_df.count() - taxi_with_weather_df.distinct().count()\n",
    "print(f\"Number of duplicate rows: {duplicates_count}\")"
   ]
  },
  {
   "cell_type": "code",
   "execution_count": 0,
   "metadata": {
    "application/vnd.databricks.v1+cell": {
     "cellMetadata": {
      "byteLimit": 2048000,
      "rowLimit": 10000
     },
     "inputWidgets": {},
     "nuid": "8808b67c-c24c-4a43-9c68-c1696253f2f9",
     "showTitle": false,
     "tableResultSettingsMap": {},
     "title": ""
    }
   },
   "outputs": [
    {
     "output_type": "stream",
     "name": "stdout",
     "output_type": "stream",
     "text": [
      "+------------+------------+-------------------+-------------------+---------------+-------------+------------+-----------+------------+---------------------+------------+-------------+------------------+-----------+---------+------------+------------+-------------------+-------------+--------------------+-----------+-----------+------------+------------+------------------+-----------------+------------------+------------------+------------------+--------------+------------+-------------------+----------+---------------+--------------------+--------------------+------------+--------------------+----------+----+\n|DOLocationID|PULocationID|    pickup_datetime|   dropoff_datetime|passenger_count|trip_distance|payment_type|fare_amount|tolls_amount|improvement_surcharge|total_amount|trip_duration|pickup_day_of_week|pickup_hour|Month_Num|pickup_month|dropoff_hour|dropoff_day_of_week|dropoff_month|dropoff_week_of_year|pickup_date|pickup_time|dropoff_date|dropoff_time|   pickup_latitude| pickup_longitude|  dropoff_latitude| dropoff_longitude|       distance_km|pickup_borough| pickup_zone|pickup_service_zone|LocationID|dropoff_borough|        dropoff_zone|dropoff_service_zone| holidayName|normalizeHolidayName|is_holiday|temp|\n+------------+------------+-------------------+-------------------+---------------+-------------+------------+-----------+------------+---------------------+------------+-------------+------------------+-----------+---------+------------+------------+-------------------+-------------+--------------------+-----------+-----------+------------+------------+------------------+-----------------+------------------+------------------+------------------+--------------+------------+-------------------+----------+---------------+--------------------+--------------------+------------+--------------------+----------+----+\n|          50|          43|2023-10-09 09:35:28|2023-10-09 09:45:20|              3|          1.7|           2|       10.7|         0.0|                  1.0|        14.7|     9.866667|                 2|          9|       10|          10|           9|                  2|           10|                  41| 2023-10-09|   09:35:28|  2023-10-09|    09:45:20|40.782478099747884|-73.9655535654591| 40.76623772504185|-73.99513522075515|3.0766876214201546|     Manhattan|Central Park|        Yellow Zone|        50|      Manhattan|        Clinton West|         Yellow Zone|Columbus Day|        Columbus Day|         1|26.5|\n|         236|          43|2023-10-09 11:08:31|2023-10-09 11:31:08|              1|         1.63|           1|       19.8|         0.0|                  1.0|       30.94|    22.616667|                 2|         11|       10|          10|          11|                  2|           10|                  41| 2023-10-09|   11:08:31|  2023-10-09|    11:31:08|40.782478099747884|-73.9655535654591|40.780436437189955|-73.95701169835736|0.7541840936610109|     Manhattan|Central Park|        Yellow Zone|       236|      Manhattan|Upper East Side N...|         Yellow Zone|Columbus Day|        Columbus Day|         1|26.5|\n|          48|          43|2023-10-09 12:11:13|2023-10-09 12:34:21|              1|          2.8|           1|       18.4|         0.0|                  1.0|       26.85|    23.133333|                 2|         12|       10|          10|          12|                  2|           10|                  41| 2023-10-09|   12:11:13|  2023-10-09|    12:34:21|40.782478099747884|-73.9655535654591| 40.76225275531935|-73.98984464313298| 3.040063819125508|     Manhattan|Central Park|        Yellow Zone|        48|      Manhattan|        Clinton East|         Yellow Zone|Columbus Day|        Columbus Day|         1|26.5|\n|         142|          43|2023-10-09 13:26:51|2023-10-09 13:39:11|              1|         1.87|           1|       13.5|         0.0|                  1.0|       21.88|    12.333333|                 2|         13|       10|          10|          13|                  2|           10|                  41| 2023-10-09|   13:26:51|  2023-10-09|    13:39:11|40.782478099747884|-73.9655535654591| 40.77363329302708|-73.98153220639182|1.6665688371988927|     Manhattan|Central Park|        Yellow Zone|       142|      Manhattan| Lincoln Square East|         Yellow Zone|Columbus Day|        Columbus Day|         1|26.5|\n|          43|          43|2023-10-09 16:57:14|2023-10-09 16:58:32|              1|          0.2|           2|        3.7|         0.0|                  1.0|         7.7|          1.3|                 2|         16|       10|          10|          16|                  2|           10|                  41| 2023-10-09|   16:57:14|  2023-10-09|    16:58:32|40.782478099747884|-73.9655535654591|40.782478099747884| -73.9655535654591|               0.0|     Manhattan|Central Park|        Yellow Zone|        43|      Manhattan|        Central Park|         Yellow Zone|Columbus Day|        Columbus Day|         1|26.5|\n+------------+------------+-------------------+-------------------+---------------+-------------+------------+-----------+------------+---------------------+------------+-------------+------------------+-----------+---------+------------+------------+-------------------+-------------+--------------------+-----------+-----------+------------+------------+------------------+-----------------+------------------+------------------+------------------+--------------+------------+-------------------+----------+---------------+--------------------+--------------------+------------+--------------------+----------+----+\nonly showing top 5 rows\n\n"
     ]
    }
   ],
   "source": [
    "taxi_with_weather_df.show(5)"
   ]
  },
  {
   "cell_type": "code",
   "execution_count": 0,
   "metadata": {
    "application/vnd.databricks.v1+cell": {
     "cellMetadata": {
      "byteLimit": 2048000,
      "rowLimit": 10000
     },
     "inputWidgets": {},
     "nuid": "f86c3b90-714a-4faa-b0f7-1563a3883941",
     "showTitle": false,
     "tableResultSettingsMap": {},
     "title": ""
    }
   },
   "outputs": [],
   "source": [
    "# Define a more descriptive Delta Lake storage path\n",
    "delta_path = \"/dbfs/FileStore/tables/cleaned_nyc_taxi_fare/\"\n",
    "# Write the DataFrame to Delta format\n",
    "taxi_with_weather_df.write.format(\"delta\").mode(\"overwrite\").save(delta_path)"
   ]
  }
 ],
 "metadata": {
  "application/vnd.databricks.v1+notebook": {
   "dashboards": [],
   "environmentMetadata": null,
   "language": "python",
   "notebookMetadata": {
    "pythonIndentUnit": 4
   },
   "notebookName": "06_Data_Processing_Weather_df",
   "widgets": {}
  },
  "language_info": {
   "name": "python"
  }
 },
 "nbformat": 4,
 "nbformat_minor": 0
}
