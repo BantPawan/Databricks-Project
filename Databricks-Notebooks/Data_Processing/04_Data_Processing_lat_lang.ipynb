{
 "cells": [
  {
   "cell_type": "code",
   "execution_count": 0,
   "metadata": {
    "application/vnd.databricks.v1+cell": {
     "cellMetadata": {
      "byteLimit": 2048000,
      "rowLimit": 10000
     },
     "inputWidgets": {},
     "nuid": "67e7abdd-ee62-4a88-9a40-faa8c6e57184",
     "showTitle": false,
     "tableResultSettingsMap": {},
     "title": ""
    }
   },
   "outputs": [
    {
     "output_type": "execute_result",
     "data": {
      "text/plain": [
       "[FileInfo(path='dbfs:/FileStore/tables/01_Data_Ingention_trip_data.py', name='01_Data_Ingention_trip_data.py', size=4574, modificationTime=1732611700000),\n",
       " FileInfo(path='dbfs:/FileStore/tables/nyc_taxi_data_delta/', name='nyc_taxi_data_delta/', size=0, modificationTime=1732619284337),\n",
       " FileInfo(path='dbfs:/FileStore/tables/taxi_zone_lookup.csv', name='taxi_zone_lookup.csv', size=12331, modificationTime=1732611654000),\n",
       " FileInfo(path='dbfs:/FileStore/tables/taxi_zones/', name='taxi_zones/', size=0, modificationTime=1732619284337),\n",
       " FileInfo(path='dbfs:/FileStore/tables/taxi_zones.zip', name='taxi_zones.zip', size=1025147, modificationTime=1732611639000),\n",
       " FileInfo(path='dbfs:/FileStore/tables/yellow_tripdata_2023_01.parquet', name='yellow_tripdata_2023_01.parquet', size=47673370, modificationTime=1732611400000),\n",
       " FileInfo(path='dbfs:/FileStore/tables/yellow_tripdata_2023_02.parquet', name='yellow_tripdata_2023_02.parquet', size=47748012, modificationTime=1732611400000),\n",
       " FileInfo(path='dbfs:/FileStore/tables/yellow_tripdata_2023_03.parquet', name='yellow_tripdata_2023_03.parquet', size=56127762, modificationTime=1732611424000),\n",
       " FileInfo(path='dbfs:/FileStore/tables/yellow_tripdata_2023_04.parquet', name='yellow_tripdata_2023_04.parquet', size=54222699, modificationTime=1732611423000),\n",
       " FileInfo(path='dbfs:/FileStore/tables/yellow_tripdata_2023_05.parquet', name='yellow_tripdata_2023_05.parquet', size=58654627, modificationTime=1732611467000),\n",
       " FileInfo(path='dbfs:/FileStore/tables/yellow_tripdata_2023_06.parquet', name='yellow_tripdata_2023_06.parquet', size=54999465, modificationTime=1732611468000),\n",
       " FileInfo(path='dbfs:/FileStore/tables/yellow_tripdata_2023_07.parquet', name='yellow_tripdata_2023_07.parquet', size=48361828, modificationTime=1732611510000),\n",
       " FileInfo(path='dbfs:/FileStore/tables/yellow_tripdata_2023_08.parquet', name='yellow_tripdata_2023_08.parquet', size=48152353, modificationTime=1732611512000),\n",
       " FileInfo(path='dbfs:/FileStore/tables/yellow_tripdata_2023_09.parquet', name='yellow_tripdata_2023_09.parquet', size=47895515, modificationTime=1732611545000),\n",
       " FileInfo(path='dbfs:/FileStore/tables/yellow_tripdata_2023_10.parquet', name='yellow_tripdata_2023_10.parquet', size=59009059, modificationTime=1732611548000),\n",
       " FileInfo(path='dbfs:/FileStore/tables/yellow_tripdata_2023_11.parquet', name='yellow_tripdata_2023_11.parquet', size=56094653, modificationTime=1732611564000),\n",
       " FileInfo(path='dbfs:/FileStore/tables/yellow_tripdata_2023_12.parquet', name='yellow_tripdata_2023_12.parquet', size=56804275, modificationTime=1732611568000)]"
      ]
     },
     "execution_count": 6,
     "metadata": {},
     "output_type": "execute_result"
    }
   ],
   "source": [
    "dbfs_subfolder_path = \"/FileStore/tables/taxi_zones/\"\n",
    "dbutils.fs.mkdirs(dbfs_subfolder_path)\n",
    "dbutils.fs.ls(\"/FileStore/tables/\")"
   ]
  },
  {
   "cell_type": "code",
   "execution_count": 0,
   "metadata": {
    "application/vnd.databricks.v1+cell": {
     "cellMetadata": {
      "byteLimit": 2048000,
      "rowLimit": 10000
     },
     "inputWidgets": {},
     "nuid": "1388dd88-8fba-4e15-938b-a0d6a10737c2",
     "showTitle": false,
     "tableResultSettingsMap": {},
     "title": ""
    }
   },
   "outputs": [
    {
     "output_type": "stream",
     "name": "stdout",
     "output_type": "stream",
     "text": [
      "Extracted files: ['taxi_zones.dbf', 'taxi_zones.shp.xml', 'taxi_zones.shp', 'taxi_zones.prj', 'taxi_zones.shx', 'taxi_zones.sbx', 'taxi_zones.sbn']\n"
     ]
    }
   ],
   "source": [
    "import zipfile\n",
    "import os\n",
    "\n",
    "# Define paths\n",
    "dbfs_zip_path = \"/FileStore/tables/taxi_zones/taxi_zones.zip\"\n",
    "local_zip_path = \"/tmp/taxi_zones.zip\"\n",
    "local_extract_path = \"/tmp/taxi_zones/\"\n",
    "\n",
    "# Copy the zip file from DBFS to a local path\n",
    "dbutils.fs.cp(dbfs_zip_path, \"file:\" + local_zip_path)\n",
    "\n",
    "# Unzip the file locally and list the contents\n",
    "with zipfile.ZipFile(local_zip_path, 'r') as zip_ref:\n",
    "    zip_ref.extractall(local_extract_path)\n",
    "\n",
    "# Verify extracted files\n",
    "extracted_files = os.listdir(local_extract_path)\n",
    "print(\"Extracted files:\", extracted_files)"
   ]
  },
  {
   "cell_type": "code",
   "execution_count": 0,
   "metadata": {
    "application/vnd.databricks.v1+cell": {
     "cellMetadata": {
      "byteLimit": 2048000,
      "rowLimit": 10000
     },
     "inputWidgets": {},
     "nuid": "8bacb0ef-7e72-4619-8e9b-2bc7e23f3da6",
     "showTitle": false,
     "tableResultSettingsMap": {},
     "title": ""
    }
   },
   "outputs": [],
   "source": [
    "from pyspark.sql import SparkSession\n",
    "from pyspark.sql.functions import radians, cos, sin, asin, sqrt, col, udf, hour, dayofweek\n",
    "from pyspark.sql.types import FloatType\n",
    "\n",
    "# Create a Spark session\n",
    "spark = SparkSession.builder \\\n",
    "    .appName(\"NYC Taxi Trip Analysis\") \\\n",
    "    .getOrCreate()"
   ]
  },
  {
   "cell_type": "code",
   "execution_count": 0,
   "metadata": {
    "application/vnd.databricks.v1+cell": {
     "cellMetadata": {
      "byteLimit": 2048000,
      "rowLimit": 10000
     },
     "inputWidgets": {},
     "nuid": "a7f9ebc0-ca09-4593-887c-fdb64a4b5883",
     "showTitle": false,
     "tableResultSettingsMap": {},
     "title": ""
    }
   },
   "outputs": [
    {
     "output_type": "display_data",
     "data": {
      "application/vnd.databricks.v1+h3_hint": "",
      "text/plain": []
     },
     "metadata": {},
     "output_type": "display_data"
    }
   ],
   "source": [
    "# Check for the .shp file in the extracted directory\n",
    "if \"taxi_zones.shp\" in extracted_files:\n",
    "    import geopandas as gpd\n",
    "    # Load the shapefile\n",
    "    zones = gpd.read_file(os.path.join(local_extract_path, \"taxi_zones.shp\"))\n",
    "    \n",
    "    # Convert to WGS 84 coordinate system if necessary\n",
    "    zones = zones.to_crs(epsg=4326)\n",
    "else:\n",
    "    print(\"Error: 'taxi_zones.shp' not found in extracted files.\")"
   ]
  },
  {
   "cell_type": "code",
   "execution_count": 0,
   "metadata": {
    "application/vnd.databricks.v1+cell": {
     "cellMetadata": {
      "byteLimit": 2048000,
      "rowLimit": 10000
     },
     "inputWidgets": {},
     "nuid": "2bd73dc0-c9af-4f21-a9cd-09ec79b0b45f",
     "showTitle": false,
     "tableResultSettingsMap": {},
     "title": ""
    }
   },
   "outputs": [
    {
     "output_type": "execute_result",
     "data": {
      "text/html": [
       "<div>\n",
       "<style scoped>\n",
       "    .dataframe tbody tr th:only-of-type {\n",
       "        vertical-align: middle;\n",
       "    }\n",
       "\n",
       "    .dataframe tbody tr th {\n",
       "        vertical-align: top;\n",
       "    }\n",
       "\n",
       "    .dataframe thead th {\n",
       "        text-align: right;\n",
       "    }\n",
       "</style>\n",
       "<table border=\"1\" class=\"dataframe\">\n",
       "  <thead>\n",
       "    <tr style=\"text-align: right;\">\n",
       "      <th></th>\n",
       "      <th>OBJECTID</th>\n",
       "      <th>Shape_Leng</th>\n",
       "      <th>Shape_Area</th>\n",
       "      <th>zone</th>\n",
       "      <th>LocationID</th>\n",
       "      <th>borough</th>\n",
       "      <th>geometry</th>\n",
       "    </tr>\n",
       "  </thead>\n",
       "  <tbody>\n",
       "    <tr>\n",
       "      <th>0</th>\n",
       "      <td>1</td>\n",
       "      <td>0.116357</td>\n",
       "      <td>0.000782</td>\n",
       "      <td>Newark Airport</td>\n",
       "      <td>1</td>\n",
       "      <td>EWR</td>\n",
       "      <td>POLYGON ((-74.18445 40.695, -74.18449 40.6951,...</td>\n",
       "    </tr>\n",
       "    <tr>\n",
       "      <th>1</th>\n",
       "      <td>2</td>\n",
       "      <td>0.433470</td>\n",
       "      <td>0.004866</td>\n",
       "      <td>Jamaica Bay</td>\n",
       "      <td>2</td>\n",
       "      <td>Queens</td>\n",
       "      <td>MULTIPOLYGON (((-73.82338 40.63899, -73.82277 ...</td>\n",
       "    </tr>\n",
       "    <tr>\n",
       "      <th>2</th>\n",
       "      <td>3</td>\n",
       "      <td>0.084341</td>\n",
       "      <td>0.000314</td>\n",
       "      <td>Allerton/Pelham Gardens</td>\n",
       "      <td>3</td>\n",
       "      <td>Bronx</td>\n",
       "      <td>POLYGON ((-73.84793 40.87134, -73.84725 40.870...</td>\n",
       "    </tr>\n",
       "    <tr>\n",
       "      <th>3</th>\n",
       "      <td>4</td>\n",
       "      <td>0.043567</td>\n",
       "      <td>0.000112</td>\n",
       "      <td>Alphabet City</td>\n",
       "      <td>4</td>\n",
       "      <td>Manhattan</td>\n",
       "      <td>POLYGON ((-73.97177 40.72582, -73.97179 40.725...</td>\n",
       "    </tr>\n",
       "    <tr>\n",
       "      <th>4</th>\n",
       "      <td>5</td>\n",
       "      <td>0.092146</td>\n",
       "      <td>0.000498</td>\n",
       "      <td>Arden Heights</td>\n",
       "      <td>5</td>\n",
       "      <td>Staten Island</td>\n",
       "      <td>POLYGON ((-74.17422 40.56257, -74.17349 40.562...</td>\n",
       "    </tr>\n",
       "    <tr>\n",
       "      <th>...</th>\n",
       "      <td>...</td>\n",
       "      <td>...</td>\n",
       "      <td>...</td>\n",
       "      <td>...</td>\n",
       "      <td>...</td>\n",
       "      <td>...</td>\n",
       "      <td>...</td>\n",
       "    </tr>\n",
       "    <tr>\n",
       "      <th>258</th>\n",
       "      <td>259</td>\n",
       "      <td>0.126750</td>\n",
       "      <td>0.000395</td>\n",
       "      <td>Woodlawn/Wakefield</td>\n",
       "      <td>259</td>\n",
       "      <td>Bronx</td>\n",
       "      <td>POLYGON ((-73.85107 40.91037, -73.85207 40.909...</td>\n",
       "    </tr>\n",
       "    <tr>\n",
       "      <th>259</th>\n",
       "      <td>260</td>\n",
       "      <td>0.133514</td>\n",
       "      <td>0.000422</td>\n",
       "      <td>Woodside</td>\n",
       "      <td>260</td>\n",
       "      <td>Queens</td>\n",
       "      <td>POLYGON ((-73.90175 40.76078, -73.90147 40.759...</td>\n",
       "    </tr>\n",
       "    <tr>\n",
       "      <th>260</th>\n",
       "      <td>261</td>\n",
       "      <td>0.027120</td>\n",
       "      <td>0.000034</td>\n",
       "      <td>World Trade Center</td>\n",
       "      <td>261</td>\n",
       "      <td>Manhattan</td>\n",
       "      <td>POLYGON ((-74.01333 40.70503, -74.01327 40.704...</td>\n",
       "    </tr>\n",
       "    <tr>\n",
       "      <th>261</th>\n",
       "      <td>262</td>\n",
       "      <td>0.049064</td>\n",
       "      <td>0.000122</td>\n",
       "      <td>Yorkville East</td>\n",
       "      <td>262</td>\n",
       "      <td>Manhattan</td>\n",
       "      <td>MULTIPOLYGON (((-73.94383 40.78286, -73.94376 ...</td>\n",
       "    </tr>\n",
       "    <tr>\n",
       "      <th>262</th>\n",
       "      <td>263</td>\n",
       "      <td>0.037017</td>\n",
       "      <td>0.000066</td>\n",
       "      <td>Yorkville West</td>\n",
       "      <td>263</td>\n",
       "      <td>Manhattan</td>\n",
       "      <td>POLYGON ((-73.95219 40.77302, -73.95269 40.772...</td>\n",
       "    </tr>\n",
       "  </tbody>\n",
       "</table>\n",
       "<p>263 rows × 7 columns</p>\n",
       "</div>"
      ],
      "text/plain": [
       "     OBJECTID  ...                                           geometry\n",
       "0           1  ...  POLYGON ((-74.18445 40.695, -74.18449 40.6951,...\n",
       "1           2  ...  MULTIPOLYGON (((-73.82338 40.63899, -73.82277 ...\n",
       "2           3  ...  POLYGON ((-73.84793 40.87134, -73.84725 40.870...\n",
       "3           4  ...  POLYGON ((-73.97177 40.72582, -73.97179 40.725...\n",
       "4           5  ...  POLYGON ((-74.17422 40.56257, -74.17349 40.562...\n",
       "..        ...  ...                                                ...\n",
       "258       259  ...  POLYGON ((-73.85107 40.91037, -73.85207 40.909...\n",
       "259       260  ...  POLYGON ((-73.90175 40.76078, -73.90147 40.759...\n",
       "260       261  ...  POLYGON ((-74.01333 40.70503, -74.01327 40.704...\n",
       "261       262  ...  MULTIPOLYGON (((-73.94383 40.78286, -73.94376 ...\n",
       "262       263  ...  POLYGON ((-73.95219 40.77302, -73.95269 40.772...\n",
       "\n",
       "[263 rows x 7 columns]"
      ]
     },
     "execution_count": 10,
     "metadata": {},
     "output_type": "execute_result"
    }
   ],
   "source": [
    "zones"
   ]
  },
  {
   "cell_type": "code",
   "execution_count": 0,
   "metadata": {
    "application/vnd.databricks.v1+cell": {
     "cellMetadata": {
      "byteLimit": 2048000,
      "rowLimit": 10000
     },
     "inputWidgets": {},
     "nuid": "b93eb91b-e4f1-4737-b754-867c0e949eca",
     "showTitle": false,
     "tableResultSettingsMap": {},
     "title": ""
    }
   },
   "outputs": [
    {
     "output_type": "stream",
     "name": "stderr",
     "output_type": "stream",
     "text": [
      "/root/.ipykernel/5836/command-3885246210596559-928497781:2: UserWarning: Geometry is in a geographic CRS. Results from 'centroid' are likely incorrect. Use 'GeoSeries.to_crs()' to re-project geometries to a projected CRS before this operation.\n\n  zones['latitude'] = zones.geometry.centroid.y\n/root/.ipykernel/5836/command-3885246210596559-928497781:3: UserWarning: Geometry is in a geographic CRS. Results from 'centroid' are likely incorrect. Use 'GeoSeries.to_crs()' to re-project geometries to a projected CRS before this operation.\n\n  zones['longitude'] = zones.geometry.centroid.x\n"
     ]
    }
   ],
   "source": [
    "# Extract 'LocationID', 'latitude', and 'longitude' (using centroids of the polygons)\n",
    "zones['latitude'] = zones.geometry.centroid.y\n",
    "zones['longitude'] = zones.geometry.centroid.x"
   ]
  },
  {
   "cell_type": "code",
   "execution_count": 0,
   "metadata": {
    "application/vnd.databricks.v1+cell": {
     "cellMetadata": {
      "byteLimit": 2048000,
      "rowLimit": 10000
     },
     "inputWidgets": {},
     "nuid": "4ee070e3-8cf1-4adf-800a-9cd3df86b83e",
     "showTitle": false,
     "tableResultSettingsMap": {},
     "title": ""
    }
   },
   "outputs": [],
   "source": [
    "# Select 'LocationID', 'latitude', and 'longitude'\n",
    "location_lat_long_df = zones[['LocationID', 'latitude', 'longitude']]"
   ]
  },
  {
   "cell_type": "code",
   "execution_count": 0,
   "metadata": {
    "application/vnd.databricks.v1+cell": {
     "cellMetadata": {
      "byteLimit": 2048000,
      "rowLimit": 10000
     },
     "inputWidgets": {},
     "nuid": "aa79713e-7765-498c-a251-423be9fd2a1f",
     "showTitle": false,
     "tableResultSettingsMap": {},
     "title": ""
    }
   },
   "outputs": [],
   "source": [
    "# Convert GeoDataFrame to Spark DataFrame\n",
    "location_lat_long_spark_df = spark.createDataFrame(location_lat_long_df)"
   ]
  },
  {
   "cell_type": "code",
   "execution_count": 0,
   "metadata": {
    "application/vnd.databricks.v1+cell": {
     "cellMetadata": {
      "byteLimit": 2048000,
      "rowLimit": 10000
     },
     "inputWidgets": {},
     "nuid": "c1c56864-14ad-4034-802e-abdb1acb65dc",
     "showTitle": false,
     "tableResultSettingsMap": {},
     "title": ""
    }
   },
   "outputs": [],
   "source": [
    "display(location_lat_long_spark_df)"
   ]
  },
  {
   "cell_type": "code",
   "execution_count": 0,
   "metadata": {
    "application/vnd.databricks.v1+cell": {
     "cellMetadata": {
      "byteLimit": 2048000,
      "rowLimit": 10000
     },
     "inputWidgets": {},
     "nuid": "9018f901-f3c4-4b9b-b58d-a13641129d2b",
     "showTitle": false,
     "tableResultSettingsMap": {},
     "title": ""
    }
   },
   "outputs": [
    {
     "output_type": "execute_result",
     "data": {
      "text/plain": [
       "[FileInfo(path='dbfs:/dbfs/FileStore/tables/data_processed_trip_data/_delta_log/', name='_delta_log/', size=0, modificationTime=1732619326421),\n",
       " FileInfo(path='dbfs:/dbfs/FileStore/tables/data_processed_trip_data/part-00000-ee03aa54-de58-4c15-a1a4-e7305da5797c.c000.snappy.parquet', name='part-00000-ee03aa54-de58-4c15-a1a4-e7305da5797c.c000.snappy.parquet', size=54014771, modificationTime=1732618288000),\n",
       " FileInfo(path='dbfs:/dbfs/FileStore/tables/data_processed_trip_data/part-00001-1dcc2395-4d06-4d69-90b3-696a0d024b1e.c000.snappy.parquet', name='part-00001-1dcc2395-4d06-4d69-90b3-696a0d024b1e.c000.snappy.parquet', size=54046480, modificationTime=1732618282000),\n",
       " FileInfo(path='dbfs:/dbfs/FileStore/tables/data_processed_trip_data/part-00002-41e890a8-d1d6-4ae8-8918-3817dc1eb79e.c000.snappy.parquet', name='part-00002-41e890a8-d1d6-4ae8-8918-3817dc1eb79e.c000.snappy.parquet', size=53928881, modificationTime=1732618282000),\n",
       " FileInfo(path='dbfs:/dbfs/FileStore/tables/data_processed_trip_data/part-00003-ef337aa0-5009-40cf-be99-98c202c374a2.c000.snappy.parquet', name='part-00003-ef337aa0-5009-40cf-be99-98c202c374a2.c000.snappy.parquet', size=53912131, modificationTime=1732618300000),\n",
       " FileInfo(path='dbfs:/dbfs/FileStore/tables/data_processed_trip_data/part-00004-cedb4834-32cd-4326-896f-36cce5a0051b.c000.snappy.parquet', name='part-00004-cedb4834-32cd-4326-896f-36cce5a0051b.c000.snappy.parquet', size=53998110, modificationTime=1732618288000),\n",
       " FileInfo(path='dbfs:/dbfs/FileStore/tables/data_processed_trip_data/part-00005-0ea79275-22e4-46f4-9c41-a5950feb973a.c000.snappy.parquet', name='part-00005-0ea79275-22e4-46f4-9c41-a5950feb973a.c000.snappy.parquet', size=54054178, modificationTime=1732618288000),\n",
       " FileInfo(path='dbfs:/dbfs/FileStore/tables/data_processed_trip_data/part-00006-55e00260-b550-4482-a8d2-18b2a59274d6.c000.snappy.parquet', name='part-00006-55e00260-b550-4482-a8d2-18b2a59274d6.c000.snappy.parquet', size=54036300, modificationTime=1732618300000),\n",
       " FileInfo(path='dbfs:/dbfs/FileStore/tables/data_processed_trip_data/part-00007-2dcf968c-d917-4dac-9ac6-db4acf601207.c000.snappy.parquet', name='part-00007-2dcf968c-d917-4dac-9ac6-db4acf601207.c000.snappy.parquet', size=54083865, modificationTime=1732618307000),\n",
       " FileInfo(path='dbfs:/dbfs/FileStore/tables/data_processed_trip_data/part-00008-c7168919-04cf-4f2f-bf1f-5c8236326174.c000.snappy.parquet', name='part-00008-c7168919-04cf-4f2f-bf1f-5c8236326174.c000.snappy.parquet', size=54028841, modificationTime=1732618308000),\n",
       " FileInfo(path='dbfs:/dbfs/FileStore/tables/data_processed_trip_data/part-00009-4d7a5b6e-6439-446a-a831-907fd9a1a2a9.c000.snappy.parquet', name='part-00009-4d7a5b6e-6439-446a-a831-907fd9a1a2a9.c000.snappy.parquet', size=54033093, modificationTime=1732618300000),\n",
       " FileInfo(path='dbfs:/dbfs/FileStore/tables/data_processed_trip_data/part-00010-ff60fb27-82a6-4d56-a14d-d85e66e2be43.c000.snappy.parquet', name='part-00010-ff60fb27-82a6-4d56-a14d-d85e66e2be43.c000.snappy.parquet', size=53973330, modificationTime=1732618294000),\n",
       " FileInfo(path='dbfs:/dbfs/FileStore/tables/data_processed_trip_data/part-00011-b7a385c2-eb31-4389-a599-6dc32afe6692.c000.snappy.parquet', name='part-00011-b7a385c2-eb31-4389-a599-6dc32afe6692.c000.snappy.parquet', size=54065728, modificationTime=1732618300000),\n",
       " FileInfo(path='dbfs:/dbfs/FileStore/tables/data_processed_trip_data/part-00012-5ee6f792-f9d9-4131-b6d5-be0dd057c2ab.c000.snappy.parquet', name='part-00012-5ee6f792-f9d9-4131-b6d5-be0dd057c2ab.c000.snappy.parquet', size=53925486, modificationTime=1732618294000),\n",
       " FileInfo(path='dbfs:/dbfs/FileStore/tables/data_processed_trip_data/part-00013-53dfad0b-266b-4931-bbdb-de5556c19ec0.c000.snappy.parquet', name='part-00013-53dfad0b-266b-4931-bbdb-de5556c19ec0.c000.snappy.parquet', size=53990019, modificationTime=1732618288000),\n",
       " FileInfo(path='dbfs:/dbfs/FileStore/tables/data_processed_trip_data/part-00014-62d64a91-ffba-4f89-a7bc-80d7bf46ff10.c000.snappy.parquet', name='part-00014-62d64a91-ffba-4f89-a7bc-80d7bf46ff10.c000.snappy.parquet', size=53957333, modificationTime=1732618282000),\n",
       " FileInfo(path='dbfs:/dbfs/FileStore/tables/data_processed_trip_data/part-00015-2b294cf7-1155-4c12-9da8-32b34000c4e4.c000.snappy.parquet', name='part-00015-2b294cf7-1155-4c12-9da8-32b34000c4e4.c000.snappy.parquet', size=53983966, modificationTime=1732618294000),\n",
       " FileInfo(path='dbfs:/dbfs/FileStore/tables/data_processed_trip_data/part-00016-6a6eac9e-d7fb-454d-8631-e69c94ad35be.c000.snappy.parquet', name='part-00016-6a6eac9e-d7fb-454d-8631-e69c94ad35be.c000.snappy.parquet', size=53989770, modificationTime=1732618307000),\n",
       " FileInfo(path='dbfs:/dbfs/FileStore/tables/data_processed_trip_data/part-00017-e0cc3a9d-5fe5-44b8-af50-b630bc689437.c000.snappy.parquet', name='part-00017-e0cc3a9d-5fe5-44b8-af50-b630bc689437.c000.snappy.parquet', size=53995434, modificationTime=1732618307000),\n",
       " FileInfo(path='dbfs:/dbfs/FileStore/tables/data_processed_trip_data/part-00018-5d2cfe43-beaf-474f-9794-4b03eab12456.c000.snappy.parquet', name='part-00018-5d2cfe43-beaf-474f-9794-4b03eab12456.c000.snappy.parquet', size=54053351, modificationTime=1732618282000),\n",
       " FileInfo(path='dbfs:/dbfs/FileStore/tables/data_processed_trip_data/part-00019-103a7184-639a-457e-8c5f-e553c049ddf3.c000.snappy.parquet', name='part-00019-103a7184-639a-457e-8c5f-e553c049ddf3.c000.snappy.parquet', size=53960365, modificationTime=1732618294000)]"
      ]
     },
     "execution_count": 15,
     "metadata": {},
     "output_type": "execute_result"
    }
   ],
   "source": [
    "# List all files in the specified DBFS directory\n",
    "dbutils.fs.ls(\"dbfs:/dbfs/FileStore/tables/data_processed_trip_data/\")"
   ]
  },
  {
   "cell_type": "code",
   "execution_count": 0,
   "metadata": {
    "application/vnd.databricks.v1+cell": {
     "cellMetadata": {
      "byteLimit": 2048000,
      "rowLimit": 10000
     },
     "inputWidgets": {},
     "nuid": "90e258df-db63-48a6-abbe-2a52284544cd",
     "showTitle": false,
     "tableResultSettingsMap": {},
     "title": ""
    }
   },
   "outputs": [],
   "source": [
    "# Load the Delta table\n",
    "taxi_zones_df = spark.read.format(\"delta\").load(\"dbfs:/dbfs/FileStore/tables/data_processed_taxi_zones/\")\n",
    "\n",
    "# Show the first few rows to verify\n",
    "display(taxi_zones_df)"
   ]
  },
  {
   "cell_type": "code",
   "execution_count": 0,
   "metadata": {
    "application/vnd.databricks.v1+cell": {
     "cellMetadata": {
      "byteLimit": 2048000,
      "rowLimit": 10000
     },
     "inputWidgets": {},
     "nuid": "797bcd84-c4de-4dbe-ba18-4472f0577f34",
     "showTitle": false,
     "tableResultSettingsMap": {},
     "title": ""
    }
   },
   "outputs": [],
   "source": [
    "# Load the Delta table\n",
    "taxi_df = spark.read.format(\"delta\").load(\"dbfs:/dbfs/FileStore/tables/data_processed_trip_data/\")\n",
    "\n",
    "# Show the first few rows to verify\n",
    "display(taxi_df)"
   ]
  },
  {
   "cell_type": "code",
   "execution_count": 0,
   "metadata": {
    "application/vnd.databricks.v1+cell": {
     "cellMetadata": {
      "byteLimit": 2048000,
      "rowLimit": 10000
     },
     "inputWidgets": {},
     "nuid": "003e6d7d-e0b7-48b8-a1d9-f4ee1e1256fb",
     "showTitle": false,
     "tableResultSettingsMap": {},
     "title": ""
    }
   },
   "outputs": [],
   "source": [
    "location_lat_long_spark_df = location_lat_long_spark_df \\\n",
    "    .withColumnRenamed(\"latitude\", \"latitude\") \\\n",
    "    .withColumnRenamed(\"longitude\", \"longitude\") \\\n",
    "    .withColumnRenamed(\"LocationID\", \"LocationID\")"
   ]
  },
  {
   "cell_type": "code",
   "execution_count": 0,
   "metadata": {
    "application/vnd.databricks.v1+cell": {
     "cellMetadata": {
      "byteLimit": 2048000,
      "rowLimit": 10000
     },
     "inputWidgets": {},
     "nuid": "d53c8b9a-ada7-41a7-a640-d8a1c2cf36f2",
     "showTitle": false,
     "tableResultSettingsMap": {},
     "title": ""
    }
   },
   "outputs": [],
   "source": [
    "# Step 2: Join on PULocationID for pickup coordinates\n",
    "taxi_df = taxi_df.join(\n",
    "    location_lat_long_spark_df.withColumnRenamed(\"LocationID\", \"PULocationID\")\n",
    "    .withColumnRenamed(\"latitude\", \"pickup_latitude\")\n",
    "    .withColumnRenamed(\"longitude\", \"pickup_longitude\"),\n",
    "    on=\"PULocationID\",\n",
    "    how=\"left\"\n",
    ")"
   ]
  },
  {
   "cell_type": "code",
   "execution_count": 0,
   "metadata": {
    "application/vnd.databricks.v1+cell": {
     "cellMetadata": {
      "byteLimit": 2048000,
      "rowLimit": 10000
     },
     "inputWidgets": {},
     "nuid": "bd03225c-7338-4ce3-b72a-75e4f2c06b26",
     "showTitle": false,
     "tableResultSettingsMap": {},
     "title": ""
    }
   },
   "outputs": [],
   "source": [
    "# Step 3: Join on DOLocationID for dropoff coordinates\n",
    "taxi_df = taxi_df.join(\n",
    "    location_lat_long_spark_df.withColumnRenamed(\"LocationID\", \"DOLocationID\")\n",
    "    .withColumnRenamed(\"latitude\", \"dropoff_latitude\")\n",
    "    .withColumnRenamed(\"longitude\", \"dropoff_longitude\"),\n",
    "    on=\"DOLocationID\",\n",
    "    how=\"left\"\n",
    ")"
   ]
  },
  {
   "cell_type": "code",
   "execution_count": 0,
   "metadata": {
    "application/vnd.databricks.v1+cell": {
     "cellMetadata": {
      "byteLimit": 2048000,
      "rowLimit": 10000
     },
     "inputWidgets": {},
     "nuid": "99935daf-4fca-4baa-969e-5b84aa1fd197",
     "showTitle": false,
     "tableResultSettingsMap": {},
     "title": ""
    }
   },
   "outputs": [
    {
     "output_type": "stream",
     "name": "stdout",
     "output_type": "stream",
     "text": [
      "+------------+------------+-------------------+-------------------+---------------+-------------+------------+-----------+------------+---------------------+------------+-------------+------------------+-----------+---------+------------+------------+-------------------+-------------+--------------------+-----------+-----------+------------+------------+-----------------+------------------+------------------+------------------+\n|DOLocationID|PULocationID|    pickup_datetime|   dropoff_datetime|passenger_count|trip_distance|payment_type|fare_amount|tolls_amount|improvement_surcharge|total_amount|trip_duration|pickup_day_of_week|pickup_hour|Month_Num|pickup_month|dropoff_hour|dropoff_day_of_week|dropoff_month|dropoff_week_of_year|pickup_date|pickup_time|dropoff_date|dropoff_time|  pickup_latitude|  pickup_longitude|  dropoff_latitude| dropoff_longitude|\n+------------+------------+-------------------+-------------------+---------------+-------------+------------+-----------+------------+---------------------+------------+-------------+------------------+-----------+---------+------------+------------+-------------------+-------------+--------------------+-----------+-----------+------------+------------+-----------------+------------------+------------------+------------------+\n|         141|         114|2023-10-01 00:25:12|2023-10-01 00:42:53|              1|         3.16|           1|       19.8|         0.0|                  1.0|       29.76|    17.683332|                 1|          0|       10|          10|           0|                  1|           10|                  39| 2023-10-01|   00:25:12|  2023-10-01|    00:42:53| 40.7283403913723|-73.99738026020042| 40.76694821638321|-73.95963474149167|\n|         142|         238|2023-10-01 00:58:16|2023-10-01 01:05:30|              2|         1.07|           1|        9.3|         0.0|                  1.0|       17.16|     7.233333|                 1|          0|       10|          10|           1|                  1|           10|                  39| 2023-10-01|   00:58:16|  2023-10-01|    01:05:30|40.79170493442707|-73.97304890061592| 40.77363329302708|-73.98153220639182|\n|          41|         142|2023-10-01 00:33:16|2023-10-01 00:44:20|              1|         3.28|           1|       16.3|         0.0|                  1.0|        23.3|    11.066667|                 1|          0|       10|          10|           0|                  1|           10|                  39| 2023-10-01|   00:33:16|  2023-10-01|    00:44:20|40.77363329302708|-73.98153220639182| 40.80433394979462|-73.95129200243511|\n|         238|         142|2023-10-01 00:40:43|2023-10-01 00:46:51|              1|          1.7|           2|       10.0|         0.0|                  1.0|        15.0|     6.133333|                 1|          0|       10|          10|           0|                  1|           10|                  39| 2023-10-01|   00:40:43|  2023-10-01|    00:46:51|40.77363329302708|-73.98153220639182| 40.79170493442707|-73.97304890061592|\n|         236|         237|2023-10-01 00:42:44|2023-10-01 00:47:50|              1|         1.58|           1|        8.6|         0.0|                  1.0|       16.32|          5.1|                 1|          0|       10|          10|           0|                  1|           10|                  39| 2023-10-01|   00:42:44|  2023-10-01|    00:47:50|40.76861518381157|-73.96563453538069|40.780436437189955|-73.95701169835736|\n+------------+------------+-------------------+-------------------+---------------+-------------+------------+-----------+------------+---------------------+------------+-------------+------------------+-----------+---------+------------+------------+-------------------+-------------+--------------------+-----------+-----------+------------+------------+-----------------+------------------+------------------+------------------+\nonly showing top 5 rows\n\n"
     ]
    }
   ],
   "source": [
    "# Show result to verify joins\n",
    "taxi_df.show(5)"
   ]
  },
  {
   "cell_type": "code",
   "execution_count": 0,
   "metadata": {
    "application/vnd.databricks.v1+cell": {
     "cellMetadata": {
      "byteLimit": 2048000,
      "rowLimit": 10000
     },
     "inputWidgets": {},
     "nuid": "7c8096d8-010a-4722-92e8-0bf3b351dd3c",
     "showTitle": false,
     "tableResultSettingsMap": {},
     "title": ""
    }
   },
   "outputs": [],
   "source": [
    "from pyspark.sql.functions import udf\n",
    "from pyspark.sql.types import DoubleType\n",
    "import math"
   ]
  },
  {
   "cell_type": "code",
   "execution_count": 0,
   "metadata": {
    "application/vnd.databricks.v1+cell": {
     "cellMetadata": {
      "byteLimit": 2048000,
      "rowLimit": 10000
     },
     "inputWidgets": {},
     "nuid": "9c6efa46-44a3-437e-9b3f-fcc2cf3b125e",
     "showTitle": false,
     "tableResultSettingsMap": {},
     "title": ""
    }
   },
   "outputs": [],
   "source": [
    "# Define the Haversine function\n",
    "def haversine(lat1, lon1, lat2, lon2):\n",
    "    # Earth radius in kilometers\n",
    "    R = 6371.0  \n",
    "    # Convert degrees to radians\n",
    "    lat1_rad = math.radians(lat1)\n",
    "    lon1_rad = math.radians(lon1)\n",
    "    lat2_rad = math.radians(lat2)\n",
    "    lon2_rad = math.radians(lon2)\n",
    "\n",
    "    # Haversine formula\n",
    "    dlat = lat2_rad - lat1_rad\n",
    "    dlon = lon2_rad - lon1_rad\n",
    "    a = (math.sin(dlat / 2) ** 2 +\n",
    "         math.cos(lat1_rad) * math.cos(lat2_rad) * (math.sin(dlon / 2) ** 2))\n",
    "    c = 2 * math.asin(math.sqrt(a))\n",
    "    distance = R * c  # Result in kilometers\n",
    "    return distance"
   ]
  },
  {
   "cell_type": "code",
   "execution_count": 0,
   "metadata": {
    "application/vnd.databricks.v1+cell": {
     "cellMetadata": {
      "byteLimit": 2048000,
      "rowLimit": 10000
     },
     "inputWidgets": {},
     "nuid": "c946e8ee-f092-4397-8b1a-fb6c04365233",
     "showTitle": false,
     "tableResultSettingsMap": {},
     "title": ""
    }
   },
   "outputs": [],
   "source": [
    "# Register the Haversine UDF\n",
    "haversine_udf = udf(haversine, DoubleType())"
   ]
  },
  {
   "cell_type": "code",
   "execution_count": 0,
   "metadata": {
    "application/vnd.databricks.v1+cell": {
     "cellMetadata": {
      "byteLimit": 2048000,
      "rowLimit": 10000
     },
     "inputWidgets": {},
     "nuid": "b9e6d607-0368-44c9-9d28-20ae7b1c098f",
     "showTitle": false,
     "tableResultSettingsMap": {},
     "title": ""
    }
   },
   "outputs": [],
   "source": [
    "# Add 'distance_km' column using the Haversine UDF, ensuring no null values\n",
    "taxi_df = taxi_df.withColumn(\n",
    "    \"distance_km\",\n",
    "    haversine_udf(\n",
    "        col(\"pickup_latitude\"),\n",
    "        col(\"pickup_longitude\"),\n",
    "        col(\"dropoff_latitude\"),\n",
    "        col(\"dropoff_longitude\")\n",
    "    )\n",
    ").na.fill({\"distance_km\": 0})  \n",
    "# Replace null distances with 0 if needed"
   ]
  },
  {
   "cell_type": "code",
   "execution_count": 0,
   "metadata": {
    "application/vnd.databricks.v1+cell": {
     "cellMetadata": {
      "byteLimit": 2048000,
      "rowLimit": 10000
     },
     "inputWidgets": {},
     "nuid": "ec6f32f7-f6a3-410f-aec4-1f5f1cfedd87",
     "showTitle": false,
     "tableResultSettingsMap": {},
     "title": ""
    }
   },
   "outputs": [
    {
     "output_type": "stream",
     "name": "stdout",
     "output_type": "stream",
     "text": [
      "+------------+------------+-------------------+-------------------+---------------+-------------+------------+-----------+------------+---------------------+------------+-------------+------------------+-----------+---------+------------+------------+-------------------+-------------+--------------------+-----------+-----------+------------+------------+-----------------+------------------+------------------+------------------+------------------+\n|DOLocationID|PULocationID|    pickup_datetime|   dropoff_datetime|passenger_count|trip_distance|payment_type|fare_amount|tolls_amount|improvement_surcharge|total_amount|trip_duration|pickup_day_of_week|pickup_hour|Month_Num|pickup_month|dropoff_hour|dropoff_day_of_week|dropoff_month|dropoff_week_of_year|pickup_date|pickup_time|dropoff_date|dropoff_time|  pickup_latitude|  pickup_longitude|  dropoff_latitude| dropoff_longitude|       distance_km|\n+------------+------------+-------------------+-------------------+---------------+-------------+------------+-----------+------------+---------------------+------------+-------------+------------------+-----------+---------+------------+------------+-------------------+-------------+--------------------+-----------+-----------+------------+------------+-----------------+------------------+------------------+------------------+------------------+\n|         141|         114|2023-10-01 00:25:12|2023-10-01 00:42:53|              1|         3.16|           1|       19.8|         0.0|                  1.0|       29.76|    17.683332|                 1|          0|       10|          10|           0|                  1|           10|                  39| 2023-10-01|   00:25:12|  2023-10-01|    00:42:53| 40.7283403913723|-73.99738026020042| 40.76694821638321|-73.95963474149167| 5.342309172263154|\n|         142|         238|2023-10-01 00:58:16|2023-10-01 01:05:30|              2|         1.07|           1|        9.3|         0.0|                  1.0|       17.16|     7.233333|                 1|          0|       10|          10|           1|                  1|           10|                  39| 2023-10-01|   00:58:16|  2023-10-01|    01:05:30|40.79170493442707|-73.97304890061592| 40.77363329302708|-73.98153220639182| 2.132640816475448|\n|          41|         142|2023-10-01 00:33:16|2023-10-01 00:44:20|              1|         3.28|           1|       16.3|         0.0|                  1.0|        23.3|    11.066667|                 1|          0|       10|          10|           0|                  1|           10|                  39| 2023-10-01|   00:33:16|  2023-10-01|    00:44:20|40.77363329302708|-73.98153220639182| 40.80433394979462|-73.95129200243511|  4.25853843538411|\n|         238|         142|2023-10-01 00:40:43|2023-10-01 00:46:51|              1|          1.7|           2|       10.0|         0.0|                  1.0|        15.0|     6.133333|                 1|          0|       10|          10|           0|                  1|           10|                  39| 2023-10-01|   00:40:43|  2023-10-01|    00:46:51|40.77363329302708|-73.98153220639182| 40.79170493442707|-73.97304890061592| 2.132640816475448|\n|         236|         237|2023-10-01 00:42:44|2023-10-01 00:47:50|              1|         1.58|           1|        8.6|         0.0|                  1.0|       16.32|          5.1|                 1|          0|       10|          10|           0|                  1|           10|                  39| 2023-10-01|   00:42:44|  2023-10-01|    00:47:50|40.76861518381157|-73.96563453538069|40.780436437189955|-73.95701169835736|1.5016761440118602|\n+------------+------------+-------------------+-------------------+---------------+-------------+------------+-----------+------------+---------------------+------------+-------------+------------------+-----------+---------+------------+------------+-------------------+-------------+--------------------+-----------+-----------+------------+------------+-----------------+------------------+------------------+------------------+------------------+\nonly showing top 5 rows\n\n"
     ]
    }
   ],
   "source": [
    "taxi_df.show(5)"
   ]
  },
  {
   "cell_type": "code",
   "execution_count": 0,
   "metadata": {
    "application/vnd.databricks.v1+cell": {
     "cellMetadata": {
      "byteLimit": 2048000,
      "rowLimit": 10000
     },
     "inputWidgets": {},
     "nuid": "77d77601-566c-4557-bfb8-f8e635bbf34b",
     "showTitle": false,
     "tableResultSettingsMap": {},
     "title": ""
    }
   },
   "outputs": [
    {
     "output_type": "stream",
     "name": "stdout",
     "output_type": "stream",
     "text": [
      "Shape: (37013080, 29)\n"
     ]
    }
   ],
   "source": [
    "# Check the Shape and Schema\n",
    "# Get the number of rows and columns\n",
    "num_rows = taxi_df.count()\n",
    "num_cols = len(taxi_df.columns)\n",
    "print(f\"Shape: ({num_rows}, {num_cols})\")"
   ]
  },
  {
   "cell_type": "code",
   "execution_count": 0,
   "metadata": {
    "application/vnd.databricks.v1+cell": {
     "cellMetadata": {
      "byteLimit": 2048000,
      "rowLimit": 10000
     },
     "inputWidgets": {},
     "nuid": "7eddca93-6b19-4273-ad85-02b115eb33a0",
     "showTitle": false,
     "tableResultSettingsMap": {},
     "title": ""
    }
   },
   "outputs": [
    {
     "output_type": "stream",
     "name": "stdout",
     "output_type": "stream",
     "text": [
      "root\n |-- DOLocationID: integer (nullable = true)\n |-- PULocationID: integer (nullable = true)\n |-- pickup_datetime: timestamp (nullable = true)\n |-- dropoff_datetime: timestamp (nullable = true)\n |-- passenger_count: integer (nullable = true)\n |-- trip_distance: float (nullable = true)\n |-- payment_type: string (nullable = true)\n |-- fare_amount: float (nullable = true)\n |-- tolls_amount: float (nullable = true)\n |-- improvement_surcharge: float (nullable = true)\n |-- total_amount: float (nullable = true)\n |-- trip_duration: float (nullable = true)\n |-- pickup_day_of_week: integer (nullable = true)\n |-- pickup_hour: integer (nullable = true)\n |-- Month_Num: integer (nullable = true)\n |-- pickup_month: integer (nullable = true)\n |-- dropoff_hour: integer (nullable = true)\n |-- dropoff_day_of_week: integer (nullable = true)\n |-- dropoff_month: integer (nullable = true)\n |-- dropoff_week_of_year: integer (nullable = true)\n |-- pickup_date: string (nullable = true)\n |-- pickup_time: string (nullable = true)\n |-- dropoff_date: string (nullable = true)\n |-- dropoff_time: string (nullable = true)\n |-- pickup_latitude: double (nullable = true)\n |-- pickup_longitude: double (nullable = true)\n |-- dropoff_latitude: double (nullable = true)\n |-- dropoff_longitude: double (nullable = true)\n |-- distance_km: double (nullable = false)\n\n"
     ]
    }
   ],
   "source": [
    "# Get DataFrame information\n",
    "taxi_df.printSchema()"
   ]
  },
  {
   "cell_type": "code",
   "execution_count": 0,
   "metadata": {
    "application/vnd.databricks.v1+cell": {
     "cellMetadata": {
      "byteLimit": 2048000,
      "rowLimit": 10000
     },
     "inputWidgets": {},
     "nuid": "632bbd60-64f1-4dc1-adcf-d316125aa9e5",
     "showTitle": false,
     "tableResultSettingsMap": {},
     "title": ""
    }
   },
   "outputs": [
    {
     "output_type": "stream",
     "name": "stdout",
     "output_type": "stream",
     "text": [
      "root\n |-- DOLocationID: integer (nullable = true)\n |-- PULocationID: integer (nullable = true)\n |-- pickup_datetime: timestamp (nullable = true)\n |-- dropoff_datetime: timestamp (nullable = true)\n |-- passenger_count: integer (nullable = true)\n |-- trip_distance: float (nullable = true)\n |-- payment_type: string (nullable = true)\n |-- fare_amount: float (nullable = true)\n |-- tolls_amount: float (nullable = true)\n |-- improvement_surcharge: float (nullable = true)\n |-- total_amount: float (nullable = true)\n |-- trip_duration: float (nullable = true)\n |-- pickup_day_of_week: integer (nullable = true)\n |-- pickup_hour: integer (nullable = true)\n |-- Month_Num: integer (nullable = true)\n |-- pickup_month: integer (nullable = true)\n |-- dropoff_hour: integer (nullable = true)\n |-- dropoff_day_of_week: integer (nullable = true)\n |-- dropoff_month: integer (nullable = true)\n |-- dropoff_week_of_year: integer (nullable = true)\n |-- pickup_date: string (nullable = true)\n |-- pickup_time: string (nullable = true)\n |-- dropoff_date: string (nullable = true)\n |-- dropoff_time: string (nullable = true)\n |-- pickup_latitude: double (nullable = true)\n |-- pickup_longitude: double (nullable = true)\n |-- dropoff_latitude: double (nullable = true)\n |-- dropoff_longitude: double (nullable = true)\n |-- distance_km: double (nullable = false)\n\nroot\n |-- LocationID: integer (nullable = true)\n |-- Borough: string (nullable = true)\n |-- Zone: string (nullable = true)\n |-- service_zone: string (nullable = true)\n\n"
     ]
    }
   ],
   "source": [
    "taxi_df.printSchema()\n",
    "taxi_zones_df.printSchema()"
   ]
  },
  {
   "cell_type": "code",
   "execution_count": 0,
   "metadata": {
    "application/vnd.databricks.v1+cell": {
     "cellMetadata": {
      "byteLimit": 2048000,
      "rowLimit": 10000
     },
     "inputWidgets": {},
     "nuid": "4b89ee1e-9e7f-4f88-bda9-455b9a8ef83c",
     "showTitle": false,
     "tableResultSettingsMap": {},
     "title": ""
    }
   },
   "outputs": [],
   "source": [
    "from pyspark.sql import functions as F\n",
    "\n",
    "# Renaming columns in taxi_zones_df to avoid conflicts when joining\n",
    "taxi_zones_df_renamed = taxi_zones_df \\\n",
    "    .withColumnRenamed(\"Borough\", \"pickup_borough\") \\\n",
    "    .withColumnRenamed(\"Zone\", \"pickup_zone\") \\\n",
    "    .withColumnRenamed(\"service_zone\", \"pickup_service_zone\")"
   ]
  },
  {
   "cell_type": "code",
   "execution_count": 0,
   "metadata": {
    "application/vnd.databricks.v1+cell": {
     "cellMetadata": {
      "byteLimit": 2048000,
      "rowLimit": 10000
     },
     "inputWidgets": {},
     "nuid": "a7011825-6290-45a5-a588-7d723f9df4b9",
     "showTitle": false,
     "tableResultSettingsMap": {},
     "title": ""
    }
   },
   "outputs": [],
   "source": [
    "# Join on PULocationID to get pickup information\n",
    "taxi_df = taxi_df.join(\n",
    "    taxi_zones_df_renamed,\n",
    "    taxi_df.PULocationID == taxi_zones_df_renamed.LocationID,\n",
    "    \"left\"\n",
    ").drop(taxi_zones_df_renamed.LocationID)"
   ]
  },
  {
   "cell_type": "code",
   "execution_count": 0,
   "metadata": {
    "application/vnd.databricks.v1+cell": {
     "cellMetadata": {
      "byteLimit": 2048000,
      "rowLimit": 10000
     },
     "inputWidgets": {},
     "nuid": "69e1f2f3-ddcf-429c-9bd6-186b10c60b03",
     "showTitle": false,
     "tableResultSettingsMap": {},
     "title": ""
    }
   },
   "outputs": [],
   "source": [
    "# Renaming columns again for dropoff information\n",
    "taxi_zones_df_renamed = taxi_zones_df \\\n",
    "    .withColumnRenamed(\"Borough\", \"dropoff_borough\") \\\n",
    "    .withColumnRenamed(\"Zone\", \"dropoff_zone\") \\\n",
    "    .withColumnRenamed(\"service_zone\", \"dropoff_service_zone\")"
   ]
  },
  {
   "cell_type": "code",
   "execution_count": 0,
   "metadata": {
    "application/vnd.databricks.v1+cell": {
     "cellMetadata": {
      "byteLimit": 2048000,
      "rowLimit": 10000
     },
     "inputWidgets": {},
     "nuid": "1dc03a51-507a-4550-85fb-586261052d3f",
     "showTitle": false,
     "tableResultSettingsMap": {},
     "title": ""
    }
   },
   "outputs": [],
   "source": [
    "# Join on DOLocationID to get dropoff information\n",
    "taxi_df = taxi_df.join(\n",
    "    taxi_zones_df_renamed,\n",
    "    taxi_df.DOLocationID == taxi_zones_df_renamed.LocationID,\n",
    "    \"left\"\n",
    ").drop(taxi_zones_df_renamed.LocationID)"
   ]
  },
  {
   "cell_type": "code",
   "execution_count": 0,
   "metadata": {
    "application/vnd.databricks.v1+cell": {
     "cellMetadata": {
      "byteLimit": 2048000,
      "rowLimit": 10000
     },
     "inputWidgets": {},
     "nuid": "e29f0116-1662-4390-bc7b-c35ae681584c",
     "showTitle": false,
     "tableResultSettingsMap": {},
     "title": ""
    }
   },
   "outputs": [],
   "source": [
    "# Show the result\n",
    "taxi_df.show(truncate=False)"
   ]
  },
  {
   "cell_type": "code",
   "execution_count": 0,
   "metadata": {
    "application/vnd.databricks.v1+cell": {
     "cellMetadata": {
      "byteLimit": 2048000,
      "rowLimit": 10000
     },
     "inputWidgets": {},
     "nuid": "7102b965-212c-49b6-8211-8a31f73eb131",
     "showTitle": false,
     "tableResultSettingsMap": {},
     "title": ""
    }
   },
   "outputs": [
    {
     "output_type": "display_data",
     "data": {
      "text/html": [
       "<style scoped>\n",
       "  .table-result-container {\n",
       "    max-height: 300px;\n",
       "    overflow: auto;\n",
       "  }\n",
       "  table, th, td {\n",
       "    border: 1px solid black;\n",
       "    border-collapse: collapse;\n",
       "  }\n",
       "  th, td {\n",
       "    padding: 5px;\n",
       "  }\n",
       "  th {\n",
       "    text-align: left;\n",
       "  }\n",
       "</style><div class='table-result-container'><table class='table-result'><thead style='background-color: white'><tr><th>sum(dropoff_time)</th><th>sum(DOLocationID)</th><th>sum(improvement_surcharge)</th><th>sum(pickup_hour)</th><th>sum(PULocationID)</th><th>sum(trip_distance)</th><th>sum(dropoff_borough)</th><th>sum(pickup_service_zone)</th><th>sum(pickup_date)</th><th>sum(dropoff_longitude)</th><th>sum(LocationID)</th><th>sum(pickup_latitude)</th><th>sum(dropoff_day_of_week)</th><th>sum(tolls_amount)</th><th>sum(dropoff_date)</th><th>sum(pickup_time)</th><th>sum(Month_Num)</th><th>sum(pickup_zone)</th><th>sum(pickup_borough)</th><th>sum(payment_type)</th><th>sum(fare_amount)</th><th>sum(pickup_longitude)</th><th>sum(passenger_count)</th><th>sum(dropoff_month)</th><th>sum(dropoff_hour)</th><th>sum(pickup_day_of_week)</th><th>sum(dropoff_zone)</th><th>sum(distance_km)</th><th>sum(dropoff_datetime)</th><th>sum(dropoff_week_of_year)</th><th>sum(trip_duration)</th><th>sum(total_amount)</th><th>sum(pickup_datetime)</th><th>sum(dropoff_latitude)</th><th>sum(dropoff_service_zone)</th><th>sum(pickup_month)</th></tr></thead><tbody><tr><td>0</td><td>0</td><td>0</td><td>0</td><td>0</td><td>0</td><td>545179</td><td>376552</td><td>0</td><td>545919</td><td>545179</td><td>376665</td><td>0</td><td>0</td><td>0</td><td>0</td><td>0</td><td>376552</td><td>376552</td><td>0</td><td>0</td><td>376665</td><td>0</td><td>0</td><td>0</td><td>0</td><td>545179</td><td>0</td><td>0</td><td>0</td><td>0</td><td>0</td><td>0</td><td>545919</td><td>545179</td><td>0</td></tr></tbody></table></div>"
      ]
     },
     "metadata": {
      "application/vnd.databricks.v1+output": {
       "addedWidgets": {},
       "aggData": [],
       "aggError": "",
       "aggOverflow": false,
       "aggSchema": [],
       "aggSeriesLimitReached": false,
       "aggType": "",
       "arguments": {},
       "columnCustomDisplayInfos": {},
       "data": [
        [
         0,
         0,
         0,
         0,
         0,
         0,
         545179,
         376552,
         0,
         545919,
         545179,
         376665,
         0,
         0,
         0,
         0,
         0,
         376552,
         376552,
         0,
         0,
         376665,
         0,
         0,
         0,
         0,
         545179,
         0,
         0,
         0,
         0,
         0,
         0,
         545919,
         545179,
         0
        ]
       ],
       "datasetInfos": [],
       "dbfsResultPath": null,
       "isJsonSchema": true,
       "metadata": {},
       "overflow": false,
       "plotOptions": {
        "customPlotOptions": {},
        "displayType": "table",
        "pivotAggregation": null,
        "pivotColumns": null,
        "xColumns": null,
        "yColumns": null
       },
       "removedWidgets": [],
       "schema": [
        {
         "metadata": "{}",
         "name": "sum(dropoff_time)",
         "type": "\"long\""
        },
        {
         "metadata": "{}",
         "name": "sum(DOLocationID)",
         "type": "\"long\""
        },
        {
         "metadata": "{}",
         "name": "sum(improvement_surcharge)",
         "type": "\"long\""
        },
        {
         "metadata": "{}",
         "name": "sum(pickup_hour)",
         "type": "\"long\""
        },
        {
         "metadata": "{}",
         "name": "sum(PULocationID)",
         "type": "\"long\""
        },
        {
         "metadata": "{}",
         "name": "sum(trip_distance)",
         "type": "\"long\""
        },
        {
         "metadata": "{}",
         "name": "sum(dropoff_borough)",
         "type": "\"long\""
        },
        {
         "metadata": "{}",
         "name": "sum(pickup_service_zone)",
         "type": "\"long\""
        },
        {
         "metadata": "{}",
         "name": "sum(pickup_date)",
         "type": "\"long\""
        },
        {
         "metadata": "{}",
         "name": "sum(dropoff_longitude)",
         "type": "\"long\""
        },
        {
         "metadata": "{}",
         "name": "sum(LocationID)",
         "type": "\"long\""
        },
        {
         "metadata": "{}",
         "name": "sum(pickup_latitude)",
         "type": "\"long\""
        },
        {
         "metadata": "{}",
         "name": "sum(dropoff_day_of_week)",
         "type": "\"long\""
        },
        {
         "metadata": "{}",
         "name": "sum(tolls_amount)",
         "type": "\"long\""
        },
        {
         "metadata": "{}",
         "name": "sum(dropoff_date)",
         "type": "\"long\""
        },
        {
         "metadata": "{}",
         "name": "sum(pickup_time)",
         "type": "\"long\""
        },
        {
         "metadata": "{}",
         "name": "sum(Month_Num)",
         "type": "\"long\""
        },
        {
         "metadata": "{}",
         "name": "sum(pickup_zone)",
         "type": "\"long\""
        },
        {
         "metadata": "{}",
         "name": "sum(pickup_borough)",
         "type": "\"long\""
        },
        {
         "metadata": "{}",
         "name": "sum(payment_type)",
         "type": "\"long\""
        },
        {
         "metadata": "{}",
         "name": "sum(fare_amount)",
         "type": "\"long\""
        },
        {
         "metadata": "{}",
         "name": "sum(pickup_longitude)",
         "type": "\"long\""
        },
        {
         "metadata": "{}",
         "name": "sum(passenger_count)",
         "type": "\"long\""
        },
        {
         "metadata": "{}",
         "name": "sum(dropoff_month)",
         "type": "\"long\""
        },
        {
         "metadata": "{}",
         "name": "sum(dropoff_hour)",
         "type": "\"long\""
        },
        {
         "metadata": "{}",
         "name": "sum(pickup_day_of_week)",
         "type": "\"long\""
        },
        {
         "metadata": "{}",
         "name": "sum(dropoff_zone)",
         "type": "\"long\""
        },
        {
         "metadata": "{}",
         "name": "sum(distance_km)",
         "type": "\"long\""
        },
        {
         "metadata": "{}",
         "name": "sum(dropoff_datetime)",
         "type": "\"long\""
        },
        {
         "metadata": "{}",
         "name": "sum(dropoff_week_of_year)",
         "type": "\"long\""
        },
        {
         "metadata": "{}",
         "name": "sum(trip_duration)",
         "type": "\"long\""
        },
        {
         "metadata": "{}",
         "name": "sum(total_amount)",
         "type": "\"long\""
        },
        {
         "metadata": "{}",
         "name": "sum(pickup_datetime)",
         "type": "\"long\""
        },
        {
         "metadata": "{}",
         "name": "sum(dropoff_latitude)",
         "type": "\"long\""
        },
        {
         "metadata": "{}",
         "name": "sum(dropoff_service_zone)",
         "type": "\"long\""
        },
        {
         "metadata": "{}",
         "name": "sum(pickup_month)",
         "type": "\"long\""
        }
       ],
       "type": "table"
      }
     },
     "output_type": "display_data"
    }
   ],
   "source": [
    "# Check for Missing Values in each column\n",
    "# Check for missing values\n",
    "missing_values = taxi_df.select([((taxi_df[column].isNull()).cast(\"int\")).alias(column) for column in taxi_df.columns]) \\\n",
    "                                .agg({column: 'sum' for column in taxi_df.columns})\n",
    "\n",
    "display(missing_values.limit(5))\n"
   ]
  },
  {
   "cell_type": "code",
   "execution_count": 0,
   "metadata": {
    "application/vnd.databricks.v1+cell": {
     "cellMetadata": {
      "byteLimit": 2048000,
      "rowLimit": 10000
     },
     "inputWidgets": {},
     "nuid": "90c29ac7-5618-4f61-bc30-c2703bb064d4",
     "showTitle": false,
     "tableResultSettingsMap": {},
     "title": ""
    }
   },
   "outputs": [
    {
     "output_type": "stream",
     "name": "stdout",
     "output_type": "stream",
     "text": [
      "+------------+------------+\n|PULocationID|DOLocationID|\n+------------+------------+\n+------------+------------+\n\n"
     ]
    }
   ],
   "source": [
    "taxi_df.select(\"PULocationID\", \"DOLocationID\").filter(col(\"PULocationID\").isNull() | col(\"DOLocationID\").isNull()).show()"
   ]
  },
  {
   "cell_type": "code",
   "execution_count": 0,
   "metadata": {
    "application/vnd.databricks.v1+cell": {
     "cellMetadata": {
      "byteLimit": 2048000,
      "rowLimit": 10000
     },
     "inputWidgets": {},
     "nuid": "644c1af1-7e3e-4143-8611-bdcacf1376c1",
     "showTitle": false,
     "tableResultSettingsMap": {},
     "title": ""
    }
   },
   "outputs": [],
   "source": [
    "# Get distinct pickup locations and rename for joining\n",
    "pickup_locations = taxi_df.select(\"PULocationID\").distinct().withColumnRenamed(\"PULocationID\", \"LocationID\")\n",
    "\n",
    "# Get distinct dropoff locations and rename for joining\n",
    "dropoff_locations = taxi_df.select(\"DOLocationID\").distinct().withColumnRenamed(\"DOLocationID\", \"LocationID\")\n",
    "\n",
    "# Find missing pickup locations\n",
    "missing_pickup_locations = pickup_locations.join(location_lat_long_spark_df, on=\"LocationID\", how=\"left_anti\")\n",
    "\n",
    "# Find missing dropoff locations\n",
    "missing_dropoff_locations = dropoff_locations.join(location_lat_long_spark_df, on=\"LocationID\", how=\"left_anti\")"
   ]
  },
  {
   "cell_type": "code",
   "execution_count": 0,
   "metadata": {
    "application/vnd.databricks.v1+cell": {
     "cellMetadata": {
      "byteLimit": 2048000,
      "rowLimit": 10000
     },
     "inputWidgets": {},
     "nuid": "64b38285-b614-4e23-a363-b9b389ed635c",
     "showTitle": false,
     "tableResultSettingsMap": {},
     "title": ""
    }
   },
   "outputs": [
    {
     "output_type": "stream",
     "name": "stdout",
     "output_type": "stream",
     "text": [
      "Missing Pickup Locations:\n+----------+\n|LocationID|\n+----------+\n|        57|\n|       264|\n|       265|\n|       105|\n+----------+\n\n"
     ]
    }
   ],
   "source": [
    "# Display the results\n",
    "print(\"Missing Pickup Locations:\")\n",
    "missing_pickup_locations.show()"
   ]
  },
  {
   "cell_type": "code",
   "execution_count": 0,
   "metadata": {
    "application/vnd.databricks.v1+cell": {
     "cellMetadata": {
      "byteLimit": 2048000,
      "rowLimit": 10000
     },
     "inputWidgets": {},
     "nuid": "89e2b376-ac99-4d4e-996f-f86eed3eb6ef",
     "showTitle": false,
     "tableResultSettingsMap": {},
     "title": ""
    }
   },
   "outputs": [
    {
     "output_type": "stream",
     "name": "stdout",
     "output_type": "stream",
     "text": [
      "Missing Dropoff Locations:\n+----------+\n|LocationID|\n+----------+\n|        57|\n|       264|\n|       265|\n|       105|\n+----------+\n\n"
     ]
    }
   ],
   "source": [
    "print(\"Missing Dropoff Locations:\")\n",
    "missing_dropoff_locations.show()\n"
   ]
  },
  {
   "cell_type": "code",
   "execution_count": 0,
   "metadata": {
    "application/vnd.databricks.v1+cell": {
     "cellMetadata": {
      "byteLimit": 2048000,
      "rowLimit": 10000
     },
     "inputWidgets": {},
     "nuid": "237fd69b-56c2-49ae-aaf2-625874945012",
     "showTitle": false,
     "tableResultSettingsMap": {},
     "title": ""
    }
   },
   "outputs": [
    {
     "output_type": "stream",
     "name": "stdout",
     "output_type": "stream",
     "text": [
      "Distinct LocationID count: 260\n"
     ]
    }
   ],
   "source": [
    "# Count distinct LocationID values in location_lat_long_spark_df\n",
    "distinct_count = location_lat_long_spark_df.select(\"LocationID\").distinct().count()\n",
    "print(f\"Distinct LocationID count: {distinct_count}\")"
   ]
  },
  {
   "cell_type": "code",
   "execution_count": 0,
   "metadata": {
    "application/vnd.databricks.v1+cell": {
     "cellMetadata": {
      "byteLimit": 2048000,
      "rowLimit": 10000
     },
     "inputWidgets": {},
     "nuid": "b3310bc9-7293-4774-9322-d5371243f711",
     "showTitle": false,
     "tableResultSettingsMap": {},
     "title": ""
    }
   },
   "outputs": [
    {
     "output_type": "display_data",
     "data": {
      "text/html": [
       "<style scoped>\n",
       "  .table-result-container {\n",
       "    max-height: 300px;\n",
       "    overflow: auto;\n",
       "  }\n",
       "  table, th, td {\n",
       "    border: 1px solid black;\n",
       "    border-collapse: collapse;\n",
       "  }\n",
       "  th, td {\n",
       "    padding: 5px;\n",
       "  }\n",
       "  th {\n",
       "    text-align: left;\n",
       "  }\n",
       "</style><div class='table-result-container'><table class='table-result'><thead style='background-color: white'><tr><th>LocationID</th></tr></thead><tbody><tr><td>1</td></tr><tr><td>2</td></tr><tr><td>3</td></tr><tr><td>4</td></tr><tr><td>5</td></tr><tr><td>6</td></tr><tr><td>7</td></tr><tr><td>8</td></tr><tr><td>9</td></tr><tr><td>10</td></tr><tr><td>11</td></tr><tr><td>12</td></tr><tr><td>13</td></tr><tr><td>14</td></tr><tr><td>15</td></tr><tr><td>16</td></tr><tr><td>17</td></tr><tr><td>18</td></tr><tr><td>19</td></tr><tr><td>20</td></tr><tr><td>21</td></tr><tr><td>22</td></tr><tr><td>23</td></tr><tr><td>24</td></tr><tr><td>25</td></tr><tr><td>26</td></tr><tr><td>27</td></tr><tr><td>28</td></tr><tr><td>29</td></tr><tr><td>30</td></tr><tr><td>31</td></tr><tr><td>32</td></tr><tr><td>33</td></tr><tr><td>34</td></tr><tr><td>35</td></tr><tr><td>36</td></tr><tr><td>37</td></tr><tr><td>38</td></tr><tr><td>39</td></tr><tr><td>40</td></tr><tr><td>41</td></tr><tr><td>42</td></tr><tr><td>43</td></tr><tr><td>44</td></tr><tr><td>45</td></tr><tr><td>46</td></tr><tr><td>47</td></tr><tr><td>48</td></tr><tr><td>49</td></tr><tr><td>50</td></tr><tr><td>51</td></tr><tr><td>52</td></tr><tr><td>53</td></tr><tr><td>54</td></tr><tr><td>55</td></tr><tr><td>56</td></tr><tr><td>58</td></tr><tr><td>59</td></tr><tr><td>60</td></tr><tr><td>61</td></tr><tr><td>62</td></tr><tr><td>63</td></tr><tr><td>64</td></tr><tr><td>65</td></tr><tr><td>66</td></tr><tr><td>67</td></tr><tr><td>68</td></tr><tr><td>69</td></tr><tr><td>70</td></tr><tr><td>71</td></tr><tr><td>72</td></tr><tr><td>73</td></tr><tr><td>74</td></tr><tr><td>75</td></tr><tr><td>76</td></tr><tr><td>77</td></tr><tr><td>78</td></tr><tr><td>79</td></tr><tr><td>80</td></tr><tr><td>81</td></tr><tr><td>82</td></tr><tr><td>83</td></tr><tr><td>84</td></tr><tr><td>85</td></tr><tr><td>86</td></tr><tr><td>87</td></tr><tr><td>88</td></tr><tr><td>89</td></tr><tr><td>90</td></tr><tr><td>91</td></tr><tr><td>92</td></tr><tr><td>93</td></tr><tr><td>94</td></tr><tr><td>95</td></tr><tr><td>96</td></tr><tr><td>97</td></tr><tr><td>98</td></tr><tr><td>99</td></tr><tr><td>100</td></tr><tr><td>101</td></tr><tr><td>102</td></tr><tr><td>103</td></tr><tr><td>106</td></tr><tr><td>107</td></tr><tr><td>108</td></tr><tr><td>109</td></tr><tr><td>110</td></tr><tr><td>111</td></tr><tr><td>112</td></tr><tr><td>113</td></tr><tr><td>114</td></tr><tr><td>115</td></tr><tr><td>116</td></tr><tr><td>117</td></tr><tr><td>118</td></tr><tr><td>119</td></tr><tr><td>120</td></tr><tr><td>121</td></tr><tr><td>122</td></tr><tr><td>123</td></tr><tr><td>124</td></tr><tr><td>125</td></tr><tr><td>126</td></tr><tr><td>127</td></tr><tr><td>128</td></tr><tr><td>129</td></tr><tr><td>130</td></tr><tr><td>131</td></tr><tr><td>132</td></tr><tr><td>133</td></tr><tr><td>134</td></tr><tr><td>135</td></tr><tr><td>136</td></tr><tr><td>137</td></tr><tr><td>138</td></tr><tr><td>139</td></tr><tr><td>140</td></tr><tr><td>141</td></tr><tr><td>142</td></tr><tr><td>143</td></tr><tr><td>144</td></tr><tr><td>145</td></tr><tr><td>146</td></tr><tr><td>147</td></tr><tr><td>148</td></tr><tr><td>149</td></tr><tr><td>150</td></tr><tr><td>151</td></tr><tr><td>152</td></tr><tr><td>153</td></tr><tr><td>154</td></tr><tr><td>155</td></tr><tr><td>156</td></tr><tr><td>157</td></tr><tr><td>158</td></tr><tr><td>159</td></tr><tr><td>160</td></tr><tr><td>161</td></tr><tr><td>162</td></tr><tr><td>163</td></tr><tr><td>164</td></tr><tr><td>165</td></tr><tr><td>166</td></tr><tr><td>167</td></tr><tr><td>168</td></tr><tr><td>169</td></tr><tr><td>170</td></tr><tr><td>171</td></tr><tr><td>172</td></tr><tr><td>173</td></tr><tr><td>174</td></tr><tr><td>175</td></tr><tr><td>176</td></tr><tr><td>177</td></tr><tr><td>178</td></tr><tr><td>179</td></tr><tr><td>180</td></tr><tr><td>181</td></tr><tr><td>182</td></tr><tr><td>183</td></tr><tr><td>184</td></tr><tr><td>185</td></tr><tr><td>186</td></tr><tr><td>187</td></tr><tr><td>188</td></tr><tr><td>189</td></tr><tr><td>190</td></tr><tr><td>191</td></tr><tr><td>192</td></tr><tr><td>193</td></tr><tr><td>194</td></tr><tr><td>195</td></tr><tr><td>196</td></tr><tr><td>197</td></tr><tr><td>198</td></tr><tr><td>199</td></tr><tr><td>200</td></tr><tr><td>201</td></tr><tr><td>202</td></tr><tr><td>203</td></tr><tr><td>204</td></tr><tr><td>205</td></tr><tr><td>206</td></tr><tr><td>207</td></tr><tr><td>208</td></tr><tr><td>209</td></tr><tr><td>210</td></tr><tr><td>211</td></tr><tr><td>212</td></tr><tr><td>213</td></tr><tr><td>214</td></tr><tr><td>215</td></tr><tr><td>216</td></tr><tr><td>217</td></tr><tr><td>218</td></tr><tr><td>219</td></tr><tr><td>220</td></tr><tr><td>221</td></tr><tr><td>222</td></tr><tr><td>223</td></tr><tr><td>224</td></tr><tr><td>225</td></tr><tr><td>226</td></tr><tr><td>227</td></tr><tr><td>228</td></tr><tr><td>229</td></tr><tr><td>230</td></tr><tr><td>231</td></tr><tr><td>232</td></tr><tr><td>233</td></tr><tr><td>234</td></tr><tr><td>235</td></tr><tr><td>236</td></tr><tr><td>237</td></tr><tr><td>238</td></tr><tr><td>239</td></tr><tr><td>240</td></tr><tr><td>241</td></tr><tr><td>242</td></tr><tr><td>243</td></tr><tr><td>244</td></tr><tr><td>245</td></tr><tr><td>246</td></tr><tr><td>247</td></tr><tr><td>248</td></tr><tr><td>249</td></tr><tr><td>250</td></tr><tr><td>251</td></tr><tr><td>252</td></tr><tr><td>253</td></tr><tr><td>254</td></tr><tr><td>255</td></tr><tr><td>256</td></tr><tr><td>257</td></tr><tr><td>258</td></tr><tr><td>259</td></tr><tr><td>260</td></tr><tr><td>261</td></tr><tr><td>262</td></tr><tr><td>263</td></tr></tbody></table></div>"
      ]
     },
     "metadata": {
      "application/vnd.databricks.v1+output": {
       "addedWidgets": {},
       "aggData": [],
       "aggError": "",
       "aggOverflow": false,
       "aggSchema": [],
       "aggSeriesLimitReached": false,
       "aggType": "",
       "arguments": {},
       "columnCustomDisplayInfos": {},
       "data": [
        [
         1
        ],
        [
         2
        ],
        [
         3
        ],
        [
         4
        ],
        [
         5
        ],
        [
         6
        ],
        [
         7
        ],
        [
         8
        ],
        [
         9
        ],
        [
         10
        ],
        [
         11
        ],
        [
         12
        ],
        [
         13
        ],
        [
         14
        ],
        [
         15
        ],
        [
         16
        ],
        [
         17
        ],
        [
         18
        ],
        [
         19
        ],
        [
         20
        ],
        [
         21
        ],
        [
         22
        ],
        [
         23
        ],
        [
         24
        ],
        [
         25
        ],
        [
         26
        ],
        [
         27
        ],
        [
         28
        ],
        [
         29
        ],
        [
         30
        ],
        [
         31
        ],
        [
         32
        ],
        [
         33
        ],
        [
         34
        ],
        [
         35
        ],
        [
         36
        ],
        [
         37
        ],
        [
         38
        ],
        [
         39
        ],
        [
         40
        ],
        [
         41
        ],
        [
         42
        ],
        [
         43
        ],
        [
         44
        ],
        [
         45
        ],
        [
         46
        ],
        [
         47
        ],
        [
         48
        ],
        [
         49
        ],
        [
         50
        ],
        [
         51
        ],
        [
         52
        ],
        [
         53
        ],
        [
         54
        ],
        [
         55
        ],
        [
         56
        ],
        [
         58
        ],
        [
         59
        ],
        [
         60
        ],
        [
         61
        ],
        [
         62
        ],
        [
         63
        ],
        [
         64
        ],
        [
         65
        ],
        [
         66
        ],
        [
         67
        ],
        [
         68
        ],
        [
         69
        ],
        [
         70
        ],
        [
         71
        ],
        [
         72
        ],
        [
         73
        ],
        [
         74
        ],
        [
         75
        ],
        [
         76
        ],
        [
         77
        ],
        [
         78
        ],
        [
         79
        ],
        [
         80
        ],
        [
         81
        ],
        [
         82
        ],
        [
         83
        ],
        [
         84
        ],
        [
         85
        ],
        [
         86
        ],
        [
         87
        ],
        [
         88
        ],
        [
         89
        ],
        [
         90
        ],
        [
         91
        ],
        [
         92
        ],
        [
         93
        ],
        [
         94
        ],
        [
         95
        ],
        [
         96
        ],
        [
         97
        ],
        [
         98
        ],
        [
         99
        ],
        [
         100
        ],
        [
         101
        ],
        [
         102
        ],
        [
         103
        ],
        [
         106
        ],
        [
         107
        ],
        [
         108
        ],
        [
         109
        ],
        [
         110
        ],
        [
         111
        ],
        [
         112
        ],
        [
         113
        ],
        [
         114
        ],
        [
         115
        ],
        [
         116
        ],
        [
         117
        ],
        [
         118
        ],
        [
         119
        ],
        [
         120
        ],
        [
         121
        ],
        [
         122
        ],
        [
         123
        ],
        [
         124
        ],
        [
         125
        ],
        [
         126
        ],
        [
         127
        ],
        [
         128
        ],
        [
         129
        ],
        [
         130
        ],
        [
         131
        ],
        [
         132
        ],
        [
         133
        ],
        [
         134
        ],
        [
         135
        ],
        [
         136
        ],
        [
         137
        ],
        [
         138
        ],
        [
         139
        ],
        [
         140
        ],
        [
         141
        ],
        [
         142
        ],
        [
         143
        ],
        [
         144
        ],
        [
         145
        ],
        [
         146
        ],
        [
         147
        ],
        [
         148
        ],
        [
         149
        ],
        [
         150
        ],
        [
         151
        ],
        [
         152
        ],
        [
         153
        ],
        [
         154
        ],
        [
         155
        ],
        [
         156
        ],
        [
         157
        ],
        [
         158
        ],
        [
         159
        ],
        [
         160
        ],
        [
         161
        ],
        [
         162
        ],
        [
         163
        ],
        [
         164
        ],
        [
         165
        ],
        [
         166
        ],
        [
         167
        ],
        [
         168
        ],
        [
         169
        ],
        [
         170
        ],
        [
         171
        ],
        [
         172
        ],
        [
         173
        ],
        [
         174
        ],
        [
         175
        ],
        [
         176
        ],
        [
         177
        ],
        [
         178
        ],
        [
         179
        ],
        [
         180
        ],
        [
         181
        ],
        [
         182
        ],
        [
         183
        ],
        [
         184
        ],
        [
         185
        ],
        [
         186
        ],
        [
         187
        ],
        [
         188
        ],
        [
         189
        ],
        [
         190
        ],
        [
         191
        ],
        [
         192
        ],
        [
         193
        ],
        [
         194
        ],
        [
         195
        ],
        [
         196
        ],
        [
         197
        ],
        [
         198
        ],
        [
         199
        ],
        [
         200
        ],
        [
         201
        ],
        [
         202
        ],
        [
         203
        ],
        [
         204
        ],
        [
         205
        ],
        [
         206
        ],
        [
         207
        ],
        [
         208
        ],
        [
         209
        ],
        [
         210
        ],
        [
         211
        ],
        [
         212
        ],
        [
         213
        ],
        [
         214
        ],
        [
         215
        ],
        [
         216
        ],
        [
         217
        ],
        [
         218
        ],
        [
         219
        ],
        [
         220
        ],
        [
         221
        ],
        [
         222
        ],
        [
         223
        ],
        [
         224
        ],
        [
         225
        ],
        [
         226
        ],
        [
         227
        ],
        [
         228
        ],
        [
         229
        ],
        [
         230
        ],
        [
         231
        ],
        [
         232
        ],
        [
         233
        ],
        [
         234
        ],
        [
         235
        ],
        [
         236
        ],
        [
         237
        ],
        [
         238
        ],
        [
         239
        ],
        [
         240
        ],
        [
         241
        ],
        [
         242
        ],
        [
         243
        ],
        [
         244
        ],
        [
         245
        ],
        [
         246
        ],
        [
         247
        ],
        [
         248
        ],
        [
         249
        ],
        [
         250
        ],
        [
         251
        ],
        [
         252
        ],
        [
         253
        ],
        [
         254
        ],
        [
         255
        ],
        [
         256
        ],
        [
         257
        ],
        [
         258
        ],
        [
         259
        ],
        [
         260
        ],
        [
         261
        ],
        [
         262
        ],
        [
         263
        ]
       ],
       "datasetInfos": [],
       "dbfsResultPath": null,
       "isJsonSchema": true,
       "metadata": {},
       "overflow": false,
       "plotOptions": {
        "customPlotOptions": {},
        "displayType": "table",
        "pivotAggregation": null,
        "pivotColumns": null,
        "xColumns": null,
        "yColumns": null
       },
       "removedWidgets": [],
       "schema": [
        {
         "metadata": "{}",
         "name": "LocationID",
         "type": "\"integer\""
        }
       ],
       "type": "table"
      }
     },
     "output_type": "display_data"
    }
   ],
   "source": [
    "# Display all distinct LocationID values in sorted order\n",
    "display(location_lat_long_spark_df.select(\"LocationID\").distinct().orderBy(\"LocationID\"))"
   ]
  },
  {
   "cell_type": "code",
   "execution_count": 0,
   "metadata": {
    "application/vnd.databricks.v1+cell": {
     "cellMetadata": {
      "byteLimit": 2048000,
      "rowLimit": 10000
     },
     "inputWidgets": {},
     "nuid": "f4459e7a-718c-428a-90c5-f073e00df7f6",
     "showTitle": false,
     "tableResultSettingsMap": {},
     "title": ""
    }
   },
   "outputs": [],
   "source": [
    "# Drop the geometry column if it's not needed\n",
    "zones_cleaned = zones.drop(columns=['geometry'])\n",
    "zone_df = spark.createDataFrame(zones_cleaned)"
   ]
  },
  {
   "cell_type": "code",
   "execution_count": 0,
   "metadata": {
    "application/vnd.databricks.v1+cell": {
     "cellMetadata": {
      "byteLimit": 2048000,
      "rowLimit": 10000
     },
     "inputWidgets": {},
     "nuid": "11b7db81-e213-4a95-8596-6dd2d7e8bb0b",
     "showTitle": false,
     "tableResultSettingsMap": {},
     "title": ""
    }
   },
   "outputs": [
    {
     "output_type": "stream",
     "name": "stderr",
     "output_type": "stream",
     "text": [
      "/root/.ipykernel/5836/command-3885246210596591-3953848118:2: UserWarning: Geometry column does not contain geometry.\n  zones['geometry'] = zones['geometry'].apply(lambda geom: geom.wkt if geom else None)  # If using Shapely\n"
     ]
    }
   ],
   "source": [
    "# Convert geometry to string representation (e.g., WKT format)\n",
    "zones['geometry'] = zones['geometry'].apply(lambda geom: geom.wkt if geom else None)  # If using Shapely\n",
    "zone_geometry_df = spark.createDataFrame(zones)"
   ]
  },
  {
   "cell_type": "code",
   "execution_count": 0,
   "metadata": {
    "application/vnd.databricks.v1+cell": {
     "cellMetadata": {
      "byteLimit": 2048000,
      "rowLimit": 10000
     },
     "inputWidgets": {},
     "nuid": "61a9c3df-3c18-41bf-a3b7-f788a7c5a50c",
     "showTitle": false,
     "tableResultSettingsMap": {},
     "title": ""
    }
   },
   "outputs": [],
   "source": [
    "zone_df=zone_df[['zone','LocationID', 'latitude', 'longitude']]"
   ]
  },
  {
   "cell_type": "code",
   "execution_count": 0,
   "metadata": {
    "application/vnd.databricks.v1+cell": {
     "cellMetadata": {
      "byteLimit": 2048000,
      "rowLimit": 10000
     },
     "inputWidgets": {},
     "nuid": "e126f3ee-bc9e-4414-837a-25917c2bd06b",
     "showTitle": false,
     "tableResultSettingsMap": {},
     "title": ""
    }
   },
   "outputs": [],
   "source": [
    "display(zone_df)"
   ]
  },
  {
   "cell_type": "code",
   "execution_count": 0,
   "metadata": {
    "application/vnd.databricks.v1+cell": {
     "cellMetadata": {
      "byteLimit": 2048000,
      "rowLimit": 10000
     },
     "inputWidgets": {},
     "nuid": "27bb7313-4ad9-4288-b38b-6c8a2393e105",
     "showTitle": false,
     "tableResultSettingsMap": {},
     "title": ""
    }
   },
   "outputs": [
    {
     "output_type": "stream",
     "name": "stdout",
     "output_type": "stream",
     "text": [
      "+----+----------+--------+---------+\n|zone|LocationID|latitude|longitude|\n+----+----------+--------+---------+\n+----+----------+--------+---------+\n\n"
     ]
    }
   ],
   "source": [
    "# List of Location IDs to search for\n",
    "location_ids_to_find = [57, 264, 265, 105]\n",
    "\n",
    "# Filter zone_df for these Location IDs\n",
    "zone_df_filtered = zone_df.filter(zone_df.LocationID.isin(location_ids_to_find))\n",
    "\n",
    "# Show the results\n",
    "zone_df_filtered.show(truncate=False)"
   ]
  },
  {
   "cell_type": "code",
   "execution_count": 0,
   "metadata": {
    "application/vnd.databricks.v1+cell": {
     "cellMetadata": {
      "byteLimit": 2048000,
      "rowLimit": 10000
     },
     "inputWidgets": {},
     "nuid": "c2814115-022b-44d5-8e68-e9f70ee45d84",
     "showTitle": false,
     "tableResultSettingsMap": {},
     "title": ""
    }
   },
   "outputs": [
    {
     "output_type": "stream",
     "name": "stdout",
     "output_type": "stream",
     "text": [
      "Percentage of specified IDs in pulocationid: 1.02%\nPercentage of specified IDs in dulocationid: 1.47%\n"
     ]
    }
   ],
   "source": [
    "# Specify the IDs to check\n",
    "ids_to_check = [57, 264, 265, 105]\n",
    "\n",
    "# Total number of rows in the DataFrame\n",
    "total_count = taxi_df.count()\n",
    "\n",
    "# Count occurrences of specified IDs in pulocationid and dulocationid\n",
    "pulocationid_count = taxi_df.filter(taxi_df.PULocationID.isin(ids_to_check)).count()\n",
    "dulocationid_count = taxi_df.filter(taxi_df.DOLocationID.isin(ids_to_check)).count()\n",
    "\n",
    "# Calculate percentages\n",
    "pulocationid_percentage = (pulocationid_count / total_count) * 100\n",
    "dulocationid_percentage = (dulocationid_count / total_count) * 100\n",
    "\n",
    "print(f\"Percentage of specified IDs in pulocationid: {pulocationid_percentage:.2f}%\")\n",
    "print(f\"Percentage of specified IDs in dulocationid: {dulocationid_percentage:.2f}%\")"
   ]
  },
  {
   "cell_type": "code",
   "execution_count": 0,
   "metadata": {
    "application/vnd.databricks.v1+cell": {
     "cellMetadata": {
      "byteLimit": 2048000,
      "rowLimit": 10000
     },
     "inputWidgets": {},
     "nuid": "b2476bf2-10a0-424b-8628-2d5ac3a7ea8a",
     "showTitle": false,
     "tableResultSettingsMap": {},
     "title": ""
    }
   },
   "outputs": [],
   "source": [
    "# Remove rows containing the specified IDs in pulocationid or dulocationid\n",
    "taxi_df = taxi_df.filter(~taxi_df.PULocationID.isin(ids_to_check) & ~taxi_df.DOLocationID.isin(ids_to_check))\n",
    "\n",
    "# Show the filtered DataFrame\n",
    "taxi_df.show()"
   ]
  },
  {
   "cell_type": "code",
   "execution_count": 0,
   "metadata": {
    "application/vnd.databricks.v1+cell": {
     "cellMetadata": {
      "byteLimit": 2048000,
      "rowLimit": 10000
     },
     "inputWidgets": {},
     "nuid": "60d91f68-2825-4280-b92f-680f03305632",
     "showTitle": false,
     "tableResultSettingsMap": {},
     "title": ""
    }
   },
   "outputs": [
    {
     "output_type": "display_data",
     "data": {
      "text/html": [
       "<style scoped>\n",
       "  .table-result-container {\n",
       "    max-height: 300px;\n",
       "    overflow: auto;\n",
       "  }\n",
       "  table, th, td {\n",
       "    border: 1px solid black;\n",
       "    border-collapse: collapse;\n",
       "  }\n",
       "  th, td {\n",
       "    padding: 5px;\n",
       "  }\n",
       "  th {\n",
       "    text-align: left;\n",
       "  }\n",
       "</style><div class='table-result-container'><table class='table-result'><thead style='background-color: white'><tr><th>sum(dropoff_time)</th><th>sum(DOLocationID)</th><th>sum(improvement_surcharge)</th><th>sum(pickup_hour)</th><th>sum(PULocationID)</th><th>sum(trip_distance)</th><th>sum(dropoff_borough)</th><th>sum(pickup_service_zone)</th><th>sum(pickup_date)</th><th>sum(dropoff_longitude)</th><th>sum(LocationID)</th><th>sum(pickup_latitude)</th><th>sum(dropoff_day_of_week)</th><th>sum(tolls_amount)</th><th>sum(dropoff_date)</th><th>sum(pickup_time)</th><th>sum(Month_Num)</th><th>sum(pickup_zone)</th><th>sum(pickup_borough)</th><th>sum(payment_type)</th><th>sum(fare_amount)</th><th>sum(pickup_longitude)</th><th>sum(passenger_count)</th><th>sum(dropoff_month)</th><th>sum(dropoff_hour)</th><th>sum(pickup_day_of_week)</th><th>sum(dropoff_zone)</th><th>sum(distance_km)</th><th>sum(dropoff_datetime)</th><th>sum(dropoff_week_of_year)</th><th>sum(trip_duration)</th><th>sum(total_amount)</th><th>sum(pickup_datetime)</th><th>sum(dropoff_latitude)</th><th>sum(dropoff_service_zone)</th><th>sum(pickup_month)</th></tr></thead><tbody><tr><td>0</td><td>0</td><td>0</td><td>0</td><td>0</td><td>0</td><td>0</td><td>0</td><td>0</td><td>0</td><td>0</td><td>0</td><td>0</td><td>0</td><td>0</td><td>0</td><td>0</td><td>0</td><td>0</td><td>0</td><td>0</td><td>0</td><td>0</td><td>0</td><td>0</td><td>0</td><td>0</td><td>0</td><td>0</td><td>0</td><td>0</td><td>0</td><td>0</td><td>0</td><td>0</td><td>0</td></tr></tbody></table></div>"
      ]
     },
     "metadata": {
      "application/vnd.databricks.v1+output": {
       "addedWidgets": {},
       "aggData": [],
       "aggError": "",
       "aggOverflow": false,
       "aggSchema": [],
       "aggSeriesLimitReached": false,
       "aggType": "",
       "arguments": {},
       "columnCustomDisplayInfos": {},
       "data": [
        [
         0,
         0,
         0,
         0,
         0,
         0,
         0,
         0,
         0,
         0,
         0,
         0,
         0,
         0,
         0,
         0,
         0,
         0,
         0,
         0,
         0,
         0,
         0,
         0,
         0,
         0,
         0,
         0,
         0,
         0,
         0,
         0,
         0,
         0,
         0,
         0
        ]
       ],
       "datasetInfos": [],
       "dbfsResultPath": null,
       "isJsonSchema": true,
       "metadata": {},
       "overflow": false,
       "plotOptions": {
        "customPlotOptions": {},
        "displayType": "table",
        "pivotAggregation": null,
        "pivotColumns": null,
        "xColumns": null,
        "yColumns": null
       },
       "removedWidgets": [],
       "schema": [
        {
         "metadata": "{}",
         "name": "sum(dropoff_time)",
         "type": "\"long\""
        },
        {
         "metadata": "{}",
         "name": "sum(DOLocationID)",
         "type": "\"long\""
        },
        {
         "metadata": "{}",
         "name": "sum(improvement_surcharge)",
         "type": "\"long\""
        },
        {
         "metadata": "{}",
         "name": "sum(pickup_hour)",
         "type": "\"long\""
        },
        {
         "metadata": "{}",
         "name": "sum(PULocationID)",
         "type": "\"long\""
        },
        {
         "metadata": "{}",
         "name": "sum(trip_distance)",
         "type": "\"long\""
        },
        {
         "metadata": "{}",
         "name": "sum(dropoff_borough)",
         "type": "\"long\""
        },
        {
         "metadata": "{}",
         "name": "sum(pickup_service_zone)",
         "type": "\"long\""
        },
        {
         "metadata": "{}",
         "name": "sum(pickup_date)",
         "type": "\"long\""
        },
        {
         "metadata": "{}",
         "name": "sum(dropoff_longitude)",
         "type": "\"long\""
        },
        {
         "metadata": "{}",
         "name": "sum(LocationID)",
         "type": "\"long\""
        },
        {
         "metadata": "{}",
         "name": "sum(pickup_latitude)",
         "type": "\"long\""
        },
        {
         "metadata": "{}",
         "name": "sum(dropoff_day_of_week)",
         "type": "\"long\""
        },
        {
         "metadata": "{}",
         "name": "sum(tolls_amount)",
         "type": "\"long\""
        },
        {
         "metadata": "{}",
         "name": "sum(dropoff_date)",
         "type": "\"long\""
        },
        {
         "metadata": "{}",
         "name": "sum(pickup_time)",
         "type": "\"long\""
        },
        {
         "metadata": "{}",
         "name": "sum(Month_Num)",
         "type": "\"long\""
        },
        {
         "metadata": "{}",
         "name": "sum(pickup_zone)",
         "type": "\"long\""
        },
        {
         "metadata": "{}",
         "name": "sum(pickup_borough)",
         "type": "\"long\""
        },
        {
         "metadata": "{}",
         "name": "sum(payment_type)",
         "type": "\"long\""
        },
        {
         "metadata": "{}",
         "name": "sum(fare_amount)",
         "type": "\"long\""
        },
        {
         "metadata": "{}",
         "name": "sum(pickup_longitude)",
         "type": "\"long\""
        },
        {
         "metadata": "{}",
         "name": "sum(passenger_count)",
         "type": "\"long\""
        },
        {
         "metadata": "{}",
         "name": "sum(dropoff_month)",
         "type": "\"long\""
        },
        {
         "metadata": "{}",
         "name": "sum(dropoff_hour)",
         "type": "\"long\""
        },
        {
         "metadata": "{}",
         "name": "sum(pickup_day_of_week)",
         "type": "\"long\""
        },
        {
         "metadata": "{}",
         "name": "sum(dropoff_zone)",
         "type": "\"long\""
        },
        {
         "metadata": "{}",
         "name": "sum(distance_km)",
         "type": "\"long\""
        },
        {
         "metadata": "{}",
         "name": "sum(dropoff_datetime)",
         "type": "\"long\""
        },
        {
         "metadata": "{}",
         "name": "sum(dropoff_week_of_year)",
         "type": "\"long\""
        },
        {
         "metadata": "{}",
         "name": "sum(trip_duration)",
         "type": "\"long\""
        },
        {
         "metadata": "{}",
         "name": "sum(total_amount)",
         "type": "\"long\""
        },
        {
         "metadata": "{}",
         "name": "sum(pickup_datetime)",
         "type": "\"long\""
        },
        {
         "metadata": "{}",
         "name": "sum(dropoff_latitude)",
         "type": "\"long\""
        },
        {
         "metadata": "{}",
         "name": "sum(dropoff_service_zone)",
         "type": "\"long\""
        },
        {
         "metadata": "{}",
         "name": "sum(pickup_month)",
         "type": "\"long\""
        }
       ],
       "type": "table"
      }
     },
     "output_type": "display_data"
    }
   ],
   "source": [
    "# Check for Missing Values in each column\n",
    "# Check for missing values\n",
    "missing_values = taxi_df.select([((taxi_df[column].isNull()).cast(\"int\")).alias(column) for column in taxi_df.columns]) \\\n",
    "                                .agg({column: 'sum' for column in taxi_df.columns})\n",
    "\n",
    "display(missing_values.limit(5))\n"
   ]
  },
  {
   "cell_type": "code",
   "execution_count": 0,
   "metadata": {
    "application/vnd.databricks.v1+cell": {
     "cellMetadata": {
      "byteLimit": 2048000,
      "rowLimit": 10000
     },
     "inputWidgets": {},
     "nuid": "8fbbae5b-a39a-4a93-bf8f-9f51afd5458a",
     "showTitle": false,
     "tableResultSettingsMap": {},
     "title": ""
    }
   },
   "outputs": [
    {
     "output_type": "stream",
     "name": "stdout",
     "output_type": "stream",
     "text": [
      "Shape: (36395607, 36)\n"
     ]
    }
   ],
   "source": [
    "# Check the Shape and Schema\n",
    "# Get the number of rows and columns\n",
    "num_rows = taxi_df.count()\n",
    "num_cols = len(taxi_df.columns)\n",
    "print(f\"Shape: ({num_rows}, {num_cols})\")"
   ]
  },
  {
   "cell_type": "code",
   "execution_count": 0,
   "metadata": {
    "application/vnd.databricks.v1+cell": {
     "cellMetadata": {
      "byteLimit": 2048000,
      "rowLimit": 10000
     },
     "inputWidgets": {},
     "nuid": "5431fcfc-5b45-46d0-9253-9cf5e3ca7538",
     "showTitle": false,
     "tableResultSettingsMap": {},
     "title": ""
    }
   },
   "outputs": [],
   "source": [
    "display(taxi_df)"
   ]
  },
  {
   "cell_type": "code",
   "execution_count": 0,
   "metadata": {
    "application/vnd.databricks.v1+cell": {
     "cellMetadata": {
      "byteLimit": 2048000,
      "rowLimit": 10000
     },
     "inputWidgets": {},
     "nuid": "6f82b7bd-15b3-475e-a3e3-404727c00ecd",
     "showTitle": false,
     "tableResultSettingsMap": {},
     "title": ""
    }
   },
   "outputs": [],
   "source": [
    "# Define a more descriptive Delta Lake storage path\n",
    "delta_path = \"/dbfs/FileStore/tables/data_processed_lat_long/\"\n",
    "# Write the DataFrame to Delta format\n",
    "taxi_df.write.format(\"delta\").mode(\"overwrite\").save(delta_path)"
   ]
  },
  {
   "cell_type": "code",
   "execution_count": 0,
   "metadata": {
    "application/vnd.databricks.v1+cell": {
     "cellMetadata": {
      "byteLimit": 2048000,
      "rowLimit": 10000
     },
     "inputWidgets": {},
     "nuid": "feced301-a5e0-4a18-bf2c-1851d8da289b",
     "showTitle": false,
     "tableResultSettingsMap": {},
     "title": ""
    }
   },
   "outputs": [],
   "source": []
  }
 ],
 "metadata": {
  "application/vnd.databricks.v1+notebook": {
   "dashboards": [],
   "environmentMetadata": null,
   "language": "python",
   "notebookMetadata": {
    "pythonIndentUnit": 4
   },
   "notebookName": "04_Data_Processing_lat_lang",
   "widgets": {}
  },
  "language_info": {
   "name": "python"
  }
 },
 "nbformat": 4,
 "nbformat_minor": 0
}
