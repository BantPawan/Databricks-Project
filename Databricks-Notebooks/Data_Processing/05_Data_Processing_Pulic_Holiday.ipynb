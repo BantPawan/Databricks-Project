{
 "cells": [
  {
   "cell_type": "code",
   "execution_count": 0,
   "metadata": {
    "application/vnd.databricks.v1+cell": {
     "cellMetadata": {
      "byteLimit": 2048000,
      "rowLimit": 10000
     },
     "inputWidgets": {},
     "nuid": "1f64c730-fc3f-4fa5-86d8-76bb9a457b31",
     "showTitle": false,
     "tableResultSettingsMap": {},
     "title": ""
    }
   },
   "outputs": [],
   "source": [
    "from pyspark.sql import SparkSession\n",
    "\n",
    "# Initialize Spark session\n",
    "spark = SparkSession.builder.appName(\"NYC Taxi Fare Predi ction\").getOrCreate()"
   ]
  },
  {
   "cell_type": "code",
   "execution_count": 0,
   "metadata": {
    "application/vnd.databricks.v1+cell": {
     "cellMetadata": {
      "byteLimit": 2048000,
      "rowLimit": 10000
     },
     "inputWidgets": {},
     "nuid": "cfdcaae2-bdba-4c00-9099-02b41f114af1",
     "showTitle": false,
     "tableResultSettingsMap": {},
     "title": ""
    }
   },
   "outputs": [],
   "source": [
    "from azureml.opendatasets import PublicHolidays\n",
    "from datetime import datetime\n",
    "\n",
    "# Define the start and end dates for the year 2023\n",
    "start_date = datetime(2023, 1, 1)\n",
    "end_date = datetime(2023, 12, 31)"
   ]
  },
  {
   "cell_type": "code",
   "execution_count": 0,
   "metadata": {
    "application/vnd.databricks.v1+cell": {
     "cellMetadata": {
      "byteLimit": 2048000,
      "rowLimit": 10000
     },
     "inputWidgets": {},
     "nuid": "aed667ae-702b-4745-836b-a3508fff372b",
     "showTitle": false,
     "tableResultSettingsMap": {},
     "title": ""
    }
   },
   "outputs": [
    {
     "output_type": "stream",
     "name": "stderr",
     "output_type": "stream",
     "text": [
      "/local_disk0/.ephemeral_nfs/cluster_libraries/python/lib/python3.11/site-packages/azureml/opendatasets/dataaccess/_blob_accessor.py:522: Warning: Please install azureml-dataset-runtimeusing pip install azureml-dataset-runtime\n  warnings.warn(\n"
     ]
    }
   ],
   "source": [
    "# Fetch public holidays data\n",
    "hol = PublicHolidays(start_date=start_date, end_date=end_date)\n",
    "hol_df = hol.to_spark_dataframe()"
   ]
  },
  {
   "cell_type": "code",
   "execution_count": 0,
   "metadata": {
    "application/vnd.databricks.v1+cell": {
     "cellMetadata": {
      "byteLimit": 2048000,
      "rowLimit": 10000
     },
     "inputWidgets": {},
     "nuid": "db79229b-704b-4d8b-b9ac-9a8af77dbcf4",
     "showTitle": false,
     "tableResultSettingsMap": {},
     "title": ""
    }
   },
   "outputs": [
    {
     "output_type": "stream",
     "name": "stdout",
     "output_type": "stream",
     "text": [
      "+---------------+--------------------+--------------------+-------------+-----------------+-------------------+\n|countryOrRegion|         holidayName|normalizeHolidayName|isPaidTimeOff|countryRegionCode|               date|\n+---------------+--------------------+--------------------+-------------+-----------------+-------------------+\n|      Argentina|Año Nuevo [New Ye...|Año Nuevo [New Ye...|         NULL|               AR|2023-01-01 00:00:00|\n|      Australia|      New Year's Day|      New Year's Day|         NULL|               AU|2023-01-01 00:00:00|\n|        Austria|             Neujahr|             Neujahr|         NULL|               AT|2023-01-01 00:00:00|\n|        Belarus|           Новый год|           Новый год|         NULL|               BY|2023-01-01 00:00:00|\n|        Belgium|       Nieuwjaarsdag|       Nieuwjaarsdag|         NULL|               BE|2023-01-01 00:00:00|\n|         Brazil|            Ano novo|            Ano novo|         NULL|               BR|2023-01-01 00:00:00|\n|         Canada|      New Year's Day|      New Year's Day|         NULL|               CA|2023-01-01 00:00:00|\n|        Croatia|         Nova Godina|         Nova Godina|         NULL|               HR|2023-01-01 00:00:00|\n|          Czech|Den obnovy samost...|Den obnovy samost...|         NULL|               CZ|2023-01-01 00:00:00|\n|        Denmark|           Nytårsdag|           Nytårsdag|         NULL|               DK|2023-01-01 00:00:00|\n|        England|      New Year's Day|      New Year's Day|         NULL|             NULL|2023-01-01 00:00:00|\n|        Finland|    Uudenvuodenpäivä|    Uudenvuodenpäivä|         NULL|               FI|2023-01-01 00:00:00|\n|         France|        Jour de l'an|        Jour de l'an|         NULL|               FR|2023-01-01 00:00:00|\n|        Germany|             Neujahr|             Neujahr|         NULL|               DE|2023-01-01 00:00:00|\n|        Hungary|                Újév|                Újév|         NULL|               HU|2023-01-01 00:00:00|\n|        Ireland|      New Year's Day|      New Year's Day|         NULL|               IE|2023-01-01 00:00:00|\n|    Isle of Man|      New Year's Day|      New Year's Day|         NULL|               IM|2023-01-01 00:00:00|\n|          Italy|           Capodanno|           Capodanno|         NULL|               IT|2023-01-01 00:00:00|\n|          Japan|                元日|                元日|         NULL|               JP|2023-01-01 00:00:00|\n|         Mexico|Año Nuevo [New Ye...|Año Nuevo [New Ye...|         NULL|               MX|2023-01-01 00:00:00|\n+---------------+--------------------+--------------------+-------------+-----------------+-------------------+\nonly showing top 20 rows\n\n"
     ]
    }
   ],
   "source": [
    "# Display holidays\n",
    "hol_df.show()"
   ]
  },
  {
   "cell_type": "code",
   "execution_count": 0,
   "metadata": {
    "application/vnd.databricks.v1+cell": {
     "cellMetadata": {
      "byteLimit": 2048000,
      "rowLimit": 10000
     },
     "inputWidgets": {},
     "nuid": "cc4b67a9-6f9e-412e-8acb-5ca32cd5ddfc",
     "showTitle": false,
     "tableResultSettingsMap": {},
     "title": ""
    }
   },
   "outputs": [],
   "source": [
    "# removing this column since it has only null values\n",
    "hol_df = hol_df.drop(\"isPaidTimeOff\")"
   ]
  },
  {
   "cell_type": "code",
   "execution_count": 0,
   "metadata": {
    "application/vnd.databricks.v1+cell": {
     "cellMetadata": {
      "byteLimit": 2048000,
      "rowLimit": 10000
     },
     "inputWidgets": {},
     "nuid": "ee825c81-cb2f-440d-95b8-be9b77b4908f",
     "showTitle": false,
     "tableResultSettingsMap": {},
     "title": ""
    }
   },
   "outputs": [],
   "source": [
    "display(hol_df)"
   ]
  },
  {
   "cell_type": "code",
   "execution_count": 0,
   "metadata": {
    "application/vnd.databricks.v1+cell": {
     "cellMetadata": {
      "byteLimit": 2048000,
      "rowLimit": 10000
     },
     "inputWidgets": {},
     "nuid": "bcaeb320-69d2-4974-bb24-150c97558016",
     "showTitle": false,
     "tableResultSettingsMap": {},
     "title": ""
    }
   },
   "outputs": [
    {
     "output_type": "display_data",
     "data": {
      "text/html": [
       "<style scoped>\n",
       "  .table-result-container {\n",
       "    max-height: 300px;\n",
       "    overflow: auto;\n",
       "  }\n",
       "  table, th, td {\n",
       "    border: 1px solid black;\n",
       "    border-collapse: collapse;\n",
       "  }\n",
       "  th, td {\n",
       "    padding: 5px;\n",
       "  }\n",
       "  th {\n",
       "    text-align: left;\n",
       "  }\n",
       "</style><div class='table-result-container'><table class='table-result'><thead style='background-color: white'><tr><th>DOLocationID</th><th>PULocationID</th><th>pickup_datetime</th><th>dropoff_datetime</th><th>passenger_count</th><th>trip_distance</th><th>payment_type</th><th>fare_amount</th><th>tolls_amount</th><th>improvement_surcharge</th><th>total_amount</th><th>trip_duration</th><th>pickup_day_of_week</th><th>pickup_hour</th><th>Month_Num</th><th>pickup_month</th><th>dropoff_hour</th><th>dropoff_day_of_week</th><th>dropoff_month</th><th>dropoff_week_of_year</th><th>pickup_date</th><th>pickup_time</th><th>dropoff_date</th><th>dropoff_time</th><th>pickup_latitude</th><th>pickup_longitude</th><th>dropoff_latitude</th><th>dropoff_longitude</th><th>distance_km</th><th>pickup_borough</th><th>pickup_zone</th><th>pickup_service_zone</th><th>LocationID</th><th>dropoff_borough</th><th>dropoff_zone</th><th>dropoff_service_zone</th></tr></thead><tbody><tr><td>138</td><td>170</td><td>2023-10-01T09:29:24Z</td><td>2023-10-01T09:43:44Z</td><td>2</td><td>8.7</td><td>1</td><td>33.8</td><td>6.94</td><td>1.0</td><td>59.64</td><td>14.333333</td><td>1</td><td>9</td><td>10</td><td>10</td><td>9</td><td>1</td><td>10</td><td>39</td><td>2023-10-01</td><td>09:29:24</td><td>2023-10-01</td><td>09:43:44</td><td>40.7477457936439</td><td>-73.97849159965229</td><td>40.774375705932435</td><td>-73.87362864289085</td><td>9.315085974107843</td><td>Manhattan</td><td>Murray Hill</td><td>Yellow Zone</td><td>138</td><td>Queens</td><td>LaGuardia Airport</td><td>Airports</td></tr><tr><td>79</td><td>170</td><td>2023-10-01T10:14:39Z</td><td>2023-10-01T10:20:34Z</td><td>3</td><td>1.4</td><td>1</td><td>8.6</td><td>0.0</td><td>1.0</td><td>14.1</td><td>5.9166665</td><td>1</td><td>10</td><td>10</td><td>10</td><td>10</td><td>1</td><td>10</td><td>39</td><td>2023-10-01</td><td>10:14:39</td><td>2023-10-01</td><td>10:20:34</td><td>40.7477457936439</td><td>-73.97849159965229</td><td>40.72762019590954</td><td>-73.98593745682462</td><td>2.3241314426512654</td><td>Manhattan</td><td>Murray Hill</td><td>Yellow Zone</td><td>79</td><td>Manhattan</td><td>East Village</td><td>Yellow Zone</td></tr><tr><td>170</td><td>170</td><td>2023-10-01T13:14:30Z</td><td>2023-10-01T13:28:54Z</td><td>1</td><td>0.47</td><td>1</td><td>12.8</td><td>0.0</td><td>1.0</td><td>18.3</td><td>14.4</td><td>1</td><td>13</td><td>10</td><td>10</td><td>13</td><td>1</td><td>10</td><td>39</td><td>2023-10-01</td><td>13:14:30</td><td>2023-10-01</td><td>13:28:54</td><td>40.7477457936439</td><td>-73.97849159965229</td><td>40.7477457936439</td><td>-73.97849159965229</td><td>0.0</td><td>Manhattan</td><td>Murray Hill</td><td>Yellow Zone</td><td>170</td><td>Manhattan</td><td>Murray Hill</td><td>Yellow Zone</td></tr><tr><td>229</td><td>170</td><td>2023-10-01T13:37:30Z</td><td>2023-10-01T13:44:26Z</td><td>2</td><td>1.14</td><td>1</td><td>8.6</td><td>0.0</td><td>1.0</td><td>15.12</td><td>6.9333334</td><td>1</td><td>13</td><td>10</td><td>10</td><td>13</td><td>1</td><td>10</td><td>39</td><td>2023-10-01</td><td>13:37:30</td><td>2023-10-01</td><td>13:44:26</td><td>40.7477457936439</td><td>-73.97849159965229</td><td>40.75672894163307</td><td>-73.96514579918423</td><td>1.5038408173485176</td><td>Manhattan</td><td>Murray Hill</td><td>Yellow Zone</td><td>229</td><td>Manhattan</td><td>Sutton Place/Turtle Bay North</td><td>Yellow Zone</td></tr><tr><td>79</td><td>170</td><td>2023-10-01T17:30:51Z</td><td>2023-10-01T17:48:13Z</td><td>1</td><td>3.83</td><td>1</td><td>20.5</td><td>0.0</td><td>1.0</td><td>29.4</td><td>17.366667</td><td>1</td><td>17</td><td>10</td><td>10</td><td>17</td><td>1</td><td>10</td><td>39</td><td>2023-10-01</td><td>17:30:51</td><td>2023-10-01</td><td>17:48:13</td><td>40.7477457936439</td><td>-73.97849159965229</td><td>40.72762019590954</td><td>-73.98593745682462</td><td>2.3241314426512654</td><td>Manhattan</td><td>Murray Hill</td><td>Yellow Zone</td><td>79</td><td>Manhattan</td><td>East Village</td><td>Yellow Zone</td></tr></tbody></table></div>"
      ]
     },
     "metadata": {
      "application/vnd.databricks.v1+output": {
       "addedWidgets": {},
       "aggData": [],
       "aggError": "",
       "aggOverflow": false,
       "aggSchema": [],
       "aggSeriesLimitReached": false,
       "aggType": "",
       "arguments": {},
       "columnCustomDisplayInfos": {},
       "data": [
        [
         138,
         170,
         "2023-10-01T09:29:24Z",
         "2023-10-01T09:43:44Z",
         2,
         8.7,
         "1",
         33.8,
         6.94,
         1.0,
         59.64,
         14.333333,
         1,
         9,
         10,
         10,
         9,
         1,
         10,
         39,
         "2023-10-01",
         "09:29:24",
         "2023-10-01",
         "09:43:44",
         40.7477457936439,
         -73.97849159965229,
         40.774375705932435,
         -73.87362864289085,
         9.315085974107843,
         "Manhattan",
         "Murray Hill",
         "Yellow Zone",
         138,
         "Queens",
         "LaGuardia Airport",
         "Airports"
        ],
        [
         79,
         170,
         "2023-10-01T10:14:39Z",
         "2023-10-01T10:20:34Z",
         3,
         1.4,
         "1",
         8.6,
         0.0,
         1.0,
         14.1,
         5.9166665,
         1,
         10,
         10,
         10,
         10,
         1,
         10,
         39,
         "2023-10-01",
         "10:14:39",
         "2023-10-01",
         "10:20:34",
         40.7477457936439,
         -73.97849159965229,
         40.72762019590954,
         -73.98593745682462,
         2.3241314426512654,
         "Manhattan",
         "Murray Hill",
         "Yellow Zone",
         79,
         "Manhattan",
         "East Village",
         "Yellow Zone"
        ],
        [
         170,
         170,
         "2023-10-01T13:14:30Z",
         "2023-10-01T13:28:54Z",
         1,
         0.47,
         "1",
         12.8,
         0.0,
         1.0,
         18.3,
         14.4,
         1,
         13,
         10,
         10,
         13,
         1,
         10,
         39,
         "2023-10-01",
         "13:14:30",
         "2023-10-01",
         "13:28:54",
         40.7477457936439,
         -73.97849159965229,
         40.7477457936439,
         -73.97849159965229,
         0.0,
         "Manhattan",
         "Murray Hill",
         "Yellow Zone",
         170,
         "Manhattan",
         "Murray Hill",
         "Yellow Zone"
        ],
        [
         229,
         170,
         "2023-10-01T13:37:30Z",
         "2023-10-01T13:44:26Z",
         2,
         1.14,
         "1",
         8.6,
         0.0,
         1.0,
         15.12,
         6.9333334,
         1,
         13,
         10,
         10,
         13,
         1,
         10,
         39,
         "2023-10-01",
         "13:37:30",
         "2023-10-01",
         "13:44:26",
         40.7477457936439,
         -73.97849159965229,
         40.75672894163307,
         -73.96514579918423,
         1.5038408173485176,
         "Manhattan",
         "Murray Hill",
         "Yellow Zone",
         229,
         "Manhattan",
         "Sutton Place/Turtle Bay North",
         "Yellow Zone"
        ],
        [
         79,
         170,
         "2023-10-01T17:30:51Z",
         "2023-10-01T17:48:13Z",
         1,
         3.83,
         "1",
         20.5,
         0.0,
         1.0,
         29.4,
         17.366667,
         1,
         17,
         10,
         10,
         17,
         1,
         10,
         39,
         "2023-10-01",
         "17:30:51",
         "2023-10-01",
         "17:48:13",
         40.7477457936439,
         -73.97849159965229,
         40.72762019590954,
         -73.98593745682462,
         2.3241314426512654,
         "Manhattan",
         "Murray Hill",
         "Yellow Zone",
         79,
         "Manhattan",
         "East Village",
         "Yellow Zone"
        ]
       ],
       "datasetInfos": [],
       "dbfsResultPath": null,
       "isJsonSchema": true,
       "metadata": {},
       "overflow": false,
       "plotOptions": {
        "customPlotOptions": {},
        "displayType": "table",
        "pivotAggregation": null,
        "pivotColumns": null,
        "xColumns": null,
        "yColumns": null
       },
       "removedWidgets": [],
       "schema": [
        {
         "metadata": "{}",
         "name": "DOLocationID",
         "type": "\"integer\""
        },
        {
         "metadata": "{}",
         "name": "PULocationID",
         "type": "\"integer\""
        },
        {
         "metadata": "{}",
         "name": "pickup_datetime",
         "type": "\"timestamp\""
        },
        {
         "metadata": "{}",
         "name": "dropoff_datetime",
         "type": "\"timestamp\""
        },
        {
         "metadata": "{}",
         "name": "passenger_count",
         "type": "\"integer\""
        },
        {
         "metadata": "{}",
         "name": "trip_distance",
         "type": "\"float\""
        },
        {
         "metadata": "{}",
         "name": "payment_type",
         "type": "\"string\""
        },
        {
         "metadata": "{}",
         "name": "fare_amount",
         "type": "\"float\""
        },
        {
         "metadata": "{}",
         "name": "tolls_amount",
         "type": "\"float\""
        },
        {
         "metadata": "{}",
         "name": "improvement_surcharge",
         "type": "\"float\""
        },
        {
         "metadata": "{}",
         "name": "total_amount",
         "type": "\"float\""
        },
        {
         "metadata": "{}",
         "name": "trip_duration",
         "type": "\"float\""
        },
        {
         "metadata": "{}",
         "name": "pickup_day_of_week",
         "type": "\"integer\""
        },
        {
         "metadata": "{}",
         "name": "pickup_hour",
         "type": "\"integer\""
        },
        {
         "metadata": "{}",
         "name": "Month_Num",
         "type": "\"integer\""
        },
        {
         "metadata": "{}",
         "name": "pickup_month",
         "type": "\"integer\""
        },
        {
         "metadata": "{}",
         "name": "dropoff_hour",
         "type": "\"integer\""
        },
        {
         "metadata": "{}",
         "name": "dropoff_day_of_week",
         "type": "\"integer\""
        },
        {
         "metadata": "{}",
         "name": "dropoff_month",
         "type": "\"integer\""
        },
        {
         "metadata": "{}",
         "name": "dropoff_week_of_year",
         "type": "\"integer\""
        },
        {
         "metadata": "{}",
         "name": "pickup_date",
         "type": "\"string\""
        },
        {
         "metadata": "{}",
         "name": "pickup_time",
         "type": "\"string\""
        },
        {
         "metadata": "{}",
         "name": "dropoff_date",
         "type": "\"string\""
        },
        {
         "metadata": "{}",
         "name": "dropoff_time",
         "type": "\"string\""
        },
        {
         "metadata": "{}",
         "name": "pickup_latitude",
         "type": "\"double\""
        },
        {
         "metadata": "{}",
         "name": "pickup_longitude",
         "type": "\"double\""
        },
        {
         "metadata": "{}",
         "name": "dropoff_latitude",
         "type": "\"double\""
        },
        {
         "metadata": "{}",
         "name": "dropoff_longitude",
         "type": "\"double\""
        },
        {
         "metadata": "{}",
         "name": "distance_km",
         "type": "\"double\""
        },
        {
         "metadata": "{}",
         "name": "pickup_borough",
         "type": "\"string\""
        },
        {
         "metadata": "{}",
         "name": "pickup_zone",
         "type": "\"string\""
        },
        {
         "metadata": "{}",
         "name": "pickup_service_zone",
         "type": "\"string\""
        },
        {
         "metadata": "{}",
         "name": "LocationID",
         "type": "\"integer\""
        },
        {
         "metadata": "{}",
         "name": "dropoff_borough",
         "type": "\"string\""
        },
        {
         "metadata": "{}",
         "name": "dropoff_zone",
         "type": "\"string\""
        },
        {
         "metadata": "{}",
         "name": "dropoff_service_zone",
         "type": "\"string\""
        }
       ],
       "type": "table"
      }
     },
     "output_type": "display_data"
    }
   ],
   "source": [
    "# Load the Delta table\n",
    "taxi_df = spark.read.format(\"delta\").load(\"/dbfs/FileStore/tables/data_processed_lat_long/\")\n",
    "\n",
    "# Show the first few rows to verify\n",
    "display(taxi_df.limit(5))"
   ]
  },
  {
   "cell_type": "code",
   "execution_count": 0,
   "metadata": {
    "application/vnd.databricks.v1+cell": {
     "cellMetadata": {
      "byteLimit": 2048000,
      "rowLimit": 10000
     },
     "inputWidgets": {},
     "nuid": "772c6547-db16-44e6-ba2e-baa700826cbf",
     "showTitle": false,
     "tableResultSettingsMap": {},
     "title": ""
    }
   },
   "outputs": [],
   "source": [
    "from pyspark.sql import functions as F\n",
    "\n",
    "# Step 1: Filter for U.S. holidays in 2023 in holiday_df\n",
    "hol_df = hol_df.filter(\n",
    "    (hol_df[\"countryRegionCode\"] == \"US\") &\n",
    "    (F.year(F.to_date(\"date\")) == 2023)\n",
    ")"
   ]
  },
  {
   "cell_type": "code",
   "execution_count": 0,
   "metadata": {
    "application/vnd.databricks.v1+cell": {
     "cellMetadata": {
      "byteLimit": 2048000,
      "rowLimit": 10000
     },
     "inputWidgets": {},
     "nuid": "5d299252-8422-4f43-bfc1-8101c3854b90",
     "showTitle": false,
     "tableResultSettingsMap": {},
     "title": ""
    }
   },
   "outputs": [],
   "source": [
    "# Step 2: Convert date columns to compatible format\n",
    "taxi_df = taxi_df.withColumn(\"pickup_date\", F.to_date(\"pickup_datetime\"))\n",
    "hol_df = hol_df.withColumn(\"holiday_date\", F.to_date(\"date\"))"
   ]
  },
  {
   "cell_type": "code",
   "execution_count": 0,
   "metadata": {
    "application/vnd.databricks.v1+cell": {
     "cellMetadata": {
      "byteLimit": 2048000,
      "rowLimit": 10000
     },
     "inputWidgets": {},
     "nuid": "8beb5a89-9596-44c3-886d-9ac909525e93",
     "showTitle": false,
     "tableResultSettingsMap": {},
     "title": ""
    }
   },
   "outputs": [],
   "source": [
    "# Step 3: Perform a left join to add holiday information to taxi_df based on pickup date\n",
    "taxi_with_holidays_df = taxi_df.join(\n",
    "    hol_df,\n",
    "    taxi_df[\"pickup_date\"] == hol_df[\"holiday_date\"],\n",
    "    how=\"left\"\n",
    ")"
   ]
  },
  {
   "cell_type": "code",
   "execution_count": 0,
   "metadata": {
    "application/vnd.databricks.v1+cell": {
     "cellMetadata": {
      "byteLimit": 2048000,
      "rowLimit": 10000
     },
     "inputWidgets": {},
     "nuid": "d2301e97-214b-4542-9f0e-8acc4dbb47db",
     "showTitle": false,
     "tableResultSettingsMap": {},
     "title": ""
    }
   },
   "outputs": [],
   "source": [
    "# Step 4: Add a holiday indicator (1 if it's a holiday, otherwise 0)\n",
    "taxi_with_holidays_df = taxi_with_holidays_df.withColumn(\n",
    "    \"is_holiday\",\n",
    "    F.when(F.col(\"holidayName\").isNotNull(), 1).otherwise(0)\n",
    ")"
   ]
  },
  {
   "cell_type": "code",
   "execution_count": 0,
   "metadata": {
    "application/vnd.databricks.v1+cell": {
     "cellMetadata": {
      "byteLimit": 2048000,
      "rowLimit": 10000
     },
     "inputWidgets": {},
     "nuid": "0ec24ce7-189b-4535-827d-5af94a6f9d1a",
     "showTitle": false,
     "tableResultSettingsMap": {},
     "title": ""
    }
   },
   "outputs": [],
   "source": [
    "# Fill null values with a default value for holidayName and normalizeHolidayName\n",
    "taxi_with_holidays_df = taxi_with_holidays_df.fillna({\n",
    "    \"holidayName\": \"No Holiday\",\n",
    "    \"normalizeHolidayName\": \"No Holiday\"\n",
    "})"
   ]
  },
  {
   "cell_type": "code",
   "execution_count": 0,
   "metadata": {
    "application/vnd.databricks.v1+cell": {
     "cellMetadata": {
      "byteLimit": 2048000,
      "rowLimit": 10000
     },
     "inputWidgets": {},
     "nuid": "41c8c462-cb85-48dc-885a-c69e590db918",
     "showTitle": false,
     "tableResultSettingsMap": {},
     "title": ""
    }
   },
   "outputs": [],
   "source": [
    "display(taxi_with_holidays_df)"
   ]
  },
  {
   "cell_type": "code",
   "execution_count": 0,
   "metadata": {
    "application/vnd.databricks.v1+cell": {
     "cellMetadata": {
      "byteLimit": 2048000,
      "rowLimit": 10000
     },
     "inputWidgets": {},
     "nuid": "46ed90df-f136-43d6-9682-5d094d36c34b",
     "showTitle": false,
     "tableResultSettingsMap": {},
     "title": ""
    }
   },
   "outputs": [
    {
     "output_type": "stream",
     "name": "stdout",
     "output_type": "stream",
     "text": [
      "+--------------------------+\n|holidayName               |\n+--------------------------+\n|Veterans Day (Observed)   |\n|Veterans Day              |\n|Independence Day          |\n|Columbus Day              |\n|Memorial Day              |\n|Thanksgiving              |\n|New Year's Day (Observed) |\n|Christmas Day             |\n|Martin Luther King Jr. Day|\n|Labor Day                 |\n|New Year's Day            |\n|Washington's Birthday     |\n+--------------------------+\n\n"
     ]
    }
   ],
   "source": [
    "# Get unique values in the 'holidayName' column\n",
    "hol_df.select(\"holidayName\").distinct().show(truncate=False)"
   ]
  },
  {
   "cell_type": "code",
   "execution_count": 0,
   "metadata": {
    "application/vnd.databricks.v1+cell": {
     "cellMetadata": {
      "byteLimit": 2048000,
      "rowLimit": 10000
     },
     "inputWidgets": {},
     "nuid": "d009ccba-8875-4552-a5e5-3fca82b36702",
     "showTitle": false,
     "tableResultSettingsMap": {},
     "title": ""
    }
   },
   "outputs": [
    {
     "output_type": "stream",
     "name": "stdout",
     "output_type": "stream",
     "text": [
      "+--------------------------+\n|normalizeHolidayName      |\n+--------------------------+\n|Veterans Day              |\n|Independence Day          |\n|Columbus Day              |\n|Memorial Day              |\n|Thanksgiving              |\n|Christmas Day             |\n|Martin Luther King Jr. Day|\n|Labor Day                 |\n|New Year's Day            |\n|Washington's Birthday     |\n+--------------------------+\n\n"
     ]
    }
   ],
   "source": [
    "# Get unique values in the 'normalizeHolidayName' column\n",
    "hol_df.select(\"normalizeHolidayName\").distinct().show(truncate=False)"
   ]
  },
  {
   "cell_type": "code",
   "execution_count": 0,
   "metadata": {
    "application/vnd.databricks.v1+cell": {
     "cellMetadata": {
      "byteLimit": 2048000,
      "rowLimit": 10000
     },
     "inputWidgets": {},
     "nuid": "e7fc8103-2594-49fe-9432-6698152cc122",
     "showTitle": false,
     "tableResultSettingsMap": {},
     "title": ""
    }
   },
   "outputs": [],
   "source": [
    "taxi_with_holidays_df = taxi_with_holidays_df.drop(\"countryOrRegion\", \"countryRegionCode\", \"date\", \"holiday_date\")"
   ]
  },
  {
   "cell_type": "code",
   "execution_count": 0,
   "metadata": {
    "application/vnd.databricks.v1+cell": {
     "cellMetadata": {
      "byteLimit": 2048000,
      "rowLimit": 10000
     },
     "inputWidgets": {},
     "nuid": "2c42c4b9-62cd-4396-a5bc-3efd8350ca79",
     "showTitle": false,
     "tableResultSettingsMap": {},
     "title": ""
    }
   },
   "outputs": [
    {
     "output_type": "display_data",
     "data": {
      "text/html": [
       "<style scoped>\n",
       "  .table-result-container {\n",
       "    max-height: 300px;\n",
       "    overflow: auto;\n",
       "  }\n",
       "  table, th, td {\n",
       "    border: 1px solid black;\n",
       "    border-collapse: collapse;\n",
       "  }\n",
       "  th, td {\n",
       "    padding: 5px;\n",
       "  }\n",
       "  th {\n",
       "    text-align: left;\n",
       "  }\n",
       "</style><div class='table-result-container'><table class='table-result'><thead style='background-color: white'><tr><th>DOLocationID</th><th>PULocationID</th><th>pickup_datetime</th><th>dropoff_datetime</th><th>passenger_count</th><th>trip_distance</th><th>payment_type</th><th>fare_amount</th><th>tolls_amount</th><th>improvement_surcharge</th><th>total_amount</th><th>trip_duration</th><th>pickup_day_of_week</th><th>pickup_hour</th><th>Month_Num</th><th>pickup_month</th><th>dropoff_hour</th><th>dropoff_day_of_week</th><th>dropoff_month</th><th>dropoff_week_of_year</th><th>pickup_date</th><th>pickup_time</th><th>dropoff_date</th><th>dropoff_time</th><th>pickup_latitude</th><th>pickup_longitude</th><th>dropoff_latitude</th><th>dropoff_longitude</th><th>distance_km</th><th>pickup_borough</th><th>pickup_zone</th><th>pickup_service_zone</th><th>LocationID</th><th>dropoff_borough</th><th>dropoff_zone</th><th>dropoff_service_zone</th><th>holidayName</th><th>normalizeHolidayName</th><th>is_holiday</th></tr></thead><tbody><tr><td>138</td><td>170</td><td>2023-10-01T09:29:24Z</td><td>2023-10-01T09:43:44Z</td><td>2</td><td>8.7</td><td>1</td><td>33.8</td><td>6.94</td><td>1.0</td><td>59.64</td><td>14.333333</td><td>1</td><td>9</td><td>10</td><td>10</td><td>9</td><td>1</td><td>10</td><td>39</td><td>2023-10-01</td><td>09:29:24</td><td>2023-10-01</td><td>09:43:44</td><td>40.7477457936439</td><td>-73.97849159965229</td><td>40.774375705932435</td><td>-73.87362864289085</td><td>9.315085974107843</td><td>Manhattan</td><td>Murray Hill</td><td>Yellow Zone</td><td>138</td><td>Queens</td><td>LaGuardia Airport</td><td>Airports</td><td>No Holiday</td><td>No Holiday</td><td>0</td></tr><tr><td>79</td><td>170</td><td>2023-10-01T10:14:39Z</td><td>2023-10-01T10:20:34Z</td><td>3</td><td>1.4</td><td>1</td><td>8.6</td><td>0.0</td><td>1.0</td><td>14.1</td><td>5.9166665</td><td>1</td><td>10</td><td>10</td><td>10</td><td>10</td><td>1</td><td>10</td><td>39</td><td>2023-10-01</td><td>10:14:39</td><td>2023-10-01</td><td>10:20:34</td><td>40.7477457936439</td><td>-73.97849159965229</td><td>40.72762019590954</td><td>-73.98593745682462</td><td>2.3241314426512654</td><td>Manhattan</td><td>Murray Hill</td><td>Yellow Zone</td><td>79</td><td>Manhattan</td><td>East Village</td><td>Yellow Zone</td><td>No Holiday</td><td>No Holiday</td><td>0</td></tr><tr><td>170</td><td>170</td><td>2023-10-01T13:14:30Z</td><td>2023-10-01T13:28:54Z</td><td>1</td><td>0.47</td><td>1</td><td>12.8</td><td>0.0</td><td>1.0</td><td>18.3</td><td>14.4</td><td>1</td><td>13</td><td>10</td><td>10</td><td>13</td><td>1</td><td>10</td><td>39</td><td>2023-10-01</td><td>13:14:30</td><td>2023-10-01</td><td>13:28:54</td><td>40.7477457936439</td><td>-73.97849159965229</td><td>40.7477457936439</td><td>-73.97849159965229</td><td>0.0</td><td>Manhattan</td><td>Murray Hill</td><td>Yellow Zone</td><td>170</td><td>Manhattan</td><td>Murray Hill</td><td>Yellow Zone</td><td>No Holiday</td><td>No Holiday</td><td>0</td></tr><tr><td>229</td><td>170</td><td>2023-10-01T13:37:30Z</td><td>2023-10-01T13:44:26Z</td><td>2</td><td>1.14</td><td>1</td><td>8.6</td><td>0.0</td><td>1.0</td><td>15.12</td><td>6.9333334</td><td>1</td><td>13</td><td>10</td><td>10</td><td>13</td><td>1</td><td>10</td><td>39</td><td>2023-10-01</td><td>13:37:30</td><td>2023-10-01</td><td>13:44:26</td><td>40.7477457936439</td><td>-73.97849159965229</td><td>40.75672894163307</td><td>-73.96514579918423</td><td>1.5038408173485176</td><td>Manhattan</td><td>Murray Hill</td><td>Yellow Zone</td><td>229</td><td>Manhattan</td><td>Sutton Place/Turtle Bay North</td><td>Yellow Zone</td><td>No Holiday</td><td>No Holiday</td><td>0</td></tr><tr><td>79</td><td>170</td><td>2023-10-01T17:30:51Z</td><td>2023-10-01T17:48:13Z</td><td>1</td><td>3.83</td><td>1</td><td>20.5</td><td>0.0</td><td>1.0</td><td>29.4</td><td>17.366667</td><td>1</td><td>17</td><td>10</td><td>10</td><td>17</td><td>1</td><td>10</td><td>39</td><td>2023-10-01</td><td>17:30:51</td><td>2023-10-01</td><td>17:48:13</td><td>40.7477457936439</td><td>-73.97849159965229</td><td>40.72762019590954</td><td>-73.98593745682462</td><td>2.3241314426512654</td><td>Manhattan</td><td>Murray Hill</td><td>Yellow Zone</td><td>79</td><td>Manhattan</td><td>East Village</td><td>Yellow Zone</td><td>No Holiday</td><td>No Holiday</td><td>0</td></tr></tbody></table></div>"
      ]
     },
     "metadata": {
      "application/vnd.databricks.v1+output": {
       "addedWidgets": {},
       "aggData": [],
       "aggError": "",
       "aggOverflow": false,
       "aggSchema": [],
       "aggSeriesLimitReached": false,
       "aggType": "",
       "arguments": {},
       "columnCustomDisplayInfos": {},
       "data": [
        [
         138,
         170,
         "2023-10-01T09:29:24Z",
         "2023-10-01T09:43:44Z",
         2,
         8.7,
         "1",
         33.8,
         6.94,
         1.0,
         59.64,
         14.333333,
         1,
         9,
         10,
         10,
         9,
         1,
         10,
         39,
         "2023-10-01",
         "09:29:24",
         "2023-10-01",
         "09:43:44",
         40.7477457936439,
         -73.97849159965229,
         40.774375705932435,
         -73.87362864289085,
         9.315085974107843,
         "Manhattan",
         "Murray Hill",
         "Yellow Zone",
         138,
         "Queens",
         "LaGuardia Airport",
         "Airports",
         "No Holiday",
         "No Holiday",
         0
        ],
        [
         79,
         170,
         "2023-10-01T10:14:39Z",
         "2023-10-01T10:20:34Z",
         3,
         1.4,
         "1",
         8.6,
         0.0,
         1.0,
         14.1,
         5.9166665,
         1,
         10,
         10,
         10,
         10,
         1,
         10,
         39,
         "2023-10-01",
         "10:14:39",
         "2023-10-01",
         "10:20:34",
         40.7477457936439,
         -73.97849159965229,
         40.72762019590954,
         -73.98593745682462,
         2.3241314426512654,
         "Manhattan",
         "Murray Hill",
         "Yellow Zone",
         79,
         "Manhattan",
         "East Village",
         "Yellow Zone",
         "No Holiday",
         "No Holiday",
         0
        ],
        [
         170,
         170,
         "2023-10-01T13:14:30Z",
         "2023-10-01T13:28:54Z",
         1,
         0.47,
         "1",
         12.8,
         0.0,
         1.0,
         18.3,
         14.4,
         1,
         13,
         10,
         10,
         13,
         1,
         10,
         39,
         "2023-10-01",
         "13:14:30",
         "2023-10-01",
         "13:28:54",
         40.7477457936439,
         -73.97849159965229,
         40.7477457936439,
         -73.97849159965229,
         0.0,
         "Manhattan",
         "Murray Hill",
         "Yellow Zone",
         170,
         "Manhattan",
         "Murray Hill",
         "Yellow Zone",
         "No Holiday",
         "No Holiday",
         0
        ],
        [
         229,
         170,
         "2023-10-01T13:37:30Z",
         "2023-10-01T13:44:26Z",
         2,
         1.14,
         "1",
         8.6,
         0.0,
         1.0,
         15.12,
         6.9333334,
         1,
         13,
         10,
         10,
         13,
         1,
         10,
         39,
         "2023-10-01",
         "13:37:30",
         "2023-10-01",
         "13:44:26",
         40.7477457936439,
         -73.97849159965229,
         40.75672894163307,
         -73.96514579918423,
         1.5038408173485176,
         "Manhattan",
         "Murray Hill",
         "Yellow Zone",
         229,
         "Manhattan",
         "Sutton Place/Turtle Bay North",
         "Yellow Zone",
         "No Holiday",
         "No Holiday",
         0
        ],
        [
         79,
         170,
         "2023-10-01T17:30:51Z",
         "2023-10-01T17:48:13Z",
         1,
         3.83,
         "1",
         20.5,
         0.0,
         1.0,
         29.4,
         17.366667,
         1,
         17,
         10,
         10,
         17,
         1,
         10,
         39,
         "2023-10-01",
         "17:30:51",
         "2023-10-01",
         "17:48:13",
         40.7477457936439,
         -73.97849159965229,
         40.72762019590954,
         -73.98593745682462,
         2.3241314426512654,
         "Manhattan",
         "Murray Hill",
         "Yellow Zone",
         79,
         "Manhattan",
         "East Village",
         "Yellow Zone",
         "No Holiday",
         "No Holiday",
         0
        ]
       ],
       "datasetInfos": [],
       "dbfsResultPath": null,
       "isJsonSchema": true,
       "metadata": {},
       "overflow": false,
       "plotOptions": {
        "customPlotOptions": {},
        "displayType": "table",
        "pivotAggregation": null,
        "pivotColumns": null,
        "xColumns": null,
        "yColumns": null
       },
       "removedWidgets": [],
       "schema": [
        {
         "metadata": "{}",
         "name": "DOLocationID",
         "type": "\"integer\""
        },
        {
         "metadata": "{}",
         "name": "PULocationID",
         "type": "\"integer\""
        },
        {
         "metadata": "{}",
         "name": "pickup_datetime",
         "type": "\"timestamp\""
        },
        {
         "metadata": "{}",
         "name": "dropoff_datetime",
         "type": "\"timestamp\""
        },
        {
         "metadata": "{}",
         "name": "passenger_count",
         "type": "\"integer\""
        },
        {
         "metadata": "{}",
         "name": "trip_distance",
         "type": "\"float\""
        },
        {
         "metadata": "{}",
         "name": "payment_type",
         "type": "\"string\""
        },
        {
         "metadata": "{}",
         "name": "fare_amount",
         "type": "\"float\""
        },
        {
         "metadata": "{}",
         "name": "tolls_amount",
         "type": "\"float\""
        },
        {
         "metadata": "{}",
         "name": "improvement_surcharge",
         "type": "\"float\""
        },
        {
         "metadata": "{}",
         "name": "total_amount",
         "type": "\"float\""
        },
        {
         "metadata": "{}",
         "name": "trip_duration",
         "type": "\"float\""
        },
        {
         "metadata": "{}",
         "name": "pickup_day_of_week",
         "type": "\"integer\""
        },
        {
         "metadata": "{}",
         "name": "pickup_hour",
         "type": "\"integer\""
        },
        {
         "metadata": "{}",
         "name": "Month_Num",
         "type": "\"integer\""
        },
        {
         "metadata": "{}",
         "name": "pickup_month",
         "type": "\"integer\""
        },
        {
         "metadata": "{}",
         "name": "dropoff_hour",
         "type": "\"integer\""
        },
        {
         "metadata": "{}",
         "name": "dropoff_day_of_week",
         "type": "\"integer\""
        },
        {
         "metadata": "{}",
         "name": "dropoff_month",
         "type": "\"integer\""
        },
        {
         "metadata": "{}",
         "name": "dropoff_week_of_year",
         "type": "\"integer\""
        },
        {
         "metadata": "{}",
         "name": "pickup_date",
         "type": "\"date\""
        },
        {
         "metadata": "{}",
         "name": "pickup_time",
         "type": "\"string\""
        },
        {
         "metadata": "{}",
         "name": "dropoff_date",
         "type": "\"string\""
        },
        {
         "metadata": "{}",
         "name": "dropoff_time",
         "type": "\"string\""
        },
        {
         "metadata": "{}",
         "name": "pickup_latitude",
         "type": "\"double\""
        },
        {
         "metadata": "{}",
         "name": "pickup_longitude",
         "type": "\"double\""
        },
        {
         "metadata": "{}",
         "name": "dropoff_latitude",
         "type": "\"double\""
        },
        {
         "metadata": "{}",
         "name": "dropoff_longitude",
         "type": "\"double\""
        },
        {
         "metadata": "{}",
         "name": "distance_km",
         "type": "\"double\""
        },
        {
         "metadata": "{}",
         "name": "pickup_borough",
         "type": "\"string\""
        },
        {
         "metadata": "{}",
         "name": "pickup_zone",
         "type": "\"string\""
        },
        {
         "metadata": "{}",
         "name": "pickup_service_zone",
         "type": "\"string\""
        },
        {
         "metadata": "{}",
         "name": "LocationID",
         "type": "\"integer\""
        },
        {
         "metadata": "{}",
         "name": "dropoff_borough",
         "type": "\"string\""
        },
        {
         "metadata": "{}",
         "name": "dropoff_zone",
         "type": "\"string\""
        },
        {
         "metadata": "{}",
         "name": "dropoff_service_zone",
         "type": "\"string\""
        },
        {
         "metadata": "{}",
         "name": "holidayName",
         "type": "\"string\""
        },
        {
         "metadata": "{}",
         "name": "normalizeHolidayName",
         "type": "\"string\""
        },
        {
         "metadata": "{}",
         "name": "is_holiday",
         "type": "\"integer\""
        }
       ],
       "type": "table"
      }
     },
     "output_type": "display_data"
    }
   ],
   "source": [
    "display(taxi_with_holidays_df.limit(5))"
   ]
  },
  {
   "cell_type": "code",
   "execution_count": 0,
   "metadata": {
    "application/vnd.databricks.v1+cell": {
     "cellMetadata": {
      "byteLimit": 2048000,
      "rowLimit": 10000
     },
     "inputWidgets": {},
     "nuid": "62b5af9c-e4c5-4586-992f-a72e2d5bfe0e",
     "showTitle": false,
     "tableResultSettingsMap": {},
     "title": ""
    }
   },
   "outputs": [
    {
     "output_type": "stream",
     "name": "stdout",
     "output_type": "stream",
     "text": [
      "Shape: (36395607, 39)\n"
     ]
    }
   ],
   "source": [
    "# Check the Shape and Schema\n",
    "# Get the number of rows and columns\n",
    "num_rows = taxi_with_holidays_df.count()\n",
    "num_cols = len(taxi_with_holidays_df.columns)\n",
    "print(f\"Shape: ({num_rows}, {num_cols})\")\n"
   ]
  },
  {
   "cell_type": "code",
   "execution_count": 0,
   "metadata": {
    "application/vnd.databricks.v1+cell": {
     "cellMetadata": {
      "byteLimit": 2048000,
      "rowLimit": 10000
     },
     "inputWidgets": {},
     "nuid": "d2e849ae-e9cc-44eb-a7ff-096d03f7d7c0",
     "showTitle": false,
     "tableResultSettingsMap": {},
     "title": ""
    }
   },
   "outputs": [
    {
     "output_type": "display_data",
     "data": {
      "text/html": [
       "<style scoped>\n",
       "  .table-result-container {\n",
       "    max-height: 300px;\n",
       "    overflow: auto;\n",
       "  }\n",
       "  table, th, td {\n",
       "    border: 1px solid black;\n",
       "    border-collapse: collapse;\n",
       "  }\n",
       "  th, td {\n",
       "    padding: 5px;\n",
       "  }\n",
       "  th {\n",
       "    text-align: left;\n",
       "  }\n",
       "</style><div class='table-result-container'><table class='table-result'><thead style='background-color: white'><tr><th>sum(dropoff_time)</th><th>sum(DOLocationID)</th><th>sum(improvement_surcharge)</th><th>sum(pickup_hour)</th><th>sum(PULocationID)</th><th>sum(trip_distance)</th><th>sum(dropoff_borough)</th><th>sum(pickup_service_zone)</th><th>sum(pickup_date)</th><th>sum(dropoff_longitude)</th><th>sum(LocationID)</th><th>sum(pickup_latitude)</th><th>sum(dropoff_day_of_week)</th><th>sum(tolls_amount)</th><th>sum(dropoff_date)</th><th>sum(pickup_time)</th><th>sum(Month_Num)</th><th>sum(pickup_zone)</th><th>sum(pickup_borough)</th><th>sum(payment_type)</th><th>sum(fare_amount)</th><th>sum(pickup_longitude)</th><th>sum(passenger_count)</th><th>sum(dropoff_month)</th><th>sum(dropoff_hour)</th><th>sum(pickup_day_of_week)</th><th>sum(dropoff_zone)</th><th>sum(distance_km)</th><th>sum(dropoff_datetime)</th><th>sum(normalizeHolidayName)</th><th>sum(dropoff_week_of_year)</th><th>sum(trip_duration)</th><th>sum(total_amount)</th><th>sum(holidayName)</th><th>sum(pickup_datetime)</th><th>sum(dropoff_latitude)</th><th>sum(is_holiday)</th><th>sum(dropoff_service_zone)</th><th>sum(pickup_month)</th></tr></thead><tbody><tr><td>0</td><td>0</td><td>0</td><td>0</td><td>0</td><td>0</td><td>0</td><td>0</td><td>0</td><td>0</td><td>0</td><td>0</td><td>0</td><td>0</td><td>0</td><td>0</td><td>0</td><td>0</td><td>0</td><td>0</td><td>0</td><td>0</td><td>0</td><td>0</td><td>0</td><td>0</td><td>0</td><td>0</td><td>0</td><td>0</td><td>0</td><td>0</td><td>0</td><td>0</td><td>0</td><td>0</td><td>0</td><td>0</td><td>0</td></tr></tbody></table></div>"
      ]
     },
     "metadata": {
      "application/vnd.databricks.v1+output": {
       "addedWidgets": {},
       "aggData": [],
       "aggError": "",
       "aggOverflow": false,
       "aggSchema": [],
       "aggSeriesLimitReached": false,
       "aggType": "",
       "arguments": {},
       "columnCustomDisplayInfos": {},
       "data": [
        [
         0,
         0,
         0,
         0,
         0,
         0,
         0,
         0,
         0,
         0,
         0,
         0,
         0,
         0,
         0,
         0,
         0,
         0,
         0,
         0,
         0,
         0,
         0,
         0,
         0,
         0,
         0,
         0,
         0,
         0,
         0,
         0,
         0,
         0,
         0,
         0,
         0,
         0,
         0
        ]
       ],
       "datasetInfos": [],
       "dbfsResultPath": null,
       "isJsonSchema": true,
       "metadata": {},
       "overflow": false,
       "plotOptions": {
        "customPlotOptions": {},
        "displayType": "table",
        "pivotAggregation": null,
        "pivotColumns": null,
        "xColumns": null,
        "yColumns": null
       },
       "removedWidgets": [],
       "schema": [
        {
         "metadata": "{}",
         "name": "sum(dropoff_time)",
         "type": "\"long\""
        },
        {
         "metadata": "{}",
         "name": "sum(DOLocationID)",
         "type": "\"long\""
        },
        {
         "metadata": "{}",
         "name": "sum(improvement_surcharge)",
         "type": "\"long\""
        },
        {
         "metadata": "{}",
         "name": "sum(pickup_hour)",
         "type": "\"long\""
        },
        {
         "metadata": "{}",
         "name": "sum(PULocationID)",
         "type": "\"long\""
        },
        {
         "metadata": "{}",
         "name": "sum(trip_distance)",
         "type": "\"long\""
        },
        {
         "metadata": "{}",
         "name": "sum(dropoff_borough)",
         "type": "\"long\""
        },
        {
         "metadata": "{}",
         "name": "sum(pickup_service_zone)",
         "type": "\"long\""
        },
        {
         "metadata": "{}",
         "name": "sum(pickup_date)",
         "type": "\"long\""
        },
        {
         "metadata": "{}",
         "name": "sum(dropoff_longitude)",
         "type": "\"long\""
        },
        {
         "metadata": "{}",
         "name": "sum(LocationID)",
         "type": "\"long\""
        },
        {
         "metadata": "{}",
         "name": "sum(pickup_latitude)",
         "type": "\"long\""
        },
        {
         "metadata": "{}",
         "name": "sum(dropoff_day_of_week)",
         "type": "\"long\""
        },
        {
         "metadata": "{}",
         "name": "sum(tolls_amount)",
         "type": "\"long\""
        },
        {
         "metadata": "{}",
         "name": "sum(dropoff_date)",
         "type": "\"long\""
        },
        {
         "metadata": "{}",
         "name": "sum(pickup_time)",
         "type": "\"long\""
        },
        {
         "metadata": "{}",
         "name": "sum(Month_Num)",
         "type": "\"long\""
        },
        {
         "metadata": "{}",
         "name": "sum(pickup_zone)",
         "type": "\"long\""
        },
        {
         "metadata": "{}",
         "name": "sum(pickup_borough)",
         "type": "\"long\""
        },
        {
         "metadata": "{}",
         "name": "sum(payment_type)",
         "type": "\"long\""
        },
        {
         "metadata": "{}",
         "name": "sum(fare_amount)",
         "type": "\"long\""
        },
        {
         "metadata": "{}",
         "name": "sum(pickup_longitude)",
         "type": "\"long\""
        },
        {
         "metadata": "{}",
         "name": "sum(passenger_count)",
         "type": "\"long\""
        },
        {
         "metadata": "{}",
         "name": "sum(dropoff_month)",
         "type": "\"long\""
        },
        {
         "metadata": "{}",
         "name": "sum(dropoff_hour)",
         "type": "\"long\""
        },
        {
         "metadata": "{}",
         "name": "sum(pickup_day_of_week)",
         "type": "\"long\""
        },
        {
         "metadata": "{}",
         "name": "sum(dropoff_zone)",
         "type": "\"long\""
        },
        {
         "metadata": "{}",
         "name": "sum(distance_km)",
         "type": "\"long\""
        },
        {
         "metadata": "{}",
         "name": "sum(dropoff_datetime)",
         "type": "\"long\""
        },
        {
         "metadata": "{}",
         "name": "sum(normalizeHolidayName)",
         "type": "\"long\""
        },
        {
         "metadata": "{}",
         "name": "sum(dropoff_week_of_year)",
         "type": "\"long\""
        },
        {
         "metadata": "{}",
         "name": "sum(trip_duration)",
         "type": "\"long\""
        },
        {
         "metadata": "{}",
         "name": "sum(total_amount)",
         "type": "\"long\""
        },
        {
         "metadata": "{}",
         "name": "sum(holidayName)",
         "type": "\"long\""
        },
        {
         "metadata": "{}",
         "name": "sum(pickup_datetime)",
         "type": "\"long\""
        },
        {
         "metadata": "{}",
         "name": "sum(dropoff_latitude)",
         "type": "\"long\""
        },
        {
         "metadata": "{}",
         "name": "sum(is_holiday)",
         "type": "\"long\""
        },
        {
         "metadata": "{}",
         "name": "sum(dropoff_service_zone)",
         "type": "\"long\""
        },
        {
         "metadata": "{}",
         "name": "sum(pickup_month)",
         "type": "\"long\""
        }
       ],
       "type": "table"
      }
     },
     "output_type": "display_data"
    }
   ],
   "source": [
    "# Check for Missing Values in each column\n",
    "# Check for missing values\n",
    "missing_values = taxi_with_holidays_df.select([((taxi_with_holidays_df[column].isNull()).cast(\"int\")).alias(column) for column in taxi_with_holidays_df.columns]) \\\n",
    "                                .agg({column: 'sum' for column in taxi_with_holidays_df.columns})\n",
    "\n",
    "display(missing_values.limit(5))\n"
   ]
  },
  {
   "cell_type": "code",
   "execution_count": 0,
   "metadata": {
    "application/vnd.databricks.v1+cell": {
     "cellMetadata": {
      "byteLimit": 2048000,
      "rowLimit": 10000
     },
     "inputWidgets": {},
     "nuid": "1692709a-f93b-456c-8576-b496a4f87e8d",
     "showTitle": false,
     "tableResultSettingsMap": {},
     "title": ""
    }
   },
   "outputs": [],
   "source": [
    "# Get value counts for each column\n",
    "for column in taxi_with_holidays_df.columns:\n",
    "    print(f\"Value counts for {column}:\")\n",
    "    display(taxi_with_holidays_df.groupBy(column).count())"
   ]
  },
  {
   "cell_type": "code",
   "execution_count": 0,
   "metadata": {
    "application/vnd.databricks.v1+cell": {
     "cellMetadata": {
      "byteLimit": 2048000,
      "rowLimit": 10000
     },
     "inputWidgets": {},
     "nuid": "d35c0ee9-8ed9-4bdc-86ed-2649cb82c125",
     "showTitle": false,
     "tableResultSettingsMap": {},
     "title": ""
    }
   },
   "outputs": [
    {
     "output_type": "stream",
     "name": "stdout",
     "output_type": "stream",
     "text": [
      "Number of duplicate rows: 0\n"
     ]
    }
   ],
   "source": [
    "# Check for Duplicates\n",
    "# Count the number of duplicate rows\n",
    "duplicates_count = taxi_with_holidays_df.count() - taxi_with_holidays_df.distinct().count()\n",
    "print(f\"Number of duplicate rows: {duplicates_count}\")\n"
   ]
  },
  {
   "cell_type": "code",
   "execution_count": 0,
   "metadata": {
    "application/vnd.databricks.v1+cell": {
     "cellMetadata": {
      "byteLimit": 2048000,
      "rowLimit": 10000
     },
     "inputWidgets": {},
     "nuid": "1a940cd6-59c4-4a4c-b4d4-50819eae0328",
     "showTitle": false,
     "tableResultSettingsMap": {},
     "title": ""
    }
   },
   "outputs": [],
   "source": [
    "# Define a more descriptive Delta Lake storage path\n",
    "delta_path = \"/dbfs/FileStore/tables/Data_Processing_Pulic_Holiday/\"\n",
    "# Write the DataFrame to Delta format\n",
    "taxi_with_holidays_df.write.format(\"delta\").mode(\"overwrite\").save(delta_path)"
   ]
  }
 ],
 "metadata": {
  "application/vnd.databricks.v1+notebook": {
   "dashboards": [],
   "environmentMetadata": null,
   "language": "python",
   "notebookMetadata": {
    "pythonIndentUnit": 4
   },
   "notebookName": "05_Data_Processing_Pulic_Holiday",
   "widgets": {}
  },
  "language_info": {
   "name": "python"
  }
 },
 "nbformat": 4,
 "nbformat_minor": 0
}
