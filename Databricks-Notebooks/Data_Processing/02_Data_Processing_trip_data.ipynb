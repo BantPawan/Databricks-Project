{
 "cells": [
  {
   "cell_type": "code",
   "execution_count": 0,
   "metadata": {
    "application/vnd.databricks.v1+cell": {
     "cellMetadata": {
      "byteLimit": 2048000,
      "rowLimit": 10000
     },
     "inputWidgets": {},
     "nuid": "6776d331-9fb9-4d45-b8b1-3e7fb272ea3d",
     "showTitle": false,
     "tableResultSettingsMap": {},
     "title": ""
    }
   },
   "outputs": [
    {
     "output_type": "display_data",
     "data": {
      "text/html": [
       "<style scoped>\n",
       "  .table-result-container {\n",
       "    max-height: 300px;\n",
       "    overflow: auto;\n",
       "  }\n",
       "  table, th, td {\n",
       "    border: 1px solid black;\n",
       "    border-collapse: collapse;\n",
       "  }\n",
       "  th, td {\n",
       "    padding: 5px;\n",
       "  }\n",
       "  th {\n",
       "    text-align: left;\n",
       "  }\n",
       "</style><div class='table-result-container'><table class='table-result'><thead style='background-color: white'><tr><th>tpep_pickup_datetime</th><th>tpep_dropoff_datetime</th><th>PULocationID</th><th>DOLocationID</th><th>passenger_count</th><th>trip_distance</th><th>payment_type</th><th>fare_amount</th><th>tolls_amount</th><th>improvement_surcharge</th><th>total_amount</th><th>month</th><th>trip_duration</th><th>pickup_day_of_week</th><th>pickup_hour</th></tr></thead><tbody><tr><td>2023-05-01T00:33:13Z</td><td>2023-05-01T00:53:01Z</td><td>138</td><td>43</td><td>0</td><td>7.8</td><td>1</td><td>33.8</td><td>0.0</td><td>1.0</td><td>51.65</td><td>05.parq</td><td>19.8</td><td>2</td><td>0</td></tr><tr><td>2023-05-01T00:42:49Z</td><td>2023-05-01T01:11:18Z</td><td>138</td><td>262</td><td>2</td><td>8.1</td><td>1</td><td>35.9</td><td>0.0</td><td>1.0</td><td>57.15</td><td>05.parq</td><td>28.483334</td><td>2</td><td>0</td></tr><tr><td>2023-05-01T00:56:34Z</td><td>2023-05-01T01:13:39Z</td><td>138</td><td>141</td><td>2</td><td>9.1</td><td>1</td><td>35.2</td><td>6.55</td><td>1.0</td><td>64.2</td><td>05.parq</td><td>17.083334</td><td>2</td><td>0</td></tr><tr><td>2023-05-01T00:00:52Z</td><td>2023-05-01T00:20:12Z</td><td>138</td><td>140</td><td>1</td><td>8.21</td><td>1</td><td>33.1</td><td>0.0</td><td>1.0</td><td>47.09</td><td>05.parq</td><td>19.333334</td><td>2</td><td>0</td></tr><tr><td>2023-05-01T00:05:50Z</td><td>2023-05-01T00:19:41Z</td><td>138</td><td>263</td><td>0</td><td>7.9</td><td>1</td><td>31.0</td><td>6.55</td><td>1.0</td><td>59.15</td><td>05.parq</td><td>13.85</td><td>2</td><td>0</td></tr></tbody></table></div>"
      ]
     },
     "metadata": {
      "application/vnd.databricks.v1+output": {
       "addedWidgets": {},
       "aggData": [],
       "aggError": "",
       "aggOverflow": false,
       "aggSchema": [],
       "aggSeriesLimitReached": false,
       "aggType": "",
       "arguments": {},
       "columnCustomDisplayInfos": {},
       "data": [
        [
         "2023-05-01T00:33:13Z",
         "2023-05-01T00:53:01Z",
         138,
         43,
         0,
         7.8,
         "1",
         33.8,
         0.0,
         1.0,
         51.65,
         "05.parq",
         19.8,
         2,
         0
        ],
        [
         "2023-05-01T00:42:49Z",
         "2023-05-01T01:11:18Z",
         138,
         262,
         2,
         8.1,
         "1",
         35.9,
         0.0,
         1.0,
         57.15,
         "05.parq",
         28.483334,
         2,
         0
        ],
        [
         "2023-05-01T00:56:34Z",
         "2023-05-01T01:13:39Z",
         138,
         141,
         2,
         9.1,
         "1",
         35.2,
         6.55,
         1.0,
         64.2,
         "05.parq",
         17.083334,
         2,
         0
        ],
        [
         "2023-05-01T00:00:52Z",
         "2023-05-01T00:20:12Z",
         138,
         140,
         1,
         8.21,
         "1",
         33.1,
         0.0,
         1.0,
         47.09,
         "05.parq",
         19.333334,
         2,
         0
        ],
        [
         "2023-05-01T00:05:50Z",
         "2023-05-01T00:19:41Z",
         138,
         263,
         0,
         7.9,
         "1",
         31.0,
         6.55,
         1.0,
         59.15,
         "05.parq",
         13.85,
         2,
         0
        ]
       ],
       "datasetInfos": [],
       "dbfsResultPath": null,
       "isJsonSchema": true,
       "metadata": {},
       "overflow": false,
       "plotOptions": {
        "customPlotOptions": {},
        "displayType": "table",
        "pivotAggregation": null,
        "pivotColumns": null,
        "xColumns": null,
        "yColumns": null
       },
       "removedWidgets": [],
       "schema": [
        {
         "metadata": "{}",
         "name": "tpep_pickup_datetime",
         "type": "\"timestamp\""
        },
        {
         "metadata": "{}",
         "name": "tpep_dropoff_datetime",
         "type": "\"timestamp\""
        },
        {
         "metadata": "{}",
         "name": "PULocationID",
         "type": "\"integer\""
        },
        {
         "metadata": "{}",
         "name": "DOLocationID",
         "type": "\"integer\""
        },
        {
         "metadata": "{}",
         "name": "passenger_count",
         "type": "\"integer\""
        },
        {
         "metadata": "{}",
         "name": "trip_distance",
         "type": "\"float\""
        },
        {
         "metadata": "{}",
         "name": "payment_type",
         "type": "\"string\""
        },
        {
         "metadata": "{}",
         "name": "fare_amount",
         "type": "\"float\""
        },
        {
         "metadata": "{}",
         "name": "tolls_amount",
         "type": "\"float\""
        },
        {
         "metadata": "{}",
         "name": "improvement_surcharge",
         "type": "\"float\""
        },
        {
         "metadata": "{}",
         "name": "total_amount",
         "type": "\"float\""
        },
        {
         "metadata": "{}",
         "name": "month",
         "type": "\"string\""
        },
        {
         "metadata": "{}",
         "name": "trip_duration",
         "type": "\"float\""
        },
        {
         "metadata": "{}",
         "name": "pickup_day_of_week",
         "type": "\"integer\""
        },
        {
         "metadata": "{}",
         "name": "pickup_hour",
         "type": "\"integer\""
        }
       ],
       "type": "table"
      }
     },
     "output_type": "display_data"
    }
   ],
   "source": [
    "# Load the Delta table\n",
    "data_processing_df = spark.read.format(\"delta\").load(\"dbfs:/FileStore/tables/nyc_taxi_data_delta/\")\n",
    "\n",
    "# Show the first few rows to verify\n",
    "display(data_processing_df.limit(5))"
   ]
  },
  {
   "cell_type": "code",
   "execution_count": 0,
   "metadata": {
    "application/vnd.databricks.v1+cell": {
     "cellMetadata": {
      "byteLimit": 2048000,
      "rowLimit": 10000
     },
     "inputWidgets": {},
     "nuid": "3d541ac2-6bc6-4b5d-b6ce-4308f93c61f5",
     "showTitle": false,
     "tableResultSettingsMap": {},
     "title": ""
    }
   },
   "outputs": [
    {
     "output_type": "stream",
     "name": "stdout",
     "output_type": "stream",
     "text": [
      "Shape: (38310226, 15)\nroot\n |-- tpep_pickup_datetime: timestamp (nullable = true)\n |-- tpep_dropoff_datetime: timestamp (nullable = true)\n |-- PULocationID: integer (nullable = true)\n |-- DOLocationID: integer (nullable = true)\n |-- passenger_count: integer (nullable = true)\n |-- trip_distance: float (nullable = true)\n |-- payment_type: string (nullable = true)\n |-- fare_amount: float (nullable = true)\n |-- tolls_amount: float (nullable = true)\n |-- improvement_surcharge: float (nullable = true)\n |-- total_amount: float (nullable = true)\n |-- month: string (nullable = true)\n |-- trip_duration: float (nullable = true)\n |-- pickup_day_of_week: integer (nullable = true)\n |-- pickup_hour: integer (nullable = true)\n\n"
     ]
    }
   ],
   "source": [
    "# Check the Shape and Schema\n",
    "# Get the number of rows and columns\n",
    "num_rows = data_processing_df.count()\n",
    "num_cols = len(data_processing_df.columns)\n",
    "print(f\"Shape: ({num_rows}, {num_cols})\")\n",
    "\n",
    "# Get DataFrame information\n",
    "data_processing_df.printSchema()"
   ]
  },
  {
   "cell_type": "code",
   "execution_count": 0,
   "metadata": {
    "application/vnd.databricks.v1+cell": {
     "cellMetadata": {
      "byteLimit": 2048000,
      "rowLimit": 10000
     },
     "inputWidgets": {},
     "nuid": "883faee4-75a5-4523-8901-f8dece008188",
     "showTitle": false,
     "tableResultSettingsMap": {},
     "title": ""
    }
   },
   "outputs": [
    {
     "output_type": "stream",
     "name": "stdout",
     "output_type": "stream",
     "text": [
      "Number of duplicate rows: 2\n"
     ]
    }
   ],
   "source": [
    "# Check for Duplicates\n",
    "# Count the number of duplicate rows\n",
    "duplicates_count = data_processing_df.count() - data_processing_df.distinct().count()\n",
    "print(f\"Number of duplicate rows: {duplicates_count}\")"
   ]
  },
  {
   "cell_type": "code",
   "execution_count": 0,
   "metadata": {
    "application/vnd.databricks.v1+cell": {
     "cellMetadata": {
      "byteLimit": 2048000,
      "rowLimit": 10000
     },
     "inputWidgets": {},
     "nuid": "6297fba2-2d8c-412a-8d46-5de28cd15d67",
     "showTitle": false,
     "tableResultSettingsMap": {},
     "title": ""
    }
   },
   "outputs": [
    {
     "output_type": "display_data",
     "data": {
      "text/html": [
       "<style scoped>\n",
       "  .table-result-container {\n",
       "    max-height: 300px;\n",
       "    overflow: auto;\n",
       "  }\n",
       "  table, th, td {\n",
       "    border: 1px solid black;\n",
       "    border-collapse: collapse;\n",
       "  }\n",
       "  th, td {\n",
       "    padding: 5px;\n",
       "  }\n",
       "  th {\n",
       "    text-align: left;\n",
       "  }\n",
       "</style><div class='table-result-container'><table class='table-result'><thead style='background-color: white'><tr><th>sum(DOLocationID)</th><th>sum(improvement_surcharge)</th><th>sum(pickup_hour)</th><th>sum(tpep_dropoff_datetime)</th><th>sum(PULocationID)</th><th>sum(trip_distance)</th><th>sum(tolls_amount)</th><th>sum(payment_type)</th><th>sum(fare_amount)</th><th>sum(passenger_count)</th><th>sum(pickup_day_of_week)</th><th>sum(trip_duration)</th><th>sum(total_amount)</th><th>sum(tpep_pickup_datetime)</th><th>sum(month)</th></tr></thead><tbody><tr><td>0</td><td>0</td><td>0</td><td>0</td><td>0</td><td>0</td><td>0</td><td>0</td><td>0</td><td>1309356</td><td>0</td><td>0</td><td>0</td><td>0</td><td>0</td></tr></tbody></table></div>"
      ]
     },
     "metadata": {
      "application/vnd.databricks.v1+output": {
       "addedWidgets": {},
       "aggData": [],
       "aggError": "",
       "aggOverflow": false,
       "aggSchema": [],
       "aggSeriesLimitReached": false,
       "aggType": "",
       "arguments": {},
       "columnCustomDisplayInfos": {},
       "data": [
        [
         0,
         0,
         0,
         0,
         0,
         0,
         0,
         0,
         0,
         1309356,
         0,
         0,
         0,
         0,
         0
        ]
       ],
       "datasetInfos": [],
       "dbfsResultPath": null,
       "isJsonSchema": true,
       "metadata": {},
       "overflow": false,
       "plotOptions": {
        "customPlotOptions": {},
        "displayType": "table",
        "pivotAggregation": null,
        "pivotColumns": null,
        "xColumns": null,
        "yColumns": null
       },
       "removedWidgets": [],
       "schema": [
        {
         "metadata": "{}",
         "name": "sum(DOLocationID)",
         "type": "\"long\""
        },
        {
         "metadata": "{}",
         "name": "sum(improvement_surcharge)",
         "type": "\"long\""
        },
        {
         "metadata": "{}",
         "name": "sum(pickup_hour)",
         "type": "\"long\""
        },
        {
         "metadata": "{}",
         "name": "sum(tpep_dropoff_datetime)",
         "type": "\"long\""
        },
        {
         "metadata": "{}",
         "name": "sum(PULocationID)",
         "type": "\"long\""
        },
        {
         "metadata": "{}",
         "name": "sum(trip_distance)",
         "type": "\"long\""
        },
        {
         "metadata": "{}",
         "name": "sum(tolls_amount)",
         "type": "\"long\""
        },
        {
         "metadata": "{}",
         "name": "sum(payment_type)",
         "type": "\"long\""
        },
        {
         "metadata": "{}",
         "name": "sum(fare_amount)",
         "type": "\"long\""
        },
        {
         "metadata": "{}",
         "name": "sum(passenger_count)",
         "type": "\"long\""
        },
        {
         "metadata": "{}",
         "name": "sum(pickup_day_of_week)",
         "type": "\"long\""
        },
        {
         "metadata": "{}",
         "name": "sum(trip_duration)",
         "type": "\"long\""
        },
        {
         "metadata": "{}",
         "name": "sum(total_amount)",
         "type": "\"long\""
        },
        {
         "metadata": "{}",
         "name": "sum(tpep_pickup_datetime)",
         "type": "\"long\""
        },
        {
         "metadata": "{}",
         "name": "sum(month)",
         "type": "\"long\""
        }
       ],
       "type": "table"
      }
     },
     "output_type": "display_data"
    }
   ],
   "source": [
    "# Check for Missing Values in each column\n",
    "# Check for missing values\n",
    "missing_values = data_processing_df.select([((data_processing_df[column].isNull()).cast(\"int\")).alias(column) for column in data_processing_df.columns]) \\\n",
    "                                .agg({column: 'sum' for column in data_processing_df.columns})\n",
    "\n",
    "display(missing_values.limit(5))\n"
   ]
  },
  {
   "cell_type": "code",
   "execution_count": 0,
   "metadata": {
    "application/vnd.databricks.v1+cell": {
     "cellMetadata": {
      "byteLimit": 2048000,
      "rowLimit": 10000
     },
     "inputWidgets": {},
     "nuid": "69969bb9-6fd1-4faf-8180-5349ae388570",
     "showTitle": false,
     "tableResultSettingsMap": {},
     "title": ""
    }
   },
   "outputs": [],
   "source": [
    "# Get value counts for each column\n",
    "for column in data_processing_df.columns:\n",
    "    print(f\"Value counts for {column}:\")\n",
    "    display(data_processing_df.groupBy(column).count())"
   ]
  },
  {
   "cell_type": "code",
   "execution_count": 0,
   "metadata": {
    "application/vnd.databricks.v1+cell": {
     "cellMetadata": {
      "byteLimit": 2048000,
      "rowLimit": 10000
     },
     "inputWidgets": {},
     "nuid": "661e6fc0-717b-4b79-911a-cd875c0729a6",
     "showTitle": false,
     "tableResultSettingsMap": {},
     "title": ""
    }
   },
   "outputs": [],
   "source": [
    "# Function to display value counts for a specific column using display()\n",
    "def display_value_counts(dataframe, column):\n",
    "    print(f\"Value counts for {column}:\")\n",
    "    value_counts = dataframe.groupBy(column).count().orderBy(\"count\", ascending=False)\n",
    "    display(value_counts)\n"
   ]
  },
  {
   "cell_type": "code",
   "execution_count": 0,
   "metadata": {
    "application/vnd.databricks.v1+cell": {
     "cellMetadata": {
      "byteLimit": 2048000,
      "rowLimit": 10000
     },
     "inputWidgets": {},
     "nuid": "bcf4a76c-9c80-4324-83f9-5f1befa1c0e3",
     "showTitle": false,
     "tableResultSettingsMap": {},
     "title": ""
    }
   },
   "outputs": [
    {
     "output_type": "stream",
     "name": "stdout",
     "output_type": "stream",
     "text": [
      "Value counts for month:\n"
     ]
    },
    {
     "output_type": "display_data",
     "data": {
      "text/html": [
       "<style scoped>\n",
       "  .table-result-container {\n",
       "    max-height: 300px;\n",
       "    overflow: auto;\n",
       "  }\n",
       "  table, th, td {\n",
       "    border: 1px solid black;\n",
       "    border-collapse: collapse;\n",
       "  }\n",
       "  th, td {\n",
       "    padding: 5px;\n",
       "  }\n",
       "  th {\n",
       "    text-align: left;\n",
       "  }\n",
       "</style><div class='table-result-container'><table class='table-result'><thead style='background-color: white'><tr><th>month</th><th>count</th></tr></thead><tbody><tr><td>10.parq</td><td>3522285</td></tr><tr><td>05.parq</td><td>3513649</td></tr><tr><td>03.parq</td><td>3403766</td></tr><tr><td>12.parq</td><td>3376567</td></tr><tr><td>11.parq</td><td>3339715</td></tr><tr><td>06.parq</td><td>3307234</td></tr><tr><td>04.parq</td><td>3288250</td></tr><tr><td>01.parq</td><td>3066766</td></tr><tr><td>02.parq</td><td>2913955</td></tr><tr><td>07.parq</td><td>2907108</td></tr><tr><td>09.parq</td><td>2846722</td></tr><tr><td>08.parq</td><td>2824209</td></tr></tbody></table></div>"
      ]
     },
     "metadata": {
      "application/vnd.databricks.v1+output": {
       "addedWidgets": {},
       "aggData": [],
       "aggError": "",
       "aggOverflow": false,
       "aggSchema": [],
       "aggSeriesLimitReached": false,
       "aggType": "",
       "arguments": {},
       "columnCustomDisplayInfos": {},
       "data": [
        [
         "10.parq",
         3522285
        ],
        [
         "05.parq",
         3513649
        ],
        [
         "03.parq",
         3403766
        ],
        [
         "12.parq",
         3376567
        ],
        [
         "11.parq",
         3339715
        ],
        [
         "06.parq",
         3307234
        ],
        [
         "04.parq",
         3288250
        ],
        [
         "01.parq",
         3066766
        ],
        [
         "02.parq",
         2913955
        ],
        [
         "07.parq",
         2907108
        ],
        [
         "09.parq",
         2846722
        ],
        [
         "08.parq",
         2824209
        ]
       ],
       "datasetInfos": [],
       "dbfsResultPath": null,
       "isJsonSchema": true,
       "metadata": {},
       "overflow": false,
       "plotOptions": {
        "customPlotOptions": {},
        "displayType": "table",
        "pivotAggregation": null,
        "pivotColumns": null,
        "xColumns": null,
        "yColumns": null
       },
       "removedWidgets": [],
       "schema": [
        {
         "metadata": "{}",
         "name": "month",
         "type": "\"string\""
        },
        {
         "metadata": "{}",
         "name": "count",
         "type": "\"long\""
        }
       ],
       "type": "table"
      }
     },
     "output_type": "display_data"
    }
   ],
   "source": [
    "# Example usage for a specific column\n",
    "display_value_counts(data_processing_df, 'month')"
   ]
  },
  {
   "cell_type": "code",
   "execution_count": 0,
   "metadata": {
    "application/vnd.databricks.v1+cell": {
     "cellMetadata": {
      "byteLimit": 2048000,
      "rowLimit": 10000
     },
     "inputWidgets": {},
     "nuid": "384196e8-2484-4b6c-8b7e-cfa40506ce42",
     "showTitle": false,
     "tableResultSettingsMap": {},
     "title": ""
    }
   },
   "outputs": [],
   "source": [
    "from pyspark.sql.functions import regexp_extract, col\n",
    "from pyspark.sql.types import IntegerType\n",
    "\n",
    "# Assuming 'month' is the name of the column in data_processing_df that contains values like '10.parq'\n",
    "data_processing_df = data_processing_df.withColumn(\"Month_Num\", regexp_extract(\"month\", r\"(\\d{2})\", 1).cast(IntegerType()))\n",
    "\n",
    "# Drop the original 'month' column if it's not needed\n",
    "data_processing_df = data_processing_df.drop(\"month\")\n",
    "\n",
    "# Display the updated DataFrame\n",
    "display(data_processing_df)"
   ]
  },
  {
   "cell_type": "code",
   "execution_count": 0,
   "metadata": {
    "application/vnd.databricks.v1+cell": {
     "cellMetadata": {
      "byteLimit": 2048000,
      "rowLimit": 10000
     },
     "inputWidgets": {},
     "nuid": "67770766-d55b-4a4a-8170-9337063bdc0a",
     "showTitle": false,
     "tableResultSettingsMap": {},
     "title": ""
    }
   },
   "outputs": [],
   "source": [
    "from pyspark.sql.functions import hour, dayofweek, month, weekofyear\n",
    "\n",
    "data_processing_df = data_processing_df.withColumn(\"pickup_month\", month(\"tpep_pickup_datetime\"))"
   ]
  },
  {
   "cell_type": "code",
   "execution_count": 0,
   "metadata": {
    "application/vnd.databricks.v1+cell": {
     "cellMetadata": {
      "byteLimit": 2048000,
      "rowLimit": 10000
     },
     "inputWidgets": {},
     "nuid": "5fde8bb3-f579-429e-88b9-c814706d242f",
     "showTitle": false,
     "tableResultSettingsMap": {},
     "title": ""
    }
   },
   "outputs": [],
   "source": [
    "# Extract features from dropoff datetime\n",
    "data_processing_df = data_processing_df.withColumn(\"dropoff_hour\", hour(\"tpep_dropoff_datetime\"))\n",
    "data_processing_df = data_processing_df.withColumn(\"dropoff_day_of_week\", dayofweek(\"tpep_dropoff_datetime\"))\n",
    "data_processing_df = data_processing_df.withColumn(\"dropoff_month\", month(\"tpep_dropoff_datetime\"))\n",
    "data_processing_df = data_processing_df.withColumn(\"dropoff_week_of_year\", weekofyear(\"tpep_dropoff_datetime\"))"
   ]
  },
  {
   "cell_type": "code",
   "execution_count": 0,
   "metadata": {
    "application/vnd.databricks.v1+cell": {
     "cellMetadata": {
      "byteLimit": 2048000,
      "rowLimit": 10000
     },
     "inputWidgets": {},
     "nuid": "d86816f8-1304-4027-b48c-f0a73ea10d7a",
     "showTitle": false,
     "tableResultSettingsMap": {},
     "title": ""
    }
   },
   "outputs": [
    {
     "output_type": "display_data",
     "data": {
      "text/html": [
       "<style scoped>\n",
       "  .table-result-container {\n",
       "    max-height: 300px;\n",
       "    overflow: auto;\n",
       "  }\n",
       "  table, th, td {\n",
       "    border: 1px solid black;\n",
       "    border-collapse: collapse;\n",
       "  }\n",
       "  th, td {\n",
       "    padding: 5px;\n",
       "  }\n",
       "  th {\n",
       "    text-align: left;\n",
       "  }\n",
       "</style><div class='table-result-container'><table class='table-result'><thead style='background-color: white'><tr><th>tpep_pickup_datetime</th><th>tpep_dropoff_datetime</th><th>PULocationID</th><th>DOLocationID</th><th>passenger_count</th><th>trip_distance</th><th>payment_type</th><th>fare_amount</th><th>tolls_amount</th><th>improvement_surcharge</th><th>total_amount</th><th>trip_duration</th><th>pickup_day_of_week</th><th>pickup_hour</th><th>Month_Num</th><th>pickup_month</th><th>dropoff_hour</th><th>dropoff_day_of_week</th><th>dropoff_month</th><th>dropoff_week_of_year</th></tr></thead><tbody><tr><td>2023-05-01T00:33:13Z</td><td>2023-05-01T00:53:01Z</td><td>138</td><td>43</td><td>0</td><td>7.8</td><td>1</td><td>33.8</td><td>0.0</td><td>1.0</td><td>51.65</td><td>19.8</td><td>2</td><td>0</td><td>5</td><td>5</td><td>0</td><td>2</td><td>5</td><td>18</td></tr><tr><td>2023-05-01T00:42:49Z</td><td>2023-05-01T01:11:18Z</td><td>138</td><td>262</td><td>2</td><td>8.1</td><td>1</td><td>35.9</td><td>0.0</td><td>1.0</td><td>57.15</td><td>28.483334</td><td>2</td><td>0</td><td>5</td><td>5</td><td>1</td><td>2</td><td>5</td><td>18</td></tr><tr><td>2023-05-01T00:56:34Z</td><td>2023-05-01T01:13:39Z</td><td>138</td><td>141</td><td>2</td><td>9.1</td><td>1</td><td>35.2</td><td>6.55</td><td>1.0</td><td>64.2</td><td>17.083334</td><td>2</td><td>0</td><td>5</td><td>5</td><td>1</td><td>2</td><td>5</td><td>18</td></tr><tr><td>2023-05-01T00:00:52Z</td><td>2023-05-01T00:20:12Z</td><td>138</td><td>140</td><td>1</td><td>8.21</td><td>1</td><td>33.1</td><td>0.0</td><td>1.0</td><td>47.09</td><td>19.333334</td><td>2</td><td>0</td><td>5</td><td>5</td><td>0</td><td>2</td><td>5</td><td>18</td></tr><tr><td>2023-05-01T00:05:50Z</td><td>2023-05-01T00:19:41Z</td><td>138</td><td>263</td><td>0</td><td>7.9</td><td>1</td><td>31.0</td><td>6.55</td><td>1.0</td><td>59.15</td><td>13.85</td><td>2</td><td>0</td><td>5</td><td>5</td><td>0</td><td>2</td><td>5</td><td>18</td></tr></tbody></table></div>"
      ]
     },
     "metadata": {
      "application/vnd.databricks.v1+output": {
       "addedWidgets": {},
       "aggData": [],
       "aggError": "",
       "aggOverflow": false,
       "aggSchema": [],
       "aggSeriesLimitReached": false,
       "aggType": "",
       "arguments": {},
       "columnCustomDisplayInfos": {},
       "data": [
        [
         "2023-05-01T00:33:13Z",
         "2023-05-01T00:53:01Z",
         138,
         43,
         0,
         7.8,
         "1",
         33.8,
         0.0,
         1.0,
         51.65,
         19.8,
         2,
         0,
         5,
         5,
         0,
         2,
         5,
         18
        ],
        [
         "2023-05-01T00:42:49Z",
         "2023-05-01T01:11:18Z",
         138,
         262,
         2,
         8.1,
         "1",
         35.9,
         0.0,
         1.0,
         57.15,
         28.483334,
         2,
         0,
         5,
         5,
         1,
         2,
         5,
         18
        ],
        [
         "2023-05-01T00:56:34Z",
         "2023-05-01T01:13:39Z",
         138,
         141,
         2,
         9.1,
         "1",
         35.2,
         6.55,
         1.0,
         64.2,
         17.083334,
         2,
         0,
         5,
         5,
         1,
         2,
         5,
         18
        ],
        [
         "2023-05-01T00:00:52Z",
         "2023-05-01T00:20:12Z",
         138,
         140,
         1,
         8.21,
         "1",
         33.1,
         0.0,
         1.0,
         47.09,
         19.333334,
         2,
         0,
         5,
         5,
         0,
         2,
         5,
         18
        ],
        [
         "2023-05-01T00:05:50Z",
         "2023-05-01T00:19:41Z",
         138,
         263,
         0,
         7.9,
         "1",
         31.0,
         6.55,
         1.0,
         59.15,
         13.85,
         2,
         0,
         5,
         5,
         0,
         2,
         5,
         18
        ]
       ],
       "datasetInfos": [],
       "dbfsResultPath": null,
       "isJsonSchema": true,
       "metadata": {},
       "overflow": false,
       "plotOptions": {
        "customPlotOptions": {},
        "displayType": "table",
        "pivotAggregation": null,
        "pivotColumns": null,
        "xColumns": null,
        "yColumns": null
       },
       "removedWidgets": [],
       "schema": [
        {
         "metadata": "{}",
         "name": "tpep_pickup_datetime",
         "type": "\"timestamp\""
        },
        {
         "metadata": "{}",
         "name": "tpep_dropoff_datetime",
         "type": "\"timestamp\""
        },
        {
         "metadata": "{}",
         "name": "PULocationID",
         "type": "\"integer\""
        },
        {
         "metadata": "{}",
         "name": "DOLocationID",
         "type": "\"integer\""
        },
        {
         "metadata": "{}",
         "name": "passenger_count",
         "type": "\"integer\""
        },
        {
         "metadata": "{}",
         "name": "trip_distance",
         "type": "\"float\""
        },
        {
         "metadata": "{}",
         "name": "payment_type",
         "type": "\"string\""
        },
        {
         "metadata": "{}",
         "name": "fare_amount",
         "type": "\"float\""
        },
        {
         "metadata": "{}",
         "name": "tolls_amount",
         "type": "\"float\""
        },
        {
         "metadata": "{}",
         "name": "improvement_surcharge",
         "type": "\"float\""
        },
        {
         "metadata": "{}",
         "name": "total_amount",
         "type": "\"float\""
        },
        {
         "metadata": "{}",
         "name": "trip_duration",
         "type": "\"float\""
        },
        {
         "metadata": "{}",
         "name": "pickup_day_of_week",
         "type": "\"integer\""
        },
        {
         "metadata": "{}",
         "name": "pickup_hour",
         "type": "\"integer\""
        },
        {
         "metadata": "{}",
         "name": "Month_Num",
         "type": "\"integer\""
        },
        {
         "metadata": "{}",
         "name": "pickup_month",
         "type": "\"integer\""
        },
        {
         "metadata": "{}",
         "name": "dropoff_hour",
         "type": "\"integer\""
        },
        {
         "metadata": "{}",
         "name": "dropoff_day_of_week",
         "type": "\"integer\""
        },
        {
         "metadata": "{}",
         "name": "dropoff_month",
         "type": "\"integer\""
        },
        {
         "metadata": "{}",
         "name": "dropoff_week_of_year",
         "type": "\"integer\""
        }
       ],
       "type": "table"
      }
     },
     "output_type": "display_data"
    }
   ],
   "source": [
    "display(data_processing_df.limit(5))"
   ]
  },
  {
   "cell_type": "code",
   "execution_count": 0,
   "metadata": {
    "application/vnd.databricks.v1+cell": {
     "cellMetadata": {
      "byteLimit": 2048000,
      "rowLimit": 10000
     },
     "inputWidgets": {},
     "nuid": "1248c4fe-afe5-4203-9cc1-51f8b9753354",
     "showTitle": false,
     "tableResultSettingsMap": {},
     "title": ""
    }
   },
   "outputs": [],
   "source": [
    "# Remove duplicate rows across all columns\n",
    "data_processing_df = data_processing_df.dropDuplicates()"
   ]
  },
  {
   "cell_type": "code",
   "execution_count": 0,
   "metadata": {
    "application/vnd.databricks.v1+cell": {
     "cellMetadata": {
      "byteLimit": 2048000,
      "rowLimit": 10000
     },
     "inputWidgets": {},
     "nuid": "767d6263-446e-4d92-bc30-35d0fe0e481f",
     "showTitle": false,
     "tableResultSettingsMap": {},
     "title": ""
    }
   },
   "outputs": [
    {
     "output_type": "stream",
     "name": "stdout",
     "output_type": "stream",
     "text": [
      "Value counts for passenger_count:\n"
     ]
    },
    {
     "output_type": "display_data",
     "data": {
      "text/html": [
       "<style scoped>\n",
       "  .table-result-container {\n",
       "    max-height: 300px;\n",
       "    overflow: auto;\n",
       "  }\n",
       "  table, th, td {\n",
       "    border: 1px solid black;\n",
       "    border-collapse: collapse;\n",
       "  }\n",
       "  th, td {\n",
       "    padding: 5px;\n",
       "  }\n",
       "  th {\n",
       "    text-align: left;\n",
       "  }\n",
       "</style><div class='table-result-container'><table class='table-result'><thead style='background-color: white'><tr><th>passenger_count</th><th>count</th></tr></thead><tbody><tr><td>1</td><td>27823457</td></tr><tr><td>2</td><td>5609105</td></tr><tr><td>3</td><td>1394693</td></tr><tr><td>null</td><td>1309356</td></tr><tr><td>4</td><td>789997</td></tr><tr><td>0</td><td>583005</td></tr><tr><td>5</td><td>483233</td></tr><tr><td>6</td><td>316969</td></tr><tr><td>8</td><td>261</td></tr><tr><td>7</td><td>93</td></tr><tr><td>9</td><td>55</td></tr></tbody></table></div>"
      ]
     },
     "metadata": {
      "application/vnd.databricks.v1+output": {
       "addedWidgets": {},
       "aggData": [],
       "aggError": "",
       "aggOverflow": false,
       "aggSchema": [],
       "aggSeriesLimitReached": false,
       "aggType": "",
       "arguments": {},
       "columnCustomDisplayInfos": {},
       "data": [
        [
         1,
         27823457
        ],
        [
         2,
         5609105
        ],
        [
         3,
         1394693
        ],
        [
         null,
         1309356
        ],
        [
         4,
         789997
        ],
        [
         0,
         583005
        ],
        [
         5,
         483233
        ],
        [
         6,
         316969
        ],
        [
         8,
         261
        ],
        [
         7,
         93
        ],
        [
         9,
         55
        ]
       ],
       "datasetInfos": [],
       "dbfsResultPath": null,
       "isJsonSchema": true,
       "metadata": {},
       "overflow": false,
       "plotOptions": {
        "customPlotOptions": {},
        "displayType": "table",
        "pivotAggregation": null,
        "pivotColumns": null,
        "xColumns": null,
        "yColumns": null
       },
       "removedWidgets": [],
       "schema": [
        {
         "metadata": "{}",
         "name": "passenger_count",
         "type": "\"integer\""
        },
        {
         "metadata": "{}",
         "name": "count",
         "type": "\"long\""
        }
       ],
       "type": "table"
      }
     },
     "output_type": "display_data"
    }
   ],
   "source": [
    "# Example usage for a specific column\n",
    "display_value_counts(data_processing_df, 'passenger_count')"
   ]
  },
  {
   "cell_type": "code",
   "execution_count": 0,
   "metadata": {
    "application/vnd.databricks.v1+cell": {
     "cellMetadata": {
      "byteLimit": 2048000,
      "rowLimit": 10000
     },
     "inputWidgets": {},
     "nuid": "9bcf050c-0960-4edd-82b6-66bf1760ca43",
     "showTitle": false,
     "tableResultSettingsMap": {},
     "title": ""
    }
   },
   "outputs": [],
   "source": [
    "# Filter rows with null values in passenger_count\n",
    "null_passenger_count_df = data_processing_df.filter(data_processing_df.passenger_count.isNull())\n",
    "\n",
    "# Show the rows with null passenger_count\n",
    "display(null_passenger_count_df)"
   ]
  },
  {
   "cell_type": "code",
   "execution_count": 0,
   "metadata": {
    "application/vnd.databricks.v1+cell": {
     "cellMetadata": {
      "byteLimit": 2048000,
      "rowLimit": 10000
     },
     "inputWidgets": {},
     "nuid": "5e33c5eb-3114-437c-9767-c8b7dd9b8427",
     "showTitle": false,
     "tableResultSettingsMap": {},
     "title": ""
    }
   },
   "outputs": [
    {
     "output_type": "stream",
     "name": "stdout",
     "output_type": "stream",
     "text": [
      "Total rows: 38310224\nNull count in passenger_count: 1309356\nPercentage of null values in passenger_count: 3.42%\n"
     ]
    }
   ],
   "source": [
    "from pyspark.sql import functions as F\n",
    "\n",
    "# Step 1: Count total rows in the DataFrame\n",
    "total_rows = data_processing_df.count()\n",
    "\n",
    "# Step 2: Count rows with null values in passenger_count\n",
    "null_count = data_processing_df.filter(data_processing_df.passenger_count.isNull()).count()\n",
    "\n",
    "# Step 3: Calculate the percentage of null values\n",
    "null_percentage = (null_count / total_rows) * 100\n",
    "\n",
    "print(f\"Total rows: {total_rows}\")\n",
    "print(f\"Null count in passenger_count: {null_count}\")\n",
    "print(f\"Percentage of null values in passenger_count: {null_percentage:.2f}%\")"
   ]
  },
  {
   "cell_type": "code",
   "execution_count": 0,
   "metadata": {
    "application/vnd.databricks.v1+cell": {
     "cellMetadata": {
      "byteLimit": 2048000,
      "rowLimit": 10000
     },
     "inputWidgets": {},
     "nuid": "e3ba4df2-5edd-4e15-abee-75b09968e678",
     "showTitle": false,
     "tableResultSettingsMap": {},
     "title": ""
    }
   },
   "outputs": [],
   "source": [
    "# Drop rows with any missing values\n",
    "data_processing_df = data_processing_df.dropna()"
   ]
  },
  {
   "cell_type": "code",
   "execution_count": 0,
   "metadata": {
    "application/vnd.databricks.v1+cell": {
     "cellMetadata": {
      "byteLimit": 2048000,
      "rowLimit": 10000
     },
     "inputWidgets": {},
     "nuid": "9925459f-6dba-4eb9-a7ac-3d3244bfe3a7",
     "showTitle": false,
     "tableResultSettingsMap": {},
     "title": ""
    }
   },
   "outputs": [
    {
     "output_type": "stream",
     "name": "stdout",
     "output_type": "stream",
     "text": [
      "Shape: (37000868, 20)\n"
     ]
    }
   ],
   "source": [
    "# Get the number of rows and columns\n",
    "num_rows = data_processing_df.count()\n",
    "num_cols = len(data_processing_df.columns)\n",
    "print(f\"Shape: ({num_rows}, {num_cols})\")"
   ]
  },
  {
   "cell_type": "code",
   "execution_count": 0,
   "metadata": {
    "application/vnd.databricks.v1+cell": {
     "cellMetadata": {
      "byteLimit": 2048000,
      "rowLimit": 10000
     },
     "inputWidgets": {},
     "nuid": "153b48cb-dc9f-4665-95df-458283eb1562",
     "showTitle": false,
     "tableResultSettingsMap": {},
     "title": ""
    }
   },
   "outputs": [],
   "source": [
    "from pyspark.sql.functions import date_format, col\n",
    "\n",
    "# Extract date from the pickup datetime\n",
    "data_processing_df = data_processing_df.withColumn(\"pickup_date\", date_format(\"tpep_pickup_datetime\", \"yyyy-MM-dd\"))"
   ]
  },
  {
   "cell_type": "code",
   "execution_count": 0,
   "metadata": {
    "application/vnd.databricks.v1+cell": {
     "cellMetadata": {
      "byteLimit": 2048000,
      "rowLimit": 10000
     },
     "inputWidgets": {},
     "nuid": "407e3c84-42ea-4e4d-b69d-9c3ad172f768",
     "showTitle": false,
     "tableResultSettingsMap": {},
     "title": ""
    }
   },
   "outputs": [],
   "source": [
    "# Extract time from the pickup datetime\n",
    "data_processing_df = data_processing_df.withColumn(\"pickup_time\", date_format(\"tpep_pickup_datetime\", \"HH:mm:ss\"))"
   ]
  },
  {
   "cell_type": "code",
   "execution_count": 0,
   "metadata": {
    "application/vnd.databricks.v1+cell": {
     "cellMetadata": {
      "byteLimit": 2048000,
      "rowLimit": 10000
     },
     "inputWidgets": {},
     "nuid": "28562ec2-d39a-4b78-9226-fc352d0a8224",
     "showTitle": false,
     "tableResultSettingsMap": {},
     "title": ""
    }
   },
   "outputs": [
    {
     "output_type": "stream",
     "name": "stdout",
     "output_type": "stream",
     "text": [
      "+--------------------+-----------+-----------+\n|tpep_pickup_datetime|pickup_date|pickup_time|\n+--------------------+-----------+-----------+\n|2023-10-01 00:25:12 |2023-10-01 |00:25:12   |\n|2023-10-01 00:58:16 |2023-10-01 |00:58:16   |\n|2023-10-01 00:33:16 |2023-10-01 |00:33:16   |\n|2023-10-01 00:40:43 |2023-10-01 |00:40:43   |\n|2023-10-01 00:42:44 |2023-10-01 |00:42:44   |\n|2023-10-01 00:09:13 |2023-10-01 |00:09:13   |\n|2023-10-01 00:05:42 |2023-10-01 |00:05:42   |\n|2023-10-01 00:14:55 |2023-10-01 |00:14:55   |\n|2023-10-01 00:32:53 |2023-10-01 |00:32:53   |\n|2023-10-01 00:34:11 |2023-10-01 |00:34:11   |\n|2023-10-01 00:29:56 |2023-10-01 |00:29:56   |\n|2023-10-01 00:06:17 |2023-10-01 |00:06:17   |\n|2023-10-01 00:58:12 |2023-10-01 |00:58:12   |\n|2023-10-01 00:51:37 |2023-10-01 |00:51:37   |\n|2023-10-01 00:31:27 |2023-10-01 |00:31:27   |\n|2023-10-01 00:54:04 |2023-10-01 |00:54:04   |\n|2023-10-01 00:42:25 |2023-10-01 |00:42:25   |\n|2023-10-01 00:28:44 |2023-10-01 |00:28:44   |\n|2023-10-01 00:48:33 |2023-10-01 |00:48:33   |\n|2023-10-01 00:07:26 |2023-10-01 |00:07:26   |\n+--------------------+-----------+-----------+\nonly showing top 20 rows\n\n"
     ]
    }
   ],
   "source": [
    "# updated DataFrame with new columns\n",
    "data_processing_df.select(\"tpep_pickup_datetime\", \"pickup_date\", \"pickup_time\").show(truncate=False)"
   ]
  },
  {
   "cell_type": "code",
   "execution_count": 0,
   "metadata": {
    "application/vnd.databricks.v1+cell": {
     "cellMetadata": {
      "byteLimit": 2048000,
      "rowLimit": 10000
     },
     "inputWidgets": {},
     "nuid": "e556c822-ee80-4e3a-8574-88c85f0a517f",
     "showTitle": false,
     "tableResultSettingsMap": {},
     "title": ""
    }
   },
   "outputs": [],
   "source": [
    "# Group by pickup_time and count occurrences\n",
    "peak_hours = data_processing_df.groupBy(\"pickup_time\").count().orderBy(\"count\", ascending=False)"
   ]
  },
  {
   "cell_type": "code",
   "execution_count": 0,
   "metadata": {
    "application/vnd.databricks.v1+cell": {
     "cellMetadata": {
      "byteLimit": 2048000,
      "rowLimit": 10000
     },
     "inputWidgets": {},
     "nuid": "834c73e5-c0a7-49c2-b4e3-59ccfb298757",
     "showTitle": false,
     "tableResultSettingsMap": {},
     "title": ""
    }
   },
   "outputs": [],
   "source": [
    "# Show peak hours\n",
    "display(peak_hours)"
   ]
  },
  {
   "cell_type": "code",
   "execution_count": 0,
   "metadata": {
    "application/vnd.databricks.v1+cell": {
     "cellMetadata": {
      "byteLimit": 2048000,
      "rowLimit": 10000
     },
     "inputWidgets": {},
     "nuid": "2eebecaf-2a56-4e82-839b-0d6e62d91e1b",
     "showTitle": false,
     "tableResultSettingsMap": {},
     "title": ""
    }
   },
   "outputs": [],
   "source": [
    "# Extract date from the dropoff datetime\n",
    "data_processing_df = data_processing_df.withColumn(\"dropoff_date\", date_format(\"tpep_dropoff_datetime\", \"yyyy-MM-dd\"))"
   ]
  },
  {
   "cell_type": "code",
   "execution_count": 0,
   "metadata": {
    "application/vnd.databricks.v1+cell": {
     "cellMetadata": {
      "byteLimit": 2048000,
      "rowLimit": 10000
     },
     "inputWidgets": {},
     "nuid": "c88a7c46-f857-4dac-92d3-3a6d48809b2c",
     "showTitle": false,
     "tableResultSettingsMap": {},
     "title": ""
    }
   },
   "outputs": [],
   "source": [
    "# Extract time from the dropoff datetime\n",
    "data_processing_df = data_processing_df.withColumn(\"dropoff_time\", date_format(\"tpep_dropoff_datetime\", \"HH:mm:ss\"))"
   ]
  },
  {
   "cell_type": "code",
   "execution_count": 0,
   "metadata": {
    "application/vnd.databricks.v1+cell": {
     "cellMetadata": {
      "byteLimit": 2048000,
      "rowLimit": 10000
     },
     "inputWidgets": {},
     "nuid": "412a9537-84d4-4c64-9b2a-7ba6c4c677aa",
     "showTitle": false,
     "tableResultSettingsMap": {},
     "title": ""
    }
   },
   "outputs": [
    {
     "output_type": "stream",
     "name": "stdout",
     "output_type": "stream",
     "text": [
      "+---------------------+------------+------------+\n|tpep_dropoff_datetime|dropoff_date|dropoff_time|\n+---------------------+------------+------------+\n|2023-10-01 00:42:53  |2023-10-01  |00:42:53    |\n|2023-10-01 01:05:30  |2023-10-01  |01:05:30    |\n|2023-10-01 00:44:20  |2023-10-01  |00:44:20    |\n|2023-10-01 00:46:51  |2023-10-01  |00:46:51    |\n|2023-10-01 00:47:50  |2023-10-01  |00:47:50    |\n|2023-10-01 00:24:59  |2023-10-01  |00:24:59    |\n|2023-10-01 00:22:36  |2023-10-01  |00:22:36    |\n|2023-10-01 00:42:25  |2023-10-01  |00:42:25    |\n|2023-10-01 00:44:14  |2023-10-01  |00:44:14    |\n|2023-10-01 00:41:01  |2023-10-01  |00:41:01    |\n|2023-10-01 00:39:44  |2023-10-01  |00:39:44    |\n|2023-10-01 00:14:12  |2023-10-01  |00:14:12    |\n|2023-10-01 01:00:59  |2023-10-01  |01:00:59    |\n|2023-10-01 00:58:13  |2023-10-01  |00:58:13    |\n|2023-10-01 00:41:01  |2023-10-01  |00:41:01    |\n|2023-10-01 01:07:34  |2023-10-01  |01:07:34    |\n|2023-10-01 00:45:16  |2023-10-01  |00:45:16    |\n|2023-10-01 00:33:12  |2023-10-01  |00:33:12    |\n|2023-10-01 00:57:41  |2023-10-01  |00:57:41    |\n|2023-10-01 00:30:27  |2023-10-01  |00:30:27    |\n+---------------------+------------+------------+\nonly showing top 20 rows\n\n"
     ]
    }
   ],
   "source": [
    "# updated DataFrame with new columns\n",
    "data_processing_df.select(\"tpep_dropoff_datetime\", \"dropoff_date\", \"dropoff_time\").show(truncate=False)"
   ]
  },
  {
   "cell_type": "code",
   "execution_count": 0,
   "metadata": {
    "application/vnd.databricks.v1+cell": {
     "cellMetadata": {
      "byteLimit": 2048000,
      "rowLimit": 10000
     },
     "inputWidgets": {},
     "nuid": "5dc3bebe-11fc-4eef-9028-021d4d8ccc32",
     "showTitle": false,
     "tableResultSettingsMap": {},
     "title": ""
    }
   },
   "outputs": [],
   "source": [
    "from pyspark.sql.functions import year\n",
    "\n",
    "data_processing_df = data_processing_df.filter(year(\"pickup_date\") == 2023)\n",
    "\n",
    "data_processing_df = data_processing_df.filter(year(\"dropoff_date\") == 2023)\n",
    "\n",
    "data_processing_df.show()"
   ]
  },
  {
   "cell_type": "code",
   "execution_count": 0,
   "metadata": {
    "application/vnd.databricks.v1+cell": {
     "cellMetadata": {
      "byteLimit": 2048000,
      "rowLimit": 10000
     },
     "inputWidgets": {},
     "nuid": "f7dee8e7-2fdb-40ff-8afd-243f4ce6932a",
     "showTitle": false,
     "tableResultSettingsMap": {},
     "title": ""
    }
   },
   "outputs": [],
   "source": [
    "# Peak Pickup Analysis\n",
    "peak_pickup_hours = data_processing_df.groupBy(\"pickup_time\").count().orderBy(\"count\", ascending=False)\n",
    "display(peak_pickup_hours)"
   ]
  },
  {
   "cell_type": "code",
   "execution_count": 0,
   "metadata": {
    "application/vnd.databricks.v1+cell": {
     "cellMetadata": {
      "byteLimit": 2048000,
      "rowLimit": 10000
     },
     "inputWidgets": {},
     "nuid": "3c1d6417-cbd1-4a5c-85a3-5a412e2b7deb",
     "showTitle": false,
     "tableResultSettingsMap": {},
     "title": ""
    }
   },
   "outputs": [],
   "source": [
    "# Peak Drop-off Analysis\n",
    "peak_dropoff_hours = data_processing_df.groupBy(\"dropoff_time\").count().orderBy(\"count\", ascending=False)\n",
    "display(peak_dropoff_hours)"
   ]
  },
  {
   "cell_type": "code",
   "execution_count": 0,
   "metadata": {
    "application/vnd.databricks.v1+cell": {
     "cellMetadata": {
      "byteLimit": 2048000,
      "rowLimit": 10000
     },
     "inputWidgets": {},
     "nuid": "009ab926-661a-4c75-b8c9-784295064006",
     "showTitle": false,
     "tableResultSettingsMap": {},
     "title": ""
    }
   },
   "outputs": [
    {
     "output_type": "display_data",
     "data": {
      "text/html": [
       "<style scoped>\n",
       "  .table-result-container {\n",
       "    max-height: 300px;\n",
       "    overflow: auto;\n",
       "  }\n",
       "  table, th, td {\n",
       "    border: 1px solid black;\n",
       "    border-collapse: collapse;\n",
       "  }\n",
       "  th, td {\n",
       "    padding: 5px;\n",
       "  }\n",
       "  th {\n",
       "    text-align: left;\n",
       "  }\n",
       "</style><div class='table-result-container'><table class='table-result'><thead style='background-color: white'><tr><th>pickup_date</th><th>count</th></tr></thead><tbody><tr><td>2023-01-01</td><td>73286</td></tr><tr><td>2023-01-02</td><td>64544</td></tr><tr><td>2023-01-03</td><td>83755</td></tr><tr><td>2023-01-04</td><td>92977</td></tr><tr><td>2023-01-05</td><td>98829</td></tr><tr><td>2023-01-06</td><td>100271</td></tr><tr><td>2023-01-07</td><td>102898</td></tr><tr><td>2023-01-08</td><td>83341</td></tr><tr><td>2023-01-09</td><td>83358</td></tr><tr><td>2023-01-10</td><td>97824</td></tr><tr><td>2023-01-11</td><td>103960</td></tr><tr><td>2023-01-12</td><td>108245</td></tr><tr><td>2023-01-13</td><td>108208</td></tr><tr><td>2023-01-14</td><td>110617</td></tr><tr><td>2023-01-15</td><td>94617</td></tr><tr><td>2023-01-16</td><td>78491</td></tr><tr><td>2023-01-17</td><td>98757</td></tr><tr><td>2023-01-18</td><td>103859</td></tr><tr><td>2023-01-19</td><td>111121</td></tr><tr><td>2023-01-20</td><td>107002</td></tr><tr><td>2023-01-21</td><td>109494</td></tr><tr><td>2023-01-22</td><td>87526</td></tr><tr><td>2023-01-23</td><td>87671</td></tr><tr><td>2023-01-24</td><td>101729</td></tr><tr><td>2023-01-25</td><td>106049</td></tr><tr><td>2023-01-26</td><td>112164</td></tr><tr><td>2023-01-27</td><td>109178</td></tr><tr><td>2023-01-28</td><td>109119</td></tr><tr><td>2023-01-29</td><td>86095</td></tr><tr><td>2023-01-30</td><td>81979</td></tr><tr><td>2023-01-31</td><td>98019</td></tr><tr><td>2023-02-01</td><td>104947</td></tr><tr><td>2023-02-02</td><td>110033</td></tr><tr><td>2023-02-03</td><td>110709</td></tr><tr><td>2023-02-04</td><td>94498</td></tr><tr><td>2023-02-05</td><td>81756</td></tr><tr><td>2023-02-06</td><td>88832</td></tr><tr><td>2023-02-07</td><td>103506</td></tr><tr><td>2023-02-08</td><td>105777</td></tr><tr><td>2023-02-09</td><td>112291</td></tr><tr><td>2023-02-10</td><td>111717</td></tr><tr><td>2023-02-11</td><td>111591</td></tr><tr><td>2023-02-12</td><td>91855</td></tr><tr><td>2023-02-13</td><td>90759</td></tr><tr><td>2023-02-14</td><td>105559</td></tr><tr><td>2023-02-15</td><td>107824</td></tr><tr><td>2023-02-16</td><td>110013</td></tr><tr><td>2023-02-17</td><td>108538</td></tr><tr><td>2023-02-18</td><td>102691</td></tr><tr><td>2023-02-19</td><td>87869</td></tr><tr><td>2023-02-20</td><td>77820</td></tr><tr><td>2023-02-21</td><td>97511</td></tr><tr><td>2023-02-22</td><td>108163</td></tr><tr><td>2023-02-23</td><td>112498</td></tr><tr><td>2023-02-24</td><td>112471</td></tr><tr><td>2023-02-25</td><td>110284</td></tr><tr><td>2023-02-26</td><td>88802</td></tr><tr><td>2023-02-27</td><td>90510</td></tr><tr><td>2023-02-28</td><td>98362</td></tr><tr><td>2023-03-01</td><td>112323</td></tr><tr><td>2023-03-02</td><td>115880</td></tr><tr><td>2023-03-03</td><td>113115</td></tr><tr><td>2023-03-04</td><td>109795</td></tr><tr><td>2023-03-05</td><td>94594</td></tr><tr><td>2023-03-06</td><td>91403</td></tr><tr><td>2023-03-07</td><td>111008</td></tr><tr><td>2023-03-08</td><td>115982</td></tr><tr><td>2023-03-09</td><td>118948</td></tr><tr><td>2023-03-10</td><td>117965</td></tr><tr><td>2023-03-11</td><td>108395</td></tr><tr><td>2023-03-12</td><td>92640</td></tr><tr><td>2023-03-13</td><td>97589</td></tr><tr><td>2023-03-14</td><td>104543</td></tr><tr><td>2023-03-15</td><td>116844</td></tr><tr><td>2023-03-16</td><td>120757</td></tr><tr><td>2023-03-17</td><td>109709</td></tr><tr><td>2023-03-18</td><td>118486</td></tr><tr><td>2023-03-19</td><td>97908</td></tr><tr><td>2023-03-20</td><td>89220</td></tr><tr><td>2023-03-21</td><td>99429</td></tr><tr><td>2023-03-22</td><td>103528</td></tr><tr><td>2023-03-23</td><td>111133</td></tr><tr><td>2023-03-24</td><td>108136</td></tr><tr><td>2023-03-25</td><td>112004</td></tr><tr><td>2023-03-26</td><td>91725</td></tr><tr><td>2023-03-27</td><td>93809</td></tr><tr><td>2023-03-28</td><td>101912</td></tr><tr><td>2023-03-29</td><td>108680</td></tr><tr><td>2023-03-30</td><td>116246</td></tr><tr><td>2023-03-31</td><td>112335</td></tr><tr><td>2023-04-01</td><td>113396</td></tr><tr><td>2023-04-02</td><td>97287</td></tr><tr><td>2023-04-03</td><td>94551</td></tr><tr><td>2023-04-04</td><td>105992</td></tr><tr><td>2023-04-05</td><td>112612</td></tr><tr><td>2023-04-06</td><td>105709</td></tr><tr><td>2023-04-07</td><td>103573</td></tr><tr><td>2023-04-08</td><td>98910</td></tr><tr><td>2023-04-09</td><td>86137</td></tr><tr><td>2023-04-10</td><td>87750</td></tr><tr><td>2023-04-11</td><td>102637</td></tr><tr><td>2023-04-12</td><td>110783</td></tr><tr><td>2023-04-13</td><td>118927</td></tr><tr><td>2023-04-14</td><td>120562</td></tr><tr><td>2023-04-15</td><td>115211</td></tr><tr><td>2023-04-16</td><td>95493</td></tr><tr><td>2023-04-17</td><td>95300</td></tr><tr><td>2023-04-18</td><td>112136</td></tr><tr><td>2023-04-19</td><td>114581</td></tr><tr><td>2023-04-20</td><td>121971</td></tr><tr><td>2023-04-21</td><td>112944</td></tr><tr><td>2023-04-22</td><td>114021</td></tr><tr><td>2023-04-23</td><td>94907</td></tr><tr><td>2023-04-24</td><td>97513</td></tr><tr><td>2023-04-25</td><td>110126</td></tr><tr><td>2023-04-26</td><td>117264</td></tr><tr><td>2023-04-27</td><td>121114</td></tr><tr><td>2023-04-28</td><td>119806</td></tr><tr><td>2023-04-29</td><td>106014</td></tr><tr><td>2023-04-30</td><td>90331</td></tr><tr><td>2023-05-01</td><td>97311</td></tr><tr><td>2023-05-02</td><td>112282</td></tr><tr><td>2023-05-03</td><td>116653</td></tr><tr><td>2023-05-04</td><td>123301</td></tr><tr><td>2023-05-05</td><td>118307</td></tr><tr><td>2023-05-06</td><td>117916</td></tr><tr><td>2023-05-07</td><td>98089</td></tr><tr><td>2023-05-08</td><td>96428</td></tr><tr><td>2023-05-09</td><td>113052</td></tr><tr><td>2023-05-10</td><td>117763</td></tr><tr><td>2023-05-11</td><td>126429</td></tr><tr><td>2023-05-12</td><td>122066</td></tr><tr><td>2023-05-13</td><td>118253</td></tr><tr><td>2023-05-14</td><td>106180</td></tr><tr><td>2023-05-15</td><td>106112</td></tr><tr><td>2023-05-16</td><td>121375</td></tr><tr><td>2023-05-17</td><td>128546</td></tr><tr><td>2023-05-18</td><td>130579</td></tr><tr><td>2023-05-19</td><td>124117</td></tr><tr><td>2023-05-20</td><td>113981</td></tr><tr><td>2023-05-21</td><td>99226</td></tr><tr><td>2023-05-22</td><td>101140</td></tr><tr><td>2023-05-23</td><td>113539</td></tr><tr><td>2023-05-24</td><td>121897</td></tr><tr><td>2023-05-25</td><td>113928</td></tr><tr><td>2023-05-26</td><td>99466</td></tr><tr><td>2023-05-27</td><td>91219</td></tr><tr><td>2023-05-28</td><td>80688</td></tr><tr><td>2023-05-29</td><td>72752</td></tr><tr><td>2023-05-30</td><td>97640</td></tr><tr><td>2023-05-31</td><td>111633</td></tr><tr><td>2023-06-01</td><td>119732</td></tr><tr><td>2023-06-02</td><td>115152</td></tr><tr><td>2023-06-03</td><td>114525</td></tr><tr><td>2023-06-04</td><td>97042</td></tr><tr><td>2023-06-05</td><td>100603</td></tr><tr><td>2023-06-06</td><td>118108</td></tr><tr><td>2023-06-07</td><td>120104</td></tr><tr><td>2023-06-08</td><td>116591</td></tr><tr><td>2023-06-09</td><td>111949</td></tr><tr><td>2023-06-10</td><td>109098</td></tr><tr><td>2023-06-11</td><td>93752</td></tr><tr><td>2023-06-12</td><td>103910</td></tr><tr><td>2023-06-13</td><td>114880</td></tr><tr><td>2023-06-14</td><td>119163</td></tr><tr><td>2023-06-15</td><td>124131</td></tr><tr><td>2023-06-16</td><td>107450</td></tr><tr><td>2023-06-17</td><td>102881</td></tr><tr><td>2023-06-18</td><td>89135</td></tr><tr><td>2023-06-19</td><td>84020</td></tr><tr><td>2023-06-20</td><td>105567</td></tr><tr><td>2023-06-21</td><td>113361</td></tr><tr><td>2023-06-22</td><td>118262</td></tr><tr><td>2023-06-23</td><td>111242</td></tr><tr><td>2023-06-24</td><td>105952</td></tr><tr><td>2023-06-25</td><td>91389</td></tr><tr><td>2023-06-26</td><td>97200</td></tr><tr><td>2023-06-27</td><td>106364</td></tr><tr><td>2023-06-28</td><td>102262</td></tr><tr><td>2023-06-29</td><td>101591</td></tr><tr><td>2023-06-30</td><td>91956</td></tr><tr><td>2023-07-01</td><td>79219</td></tr><tr><td>2023-07-02</td><td>66704</td></tr><tr><td>2023-07-03</td><td>62957</td></tr><tr><td>2023-07-04</td><td>55751</td></tr><tr><td>2023-07-05</td><td>82915</td></tr><tr><td>2023-07-06</td><td>91000</td></tr><tr><td>2023-07-07</td><td>88634</td></tr><tr><td>2023-07-08</td><td>88970</td></tr><tr><td>2023-07-09</td><td>77715</td></tr><tr><td>2023-07-10</td><td>86860</td></tr><tr><td>2023-07-11</td><td>101163</td></tr><tr><td>2023-07-12</td><td>107612</td></tr><tr><td>2023-07-13</td><td>109847</td></tr><tr><td>2023-07-14</td><td>95940</td></tr><tr><td>2023-07-15</td><td>97545</td></tr><tr><td>2023-07-16</td><td>77691</td></tr><tr><td>2023-07-17</td><td>91226</td></tr><tr><td>2023-07-18</td><td>103456</td></tr><tr><td>2023-07-19</td><td>108074</td></tr><tr><td>2023-07-20</td><td>108613</td></tr><tr><td>2023-07-21</td><td>97398</td></tr><tr><td>2023-07-22</td><td>96347</td></tr><tr><td>2023-07-23</td><td>83864</td></tr><tr><td>2023-07-24</td><td>87588</td></tr><tr><td>2023-07-25</td><td>99797</td></tr><tr><td>2023-07-26</td><td>105812</td></tr><tr><td>2023-07-27</td><td>109046</td></tr><tr><td>2023-07-28</td><td>99266</td></tr><tr><td>2023-07-29</td><td>93518</td></tr><tr><td>2023-07-30</td><td>84103</td></tr><tr><td>2023-07-31</td><td>83376</td></tr><tr><td>2023-08-01</td><td>95660</td></tr><tr><td>2023-08-02</td><td>98715</td></tr><tr><td>2023-08-03</td><td>100192</td></tr><tr><td>2023-08-04</td><td>89272</td></tr><tr><td>2023-08-05</td><td>89726</td></tr><tr><td>2023-08-06</td><td>78151</td></tr><tr><td>2023-08-07</td><td>80484</td></tr><tr><td>2023-08-08</td><td>93205</td></tr><tr><td>2023-08-09</td><td>97610</td></tr><tr><td>2023-08-10</td><td>101271</td></tr><tr><td>2023-08-11</td><td>89667</td></tr><tr><td>2023-08-12</td><td>87146</td></tr><tr><td>2023-08-13</td><td>77061</td></tr><tr><td>2023-08-14</td><td>81376</td></tr><tr><td>2023-08-15</td><td>90854</td></tr><tr><td>2023-08-16</td><td>96950</td></tr><tr><td>2023-08-17</td><td>97296</td></tr><tr><td>2023-08-18</td><td>87110</td></tr><tr><td>2023-08-19</td><td>86711</td></tr><tr><td>2023-08-20</td><td>75288</td></tr><tr><td>2023-08-21</td><td>77676</td></tr><tr><td>2023-08-22</td><td>84554</td></tr><tr><td>2023-08-23</td><td>89831</td></tr><tr><td>2023-08-24</td><td>92572</td></tr><tr><td>2023-08-25</td><td>86367</td></tr><tr><td>2023-08-26</td><td>87758</td></tr><tr><td>2023-08-27</td><td>78205</td></tr><tr><td>2023-08-28</td><td>76220</td></tr><tr><td>2023-08-29</td><td>91314</td></tr><tr><td>2023-08-30</td><td>89517</td></tr><tr><td>2023-08-31</td><td>88556</td></tr><tr><td>2023-09-01</td><td>84290</td></tr><tr><td>2023-09-02</td><td>79976</td></tr><tr><td>2023-09-03</td><td>75978</td></tr><tr><td>2023-09-04</td><td>69628</td></tr><tr><td>2023-09-05</td><td>99637</td></tr><tr><td>2023-09-06</td><td>114028</td></tr><tr><td>2023-09-07</td><td>124672</td></tr><tr><td>2023-09-08</td><td>118872</td></tr><tr><td>2023-09-09</td><td>112074</td></tr><tr><td>2023-09-10</td><td>98819</td></tr><tr><td>2023-09-11</td><td>102602</td></tr><tr><td>2023-09-12</td><td>114358</td></tr><tr><td>2023-09-13</td><td>114452</td></tr><tr><td>2023-09-14</td><td>120918</td></tr><tr><td>2023-09-15</td><td>111937</td></tr><tr><td>2023-09-16</td><td>106004</td></tr><tr><td>2023-09-17</td><td>89455</td></tr><tr><td>2023-09-18</td><td>91317</td></tr><tr><td>2023-09-19</td><td>100220</td></tr><tr><td>2023-09-20</td><td>104203</td></tr><tr><td>2023-09-21</td><td>37282</td></tr><tr><td>2023-09-22</td><td>20</td></tr><tr><td>2023-09-23</td><td>18</td></tr><tr><td>2023-09-24</td><td>125</td></tr><tr><td>2023-09-25</td><td>87644</td></tr><tr><td>2023-09-26</td><td>107736</td></tr><tr><td>2023-09-27</td><td>114350</td></tr><tr><td>2023-09-28</td><td>121503</td></tr><tr><td>2023-09-29</td><td>95916</td></tr><tr><td>2023-09-30</td><td>108482</td></tr><tr><td>2023-10-01</td><td>97133</td></tr><tr><td>2023-10-02</td><td>96691</td></tr><tr><td>2023-10-03</td><td>108787</td></tr><tr><td>2023-10-04</td><td>114568</td></tr><tr><td>2023-10-05</td><td>118435</td></tr><tr><td>2023-10-06</td><td>110776</td></tr><tr><td>2023-10-07</td><td>107414</td></tr><tr><td>2023-10-08</td><td>93338</td></tr><tr><td>2023-10-09</td><td>82347</td></tr><tr><td>2023-10-10</td><td>106419</td></tr><tr><td>2023-10-11</td><td>114142</td></tr><tr><td>2023-10-12</td><td>121962</td></tr><tr><td>2023-10-13</td><td>112062</td></tr><tr><td>2023-10-14</td><td>113697</td></tr><tr><td>2023-10-15</td><td>97925</td></tr><tr><td>2023-10-16</td><td>98256</td></tr><tr><td>2023-10-17</td><td>111477</td></tr><tr><td>2023-10-18</td><td>115909</td></tr><tr><td>2023-10-19</td><td>122784</td></tr><tr><td>2023-10-20</td><td>118113</td></tr><tr><td>2023-10-21</td><td>117078</td></tr><tr><td>2023-10-22</td><td>104436</td></tr><tr><td>2023-10-23</td><td>96968</td></tr><tr><td>2023-10-24</td><td>109680</td></tr><tr><td>2023-10-25</td><td>115994</td></tr><tr><td>2023-10-26</td><td>125014</td></tr><tr><td>2023-10-27</td><td>121143</td></tr><tr><td>2023-10-28</td><td>121701</td></tr><tr><td>2023-10-29</td><td>100619</td></tr><tr><td>2023-10-30</td><td>93838</td></tr><tr><td>2023-10-31</td><td>98633</td></tr><tr><td>2023-11-01</td><td>120857</td></tr><tr><td>2023-11-02</td><td>123376</td></tr><tr><td>2023-11-03</td><td>118272</td></tr><tr><td>2023-11-04</td><td>118321</td></tr><tr><td>2023-11-05</td><td>101466</td></tr><tr><td>2023-11-06</td><td>99185</td></tr><tr><td>2023-11-07</td><td>109263</td></tr><tr><td>2023-11-08</td><td>119947</td></tr><tr><td>2023-11-09</td><td>124532</td></tr><tr><td>2023-11-10</td><td>121266</td></tr><tr><td>2023-11-11</td><td>118458</td></tr><tr><td>2023-11-12</td><td>102610</td></tr><tr><td>2023-11-13</td><td>99770</td></tr><tr><td>2023-11-14</td><td>113898</td></tr><tr><td>2023-11-15</td><td>120031</td></tr><tr><td>2023-11-16</td><td>126437</td></tr><tr><td>2023-11-17</td><td>117346</td></tr><tr><td>2023-11-18</td><td>122062</td></tr><tr><td>2023-11-19</td><td>96313</td></tr><tr><td>2023-11-20</td><td>96067</td></tr><tr><td>2023-11-21</td><td>104761</td></tr><tr><td>2023-11-22</td><td>88085</td></tr><tr><td>2023-11-23</td><td>60006</td></tr><tr><td>2023-11-24</td><td>75905</td></tr><tr><td>2023-11-25</td><td>86260</td></tr><tr><td>2023-11-26</td><td>82132</td></tr><tr><td>2023-11-27</td><td>94215</td></tr><tr><td>2023-11-28</td><td>115905</td></tr><tr><td>2023-11-29</td><td>110447</td></tr><tr><td>2023-11-30</td><td>119861</td></tr><tr><td>2023-12-01</td><td>124046</td></tr><tr><td>2023-12-02</td><td>119962</td></tr><tr><td>2023-12-03</td><td>103590</td></tr><tr><td>2023-12-04</td><td>100232</td></tr><tr><td>2023-12-05</td><td>118391</td></tr><tr><td>2023-12-06</td><td>126762</td></tr><tr><td>2023-12-07</td><td>129352</td></tr><tr><td>2023-12-08</td><td>124348</td></tr><tr><td>2023-12-09</td><td>127096</td></tr><tr><td>2023-12-10</td><td>101464</td></tr><tr><td>2023-12-11</td><td>104345</td></tr><tr><td>2023-12-12</td><td>119097</td></tr><tr><td>2023-12-13</td><td>127816</td></tr><tr><td>2023-12-14</td><td>133701</td></tr><tr><td>2023-12-15</td><td>130705</td></tr><tr><td>2023-12-16</td><td>123613</td></tr><tr><td>2023-12-17</td><td>99900</td></tr><tr><td>2023-12-18</td><td>94795</td></tr><tr><td>2023-12-19</td><td>114280</td></tr><tr><td>2023-12-20</td><td>111486</td></tr><tr><td>2023-12-21</td><td>110872</td></tr><tr><td>2023-12-22</td><td>101949</td></tr><tr><td>2023-12-23</td><td>80173</td></tr><tr><td>2023-12-24</td><td>62555</td></tr><tr><td>2023-12-25</td><td>42587</td></tr><tr><td>2023-12-26</td><td>66755</td></tr><tr><td>2023-12-27</td><td>79193</td></tr><tr><td>2023-12-28</td><td>82422</td></tr><tr><td>2023-12-29</td><td>83919</td></tr><tr><td>2023-12-30</td><td>80500</td></tr><tr><td>2023-12-31</td><td>70130</td></tr></tbody></table></div>"
      ]
     },
     "metadata": {
      "application/vnd.databricks.v1+output": {
       "addedWidgets": {},
       "aggData": [],
       "aggError": "",
       "aggOverflow": false,
       "aggSchema": [],
       "aggSeriesLimitReached": false,
       "aggType": "",
       "arguments": {},
       "columnCustomDisplayInfos": {},
       "data": [
        [
         "2023-01-01",
         73286
        ],
        [
         "2023-01-02",
         64544
        ],
        [
         "2023-01-03",
         83755
        ],
        [
         "2023-01-04",
         92977
        ],
        [
         "2023-01-05",
         98829
        ],
        [
         "2023-01-06",
         100271
        ],
        [
         "2023-01-07",
         102898
        ],
        [
         "2023-01-08",
         83341
        ],
        [
         "2023-01-09",
         83358
        ],
        [
         "2023-01-10",
         97824
        ],
        [
         "2023-01-11",
         103960
        ],
        [
         "2023-01-12",
         108245
        ],
        [
         "2023-01-13",
         108208
        ],
        [
         "2023-01-14",
         110617
        ],
        [
         "2023-01-15",
         94617
        ],
        [
         "2023-01-16",
         78491
        ],
        [
         "2023-01-17",
         98757
        ],
        [
         "2023-01-18",
         103859
        ],
        [
         "2023-01-19",
         111121
        ],
        [
         "2023-01-20",
         107002
        ],
        [
         "2023-01-21",
         109494
        ],
        [
         "2023-01-22",
         87526
        ],
        [
         "2023-01-23",
         87671
        ],
        [
         "2023-01-24",
         101729
        ],
        [
         "2023-01-25",
         106049
        ],
        [
         "2023-01-26",
         112164
        ],
        [
         "2023-01-27",
         109178
        ],
        [
         "2023-01-28",
         109119
        ],
        [
         "2023-01-29",
         86095
        ],
        [
         "2023-01-30",
         81979
        ],
        [
         "2023-01-31",
         98019
        ],
        [
         "2023-02-01",
         104947
        ],
        [
         "2023-02-02",
         110033
        ],
        [
         "2023-02-03",
         110709
        ],
        [
         "2023-02-04",
         94498
        ],
        [
         "2023-02-05",
         81756
        ],
        [
         "2023-02-06",
         88832
        ],
        [
         "2023-02-07",
         103506
        ],
        [
         "2023-02-08",
         105777
        ],
        [
         "2023-02-09",
         112291
        ],
        [
         "2023-02-10",
         111717
        ],
        [
         "2023-02-11",
         111591
        ],
        [
         "2023-02-12",
         91855
        ],
        [
         "2023-02-13",
         90759
        ],
        [
         "2023-02-14",
         105559
        ],
        [
         "2023-02-15",
         107824
        ],
        [
         "2023-02-16",
         110013
        ],
        [
         "2023-02-17",
         108538
        ],
        [
         "2023-02-18",
         102691
        ],
        [
         "2023-02-19",
         87869
        ],
        [
         "2023-02-20",
         77820
        ],
        [
         "2023-02-21",
         97511
        ],
        [
         "2023-02-22",
         108163
        ],
        [
         "2023-02-23",
         112498
        ],
        [
         "2023-02-24",
         112471
        ],
        [
         "2023-02-25",
         110284
        ],
        [
         "2023-02-26",
         88802
        ],
        [
         "2023-02-27",
         90510
        ],
        [
         "2023-02-28",
         98362
        ],
        [
         "2023-03-01",
         112323
        ],
        [
         "2023-03-02",
         115880
        ],
        [
         "2023-03-03",
         113115
        ],
        [
         "2023-03-04",
         109795
        ],
        [
         "2023-03-05",
         94594
        ],
        [
         "2023-03-06",
         91403
        ],
        [
         "2023-03-07",
         111008
        ],
        [
         "2023-03-08",
         115982
        ],
        [
         "2023-03-09",
         118948
        ],
        [
         "2023-03-10",
         117965
        ],
        [
         "2023-03-11",
         108395
        ],
        [
         "2023-03-12",
         92640
        ],
        [
         "2023-03-13",
         97589
        ],
        [
         "2023-03-14",
         104543
        ],
        [
         "2023-03-15",
         116844
        ],
        [
         "2023-03-16",
         120757
        ],
        [
         "2023-03-17",
         109709
        ],
        [
         "2023-03-18",
         118486
        ],
        [
         "2023-03-19",
         97908
        ],
        [
         "2023-03-20",
         89220
        ],
        [
         "2023-03-21",
         99429
        ],
        [
         "2023-03-22",
         103528
        ],
        [
         "2023-03-23",
         111133
        ],
        [
         "2023-03-24",
         108136
        ],
        [
         "2023-03-25",
         112004
        ],
        [
         "2023-03-26",
         91725
        ],
        [
         "2023-03-27",
         93809
        ],
        [
         "2023-03-28",
         101912
        ],
        [
         "2023-03-29",
         108680
        ],
        [
         "2023-03-30",
         116246
        ],
        [
         "2023-03-31",
         112335
        ],
        [
         "2023-04-01",
         113396
        ],
        [
         "2023-04-02",
         97287
        ],
        [
         "2023-04-03",
         94551
        ],
        [
         "2023-04-04",
         105992
        ],
        [
         "2023-04-05",
         112612
        ],
        [
         "2023-04-06",
         105709
        ],
        [
         "2023-04-07",
         103573
        ],
        [
         "2023-04-08",
         98910
        ],
        [
         "2023-04-09",
         86137
        ],
        [
         "2023-04-10",
         87750
        ],
        [
         "2023-04-11",
         102637
        ],
        [
         "2023-04-12",
         110783
        ],
        [
         "2023-04-13",
         118927
        ],
        [
         "2023-04-14",
         120562
        ],
        [
         "2023-04-15",
         115211
        ],
        [
         "2023-04-16",
         95493
        ],
        [
         "2023-04-17",
         95300
        ],
        [
         "2023-04-18",
         112136
        ],
        [
         "2023-04-19",
         114581
        ],
        [
         "2023-04-20",
         121971
        ],
        [
         "2023-04-21",
         112944
        ],
        [
         "2023-04-22",
         114021
        ],
        [
         "2023-04-23",
         94907
        ],
        [
         "2023-04-24",
         97513
        ],
        [
         "2023-04-25",
         110126
        ],
        [
         "2023-04-26",
         117264
        ],
        [
         "2023-04-27",
         121114
        ],
        [
         "2023-04-28",
         119806
        ],
        [
         "2023-04-29",
         106014
        ],
        [
         "2023-04-30",
         90331
        ],
        [
         "2023-05-01",
         97311
        ],
        [
         "2023-05-02",
         112282
        ],
        [
         "2023-05-03",
         116653
        ],
        [
         "2023-05-04",
         123301
        ],
        [
         "2023-05-05",
         118307
        ],
        [
         "2023-05-06",
         117916
        ],
        [
         "2023-05-07",
         98089
        ],
        [
         "2023-05-08",
         96428
        ],
        [
         "2023-05-09",
         113052
        ],
        [
         "2023-05-10",
         117763
        ],
        [
         "2023-05-11",
         126429
        ],
        [
         "2023-05-12",
         122066
        ],
        [
         "2023-05-13",
         118253
        ],
        [
         "2023-05-14",
         106180
        ],
        [
         "2023-05-15",
         106112
        ],
        [
         "2023-05-16",
         121375
        ],
        [
         "2023-05-17",
         128546
        ],
        [
         "2023-05-18",
         130579
        ],
        [
         "2023-05-19",
         124117
        ],
        [
         "2023-05-20",
         113981
        ],
        [
         "2023-05-21",
         99226
        ],
        [
         "2023-05-22",
         101140
        ],
        [
         "2023-05-23",
         113539
        ],
        [
         "2023-05-24",
         121897
        ],
        [
         "2023-05-25",
         113928
        ],
        [
         "2023-05-26",
         99466
        ],
        [
         "2023-05-27",
         91219
        ],
        [
         "2023-05-28",
         80688
        ],
        [
         "2023-05-29",
         72752
        ],
        [
         "2023-05-30",
         97640
        ],
        [
         "2023-05-31",
         111633
        ],
        [
         "2023-06-01",
         119732
        ],
        [
         "2023-06-02",
         115152
        ],
        [
         "2023-06-03",
         114525
        ],
        [
         "2023-06-04",
         97042
        ],
        [
         "2023-06-05",
         100603
        ],
        [
         "2023-06-06",
         118108
        ],
        [
         "2023-06-07",
         120104
        ],
        [
         "2023-06-08",
         116591
        ],
        [
         "2023-06-09",
         111949
        ],
        [
         "2023-06-10",
         109098
        ],
        [
         "2023-06-11",
         93752
        ],
        [
         "2023-06-12",
         103910
        ],
        [
         "2023-06-13",
         114880
        ],
        [
         "2023-06-14",
         119163
        ],
        [
         "2023-06-15",
         124131
        ],
        [
         "2023-06-16",
         107450
        ],
        [
         "2023-06-17",
         102881
        ],
        [
         "2023-06-18",
         89135
        ],
        [
         "2023-06-19",
         84020
        ],
        [
         "2023-06-20",
         105567
        ],
        [
         "2023-06-21",
         113361
        ],
        [
         "2023-06-22",
         118262
        ],
        [
         "2023-06-23",
         111242
        ],
        [
         "2023-06-24",
         105952
        ],
        [
         "2023-06-25",
         91389
        ],
        [
         "2023-06-26",
         97200
        ],
        [
         "2023-06-27",
         106364
        ],
        [
         "2023-06-28",
         102262
        ],
        [
         "2023-06-29",
         101591
        ],
        [
         "2023-06-30",
         91956
        ],
        [
         "2023-07-01",
         79219
        ],
        [
         "2023-07-02",
         66704
        ],
        [
         "2023-07-03",
         62957
        ],
        [
         "2023-07-04",
         55751
        ],
        [
         "2023-07-05",
         82915
        ],
        [
         "2023-07-06",
         91000
        ],
        [
         "2023-07-07",
         88634
        ],
        [
         "2023-07-08",
         88970
        ],
        [
         "2023-07-09",
         77715
        ],
        [
         "2023-07-10",
         86860
        ],
        [
         "2023-07-11",
         101163
        ],
        [
         "2023-07-12",
         107612
        ],
        [
         "2023-07-13",
         109847
        ],
        [
         "2023-07-14",
         95940
        ],
        [
         "2023-07-15",
         97545
        ],
        [
         "2023-07-16",
         77691
        ],
        [
         "2023-07-17",
         91226
        ],
        [
         "2023-07-18",
         103456
        ],
        [
         "2023-07-19",
         108074
        ],
        [
         "2023-07-20",
         108613
        ],
        [
         "2023-07-21",
         97398
        ],
        [
         "2023-07-22",
         96347
        ],
        [
         "2023-07-23",
         83864
        ],
        [
         "2023-07-24",
         87588
        ],
        [
         "2023-07-25",
         99797
        ],
        [
         "2023-07-26",
         105812
        ],
        [
         "2023-07-27",
         109046
        ],
        [
         "2023-07-28",
         99266
        ],
        [
         "2023-07-29",
         93518
        ],
        [
         "2023-07-30",
         84103
        ],
        [
         "2023-07-31",
         83376
        ],
        [
         "2023-08-01",
         95660
        ],
        [
         "2023-08-02",
         98715
        ],
        [
         "2023-08-03",
         100192
        ],
        [
         "2023-08-04",
         89272
        ],
        [
         "2023-08-05",
         89726
        ],
        [
         "2023-08-06",
         78151
        ],
        [
         "2023-08-07",
         80484
        ],
        [
         "2023-08-08",
         93205
        ],
        [
         "2023-08-09",
         97610
        ],
        [
         "2023-08-10",
         101271
        ],
        [
         "2023-08-11",
         89667
        ],
        [
         "2023-08-12",
         87146
        ],
        [
         "2023-08-13",
         77061
        ],
        [
         "2023-08-14",
         81376
        ],
        [
         "2023-08-15",
         90854
        ],
        [
         "2023-08-16",
         96950
        ],
        [
         "2023-08-17",
         97296
        ],
        [
         "2023-08-18",
         87110
        ],
        [
         "2023-08-19",
         86711
        ],
        [
         "2023-08-20",
         75288
        ],
        [
         "2023-08-21",
         77676
        ],
        [
         "2023-08-22",
         84554
        ],
        [
         "2023-08-23",
         89831
        ],
        [
         "2023-08-24",
         92572
        ],
        [
         "2023-08-25",
         86367
        ],
        [
         "2023-08-26",
         87758
        ],
        [
         "2023-08-27",
         78205
        ],
        [
         "2023-08-28",
         76220
        ],
        [
         "2023-08-29",
         91314
        ],
        [
         "2023-08-30",
         89517
        ],
        [
         "2023-08-31",
         88556
        ],
        [
         "2023-09-01",
         84290
        ],
        [
         "2023-09-02",
         79976
        ],
        [
         "2023-09-03",
         75978
        ],
        [
         "2023-09-04",
         69628
        ],
        [
         "2023-09-05",
         99637
        ],
        [
         "2023-09-06",
         114028
        ],
        [
         "2023-09-07",
         124672
        ],
        [
         "2023-09-08",
         118872
        ],
        [
         "2023-09-09",
         112074
        ],
        [
         "2023-09-10",
         98819
        ],
        [
         "2023-09-11",
         102602
        ],
        [
         "2023-09-12",
         114358
        ],
        [
         "2023-09-13",
         114452
        ],
        [
         "2023-09-14",
         120918
        ],
        [
         "2023-09-15",
         111937
        ],
        [
         "2023-09-16",
         106004
        ],
        [
         "2023-09-17",
         89455
        ],
        [
         "2023-09-18",
         91317
        ],
        [
         "2023-09-19",
         100220
        ],
        [
         "2023-09-20",
         104203
        ],
        [
         "2023-09-21",
         37282
        ],
        [
         "2023-09-22",
         20
        ],
        [
         "2023-09-23",
         18
        ],
        [
         "2023-09-24",
         125
        ],
        [
         "2023-09-25",
         87644
        ],
        [
         "2023-09-26",
         107736
        ],
        [
         "2023-09-27",
         114350
        ],
        [
         "2023-09-28",
         121503
        ],
        [
         "2023-09-29",
         95916
        ],
        [
         "2023-09-30",
         108482
        ],
        [
         "2023-10-01",
         97133
        ],
        [
         "2023-10-02",
         96691
        ],
        [
         "2023-10-03",
         108787
        ],
        [
         "2023-10-04",
         114568
        ],
        [
         "2023-10-05",
         118435
        ],
        [
         "2023-10-06",
         110776
        ],
        [
         "2023-10-07",
         107414
        ],
        [
         "2023-10-08",
         93338
        ],
        [
         "2023-10-09",
         82347
        ],
        [
         "2023-10-10",
         106419
        ],
        [
         "2023-10-11",
         114142
        ],
        [
         "2023-10-12",
         121962
        ],
        [
         "2023-10-13",
         112062
        ],
        [
         "2023-10-14",
         113697
        ],
        [
         "2023-10-15",
         97925
        ],
        [
         "2023-10-16",
         98256
        ],
        [
         "2023-10-17",
         111477
        ],
        [
         "2023-10-18",
         115909
        ],
        [
         "2023-10-19",
         122784
        ],
        [
         "2023-10-20",
         118113
        ],
        [
         "2023-10-21",
         117078
        ],
        [
         "2023-10-22",
         104436
        ],
        [
         "2023-10-23",
         96968
        ],
        [
         "2023-10-24",
         109680
        ],
        [
         "2023-10-25",
         115994
        ],
        [
         "2023-10-26",
         125014
        ],
        [
         "2023-10-27",
         121143
        ],
        [
         "2023-10-28",
         121701
        ],
        [
         "2023-10-29",
         100619
        ],
        [
         "2023-10-30",
         93838
        ],
        [
         "2023-10-31",
         98633
        ],
        [
         "2023-11-01",
         120857
        ],
        [
         "2023-11-02",
         123376
        ],
        [
         "2023-11-03",
         118272
        ],
        [
         "2023-11-04",
         118321
        ],
        [
         "2023-11-05",
         101466
        ],
        [
         "2023-11-06",
         99185
        ],
        [
         "2023-11-07",
         109263
        ],
        [
         "2023-11-08",
         119947
        ],
        [
         "2023-11-09",
         124532
        ],
        [
         "2023-11-10",
         121266
        ],
        [
         "2023-11-11",
         118458
        ],
        [
         "2023-11-12",
         102610
        ],
        [
         "2023-11-13",
         99770
        ],
        [
         "2023-11-14",
         113898
        ],
        [
         "2023-11-15",
         120031
        ],
        [
         "2023-11-16",
         126437
        ],
        [
         "2023-11-17",
         117346
        ],
        [
         "2023-11-18",
         122062
        ],
        [
         "2023-11-19",
         96313
        ],
        [
         "2023-11-20",
         96067
        ],
        [
         "2023-11-21",
         104761
        ],
        [
         "2023-11-22",
         88085
        ],
        [
         "2023-11-23",
         60006
        ],
        [
         "2023-11-24",
         75905
        ],
        [
         "2023-11-25",
         86260
        ],
        [
         "2023-11-26",
         82132
        ],
        [
         "2023-11-27",
         94215
        ],
        [
         "2023-11-28",
         115905
        ],
        [
         "2023-11-29",
         110447
        ],
        [
         "2023-11-30",
         119861
        ],
        [
         "2023-12-01",
         124046
        ],
        [
         "2023-12-02",
         119962
        ],
        [
         "2023-12-03",
         103590
        ],
        [
         "2023-12-04",
         100232
        ],
        [
         "2023-12-05",
         118391
        ],
        [
         "2023-12-06",
         126762
        ],
        [
         "2023-12-07",
         129352
        ],
        [
         "2023-12-08",
         124348
        ],
        [
         "2023-12-09",
         127096
        ],
        [
         "2023-12-10",
         101464
        ],
        [
         "2023-12-11",
         104345
        ],
        [
         "2023-12-12",
         119097
        ],
        [
         "2023-12-13",
         127816
        ],
        [
         "2023-12-14",
         133701
        ],
        [
         "2023-12-15",
         130705
        ],
        [
         "2023-12-16",
         123613
        ],
        [
         "2023-12-17",
         99900
        ],
        [
         "2023-12-18",
         94795
        ],
        [
         "2023-12-19",
         114280
        ],
        [
         "2023-12-20",
         111486
        ],
        [
         "2023-12-21",
         110872
        ],
        [
         "2023-12-22",
         101949
        ],
        [
         "2023-12-23",
         80173
        ],
        [
         "2023-12-24",
         62555
        ],
        [
         "2023-12-25",
         42587
        ],
        [
         "2023-12-26",
         66755
        ],
        [
         "2023-12-27",
         79193
        ],
        [
         "2023-12-28",
         82422
        ],
        [
         "2023-12-29",
         83919
        ],
        [
         "2023-12-30",
         80500
        ],
        [
         "2023-12-31",
         70130
        ]
       ],
       "datasetInfos": [],
       "dbfsResultPath": null,
       "isJsonSchema": true,
       "metadata": {},
       "overflow": false,
       "plotOptions": {
        "customPlotOptions": {},
        "displayType": "table",
        "pivotAggregation": null,
        "pivotColumns": null,
        "xColumns": null,
        "yColumns": null
       },
       "removedWidgets": [],
       "schema": [
        {
         "metadata": "{}",
         "name": "pickup_date",
         "type": "\"string\""
        },
        {
         "metadata": "{}",
         "name": "count",
         "type": "\"long\""
        }
       ],
       "type": "table"
      }
     },
     "output_type": "display_data"
    }
   ],
   "source": [
    "# Daily Pickup Analysis\n",
    "daily_pickups = data_processing_df.groupBy(\"pickup_date\").count().orderBy(\"pickup_date\")\n",
    "display(daily_pickups)"
   ]
  },
  {
   "cell_type": "code",
   "execution_count": 0,
   "metadata": {
    "application/vnd.databricks.v1+cell": {
     "cellMetadata": {
      "byteLimit": 2048000,
      "rowLimit": 10000
     },
     "inputWidgets": {},
     "nuid": "adb660ff-ee52-4225-a317-082fafc6f93c",
     "showTitle": false,
     "tableResultSettingsMap": {},
     "title": ""
    }
   },
   "outputs": [
    {
     "output_type": "display_data",
     "data": {
      "text/html": [
       "<style scoped>\n",
       "  .table-result-container {\n",
       "    max-height: 300px;\n",
       "    overflow: auto;\n",
       "  }\n",
       "  table, th, td {\n",
       "    border: 1px solid black;\n",
       "    border-collapse: collapse;\n",
       "  }\n",
       "  th, td {\n",
       "    padding: 5px;\n",
       "  }\n",
       "  th {\n",
       "    text-align: left;\n",
       "  }\n",
       "</style><div class='table-result-container'><table class='table-result'><thead style='background-color: white'><tr><th>dropoff_date</th><th>count</th></tr></thead><tbody><tr><td>2023-01-01</td><td>72717</td></tr><tr><td>2023-01-02</td><td>64585</td></tr><tr><td>2023-01-03</td><td>83701</td></tr><tr><td>2023-01-04</td><td>92887</td></tr><tr><td>2023-01-05</td><td>98732</td></tr><tr><td>2023-01-06</td><td>99883</td></tr><tr><td>2023-01-07</td><td>102786</td></tr><tr><td>2023-01-08</td><td>84002</td></tr><tr><td>2023-01-09</td><td>83564</td></tr><tr><td>2023-01-10</td><td>97697</td></tr><tr><td>2023-01-11</td><td>103845</td></tr><tr><td>2023-01-12</td><td>108016</td></tr><tr><td>2023-01-13</td><td>107599</td></tr><tr><td>2023-01-14</td><td>110665</td></tr><tr><td>2023-01-15</td><td>95139</td></tr><tr><td>2023-01-16</td><td>78860</td></tr><tr><td>2023-01-17</td><td>98790</td></tr><tr><td>2023-01-18</td><td>103732</td></tr><tr><td>2023-01-19</td><td>110875</td></tr><tr><td>2023-01-20</td><td>106401</td></tr><tr><td>2023-01-21</td><td>109520</td></tr><tr><td>2023-01-22</td><td>88451</td></tr><tr><td>2023-01-23</td><td>87724</td></tr><tr><td>2023-01-24</td><td>101675</td></tr><tr><td>2023-01-25</td><td>105910</td></tr><tr><td>2023-01-26</td><td>111856</td></tr><tr><td>2023-01-27</td><td>108742</td></tr><tr><td>2023-01-28</td><td>109008</td></tr><tr><td>2023-01-29</td><td>87198</td></tr><tr><td>2023-01-30</td><td>81964</td></tr><tr><td>2023-01-31</td><td>97859</td></tr><tr><td>2023-02-01</td><td>104841</td></tr><tr><td>2023-02-02</td><td>109850</td></tr><tr><td>2023-02-03</td><td>110478</td></tr><tr><td>2023-02-04</td><td>94374</td></tr><tr><td>2023-02-05</td><td>82515</td></tr><tr><td>2023-02-06</td><td>88781</td></tr><tr><td>2023-02-07</td><td>103422</td></tr><tr><td>2023-02-08</td><td>105682</td></tr><tr><td>2023-02-09</td><td>111813</td></tr><tr><td>2023-02-10</td><td>111369</td></tr><tr><td>2023-02-11</td><td>111613</td></tr><tr><td>2023-02-12</td><td>92722</td></tr><tr><td>2023-02-13</td><td>90887</td></tr><tr><td>2023-02-14</td><td>105217</td></tr><tr><td>2023-02-15</td><td>107980</td></tr><tr><td>2023-02-16</td><td>109796</td></tr><tr><td>2023-02-17</td><td>108131</td></tr><tr><td>2023-02-18</td><td>102562</td></tr><tr><td>2023-02-19</td><td>88725</td></tr><tr><td>2023-02-20</td><td>77931</td></tr><tr><td>2023-02-21</td><td>97382</td></tr><tr><td>2023-02-22</td><td>108150</td></tr><tr><td>2023-02-23</td><td>112201</td></tr><tr><td>2023-02-24</td><td>111895</td></tr><tr><td>2023-02-25</td><td>110318</td></tr><tr><td>2023-02-26</td><td>89676</td></tr><tr><td>2023-02-27</td><td>90566</td></tr><tr><td>2023-02-28</td><td>98273</td></tr><tr><td>2023-03-01</td><td>112116</td></tr><tr><td>2023-03-02</td><td>115645</td></tr><tr><td>2023-03-03</td><td>112781</td></tr><tr><td>2023-03-04</td><td>109657</td></tr><tr><td>2023-03-05</td><td>95545</td></tr><tr><td>2023-03-06</td><td>91437</td></tr><tr><td>2023-03-07</td><td>110817</td></tr><tr><td>2023-03-08</td><td>116000</td></tr><tr><td>2023-03-09</td><td>118624</td></tr><tr><td>2023-03-10</td><td>117598</td></tr><tr><td>2023-03-11</td><td>108235</td></tr><tr><td>2023-03-12</td><td>93440</td></tr><tr><td>2023-03-13</td><td>97699</td></tr><tr><td>2023-03-14</td><td>104507</td></tr><tr><td>2023-03-15</td><td>116535</td></tr><tr><td>2023-03-16</td><td>120599</td></tr><tr><td>2023-03-17</td><td>109111</td></tr><tr><td>2023-03-18</td><td>118486</td></tr><tr><td>2023-03-19</td><td>99014</td></tr><tr><td>2023-03-20</td><td>89087</td></tr><tr><td>2023-03-21</td><td>99540</td></tr><tr><td>2023-03-22</td><td>103452</td></tr><tr><td>2023-03-23</td><td>110696</td></tr><tr><td>2023-03-24</td><td>107791</td></tr><tr><td>2023-03-25</td><td>112086</td></tr><tr><td>2023-03-26</td><td>92519</td></tr><tr><td>2023-03-27</td><td>93869</td></tr><tr><td>2023-03-28</td><td>101792</td></tr><tr><td>2023-03-29</td><td>108667</td></tr><tr><td>2023-03-30</td><td>115783</td></tr><tr><td>2023-03-31</td><td>111801</td></tr><tr><td>2023-04-01</td><td>113300</td></tr><tr><td>2023-04-02</td><td>98393</td></tr><tr><td>2023-04-03</td><td>94498</td></tr><tr><td>2023-04-04</td><td>105962</td></tr><tr><td>2023-04-05</td><td>112513</td></tr><tr><td>2023-04-06</td><td>105517</td></tr><tr><td>2023-04-07</td><td>103399</td></tr><tr><td>2023-04-08</td><td>98970</td></tr><tr><td>2023-04-09</td><td>86631</td></tr><tr><td>2023-04-10</td><td>87796</td></tr><tr><td>2023-04-11</td><td>102493</td></tr><tr><td>2023-04-12</td><td>110694</td></tr><tr><td>2023-04-13</td><td>118499</td></tr><tr><td>2023-04-14</td><td>120052</td></tr><tr><td>2023-04-15</td><td>115467</td></tr><tr><td>2023-04-16</td><td>96428</td></tr><tr><td>2023-04-17</td><td>95142</td></tr><tr><td>2023-04-18</td><td>112075</td></tr><tr><td>2023-04-19</td><td>114454</td></tr><tr><td>2023-04-20</td><td>121648</td></tr><tr><td>2023-04-21</td><td>112799</td></tr><tr><td>2023-04-22</td><td>113836</td></tr><tr><td>2023-04-23</td><td>95735</td></tr><tr><td>2023-04-24</td><td>97632</td></tr><tr><td>2023-04-25</td><td>109960</td></tr><tr><td>2023-04-26</td><td>117120</td></tr><tr><td>2023-04-27</td><td>120666</td></tr><tr><td>2023-04-28</td><td>119712</td></tr><tr><td>2023-04-29</td><td>106009</td></tr><tr><td>2023-04-30</td><td>91122</td></tr><tr><td>2023-05-01</td><td>97283</td></tr><tr><td>2023-05-02</td><td>112317</td></tr><tr><td>2023-05-03</td><td>116557</td></tr><tr><td>2023-05-04</td><td>122869</td></tr><tr><td>2023-05-05</td><td>117721</td></tr><tr><td>2023-05-06</td><td>117951</td></tr><tr><td>2023-05-07</td><td>99214</td></tr><tr><td>2023-05-08</td><td>96455</td></tr><tr><td>2023-05-09</td><td>112869</td></tr><tr><td>2023-05-10</td><td>117595</td></tr><tr><td>2023-05-11</td><td>126084</td></tr><tr><td>2023-05-12</td><td>121534</td></tr><tr><td>2023-05-13</td><td>118366</td></tr><tr><td>2023-05-14</td><td>107063</td></tr><tr><td>2023-05-15</td><td>106321</td></tr><tr><td>2023-05-16</td><td>121022</td></tr><tr><td>2023-05-17</td><td>128335</td></tr><tr><td>2023-05-18</td><td>130268</td></tr><tr><td>2023-05-19</td><td>123821</td></tr><tr><td>2023-05-20</td><td>114318</td></tr><tr><td>2023-05-21</td><td>99994</td></tr><tr><td>2023-05-22</td><td>101252</td></tr><tr><td>2023-05-23</td><td>113234</td></tr><tr><td>2023-05-24</td><td>121856</td></tr><tr><td>2023-05-25</td><td>113646</td></tr><tr><td>2023-05-26</td><td>99465</td></tr><tr><td>2023-05-27</td><td>91491</td></tr><tr><td>2023-05-28</td><td>80842</td></tr><tr><td>2023-05-29</td><td>72860</td></tr><tr><td>2023-05-30</td><td>97582</td></tr><tr><td>2023-05-31</td><td>111521</td></tr><tr><td>2023-06-01</td><td>119475</td></tr><tr><td>2023-06-02</td><td>114656</td></tr><tr><td>2023-06-03</td><td>114630</td></tr><tr><td>2023-06-04</td><td>97787</td></tr><tr><td>2023-06-05</td><td>100674</td></tr><tr><td>2023-06-06</td><td>117879</td></tr><tr><td>2023-06-07</td><td>120161</td></tr><tr><td>2023-06-08</td><td>116242</td></tr><tr><td>2023-06-09</td><td>111528</td></tr><tr><td>2023-06-10</td><td>109060</td></tr><tr><td>2023-06-11</td><td>94560</td></tr><tr><td>2023-06-12</td><td>104125</td></tr><tr><td>2023-06-13</td><td>114520</td></tr><tr><td>2023-06-14</td><td>118866</td></tr><tr><td>2023-06-15</td><td>124099</td></tr><tr><td>2023-06-16</td><td>107427</td></tr><tr><td>2023-06-17</td><td>102775</td></tr><tr><td>2023-06-18</td><td>89761</td></tr><tr><td>2023-06-19</td><td>84137</td></tr><tr><td>2023-06-20</td><td>105438</td></tr><tr><td>2023-06-21</td><td>113073</td></tr><tr><td>2023-06-22</td><td>118060</td></tr><tr><td>2023-06-23</td><td>111000</td></tr><tr><td>2023-06-24</td><td>105921</td></tr><tr><td>2023-06-25</td><td>92106</td></tr><tr><td>2023-06-26</td><td>97431</td></tr><tr><td>2023-06-27</td><td>106297</td></tr><tr><td>2023-06-28</td><td>102005</td></tr><tr><td>2023-06-29</td><td>101406</td></tr><tr><td>2023-06-30</td><td>91996</td></tr><tr><td>2023-07-01</td><td>79428</td></tr><tr><td>2023-07-02</td><td>67173</td></tr><tr><td>2023-07-03</td><td>62910</td></tr><tr><td>2023-07-04</td><td>55468</td></tr><tr><td>2023-07-05</td><td>83097</td></tr><tr><td>2023-07-06</td><td>90835</td></tr><tr><td>2023-07-07</td><td>88196</td></tr><tr><td>2023-07-08</td><td>88903</td></tr><tr><td>2023-07-09</td><td>78360</td></tr><tr><td>2023-07-10</td><td>86920</td></tr><tr><td>2023-07-11</td><td>100999</td></tr><tr><td>2023-07-12</td><td>107500</td></tr><tr><td>2023-07-13</td><td>109725</td></tr><tr><td>2023-07-14</td><td>95622</td></tr><tr><td>2023-07-15</td><td>97517</td></tr><tr><td>2023-07-16</td><td>78502</td></tr><tr><td>2023-07-17</td><td>91010</td></tr><tr><td>2023-07-18</td><td>103394</td></tr><tr><td>2023-07-19</td><td>108056</td></tr><tr><td>2023-07-20</td><td>108274</td></tr><tr><td>2023-07-21</td><td>97162</td></tr><tr><td>2023-07-22</td><td>96428</td></tr><tr><td>2023-07-23</td><td>84461</td></tr><tr><td>2023-07-24</td><td>87678</td></tr><tr><td>2023-07-25</td><td>99496</td></tr><tr><td>2023-07-26</td><td>105764</td></tr><tr><td>2023-07-27</td><td>108940</td></tr><tr><td>2023-07-28</td><td>98737</td></tr><tr><td>2023-07-29</td><td>93678</td></tr><tr><td>2023-07-30</td><td>84835</td></tr><tr><td>2023-07-31</td><td>83533</td></tr><tr><td>2023-08-01</td><td>95373</td></tr><tr><td>2023-08-02</td><td>98665</td></tr><tr><td>2023-08-03</td><td>100106</td></tr><tr><td>2023-08-04</td><td>88927</td></tr><tr><td>2023-08-05</td><td>89791</td></tr><tr><td>2023-08-06</td><td>78817</td></tr><tr><td>2023-08-07</td><td>80467</td></tr><tr><td>2023-08-08</td><td>93124</td></tr><tr><td>2023-08-09</td><td>97497</td></tr><tr><td>2023-08-10</td><td>101200</td></tr><tr><td>2023-08-11</td><td>89288</td></tr><tr><td>2023-08-12</td><td>87182</td></tr><tr><td>2023-08-13</td><td>77579</td></tr><tr><td>2023-08-14</td><td>81559</td></tr><tr><td>2023-08-15</td><td>90672</td></tr><tr><td>2023-08-16</td><td>96987</td></tr><tr><td>2023-08-17</td><td>97249</td></tr><tr><td>2023-08-18</td><td>86543</td></tr><tr><td>2023-08-19</td><td>86861</td></tr><tr><td>2023-08-20</td><td>75808</td></tr><tr><td>2023-08-21</td><td>77846</td></tr><tr><td>2023-08-22</td><td>84341</td></tr><tr><td>2023-08-23</td><td>89715</td></tr><tr><td>2023-08-24</td><td>92544</td></tr><tr><td>2023-08-25</td><td>86056</td></tr><tr><td>2023-08-26</td><td>87641</td></tr><tr><td>2023-08-27</td><td>78831</td></tr><tr><td>2023-08-28</td><td>76301</td></tr><tr><td>2023-08-29</td><td>91176</td></tr><tr><td>2023-08-30</td><td>89248</td></tr><tr><td>2023-08-31</td><td>88427</td></tr><tr><td>2023-09-01</td><td>84231</td></tr><tr><td>2023-09-02</td><td>80126</td></tr><tr><td>2023-09-03</td><td>76024</td></tr><tr><td>2023-09-04</td><td>69925</td></tr><tr><td>2023-09-05</td><td>99555</td></tr><tr><td>2023-09-06</td><td>113987</td></tr><tr><td>2023-09-07</td><td>124051</td></tr><tr><td>2023-09-08</td><td>118395</td></tr><tr><td>2023-09-09</td><td>112112</td></tr><tr><td>2023-09-10</td><td>99792</td></tr><tr><td>2023-09-11</td><td>102732</td></tr><tr><td>2023-09-12</td><td>114340</td></tr><tr><td>2023-09-13</td><td>114350</td></tr><tr><td>2023-09-14</td><td>120560</td></tr><tr><td>2023-09-15</td><td>111587</td></tr><tr><td>2023-09-16</td><td>106059</td></tr><tr><td>2023-09-17</td><td>90233</td></tr><tr><td>2023-09-18</td><td>91436</td></tr><tr><td>2023-09-19</td><td>100023</td></tr><tr><td>2023-09-20</td><td>104000</td></tr><tr><td>2023-09-21</td><td>38296</td></tr><tr><td>2023-09-22</td><td>51</td></tr><tr><td>2023-09-23</td><td>18</td></tr><tr><td>2023-09-24</td><td>115</td></tr><tr><td>2023-09-25</td><td>87083</td></tr><tr><td>2023-09-26</td><td>107629</td></tr><tr><td>2023-09-27</td><td>114017</td></tr><tr><td>2023-09-28</td><td>121081</td></tr><tr><td>2023-09-29</td><td>96104</td></tr><tr><td>2023-09-30</td><td>108050</td></tr><tr><td>2023-10-01</td><td>98080</td></tr><tr><td>2023-10-02</td><td>96651</td></tr><tr><td>2023-10-03</td><td>108757</td></tr><tr><td>2023-10-04</td><td>114330</td></tr><tr><td>2023-10-05</td><td>118235</td></tr><tr><td>2023-10-06</td><td>110405</td></tr><tr><td>2023-10-07</td><td>107393</td></tr><tr><td>2023-10-08</td><td>94250</td></tr><tr><td>2023-10-09</td><td>82449</td></tr><tr><td>2023-10-10</td><td>106337</td></tr><tr><td>2023-10-11</td><td>113973</td></tr><tr><td>2023-10-12</td><td>121453</td></tr><tr><td>2023-10-13</td><td>111713</td></tr><tr><td>2023-10-14</td><td>113995</td></tr><tr><td>2023-10-15</td><td>98723</td></tr><tr><td>2023-10-16</td><td>98139</td></tr><tr><td>2023-10-17</td><td>111376</td></tr><tr><td>2023-10-18</td><td>115768</td></tr><tr><td>2023-10-19</td><td>122304</td></tr><tr><td>2023-10-20</td><td>117912</td></tr><tr><td>2023-10-21</td><td>116836</td></tr><tr><td>2023-10-22</td><td>105604</td></tr><tr><td>2023-10-23</td><td>97025</td></tr><tr><td>2023-10-24</td><td>109578</td></tr><tr><td>2023-10-25</td><td>115867</td></tr><tr><td>2023-10-26</td><td>124367</td></tr><tr><td>2023-10-27</td><td>120657</td></tr><tr><td>2023-10-28</td><td>121444</td></tr><tr><td>2023-10-29</td><td>102293</td></tr><tr><td>2023-10-30</td><td>93903</td></tr><tr><td>2023-10-31</td><td>98331</td></tr><tr><td>2023-11-01</td><td>120965</td></tr><tr><td>2023-11-02</td><td>122867</td></tr><tr><td>2023-11-03</td><td>117924</td></tr><tr><td>2023-11-04</td><td>118213</td></tr><tr><td>2023-11-05</td><td>102427</td></tr><tr><td>2023-11-06</td><td>99272</td></tr><tr><td>2023-11-07</td><td>109269</td></tr><tr><td>2023-11-08</td><td>119657</td></tr><tr><td>2023-11-09</td><td>124112</td></tr><tr><td>2023-11-10</td><td>120985</td></tr><tr><td>2023-11-11</td><td>118328</td></tr><tr><td>2023-11-12</td><td>103876</td></tr><tr><td>2023-11-13</td><td>99737</td></tr><tr><td>2023-11-14</td><td>113621</td></tr><tr><td>2023-11-15</td><td>119993</td></tr><tr><td>2023-11-16</td><td>125989</td></tr><tr><td>2023-11-17</td><td>116998</td></tr><tr><td>2023-11-18</td><td>121926</td></tr><tr><td>2023-11-19</td><td>97578</td></tr><tr><td>2023-11-20</td><td>96018</td></tr><tr><td>2023-11-21</td><td>104625</td></tr><tr><td>2023-11-22</td><td>88177</td></tr><tr><td>2023-11-23</td><td>60316</td></tr><tr><td>2023-11-24</td><td>75477</td></tr><tr><td>2023-11-25</td><td>85955</td></tr><tr><td>2023-11-26</td><td>82613</td></tr><tr><td>2023-11-27</td><td>94118</td></tr><tr><td>2023-11-28</td><td>115739</td></tr><tr><td>2023-11-29</td><td>110440</td></tr><tr><td>2023-11-30</td><td>119406</td></tr><tr><td>2023-12-01</td><td>123562</td></tr><tr><td>2023-12-02</td><td>119482</td></tr><tr><td>2023-12-03</td><td>105292</td></tr><tr><td>2023-12-04</td><td>100284</td></tr><tr><td>2023-12-05</td><td>117944</td></tr><tr><td>2023-12-06</td><td>126602</td></tr><tr><td>2023-12-07</td><td>128827</td></tr><tr><td>2023-12-08</td><td>124234</td></tr><tr><td>2023-12-09</td><td>126514</td></tr><tr><td>2023-12-10</td><td>103211</td></tr><tr><td>2023-12-11</td><td>104153</td></tr><tr><td>2023-12-12</td><td>118936</td></tr><tr><td>2023-12-13</td><td>127374</td></tr><tr><td>2023-12-14</td><td>133219</td></tr><tr><td>2023-12-15</td><td>130243</td></tr><tr><td>2023-12-16</td><td>124009</td></tr><tr><td>2023-12-17</td><td>101238</td></tr><tr><td>2023-12-18</td><td>94640</td></tr><tr><td>2023-12-19</td><td>114036</td></tr><tr><td>2023-12-20</td><td>111643</td></tr><tr><td>2023-12-21</td><td>110625</td></tr><tr><td>2023-12-22</td><td>102076</td></tr><tr><td>2023-12-23</td><td>80471</td></tr><tr><td>2023-12-24</td><td>62820</td></tr><tr><td>2023-12-25</td><td>42608</td></tr><tr><td>2023-12-26</td><td>66590</td></tr><tr><td>2023-12-27</td><td>79051</td></tr><tr><td>2023-12-28</td><td>82211</td></tr><tr><td>2023-12-29</td><td>83791</td></tr><tr><td>2023-12-30</td><td>80402</td></tr><tr><td>2023-12-31</td><td>71249</td></tr></tbody></table></div>"
      ]
     },
     "metadata": {
      "application/vnd.databricks.v1+output": {
       "addedWidgets": {},
       "aggData": [],
       "aggError": "",
       "aggOverflow": false,
       "aggSchema": [],
       "aggSeriesLimitReached": false,
       "aggType": "",
       "arguments": {},
       "columnCustomDisplayInfos": {},
       "data": [
        [
         "2023-01-01",
         72717
        ],
        [
         "2023-01-02",
         64585
        ],
        [
         "2023-01-03",
         83701
        ],
        [
         "2023-01-04",
         92887
        ],
        [
         "2023-01-05",
         98732
        ],
        [
         "2023-01-06",
         99883
        ],
        [
         "2023-01-07",
         102786
        ],
        [
         "2023-01-08",
         84002
        ],
        [
         "2023-01-09",
         83564
        ],
        [
         "2023-01-10",
         97697
        ],
        [
         "2023-01-11",
         103845
        ],
        [
         "2023-01-12",
         108016
        ],
        [
         "2023-01-13",
         107599
        ],
        [
         "2023-01-14",
         110665
        ],
        [
         "2023-01-15",
         95139
        ],
        [
         "2023-01-16",
         78860
        ],
        [
         "2023-01-17",
         98790
        ],
        [
         "2023-01-18",
         103732
        ],
        [
         "2023-01-19",
         110875
        ],
        [
         "2023-01-20",
         106401
        ],
        [
         "2023-01-21",
         109520
        ],
        [
         "2023-01-22",
         88451
        ],
        [
         "2023-01-23",
         87724
        ],
        [
         "2023-01-24",
         101675
        ],
        [
         "2023-01-25",
         105910
        ],
        [
         "2023-01-26",
         111856
        ],
        [
         "2023-01-27",
         108742
        ],
        [
         "2023-01-28",
         109008
        ],
        [
         "2023-01-29",
         87198
        ],
        [
         "2023-01-30",
         81964
        ],
        [
         "2023-01-31",
         97859
        ],
        [
         "2023-02-01",
         104841
        ],
        [
         "2023-02-02",
         109850
        ],
        [
         "2023-02-03",
         110478
        ],
        [
         "2023-02-04",
         94374
        ],
        [
         "2023-02-05",
         82515
        ],
        [
         "2023-02-06",
         88781
        ],
        [
         "2023-02-07",
         103422
        ],
        [
         "2023-02-08",
         105682
        ],
        [
         "2023-02-09",
         111813
        ],
        [
         "2023-02-10",
         111369
        ],
        [
         "2023-02-11",
         111613
        ],
        [
         "2023-02-12",
         92722
        ],
        [
         "2023-02-13",
         90887
        ],
        [
         "2023-02-14",
         105217
        ],
        [
         "2023-02-15",
         107980
        ],
        [
         "2023-02-16",
         109796
        ],
        [
         "2023-02-17",
         108131
        ],
        [
         "2023-02-18",
         102562
        ],
        [
         "2023-02-19",
         88725
        ],
        [
         "2023-02-20",
         77931
        ],
        [
         "2023-02-21",
         97382
        ],
        [
         "2023-02-22",
         108150
        ],
        [
         "2023-02-23",
         112201
        ],
        [
         "2023-02-24",
         111895
        ],
        [
         "2023-02-25",
         110318
        ],
        [
         "2023-02-26",
         89676
        ],
        [
         "2023-02-27",
         90566
        ],
        [
         "2023-02-28",
         98273
        ],
        [
         "2023-03-01",
         112116
        ],
        [
         "2023-03-02",
         115645
        ],
        [
         "2023-03-03",
         112781
        ],
        [
         "2023-03-04",
         109657
        ],
        [
         "2023-03-05",
         95545
        ],
        [
         "2023-03-06",
         91437
        ],
        [
         "2023-03-07",
         110817
        ],
        [
         "2023-03-08",
         116000
        ],
        [
         "2023-03-09",
         118624
        ],
        [
         "2023-03-10",
         117598
        ],
        [
         "2023-03-11",
         108235
        ],
        [
         "2023-03-12",
         93440
        ],
        [
         "2023-03-13",
         97699
        ],
        [
         "2023-03-14",
         104507
        ],
        [
         "2023-03-15",
         116535
        ],
        [
         "2023-03-16",
         120599
        ],
        [
         "2023-03-17",
         109111
        ],
        [
         "2023-03-18",
         118486
        ],
        [
         "2023-03-19",
         99014
        ],
        [
         "2023-03-20",
         89087
        ],
        [
         "2023-03-21",
         99540
        ],
        [
         "2023-03-22",
         103452
        ],
        [
         "2023-03-23",
         110696
        ],
        [
         "2023-03-24",
         107791
        ],
        [
         "2023-03-25",
         112086
        ],
        [
         "2023-03-26",
         92519
        ],
        [
         "2023-03-27",
         93869
        ],
        [
         "2023-03-28",
         101792
        ],
        [
         "2023-03-29",
         108667
        ],
        [
         "2023-03-30",
         115783
        ],
        [
         "2023-03-31",
         111801
        ],
        [
         "2023-04-01",
         113300
        ],
        [
         "2023-04-02",
         98393
        ],
        [
         "2023-04-03",
         94498
        ],
        [
         "2023-04-04",
         105962
        ],
        [
         "2023-04-05",
         112513
        ],
        [
         "2023-04-06",
         105517
        ],
        [
         "2023-04-07",
         103399
        ],
        [
         "2023-04-08",
         98970
        ],
        [
         "2023-04-09",
         86631
        ],
        [
         "2023-04-10",
         87796
        ],
        [
         "2023-04-11",
         102493
        ],
        [
         "2023-04-12",
         110694
        ],
        [
         "2023-04-13",
         118499
        ],
        [
         "2023-04-14",
         120052
        ],
        [
         "2023-04-15",
         115467
        ],
        [
         "2023-04-16",
         96428
        ],
        [
         "2023-04-17",
         95142
        ],
        [
         "2023-04-18",
         112075
        ],
        [
         "2023-04-19",
         114454
        ],
        [
         "2023-04-20",
         121648
        ],
        [
         "2023-04-21",
         112799
        ],
        [
         "2023-04-22",
         113836
        ],
        [
         "2023-04-23",
         95735
        ],
        [
         "2023-04-24",
         97632
        ],
        [
         "2023-04-25",
         109960
        ],
        [
         "2023-04-26",
         117120
        ],
        [
         "2023-04-27",
         120666
        ],
        [
         "2023-04-28",
         119712
        ],
        [
         "2023-04-29",
         106009
        ],
        [
         "2023-04-30",
         91122
        ],
        [
         "2023-05-01",
         97283
        ],
        [
         "2023-05-02",
         112317
        ],
        [
         "2023-05-03",
         116557
        ],
        [
         "2023-05-04",
         122869
        ],
        [
         "2023-05-05",
         117721
        ],
        [
         "2023-05-06",
         117951
        ],
        [
         "2023-05-07",
         99214
        ],
        [
         "2023-05-08",
         96455
        ],
        [
         "2023-05-09",
         112869
        ],
        [
         "2023-05-10",
         117595
        ],
        [
         "2023-05-11",
         126084
        ],
        [
         "2023-05-12",
         121534
        ],
        [
         "2023-05-13",
         118366
        ],
        [
         "2023-05-14",
         107063
        ],
        [
         "2023-05-15",
         106321
        ],
        [
         "2023-05-16",
         121022
        ],
        [
         "2023-05-17",
         128335
        ],
        [
         "2023-05-18",
         130268
        ],
        [
         "2023-05-19",
         123821
        ],
        [
         "2023-05-20",
         114318
        ],
        [
         "2023-05-21",
         99994
        ],
        [
         "2023-05-22",
         101252
        ],
        [
         "2023-05-23",
         113234
        ],
        [
         "2023-05-24",
         121856
        ],
        [
         "2023-05-25",
         113646
        ],
        [
         "2023-05-26",
         99465
        ],
        [
         "2023-05-27",
         91491
        ],
        [
         "2023-05-28",
         80842
        ],
        [
         "2023-05-29",
         72860
        ],
        [
         "2023-05-30",
         97582
        ],
        [
         "2023-05-31",
         111521
        ],
        [
         "2023-06-01",
         119475
        ],
        [
         "2023-06-02",
         114656
        ],
        [
         "2023-06-03",
         114630
        ],
        [
         "2023-06-04",
         97787
        ],
        [
         "2023-06-05",
         100674
        ],
        [
         "2023-06-06",
         117879
        ],
        [
         "2023-06-07",
         120161
        ],
        [
         "2023-06-08",
         116242
        ],
        [
         "2023-06-09",
         111528
        ],
        [
         "2023-06-10",
         109060
        ],
        [
         "2023-06-11",
         94560
        ],
        [
         "2023-06-12",
         104125
        ],
        [
         "2023-06-13",
         114520
        ],
        [
         "2023-06-14",
         118866
        ],
        [
         "2023-06-15",
         124099
        ],
        [
         "2023-06-16",
         107427
        ],
        [
         "2023-06-17",
         102775
        ],
        [
         "2023-06-18",
         89761
        ],
        [
         "2023-06-19",
         84137
        ],
        [
         "2023-06-20",
         105438
        ],
        [
         "2023-06-21",
         113073
        ],
        [
         "2023-06-22",
         118060
        ],
        [
         "2023-06-23",
         111000
        ],
        [
         "2023-06-24",
         105921
        ],
        [
         "2023-06-25",
         92106
        ],
        [
         "2023-06-26",
         97431
        ],
        [
         "2023-06-27",
         106297
        ],
        [
         "2023-06-28",
         102005
        ],
        [
         "2023-06-29",
         101406
        ],
        [
         "2023-06-30",
         91996
        ],
        [
         "2023-07-01",
         79428
        ],
        [
         "2023-07-02",
         67173
        ],
        [
         "2023-07-03",
         62910
        ],
        [
         "2023-07-04",
         55468
        ],
        [
         "2023-07-05",
         83097
        ],
        [
         "2023-07-06",
         90835
        ],
        [
         "2023-07-07",
         88196
        ],
        [
         "2023-07-08",
         88903
        ],
        [
         "2023-07-09",
         78360
        ],
        [
         "2023-07-10",
         86920
        ],
        [
         "2023-07-11",
         100999
        ],
        [
         "2023-07-12",
         107500
        ],
        [
         "2023-07-13",
         109725
        ],
        [
         "2023-07-14",
         95622
        ],
        [
         "2023-07-15",
         97517
        ],
        [
         "2023-07-16",
         78502
        ],
        [
         "2023-07-17",
         91010
        ],
        [
         "2023-07-18",
         103394
        ],
        [
         "2023-07-19",
         108056
        ],
        [
         "2023-07-20",
         108274
        ],
        [
         "2023-07-21",
         97162
        ],
        [
         "2023-07-22",
         96428
        ],
        [
         "2023-07-23",
         84461
        ],
        [
         "2023-07-24",
         87678
        ],
        [
         "2023-07-25",
         99496
        ],
        [
         "2023-07-26",
         105764
        ],
        [
         "2023-07-27",
         108940
        ],
        [
         "2023-07-28",
         98737
        ],
        [
         "2023-07-29",
         93678
        ],
        [
         "2023-07-30",
         84835
        ],
        [
         "2023-07-31",
         83533
        ],
        [
         "2023-08-01",
         95373
        ],
        [
         "2023-08-02",
         98665
        ],
        [
         "2023-08-03",
         100106
        ],
        [
         "2023-08-04",
         88927
        ],
        [
         "2023-08-05",
         89791
        ],
        [
         "2023-08-06",
         78817
        ],
        [
         "2023-08-07",
         80467
        ],
        [
         "2023-08-08",
         93124
        ],
        [
         "2023-08-09",
         97497
        ],
        [
         "2023-08-10",
         101200
        ],
        [
         "2023-08-11",
         89288
        ],
        [
         "2023-08-12",
         87182
        ],
        [
         "2023-08-13",
         77579
        ],
        [
         "2023-08-14",
         81559
        ],
        [
         "2023-08-15",
         90672
        ],
        [
         "2023-08-16",
         96987
        ],
        [
         "2023-08-17",
         97249
        ],
        [
         "2023-08-18",
         86543
        ],
        [
         "2023-08-19",
         86861
        ],
        [
         "2023-08-20",
         75808
        ],
        [
         "2023-08-21",
         77846
        ],
        [
         "2023-08-22",
         84341
        ],
        [
         "2023-08-23",
         89715
        ],
        [
         "2023-08-24",
         92544
        ],
        [
         "2023-08-25",
         86056
        ],
        [
         "2023-08-26",
         87641
        ],
        [
         "2023-08-27",
         78831
        ],
        [
         "2023-08-28",
         76301
        ],
        [
         "2023-08-29",
         91176
        ],
        [
         "2023-08-30",
         89248
        ],
        [
         "2023-08-31",
         88427
        ],
        [
         "2023-09-01",
         84231
        ],
        [
         "2023-09-02",
         80126
        ],
        [
         "2023-09-03",
         76024
        ],
        [
         "2023-09-04",
         69925
        ],
        [
         "2023-09-05",
         99555
        ],
        [
         "2023-09-06",
         113987
        ],
        [
         "2023-09-07",
         124051
        ],
        [
         "2023-09-08",
         118395
        ],
        [
         "2023-09-09",
         112112
        ],
        [
         "2023-09-10",
         99792
        ],
        [
         "2023-09-11",
         102732
        ],
        [
         "2023-09-12",
         114340
        ],
        [
         "2023-09-13",
         114350
        ],
        [
         "2023-09-14",
         120560
        ],
        [
         "2023-09-15",
         111587
        ],
        [
         "2023-09-16",
         106059
        ],
        [
         "2023-09-17",
         90233
        ],
        [
         "2023-09-18",
         91436
        ],
        [
         "2023-09-19",
         100023
        ],
        [
         "2023-09-20",
         104000
        ],
        [
         "2023-09-21",
         38296
        ],
        [
         "2023-09-22",
         51
        ],
        [
         "2023-09-23",
         18
        ],
        [
         "2023-09-24",
         115
        ],
        [
         "2023-09-25",
         87083
        ],
        [
         "2023-09-26",
         107629
        ],
        [
         "2023-09-27",
         114017
        ],
        [
         "2023-09-28",
         121081
        ],
        [
         "2023-09-29",
         96104
        ],
        [
         "2023-09-30",
         108050
        ],
        [
         "2023-10-01",
         98080
        ],
        [
         "2023-10-02",
         96651
        ],
        [
         "2023-10-03",
         108757
        ],
        [
         "2023-10-04",
         114330
        ],
        [
         "2023-10-05",
         118235
        ],
        [
         "2023-10-06",
         110405
        ],
        [
         "2023-10-07",
         107393
        ],
        [
         "2023-10-08",
         94250
        ],
        [
         "2023-10-09",
         82449
        ],
        [
         "2023-10-10",
         106337
        ],
        [
         "2023-10-11",
         113973
        ],
        [
         "2023-10-12",
         121453
        ],
        [
         "2023-10-13",
         111713
        ],
        [
         "2023-10-14",
         113995
        ],
        [
         "2023-10-15",
         98723
        ],
        [
         "2023-10-16",
         98139
        ],
        [
         "2023-10-17",
         111376
        ],
        [
         "2023-10-18",
         115768
        ],
        [
         "2023-10-19",
         122304
        ],
        [
         "2023-10-20",
         117912
        ],
        [
         "2023-10-21",
         116836
        ],
        [
         "2023-10-22",
         105604
        ],
        [
         "2023-10-23",
         97025
        ],
        [
         "2023-10-24",
         109578
        ],
        [
         "2023-10-25",
         115867
        ],
        [
         "2023-10-26",
         124367
        ],
        [
         "2023-10-27",
         120657
        ],
        [
         "2023-10-28",
         121444
        ],
        [
         "2023-10-29",
         102293
        ],
        [
         "2023-10-30",
         93903
        ],
        [
         "2023-10-31",
         98331
        ],
        [
         "2023-11-01",
         120965
        ],
        [
         "2023-11-02",
         122867
        ],
        [
         "2023-11-03",
         117924
        ],
        [
         "2023-11-04",
         118213
        ],
        [
         "2023-11-05",
         102427
        ],
        [
         "2023-11-06",
         99272
        ],
        [
         "2023-11-07",
         109269
        ],
        [
         "2023-11-08",
         119657
        ],
        [
         "2023-11-09",
         124112
        ],
        [
         "2023-11-10",
         120985
        ],
        [
         "2023-11-11",
         118328
        ],
        [
         "2023-11-12",
         103876
        ],
        [
         "2023-11-13",
         99737
        ],
        [
         "2023-11-14",
         113621
        ],
        [
         "2023-11-15",
         119993
        ],
        [
         "2023-11-16",
         125989
        ],
        [
         "2023-11-17",
         116998
        ],
        [
         "2023-11-18",
         121926
        ],
        [
         "2023-11-19",
         97578
        ],
        [
         "2023-11-20",
         96018
        ],
        [
         "2023-11-21",
         104625
        ],
        [
         "2023-11-22",
         88177
        ],
        [
         "2023-11-23",
         60316
        ],
        [
         "2023-11-24",
         75477
        ],
        [
         "2023-11-25",
         85955
        ],
        [
         "2023-11-26",
         82613
        ],
        [
         "2023-11-27",
         94118
        ],
        [
         "2023-11-28",
         115739
        ],
        [
         "2023-11-29",
         110440
        ],
        [
         "2023-11-30",
         119406
        ],
        [
         "2023-12-01",
         123562
        ],
        [
         "2023-12-02",
         119482
        ],
        [
         "2023-12-03",
         105292
        ],
        [
         "2023-12-04",
         100284
        ],
        [
         "2023-12-05",
         117944
        ],
        [
         "2023-12-06",
         126602
        ],
        [
         "2023-12-07",
         128827
        ],
        [
         "2023-12-08",
         124234
        ],
        [
         "2023-12-09",
         126514
        ],
        [
         "2023-12-10",
         103211
        ],
        [
         "2023-12-11",
         104153
        ],
        [
         "2023-12-12",
         118936
        ],
        [
         "2023-12-13",
         127374
        ],
        [
         "2023-12-14",
         133219
        ],
        [
         "2023-12-15",
         130243
        ],
        [
         "2023-12-16",
         124009
        ],
        [
         "2023-12-17",
         101238
        ],
        [
         "2023-12-18",
         94640
        ],
        [
         "2023-12-19",
         114036
        ],
        [
         "2023-12-20",
         111643
        ],
        [
         "2023-12-21",
         110625
        ],
        [
         "2023-12-22",
         102076
        ],
        [
         "2023-12-23",
         80471
        ],
        [
         "2023-12-24",
         62820
        ],
        [
         "2023-12-25",
         42608
        ],
        [
         "2023-12-26",
         66590
        ],
        [
         "2023-12-27",
         79051
        ],
        [
         "2023-12-28",
         82211
        ],
        [
         "2023-12-29",
         83791
        ],
        [
         "2023-12-30",
         80402
        ],
        [
         "2023-12-31",
         71249
        ]
       ],
       "datasetInfos": [],
       "dbfsResultPath": null,
       "isJsonSchema": true,
       "metadata": {},
       "overflow": false,
       "plotOptions": {
        "customPlotOptions": {},
        "displayType": "table",
        "pivotAggregation": null,
        "pivotColumns": null,
        "xColumns": null,
        "yColumns": null
       },
       "removedWidgets": [],
       "schema": [
        {
         "metadata": "{}",
         "name": "dropoff_date",
         "type": "\"string\""
        },
        {
         "metadata": "{}",
         "name": "count",
         "type": "\"long\""
        }
       ],
       "type": "table"
      }
     },
     "output_type": "display_data"
    }
   ],
   "source": [
    "# Daily Drop-off Analysis\n",
    "daily_dropoffs = data_processing_df.groupBy(\"dropoff_date\").count().orderBy(\"dropoff_date\")\n",
    "display(daily_dropoffs)\n"
   ]
  },
  {
   "cell_type": "code",
   "execution_count": 0,
   "metadata": {
    "application/vnd.databricks.v1+cell": {
     "cellMetadata": {
      "byteLimit": 2048000,
      "rowLimit": 10000
     },
     "inputWidgets": {},
     "nuid": "b747687e-440c-4547-ac0c-47e2a682bb51",
     "showTitle": false,
     "tableResultSettingsMap": {},
     "title": ""
    }
   },
   "outputs": [],
   "source": [
    "# Renaming columns for better clarity\n",
    "data_processing_df = data_processing_df \\\n",
    "    .withColumnRenamed(\"tpep_pickup_datetime\", \"pickup_datetime\") \\\n",
    "    .withColumnRenamed(\"tpep_dropoff_datetime\", \"dropoff_datetime\")"
   ]
  },
  {
   "cell_type": "code",
   "execution_count": 0,
   "metadata": {
    "application/vnd.databricks.v1+cell": {
     "cellMetadata": {
      "byteLimit": 2048000,
      "rowLimit": 10000
     },
     "inputWidgets": {},
     "nuid": "6af4b90f-eeee-47c4-b58a-1983b0676f07",
     "showTitle": false,
     "tableResultSettingsMap": {},
     "title": ""
    }
   },
   "outputs": [
    {
     "output_type": "stream",
     "name": "stdout",
     "output_type": "stream",
     "text": [
      "root\n |-- pickup_datetime: timestamp (nullable = true)\n |-- dropoff_datetime: timestamp (nullable = true)\n |-- PULocationID: integer (nullable = true)\n |-- DOLocationID: integer (nullable = true)\n |-- passenger_count: integer (nullable = true)\n |-- trip_distance: float (nullable = true)\n |-- payment_type: string (nullable = true)\n |-- fare_amount: float (nullable = true)\n |-- tolls_amount: float (nullable = true)\n |-- improvement_surcharge: float (nullable = true)\n |-- total_amount: float (nullable = true)\n |-- trip_duration: float (nullable = true)\n |-- pickup_day_of_week: integer (nullable = true)\n |-- pickup_hour: integer (nullable = true)\n |-- Month_Num: integer (nullable = true)\n |-- pickup_month: integer (nullable = true)\n |-- dropoff_hour: integer (nullable = true)\n |-- dropoff_day_of_week: integer (nullable = true)\n |-- dropoff_month: integer (nullable = true)\n |-- dropoff_week_of_year: integer (nullable = true)\n |-- pickup_date: string (nullable = true)\n |-- pickup_time: string (nullable = true)\n |-- dropoff_date: string (nullable = true)\n |-- dropoff_time: string (nullable = true)\n\n"
     ]
    }
   ],
   "source": [
    "data_processing_df.printSchema()"
   ]
  },
  {
   "cell_type": "code",
   "execution_count": 0,
   "metadata": {
    "application/vnd.databricks.v1+cell": {
     "cellMetadata": {
      "byteLimit": 2048000,
      "rowLimit": 10000
     },
     "inputWidgets": {},
     "nuid": "5b1f7542-db03-4aa7-b94e-6fe701fa39b6",
     "showTitle": false,
     "tableResultSettingsMap": {},
     "title": ""
    }
   },
   "outputs": [],
   "source": [
    "display(data_processing_df)"
   ]
  },
  {
   "cell_type": "code",
   "execution_count": 0,
   "metadata": {
    "application/vnd.databricks.v1+cell": {
     "cellMetadata": {
      "byteLimit": 2048000,
      "rowLimit": 10000
     },
     "inputWidgets": {},
     "nuid": "ad7fa18b-e7e7-4521-a5d1-57dfde6e08a2",
     "showTitle": false,
     "tableResultSettingsMap": {},
     "title": ""
    }
   },
   "outputs": [
    {
     "output_type": "stream",
     "name": "stdout",
     "output_type": "stream",
     "text": [
      "Shape: (37000275, 24)\n"
     ]
    }
   ],
   "source": [
    "num_rows = data_processing_df.count()\n",
    "num_cols = len(data_processing_df.columns)\n",
    "print(f\"Shape: ({num_rows}, {num_cols})\")"
   ]
  },
  {
   "cell_type": "code",
   "execution_count": 0,
   "metadata": {
    "application/vnd.databricks.v1+cell": {
     "cellMetadata": {
      "byteLimit": 2048000,
      "rowLimit": 10000
     },
     "inputWidgets": {},
     "nuid": "415f7883-1efa-4ddc-a7c8-b5811af05c9c",
     "showTitle": false,
     "tableResultSettingsMap": {},
     "title": ""
    }
   },
   "outputs": [],
   "source": [
    "# Define a more descriptive Delta Lake storage path\n",
    "delta_path = \"/dbfs/FileStore/tables/data_processed_trip_data/\"\n",
    "# Write the DataFrame to Delta format\n",
    "data_processing_df.write.format(\"delta\").mode(\"overwrite\").save(delta_path)"
   ]
  }
 ],
 "metadata": {
  "application/vnd.databricks.v1+notebook": {
   "dashboards": [],
   "environmentMetadata": null,
   "language": "python",
   "notebookMetadata": {
    "pythonIndentUnit": 4
   },
   "notebookName": "02_Data_Processing_trip_data",
   "widgets": {}
  },
  "language_info": {
   "name": "python"
  }
 },
 "nbformat": 4,
 "nbformat_minor": 0
}
